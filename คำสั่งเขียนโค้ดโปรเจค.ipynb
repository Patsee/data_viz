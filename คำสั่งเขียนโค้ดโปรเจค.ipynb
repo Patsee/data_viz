{
  "nbformat": 4,
  "nbformat_minor": 0,
  "metadata": {
    "colab": {
      "name": "คำสั่งเขียนโค้ดโปรเจค",
      "provenance": [],
      "authorship_tag": "ABX9TyMvdeP1jg+W3SCy0dWtsX3W",
      "include_colab_link": true
    },
    "kernelspec": {
      "name": "python3",
      "display_name": "Python 3"
    },
    "language_info": {
      "name": "python"
    }
  },
  "cells": [
    {
      "cell_type": "markdown",
      "metadata": {
        "id": "view-in-github",
        "colab_type": "text"
      },
      "source": [
        "<a href=\"https://colab.research.google.com/github/Patsee/data_viz/blob/main/%E0%B8%84%E0%B8%B3%E0%B8%AA%E0%B8%B1%E0%B9%88%E0%B8%87%E0%B9%80%E0%B8%82%E0%B8%B5%E0%B8%A2%E0%B8%99%E0%B9%82%E0%B8%84%E0%B9%89%E0%B8%94%E0%B9%82%E0%B8%9B%E0%B8%A3%E0%B9%80%E0%B8%88%E0%B8%84.ipynb\" target=\"_parent\"><img src=\"https://colab.research.google.com/assets/colab-badge.svg\" alt=\"Open In Colab\"/></a>"
      ]
    },
    {
      "cell_type": "markdown",
      "source": [
        "###ขั้นตอนในการคลีนข้อมูล"
      ],
      "metadata": {
        "id": "eBtRyQbkDYZL"
      }
    },
    {
      "cell_type": "markdown",
      "source": [
        "ตรวจสอบดูค่า missing ทุกตัวแปร โดยติดตั้งแพ็คเกจ search mdesc\n",
        "*   mdesc"
      ],
      "metadata": {
        "id": "jOaLDsnhXHbT"
      }
    },
    {
      "cell_type": "markdown",
      "source": [
        "#### ส่วนที่สำคัญ\n",
        "\n",
        "1.   รหัสผู้ป่วยที่เข้ารับรักษา \n",
        "2.   วันที่เข้ารับรักษาครั้งแรก\n",
        "3.   ทำการลบรหัสที่ซ้ำมากกว่า 1 ครั้ง แล้วเก็บวันที่เข้ารับครั้งแรก\n",
        "4.   ทำการ drop missing ในตัวแปรโรคหัวใจและหลอดเลือด ค่า missing ทั้งหมด ทำการ drop  ทิ้ง\n"
      ],
      "metadata": {
        "id": "3we4C90pDjUC"
      }
    },
    {
      "cell_type": "markdown",
      "source": [
        "#### โค้ดแรก\n",
        "*    gen dateval =date (variable_date,\"DMY\")\n",
        "*    format  dateval %d\n",
        "*    by  sort variable_HN (dateval) : keep if _n == 1\n",
        "*    drop if missing (variable_CVD)"
      ],
      "metadata": {
        "id": "xnILMPB-7R6D"
      }
    },
    {
      "cell_type": "markdown",
      "source": [
        "#### ส่วนที่ 1 ข้อมูลทั่วไป\n",
        "*   เพศ (int, 1=ชาย,2=หญิง)\n",
        "*   อายุ (int, ดูว่า missing เยอะไหม ถ้าเยอะ แทน missing *ด้วยค่าฐานนิยม*)\n",
        "*   อาชีพ (int, 13 choice ,missing 99 )\n",
        "*   การนับถือศาสนา (int, 5 choice, missing 9)\n",
        "*   สัญชาติ (int, 8 choice, missing 9)\n",
        "*   สิทธิการรักษา (int, 7 choice, missing 9)\n",
        "*   น้ำหนัก (floot, kg, drop missing)\n",
        "*   ส่วนสูง (floot, cm, drop missing)\n",
        "*   รอบเอว (floot, cm/inch, drop missing)\n",
        "\n",
        "\n",
        "\n",
        "\n",
        "\n",
        "\n"
      ],
      "metadata": {
        "id": "Q7pOZTQxDjQ8"
      }
    },
    {
      "cell_type": "markdown",
      "source": [
        "#### โค้ดที่ 2 เกี่ยวกับส่วนที่ 1\n",
        "*   drop if missing(gender)\n",
        "*   la de gendername 0 “male” 1 “female” \n",
        "*   la val gender gendername\n",
        "------------------------------------------------------\n",
        "*   drop if missing(age)/recode age (miss= mean/median/mode)\n",
        "------------------------------------------------------\n",
        "*   drop if missing(occ)/recode occ (miss=99)\n",
        "*   la de occname 0  1  2 3 4 5 6 7 8 9 10 11 12 13\n",
        "*   la val occ occname\n",
        "----------------------------------------------------------\n",
        "*   drop if missing(reli)/recode occ (miss=99)\n",
        "*   la de reliname 0  1  2 3 4 5\n",
        "*   la val reli reliname\n",
        "----------------------------------------------------------\n",
        "*   drop if missing(natio)/recode occ (miss=99)\n",
        "*   la de nationame 0  1  2 3 4 5\n",
        "*   la val natio nationame\n",
        "---------------------------------------------------------\n",
        "\n",
        "---------------------------------------------------------\n",
        "---------------------------------------------------------\n",
        "*   la var dm “Diabetes Millitus” อธิบายตัวแปรโรคเบาหวาน\n",
        "*   drop if missing (dm) หรือ drop if important_variable == .\n",
        "*   tab dm อธิบายค่าความถี่ ร้อยละ ร้อยละสะสม (ดูค่า missing ก็ได้)\n",
        "*   la de gendername 0 “male” 1 “female” \n",
        "*   la val dm ht gendername\n",
        "*   recode dm ht smoke (miss=9) เปลี่ยนกรณีสูญหาย"
      ],
      "metadata": {
        "id": "xkNVZ0fe7jVC"
      }
    },
    {
      "cell_type": "markdown",
      "source": [
        "#### ส่วนที่ 2 ประวัติ การสูบบุหรี่ การดื่มสุรา\n",
        "*   สูบบุหรี่ (int, 4 choice, missing 9)\n",
        "*   การดื่มสุรา (int, 4 choice, if ask 1, 5 choice, missing 9)\n",
        "*   กรณีที่ดื่ม"
      ],
      "metadata": {
        "id": "xh-ELtGTDjN1"
      }
    },
    {
      "cell_type": "markdown",
      "source": [
        "#### โค้ดที่ 3 เกี่ยวกับส่วนที่ 2\n",
        "*   la var dm “Smoking & drink” อธิบายตัวแปรการสูบบุหรี่ การดื่มสุรา\n",
        "*   drop if missing (Smoking) หรือ drop if smoking == .\n",
        "*   tab dm อธิบายค่าความถี่ ร้อยละ ร้อยละสะสม (ดูค่า missing ก็ได้)\n",
        "*   la de **part2name** 0 “ไม่ดื่ม/ไม่สูบ” 1 \"ดื่ม/สูบ\" \n",
        "*   la val Smoking **part2name**\n",
        "*   recode dm ht smoke (miss=9) เปลี่ยนกรณีสูญหาย"
      ],
      "metadata": {
        "id": "GeIRS-sP76Ma"
      }
    },
    {
      "cell_type": "markdown",
      "source": [
        "#### ส่วนที่ 3 โรคร่วมอื่นๆ\n",
        "*   โรคความดันโลหิตสูง (int, 2 choice, missing 9)\n",
        "*   ภาวะไขมันในเลือดสูง (int, 2 choice, missing 9)\n",
        "*   โรคเก๊าส์ (int, 2 choice, missing 9)\n",
        "*   ภาวะไต (int, 2 choice, missing 9)\n",
        "*   microalbuminuria (int, 2 choice, missing 9)\n",
        "*   macroalbuminuria (int, 2 choice, missing 9)\n",
        "*   DKD (int, 2 choice, missing 9)\n",
        "*   DR (int, 2 choice, missing 9)\n",
        "*   โรคร่วมอื่น (int, 2 choice, missing 9)\n",
        "\n"
      ],
      "metadata": {
        "id": "rp86-uZ4J1U9"
      }
    },
    {
      "cell_type": "markdown",
      "source": [
        "\n",
        "*   la de **part3name** 0 “ไม่พบ” 1 “พบ”\n",
        "*   la val **variable** part3name"
      ],
      "metadata": {
        "id": "6ROC-5DTHF9u"
      }
    },
    {
      "cell_type": "markdown",
      "source": [
        "#### ส่วนที่ 4 การใช้ยา \n",
        "* ยารักษาโรคเบาหวาน  (int, 2 choice, missing 9)\n",
        "*   Biguanides (int, 2 choice, missing 9)\n",
        "*   Sulfonylurea (int, 2 choice, missing 9)\n",
        "*   Non – Sulfonylurea (int, 2 choice, missing 9)\n",
        "*   Thiazolidinedione (int, 2 choice, missing 9)\n",
        "*   Alpha – glucosidase Inhibitor (int, 2 choice, missing 9)   \n",
        "*   DPP – 4 Inhibitor (int, 2 choice, missing 9)\n",
        "*   GLP – 1 Analog (int, 2 choice, missing 9)\n",
        "*   Insulin (int, 2 choice, missing 9)\n",
        "*    SGLT2 inhibitor (int, 2 choice, missing 9)\n",
        "*   อื่นๆ โปรดระบ (int, 2 choice, missing 9)\n",
        "-------------------------------------------------------------------------------\n",
        "* ยารักษาโรคความดันโลหิตสูง  (int, 2 choice, missing 9)\n",
        "*   Diuretics (int, 2 choice, missing 9)\n",
        "*   Beta-blocker (int, 2 choice, missing 9)\n",
        "*   Alpha-blocker (int, 2 choice, missing 9)\n",
        "*   Calcium channel blockers (int, 2 choice, missing 9)\n",
        "*   Angiotensin converting enzyme inhibitors (int, 2 choice, missing 9)\n",
        "*    Angiotensin receptor blockers  (int, 2 choice, missing 9)\n",
        "*   Vasodilators (int, 2 choice, missing 9)\n",
        "*   Central agonists  (int, 2 choice, missing 9)\n",
        "*    Peripheral adrenergic inhibitors (int, 2 choice, missing 9)\n",
        "*    อื่นๆ โปรดระบุ (int, 2 choice, missing 9)\n",
        "-------------------------------------------------------------------------------\n",
        "* ยาลดไขมันในเลือด  (int, 2 choice, missing 9)\n",
        "*   Statin (int, 2 choice, missing 9)\n",
        "*   Fibrates (int, 2 choice, missing 9)\n",
        "*   Niacin (int, 2 choice, missing 9)\n",
        "*   อื่นๆ ระบุ (int, 2 choice, missing 9)\n"
      ],
      "metadata": {
        "id": "8A-Ag0lSJ1RZ"
      }
    },
    {
      "cell_type": "markdown",
      "source": [
        "#### ส่วนที่ 5 ประวัติการใช้ยา 12 เดือน\n",
        "*   ผู้ป่วยได้รับยาลดความดันโลหิตในกลุ่ม **ACEI** หรือ **ARB** ในช่วง 12 เดือนที่ผ่านมา (int, 2 choice, missing 9)\n",
        "*   ยา ACEI (int, 2 choice, missing 9)\n",
        "*   ยา ARB (int, 2 choice, missing 9)\n",
        "*   ผู้ป่วยได้รับกลุ่มยาต้านการแข็งตัวของเลือด (int, 2 choice, missing 9)  \n",
        "*   ยา Aspirin 81 mg (int, 2 choice, missing 9)\n",
        "*   ยา Clopidogrel  (int, 2 choice, missing 9)\n",
        "*   ยา Prasugrel  (int, 2 choice, missing 9)\n",
        "*   ยา Ticlopidine (int, 2 choice, missing 9)"
      ],
      "metadata": {
        "id": "fKgg1qPCeQdx"
      }
    },
    {
      "cell_type": "markdown",
      "source": [
        "#### ส่วนที่ 6 ระดับความดันโลหิต จากการมาตรวจรักษาโรคความดันโลหิตสูง/เบาหวาน 3 ครั้ง ล่าสุด ในช่วง 12 เดือนที่ผ่านมา\n",
        "*   ครั้งล่าสุด (floot,mmHg,missing999)\n",
        "*   ครั้งก่อนหน้า (floot,mmHg,missing999)\n",
        "*   2ครั้งก่อนหน้า (floot,mmHg,missing999)\n"
      ],
      "metadata": {
        "id": "njEKpJNdeQba"
      }
    },
    {
      "cell_type": "markdown",
      "source": [
        "#### ส่วนที่ 7 ผลตรวจ ทางห้องปฏิบัติการ ล่าสุด\n",
        "*   ผลตรวจ FPG ครั้งล่าสุด (int, 2 choice, missing 9) ผลตรวจ (int,mg/dL,missing999)\n",
        "*   ผลตรวจ FPG ก่อนหน้าครั้งล่าสุด (int, 2 choice, missing 9) ผลตรวจ (int,mg/dL,missing999)\n",
        "*   ผลตรวจ HbA1c ครั้งล่าสุด (int, 2 choice, missing 9) ผลตรวจ ( int, %)\n",
        "*   ผลตรวจ HbA1c ก่อนหน้าครั้งล่าสุด (int, 2 choice, missing 9) ผลตรวจ ( int, %)\n",
        "*   ผลตรวจ HbA1c 2ครั้งก่อนหน้า (int, 2 choice, missing 9) ผลตรวจ ( int, %)\n",
        "*   ผลตรวจ Hematocrit (int, 2 choice, missing 9) ผลตรวจ ( int, %)\n",
        "*   ผลตรวจ Hemoglobin (int, 2 choice, missing 9) ผลตรวจ ( int, g/dL)\n",
        "*   ผลตรวจ Serum BUN (int, 2 choice, missing 9) ผลตรวจ ( int, mg/dL)\n",
        "*   ผลตรวจ Serum Creatinine ล่าสุด  (int, 2 choice, missing 9) ผลตรวจ ( int, mg/dL)\n",
        "*   ผลตรวจ Estimated GFR ล่าสุด (int, 2 choice, missing 9) ผลตรวจ ( int, ml/minute/1.73m^2)\n",
        "*   ผลตรวจ Serum Creatinine ครั้งแรกในปี 2560 (int, 2 choice, missing 9) ผลตรวจ (int, mg/dL)\n",
        "*   ผลตรวจ Serum Creatinine ครั้งแรกในปี 2559 (int, 2 choice, missing 9) ผลตรวจ (int, mg/dL)\n",
        "*   ผลตรวจ Serum Creatinine ครั้งแรกในปี2558  (int, 2 choice, missing 9) ผลตรวจ (int, mg/dL)\n",
        "*   ผลตรวจ Serum Potassium (int, 2 choice, missing 9) ผลตรวจ (int, mmol/dL) \n",
        "*   ผลตรวจ Serum Uric Acid (int, 2 choice, missing 9) ผลตรวจ (int, mg/dL) \n",
        "*   ผลตรวจ Total Cholesterol (int, 2 choice, missing 9) ผลตรวจ (int, mg/dL) \n",
        "*   ผลตรวจ Triglyceride  (int, 2 choice, missing 9) ผลตรวจ (int, mg/dL) \n",
        "*   ผลตรวจ HDL Cholesterol (int, 2 choice, missing 9) ผลตรวจ (int, mg/dL) \n",
        "*   ผลตรวจ LDL Cholesterol (int, 2 choice, missing 9) ผลตรวจ (int, mg/dL) \n",
        "*   ค่า LDL Cholesterol ที่ตรวจ เป็นแบบใด(int, 3 choice, missing 9)\n",
        "*   คลื่นไฟฟ้าหัวใจ (ECG) (int, 2 choice, missing 9)\n",
        "*  การตรวจหา Albumin หรือ Proteinuria ในปัสสาวะ ในช่วง 12 เดือนที่ผ่านมา( int, 2 choice, missing 9)\n",
        "*   การตรวจ Urine Dipstick ( int, 2 choice, missing 9) ผล ( int, 2 choice)\n",
        "*   การตรวจ Microalbuminuria Dipstick ( int, 2 choice, missing 9) ผล ( int, 2 choice)\n",
        "*  การตรวจ Alb/Cr Ratio กรุณาระบุค่า 3 ครั้งล่าสุด เรียงจากปัจจุบันไปอดีต ใน 6 เดือน ( int, 2 choice, missing 9) ผล ( floot, mg/g)//ช่วง\n",
        "*   การตรวจ Spot Urine Albumin sample ( int, 2 choice, missing 9) ผล ( floot, mg/L)//ช่วง"
      ],
      "metadata": {
        "id": "ih_SCv8JeQZA"
      }
    },
    {
      "cell_type": "markdown",
      "source": [
        "####ส่วนที่ 8 การตรวจตาและช่องปาก ในช่วง 12 เดือนที่ผ่านมา\n",
        "*   ผู้ป่วยได้รับตรวจจอประสาทตาอย่างละเอียดหรือไม่ ( int, 2 choice, missing 9) ตรวจ ( int, 2 choice, missing 9)\n",
        "*   ผู้ป่วยได้รับการตรวจสุขภาพช่องปากโดยทันตแพทย์หรือบุคลากรที่ได้รับการฝึกอบรม\n",
        "โดยเฉพาะหรือไม่ ( int, 2 choice, missing 9) "
      ],
      "metadata": {
        "id": "DlpS8nlEeQWa"
      }
    },
    {
      "cell_type": "markdown",
      "source": [
        "####ส่วนที่ 9 การตรวจสุขภาพเท้า\n",
        "*   ในช่วง 12 เดือนที่ผ่านมา ผู้ป่วยได้รับการตรวจเท้าครบทั้ง 4 รายการ ได้แก่ การสังเกตผิวหนังภายนอก, การสังเกตรูปเท้า,การตรวจปลายประสาทที่เท้า และการคลายชีพจรเท้า หรือไม่ (int, 2 choice, missing 9) \n",
        "*   ในช่วง 12 เดือนที่ผ่านมา ผู้ป่วยหรือญาติได้รับการสอนที่มีรูปแบบการตรวจและดูแลเท้าด้วยตนเองอย่างเป็น\n",
        "ระบบหรือไม่  (int, 2 choice, missing 9) \n",
        "*   ในช่วง 12 เดือนที่ผ่านมา ผู้ป่วยพบแผลที่เท้า เช่น อักเสบ บวมแดง กดเจ็บ น้้ากัดเท้า dry gangrene หรือ DM foot หรือไม่ (int, 2 choice, missing 9) \n",
        "*   ในช่วง 12 เดือนที่ผ่านมา ผู้ป่วยได้รับการตัดนิ้วเท้า เท้า ขา ที่เป็นแผลบ้างหรือไม่ (int, 2 choice, missing 9) ตำแหน่งที่ถูกตัด (int, 2 choice, missing 9) \n",
        "\n",
        "\n"
      ],
      "metadata": {
        "id": "PyQGMt7NeQTZ"
      }
    },
    {
      "cell_type": "markdown",
      "source": [
        "#### ส่วนที่ 10  ภาวะแทรกซ้อนเรื้อรังที่เกิดจากโรคเบาหวานชนิดที่ 2 \n",
        "*   พบภาวะแทรกซ้อนโรคหลอดเลือดสมอง (Cerebrovascular Accident หรือ; CVA) หรือไม่ (int, 2 choice, missing 9) ภาวะแทรกซ้อน  (int, 7 choice, missing 9)\n",
        "*   พบโรคหัวใจและหลอดเลือดหัวใจ หรือไม่  (int, 2 choice, missing 9) ภาวะแทรกซ้อน  (int, 8 choice, missing 9)\n",
        "*   พบโรคหลอดเลือดแดงส่วนปลาย เช่น Peripheral arterial disease (PAD), peripheral angiopathy\n",
        "ulcer, หรือ gangrene หรือไม่  (int, 2 choice, missing 9) \n",
        "*   พบโรคระบบประสาทส่วนปลายจากเบาหวาน หรือไม่  (int, 2 choice, missing 9) \n",
        "*   ในช่วง 12 เดือนที่ผ่านมา ที่ภาวะแทรกซ้อนของโรคเบาหวานแบบเฉียบพลัน หรือไม่ (int, 2 choice, missing 9) \n",
        "*   ภาวะน้ำตาลในเลือดต่ำ (Hypoglycemia) เลือกได้มากกว่า 1 ข้อ ( int, 3 choice, missing 9) \n",
        "*    ภาวะน้ำตาลในเลือดต่ำขั้นรุนแรง (Severe Hypoglycemia) เลือกได้มากกว่า 1 ข้อ( int, 3 choice, missing 9) \n",
        "*   ภาวะน้ำตาลในเลือดสูงแบบ ภาวะเลือดเป็นกรดจากคีโตนจากเบาหวาน Diabetic ketoacidosis; DKA\n",
        "เลือกได้มากกว่า 1 ข้อ ( int, 3 choice, missing 9) \n",
        "*   ภาวะน้ำตาลในเลือดสูงแบบ Hyperosmolar Hyperglycemic Non-ketotic Syndrome; HHNS\n",
        "เลือกได้มากกว่า 1 ข้อ ( int, 3 choice, missing 9) \n",
        "*   ภาวะน้ำตาลในเลือดสูง (Hyperglycemia) ที่ได้รับการรักษาไม่วินิจฉัยระบุว่าเป็นแบบใด ( int, 3 choice, missing 9) \n",
        "\n",
        "\n"
      ],
      "metadata": {
        "id": "qiGYV-EReQQf"
      }
    }
  ]
}