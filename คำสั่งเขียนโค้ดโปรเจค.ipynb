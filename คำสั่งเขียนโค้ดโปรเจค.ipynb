{
  "nbformat": 4,
  "nbformat_minor": 0,
  "metadata": {
    "colab": {
      "name": "คำสั่งเขียนโค้ดโปรเจค",
      "provenance": [],
      "authorship_tag": "ABX9TyMg2hN8GACg1u7yRvStWOU/",
      "include_colab_link": true
    },
    "kernelspec": {
      "name": "python3",
      "display_name": "Python 3"
    },
    "language_info": {
      "name": "python"
    }
  },
  "cells": [
    {
      "cell_type": "markdown",
      "metadata": {
        "id": "view-in-github",
        "colab_type": "text"
      },
      "source": [
        "<a href=\"https://colab.research.google.com/github/Patsee/data_viz/blob/main/%E0%B8%84%E0%B8%B3%E0%B8%AA%E0%B8%B1%E0%B9%88%E0%B8%87%E0%B9%80%E0%B8%82%E0%B8%B5%E0%B8%A2%E0%B8%99%E0%B9%82%E0%B8%84%E0%B9%89%E0%B8%94%E0%B9%82%E0%B8%9B%E0%B8%A3%E0%B9%80%E0%B8%88%E0%B8%84.ipynb\" target=\"_parent\"><img src=\"https://colab.research.google.com/assets/colab-badge.svg\" alt=\"Open In Colab\"/></a>"
      ]
    },
    {
      "cell_type": "markdown",
      "source": [
        "###ขั้นตอนในการคลีนข้อมูล"
      ],
      "metadata": {
        "id": "eBtRyQbkDYZL"
      }
    },
    {
      "cell_type": "markdown",
      "source": [
        "#### ส่วนที่สำคัญ\n",
        "\n",
        "1.   รหัสผู้ป่วยที่เข้ารับรักษา \n",
        "2.   วันที่เข้ารับรักษาครั้งแรก\n",
        "3.   ทำการลบรหัสที่ซ้ำมากกว่า 1 ครั้ง แล้วเก็บวันที่เข้ารับครั้งแรก\n",
        "4.   ทำการ drop missing ในตัวแปรโรคหัวใจและหลอดเลือด ค่า missing ทั้งหมด ทำการ drop  ทิ้ง\n"
      ],
      "metadata": {
        "id": "3we4C90pDjUC"
      }
    },
    {
      "cell_type": "markdown",
      "source": [
        "#### ส่วนที่ 1 ข้อมูลทั่วไป\n",
        "*   เพศ (int, 1=ชาย,2=หญิง)\n",
        "*   อายุ (int, ดูว่า missing เยอะไหม ถ้าเยอะ แทน missing *ด้วยค่าฐานนิยม*)\n",
        "*   อาชีพ (int, 13 choice ,missing 99 )\n",
        "*   การนับถือศาสนา (int, 5 choice, missing 9)\n",
        "*   สัญชาติ (int, 8 choice, missing 9)\n",
        "*   สิทธิการรักษา (int, 7 choice, missing 9)\n",
        "*   น้ำหนัก (floot, kg, drop missing)\n",
        "*   ส่วนสูง (floot, cm, drop missing)\n",
        "*   รอบเอว (floot, cm/inch, drop missing)\n",
        "\n",
        "\n",
        "\n",
        "\n",
        "\n",
        "\n"
      ],
      "metadata": {
        "id": "Q7pOZTQxDjQ8"
      }
    },
    {
      "cell_type": "markdown",
      "source": [
        "#### ส่วนที่ 2 ประวัติ การสูบบุหรี่ การดื่มสุรา\n",
        "*   สูบบุหรี่ (int, 4 choice, missing 9)\n",
        "*   การดื่มสุรา (int, 4 choice, if ask 1, 5 choice, missing 9)"
      ],
      "metadata": {
        "id": "xh-ELtGTDjN1"
      }
    },
    {
      "cell_type": "markdown",
      "source": [
        "#### ส่วนที่ 3 โรคร่วมอื่นๆ\n",
        "*   โรคความดันโลหิตสูง (int, 2 choice, missing 9)\n",
        "*   ภาวะไขมันในเลือดสูง (int, 2 choice, missing 9)\n",
        "*   โรคเก๊าส์ (int, 2 choice, missing 9)\n",
        "*   ภาวะไต (int, 2 choice, missing 9)\n",
        "*   microalbuminuria (int, 2 choice, missing 9)\n",
        "*   macroalbuminuria (int, 2 choice, missing 9)\n",
        "*   DKD (int, 2 choice, missing 9)\n",
        "*   DR (int, 2 choice, missing 9)\n",
        "*   โรคร่วมอื่น (int, 2 choice, missing 9)\n",
        "\n"
      ],
      "metadata": {
        "id": "rp86-uZ4J1U9"
      }
    },
    {
      "cell_type": "markdown",
      "source": [
        "#### ส่วนที่ 4 การใช้ยา \n",
        "* ยารักษาโรคเบาหวาน  (int, 2 choice, missing 9)\n",
        "* ยา........ ทั้งหมด 10 ยา (int, 2 choice, missing 9)\n",
        "-------------------------------------------------------------------------------\n",
        "* ยารักษาโรคความดันโลหิตสูง  (int, 2 choice, missing 9)\n",
        "* ยา........ ทั้งหมด 10 ยา (int, 2 choice, missing 9)\n",
        "-------------------------------------------------------------------------------\n",
        "* ยาลดไขมันในเลือด  (int, 2 choice, missing 9)\n",
        "* ยา........ ทั้งหมด 4 ยา (int, 2 choice, missing 9)"
      ],
      "metadata": {
        "id": "8A-Ag0lSJ1RZ"
      }
    },
    {
      "cell_type": "markdown",
      "source": [
        ""
      ],
      "metadata": {
        "id": "MrLNeJM1J1QL"
      }
    },
    {
      "cell_type": "markdown",
      "source": [
        ""
      ],
      "metadata": {
        "id": "oN-T8dTIJ1Mh"
      }
    },
    {
      "cell_type": "markdown",
      "source": [
        ""
      ],
      "metadata": {
        "id": "VzZXtXKJJ1He"
      }
    },
    {
      "cell_type": "markdown",
      "source": [
        ""
      ],
      "metadata": {
        "id": "ydAELurEJ09j"
      }
    },
    {
      "cell_type": "markdown",
      "source": [
        ""
      ],
      "metadata": {
        "id": "C0jFYPCJJ0zG"
      }
    },
    {
      "cell_type": "markdown",
      "source": [
        ""
      ],
      "metadata": {
        "id": "x4N8eNjODi-K"
      }
    },
    {
      "cell_type": "code",
      "execution_count": null,
      "metadata": {
        "id": "NsGJErwPDVvp"
      },
      "outputs": [],
      "source": [
        ""
      ]
    }
  ]
}