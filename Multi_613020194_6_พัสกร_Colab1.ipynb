{
  "nbformat": 4,
  "nbformat_minor": 0,
  "metadata": {
    "colab": {
      "name": "Multi_613020194-6_พัสกร_Colab1.ipynb",
      "provenance": [],
      "collapsed_sections": [],
      "authorship_tag": "ABX9TyOQS4MCDP1nM5WKKpxKg2jd",
      "include_colab_link": true
    },
    "kernelspec": {
      "name": "ir",
      "display_name": "R"
    },
    "language_info": {
      "name": "R"
    }
  },
  "cells": [
    {
      "cell_type": "markdown",
      "metadata": {
        "id": "view-in-github",
        "colab_type": "text"
      },
      "source": [
        "<a href=\"https://colab.research.google.com/github/Patsee/data_viz/blob/main/Multi_613020194_6_%E0%B8%9E%E0%B8%B1%E0%B8%AA%E0%B8%81%E0%B8%A3_Colab1.ipynb\" target=\"_parent\"><img src=\"https://colab.research.google.com/assets/colab-badge.svg\" alt=\"Open In Colab\"/></a>"
      ]
    },
    {
      "cell_type": "code",
      "metadata": {
        "colab": {
          "base_uri": "https://localhost:8080/"
        },
        "id": "AXgbJLO8SDpY",
        "outputId": "a0b80992-7558-4ccf-bc32-b75481cf7594"
      },
      "source": [
        "x1 = matrix(c(2,3,7,4),4,1)\n",
        "print(x1)"
      ],
      "execution_count": 1,
      "outputs": [
        {
          "output_type": "stream",
          "text": [
            "     [,1]\n",
            "[1,]    2\n",
            "[2,]    3\n",
            "[3,]    7\n",
            "[4,]    4\n"
          ],
          "name": "stdout"
        }
      ]
    },
    {
      "cell_type": "code",
      "metadata": {
        "colab": {
          "base_uri": "https://localhost:8080/"
        },
        "id": "R7a2er2LSHnu",
        "outputId": "3ab1c9f7-a6c4-4672-c213-cc8a24d65fa8"
      },
      "source": [
        "x2 = matrix(c(42,52,48,58,4,5,4,5),4,2)\n",
        "print(x2)"
      ],
      "execution_count": 2,
      "outputs": [
        {
          "output_type": "stream",
          "text": [
            "     [,1] [,2]\n",
            "[1,]   42    4\n",
            "[2,]   52    5\n",
            "[3,]   48    4\n",
            "[4,]   58    5\n"
          ],
          "name": "stdout"
        }
      ]
    },
    {
      "cell_type": "code",
      "metadata": {
        "colab": {
          "base_uri": "https://localhost:8080/"
        },
        "id": "6jnX1XFNSZ-e",
        "outputId": "1f3ec7d0-1f6a-4b06-994b-23a16f23a76e"
      },
      "source": [
        "print(4*x1)\n",
        "print(4*x2)"
      ],
      "execution_count": 3,
      "outputs": [
        {
          "output_type": "stream",
          "text": [
            "     [,1]\n",
            "[1,]    8\n",
            "[2,]   12\n",
            "[3,]   28\n",
            "[4,]   16\n",
            "     [,1] [,2]\n",
            "[1,]  168   16\n",
            "[2,]  208   20\n",
            "[3,]  192   16\n",
            "[4,]  232   20\n"
          ],
          "name": "stdout"
        }
      ]
    },
    {
      "cell_type": "code",
      "metadata": {
        "id": "D0U3oRyuTXLX",
        "colab": {
          "base_uri": "https://localhost:8080/"
        },
        "outputId": "76cb7c38-7425-4e76-eadf-44d62478b127"
      },
      "source": [
        "y = matrix(c(2,-6,7,3),4,1)\n",
        "print(y)"
      ],
      "execution_count": 4,
      "outputs": [
        {
          "output_type": "stream",
          "text": [
            "     [,1]\n",
            "[1,]    2\n",
            "[2,]   -6\n",
            "[3,]    7\n",
            "[4,]    3\n"
          ],
          "name": "stdout"
        }
      ]
    },
    {
      "cell_type": "code",
      "metadata": {
        "colab": {
          "base_uri": "https://localhost:8080/"
        },
        "id": "3g7_CGDWjSH_",
        "outputId": "71cc97df-f655-472e-e4c6-f3fee91d74b8"
      },
      "source": [
        "print(x1+y)"
      ],
      "execution_count": 5,
      "outputs": [
        {
          "output_type": "stream",
          "text": [
            "     [,1]\n",
            "[1,]    4\n",
            "[2,]   -3\n",
            "[3,]   14\n",
            "[4,]    7\n"
          ],
          "name": "stdout"
        }
      ]
    },
    {
      "cell_type": "code",
      "metadata": {
        "colab": {
          "base_uri": "https://localhost:8080/"
        },
        "id": "wXVSzBSfjXaU",
        "outputId": "2dda2cd5-d6a1-4329-fa6c-ef689d28d4ab"
      },
      "source": [
        "A = matrix(c(3,1,-1,5,2,4),2,3)\n",
        "print(A)"
      ],
      "execution_count": 6,
      "outputs": [
        {
          "output_type": "stream",
          "text": [
            "     [,1] [,2] [,3]\n",
            "[1,]    3   -1    2\n",
            "[2,]    1    5    4\n"
          ],
          "name": "stdout"
        }
      ]
    },
    {
      "cell_type": "code",
      "metadata": {
        "colab": {
          "base_uri": "https://localhost:8080/"
        },
        "id": "h47EFzB-joIs",
        "outputId": "78d73f93-a57c-47c2-f887-c1dc5c4bce7b"
      },
      "source": [
        "B = matrix(c(1,4,2,5,3,6),2,3)\n",
        "print(B)"
      ],
      "execution_count": 7,
      "outputs": [
        {
          "output_type": "stream",
          "text": [
            "     [,1] [,2] [,3]\n",
            "[1,]    1    2    3\n",
            "[2,]    4    5    6\n"
          ],
          "name": "stdout"
        }
      ]
    },
    {
      "cell_type": "code",
      "metadata": {
        "colab": {
          "base_uri": "https://localhost:8080/"
        },
        "id": "I2UQJB_ZkTmU",
        "outputId": "76d77ebe-e36f-424c-817c-7a041d17f5fe"
      },
      "source": [
        "C = matrix(c(1,2,-1,2,1,2),3,2)\n",
        "print(C)"
      ],
      "execution_count": 8,
      "outputs": [
        {
          "output_type": "stream",
          "text": [
            "     [,1] [,2]\n",
            "[1,]    1    2\n",
            "[2,]    2    1\n",
            "[3,]   -1    2\n"
          ],
          "name": "stdout"
        }
      ]
    },
    {
      "cell_type": "code",
      "metadata": {
        "colab": {
          "base_uri": "https://localhost:8080/"
        },
        "id": "EdKZwzLHkc6X",
        "outputId": "f1561cc5-0e94-40ce-8761-02825d35b628"
      },
      "source": [
        "print(A*B)"
      ],
      "execution_count": 9,
      "outputs": [
        {
          "output_type": "stream",
          "text": [
            "     [,1] [,2] [,3]\n",
            "[1,]    3   -2    6\n",
            "[2,]    4   25   24\n"
          ],
          "name": "stdout"
        }
      ]
    },
    {
      "cell_type": "code",
      "metadata": {
        "id": "tY4X3zeIlZBS",
        "colab": {
          "base_uri": "https://localhost:8080/"
        },
        "outputId": "ae2b0cc0-c2cf-45cc-8c5a-1ae8a738136c"
      },
      "source": [
        "print(B%*%C)"
      ],
      "execution_count": 10,
      "outputs": [
        {
          "output_type": "stream",
          "text": [
            "     [,1] [,2]\n",
            "[1,]    2   10\n",
            "[2,]    8   25\n"
          ],
          "name": "stdout"
        }
      ]
    },
    {
      "cell_type": "code",
      "metadata": {
        "colab": {
          "base_uri": "https://localhost:8080/",
          "height": 195
        },
        "id": "VjKvHxsm30d4",
        "outputId": "fa02851c-d2f5-4a19-f9d9-e5b5325094c8"
      },
      "source": [
        "t(A) # Transpose A"
      ],
      "execution_count": 14,
      "outputs": [
        {
          "output_type": "display_data",
          "data": {
            "text/plain": [
              "     [,1] [,2]\n",
              "[1,]  3   1   \n",
              "[2,] -1   5   \n",
              "[3,]  2   4   "
            ],
            "text/latex": "A matrix: 3 × 2 of type dbl\n\\begin{tabular}{ll}\n\t  3 & 1\\\\\n\t -1 & 5\\\\\n\t  2 & 4\\\\\n\\end{tabular}\n",
            "text/markdown": "\nA matrix: 3 × 2 of type dbl\n\n|  3 | 1 |\n| -1 | 5 |\n|  2 | 4 |\n\n",
            "text/html": [
              "<table class=\"dataframe\">\n",
              "<caption>A matrix: 3 × 2 of type dbl</caption>\n",
              "<tbody>\n",
              "\t<tr><td> 3</td><td>1</td></tr>\n",
              "\t<tr><td>-1</td><td>5</td></tr>\n",
              "\t<tr><td> 2</td><td>4</td></tr>\n",
              "</tbody>\n",
              "</table>\n"
            ]
          },
          "metadata": {
            "tags": []
          }
        }
      ]
    },
    {
      "cell_type": "code",
      "metadata": {
        "id": "Ur1rcR_c5Rlp"
      },
      "source": [
        ""
      ],
      "execution_count": null,
      "outputs": []
    }
  ]
}