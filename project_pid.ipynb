{
  "nbformat": 4,
  "nbformat_minor": 0,
  "metadata": {
    "colab": {
      "name": "project_pid",
      "provenance": [],
      "collapsed_sections": [],
      "authorship_tag": "ABX9TyNmBvniZ9kbJsIefkvVXay0",
      "include_colab_link": true
    },
    "kernelspec": {
      "name": "python3",
      "display_name": "Python 3"
    },
    "language_info": {
      "name": "python"
    }
  },
  "cells": [
    {
      "cell_type": "markdown",
      "metadata": {
        "id": "view-in-github",
        "colab_type": "text"
      },
      "source": [
        "<a href=\"https://colab.research.google.com/github/Patsee/data_viz/blob/main/project_pid.ipynb\" target=\"_parent\"><img src=\"https://colab.research.google.com/assets/colab-badge.svg\" alt=\"Open In Colab\"/></a>"
      ]
    },
    {
      "cell_type": "code",
      "metadata": {
        "id": "tvZtBc1ncHYF"
      },
      "source": [
        "import pandas as pd"
      ],
      "execution_count": 72,
      "outputs": []
    },
    {
      "cell_type": "code",
      "metadata": {
        "colab": {
          "base_uri": "https://localhost:8080/"
        },
        "id": "8K0sFoRxeVmv",
        "outputId": "7ba79c96-c5b4-4d60-baaf-1f1be1fd950a"
      },
      "source": [
        "from google.colab import drive\n",
        "drive.mount('/content/drive')"
      ],
      "execution_count": 73,
      "outputs": [
        {
          "output_type": "stream",
          "name": "stdout",
          "text": [
            "Drive already mounted at /content/drive; to attempt to forcibly remount, call drive.mount(\"/content/drive\", force_remount=True).\n"
          ]
        }
      ]
    },
    {
      "cell_type": "code",
      "metadata": {
        "id": "GV6vn1P7e0Yd"
      },
      "source": [
        "import os \n",
        "path = '/content/drive/My Drive/DATA'"
      ],
      "execution_count": 74,
      "outputs": []
    },
    {
      "cell_type": "code",
      "metadata": {
        "id": "_bVPt7Uc2X5L"
      },
      "source": [
        ""
      ],
      "execution_count": null,
      "outputs": []
    },
    {
      "cell_type": "code",
      "metadata": {
        "colab": {
          "base_uri": "https://localhost:8080/",
          "height": 200
        },
        "id": "s_Qz482Qe7D2",
        "outputId": "8c0292b1-1231-4b28-8a6d-5bb458dc6931"
      },
      "source": [
        "data = pd.read_csv('/content/drive/My Drive/DATA/Data11.csv')\n",
        "data.head()"
      ],
      "execution_count": 76,
      "outputs": [
        {
          "output_type": "execute_result",
          "data": {
            "text/html": [
              "<div>\n",
              "<style scoped>\n",
              "    .dataframe tbody tr th:only-of-type {\n",
              "        vertical-align: middle;\n",
              "    }\n",
              "\n",
              "    .dataframe tbody tr th {\n",
              "        vertical-align: top;\n",
              "    }\n",
              "\n",
              "    .dataframe thead th {\n",
              "        text-align: right;\n",
              "    }\n",
              "</style>\n",
              "<table border=\"1\" class=\"dataframe\">\n",
              "  <thead>\n",
              "    <tr style=\"text-align: right;\">\n",
              "      <th></th>\n",
              "      <th>รหัส 9 หลัก</th>\n",
              "      <th>ชื่อ</th>\n",
              "      <th>ประเภทหน่วยงาน</th>\n",
              "      <th>กระทรวง</th>\n",
              "      <th>PID</th>\n",
              "      <th>ระดับบริการ</th>\n",
              "    </tr>\n",
              "  </thead>\n",
              "  <tbody>\n",
              "    <tr>\n",
              "      <th>0</th>\n",
              "      <td>1385100</td>\n",
              "      <td>โรงพยาบาลส่งเสริมสุขภาพตำบลเมืองแก</td>\n",
              "      <td>18-โรงพยาบาลส่งเสริมสุขภาพตำบล</td>\n",
              "      <td>21000-กระทรวงสาธารณสุข</td>\n",
              "      <td>13851</td>\n",
              "      <td>10-1 ปฐมภูมิ</td>\n",
              "    </tr>\n",
              "    <tr>\n",
              "      <th>1</th>\n",
              "      <td>749600</td>\n",
              "      <td>โรงพยาบาลส่งเสริมสุขภาพตำบลไผ่ขอดอน</td>\n",
              "      <td>18-โรงพยาบาลส่งเสริมสุขภาพตำบล</td>\n",
              "      <td>21000-กระทรวงสาธารณสุข</td>\n",
              "      <td>7496</td>\n",
              "      <td>10-1 ปฐมภูมิ</td>\n",
              "    </tr>\n",
              "    <tr>\n",
              "      <th>2</th>\n",
              "      <td>710900</td>\n",
              "      <td>โรงพยาบาลส่งเสริมสุขภาพตำบลเขากวางทอง</td>\n",
              "      <td>18-โรงพยาบาลส่งเสริมสุขภาพตำบล</td>\n",
              "      <td>21000-กระทรวงสาธารณสุข</td>\n",
              "      <td>7109</td>\n",
              "      <td>10-1 ปฐมภูมิ</td>\n",
              "    </tr>\n",
              "    <tr>\n",
              "      <th>3</th>\n",
              "      <td>736600</td>\n",
              "      <td>โรงพยาบาลส่งเสริมสุขภาพตำบลแม่จัน</td>\n",
              "      <td>18-โรงพยาบาลส่งเสริมสุขภาพตำบล</td>\n",
              "      <td>21000-กระทรวงสาธารณสุข</td>\n",
              "      <td>7366</td>\n",
              "      <td>10-1 ปฐมภูมิ</td>\n",
              "    </tr>\n",
              "    <tr>\n",
              "      <th>4</th>\n",
              "      <td>660400</td>\n",
              "      <td>โรงพยาบาลส่งเสริมสุขภาพตำบลดอกคำใต้</td>\n",
              "      <td>18-โรงพยาบาลส่งเสริมสุขภาพตำบล</td>\n",
              "      <td>21000-กระทรวงสาธารณสุข</td>\n",
              "      <td>6604</td>\n",
              "      <td>10-1 ปฐมภูมิ</td>\n",
              "    </tr>\n",
              "  </tbody>\n",
              "</table>\n",
              "</div>"
            ],
            "text/plain": [
              "   รหัส 9 หลัก                                    ชื่อ  ...    PID   ระดับบริการ\n",
              "0       1385100     โรงพยาบาลส่งเสริมสุขภาพตำบลเมืองแก  ...  13851  10-1 ปฐมภูมิ\n",
              "1        749600    โรงพยาบาลส่งเสริมสุขภาพตำบลไผ่ขอดอน  ...   7496  10-1 ปฐมภูมิ\n",
              "2        710900  โรงพยาบาลส่งเสริมสุขภาพตำบลเขากวางทอง  ...   7109  10-1 ปฐมภูมิ\n",
              "3        736600      โรงพยาบาลส่งเสริมสุขภาพตำบลแม่จัน  ...   7366  10-1 ปฐมภูมิ\n",
              "4        660400    โรงพยาบาลส่งเสริมสุขภาพตำบลดอกคำใต้  ...   6604  10-1 ปฐมภูมิ\n",
              "\n",
              "[5 rows x 6 columns]"
            ]
          },
          "metadata": {},
          "execution_count": 76
        }
      ]
    },
    {
      "cell_type": "code",
      "metadata": {
        "colab": {
          "base_uri": "https://localhost:8080/",
          "height": 200
        },
        "id": "LIQNoivdfPM-",
        "outputId": "2032aa9a-bcaa-4913-cd4a-dd5301a615ed"
      },
      "source": [
        "data1 = pd.read_csv('/content/drive/My Drive/DATA/data.csv')\n",
        "data1.head()"
      ],
      "execution_count": 77,
      "outputs": [
        {
          "output_type": "execute_result",
          "data": {
            "text/html": [
              "<div>\n",
              "<style scoped>\n",
              "    .dataframe tbody tr th:only-of-type {\n",
              "        vertical-align: middle;\n",
              "    }\n",
              "\n",
              "    .dataframe tbody tr th {\n",
              "        vertical-align: top;\n",
              "    }\n",
              "\n",
              "    .dataframe thead th {\n",
              "        text-align: right;\n",
              "    }\n",
              "</style>\n",
              "<table border=\"1\" class=\"dataframe\">\n",
              "  <thead>\n",
              "    <tr style=\"text-align: right;\">\n",
              "      <th></th>\n",
              "      <th>รหัส 9 หลัก</th>\n",
              "      <th>ประเภทหน่วยงาน</th>\n",
              "      <th>pid</th>\n",
              "      <th>ระดับบริการสุขภาพ</th>\n",
              "    </tr>\n",
              "  </thead>\n",
              "  <tbody>\n",
              "    <tr>\n",
              "      <th>0</th>\n",
              "      <td>379800</td>\n",
              "      <td>โรงพยาบาลส่งเสริมสุขภาพตำบล</td>\n",
              "      <td>3798</td>\n",
              "      <td>A</td>\n",
              "    </tr>\n",
              "    <tr>\n",
              "      <th>1</th>\n",
              "      <td>142200</td>\n",
              "      <td>โรงพยาบาลส่งเสริมสุขภาพตำบล</td>\n",
              "      <td>1422</td>\n",
              "      <td>A</td>\n",
              "    </tr>\n",
              "    <tr>\n",
              "      <th>2</th>\n",
              "      <td>160600</td>\n",
              "      <td>โรงพยาบาลส่งเสริมสุขภาพตำบล</td>\n",
              "      <td>1606</td>\n",
              "      <td>A</td>\n",
              "    </tr>\n",
              "    <tr>\n",
              "      <th>3</th>\n",
              "      <td>174700</td>\n",
              "      <td>โรงพยาบาลส่งเสริมสุขภาพตำบล</td>\n",
              "      <td>1747</td>\n",
              "      <td>A</td>\n",
              "    </tr>\n",
              "    <tr>\n",
              "      <th>4</th>\n",
              "      <td>982100</td>\n",
              "      <td>โรงพยาบาลส่งเสริมสุขภาพตำบล</td>\n",
              "      <td>9821</td>\n",
              "      <td>A</td>\n",
              "    </tr>\n",
              "  </tbody>\n",
              "</table>\n",
              "</div>"
            ],
            "text/plain": [
              "   รหัส 9 หลัก                ประเภทหน่วยงาน   pid ระดับบริการสุขภาพ\n",
              "0        379800  โรงพยาบาลส่งเสริมสุขภาพตำบล  3798                 A\n",
              "1        142200  โรงพยาบาลส่งเสริมสุขภาพตำบล  1422                 A\n",
              "2        160600  โรงพยาบาลส่งเสริมสุขภาพตำบล  1606                 A\n",
              "3        174700  โรงพยาบาลส่งเสริมสุขภาพตำบล  1747                 A\n",
              "4        982100  โรงพยาบาลส่งเสริมสุขภาพตำบล  9821                 A"
            ]
          },
          "metadata": {},
          "execution_count": 77
        }
      ]
    },
    {
      "cell_type": "code",
      "metadata": {
        "colab": {
          "base_uri": "https://localhost:8080/",
          "height": 200
        },
        "id": "a-Cay6SPh2WU",
        "outputId": "3101ee0b-2b78-409e-d897-057f4c297f2a"
      },
      "source": [
        "data_renamed = data.rename(columns={'รหัส 5 หลัก.': 'PID'})\n",
        "data_renamed .head()"
      ],
      "execution_count": 78,
      "outputs": [
        {
          "output_type": "execute_result",
          "data": {
            "text/html": [
              "<div>\n",
              "<style scoped>\n",
              "    .dataframe tbody tr th:only-of-type {\n",
              "        vertical-align: middle;\n",
              "    }\n",
              "\n",
              "    .dataframe tbody tr th {\n",
              "        vertical-align: top;\n",
              "    }\n",
              "\n",
              "    .dataframe thead th {\n",
              "        text-align: right;\n",
              "    }\n",
              "</style>\n",
              "<table border=\"1\" class=\"dataframe\">\n",
              "  <thead>\n",
              "    <tr style=\"text-align: right;\">\n",
              "      <th></th>\n",
              "      <th>รหัส 9 หลัก</th>\n",
              "      <th>ชื่อ</th>\n",
              "      <th>ประเภทหน่วยงาน</th>\n",
              "      <th>กระทรวง</th>\n",
              "      <th>PID</th>\n",
              "      <th>ระดับบริการ</th>\n",
              "    </tr>\n",
              "  </thead>\n",
              "  <tbody>\n",
              "    <tr>\n",
              "      <th>0</th>\n",
              "      <td>1385100</td>\n",
              "      <td>โรงพยาบาลส่งเสริมสุขภาพตำบลเมืองแก</td>\n",
              "      <td>18-โรงพยาบาลส่งเสริมสุขภาพตำบล</td>\n",
              "      <td>21000-กระทรวงสาธารณสุข</td>\n",
              "      <td>13851</td>\n",
              "      <td>10-1 ปฐมภูมิ</td>\n",
              "    </tr>\n",
              "    <tr>\n",
              "      <th>1</th>\n",
              "      <td>749600</td>\n",
              "      <td>โรงพยาบาลส่งเสริมสุขภาพตำบลไผ่ขอดอน</td>\n",
              "      <td>18-โรงพยาบาลส่งเสริมสุขภาพตำบล</td>\n",
              "      <td>21000-กระทรวงสาธารณสุข</td>\n",
              "      <td>7496</td>\n",
              "      <td>10-1 ปฐมภูมิ</td>\n",
              "    </tr>\n",
              "    <tr>\n",
              "      <th>2</th>\n",
              "      <td>710900</td>\n",
              "      <td>โรงพยาบาลส่งเสริมสุขภาพตำบลเขากวางทอง</td>\n",
              "      <td>18-โรงพยาบาลส่งเสริมสุขภาพตำบล</td>\n",
              "      <td>21000-กระทรวงสาธารณสุข</td>\n",
              "      <td>7109</td>\n",
              "      <td>10-1 ปฐมภูมิ</td>\n",
              "    </tr>\n",
              "    <tr>\n",
              "      <th>3</th>\n",
              "      <td>736600</td>\n",
              "      <td>โรงพยาบาลส่งเสริมสุขภาพตำบลแม่จัน</td>\n",
              "      <td>18-โรงพยาบาลส่งเสริมสุขภาพตำบล</td>\n",
              "      <td>21000-กระทรวงสาธารณสุข</td>\n",
              "      <td>7366</td>\n",
              "      <td>10-1 ปฐมภูมิ</td>\n",
              "    </tr>\n",
              "    <tr>\n",
              "      <th>4</th>\n",
              "      <td>660400</td>\n",
              "      <td>โรงพยาบาลส่งเสริมสุขภาพตำบลดอกคำใต้</td>\n",
              "      <td>18-โรงพยาบาลส่งเสริมสุขภาพตำบล</td>\n",
              "      <td>21000-กระทรวงสาธารณสุข</td>\n",
              "      <td>6604</td>\n",
              "      <td>10-1 ปฐมภูมิ</td>\n",
              "    </tr>\n",
              "  </tbody>\n",
              "</table>\n",
              "</div>"
            ],
            "text/plain": [
              "   รหัส 9 หลัก                                    ชื่อ  ...    PID   ระดับบริการ\n",
              "0       1385100     โรงพยาบาลส่งเสริมสุขภาพตำบลเมืองแก  ...  13851  10-1 ปฐมภูมิ\n",
              "1        749600    โรงพยาบาลส่งเสริมสุขภาพตำบลไผ่ขอดอน  ...   7496  10-1 ปฐมภูมิ\n",
              "2        710900  โรงพยาบาลส่งเสริมสุขภาพตำบลเขากวางทอง  ...   7109  10-1 ปฐมภูมิ\n",
              "3        736600      โรงพยาบาลส่งเสริมสุขภาพตำบลแม่จัน  ...   7366  10-1 ปฐมภูมิ\n",
              "4        660400    โรงพยาบาลส่งเสริมสุขภาพตำบลดอกคำใต้  ...   6604  10-1 ปฐมภูมิ\n",
              "\n",
              "[5 rows x 6 columns]"
            ]
          },
          "metadata": {},
          "execution_count": 78
        }
      ]
    },
    {
      "cell_type": "code",
      "metadata": {
        "colab": {
          "base_uri": "https://localhost:8080/",
          "height": 200
        },
        "id": "3bMZG92ZiyRK",
        "outputId": "b0e6f3a0-5e5b-47f2-99dc-9298085ff99b"
      },
      "source": [
        "full_table = data_renamed.merge(data1,left_on='PID',right_on='pid')\n",
        "full_table.head()"
      ],
      "execution_count": 79,
      "outputs": [
        {
          "output_type": "execute_result",
          "data": {
            "text/html": [
              "<div>\n",
              "<style scoped>\n",
              "    .dataframe tbody tr th:only-of-type {\n",
              "        vertical-align: middle;\n",
              "    }\n",
              "\n",
              "    .dataframe tbody tr th {\n",
              "        vertical-align: top;\n",
              "    }\n",
              "\n",
              "    .dataframe thead th {\n",
              "        text-align: right;\n",
              "    }\n",
              "</style>\n",
              "<table border=\"1\" class=\"dataframe\">\n",
              "  <thead>\n",
              "    <tr style=\"text-align: right;\">\n",
              "      <th></th>\n",
              "      <th>รหัส 9 หลัก _x</th>\n",
              "      <th>ชื่อ</th>\n",
              "      <th>ประเภทหน่วยงาน_x</th>\n",
              "      <th>กระทรวง</th>\n",
              "      <th>PID</th>\n",
              "      <th>ระดับบริการ</th>\n",
              "      <th>รหัส 9 หลัก _y</th>\n",
              "      <th>ประเภทหน่วยงาน_y</th>\n",
              "      <th>pid</th>\n",
              "      <th>ระดับบริการสุขภาพ</th>\n",
              "    </tr>\n",
              "  </thead>\n",
              "  <tbody>\n",
              "    <tr>\n",
              "      <th>0</th>\n",
              "      <td>1385100</td>\n",
              "      <td>โรงพยาบาลส่งเสริมสุขภาพตำบลเมืองแก</td>\n",
              "      <td>18-โรงพยาบาลส่งเสริมสุขภาพตำบล</td>\n",
              "      <td>21000-กระทรวงสาธารณสุข</td>\n",
              "      <td>13851</td>\n",
              "      <td>10-1 ปฐมภูมิ</td>\n",
              "      <td>1385100</td>\n",
              "      <td>โรงพยาบาลส่งเสริมสุขภาพตำบล</td>\n",
              "      <td>13851</td>\n",
              "      <td>A</td>\n",
              "    </tr>\n",
              "    <tr>\n",
              "      <th>1</th>\n",
              "      <td>749600</td>\n",
              "      <td>โรงพยาบาลส่งเสริมสุขภาพตำบลไผ่ขอดอน</td>\n",
              "      <td>18-โรงพยาบาลส่งเสริมสุขภาพตำบล</td>\n",
              "      <td>21000-กระทรวงสาธารณสุข</td>\n",
              "      <td>7496</td>\n",
              "      <td>10-1 ปฐมภูมิ</td>\n",
              "      <td>749600</td>\n",
              "      <td>โรงพยาบาลส่งเสริมสุขภาพตำบล</td>\n",
              "      <td>7496</td>\n",
              "      <td>A</td>\n",
              "    </tr>\n",
              "    <tr>\n",
              "      <th>2</th>\n",
              "      <td>710900</td>\n",
              "      <td>โรงพยาบาลส่งเสริมสุขภาพตำบลเขากวางทอง</td>\n",
              "      <td>18-โรงพยาบาลส่งเสริมสุขภาพตำบล</td>\n",
              "      <td>21000-กระทรวงสาธารณสุข</td>\n",
              "      <td>7109</td>\n",
              "      <td>10-1 ปฐมภูมิ</td>\n",
              "      <td>710900</td>\n",
              "      <td>โรงพยาบาลส่งเสริมสุขภาพตำบล</td>\n",
              "      <td>7109</td>\n",
              "      <td>A</td>\n",
              "    </tr>\n",
              "    <tr>\n",
              "      <th>3</th>\n",
              "      <td>736600</td>\n",
              "      <td>โรงพยาบาลส่งเสริมสุขภาพตำบลแม่จัน</td>\n",
              "      <td>18-โรงพยาบาลส่งเสริมสุขภาพตำบล</td>\n",
              "      <td>21000-กระทรวงสาธารณสุข</td>\n",
              "      <td>7366</td>\n",
              "      <td>10-1 ปฐมภูมิ</td>\n",
              "      <td>736600</td>\n",
              "      <td>โรงพยาบาลส่งเสริมสุขภาพตำบล</td>\n",
              "      <td>7366</td>\n",
              "      <td>A</td>\n",
              "    </tr>\n",
              "    <tr>\n",
              "      <th>4</th>\n",
              "      <td>660400</td>\n",
              "      <td>โรงพยาบาลส่งเสริมสุขภาพตำบลดอกคำใต้</td>\n",
              "      <td>18-โรงพยาบาลส่งเสริมสุขภาพตำบล</td>\n",
              "      <td>21000-กระทรวงสาธารณสุข</td>\n",
              "      <td>6604</td>\n",
              "      <td>10-1 ปฐมภูมิ</td>\n",
              "      <td>660400</td>\n",
              "      <td>โรงพยาบาลส่งเสริมสุขภาพตำบล</td>\n",
              "      <td>6604</td>\n",
              "      <td>A</td>\n",
              "    </tr>\n",
              "  </tbody>\n",
              "</table>\n",
              "</div>"
            ],
            "text/plain": [
              "   รหัส 9 หลัก _x  ... ระดับบริการสุขภาพ\n",
              "0         1385100  ...                 A\n",
              "1          749600  ...                 A\n",
              "2          710900  ...                 A\n",
              "3          736600  ...                 A\n",
              "4          660400  ...                 A\n",
              "\n",
              "[5 rows x 10 columns]"
            ]
          },
          "metadata": {},
          "execution_count": 79
        }
      ]
    }
  ]
}