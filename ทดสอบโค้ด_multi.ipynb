{
  "nbformat": 4,
  "nbformat_minor": 0,
  "metadata": {
    "colab": {
      "name": "ทดสอบโค้ด multi",
      "provenance": [],
      "authorship_tag": "ABX9TyOFAIy40g+J5eJ5rJStrehP",
      "include_colab_link": true
    },
    "kernelspec": {
      "name": "ir",
      "display_name": "R"
    },
    "language_info": {
      "name": "R"
    }
  },
  "cells": [
    {
      "cell_type": "markdown",
      "metadata": {
        "id": "view-in-github",
        "colab_type": "text"
      },
      "source": [
        "<a href=\"https://colab.research.google.com/github/Patsee/data_viz/blob/main/%E0%B8%97%E0%B8%94%E0%B8%AA%E0%B8%AD%E0%B8%9A%E0%B9%82%E0%B8%84%E0%B9%89%E0%B8%94_multi.ipynb\" target=\"_parent\"><img src=\"https://colab.research.google.com/assets/colab-badge.svg\" alt=\"Open In Colab\"/></a>"
      ]
    },
    {
      "cell_type": "markdown",
      "metadata": {
        "id": "uQDV-qEtnJ4B"
      },
      "source": [
        "###  SC614211 แบบฝึกหัดบทที่ 1"
      ]
    },
    {
      "cell_type": "markdown",
      "metadata": {
        "id": "QlofhxJbnldA"
      },
      "source": [
        "### ข้อ 1"
      ]
    },
    {
      "cell_type": "code",
      "metadata": {
        "colab": {
          "base_uri": "https://localhost:8080/"
        },
        "id": "FMgi9XWjnOWy",
        "outputId": "4464d30a-d0e7-4ba7-d1a8-962533830863"
      },
      "source": [
        "A1 = matrix(c(1,-1,4,1,1,3,4,3,2),3,3)\n",
        "B1 = matrix(c(3,7,2,-2,1,3,4,0,5),3,3)\n",
        "x1 = matrix(c(1,-1,2),3,1)\n",
        "y1 = matrix(c(3,2,1),3,1)\n",
        "print(A1)\n",
        "print(B1)\n",
        "print(x1)\n",
        "print(y1)"
      ],
      "execution_count": 234,
      "outputs": [
        {
          "output_type": "stream",
          "name": "stdout",
          "text": [
            "     [,1] [,2] [,3]\n",
            "[1,]    1    1    4\n",
            "[2,]   -1    1    3\n",
            "[3,]    4    3    2\n",
            "     [,1] [,2] [,3]\n",
            "[1,]    3   -2    4\n",
            "[2,]    7    1    0\n",
            "[3,]    2    3    5\n",
            "     [,1]\n",
            "[1,]    1\n",
            "[2,]   -1\n",
            "[3,]    2\n",
            "     [,1]\n",
            "[1,]    3\n",
            "[2,]    2\n",
            "[3,]    1\n"
          ]
        }
      ]
    },
    {
      "cell_type": "code",
      "metadata": {
        "colab": {
          "base_uri": "https://localhost:8080/"
        },
        "id": "bvFMvmGsnQmr",
        "outputId": "c317d533-0cd8-4533-b6d1-960deaf561a0"
      },
      "source": [
        "Ax1 = A1%*%x1\n",
        "print(Ax1)"
      ],
      "execution_count": 235,
      "outputs": [
        {
          "output_type": "stream",
          "name": "stdout",
          "text": [
            "     [,1]\n",
            "[1,]    8\n",
            "[2,]    4\n",
            "[3,]    5\n"
          ]
        }
      ]
    },
    {
      "cell_type": "code",
      "metadata": {
        "colab": {
          "base_uri": "https://localhost:8080/"
        },
        "id": "AnlFi82TnTj5",
        "outputId": "2e5078c3-3236-4277-9264-862c2a5c8533"
      },
      "source": [
        "tran_x1 = t(x1)\n",
        "print(tran_x1)"
      ],
      "execution_count": 236,
      "outputs": [
        {
          "output_type": "stream",
          "name": "stdout",
          "text": [
            "     [,1] [,2] [,3]\n",
            "[1,]    1   -1    2\n"
          ]
        }
      ]
    },
    {
      "cell_type": "code",
      "metadata": {
        "colab": {
          "base_uri": "https://localhost:8080/"
        },
        "id": "KYpMJHhSnXAZ",
        "outputId": "c6f8138c-7fcf-4b3d-ec2a-dfd463b1ce2d"
      },
      "source": [
        "x_tran_A1x = print(tran_x1%*%Ax1)\n",
        "x_tran_y = print(tran_x1%*%y1)\n",
        "B_tran = t(B1)\n",
        "print(B_tran)"
      ],
      "execution_count": 237,
      "outputs": [
        {
          "output_type": "stream",
          "name": "stdout",
          "text": [
            "     [,1]\n",
            "[1,]   14\n",
            "     [,1]\n",
            "[1,]    3\n",
            "     [,1] [,2] [,3]\n",
            "[1,]    3    7    2\n",
            "[2,]   -2    1    3\n",
            "[3,]    4    0    5\n"
          ]
        }
      ]
    },
    {
      "cell_type": "markdown",
      "metadata": {
        "id": "zji4Le_1no6K"
      },
      "source": [
        "### ข้อ 2 พิสูจน์"
      ]
    },
    {
      "cell_type": "code",
      "metadata": {
        "colab": {
          "base_uri": "https://localhost:8080/"
        },
        "id": "IRizPYfOnfSQ",
        "outputId": "dce3da89-2d4d-4407-c5a8-9727fa9b36c2"
      },
      "source": [
        "A2 = matrix(c(5,2,3,4,-3,7,4,1,2),3,3)\n",
        "B2 = matrix(c(1,0,1,0,1,2,1,0,3),3,3)\n",
        "print(A2)\n",
        "print(B2)"
      ],
      "execution_count": 238,
      "outputs": [
        {
          "output_type": "stream",
          "name": "stdout",
          "text": [
            "     [,1] [,2] [,3]\n",
            "[1,]    5    4    4\n",
            "[2,]    2   -3    1\n",
            "[3,]    3    7    2\n",
            "     [,1] [,2] [,3]\n",
            "[1,]    1    0    1\n",
            "[2,]    0    1    0\n",
            "[3,]    1    2    3\n"
          ]
        }
      ]
    },
    {
      "cell_type": "code",
      "metadata": {
        "colab": {
          "base_uri": "https://localhost:8080/"
        },
        "id": "3ojm4ZzpnuHw",
        "outputId": "b28c5b7d-4238-49ba-9048-87c8e0ffb1ed"
      },
      "source": [
        "A2_x_B2 = print(A2%*%B2)\n",
        "print(abs(A2_x_B2))"
      ],
      "execution_count": 239,
      "outputs": [
        {
          "output_type": "stream",
          "name": "stdout",
          "text": [
            "     [,1] [,2] [,3]\n",
            "[1,]    9   12   17\n",
            "[2,]    3   -1    5\n",
            "[3,]    5   11    9\n",
            "     [,1] [,2] [,3]\n",
            "[1,]    9   12   17\n",
            "[2,]    3    1    5\n",
            "[3,]    5   11    9\n"
          ]
        }
      ]
    },
    {
      "cell_type": "code",
      "metadata": {
        "colab": {
          "base_uri": "https://localhost:8080/"
        },
        "id": "FKYKUnZonyWB",
        "outputId": "caf62074-4898-4de5-ad3b-fe6b15512dcf"
      },
      "source": [
        "absA2 = abs(A2)\n",
        "absB2 = abs(B2)\n",
        "ABSA2_x_B2 = print(absA2%*%absB2)"
      ],
      "execution_count": 240,
      "outputs": [
        {
          "output_type": "stream",
          "name": "stdout",
          "text": [
            "     [,1] [,2] [,3]\n",
            "[1,]    9   12   17\n",
            "[2,]    3    5    5\n",
            "[3,]    5   11    9\n"
          ]
        }
      ]
    },
    {
      "cell_type": "markdown",
      "metadata": {
        "id": "2zT2pu12n7lw"
      },
      "source": [
        "### ข้อ 2.2"
      ]
    },
    {
      "cell_type": "code",
      "metadata": {
        "colab": {
          "base_uri": "https://localhost:8080/"
        },
        "id": "m1V557Mrn2tR",
        "outputId": "fc640f9d-1b04-47fa-ef70-df9f777a533a"
      },
      "source": [
        "AB2_tran = t(A2%*%B2)\n",
        "print(AB2_tran)"
      ],
      "execution_count": 241,
      "outputs": [
        {
          "output_type": "stream",
          "name": "stdout",
          "text": [
            "     [,1] [,2] [,3]\n",
            "[1,]    9    3    5\n",
            "[2,]   12   -1   11\n",
            "[3,]   17    5    9\n"
          ]
        }
      ]
    },
    {
      "cell_type": "code",
      "metadata": {
        "colab": {
          "base_uri": "https://localhost:8080/"
        },
        "id": "ss95hf1Kn_H5",
        "outputId": "4b5d0b7c-7998-4b83-803c-d5342df44aae"
      },
      "source": [
        "A2_tran = print(t(A2))\n",
        "B2_tran = print(t(B2))"
      ],
      "execution_count": 242,
      "outputs": [
        {
          "output_type": "stream",
          "name": "stdout",
          "text": [
            "     [,1] [,2] [,3]\n",
            "[1,]    5    2    3\n",
            "[2,]    4   -3    7\n",
            "[3,]    4    1    2\n",
            "     [,1] [,2] [,3]\n",
            "[1,]    1    0    1\n",
            "[2,]    0    1    2\n",
            "[3,]    1    0    3\n"
          ]
        }
      ]
    },
    {
      "cell_type": "code",
      "metadata": {
        "colab": {
          "base_uri": "https://localhost:8080/"
        },
        "id": "tgIxmn4roBMw",
        "outputId": "f6c026ce-50a6-41bb-ab37-2b7283d44c4d"
      },
      "source": [
        "print(A2_tran%*%B2_tran) # ไม่เท่ากัน"
      ],
      "execution_count": 243,
      "outputs": [
        {
          "output_type": "stream",
          "name": "stdout",
          "text": [
            "     [,1] [,2] [,3]\n",
            "[1,]    8    2   18\n",
            "[2,]   11   -3   19\n",
            "[3,]    6    1   12\n"
          ]
        }
      ]
    },
    {
      "cell_type": "markdown",
      "metadata": {
        "id": "mzMtANF9oFV4"
      },
      "source": [
        "### ข้อ 3"
      ]
    },
    {
      "cell_type": "code",
      "metadata": {
        "colab": {
          "base_uri": "https://localhost:8080/"
        },
        "id": "e5v2YAR4oDJA",
        "outputId": "6f6d4553-f397-48ad-cb83-5052b1297359"
      },
      "source": [
        "S = matrix(c(140.5,49.68,1.94,49.68,72.25,3.68,1.94,3.68,0.25),3,3)\n",
        "print(S)\n",
        "V = matrix(c(1/11.853270,0,0,0,0.117,0,0,0,2),3,3)\n",
        "print(V)"
      ],
      "execution_count": 244,
      "outputs": [
        {
          "output_type": "stream",
          "name": "stdout",
          "text": [
            "       [,1]  [,2] [,3]\n",
            "[1,] 140.50 49.68 1.94\n",
            "[2,]  49.68 72.25 3.68\n",
            "[3,]   1.94  3.68 0.25\n",
            "           [,1]  [,2] [,3]\n",
            "[1,] 0.08436491 0.000    0\n",
            "[2,] 0.00000000 0.117    0\n",
            "[3,] 0.00000000 0.000    2\n"
          ]
        }
      ]
    },
    {
      "cell_type": "code",
      "metadata": {
        "colab": {
          "base_uri": "https://localhost:8080/"
        },
        "id": "hZb1UpIPoJGJ",
        "outputId": "c20ef45c-2ead-4420-ce7d-d191c5f67bfe"
      },
      "source": [
        "print(V%*%S%*%V)"
      ],
      "execution_count": 245,
      "outputs": [
        {
          "output_type": "stream",
          "name": "stdout",
          "text": [
            "          [,1]      [,2]      [,3]\n",
            "[1,] 0.9999999 0.4903761 0.3273358\n",
            "[2,] 0.4903761 0.9890303 0.8611200\n",
            "[3,] 0.3273358 0.8611200 1.0000000\n"
          ]
        }
      ]
    },
    {
      "cell_type": "markdown",
      "metadata": {
        "id": "4zYan5cUoTQs"
      },
      "source": [
        "### ข้อ 4"
      ]
    },
    {
      "cell_type": "code",
      "metadata": {
        "colab": {
          "base_uri": "https://localhost:8080/"
        },
        "id": "V6sjXUfHoPyh",
        "outputId": "9a16ae08-e5d7-4ad2-f89a-71cbac76b200"
      },
      "source": [
        "V_mean = matrix(c(-2,3,-1,5),4,1)\n",
        "A4 = matrix(c(11,-8,3,9,-8,9,-3,-6,3,-3,2,3,9,-6,3,9),4,4)\n",
        "print(V_mean)\n",
        "print(A4)"
      ],
      "execution_count": 246,
      "outputs": [
        {
          "output_type": "stream",
          "name": "stdout",
          "text": [
            "     [,1]\n",
            "[1,]   -2\n",
            "[2,]    3\n",
            "[3,]   -1\n",
            "[4,]    5\n",
            "     [,1] [,2] [,3] [,4]\n",
            "[1,]   11   -8    3    9\n",
            "[2,]   -8    9   -3   -6\n",
            "[3,]    3   -3    2    3\n",
            "[4,]    9   -6    3    9\n"
          ]
        }
      ]
    },
    {
      "cell_type": "code",
      "metadata": {
        "colab": {
          "base_uri": "https://localhost:8080/"
        },
        "id": "NYd3rDg4oVr5",
        "outputId": "5bb82e09-02ca-49ee-93a3-2e470f753be7"
      },
      "source": [
        "Z = matrix(c(3,-1,2,1,-3,2,-4,1,4,-1,-2,-5),3,4)\n",
        "print(Z)"
      ],
      "execution_count": 247,
      "outputs": [
        {
          "output_type": "stream",
          "name": "stdout",
          "text": [
            "     [,1] [,2] [,3] [,4]\n",
            "[1,]    3    1   -4   -1\n",
            "[2,]   -1   -3    1   -2\n",
            "[3,]    2    2    4   -5\n"
          ]
        }
      ]
    },
    {
      "cell_type": "code",
      "metadata": {
        "colab": {
          "base_uri": "https://localhost:8080/"
        },
        "id": "zwD7K-JMof_B",
        "outputId": "de1b8365-fe9e-4e34-8d19-639c1259e939"
      },
      "source": [
        "Z_tran = t(Z)\n",
        "print(Z_tran)"
      ],
      "execution_count": 248,
      "outputs": [
        {
          "output_type": "stream",
          "name": "stdout",
          "text": [
            "     [,1] [,2] [,3]\n",
            "[1,]    3   -1    2\n",
            "[2,]    1   -3    2\n",
            "[3,]   -4    1    4\n",
            "[4,]   -1   -2   -5\n"
          ]
        }
      ]
    },
    {
      "cell_type": "code",
      "metadata": {
        "colab": {
          "base_uri": "https://localhost:8080/"
        },
        "id": "Xa1vKHxBovzh",
        "outputId": "53abafce-bd25-49e4-b13c-63e6861a7b19"
      },
      "source": [
        "ΣZ  = print(Z%*%A4%*%Z_tran)"
      ],
      "execution_count": 249,
      "outputs": [
        {
          "output_type": "stream",
          "name": "stdout",
          "text": [
            "     [,1] [,2] [,3]\n",
            "[1,]   35  -18   -6\n",
            "[2,]  -18   46   14\n",
            "[3,]   -6   14   93\n"
          ]
        }
      ]
    },
    {
      "cell_type": "code",
      "metadata": {
        "colab": {
          "base_uri": "https://localhost:8080/"
        },
        "id": "_KVWMe8boxqB",
        "outputId": "7b93297b-0bbc-49e8-d123-f04afce39a38"
      },
      "source": [
        "μ_vector_z = print(Z%*%V_mean)"
      ],
      "execution_count": 250,
      "outputs": [
        {
          "output_type": "stream",
          "name": "stdout",
          "text": [
            "     [,1]\n",
            "[1,]   -4\n",
            "[2,]  -18\n",
            "[3,]  -27\n"
          ]
        }
      ]
    },
    {
      "cell_type": "code",
      "metadata": {
        "colab": {
          "base_uri": "https://localhost:8080/"
        },
        "id": "Hr_MfWwYpUOB",
        "outputId": "667083a7-c4e4-48d0-c5f2-842038d4051e"
      },
      "source": [
        "install.packages(\"mvtnorm\")\n",
        "library(\"mvtnorm\")"
      ],
      "execution_count": 251,
      "outputs": [
        {
          "output_type": "stream",
          "name": "stderr",
          "text": [
            "Installing package into ‘/usr/local/lib/R/site-library’\n",
            "(as ‘lib’ is unspecified)\n",
            "\n"
          ]
        }
      ]
    },
    {
      "cell_type": "code",
      "metadata": {
        "colab": {
          "base_uri": "https://localhost:8080/"
        },
        "id": "odEzAAHdpnp5",
        "outputId": "27807eb1-a338-4326-89d7-c33ad4e5a5c1"
      },
      "source": [
        "mu = c(5,10)\n",
        "sigma = matrix(c(3,2,2,6),2,2)\n",
        "print(mu)\n",
        "print(sigma)"
      ],
      "execution_count": 252,
      "outputs": [
        {
          "output_type": "stream",
          "name": "stdout",
          "text": [
            "[1]  5 10\n",
            "     [,1] [,2]\n",
            "[1,]    3    2\n",
            "[2,]    2    6\n"
          ]
        }
      ]
    },
    {
      "cell_type": "code",
      "metadata": {
        "colab": {
          "base_uri": "https://localhost:8080/",
          "height": 0
        },
        "id": "iTYcSkkUpqQ4",
        "outputId": "24e7fd3f-2a53-44cf-8076-72e6bf6c952d"
      },
      "source": [
        "x = rmvnorm(1000, mean = mu ,sigma = sigma)\n",
        "head(x)"
      ],
      "execution_count": 253,
      "outputs": [
        {
          "output_type": "display_data",
          "data": {
            "text/plain": [
              "     [,1]     [,2]     \n",
              "[1,] 4.620019 14.030877\n",
              "[2,] 4.392205 10.512677\n",
              "[3,] 3.723592  6.478555\n",
              "[4,] 6.503615 13.378725\n",
              "[5,] 7.747766 11.725814\n",
              "[6,] 3.173574 10.210387"
            ],
            "text/latex": "A matrix: 6 × 2 of type dbl\n\\begin{tabular}{ll}\n\t 4.620019 & 14.030877\\\\\n\t 4.392205 & 10.512677\\\\\n\t 3.723592 &  6.478555\\\\\n\t 6.503615 & 13.378725\\\\\n\t 7.747766 & 11.725814\\\\\n\t 3.173574 & 10.210387\\\\\n\\end{tabular}\n",
            "text/markdown": "\nA matrix: 6 × 2 of type dbl\n\n| 4.620019 | 14.030877 |\n| 4.392205 | 10.512677 |\n| 3.723592 |  6.478555 |\n| 6.503615 | 13.378725 |\n| 7.747766 | 11.725814 |\n| 3.173574 | 10.210387 |\n\n",
            "text/html": [
              "<table class=\"dataframe\">\n",
              "<caption>A matrix: 6 × 2 of type dbl</caption>\n",
              "<tbody>\n",
              "\t<tr><td>4.620019</td><td>14.030877</td></tr>\n",
              "\t<tr><td>4.392205</td><td>10.512677</td></tr>\n",
              "\t<tr><td>3.723592</td><td> 6.478555</td></tr>\n",
              "\t<tr><td>6.503615</td><td>13.378725</td></tr>\n",
              "\t<tr><td>7.747766</td><td>11.725814</td></tr>\n",
              "\t<tr><td>3.173574</td><td>10.210387</td></tr>\n",
              "</tbody>\n",
              "</table>\n"
            ]
          },
          "metadata": {}
        }
      ]
    },
    {
      "cell_type": "code",
      "metadata": {
        "colab": {
          "base_uri": "https://localhost:8080/",
          "height": 0
        },
        "id": "LM4IyMm5pwoZ",
        "outputId": "f701de8f-101c-4b5e-ce34-c970a4a2ce6a"
      },
      "source": [
        "summary(x)"
      ],
      "execution_count": 254,
      "outputs": [
        {
          "output_type": "display_data",
          "data": {
            "text/plain": [
              "       V1               V2        \n",
              " Min.   :-1.352   Min.   : 3.319  \n",
              " 1st Qu.: 3.868   1st Qu.: 8.230  \n",
              " Median : 5.042   Median : 9.831  \n",
              " Mean   : 5.014   Mean   : 9.935  \n",
              " 3rd Qu.: 6.140   3rd Qu.:11.722  \n",
              " Max.   : 9.977   Max.   :18.736  "
            ]
          },
          "metadata": {}
        }
      ]
    },
    {
      "cell_type": "code",
      "metadata": {
        "colab": {
          "base_uri": "https://localhost:8080/",
          "height": 0
        },
        "id": "IhAfJLBOp4aG",
        "outputId": "776b42b5-ed7d-4da5-ac53-9dc36ba67f36"
      },
      "source": [
        "plot(x[,1],x[,2])"
      ],
      "execution_count": 255,
      "outputs": [
        {
          "output_type": "display_data",
          "data": {
            "image/png": "[encoded data removed]",
            "text/plain": [
              "plot without title"
            ]
          },
          "metadata": {
            "image/png": {
              "width": 420,
              "height": 420
            }
          }
        }
      ]
    },
    {
      "cell_type": "code",
      "metadata": {
        "colab": {
          "base_uri": "https://localhost:8080/"
        },
        "id": "-sMDZNs4p69T",
        "outputId": "f73171fb-3596-41bd-cc5f-cc21cca1e0d9"
      },
      "source": [
        "x_maha = mahalanobis(x, colMeans(x),cov(x))\n",
        "print(x_maha)"
      ],
      "execution_count": 256,
      "outputs": [
        {
          "output_type": "stream",
          "name": "stdout",
          "text": [
            "   [1]  3.984508978  0.325106763  1.983095113  2.015429116  2.448193896\n",
            "   [6]  1.550447512  1.206925858  0.636207418  0.615289618  2.244138825\n",
            "  [11]  0.633719146  0.251364767  1.099425948  0.083464962  2.244535365\n",
            "  [16]  0.781840619  1.666205247  0.247676799  3.192645379  0.459771397\n",
            "  [21]  0.732713740  3.556820663  1.934077732  0.558551996  1.622115296\n",
            "  [26]  9.044394652  2.368472516  1.835647358  4.910834739  2.872889014\n",
            "  [31]  1.931296582  7.056214395  0.497002914  0.969385448  2.407606266\n",
            "  [36]  4.031218983  0.244756386  2.978968886  4.043018045  0.036587301\n",
            "  [41]  2.226587554  3.458732388  0.910778243  4.749302730  0.282019088\n",
            "  [46]  0.847915028  0.274148984  0.509728156  1.457454293  3.555102798\n",
            "  [51]  2.796494219  0.739811030  2.890118174  1.659169770  1.496189144\n",
            "  [56]  0.153365048  0.629782334  0.007451796  0.504358172  1.465269433\n",
            "  [61]  0.181108122  0.288422694  0.104829938  0.446661097  0.897856160\n",
            "  [66]  3.949799252  2.428791408  1.465213693  1.224983377  0.084058282\n",
            "  [71]  1.628140778  5.403162038  0.289381496  0.795052095  2.838273500\n",
            "  [76]  3.858487336  2.930470381  3.235924831  1.703253137  1.787187129\n",
            "  [81]  0.491571931  3.979602208  1.774877275  1.049560077  1.806173775\n",
            "  [86]  1.574393042  0.349392442  0.277475157  5.195145747  2.136073463\n",
            "  [91]  0.514177041  0.839999144  0.289629366  0.103435470  1.638668855\n",
            "  [96]  2.995259620  4.199389126  2.397971885  1.064643452  0.143716477\n",
            " [101]  6.582081530  5.337941828  2.145653381  2.273892232  0.789413281\n",
            " [106]  0.275642475  0.563535691  5.248841386  0.538265535  1.851149957\n",
            " [111]  0.162284378  0.996243415  3.949258152  0.973162350  0.193680851\n",
            " [116]  1.291967927  4.287285160  1.918671343  0.762065259  2.176969332\n",
            " [121]  1.072276042  0.527144952  2.746031687  1.530982474  3.654460058\n",
            " [126]  1.438126112  5.671296094  0.472591591  1.142855892  1.721077649\n",
            " [131]  6.704182054  1.834638449  2.094947703  0.575580893  1.608969440\n",
            " [136]  0.094391468  1.170545685  1.843373095  5.903753959  0.184773840\n",
            " [141]  2.533259630  2.590730077  0.635648020  1.394381356  2.193347889\n",
            " [146]  1.021917279  1.700929738  1.480840142  1.371256105  7.969082040\n",
            " [151]  0.998362395  2.758457385  2.244942627  0.202781426  0.155635110\n",
            " [156]  0.267301816  3.181152903  0.188872189  4.424956015  1.749708510\n",
            " [161]  1.009659845  0.776037221  5.838464359  0.403422339  0.364807272\n",
            " [166]  4.215841953  1.938862332  2.085295240  1.629808132  2.109506439\n",
            " [171]  1.571569125  1.759730205  0.535723908  1.302979506  0.813473330\n",
            " [176]  1.621376281  0.398811852  1.867197512  0.378982457  1.120208629\n",
            " [181]  1.463312826  1.107532446  1.169808077  2.978354773  1.530747073\n",
            " [186]  1.636526331  0.361584998  8.127015671  1.640916944  0.150737589\n",
            " [191]  0.914268419  0.176374228  3.637962955  1.781329843  0.114154930\n",
            " [196]  1.105811784  3.342291860  0.617161422  1.606291871  0.692538196\n",
            " [201]  2.869293026  0.161904915  2.460415306  1.247514464  6.763879984\n",
            " [206]  0.352721300  2.853530899  2.110511981  0.678449701  2.343183200\n",
            " [211]  0.609924107  0.472747057  1.548590291  1.378863791  0.442013295\n",
            " [216]  0.172538402  0.183963458  1.659670051  0.751428848  0.894363619\n",
            " [221]  1.014305513  4.782084310  7.259265670  0.208061755  3.531266727\n",
            " [226]  1.350218530  1.457882068  0.493930954  1.024045189  2.140509326\n",
            " [231]  0.645131128  1.524197405  1.008057213  0.083716139  1.565824924\n",
            " [236]  3.024408165  3.837254289  1.101154079  1.512389663  0.467665853\n",
            " [241]  3.159735427  3.358436154  0.477989206  2.030253405  0.169096135\n",
            " [246]  0.557968349  1.116620020  0.024065685  0.608447723  1.093877300\n",
            " [251]  0.859403554  1.657858301  0.718891410  0.525023734  0.212653574\n",
            " [256]  2.020481682  1.559422889  0.228409072  1.551852217  0.942218600\n",
            " [261]  1.260074284  0.199178841  7.221055341  8.006941646  2.289169709\n",
            " [266]  2.050818238  4.992110702  0.581181149  1.011714150  0.162515220\n",
            " [271]  1.272717324  2.597205311  2.586759286  1.686404215  3.953865416\n",
            " [276]  2.436059009  5.188708590  1.801852725  3.124965299  3.384890026\n",
            " [281]  1.331698861  2.436804167  1.171350386  1.369932305  0.907262394\n",
            " [286]  1.366381176  0.302569167  0.070510662  0.358964588  7.251284294\n",
            " [291]  0.370532316  4.620012647  4.701384530  0.598357927  3.417342877\n",
            " [296]  2.134723303  0.810690392  1.328297208  0.729144395  1.652303150\n",
            " [301]  0.717274908  2.518439581  0.036521144  0.521659148  1.193927290\n",
            " [306]  0.858998135  0.013044180  1.254258940  0.173032672  2.655052946\n",
            " [311]  2.697700988  4.665537437  0.606920529  2.793105198  2.143120569\n",
            " [316]  0.758616816  0.119765177  1.036498935  3.349821730  4.431459953\n",
            " [321]  2.533698476  0.688732669  3.528889852  0.220486256  2.619888398\n",
            " [326]  5.051168625  1.841037993  3.809317352  2.553912824  0.209578949\n",
            " [331]  2.173483060  1.739098076  0.088574316  1.851262661  1.509119345\n",
            " [336]  5.421380932  0.504434369  2.733429790  1.577548394  2.941401996\n",
            " [341]  2.208659651  3.581769365  1.879839224  2.029367878  1.316355051\n",
            " [346]  0.620008913  1.110835615  4.075482187  1.265640706  1.741618002\n",
            " [351]  0.182133197  0.334648953  2.477345249  4.130768108  4.522066598\n",
            " [356]  4.738435500  0.248839627  0.903888986  0.177281909  1.671030159\n",
            " [361]  2.153480653  2.383699773  1.990401566  0.443451515  2.131460089\n",
            " [366]  1.252656077  1.397177909  0.281488134  6.030710087  0.202332431\n",
            " [371]  0.046256043  1.223223156  1.553982097  6.028392480  0.850856402\n",
            " [376]  1.184183800  2.996013413  0.790616374  1.637811283  3.499701082\n",
            " [381]  0.921168643  1.224367781  1.238700376  1.291975229  0.699580911\n",
            " [386]  0.197327232  2.185833077  1.403630022  1.002426507  0.672893531\n",
            " [391]  1.149973355  3.066984138  5.026080766  0.418100217  0.969917234\n",
            " [396]  0.711676086  2.910097718  4.544305659  1.731738943  0.496282380\n",
            " [401]  0.283794557  1.281655631  3.909972061  0.181683810  2.981799684\n",
            " [406]  1.331725764  5.352233266  0.773389228  1.886100776  0.556972648\n",
            " [411]  1.508877984  0.460822425  1.834597973  2.200250462  0.568197116\n",
            " [416]  1.787546693  1.531816747  0.813514242  2.795111026  1.029127566\n",
            " [421]  0.637404546  1.956584436  2.467248927  0.363406426  0.013876466\n",
            " [426]  5.603146657  0.652607416  1.107509426  3.839968014  0.579309717\n",
            " [431]  1.468732288  5.133739224  3.959599137  3.806807459  1.517705507\n",
            " [436]  1.716219299  0.499512837  5.039925776  1.986845527  0.558169751\n",
            " [441]  0.232650519  2.720383928  2.893507074  0.332134756  1.292968573\n",
            " [446]  1.331986551  2.355848957  0.841461640  1.038592431  0.678567221\n",
            " [451]  1.034336904  0.262862205  7.841946060  4.633221689  0.517612162\n",
            " [456]  1.711253949  4.486210186  9.014836659  1.612980072  0.666497662\n",
            " [461]  0.175566733  0.938211850  2.249533542  2.680593783  1.755146223\n",
            " [466]  1.233261193  2.466907483  0.983000548  1.334657805  1.090788726\n",
            " [471]  0.134252462  0.036829110  2.825581857  6.990342004  3.011448384\n",
            " [476]  2.092676943  2.500259084  1.116669967  2.703231871  0.958787118\n",
            " [481]  7.774607064  2.615111458  4.999340886  0.184694691  2.788699972\n",
            " [486]  0.330808462  0.663086942  1.808420424  1.571451566  0.273281753\n",
            " [491]  4.806248931  1.181815938  0.913034833  0.462476284  0.134278566\n",
            " [496]  0.913438807  2.566849418  1.221355899  0.319171243  1.454608499\n",
            " [501]  1.607820692  0.418047926  2.297212742  0.217696024  7.702939955\n",
            " [506]  2.928335938  0.307710080  0.865594742  0.197924148  2.808494942\n",
            " [511]  5.882364438  1.642005324  0.715546304  4.886512703  1.005853287\n",
            " [516]  8.611195827  1.597108227  0.642591085  0.343032281  8.949704153\n",
            " [521]  1.776396203  1.891561807  0.449614443  0.216193680  2.554210453\n",
            " [526]  6.613593853  2.406515638  0.940529613  0.879575730  2.097116887\n",
            " [531]  3.904040679  2.366661983  1.132796672  0.913777905  5.738462263\n",
            " [536]  3.021841826  1.553600500  3.673386148  3.493890661  0.952439843\n",
            " [541]  0.051992120  3.822694006  7.434614603  1.418783495  1.420051164\n",
            " [546]  3.876281881  1.106137786  7.936118745  0.805532064  8.323981008\n",
            " [551]  1.598806250  6.814800342  0.591353366  2.206721460  0.830668058\n",
            " [556]  3.002657972  1.123361575  0.861946353  4.365216717  3.103775029\n",
            " [561]  5.132134963  0.727770462  1.001726903  3.409055665  8.287995041\n",
            " [566]  2.995318494  0.016558073  2.314052946  2.835188048  1.703127325\n",
            " [571]  0.077759858  0.429339376  1.188372657  1.772488590  0.103784752\n",
            " [576]  8.645030087  0.099527989  2.652637367  0.067515097  1.108011145\n",
            " [581]  4.545246429  3.867064381  3.684887775  1.972451152  0.261155236\n",
            " [586]  0.355518318  0.155062988  0.128948488  2.311847291  1.706365805\n",
            " [591]  0.004354008  0.583692425  0.243975267  0.684970607  2.753827092\n",
            " [596]  1.032255393  1.723070872  5.098532203  2.383303636 11.224807683\n",
            " [601]  2.425899003  2.001190239  2.426436303  2.212401599  4.578781928\n",
            " [606]  0.586592942  0.378445214  0.240670883  1.351637468  0.323123929\n",
            " [611]  2.803931558  0.329065027  0.632519206  3.369914327  5.317128567\n",
            " [616]  1.064014898  0.061994911  5.083242833  1.888801899  2.132640289\n",
            " [621]  5.717615931  5.125856014  0.441903168  2.059267170  1.213609925\n",
            " [626]  2.443930666  0.815944620  0.339074304  2.774835833  4.293415964\n",
            " [631]  3.065220772  0.760941509  0.489484567  5.060469432  0.094441701\n",
            " [636]  2.868509549  2.462413527  3.097606674  0.977526574  7.489120564\n",
            " [641]  0.974350142  0.673841297  6.547884955  0.327357939  0.051431239\n",
            " [646]  0.706642488  1.876792106  0.158366116  0.359175602  3.861837541\n",
            " [651]  0.504949641  3.510898660  1.241518512  0.032753317  0.114009856\n",
            " [656]  0.195798016  0.540628494  3.403796043  2.407793753  2.807618274\n",
            " [661]  4.397872051  1.190153894  0.286577424  2.840331629  0.203662699\n",
            " [666]  1.579931120  1.656304053  1.037786419  2.518703893  1.165851215\n",
            " [671]  0.800156363  0.192820912  2.237992625  8.266592620  1.010134497\n",
            " [676]  0.077454592  0.990079085  0.159740072  2.424114780  0.095742776\n",
            " [681]  0.903055713  2.654624489  1.377086430  1.846637276  1.638802337\n",
            " [686]  4.512115891  0.451572931  1.114767913  0.607028283  1.505739281\n",
            " [691]  5.498178168  0.764881477  0.597864306  0.042963082  7.457692664\n",
            " [696]  0.179746907  0.101147781  5.722959468  3.415962118  1.686699165\n",
            " [701]  0.693412006  0.233670132  0.959434567  0.931460740  1.485831744\n",
            " [706]  1.061859611  4.517765254  1.063389995  1.054567702  0.204275644\n",
            " [711]  0.081882916  2.783029054  9.538711970  0.336238899  0.854062341\n",
            " [716]  0.043962989  3.215676649  2.379321239  4.133585143  1.682493803\n",
            " [721]  1.284709822  5.535582565  1.127884975  3.990891701  1.012905904\n",
            " [726]  3.558884169  2.047374607  4.904764014  2.306321758  2.706739448\n",
            " [731]  2.984395484  1.062049916  2.872864981  0.513005571  4.425904294\n",
            " [736]  2.479941471  0.731327067  0.802316548  1.546979526  1.549052184\n",
            " [741]  4.202766808  4.380870265  0.941946495  3.632159353  7.859023823\n",
            " [746]  3.928015084  0.241385108  2.604985161  0.677675809  0.396897080\n",
            " [751]  0.356029060  0.082509511  2.218617535  5.813282003  2.054523273\n",
            " [756]  0.934020424  1.954035754  1.741596820  1.514746343  0.401866503\n",
            " [761]  0.078329281  4.082182210  4.005220267  0.666210497  0.534544718\n",
            " [766]  7.689853739  2.314156331  0.486138231  0.108317259  0.486024472\n",
            " [771]  2.511170054  2.168841650  6.740357634  0.067249455  0.098701767\n",
            " [776]  2.703541701  0.239431283  1.871399116  0.839864264  0.335466917\n",
            " [781]  0.024972764  1.550348231  0.919872166  1.369517748  1.229084790\n",
            " [786]  3.676480457  2.486066969  1.235525507  3.867648802  1.989687841\n",
            " [791]  0.469821728  2.392474599  2.388315239  0.693695680  0.918066093\n",
            " [796]  3.175851165  0.771968587  2.107733927  2.976819801  0.255684844\n",
            " [801]  4.026285649  1.224077020  3.014235102  0.834482078  0.228458836\n",
            " [806]  2.052529258  2.132569674  0.070757460  3.677939886  0.182422560\n",
            " [811]  0.920944728  0.926629148  0.653678737  3.639922876  0.900931941\n",
            " [816]  2.485199929  0.209349099  1.879191770 10.226750728  0.610967425\n",
            " [821]  1.004479564  3.711190139  0.810568181  1.730582716  1.202458897\n",
            " [826]  0.232415229  1.258803796  3.464838566  5.323111665  0.959495473\n",
            " [831]  2.799353823  0.138875937  1.083171115  6.669289932  1.257669424\n",
            " [836]  1.283208774  2.420572163  1.309730711  0.396230036  3.121709009\n",
            " [841]  2.177246396  3.284397210  4.286539224  0.013793456  0.737632925\n",
            " [846]  2.841405824  3.210469943  0.487250939  1.167733853 14.275449586\n",
            " [851]  1.094661000  4.420944183  2.269032581  4.320214128  1.696031531\n",
            " [856]  0.649263955  0.112878615  0.662548260  0.259861395  2.067388518\n",
            " [861]  0.322784287  2.063366312  0.872435561  2.257953463  1.010898615\n",
            " [866]  0.036235409  1.320827271  1.487984170  2.301743089  2.138518147\n",
            " [871]  2.187025034  1.212754068  1.901497984  3.651842729  0.820724745\n",
            " [876]  0.045338305  1.621618811  0.254495390  1.716382717  0.384330152\n",
            " [881]  0.647822869  2.955501329  3.123069607  3.405945276  0.931646155\n",
            " [886]  0.410435638 13.543849443  6.299596305  1.080715504  1.044125722\n",
            " [891]  1.106958091  0.964399982  0.022107265  4.387288973  2.107526220\n",
            " [896]  3.970676264  0.112324981  0.115084683  1.770983680  0.334417080\n",
            " [901]  0.285881010  2.302191458  1.940451716  4.606073601  0.606277960\n",
            " [906]  2.208813671  2.319861690  3.467058776  3.863796348  3.475099136\n",
            " [911]  1.988483567  8.875491878  0.245841858  1.448676202  4.093144875\n",
            " [916]  0.695600049  0.026572425  0.891244071  0.488445865  0.060677770\n",
            " [921]  1.000969207  0.284827022  0.495826741  0.840603388  0.153244098\n",
            " [926]  6.415204165  0.470391969  8.697006938  3.265231420  1.562037220\n",
            " [931]  4.591216187  4.935174581  0.636553672  1.138419606  0.048242138\n",
            " [936]  0.952002442  1.282056409  3.856192550  3.206578227  2.811604305\n",
            " [941]  1.128000380  1.986251979  5.608597140  0.303442286  2.949656375\n",
            " [946]  0.565694182  0.540867942  0.915612977  1.176653603  1.775024678\n",
            " [951]  1.856773506  1.564415254  4.806390586  0.313315358  0.746505186\n",
            " [956]  2.437630325  0.365481066  0.020289602  6.671708001  0.006334172\n",
            " [961]  4.574729591  2.674828100  1.277188928  1.958085533  1.723821504\n",
            " [966]  0.780269751  0.824452318  0.816711053  0.519805565  0.416201597\n",
            " [971]  3.119829340  0.374756210  0.485368449  0.973514478  2.032650340\n",
            " [976]  2.454515575  0.230645645  1.280826277  0.726179580  2.565843673\n",
            " [981]  1.515268426  1.590885740  0.111009939  1.118627973  3.209708644\n",
            " [986]  1.760653929  4.905332236  5.165219300  5.263512251  4.972282222\n",
            " [991]  0.589685636  1.733641019  5.386848070  5.039537467  0.456112205\n",
            " [996]  2.360999851  2.102909717  1.732494591  2.074657548  0.934805598\n"
          ]
        }
      ]
    },
    {
      "cell_type": "code",
      "metadata": {
        "colab": {
          "base_uri": "https://localhost:8080/"
        },
        "id": "nBwDIG0jqD3w",
        "outputId": "2a27322d-38e5-4402-d1b5-3289b4f74450"
      },
      "source": [
        "x_pval = pchisq(x_maha, df=2,lower.tail = FALSE)\n",
        "print(x_pval)"
      ],
      "execution_count": 257,
      "outputs": [
        {
          "output_type": "stream",
          "name": "stdout",
          "text": [
            "   [1] 0.1363875943 0.8499707164 0.3710020999 0.3650523328 0.2940230987\n",
            "   [6] 0.4606007074 0.5469144272 0.7275273334 0.7351763996 0.3256052852\n",
            "  [11] 0.7284330396 0.8818949068 0.5771154337 0.9591263309 0.3255407340\n",
            "  [16] 0.6764340591 0.4346984861 0.8835226072 0.2026403210 0.7946244242\n",
            "  [21] 0.6932553549 0.1689064392 0.3802072174 0.7563311284 0.4443878116\n",
            "  [26] 0.0108651232 0.3059797799 0.3993872910 0.0858273663 0.2377716531\n",
            "  [31] 0.3807362918 0.0293604368 0.7799687243 0.6158864149 0.3000509057\n",
            "  [36] 0.1332391704 0.8848136749 0.2254888780 0.1324554360 0.9818726628\n",
            "  [41] 0.3284752531 0.1773968095 0.6342011385 0.0930469230 0.8684810229\n",
            "  [46] 0.6544516864 0.8719052737 0.7750218332 0.4825227801 0.1690515807\n",
            "  [51] 0.2470296005 0.6907995979 0.2357321474 0.4362303345 0.4732674713\n",
            "  [56] 0.9261838480 0.7298683037 0.9962810348 0.7771055567 0.4806409677\n",
            "  [61] 0.9134249521 0.8657047648 0.9489350063 0.7998504163 0.6383120046\n",
            "  [66] 0.1387752410 0.2968893691 0.4806543632 0.5419986932 0.9588418386\n",
            "  [71] 0.4430510010 0.0670993435 0.8652898444 0.6719804391 0.2419227666\n",
            "  [76] 0.1452580202 0.2310236506 0.1983023455 0.4267202774 0.4091826831\n",
            "  [81] 0.7820896014 0.1367226163 0.4117089392 0.5916854980 0.4053165600\n",
            "  [86] 0.4551189248 0.8397120689 0.8704564250 0.0744540685 0.3436825967\n",
            "  [91] 0.7732997580 0.6570471011 0.8651826113 0.9495968672 0.4407248912\n",
            "  [96] 0.2236596482 0.1224938367 0.3014997950 0.5872399755 0.9306628186\n",
            " [101] 0.0372150971 0.0693235285 0.3420403076 0.3207972048 0.6738776986\n",
            " [106] 0.8712544255 0.7544488128 0.0724817340 0.7640418089 0.3963034876\n",
            " [111] 0.9220625748 0.6076709724 0.1388127917 0.6147244411 0.9077008407\n",
            " [116] 0.5241465473 0.1172270555 0.3831473371 0.6831555984 0.3367263602\n",
            " [121] 0.5850031654 0.7683019368 0.2533417672 0.4651053978 0.1608585247\n",
            " [126] 0.4872085292 0.0586804858 0.7895470950 0.5647184752 0.4229341336\n",
            " [131] 0.0350110684 0.3995888143 0.3508228614 0.7499187238 0.4473183613\n",
            " [136] 0.9539006683 0.5569538805 0.3978474862 0.0522415575 0.9117523061\n",
            " [141] 0.2817796730 0.2737978993 0.7277308506 0.4979823333 0.3339800747\n",
            " [146] 0.5999201958 0.4272162862 0.4769135359 0.5037737338 0.0186009798\n",
            " [151] 0.6070274918 0.2517726724 0.3254744505 0.9035799236 0.9251331972\n",
            " [156] 0.8748954304 0.2038080924 0.9098858795 0.1094291460 0.4169227798\n",
            " [161] 0.6036082268 0.6783997180 0.0539751146 0.8173309640 0.8332649369\n",
            " [166] 0.1214902852 0.3792987347 0.3525201059 0.4426817935 0.3482783651\n",
            " [171] 0.4557619877 0.4148388687 0.7650133807 0.5212686365 0.6658195008\n",
            " [176] 0.4445520468 0.8192172842 0.3931363597 0.8273799741 0.5711494816\n",
            " [181] 0.4811114105 0.5747809754 0.5571593252 0.2255581265 0.4651601442\n",
            " [186] 0.4411972762 0.8346085228 0.0171886184 0.4402297753 0.9274014028\n",
            " [191] 0.6330953669 0.9155895409 0.1621908619 0.4103827896 0.9445208993\n",
            " [196] 0.5752756902 0.1880314713 0.7344886685 0.4479176252 0.7073221225\n",
            " [201] 0.2381995495 0.9222375357 0.2922318886 0.5359270478 0.0339814670\n",
            " [206] 0.8383155904 0.2400842322 0.3481033047 0.7123222652 0.3098733541\n",
            " [211] 0.7371513463 0.7894857235 0.4610286246 0.5018610977 0.8017113507\n",
            " [216] 0.9173472474 0.9121218146 0.4361212292 0.6867984380 0.6394276437\n",
            " [221] 0.6022077722 0.0915342413 0.0265259220 0.9011974702 0.1710783974\n",
            " [226] 0.5091007906 0.4824195857 0.7811676615 0.5992822473 0.3429211770\n",
            " [231] 0.7242884431 0.4666859636 0.6040921018 0.9590058829 0.4570728635\n",
            " [236] 0.2204236103 0.1468083705 0.5766169836 0.4694493665 0.7914940426\n",
            " [241] 0.2060023477 0.1865197632 0.7874191322 0.3623565154 0.9189274838\n",
            " [246] 0.7565518759 0.5721752176 0.9880392627 0.7376957064 0.5787187620\n",
            " [251] 0.6507031206 0.4365164795 0.6980631517 0.7691172372 0.8991307759\n",
            " [256] 0.3641312713 0.4585383059 0.8920754757 0.4602773169 0.6243093376\n",
            " [261] 0.5325720200 0.9052090019 0.0270375762 0.0182521787 0.3183560545\n",
            " [266] 0.3586497049 0.0824094346 0.7478217927 0.6029885475 0.9219561555\n",
            " [271] 0.5292159739 0.2729128800 0.2743420363 0.4303303509 0.1384933862\n",
            " [276] 0.2958124901 0.0746940909 0.4061932033 0.2096150241 0.1840689224\n",
            " [281] 0.5138368735 0.2957022971 0.5567298347 0.5041072920 0.6353169968\n",
            " [286] 0.5050031622 0.8596030348 0.9653588986 0.8357027478 0.0266319902\n",
            " [291] 0.8308831081 0.0992606239 0.0953031643 0.7414267091 0.1811062437\n",
            " [296] 0.3439146882 0.6667466128 0.5147115647 0.6944936935 0.4377306224\n",
            " [301] 0.6986275901 0.2838754225 0.9819051419 0.7704122067 0.5504805555\n",
            " [306] 0.6508350374 0.9934991329 0.5341228182 0.9171205666 0.2651322627\n",
            " [311] 0.2595384303 0.0970267352 0.7382592236 0.2474485496 0.3424737439\n",
            " [316] 0.6843345259 0.9418751142 0.5955621871 0.1873248760 0.1090738638\n",
            " [321] 0.2817178508 0.7086692705 0.1712818342 0.8956163593 0.2698351130\n",
            " [326] 0.0800115474 0.3983122647 0.1488734481 0.2788848205 0.9005140838\n",
            " [331] 0.3373138319 0.4191405231 0.9566792002 0.3962811558 0.4702176188\n",
            " [336] 0.0664908812 0.7770759510 0.2549431002 0.4544014608 0.2297643644\n",
            " [341] 0.3314329258 0.1668125283 0.3906592384 0.3625169892 0.5177941416\n",
            " [346] 0.7334436876 0.5738324597 0.1303227656 0.5310918203 0.4186127541\n",
            " [351] 0.9129569072 0.8459250838 0.2897685945 0.1267695948 0.1042427152\n",
            " [356] 0.0935538802 0.8830090638 0.6363894929 0.9151741037 0.4336510590\n",
            " [361] 0.3407043024 0.3036590095 0.3696492178 0.8011350393 0.3444762799\n",
            " [366] 0.5345510525 0.4972865027 0.8687116153 0.0490284252 0.9037827979\n",
            " [371] 0.9771373814 0.5424759219 0.4597874100 0.0490852724 0.6534899002\n",
            " [376] 0.5531688996 0.2235753676 0.6734724518 0.4409139085 0.1737999175\n",
            " [381] 0.6309148806 0.5421655451 0.5382941139 0.5241446335 0.7048357686\n",
            " [386] 0.9060474365 0.3352373340 0.4956848136 0.6057952304 0.7143039083\n",
            " [391] 0.5627123654 0.2157808286 0.0810215279 0.8113545788 0.6157226768\n",
            " [396] 0.7005860758 0.2333889604 0.1030900058 0.4206856195 0.7802497719\n",
            " [401] 0.8677103843 0.5268561038 0.1415664543 0.9131620658 0.2251699470\n",
            " [406] 0.5138299617 0.0688299277 0.6792985115 0.3894380844 0.7569286194\n",
            " [411] 0.4702743684 0.7942069475 0.3995969014 0.3328294005 0.7526924573\n",
            " [416] 0.4091091261 0.4649114259 0.6658058810 0.2472005044 0.5977612915\n",
            " [421] 0.7270919922 0.3759525960 0.2912350915 0.8338487793 0.9930857810\n",
            " [426] 0.0607144637 0.7215860028 0.5747875912 0.1466093069 0.7485218689\n",
            " [431] 0.4798094927 0.0767755068 0.1380969135 0.1490603935 0.4682032637\n",
            " [436] 0.4239627634 0.7789905077 0.0804625928 0.3703070460 0.7564756943\n",
            " [441] 0.8901856347 0.2566115120 0.2353330493 0.8469891639 0.5238843702\n",
            " [446] 0.5137629661 0.3079171645 0.6565668123 0.5949391097 0.7122804103\n",
            " [451] 0.5962063469 0.8768396849 0.0198217982 0.0986072151 0.7719727087\n",
            " [456] 0.4250166329 0.1061284535 0.0110268913 0.4464222456 0.7165918616\n",
            " [461] 0.9159592827 0.6255613171 0.3247281945 0.2617679403 0.4157907661\n",
            " [466] 0.5397600465 0.2912848159 0.6117079760 0.5130772284 0.5796131602\n",
            " [471] 0.9350771580 0.9817539572 0.2434628467 0.0303435592 0.2218565689\n",
            " [476] 0.3512214049 0.2864676848 0.5721609286 0.2588216833 0.6191587612\n",
            " [481] 0.0205005507 0.2704803764 0.0821120548 0.9117883889 0.2479941837\n",
            " [486] 0.8475510284 0.7178149515 0.4048615136 0.4557887780 0.8722834272\n",
            " [491] 0.0904349505 0.5538242011 0.6334859761 0.7935504660 0.9350649535\n",
            " [496] 0.6333580333 0.2770867323 0.5429826296 0.8524969721 0.4832098491\n",
            " [501] 0.4475753633 0.8113757923 0.3170783512 0.8968667203 0.0212484787\n",
            " [506] 0.2312703355 0.8573963000 0.6486919223 0.9057770599 0.2455517718\n",
            " [511] 0.0528032668 0.4399902717 0.6992316763 0.0868774867 0.6047581557\n",
            " [516] 0.0134928156 0.4499791126 0.7252088891 0.8423866714 0.0113919071\n",
            " [521] 0.4113963798 0.3883761681 0.7986701705 0.8975406743 0.2788433215\n",
            " [526] 0.0366333253 0.3002145723 0.6248367855 0.6441730584 0.3504425678\n",
            " [531] 0.1419869198 0.3062568985 0.5675659438 0.6332506570 0.0567425374\n",
            " [536] 0.2207066328 0.4598751451 0.1593434930 0.1743055770 0.6211268681\n",
            " [541] 0.9743389287 0.1478810561 0.0242993106 0.4919433322 0.4916316203\n",
            " [546] 0.1439713525 0.5751819271 0.0189100950 0.6684684811 0.0155765219\n",
            " [551] 0.4495972374 0.0331272136 0.7440279460 0.3317542715 0.6601197448\n",
            " [556] 0.2228338203 0.5702497893 0.6498763425 0.1127470620 0.2118477306\n",
            " [561] 0.0768371155 0.6949709513 0.6060071760 0.1818582335 0.0158593266\n",
            " [566] 0.2236530645 0.9917551405 0.3144197278 0.2422962752 0.4267471214\n",
            " [571] 0.9618661947 0.8068078944 0.5520115393 0.4122009544 0.9494310429\n",
            " [576] 0.0132664758 0.9514539466 0.2654526801 0.9668058798 0.5746434185\n",
            " [581] 0.1030415252 0.1446364118 0.1584297681 0.3729818292 0.8775883739\n",
            " [586] 0.8371440177 0.9253978795 0.9375602619 0.3147666699 0.4260566747\n",
            " [591] 0.9978253640 0.7468833886 0.8851593149 0.7100035540 0.2523562382\n",
            " [596] 0.5968271749 0.4225128425 0.0781389910 0.3037191607 0.0036522793\n",
            " [601] 0.2973190419 0.3676605741 0.2972391779 0.3308134031 0.1013281555\n",
            " [606] 0.7458009996 0.8276022563 0.8866229765 0.5087397275 0.8508138098\n",
            " [611] 0.2461126849 0.8482901754 0.7288702088 0.1854523759 0.0700487197\n",
            " [616] 0.5874245605 0.9694780400 0.0787386281 0.3889124794 0.3442730645\n",
            " [621] 0.0573370673 0.0770787227 0.8017554970 0.3571377973 0.5450896717\n",
            " [626] 0.2946505111 0.6649972922 0.8440553956 0.2497192689 0.1168682576\n",
            " [631] 0.2159711627 0.6835395540 0.7829062799 0.0796403252 0.9538767101\n",
            " [636] 0.2382928798 0.2919400624 0.2125021152 0.6133845060 0.0236460243\n",
            " [641] 0.6143594669 0.7139654921 0.0378568826 0.8490145376 0.9746122110\n",
            " [646] 0.7023515309 0.3912548845 0.9238707869 0.8356145799 0.1450149018\n",
            " [651] 0.7768757741 0.1728295673 0.5375361551 0.9837567102 0.9445894144\n",
            " [656] 0.9067404726 0.7631396424 0.1823371157 0.3000227792 0.2456594291\n",
            " [661] 0.1109211128 0.5515201263 0.8665038626 0.2416739405 0.9031818611\n",
            " [666] 0.4538604259 0.4368558389 0.5951789220 0.2838379091 0.5582627176\n",
            " [671] 0.6702676416 0.9080912082 0.3266074419 0.0160299519 0.6034649921\n",
            " [676] 0.9620130181 0.6095468037 0.9232363262 0.2975844020 0.9532563793\n",
            " [681] 0.6366546913 0.2651890677 0.5023072900 0.3971986927 0.4406954778\n",
            " [686] 0.1047626519 0.7978884601 0.5727053279 0.7382194494 0.4710129737\n",
            " [691] 0.0639861207 0.6821943175 0.7416097238 0.9787475442 0.0240205316\n",
            " [696] 0.9140468472 0.9506836794 0.0571840804 0.1812313188 0.4302668926\n",
            " [701] 0.7070131576 0.8897319281 0.6189583569 0.6276765016 0.4757247386\n",
            " [706] 0.5880579358 0.1044671483 0.5876081308 0.5902058818 0.9029051029\n",
            " [711] 0.9598853218 0.2486983588 0.0084858434 0.8452528634 0.6524432148\n",
            " [716] 0.9782583381 0.2003201736 0.3043245283 0.1265911633 0.4311725583\n",
            " [721] 0.5260521583 0.0628005604 0.5689615125 0.1359530259 0.6026293475\n",
            " [726] 0.1687322594 0.3592677655 0.0860882792 0.3156374990 0.2583681628\n",
            " [731] 0.2248778885 0.5880019833 0.2377745102 0.7737528393 0.1093772736\n",
            " [736] 0.2893926867 0.6937361809 0.6695440812 0.4614000784 0.4609221641\n",
            " [741] 0.1222871387 0.1118680606 0.6243942823 0.1626621910 0.0196532627\n",
            " [746] 0.1402950545 0.8863064090 0.2718533315 0.7125979487 0.8200019670\n",
            " [751] 0.8369302629 0.9595846394 0.3297868417 0.0546590214 0.3579859151\n",
            " [756] 0.6268736889 0.3764319932 0.4186171876 0.4688965215 0.8179670278\n",
            " [761] 0.9615923791 0.1298869133 0.1349825007 0.7166947592 0.7654645620\n",
            " [766] 0.0213879656 0.3144034750 0.7842173104 0.9472818275 0.7842619177\n",
            " [771] 0.2849091199 0.3380975469 0.0343834884 0.9669343005 0.9518470835\n",
            " [776] 0.2587815912 0.8871726759 0.3923113250 0.6570914139 0.8455791864\n",
            " [781] 0.9875912493 0.4606235723 0.6313239966 0.5042117935 0.5408883519\n",
            " [786] 0.1590971545 0.2885077055 0.5391492991 0.1445941537 0.3697811554\n",
            " [791] 0.7906413211 0.3023296504 0.3029590535 0.7069128840 0.6318943625\n",
            " [796] 0.2043490777 0.6797812025 0.3485871656 0.2257313056 0.8799920357\n",
            " [801] 0.1335682328 0.5422443710 0.2215476583 0.6588620892 0.8920532795\n",
            " [806] 0.3583430078 0.3442852200 0.9652397816 0.1589811014 0.9128248288\n",
            " [811] 0.6309855201 0.6291946731 0.7211995812 0.1620319991 0.6373311049\n",
            " [816] 0.2886328065 0.9006175812 0.3907857257 0.0060157433 0.7367669047\n",
            " [821] 0.6051736836 0.1563598700 0.6667873560 0.4209288938 0.5481373152\n",
            " [826] 0.8902903667 0.5329104406 0.1768560272 0.0698394787 0.6189395080\n",
            " [831] 0.2466766494 0.9329180020 0.5818250035 0.0356272328 0.5332127856\n",
            " [836] 0.5264471212 0.2981119829 0.5195120072 0.8202755012 0.2099565856\n",
            " [841] 0.3366797161 0.1935540253 0.1172707855 0.9931269998 0.6915523246\n",
            " [846] 0.2415441729 0.2008423571 0.7837811291 0.5577374616 0.0007945578\n",
            " [851] 0.5784920354 0.1096488720 0.3215776339 0.1153127745 0.4282638654\n",
            " [856] 0.7227933088 0.9451238448 0.7180083144 0.8781562871 0.3556905175\n",
            " [861] 0.8509583077 0.3564065676 0.6464769204 0.3233639753 0.6032344766\n",
            " [866] 0.9820454346 0.5166375905 0.4752130329 0.3163609266 0.3432627558\n",
            " [871] 0.3350375993 0.5453229810 0.3864514661 0.1610691723 0.6634098052\n",
            " [876] 0.9775858623 0.4444981413 0.8805155461 0.4239281234 0.8251706414\n",
            " [881] 0.7233143002 0.2281502982 0.2098138010 0.1821412784 0.6276183139\n",
            " [886] 0.8144698902 0.0011454878 0.0428607773 0.5825398103 0.5932953987\n",
            " [891] 0.5749460634 0.6174235704 0.9890072342 0.1115096119 0.3486233694\n",
            " [896] 0.1373341692 0.9453855074 0.9440819158 0.4125112337 0.8460231635\n",
            " [901] 0.8668056379 0.3162900113 0.3789974288 0.0999548394 0.7384964529\n",
            " [906] 0.3314074030 0.3135078608 0.1766598074 0.1448729433 0.1759510288\n",
            " [911] 0.3700038814 0.0118225573 0.8843335850 0.4846452491 0.1291769076\n",
            " [916] 0.7062400928 0.9868016597 0.6404257844 0.7833129890 0.9701167198\n",
            " [921] 0.6062368042 0.8672625599 0.7804275483 0.6568486226 0.9262398610\n",
            " [926] 0.0404535012 0.7904159252 0.0129261425 0.1954177489 0.4579393122\n",
            " [931] 0.1007001395 0.0847891841 0.7274013898 0.5659724918 0.9761675191\n",
            " [936] 0.6212627238 0.5267505383 0.1454247839 0.2012335483 0.2451703136\n",
            " [941] 0.5689286829 0.3704169598 0.0605492273 0.8592278489 0.2288180374\n",
            " [946] 0.7536350167 0.7630482818 0.6326698934 0.5552555607 0.4116785968\n",
            " [951] 0.3951907366 0.4573951381 0.0904285455 0.8549966920 0.6884913028\n",
            " [956] 0.2955801740 0.8329842598 0.9899064837 0.0355841843 0.9968379240\n",
            " [961] 0.1015336716 0.2625236646 0.5280340737 0.3756705312 0.4223542964\n",
            " [966] 0.6769655623 0.6621745023 0.6647425032 0.7711265492 0.8121251716\n",
            " [971] 0.2101540028 0.8291301789 0.7845192067 0.6146162198 0.3619225031\n",
            " [976] 0.2930952061 0.8910784372 0.5270746243 0.6955239797 0.2772261065\n",
            " [981] 0.4687741359 0.4513812875 0.9460073225 0.5716010555 0.2009188222\n",
            " [986] 0.4146473146 0.0860638240 0.0755765182 0.0719519945 0.0832305251\n",
            " [991] 0.7446486238 0.4202857216 0.0676489101 0.0804782165 0.7960795966\n",
            " [996] 0.3071251605 0.3494290094 0.4205267044 0.3544001015 0.6266276347\n"
          ]
        }
      ]
    },
    {
      "cell_type": "code",
      "metadata": {
        "colab": {
          "base_uri": "https://localhost:8080/"
        },
        "id": "Iudl9Ym-qOn6",
        "outputId": "d83980ab-b745-46f1-bc6a-02dfa03a7eda"
      },
      "source": [
        "df = data.frame(X1 = x[,1],X2 = x[,1])\n",
        "print(df)"
      ],
      "execution_count": 258,
      "outputs": [
        {
          "output_type": "stream",
          "name": "stdout",
          "text": [
            "             X1         X2\n",
            "1     4.6200188  4.6200188\n",
            "2     4.3922048  4.3922048\n",
            "3     3.7235919  3.7235919\n",
            "4     6.5036147  6.5036147\n",
            "5     7.7477660  7.7477660\n",
            "6     3.1735740  3.1735740\n",
            "7     3.6727318  3.6727318\n",
            "8     4.6190669  4.6190669\n",
            "9     4.0804339  4.0804339\n",
            "10    2.4513820  2.4513820\n",
            "11    6.2300875  6.2300875\n",
            "12    5.6390775  5.6390775\n",
            "13    6.5024639  6.5024639\n",
            "14    5.4990577  5.4990577\n",
            "15    6.0525609  6.0525609\n",
            "16    3.7340955  3.7340955\n",
            "17    6.7986695  6.7986695\n",
            "18    4.2436110  4.2436110\n",
            "19    6.1141433  6.1141433\n",
            "20    6.0638044  6.0638044\n",
            "21    5.5635572  5.5635572\n",
            "22    7.9950654  7.9950654\n",
            "23    4.4385250  4.4385250\n",
            "24    4.4919217  4.4919217\n",
            "25    7.0537968  7.0537968\n",
            "26    9.2470750  9.2470750\n",
            "27    6.8157709  6.8157709\n",
            "28    4.6169053  4.6169053\n",
            "29    1.7144352  1.7144352\n",
            "30    6.5214957  6.5214957\n",
            "31    6.9023552  6.9023552\n",
            "32    1.2560452  1.2560452\n",
            "33    4.4582861  4.4582861\n",
            "34    3.5821165  3.5821165\n",
            "35    2.5945500  2.5945500\n",
            "36    8.1945322  8.1945322\n",
            "37    5.6548698  5.6548698\n",
            "38    2.0020423  2.0020423\n",
            "39    2.2055403  2.2055403\n",
            "40    5.3478543  5.3478543\n",
            "41    2.4088450  2.4088450\n",
            "42    8.2590898  8.2590898\n",
            "43    6.0982132  6.0982132\n",
            "44    7.6423432  7.6423432\n",
            "45    4.6858893  4.6858893\n",
            "46    5.2636528  5.2636528\n",
            "47    5.9045439  5.9045439\n",
            "48    3.9654364  3.9654364\n",
            "49    6.8223960  6.8223960\n",
            "50    5.7612811  5.7612811\n",
            "51    6.0349906  6.0349906\n",
            "52    5.8488695  5.8488695\n",
            "53    7.9687360  7.9687360\n",
            "54    6.3229192  6.3229192\n",
            "55    3.4371721  3.4371721\n",
            "56    4.7988290  4.7988290\n",
            "57    5.7198408  5.7198408\n",
            "58    5.0280981  5.0280981\n",
            "59    3.7793847  3.7793847\n",
            "60    6.7012203  6.7012203\n",
            "61    4.3862892  4.3862892\n",
            "62    5.6164441  5.6164441\n",
            "63    5.3894193  5.3894193\n",
            "64    5.0852966  5.0852966\n",
            "65    5.0872440  5.0872440\n",
            "66    1.9805937  1.9805937\n",
            "67    3.2759087  3.2759087\n",
            "68    4.9569586  4.9569586\n",
            "69    5.2164922  5.2164922\n",
            "70    5.4098505  5.4098505\n",
            "71    4.3215076  4.3215076\n",
            "72    3.5070429  3.5070429\n",
            "73    5.9526789  5.9526789\n",
            "74    4.1349991  4.1349991\n",
            "75    6.4889914  6.4889914\n",
            "76    8.3211946  8.3211946\n",
            "77    7.7911503  7.7911503\n",
            "78    2.1024390  2.1024390\n",
            "79    3.9514988  3.9514988\n",
            "80    7.2516918  7.2516918\n",
            "81    5.1164977  5.1164977\n",
            "82    3.7823938  3.7823938\n",
            "83    3.4432248  3.4432248\n",
            "84    4.1883646  4.1883646\n",
            "85    3.0132661  3.0132661\n",
            "86    4.1446008  4.1446008\n",
            "87    4.5047533  4.5047533\n",
            "88    4.9175547  4.9175547\n",
            "89    1.0887812  1.0887812\n",
            "90    5.3093875  5.3093875\n",
            "91    4.7778203  4.7778203\n",
            "92    5.5682548  5.5682548\n",
            "93    4.8768317  4.8768317\n",
            "94    5.3548346  5.3548346\n",
            "95    3.9024526  3.9024526\n",
            "96    2.8377621  2.8377621\n",
            "97    4.5988690  4.5988690\n",
            "98    3.4900565  3.4900565\n",
            "99    3.8698970  3.8698970\n",
            "100   5.5851196  5.5851196\n",
            "101   1.8332215  1.8332215\n",
            "102   7.1130036  7.1130036\n",
            "103   6.5002299  6.5002299\n",
            "104   2.4452796  2.4452796\n",
            "105   5.5303070  5.5303070\n",
            "106   4.0996235  4.0996235\n",
            "107   4.4309374  4.4309374\n",
            "108   9.0004313  9.0004313\n",
            "109   3.7395323  3.7395323\n",
            "110   4.9713179  4.9713179\n",
            "111   4.3205180  4.3205180\n",
            "112   4.5911247  4.5911247\n",
            "113   3.7221385  3.7221385\n",
            "114   5.3777209  5.3777209\n",
            "115   4.8029052  4.8029052\n",
            "116   6.2650659  6.2650659\n",
            "117   7.3167825  7.3167825\n",
            "118   7.3452585  7.3452585\n",
            "119   4.1045591  4.1045591\n",
            "120   6.8517239  6.8517239\n",
            "121   4.6621575  4.6621575\n",
            "122   5.1857749  5.1857749\n",
            "123   2.9508995  2.9508995\n",
            "124   6.6042556  6.6042556\n",
            "125   6.4235026  6.4235026\n",
            "126   3.5263740  3.5263740\n",
            "127   1.4472113  1.4472113\n",
            "128   6.1827100  6.1827100\n",
            "129   3.2152139  3.2152139\n",
            "130   5.2519007  5.2519007\n",
            "131   0.9000407  0.9000407\n",
            "132   5.6667245  5.6667245\n",
            "133   4.3176237  4.3176237\n",
            "134   6.3385605  6.3385605\n",
            "135   4.5322963  4.5322963\n",
            "136   5.4501158  5.4501158\n",
            "137   3.1410200  3.1410200\n",
            "138   3.9722049  3.9722049\n",
            "139   9.1276235  9.1276235\n",
            "140   5.5069660  5.5069660\n",
            "141   2.6731876  2.6731876\n",
            "142   7.7359817  7.7359817\n",
            "143   4.5352657  4.5352657\n",
            "144   3.0241676  3.0241676\n",
            "145   6.6110324  6.6110324\n",
            "146   4.5013880  4.5013880\n",
            "147   4.8406226  4.8406226\n",
            "148   3.9537136  3.9537136\n",
            "149   5.0598076  5.0598076\n",
            "150   7.8481057  7.8481057\n",
            "151   6.7464874  6.7464874\n",
            "152   5.8467507  5.8467507\n",
            "153   7.6235451  7.6235451\n",
            "154   5.7175918  5.7175918\n",
            "155   5.4228578  5.4228578\n",
            "156   4.2862243  4.2862243\n",
            "157   6.0886240  6.0886240\n",
            "158   4.6554989  4.6554989\n",
            "159   6.2692917  6.2692917\n",
            "160   4.9748519  4.9748519\n",
            "161   4.5035953  4.5035953\n",
            "162   6.5384540  6.5384540\n",
            "163   8.6583723  8.6583723\n",
            "164   3.9774371  3.9774371\n",
            "165   4.9607793  4.9607793\n",
            "166   2.0369115  2.0369115\n",
            "167   7.2023255  7.2023255\n",
            "168   6.0372387  6.0372387\n",
            "169   3.4293788  3.4293788\n",
            "170   7.0350774  7.0350774\n",
            "171   7.0438632  7.0438632\n",
            "172   6.2581134  6.2581134\n",
            "173   3.8830285  3.8830285\n",
            "174   3.0228448  3.0228448\n",
            "175   3.6070067  3.6070067\n",
            "176   4.2991172  4.2991172\n",
            "177   6.0427975  6.0427975\n",
            "178   6.5946109  6.5946109\n",
            "179   6.0717476  6.0717476\n",
            "180   6.5779023  6.5779023\n",
            "181   6.9916717  6.9916717\n",
            "182   6.1113340  6.1113340\n",
            "183   6.8613572  6.8613572\n",
            "184   5.6014997  5.6014997\n",
            "185   7.1471377  7.1471377\n",
            "186   6.0241592  6.0241592\n",
            "187   5.0361276  5.0361276\n",
            "188   9.9768001  9.9768001\n",
            "189   6.6483877  6.6483877\n",
            "190   5.6283554  5.6283554\n",
            "191   5.8282846  5.8282846\n",
            "192   5.5512839  5.5512839\n",
            "193   7.9162469  7.9162469\n",
            "194   5.8808419  5.8808419\n",
            "195   4.7147288  4.7147288\n",
            "196   6.8173582  6.8173582\n",
            "197   8.1424067  8.1424067\n",
            "198   4.8944678  4.8944678\n",
            "199   2.8077832  2.8077832\n",
            "200   5.0504307  5.0504307\n",
            "201   5.4981790  5.4981790\n",
            "202   4.3829050  4.3829050\n",
            "203   2.4548036  2.4548036\n",
            "204   4.2546419  4.2546419\n",
            "205   1.1854089  1.1854089\n",
            "206   5.7213357  5.7213357\n",
            "207   3.9951671  3.9951671\n",
            "208   5.3839047  5.3839047\n",
            "209   5.1080969  5.1080969\n",
            "210   2.4357126  2.4357126\n",
            "211   4.2845645  4.2845645\n",
            "212   3.9914089  3.9914089\n",
            "213   2.9025456  2.9025456\n",
            "214   5.7881734  5.7881734\n",
            "215   4.2338966  4.2338966\n",
            "216   5.5463179  5.5463179\n",
            "217   5.6128728  5.6128728\n",
            "218   7.2383478  7.2383478\n",
            "219   6.5044419  6.5044419\n",
            "220   4.8345079  4.8345079\n",
            "221   3.3717799  3.3717799\n",
            "222   6.0879395  6.0879395\n",
            "223   2.5685022  2.5685022\n",
            "224   4.2175770  4.2175770\n",
            "225   5.5302083  5.5302083\n",
            "226   2.9842130  2.9842130\n",
            "227   3.1881088  3.1881088\n",
            "228   5.0011592  5.0011592\n",
            "229   5.8704678  5.8704678\n",
            "230   6.9171702  6.9171702\n",
            "231   4.7701548  4.7701548\n",
            "232   3.0766421  3.0766421\n",
            "233   3.5074153  3.5074153\n",
            "234   5.2555130  5.2555130\n",
            "235   3.6586762  3.6586762\n",
            "236   7.3286393  7.3286393\n",
            "237   5.4881307  5.4881307\n",
            "238   3.1865377  3.1865377\n",
            "239   2.8675720  2.8675720\n",
            "240   3.8257073  3.8257073\n",
            "241   8.1198991  8.1198991\n",
            "242   8.2154356  8.2154356\n",
            "243   5.3167698  5.3167698\n",
            "244   3.8834648  3.8834648\n",
            "245   5.0098105  5.0098105\n",
            "246   5.8492848  5.8492848\n",
            "247   5.6615173  5.6615173\n",
            "248   5.2696696  5.2696696\n",
            "249   3.7073018  3.7073018\n",
            "250   5.8555594  5.8555594\n",
            "251   5.6375753  5.6375753\n",
            "252   6.7852818  6.7852818\n",
            "253   5.6419764  5.6419764\n",
            "254   3.8823463  3.8823463\n",
            "255   4.6496408  4.6496408\n",
            "256   7.1709485  7.1709485\n",
            "257   3.5688775  3.5688775\n",
            "258   4.8355602  4.8355602\n",
            "259   7.0690711  7.0690711\n",
            "260   6.0794829  6.0794829\n",
            "261   5.0142047  5.0142047\n",
            "262   4.2383940  4.2383940\n",
            "263   2.5161006  2.5161006\n",
            "264   5.9490731  5.9490731\n",
            "265   5.5384037  5.5384037\n",
            "266   2.9244655  2.9244655\n",
            "267   6.3035971  6.3035971\n",
            "268   3.9974400  3.9974400\n",
            "269   5.3175598  5.3175598\n",
            "270   4.3252708  4.3252708\n",
            "271   3.0435607  3.0435607\n",
            "272   3.1145292  3.1145292\n",
            "273   2.2368795  2.2368795\n",
            "274   2.7481134  2.7481134\n",
            "275   7.5499990  7.5499990\n",
            "276   5.6863101  5.6863101\n",
            "277   1.2173847  1.2173847\n",
            "278   3.6525987  3.6525987\n",
            "279   2.9199779  2.9199779\n",
            "280   6.8084407  6.8084407\n",
            "281   3.3769344  3.3769344\n",
            "282   6.3341014  6.3341014\n",
            "283   6.7172586  6.7172586\n",
            "284   3.0733767  3.0733767\n",
            "285   3.3550301  3.3550301\n",
            "286   6.9152800  6.9152800\n",
            "287   4.5145051  4.5145051\n",
            "288   4.5904351  4.5904351\n",
            "289   5.1870374  5.1870374\n",
            "290   5.7342447  5.7342447\n",
            "291   4.0055729  4.0055729\n",
            "292   2.9934990  2.9934990\n",
            "293   8.2640358  8.2640358\n",
            "294   4.8481782  4.8481782\n",
            "295   1.9063967  1.9063967\n",
            "296   7.3509882  7.3509882\n",
            "297   4.4741464  4.4741464\n",
            "298   4.7236860  4.7236860\n",
            "299   3.7307975  3.7307975\n",
            "300   7.1957282  7.1957282\n",
            "301   3.8466099  3.8466099\n",
            "302   5.5850553  5.5850553\n",
            "303   5.1333775  5.1333775\n",
            "304   4.9311874  4.9311874\n",
            "305   3.3652887  3.3652887\n",
            "306   5.9485306  5.9485306\n",
            "307   4.9093419  4.9093419\n",
            "308   3.7435517  3.7435517\n",
            "309   5.3403507  5.3403507\n",
            "310   7.8494482  7.8494482\n",
            "311   3.8123329  3.8123329\n",
            "312   1.2433786  1.2433786\n",
            "313   3.8786053  3.8786053\n",
            "314   7.7970008  7.7970008\n",
            "315   5.7381856  5.7381856\n",
            "316   5.4770752  5.4770752\n",
            "317   5.2434853  5.2434853\n",
            "318   6.5412700  6.5412700\n",
            "319   5.7165776  5.7165776\n",
            "320   2.0975123  2.0975123\n",
            "321   7.7822265  7.7822265\n",
            "322   6.4597437  6.4597437\n",
            "323   6.1672692  6.1672692\n",
            "324   4.1975292  4.1975292\n",
            "325   2.2119926  2.2119926\n",
            "326   7.8445545  7.8445545\n",
            "327   3.0200551  3.0200551\n",
            "328   7.8692948  7.8692948\n",
            "329   4.1444200  4.1444200\n",
            "330   4.2476636  4.2476636\n",
            "331   7.5234392  7.5234392\n",
            "332   2.7171814  2.7171814\n",
            "333   4.9553625  4.9553625\n",
            "334   7.3355232  7.3355232\n",
            "335   3.2648421  3.2648421\n",
            "336   3.3274536  3.3274536\n",
            "337   3.7899821  3.7899821\n",
            "338   7.1004837  7.1004837\n",
            "339   7.2085423  7.2085423\n",
            "340   6.7556269  6.7556269\n",
            "341   7.2773341  7.2773341\n",
            "342   7.9535124  7.9535124\n",
            "343   7.4085561  7.4085561\n",
            "344   3.0244612  3.0244612\n",
            "345   6.1809884  6.1809884\n",
            "346   5.4284891  5.4284891\n",
            "347   3.5133192  3.5133192\n",
            "348   8.2762189  8.2762189\n",
            "349   5.0581807  5.0581807\n",
            "350   3.7393917  3.7393917\n",
            "351   4.6092879  4.6092879\n",
            "352   5.5763576  5.5763576\n",
            "353   7.7274517  7.7274517\n",
            "354   1.6598169  1.6598169\n",
            "355   7.9254852  7.9254852\n",
            "356   1.2690490  1.2690490\n",
            "357   4.5123280  4.5123280\n",
            "358   4.7428962  4.7428962\n",
            "359   5.6746280  5.6746280\n",
            "360   6.9958075  6.9958075\n",
            "361   3.3327785  3.3327785\n",
            "362   5.7404695  5.7404695\n",
            "363   2.5668547  2.5668547\n",
            "364   3.8774895  3.8774895\n",
            "365   5.5377573  5.5377573\n",
            "366   4.2371137  4.2371137\n",
            "367   6.1395531  6.1395531\n",
            "368   5.0695477  5.0695477\n",
            "369   3.2296130  3.2296130\n",
            "370   4.2285754  4.2285754\n",
            "371   5.1298959  5.1298959\n",
            "372   3.1213126  3.1213126\n",
            "373   4.2616455  4.2616455\n",
            "374   6.3754164  6.3754164\n",
            "375   6.4867168  6.4867168\n",
            "376   3.1815187  3.1815187\n",
            "377   2.3510132  2.3510132\n",
            "378   4.5988152  4.5988152\n",
            "379   6.4667861  6.4667861\n",
            "380   4.1039835  4.1039835\n",
            "381   4.2932753  4.2932753\n",
            "382   4.0724813  4.0724813\n",
            "383   6.8103479  6.8103479\n",
            "384   3.6422307  3.6422307\n",
            "385   5.7239391  5.7239391\n",
            "386   5.0344931  5.0344931\n",
            "387   2.7123853  2.7123853\n",
            "388   4.3054093  4.3054093\n",
            "389   5.8495411  5.8495411\n",
            "390   6.3520603  6.3520603\n",
            "391   4.6466596  4.6466596\n",
            "392   2.1110779  2.1110779\n",
            "393   8.8442770  8.8442770\n",
            "394   4.6315990  4.6315990\n",
            "395   6.1262395  6.1262395\n",
            "396   3.5576026  3.5576026\n",
            "397   6.1838994  6.1838994\n",
            "398   4.0967940  4.0967940\n",
            "399   4.0266022  4.0266022\n",
            "400   4.6032230  4.6032230\n",
            "401   5.5559930  5.5559930\n",
            "402   5.9751810  5.9751810\n",
            "403   3.4529498  3.4529498\n",
            "404   5.7316224  5.7316224\n",
            "405   7.6661228  7.6661228\n",
            "406   3.6943006  3.6943006\n",
            "407   1.5031291  1.5031291\n",
            "408   3.5451731  3.5451731\n",
            "409   7.4101206  7.4101206\n",
            "410   4.3737801  4.3737801\n",
            "411   6.6858094  6.6858094\n",
            "412   4.6962502  4.6962502\n",
            "413   6.5704747  6.5704747\n",
            "414   2.7887171  2.7887171\n",
            "415   4.1276203  4.1276203\n",
            "416   4.6088836  4.6088836\n",
            "417   4.8812381  4.8812381\n",
            "418   6.5869437  6.5869437\n",
            "419   3.9454297  3.9454297\n",
            "420   6.6865828  6.6865828\n",
            "421   6.2636027  6.2636027\n",
            "422   4.6694711  4.6694711\n",
            "423   5.4104849  5.4104849\n",
            "424   5.5448051  5.5448051\n",
            "425   4.8232609  4.8232609\n",
            "426   4.5642933  4.5642933\n",
            "427   5.0415386  5.0415386\n",
            "428   5.0170805  5.0170805\n",
            "429   7.7547598  7.7547598\n",
            "430   5.7972809  5.7972809\n",
            "431   4.4310792  4.4310792\n",
            "432   1.1111279  1.1111279\n",
            "433   6.7303710  6.7303710\n",
            "434   2.3741693  2.3741693\n",
            "435   6.8751516  6.8751516\n",
            "436   6.1446753  6.1446753\n",
            "437   4.0461643  4.0461643\n",
            "438   6.6422069  6.6422069\n",
            "439   3.4965632  3.4965632\n",
            "440   3.7098461  3.7098461\n",
            "441   4.1860335  4.1860335\n",
            "442   5.0985866  5.0985866\n",
            "443   2.6612901  2.6612901\n",
            "444   4.8830363  4.8830363\n",
            "445   5.2976084  5.2976084\n",
            "446   4.0982408  4.0982408\n",
            "447   4.8339014  4.8339014\n",
            "448   4.5702737  4.5702737\n",
            "449   4.3011893  4.3011893\n",
            "450   5.0940418  5.0940418\n",
            "451   5.0231530  5.0231530\n",
            "452   4.2247950  4.2247950\n",
            "453   0.2736549  0.2736549\n",
            "454   4.2629745  4.2629745\n",
            "455   3.8362367  3.8362367\n",
            "456   6.3199668  6.3199668\n",
            "457   2.9286087  2.9286087\n",
            "458   0.4212577  0.4212577\n",
            "459   7.1073168  7.1073168\n",
            "460   3.5877857  3.5877857\n",
            "461   4.3195958  4.3195958\n",
            "462   4.2495766  4.2495766\n",
            "463   2.7824241  2.7824241\n",
            "464   6.7695050  6.7695050\n",
            "465   4.6594183  4.6594183\n",
            "466   6.8310713  6.8310713\n",
            "467   6.9370399  6.9370399\n",
            "468   5.8625540  5.8625540\n",
            "469   3.0420636  3.0420636\n",
            "470   3.3757302  3.3757302\n",
            "471   5.6501780  5.6501780\n",
            "472   4.7068618  4.7068618\n",
            "473   4.4259597  4.4259597\n",
            "474   3.0698571  3.0698571\n",
            "475   8.0453826  8.0453826\n",
            "476   6.5060287  6.5060287\n",
            "477   3.6848752  3.6848752\n",
            "478   6.8525733  6.8525733\n",
            "479   4.9115594  4.9115594\n",
            "480   4.8139836  4.8139836\n",
            "481   9.0035672  9.0035672\n",
            "482   7.0558013  7.0558013\n",
            "483   4.7712399  4.7712399\n",
            "484   4.3373696  4.3373696\n",
            "485   5.2344386  5.2344386\n",
            "486   5.9820168  5.9820168\n",
            "487   4.8386847  4.8386847\n",
            "488   7.1419294  7.1419294\n",
            "489   7.2003495  7.2003495\n",
            "490   5.4928342  5.4928342\n",
            "491   8.2147696  8.2147696\n",
            "492   5.9525889  5.9525889\n",
            "493   6.5422639  6.5422639\n",
            "494   4.7940627  4.7940627\n",
            "495   4.6556253  4.6556253\n",
            "496   6.5400469  6.5400469\n",
            "497   2.4907914  2.4907914\n",
            "498   6.7387626  6.7387626\n",
            "499   5.8070904  5.8070904\n",
            "500   4.0985040  4.0985040\n",
            "501   5.8712967  5.8712967\n",
            "502   5.9707680  5.9707680\n",
            "503   3.5048219  3.5048219\n",
            "504   4.2022001  4.2022001\n",
            "505   7.7106800  7.7106800\n",
            "506   7.6986190  7.6986190\n",
            "507   4.0841833  4.0841833\n",
            "508   3.8616358  3.8616358\n",
            "509   4.2371915  4.2371915\n",
            "510   4.7150854  4.7150854\n",
            "511   2.4831629  2.4831629\n",
            "512   2.7881942  2.7881942\n",
            "513   5.2628118  5.2628118\n",
            "514   1.1524097  1.1524097\n",
            "515   5.3800995  5.3800995\n",
            "516   5.5108586  5.5108586\n",
            "517   6.9654551  6.9654551\n",
            "518   5.9136744  5.9136744\n",
            "519   4.0510898  4.0510898\n",
            "520   3.1271655  3.1271655\n",
            "521   5.6415261  5.6415261\n",
            "522   4.2263284  4.2263284\n",
            "523   6.1826199  6.1826199\n",
            "524   5.8252703  5.8252703\n",
            "525   3.5620625  3.5620625\n",
            "526   2.5664691  2.5664691\n",
            "527   3.8345979  3.8345979\n",
            "528   6.3762171  6.3762171\n",
            "529   6.5729869  6.5729869\n",
            "530   7.4305539  7.4305539\n",
            "531   6.4695089  6.4695089\n",
            "532   2.5106370  2.5106370\n",
            "533   3.1547342  3.1547342\n",
            "534   6.6131224  6.6131224\n",
            "535   8.4706956  8.4706956\n",
            "536   3.9325245  3.9325245\n",
            "537   3.3985917  3.3985917\n",
            "538   8.2552917  8.2552917\n",
            "539   4.1195807  4.1195807\n",
            "540   4.6443187  4.6443187\n",
            "541   4.6334190  4.6334190\n",
            "542   7.9263480  7.9263480\n",
            "543   0.8922163  0.8922163\n",
            "544   4.5112887  4.5112887\n",
            "545   3.6822434  3.6822434\n",
            "546   4.3804761  4.3804761\n",
            "547   5.2053255  5.2053255\n",
            "548   9.7468754  9.7468754\n",
            "549   6.2814756  6.2814756\n",
            "550   6.9482133  6.9482133\n",
            "551   4.0218430  4.0218430\n",
            "552   0.7730516  0.7730516\n",
            "553   5.8658493  5.8658493\n",
            "554   2.6432007  2.6432007\n",
            "555   3.7104790  3.7104790\n",
            "556   5.6216160  5.6216160\n",
            "557   5.7933548  5.7933548\n",
            "558   5.6449781  5.6449781\n",
            "559   7.8246659  7.8246659\n",
            "560   4.3224753  4.3224753\n",
            "561   3.4135053  3.4135053\n",
            "562   4.0843433  4.0843433\n",
            "563   5.1612130  5.1612130\n",
            "564   6.7392842  6.7392842\n",
            "565   0.4393538  0.4393538\n",
            "566   4.0474062  4.0474062\n",
            "567   4.8392054  4.8392054\n",
            "568   6.0665627  6.0665627\n",
            "569   2.0875899  2.0875899\n",
            "570   5.6568369  5.6568369\n",
            "571   5.5008561  5.5008561\n",
            "572   5.5940530  5.5940530\n",
            "573   3.6322477  3.6322477\n",
            "574   3.2271362  3.2271362\n",
            "575   4.5111013  4.5111013\n",
            "576   3.4274610  3.4274610\n",
            "577   5.4915951  5.4915951\n",
            "578   7.6030992  7.6030992\n",
            "579   5.2818236  5.2818236\n",
            "580   5.5877244  5.5877244\n",
            "581   3.3125987  3.3125987\n",
            "582   6.3580479  6.3580479\n",
            "583   2.4246015  2.4246015\n",
            "584   4.2332194  4.2332194\n",
            "585   4.9374079  4.9374079\n",
            "586   4.7794151  4.7794151\n",
            "587   5.6934013  5.6934013\n",
            "588   4.7067449  4.7067449\n",
            "589   5.5566104  5.5566104\n",
            "590   5.0930304  5.0930304\n",
            "591   4.9775973  4.9775973\n",
            "592   5.2069288  5.2069288\n",
            "593   5.8765705  5.8765705\n",
            "594   5.0426323  5.0426323\n",
            "595   2.9791291  2.9791291\n",
            "596   3.2735664  3.2735664\n",
            "597   2.8424023  2.8424023\n",
            "598   5.0127799  5.0127799\n",
            "599   5.1618459  5.1618459\n",
            "600   9.0098513  9.0098513\n",
            "601   3.4563830  3.4563830\n",
            "602   7.4537337  7.4537337\n",
            "603   6.8997949  6.8997949\n",
            "604   5.2160154  5.2160154\n",
            "605   7.3933751  7.3933751\n",
            "606   6.3478001  6.3478001\n",
            "607   4.2960342  4.2960342\n",
            "608   5.8684636  5.8684636\n",
            "609   3.3357468  3.3357468\n",
            "610   6.0071982  6.0071982\n",
            "611   6.5481188  6.5481188\n",
            "612   4.3161029  4.3161029\n",
            "613   6.1708449  6.1708449\n",
            "614   8.2146074  8.2146074\n",
            "615   9.0127112  9.0127112\n",
            "616   6.2607605  6.2607605\n",
            "617   4.7321413  4.7321413\n",
            "618   8.7131535  8.7131535\n",
            "619   3.8441935  3.8441935\n",
            "620   6.7125112  6.7125112\n",
            "621   3.7139759  3.7139759\n",
            "622   2.5991183  2.5991183\n",
            "623   4.8918960  4.8918960\n",
            "624   4.8444987  4.8444987\n",
            "625   5.1646374  5.1646374\n",
            "626   7.4405176  7.4405176\n",
            "627   3.5056272  3.5056272\n",
            "628   5.0495508  5.0495508\n",
            "629   4.1024767  4.1024767\n",
            "630   1.4347423  1.4347423\n",
            "631   5.2391736  5.2391736\n",
            "632   6.1177300  6.1177300\n",
            "633   4.2245438  4.2245438\n",
            "634   5.4728672  5.4728672\n",
            "635   4.6665024  4.6665024\n",
            "636   5.8644581  5.8644581\n",
            "637   2.4112587  2.4112587\n",
            "638   2.0516435  2.0516435\n",
            "639   6.1222273  6.1222273\n",
            "640   0.9221010  0.9221010\n",
            "641   3.9687433  3.9687433\n",
            "642   6.1551949  6.1551949\n",
            "643   4.2272900  4.2272900\n",
            "644   5.7854932  5.7854932\n",
            "645   5.0267199  5.0267199\n",
            "646   4.4936339  4.4936339\n",
            "647   7.3286221  7.3286221\n",
            "648   4.3554941  4.3554941\n",
            "649   5.5648042  5.5648042\n",
            "650   2.0165577  2.0165577\n",
            "651   3.7726275  3.7726275\n",
            "652   6.5267764  6.5267764\n",
            "653   5.2535457  5.2535457\n",
            "654   5.3289884  5.3289884\n",
            "655   5.4005417  5.4005417\n",
            "656   4.3425185  4.3425185\n",
            "657   5.7697190  5.7697190\n",
            "658   6.0625533  6.0625533\n",
            "659   7.4824529  7.4824529\n",
            "660   7.5359244  7.5359244\n",
            "661   8.0696178  8.0696178\n",
            "662   6.9198498  6.9198498\n",
            "663   4.1940573  4.1940573\n",
            "664   7.8009174  7.8009174\n",
            "665   4.2368512  4.2368512\n",
            "666   5.4504821  5.4504821\n",
            "667   4.3319237  4.3319237\n",
            "668   5.1804166  5.1804166\n",
            "669   3.4134045  3.4134045\n",
            "670   5.5810387  5.5810387\n",
            "671   4.1037745  4.1037745\n",
            "672   5.4880929  5.4880929\n",
            "673   4.2865897  4.2865897\n",
            "674   0.1880155  0.1880155\n",
            "675   6.6692358  6.6692358\n",
            "676   5.4343984  5.4343984\n",
            "677   4.8110513  4.8110513\n",
            "678   4.4323292  4.4323292\n",
            "679   3.4619773  3.4619773\n",
            "680   5.4816197  5.4816197\n",
            "681   5.1394836  5.1394836\n",
            "682   5.4893346  5.4893346\n",
            "683   6.8673237  6.8673237\n",
            "684   2.9646235  2.9646235\n",
            "685   3.0359531  3.0359531\n",
            "686   2.4844869  2.4844869\n",
            "687   6.1867122  6.1867122\n",
            "688   5.6396254  5.6396254\n",
            "689   5.1681636  5.1681636\n",
            "690   6.0709446  6.0709446\n",
            "691   5.3444733  5.3444733\n",
            "692   4.8084558  4.8084558\n",
            "693   5.7115252  5.7115252\n",
            "694   4.8332745  4.8332745\n",
            "695   3.3071165  3.3071165\n",
            "696   5.5579201  5.5579201\n",
            "697   5.2244023  5.2244023\n",
            "698   8.7503421  8.7503421\n",
            "699   5.3109424  5.3109424\n",
            "700   6.8239626  6.8239626\n",
            "701   5.6151480  5.6151480\n",
            "702   4.1714747  4.1714747\n",
            "703   3.8432562  3.8432562\n",
            "704   6.5482098  6.5482098\n",
            "705   5.9153838  5.9153838\n",
            "706   3.2285950  3.2285950\n",
            "707   3.4196823  3.4196823\n",
            "708   6.6678214  6.6678214\n",
            "709   3.4065885  3.4065885\n",
            "710   4.2246872  4.2246872\n",
            "711   5.0423805  5.0423805\n",
            "712   7.6724750  7.6724750\n",
            "713   8.6572501  8.6572501\n",
            "714   4.3376465  4.3376465\n",
            "715   5.5250325  5.5250325\n",
            "716   5.1422318  5.1422318\n",
            "717   6.7923789  6.7923789\n",
            "718   2.6855953  2.6855953\n",
            "719   6.0605660  6.0605660\n",
            "720   3.4513515  3.4513515\n",
            "721   5.1030195  5.1030195\n",
            "722   1.5042201  1.5042201\n",
            "723   4.2308690  4.2308690\n",
            "724   8.3005146  8.3005146\n",
            "725   5.5116839  5.5116839\n",
            "726   2.8090918  2.8090918\n",
            "727   2.5521068  2.5521068\n",
            "728   6.2341271  6.2341271\n",
            "729   7.2487711  7.2487711\n",
            "730   2.2653069  2.2653069\n",
            "731   7.7744407  7.7744407\n",
            "732   5.6024552  5.6024552\n",
            "733   7.8821088  7.8821088\n",
            "734   6.1943789  6.1943789\n",
            "735   6.0959567  6.0959567\n",
            "736   6.0531322  6.0531322\n",
            "737   6.2320219  6.2320219\n",
            "738   6.5766878  6.5766878\n",
            "739   3.3608396  3.3608396\n",
            "740   6.7460226  6.7460226\n",
            "741   1.5710025  1.5710025\n",
            "742   1.4456484  1.4456484\n",
            "743   6.1778023  6.1778023\n",
            "744   5.6759007  5.6759007\n",
            "745   0.3150961  0.3150961\n",
            "746   1.5696573  1.5696573\n",
            "747   5.2495829  5.2495829\n",
            "748   2.6685999  2.6685999\n",
            "749   5.4449337  5.4449337\n",
            "750   5.8592595  5.8592595\n",
            "751   5.9958929  5.9958929\n",
            "752   5.2256216  5.2256216\n",
            "753   7.6051806  7.6051806\n",
            "754   4.9987378  4.9987378\n",
            "755   4.0508634  4.0508634\n",
            "756   5.8617562  5.8617562\n",
            "757   5.6234773  5.6234773\n",
            "758   3.2169374  3.2169374\n",
            "759   2.8804874  2.8804874\n",
            "760   3.9462955  3.9462955\n",
            "761   4.8179094  4.8179094\n",
            "762   7.2202739  7.2202739\n",
            "763   2.2965303  2.2965303\n",
            "764   6.1210125  6.1210125\n",
            "765   5.1678575  5.1678575\n",
            "766   8.1665695  8.1665695\n",
            "767   7.5055017  7.5055017\n",
            "768   4.2516340  4.2516340\n",
            "769   4.5337661  4.5337661\n",
            "770   5.9113155  5.9113155\n",
            "771   6.3444937  6.3444937\n",
            "772   7.5872364  7.5872364\n",
            "773   0.6145722  0.6145722\n",
            "774   5.3664116  5.3664116\n",
            "775   5.3853089  5.3853089\n",
            "776   6.0954861  6.0954861\n",
            "777   4.3856122  4.3856122\n",
            "778   4.5104252  4.5104252\n",
            "779   5.5703396  5.5703396\n",
            "780   4.6128335  4.6128335\n",
            "781   5.2890515  5.2890515\n",
            "782   2.8581888  2.8581888\n",
            "783   4.8081080  4.8081080\n",
            "784   6.4329207  6.4329207\n",
            "785   6.9510372  6.9510372\n",
            "786   2.5357019  2.5357019\n",
            "787   7.2368971  7.2368971\n",
            "788   6.5640032  6.5640032\n",
            "789   8.4502417  8.4502417\n",
            "790   5.7204600  5.7204600\n",
            "791   5.7682006  5.7682006\n",
            "792   6.7835915  6.7835915\n",
            "793   7.2667758  7.2667758\n",
            "794   5.7945184  5.7945184\n",
            "795   4.0441220  4.0441220\n",
            "796   7.8772390  7.8772390\n",
            "797   3.8452631  3.8452631\n",
            "798   2.8660060  2.8660060\n",
            "799   7.5163528  7.5163528\n",
            "800   4.1940753  4.1940753\n",
            "801   1.5156433  1.5156433\n",
            "802   3.7094487  3.7094487\n",
            "803   3.5305356  3.5305356\n",
            "804   3.4993719  3.4993719\n",
            "805   5.8424091  5.8424091\n",
            "806   7.2561393  7.2561393\n",
            "807   4.8897755  4.8897755\n",
            "808   5.2523260  5.2523260\n",
            "809   4.3579710  4.3579710\n",
            "810   5.4640233  5.4640233\n",
            "811   5.0748418  5.0748418\n",
            "812   6.5391348  6.5391348\n",
            "813   5.5723572  5.5723572\n",
            "814   1.8775150  1.8775150\n",
            "815   4.4722112  4.4722112\n",
            "816   2.6196472  2.6196472\n",
            "817   5.5812873  5.5812873\n",
            "818   2.6578581  2.6578581\n",
            "819  -0.5699029 -0.5699029\n",
            "820   3.7011791  3.7011791\n",
            "821   6.4088268  6.4088268\n",
            "822   6.4784868  6.4784868\n",
            "823   4.5237983  4.5237983\n",
            "824   2.7161558  2.7161558\n",
            "825   3.8735960  3.8735960\n",
            "826   4.7012488  4.7012488\n",
            "827   6.9680316  6.9680316\n",
            "828   8.1690814  8.1690814\n",
            "829   1.6138486  1.6138486\n",
            "830   6.1527459  6.1527459\n",
            "831   4.0062192  4.0062192\n",
            "832   4.6243186  4.6243186\n",
            "833   5.2266004  5.2266004\n",
            "834   6.9270033  6.9270033\n",
            "835   5.3274212  5.3274212\n",
            "836   3.3366437  3.3366437\n",
            "837   4.9436875  4.9436875\n",
            "838   6.6639925  6.6639925\n",
            "839   5.2053501  5.2053501\n",
            "840   7.8057234  7.8057234\n",
            "841   2.9181800  2.9181800\n",
            "842   8.1799916  8.1799916\n",
            "843   1.4988398  1.4988398\n",
            "844   5.0324313  5.0324313\n",
            "845   4.4770151  4.4770151\n",
            "846   3.2731270  3.2731270\n",
            "847   2.3174527  2.3174527\n",
            "848   4.2855838  4.2855838\n",
            "849   4.0383409  4.0383409\n",
            "850   9.7598782  9.7598782\n",
            "851   4.2947359  4.2947359\n",
            "852   6.9571453  6.9571453\n",
            "853   3.8612792  3.8612792\n",
            "854   8.3860420  8.3860420\n",
            "855   5.9027638  5.9027638\n",
            "856   3.7009145  3.7009145\n",
            "857   5.1966332  5.1966332\n",
            "858   3.6611612  3.6611612\n",
            "859   4.3058515  4.3058515\n",
            "860   2.5656179  2.5656179\n",
            "861   4.3714534  4.3714534\n",
            "862   3.0936445  3.0936445\n",
            "863   5.0421339  5.0421339\n",
            "864   7.4157154  7.4157154\n",
            "865   5.9041010  5.9041010\n",
            "866   4.9332444  4.9332444\n",
            "867   6.8100418  6.8100418\n",
            "868   2.8935832  2.8935832\n",
            "869   7.6378666  7.6378666\n",
            "870   2.7105642  2.7105642\n",
            "871   2.4303755  2.4303755\n",
            "872   4.5606303  4.5606303\n",
            "873   5.5853759  5.5853759\n",
            "874   1.6971443  1.6971443\n",
            "875   5.2943514  5.2943514\n",
            "876   4.6945701  4.6945701\n",
            "877   2.8358045  2.8358045\n",
            "878   5.8232632  5.8232632\n",
            "879   2.7317189  2.7317189\n",
            "880   4.3529210  4.3529210\n",
            "881   5.9630685  5.9630685\n",
            "882   7.9193931  7.9193931\n",
            "883   7.5155087  7.5155087\n",
            "884   7.6476562  7.6476562\n",
            "885   4.7724776  4.7724776\n",
            "886   5.0650358  5.0650358\n",
            "887  -1.3521006 -1.3521006\n",
            "888   0.7195257  0.7195257\n",
            "889   4.1412816  4.1412816\n",
            "890   5.3628783  5.3628783\n",
            "891   4.9994815  4.9994815\n",
            "892   6.6611490  6.6611490\n",
            "893   4.7676479  4.7676479\n",
            "894   1.7548574  1.7548574\n",
            "895   5.6948778  5.6948778\n",
            "896   4.2312973  4.2312973\n",
            "897   4.4359458  4.4359458\n",
            "898   4.4215968  4.4215968\n",
            "899   7.2638824  7.2638824\n",
            "900   4.1695176  4.1695176\n",
            "901   4.5985076  4.5985076\n",
            "902   3.1595407  3.1595407\n",
            "903   5.5266167  5.5266167\n",
            "904   5.2395630  5.2395630\n",
            "905   3.6861913  3.6861913\n",
            "906   5.9733538  5.9733538\n",
            "907   2.6123894  2.6123894\n",
            "908   1.8270749  1.8270749\n",
            "909   6.0362083  6.0362083\n",
            "910   2.6684989  2.6684989\n",
            "911   6.4286228  6.4286228\n",
            "912   9.2754420  9.2754420\n",
            "913   4.2526934  4.2526934\n",
            "914   3.4628861  3.4628861\n",
            "915   7.8490985  7.8490985\n",
            "916   3.5715108  3.5715108\n",
            "917   4.7398013  4.7398013\n",
            "918   3.8341682  3.8341682\n",
            "919   5.4433870  5.4433870\n",
            "920   5.0712937  5.0712937\n",
            "921   6.7445695  6.7445695\n",
            "922   5.9465539  5.9465539\n",
            "923   3.9633237  3.9633237\n",
            "924   3.9256456  3.9256456\n",
            "925   4.8568371  4.8568371\n",
            "926   9.4195328  9.4195328\n",
            "927   5.3462349  5.3462349\n",
            "928   5.1037782  5.1037782\n",
            "929   4.9380656  4.9380656\n",
            "930   2.8317272  2.8317272\n",
            "931   3.3784179  3.3784179\n",
            "932   7.1588679  7.1588679\n",
            "933   5.8302809  5.8302809\n",
            "934   3.4430779  3.4430779\n",
            "935   5.0916905  5.0916905\n",
            "936   5.8306151  5.8306151\n",
            "937   4.3827714  4.3827714\n",
            "938   8.3735550  8.3735550\n",
            "939   2.3076381  2.3076381\n",
            "940   7.1845971  7.1845971\n",
            "941   3.6179738  3.6179738\n",
            "942   2.5542020  2.5542020\n",
            "943   7.8526719  7.8526719\n",
            "944   5.8121112  5.8121112\n",
            "945   4.8301391  4.8301391\n",
            "946   6.3276176  6.3276176\n",
            "947   3.7972939  3.7972939\n",
            "948   5.8133512  5.8133512\n",
            "949   6.8539721  6.8539721\n",
            "950   3.6318099  3.6318099\n",
            "951   2.9967531  2.9967531\n",
            "952   6.4533859  6.4533859\n",
            "953   7.0694449  7.0694449\n",
            "954   4.6368356  4.6368356\n",
            "955   4.6278140  4.6278140\n",
            "956   7.7367172  7.7367172\n",
            "957   6.0495599  6.0495599\n",
            "958   4.7984593  4.7984593\n",
            "959   7.9490845  7.9490845\n",
            "960   4.8943426  4.8943426\n",
            "961   8.7484697  8.7484697\n",
            "962   6.0199973  6.0199973\n",
            "963   5.5355218  5.5355218\n",
            "964   3.4235773  3.4235773\n",
            "965   2.7879450  2.7879450\n",
            "966   3.5501672  3.5501672\n",
            "967   3.9541320  3.9541320\n",
            "968   6.5701219  6.5701219\n",
            "969   5.5154901  5.5154901\n",
            "970   5.8541057  5.8541057\n",
            "971   4.7452165  4.7452165\n",
            "972   4.2388913  4.2388913\n",
            "973   3.8802026  3.8802026\n",
            "974   5.2117455  5.2117455\n",
            "975   5.2312919  5.2312919\n",
            "976   3.5688598  3.5688598\n",
            "977   5.8532412  5.8532412\n",
            "978   6.1412901  6.1412901\n",
            "979   4.3039591  4.3039591\n",
            "980   2.2268148  2.2268148\n",
            "981   3.7550488  3.7550488\n",
            "982   6.9578752  6.9578752\n",
            "983   5.3676765  5.3676765\n",
            "984   5.1192608  5.1192608\n",
            "985   1.8843974  1.8843974\n",
            "986   7.1509506  7.1509506\n",
            "987   1.4777852  1.4777852\n",
            "988   2.0774006  2.0774006\n",
            "989   1.3462667  1.3462667\n",
            "990   8.9100618  8.9100618\n",
            "991   5.0097045  5.0097045\n",
            "992   6.5301967  6.5301967\n",
            "993   4.0141428  4.0141428\n",
            "994   8.5718612  8.5718612\n",
            "995   5.5435645  5.5435645\n",
            "996   6.0445369  6.0445369\n",
            "997   5.8183410  5.8183410\n",
            "998   5.1245001  5.1245001\n",
            "999   3.0620486  3.0620486\n",
            "1000  3.6221154  3.6221154\n"
          ]
        }
      ]
    },
    {
      "cell_type": "code",
      "metadata": {
        "colab": {
          "base_uri": "https://localhost:8080/",
          "height": 0
        },
        "id": "RC7m_3tjqSFp",
        "outputId": "82e337cb-7eb2-411e-d8bf-122abe8ce7af"
      },
      "source": [
        "df = data.frame(Var1= x[,1],Var2 = x[,2])\n",
        "df"
      ],
      "execution_count": 259,
      "outputs": [
        {
          "output_type": "display_data",
          "data": {
            "text/plain": [
              "     Var1     Var2     \n",
              "1    4.620019 14.030877\n",
              "2    4.392205 10.512677\n",
              "3    3.723592  6.478555\n",
              "4    6.503615 13.378725\n",
              "5    7.747766 11.725814\n",
              "6    3.173574 10.210387\n",
              "7    3.672732  7.351880\n",
              "8    4.619067 11.358652\n",
              "9    4.080434 10.595175\n",
              "10   2.451382  7.624599\n",
              "11   6.230087  9.866734\n",
              "12   5.639078  9.565009\n",
              "13   6.502464  9.548247\n",
              "14   5.499058 10.069595\n",
              "15   6.052561  7.584989\n",
              "16   3.734095  8.028713\n",
              "17   6.798669 12.809467\n",
              "18   4.243611  8.935199\n",
              "19   6.114143  6.973336\n",
              "20   6.063804  9.918231\n",
              "21   5.563557 12.032629\n",
              "22   7.995065 13.608035\n",
              "23   4.438525 12.528299\n",
              "24   4.491922  8.098042\n",
              "25   7.053797 12.358922\n",
              "26   9.247075 16.555265\n",
              "27   6.815771  8.584685\n",
              "28   4.616905  6.751491\n",
              "29   1.714435 10.361448\n",
              "30   6.521496  7.702026\n",
              "⋮    ⋮        ⋮        \n",
              "971  4.745217 13.620525\n",
              "972  4.238891  8.513054\n",
              "973  3.880203  8.652542\n",
              "974  5.211745  7.912262\n",
              "975  5.231292 13.188161\n",
              "976  3.568860 11.925570\n",
              "977  5.853241 10.464728\n",
              "978  6.141290 12.696219\n",
              "979  4.303959 11.121710\n",
              "980  2.226815  8.463667\n",
              "981  3.755049 11.315788\n",
              "982  6.957875 12.484060\n",
              "983  5.367677  9.580970\n",
              "984  5.119261  7.686828\n",
              "985  1.884397  7.993338\n",
              "986  7.150951 12.433238\n",
              "987  1.477785  5.696089\n",
              "988  2.077401  4.698051\n",
              "989  1.346267  9.612522\n",
              "990  8.910062 12.465494\n",
              "991  5.009704 11.615667\n",
              "992  6.530197 13.078082\n",
              "993  4.014143  4.361802\n",
              "994  8.571861 10.143132\n",
              "995  5.543564  8.950712\n",
              "996  6.044537  7.484184\n",
              "997  5.818341  7.435041\n",
              "998  5.124500 12.888250\n",
              "999  3.062049 10.676513\n",
              "1000 3.622115  7.841396"
            ],
            "text/latex": "A data.frame: 1000 × 2\n\\begin{tabular}{ll}\n Var1 & Var2\\\\\n <dbl> & <dbl>\\\\\n\\hline\n\t 4.620019 & 14.030877\\\\\n\t 4.392205 & 10.512677\\\\\n\t 3.723592 &  6.478555\\\\\n\t 6.503615 & 13.378725\\\\\n\t 7.747766 & 11.725814\\\\\n\t 3.173574 & 10.210387\\\\\n\t 3.672732 &  7.351880\\\\\n\t 4.619067 & 11.358652\\\\\n\t 4.080434 & 10.595175\\\\\n\t 2.451382 &  7.624599\\\\\n\t 6.230087 &  9.866734\\\\\n\t 5.639078 &  9.565009\\\\\n\t 6.502464 &  9.548247\\\\\n\t 5.499058 & 10.069595\\\\\n\t 6.052561 &  7.584989\\\\\n\t 3.734095 &  8.028713\\\\\n\t 6.798669 & 12.809467\\\\\n\t 4.243611 &  8.935199\\\\\n\t 6.114143 &  6.973336\\\\\n\t 6.063804 &  9.918231\\\\\n\t 5.563557 & 12.032629\\\\\n\t 7.995065 & 13.608035\\\\\n\t 4.438525 & 12.528299\\\\\n\t 4.491922 &  8.098042\\\\\n\t 7.053797 & 12.358922\\\\\n\t 9.247075 & 16.555265\\\\\n\t 6.815771 &  8.584685\\\\\n\t 4.616905 &  6.751491\\\\\n\t 1.714435 & 10.361448\\\\\n\t 6.521496 &  7.702026\\\\\n\t ⋮ & ⋮\\\\\n\t 4.745217 & 13.620525\\\\\n\t 4.238891 &  8.513054\\\\\n\t 3.880203 &  8.652542\\\\\n\t 5.211745 &  7.912262\\\\\n\t 5.231292 & 13.188161\\\\\n\t 3.568860 & 11.925570\\\\\n\t 5.853241 & 10.464728\\\\\n\t 6.141290 & 12.696219\\\\\n\t 4.303959 & 11.121710\\\\\n\t 2.226815 &  8.463667\\\\\n\t 3.755049 & 11.315788\\\\\n\t 6.957875 & 12.484060\\\\\n\t 5.367677 &  9.580970\\\\\n\t 5.119261 &  7.686828\\\\\n\t 1.884397 &  7.993338\\\\\n\t 7.150951 & 12.433238\\\\\n\t 1.477785 &  5.696089\\\\\n\t 2.077401 &  4.698051\\\\\n\t 1.346267 &  9.612522\\\\\n\t 8.910062 & 12.465494\\\\\n\t 5.009704 & 11.615667\\\\\n\t 6.530197 & 13.078082\\\\\n\t 4.014143 &  4.361802\\\\\n\t 8.571861 & 10.143132\\\\\n\t 5.543564 &  8.950712\\\\\n\t 6.044537 &  7.484184\\\\\n\t 5.818341 &  7.435041\\\\\n\t 5.124500 & 12.888250\\\\\n\t 3.062049 & 10.676513\\\\\n\t 3.622115 &  7.841396\\\\\n\\end{tabular}\n",
            "text/markdown": "\nA data.frame: 1000 × 2\n\n| Var1 &lt;dbl&gt; | Var2 &lt;dbl&gt; |\n|---|---|\n| 4.620019 | 14.030877 |\n| 4.392205 | 10.512677 |\n| 3.723592 |  6.478555 |\n| 6.503615 | 13.378725 |\n| 7.747766 | 11.725814 |\n| 3.173574 | 10.210387 |\n| 3.672732 |  7.351880 |\n| 4.619067 | 11.358652 |\n| 4.080434 | 10.595175 |\n| 2.451382 |  7.624599 |\n| 6.230087 |  9.866734 |\n| 5.639078 |  9.565009 |\n| 6.502464 |  9.548247 |\n| 5.499058 | 10.069595 |\n| 6.052561 |  7.584989 |\n| 3.734095 |  8.028713 |\n| 6.798669 | 12.809467 |\n| 4.243611 |  8.935199 |\n| 6.114143 |  6.973336 |\n| 6.063804 |  9.918231 |\n| 5.563557 | 12.032629 |\n| 7.995065 | 13.608035 |\n| 4.438525 | 12.528299 |\n| 4.491922 |  8.098042 |\n| 7.053797 | 12.358922 |\n| 9.247075 | 16.555265 |\n| 6.815771 |  8.584685 |\n| 4.616905 |  6.751491 |\n| 1.714435 | 10.361448 |\n| 6.521496 |  7.702026 |\n| ⋮ | ⋮ |\n| 4.745217 | 13.620525 |\n| 4.238891 |  8.513054 |\n| 3.880203 |  8.652542 |\n| 5.211745 |  7.912262 |\n| 5.231292 | 13.188161 |\n| 3.568860 | 11.925570 |\n| 5.853241 | 10.464728 |\n| 6.141290 | 12.696219 |\n| 4.303959 | 11.121710 |\n| 2.226815 |  8.463667 |\n| 3.755049 | 11.315788 |\n| 6.957875 | 12.484060 |\n| 5.367677 |  9.580970 |\n| 5.119261 |  7.686828 |\n| 1.884397 |  7.993338 |\n| 7.150951 | 12.433238 |\n| 1.477785 |  5.696089 |\n| 2.077401 |  4.698051 |\n| 1.346267 |  9.612522 |\n| 8.910062 | 12.465494 |\n| 5.009704 | 11.615667 |\n| 6.530197 | 13.078082 |\n| 4.014143 |  4.361802 |\n| 8.571861 | 10.143132 |\n| 5.543564 |  8.950712 |\n| 6.044537 |  7.484184 |\n| 5.818341 |  7.435041 |\n| 5.124500 | 12.888250 |\n| 3.062049 | 10.676513 |\n| 3.622115 |  7.841396 |\n\n",
            "text/html": [
              "<table class=\"dataframe\">\n",
              "<caption>A data.frame: 1000 × 2</caption>\n",
              "<thead>\n",
              "\t<tr><th scope=col>Var1</th><th scope=col>Var2</th></tr>\n",
              "\t<tr><th scope=col>&lt;dbl&gt;</th><th scope=col>&lt;dbl&gt;</th></tr>\n",
              "</thead>\n",
              "<tbody>\n",
              "\t<tr><td>4.620019</td><td>14.030877</td></tr>\n",
              "\t<tr><td>4.392205</td><td>10.512677</td></tr>\n",
              "\t<tr><td>3.723592</td><td> 6.478555</td></tr>\n",
              "\t<tr><td>6.503615</td><td>13.378725</td></tr>\n",
              "\t<tr><td>7.747766</td><td>11.725814</td></tr>\n",
              "\t<tr><td>3.173574</td><td>10.210387</td></tr>\n",
              "\t<tr><td>3.672732</td><td> 7.351880</td></tr>\n",
              "\t<tr><td>4.619067</td><td>11.358652</td></tr>\n",
              "\t<tr><td>4.080434</td><td>10.595175</td></tr>\n",
              "\t<tr><td>2.451382</td><td> 7.624599</td></tr>\n",
              "\t<tr><td>6.230087</td><td> 9.866734</td></tr>\n",
              "\t<tr><td>5.639078</td><td> 9.565009</td></tr>\n",
              "\t<tr><td>6.502464</td><td> 9.548247</td></tr>\n",
              "\t<tr><td>5.499058</td><td>10.069595</td></tr>\n",
              "\t<tr><td>6.052561</td><td> 7.584989</td></tr>\n",
              "\t<tr><td>3.734095</td><td> 8.028713</td></tr>\n",
              "\t<tr><td>6.798669</td><td>12.809467</td></tr>\n",
              "\t<tr><td>4.243611</td><td> 8.935199</td></tr>\n",
              "\t<tr><td>6.114143</td><td> 6.973336</td></tr>\n",
              "\t<tr><td>6.063804</td><td> 9.918231</td></tr>\n",
              "\t<tr><td>5.563557</td><td>12.032629</td></tr>\n",
              "\t<tr><td>7.995065</td><td>13.608035</td></tr>\n",
              "\t<tr><td>4.438525</td><td>12.528299</td></tr>\n",
              "\t<tr><td>4.491922</td><td> 8.098042</td></tr>\n",
              "\t<tr><td>7.053797</td><td>12.358922</td></tr>\n",
              "\t<tr><td>9.247075</td><td>16.555265</td></tr>\n",
              "\t<tr><td>6.815771</td><td> 8.584685</td></tr>\n",
              "\t<tr><td>4.616905</td><td> 6.751491</td></tr>\n",
              "\t<tr><td>1.714435</td><td>10.361448</td></tr>\n",
              "\t<tr><td>6.521496</td><td> 7.702026</td></tr>\n",
              "\t<tr><td>⋮</td><td>⋮</td></tr>\n",
              "\t<tr><td>4.745217</td><td>13.620525</td></tr>\n",
              "\t<tr><td>4.238891</td><td> 8.513054</td></tr>\n",
              "\t<tr><td>3.880203</td><td> 8.652542</td></tr>\n",
              "\t<tr><td>5.211745</td><td> 7.912262</td></tr>\n",
              "\t<tr><td>5.231292</td><td>13.188161</td></tr>\n",
              "\t<tr><td>3.568860</td><td>11.925570</td></tr>\n",
              "\t<tr><td>5.853241</td><td>10.464728</td></tr>\n",
              "\t<tr><td>6.141290</td><td>12.696219</td></tr>\n",
              "\t<tr><td>4.303959</td><td>11.121710</td></tr>\n",
              "\t<tr><td>2.226815</td><td> 8.463667</td></tr>\n",
              "\t<tr><td>3.755049</td><td>11.315788</td></tr>\n",
              "\t<tr><td>6.957875</td><td>12.484060</td></tr>\n",
              "\t<tr><td>5.367677</td><td> 9.580970</td></tr>\n",
              "\t<tr><td>5.119261</td><td> 7.686828</td></tr>\n",
              "\t<tr><td>1.884397</td><td> 7.993338</td></tr>\n",
              "\t<tr><td>7.150951</td><td>12.433238</td></tr>\n",
              "\t<tr><td>1.477785</td><td> 5.696089</td></tr>\n",
              "\t<tr><td>2.077401</td><td> 4.698051</td></tr>\n",
              "\t<tr><td>1.346267</td><td> 9.612522</td></tr>\n",
              "\t<tr><td>8.910062</td><td>12.465494</td></tr>\n",
              "\t<tr><td>5.009704</td><td>11.615667</td></tr>\n",
              "\t<tr><td>6.530197</td><td>13.078082</td></tr>\n",
              "\t<tr><td>4.014143</td><td> 4.361802</td></tr>\n",
              "\t<tr><td>8.571861</td><td>10.143132</td></tr>\n",
              "\t<tr><td>5.543564</td><td> 8.950712</td></tr>\n",
              "\t<tr><td>6.044537</td><td> 7.484184</td></tr>\n",
              "\t<tr><td>5.818341</td><td> 7.435041</td></tr>\n",
              "\t<tr><td>5.124500</td><td>12.888250</td></tr>\n",
              "\t<tr><td>3.062049</td><td>10.676513</td></tr>\n",
              "\t<tr><td>3.622115</td><td> 7.841396</td></tr>\n",
              "</tbody>\n",
              "</table>\n"
            ]
          },
          "metadata": {}
        }
      ]
    },
    {
      "cell_type": "code",
      "metadata": {
        "colab": {
          "base_uri": "https://localhost:8080/",
          "height": 0
        },
        "id": "Ca5PZXhOqXHx",
        "outputId": "d56bfafb-e3b7-4bad-81e7-3041da41f0e4"
      },
      "source": [
        "df$maha = mahalanobis(df, colMeans(df) , cov(df))\n",
        "head(df)"
      ],
      "execution_count": 260,
      "outputs": [
        {
          "output_type": "display_data",
          "data": {
            "text/plain": [
              "  Var1     Var2      maha     \n",
              "1 4.620019 14.030877 3.9845090\n",
              "2 4.392205 10.512677 0.3251068\n",
              "3 3.723592  6.478555 1.9830951\n",
              "4 6.503615 13.378725 2.0154291\n",
              "5 7.747766 11.725814 2.4481939\n",
              "6 3.173574 10.210387 1.5504475"
            ],
            "text/latex": "A data.frame: 6 × 3\n\\begin{tabular}{r|lll}\n  & Var1 & Var2 & maha\\\\\n  & <dbl> & <dbl> & <dbl>\\\\\n\\hline\n\t1 & 4.620019 & 14.030877 & 3.9845090\\\\\n\t2 & 4.392205 & 10.512677 & 0.3251068\\\\\n\t3 & 3.723592 &  6.478555 & 1.9830951\\\\\n\t4 & 6.503615 & 13.378725 & 2.0154291\\\\\n\t5 & 7.747766 & 11.725814 & 2.4481939\\\\\n\t6 & 3.173574 & 10.210387 & 1.5504475\\\\\n\\end{tabular}\n",
            "text/markdown": "\nA data.frame: 6 × 3\n\n| <!--/--> | Var1 &lt;dbl&gt; | Var2 &lt;dbl&gt; | maha &lt;dbl&gt; |\n|---|---|---|---|\n| 1 | 4.620019 | 14.030877 | 3.9845090 |\n| 2 | 4.392205 | 10.512677 | 0.3251068 |\n| 3 | 3.723592 |  6.478555 | 1.9830951 |\n| 4 | 6.503615 | 13.378725 | 2.0154291 |\n| 5 | 7.747766 | 11.725814 | 2.4481939 |\n| 6 | 3.173574 | 10.210387 | 1.5504475 |\n\n",
            "text/html": [
              "<table class=\"dataframe\">\n",
              "<caption>A data.frame: 6 × 3</caption>\n",
              "<thead>\n",
              "\t<tr><th></th><th scope=col>Var1</th><th scope=col>Var2</th><th scope=col>maha</th></tr>\n",
              "\t<tr><th></th><th scope=col>&lt;dbl&gt;</th><th scope=col>&lt;dbl&gt;</th><th scope=col>&lt;dbl&gt;</th></tr>\n",
              "</thead>\n",
              "<tbody>\n",
              "\t<tr><th scope=row>1</th><td>4.620019</td><td>14.030877</td><td>3.9845090</td></tr>\n",
              "\t<tr><th scope=row>2</th><td>4.392205</td><td>10.512677</td><td>0.3251068</td></tr>\n",
              "\t<tr><th scope=row>3</th><td>3.723592</td><td> 6.478555</td><td>1.9830951</td></tr>\n",
              "\t<tr><th scope=row>4</th><td>6.503615</td><td>13.378725</td><td>2.0154291</td></tr>\n",
              "\t<tr><th scope=row>5</th><td>7.747766</td><td>11.725814</td><td>2.4481939</td></tr>\n",
              "\t<tr><th scope=row>6</th><td>3.173574</td><td>10.210387</td><td>1.5504475</td></tr>\n",
              "</tbody>\n",
              "</table>\n"
            ]
          },
          "metadata": {}
        }
      ]
    },
    {
      "cell_type": "code",
      "metadata": {
        "colab": {
          "base_uri": "https://localhost:8080/",
          "height": 0
        },
        "id": "dkWvX-Q-qhHx",
        "outputId": "ecad1195-ed81-4850-c1a2-691739f25f4f"
      },
      "source": [
        "df$pval = pchisq(df$maha,df=2,lower.tail = FALSE) #false = พื้นที่ฝั่งขวา\n",
        "head(df)"
      ],
      "execution_count": 261,
      "outputs": [
        {
          "output_type": "display_data",
          "data": {
            "text/plain": [
              "  Var1     Var2      maha      pval     \n",
              "1 4.620019 14.030877 3.9845090 0.1363876\n",
              "2 4.392205 10.512677 0.3251068 0.8499707\n",
              "3 3.723592  6.478555 1.9830951 0.3710021\n",
              "4 6.503615 13.378725 2.0154291 0.3650523\n",
              "5 7.747766 11.725814 2.4481939 0.2940231\n",
              "6 3.173574 10.210387 1.5504475 0.4606007"
            ],
            "text/latex": "A data.frame: 6 × 4\n\\begin{tabular}{r|llll}\n  & Var1 & Var2 & maha & pval\\\\\n  & <dbl> & <dbl> & <dbl> & <dbl>\\\\\n\\hline\n\t1 & 4.620019 & 14.030877 & 3.9845090 & 0.1363876\\\\\n\t2 & 4.392205 & 10.512677 & 0.3251068 & 0.8499707\\\\\n\t3 & 3.723592 &  6.478555 & 1.9830951 & 0.3710021\\\\\n\t4 & 6.503615 & 13.378725 & 2.0154291 & 0.3650523\\\\\n\t5 & 7.747766 & 11.725814 & 2.4481939 & 0.2940231\\\\\n\t6 & 3.173574 & 10.210387 & 1.5504475 & 0.4606007\\\\\n\\end{tabular}\n",
            "text/markdown": "\nA data.frame: 6 × 4\n\n| <!--/--> | Var1 &lt;dbl&gt; | Var2 &lt;dbl&gt; | maha &lt;dbl&gt; | pval &lt;dbl&gt; |\n|---|---|---|---|---|\n| 1 | 4.620019 | 14.030877 | 3.9845090 | 0.1363876 |\n| 2 | 4.392205 | 10.512677 | 0.3251068 | 0.8499707 |\n| 3 | 3.723592 |  6.478555 | 1.9830951 | 0.3710021 |\n| 4 | 6.503615 | 13.378725 | 2.0154291 | 0.3650523 |\n| 5 | 7.747766 | 11.725814 | 2.4481939 | 0.2940231 |\n| 6 | 3.173574 | 10.210387 | 1.5504475 | 0.4606007 |\n\n",
            "text/html": [
              "<table class=\"dataframe\">\n",
              "<caption>A data.frame: 6 × 4</caption>\n",
              "<thead>\n",
              "\t<tr><th></th><th scope=col>Var1</th><th scope=col>Var2</th><th scope=col>maha</th><th scope=col>pval</th></tr>\n",
              "\t<tr><th></th><th scope=col>&lt;dbl&gt;</th><th scope=col>&lt;dbl&gt;</th><th scope=col>&lt;dbl&gt;</th><th scope=col>&lt;dbl&gt;</th></tr>\n",
              "</thead>\n",
              "<tbody>\n",
              "\t<tr><th scope=row>1</th><td>4.620019</td><td>14.030877</td><td>3.9845090</td><td>0.1363876</td></tr>\n",
              "\t<tr><th scope=row>2</th><td>4.392205</td><td>10.512677</td><td>0.3251068</td><td>0.8499707</td></tr>\n",
              "\t<tr><th scope=row>3</th><td>3.723592</td><td> 6.478555</td><td>1.9830951</td><td>0.3710021</td></tr>\n",
              "\t<tr><th scope=row>4</th><td>6.503615</td><td>13.378725</td><td>2.0154291</td><td>0.3650523</td></tr>\n",
              "\t<tr><th scope=row>5</th><td>7.747766</td><td>11.725814</td><td>2.4481939</td><td>0.2940231</td></tr>\n",
              "\t<tr><th scope=row>6</th><td>3.173574</td><td>10.210387</td><td>1.5504475</td><td>0.4606007</td></tr>\n",
              "</tbody>\n",
              "</table>\n"
            ]
          },
          "metadata": {}
        }
      ]
    },
    {
      "cell_type": "markdown",
      "metadata": {
        "id": "v8ANRaIeqpP7"
      },
      "source": [
        "##บทที่ 3"
      ]
    },
    {
      "cell_type": "code",
      "metadata": {
        "colab": {
          "base_uri": "https://localhost:8080/",
          "height": 68
        },
        "id": "-sapyv8tqqdB",
        "outputId": "a6f44ce1-dbc9-4d35-d6d8-200f0d9e2e67"
      },
      "source": [
        "Xbar=matrix(c(4.64,45.4,9.965),3,1)\n",
        "S=matrix(c(2.879,10.01,-1.81,10.01,199.788,-5.64,-1.81,-5.64,3.628),3,3)\n",
        "mu=matrix(c(4,50,10),3,1)\n",
        "n=20\n",
        "p=3\n",
        "alpha=0.05\n",
        "#####################\n",
        "T2=n*t(Xbar-mu)%*%solve(S)%*%(Xbar-mu)\n",
        "paste(\"Hotelling’s T2 is:\",T2)\n",
        "#####################\n",
        "T2_cri=(((n-1)*p)/(n-p))*qf(alpha,p,n-p,lower.tail = FALSE)\n",
        "paste(\"Critical value: \",T2_cri)\n",
        "#####################\n",
        "if(T2 < T2_cri){\n",
        "      paste(\"We  not reject Ho\",alpha)\n",
        "}else{\n",
        "      paste(\"We  reject Ho\",alpha)\n",
        "}"
      ],
      "execution_count": 262,
      "outputs": [
        {
          "output_type": "display_data",
          "data": {
            "text/plain": [
              "[1] \"Hotelling’s T2 is: 9.74303756432536\""
            ],
            "text/latex": "'Hotelling’s T2 is: 9.74303756432536'",
            "text/markdown": "'Hotelling’s T2 is: 9.74303756432536'",
            "text/html": [
              "'Hotelling’s T2 is: 9.74303756432536'"
            ]
          },
          "metadata": {}
        },
        {
          "output_type": "display_data",
          "data": {
            "text/plain": [
              "[1] \"Critical value:  10.7186047019865\""
            ],
            "text/latex": "'Critical value:  10.7186047019865'",
            "text/markdown": "<span style=white-space:pre-wrap>'Critical value:  10.7186047019865'</span>",
            "text/html": [
              "<span style=white-space:pre-wrap>'Critical value:  10.7186047019865'</span>"
            ]
          },
          "metadata": {}
        },
        {
          "output_type": "display_data",
          "data": {
            "text/plain": [
              "[1] \"We  not reject Ho 0.05\""
            ],
            "text/latex": "'We  not reject Ho 0.05'",
            "text/markdown": "<span style=white-space:pre-wrap>'We  not reject Ho 0.05'</span>",
            "text/html": [
              "<span style=white-space:pre-wrap>'We  not reject Ho 0.05'</span>"
            ]
          },
          "metadata": {}
        }
      ]
    },
    {
      "cell_type": "markdown",
      "metadata": {
        "id": "qeMiHTbasfnA"
      },
      "source": [
        "### ข้อ 3.2"
      ]
    },
    {
      "cell_type": "code",
      "metadata": {
        "colab": {
          "base_uri": "https://localhost:8080/",
          "height": 0
        },
        "id": "woD8mUHjr5C6",
        "outputId": "8f9f06c3-d4e4-4aeb-f96f-0165751ef4d8"
      },
      "source": [
        "mu=matrix(c(9,5),2,1)\n",
        "X=matrix(c(6,10,8,9,6,3),3,2)\n",
        "Xbar=colMeans(X)\n",
        "Xbar=matrix(Xbar,2,1)\n",
        "S=cov(X)\n",
        "n=3\n",
        "p=2\n",
        "alpha=0.05\n",
        "#####################\n",
        "T2=n*t(Xbar-mu)%*%solve(S)%*%(Xbar-mu)\n",
        "paste(\"Hotelling’s T2:\",T2)\n",
        "#####################\n",
        "Cri_val=((n-1)*p)/(n-p)*qf(1-alpha,p,n-p)\n",
        "paste(\"Critical value: \",Cri_val)\n",
        "####################\n",
        "if(T2 < Cri_val){\n",
        "      paste(\"We do not reject Ho\",alpha)\n",
        "}else{\n",
        "      paste(\"We reject Ho\",alpha)\n",
        "}"
      ],
      "execution_count": 263,
      "outputs": [
        {
          "output_type": "display_data",
          "data": {
            "text/plain": [
              "[1] \"Hotelling’s T2: 0.777777777777778\""
            ],
            "text/latex": "'Hotelling’s T2: 0.777777777777778'",
            "text/markdown": "'Hotelling’s T2: 0.777777777777778'",
            "text/html": [
              "'Hotelling’s T2: 0.777777777777778'"
            ]
          },
          "metadata": {}
        },
        {
          "output_type": "display_data",
          "data": {
            "text/plain": [
              "[1] \"Critical value:  797.999999999999\""
            ],
            "text/latex": "'Critical value:  797.999999999999'",
            "text/markdown": "<span style=white-space:pre-wrap>'Critical value:  797.999999999999'</span>",
            "text/html": [
              "<span style=white-space:pre-wrap>'Critical value:  797.999999999999'</span>"
            ]
          },
          "metadata": {}
        },
        {
          "output_type": "display_data",
          "data": {
            "text/plain": [
              "[1] \"We do not reject Ho 0.05\""
            ],
            "text/latex": "'We do not reject Ho 0.05'",
            "text/markdown": "'We do not reject Ho 0.05'",
            "text/html": [
              "'We do not reject Ho 0.05'"
            ]
          },
          "metadata": {}
        }
      ]
    },
    {
      "cell_type": "markdown",
      "metadata": {
        "id": "yur54LP7tttA"
      },
      "source": [
        "### ex 3.3 Confidence Regions and Simultaneous Comparisons of Component Mean\n"
      ]
    },
    {
      "cell_type": "code",
      "metadata": {
        "colab": {
          "base_uri": "https://localhost:8080/",
          "height": 0
        },
        "id": "wF0c2ApPtQMj",
        "outputId": "d85aa557-e7da-4aaa-b5f5-73569cdc1915"
      },
      "source": [
        "Xbar = matrix(c(4.64,45.4,9.965),3,1) \n",
        "S = matrix(c(2.879,10.01,-1.81,10.01,199.788,-5.64,-1.81,-5.64,3.628),3,3) \n",
        "n=20\n",
        "p=3\n",
        "##############################################\n",
        "L1=Xbar[1,1]-(sqrt(((n-1)*p)/(n-p)*qf(1-0.05,p,n-p))*sqrt(S[1,1]/n))\n",
        "U1=Xbar[1,1]+(sqrt(((n-1)*p)/(n-p)*qf(1-0.05,p,n-p))*sqrt(S[1,1]/n))\n",
        "paste(\"The lower bound L1: \",L1, \"/ The upper bound U1: \",U1)\n",
        "##############################################\n",
        "L2=Xbar[2,1]-(sqrt(((n-1)*p)/(n-p)*qf(1-0.05,p,n-p))*sqrt(S[2,2]/n))\n",
        "U2=Xbar[2,1]+(sqrt(((n-1)*p)/(n-p)*qf(1-0.05,p,n-p))*sqrt(S[2,2]/n))\n",
        "paste(\"The lower bound L2: \",L2, \"/ The upper bound U2: \",U2)\n",
        "##############################################\n",
        "L3=Xbar[3,1]-(sqrt(((n-1)*p)/(n-p)*qf(1-0.05,p,n-p))*sqrt(S[3,3]/n))\n",
        "U3=Xbar[3,1]+(sqrt(((n-1)*p)/(n-p)*qf(1-0.05,p,n-p))*sqrt(S[3,3]/n))\n",
        "paste(\"The lower bound L3: \",L3, \"/ The upper bound U3: \",U3)"
      ],
      "execution_count": 264,
      "outputs": [
        {
          "output_type": "display_data",
          "data": {
            "text/plain": [
              "[1] \"The lower bound L1:  3.39784737376965 / The upper bound U1:  5.88215262623035\""
            ],
            "text/latex": "'The lower bound L1:  3.39784737376965 / The upper bound U1:  5.88215262623035'",
            "text/markdown": "<span style=white-space:pre-wrap>'The lower bound L1:  3.39784737376965 / The upper bound U1:  5.88215262623035'</span>",
            "text/html": [
              "<span style=white-space:pre-wrap>'The lower bound L1:  3.39784737376965 / The upper bound U1:  5.88215262623035'</span>"
            ]
          },
          "metadata": {}
        },
        {
          "output_type": "display_data",
          "data": {
            "text/plain": [
              "[1] \"The lower bound L2:  35.0524191324724 / The upper bound U2:  55.7475808675276\""
            ],
            "text/latex": "'The lower bound L2:  35.0524191324724 / The upper bound U2:  55.7475808675276'",
            "text/markdown": "<span style=white-space:pre-wrap>'The lower bound L2:  35.0524191324724 / The upper bound U2:  55.7475808675276'</span>",
            "text/html": [
              "<span style=white-space:pre-wrap>'The lower bound L2:  35.0524191324724 / The upper bound U2:  55.7475808675276'</span>"
            ]
          },
          "metadata": {}
        },
        {
          "output_type": "display_data",
          "data": {
            "text/plain": [
              "[1] \"The lower bound L3:  8.57059873316884 / The upper bound U3:  11.3594012668312\""
            ],
            "text/latex": "'The lower bound L3:  8.57059873316884 / The upper bound U3:  11.3594012668312'",
            "text/markdown": "<span style=white-space:pre-wrap>'The lower bound L3:  8.57059873316884 / The upper bound U3:  11.3594012668312'</span>",
            "text/html": [
              "<span style=white-space:pre-wrap>'The lower bound L3:  8.57059873316884 / The upper bound U3:  11.3594012668312'</span>"
            ]
          },
          "metadata": {}
        }
      ]
    },
    {
      "cell_type": "markdown",
      "metadata": {
        "id": "ePmcntOdv4xY"
      },
      "source": [
        "### The Bonferroni method of multiple comparisons"
      ]
    },
    {
      "cell_type": "markdown",
      "metadata": {
        "id": "Lq6u5sA5v6Pf"
      },
      "source": [
        "### ex 3.4"
      ]
    },
    {
      "cell_type": "code",
      "metadata": {
        "colab": {
          "base_uri": "https://localhost:8080/",
          "height": 0
        },
        "id": "wFEtM03aummZ",
        "outputId": "e163a795-e1be-4920-fa89-d64bfda9030c"
      },
      "source": [
        "Xbar = matrix(c(4.64,45.4,9.965),3,1) \n",
        "S = matrix(c(2.879,10.01,-1.81,10.01,199.788,-5.64,-1.81,-5.64,3.628),3,3) \n",
        "n=20\n",
        "p=3\n",
        "alpha=0.05\n",
        "###############################################\n",
        "L1=Xbar[1,1]-((qt(1-(alpha/(2*p)),n-1))*sqrt(S[1,1]/n))\n",
        "U1=Xbar[1,1]+((qt(1-(alpha/(2*p)),n-1))*sqrt(S[1,1]/n))\n",
        "paste(\"The lower bound L1: \",L1, \"/ The upper bound U1: \",U1)\n",
        "###############################################\n",
        "L2=Xbar[2,1]-((qt(1-(alpha/(2*p)),n-1))*sqrt(S[2,2]/n))\n",
        "U2=Xbar[2,1]+((qt(1-(alpha/(2*p)),n-1))*sqrt(S[2,2]/n))\n",
        "paste(\"The lower bound L2: \",L2, \"/ The upper bound U2: \",U2)\n",
        "###############################################\n",
        "L3=Xbar[3,1]-((qt(1-(alpha/(2*p)),n-1))*sqrt(S[3,3]/n))\n",
        "U3=Xbar[3,1]+((qt(1-(alpha/(2*p)),n-1))*sqrt(S[3,3]/n))\n",
        "paste(\"The lower bound L3: \",L3, \"/ The upper bound U3: \",U3)"
      ],
      "execution_count": 265,
      "outputs": [
        {
          "output_type": "display_data",
          "data": {
            "text/plain": [
              "[1] \"The lower bound L1:  3.64401530485706 / The upper bound U1:  5.63598469514294\""
            ],
            "text/latex": "'The lower bound L1:  3.64401530485706 / The upper bound U1:  5.63598469514294'",
            "text/markdown": "<span style=white-space:pre-wrap>'The lower bound L1:  3.64401530485706 / The upper bound U1:  5.63598469514294'</span>",
            "text/html": [
              "<span style=white-space:pre-wrap>'The lower bound L1:  3.64401530485706 / The upper bound U1:  5.63598469514294'</span>"
            ]
          },
          "metadata": {}
        },
        {
          "output_type": "display_data",
          "data": {
            "text/plain": [
              "[1] \"The lower bound L2:  37.1030870778836 / The upper bound U2:  53.6969129221164\""
            ],
            "text/latex": "'The lower bound L2:  37.1030870778836 / The upper bound U2:  53.6969129221164'",
            "text/markdown": "<span style=white-space:pre-wrap>'The lower bound L2:  37.1030870778836 / The upper bound U2:  53.6969129221164'</span>",
            "text/html": [
              "<span style=white-space:pre-wrap>'The lower bound L2:  37.1030870778836 / The upper bound U2:  53.6969129221164'</span>"
            ]
          },
          "metadata": {}
        },
        {
          "output_type": "display_data",
          "data": {
            "text/plain": [
              "[1] \"The lower bound L3:  8.84693906986578 / The upper bound U3:  11.0830609301342\""
            ],
            "text/latex": "'The lower bound L3:  8.84693906986578 / The upper bound U3:  11.0830609301342'",
            "text/markdown": "<span style=white-space:pre-wrap>'The lower bound L3:  8.84693906986578 / The upper bound U3:  11.0830609301342'</span>",
            "text/html": [
              "<span style=white-space:pre-wrap>'The lower bound L3:  8.84693906986578 / The upper bound U3:  11.0830609301342'</span>"
            ]
          },
          "metadata": {}
        }
      ]
    },
    {
      "cell_type": "markdown",
      "metadata": {
        "id": "GDEdAoL3yYxQ"
      },
      "source": [
        "### ex 3.5 Comparing Mean Vectors from Two Populations\n",
        "#### The two-sample situation when Σ1= Σ2\n",
        "\n",
        "\n"
      ]
    },
    {
      "cell_type": "code",
      "metadata": {
        "colab": {
          "base_uri": "https://localhost:8080/",
          "height": 0
        },
        "id": "Br80VlQewybw",
        "outputId": "1c08c521-4021-4731-a55f-3ef124015455"
      },
      "source": [
        "Xbar1 = matrix(c(8.3,4.1),2,1)\n",
        "Xbar2 = matrix(c(10.2,3.9),2,1)\n",
        "S1 = matrix(c(2,1,1,6),2,2)\n",
        "S2 = matrix(c(2,1,1,4),2,2)\n",
        "n1 = 50\n",
        "n2 = 50\n",
        "Sp = (((n1-1)/(n1+n1-2))*S1)+(((n2-1)/(n1+n2-2))*S2)\n",
        "p=2\n",
        "alpha=0.05\n",
        "###################################################\n",
        "T2 = t(Xbar1-Xbar2)%*%solve(((1/n1)+(1/n2))*Sp)%*%(Xbar1-Xbar2)\n",
        "paste(\"The T2 value: \",T2)\n",
        "###################################################\n",
        "cri_val = ((n1+n2-2)*p)/(n1+n2-p-1)*qf(1-0.05,p,n1+n2-p-1)\n",
        "paste(\"The critical value: \",cri_val)\n",
        "###################################################\n",
        "if(T2 < cri_val){\n",
        "      paste(\"We do not reject Ho\",alpha)\n",
        "}else{\n",
        "      paste(\"We reject Ho\",alpha)\n",
        "}"
      ],
      "execution_count": 266,
      "outputs": [
        {
          "output_type": "display_data",
          "data": {
            "text/plain": [
              "[1] \"The T2 value:  52.4722222222221\""
            ],
            "text/latex": "'The T2 value:  52.4722222222221'",
            "text/markdown": "<span style=white-space:pre-wrap>'The T2 value:  52.4722222222221'</span>",
            "text/html": [
              "<span style=white-space:pre-wrap>'The T2 value:  52.4722222222221'</span>"
            ]
          },
          "metadata": {}
        },
        {
          "output_type": "display_data",
          "data": {
            "text/plain": [
              "[1] \"The critical value:  6.24408853948819\""
            ],
            "text/latex": "'The critical value:  6.24408853948819'",
            "text/markdown": "<span style=white-space:pre-wrap>'The critical value:  6.24408853948819'</span>",
            "text/html": [
              "<span style=white-space:pre-wrap>'The critical value:  6.24408853948819'</span>"
            ]
          },
          "metadata": {}
        },
        {
          "output_type": "display_data",
          "data": {
            "text/plain": [
              "[1] \"We reject Ho 0.05\""
            ],
            "text/latex": "'We reject Ho 0.05'",
            "text/markdown": "'We reject Ho 0.05'",
            "text/html": [
              "'We reject Ho 0.05'"
            ]
          },
          "metadata": {}
        }
      ]
    },
    {
      "cell_type": "markdown",
      "metadata": {
        "id": "0ZRXbQcy0X9w"
      },
      "source": [
        "### ex 3.6 Simultaneous confidence intervals"
      ]
    },
    {
      "cell_type": "code",
      "metadata": {
        "colab": {
          "base_uri": "https://localhost:8080/",
          "height": 0
        },
        "id": "dV1HUz4NztyJ",
        "outputId": "7bebf665-745d-4fec-8076-aa655a1d6d4f"
      },
      "source": [
        "Xbar1 = matrix(c(8.3,4.1),2,1)\n",
        "Xbar2 = matrix(c(10.2,3.9),2,1)\n",
        "S1 = matrix(c(2,1,1,6),2,2)\n",
        "S2 = matrix(c(2,1,1,4),2,2)\n",
        "n1 = 50\n",
        "n2 = 50\n",
        "Sp = (((n1-1)/(n1+n2-2))*S1)+(((n2-1)/(n1+n2-2))*S2)\n",
        "p=2\n",
        "alpha=0.05\n",
        "###################################################\n",
        "L1 = (Xbar1[1]-Xbar2[1])-(sqrt(cri_val)*sqrt(((1/n1)+(1/n2))*Sp[1])) \n",
        "paste(\"The lower bound L1: \",L1)\n",
        "U1 = (Xbar1[1]-Xbar2[1])+(sqrt(cri_val)*sqrt(((1/n1)+(1/n2))*Sp[1]))\n",
        "paste(\"The upper bound U1: \",U1)\n",
        "###################################################\n",
        "L2 = (Xbar1[2]-Xbar2[2])-(sqrt(cri_val)*sqrt(((1/n1)+(1/n2))*Sp[4]))\n",
        "paste(\"The lower bound L2: \",L2)\n",
        "U2 = (Xbar1[2]-Xbar2[2])+(sqrt(cri_val)*sqrt(((1/n1)+(1/n2))*Sp[4]))\n",
        "paste(\"The upper bound U2: \",U2)"
      ],
      "execution_count": 267,
      "outputs": [
        {
          "output_type": "display_data",
          "data": {
            "text/plain": [
              "[1] \"The lower bound L1:  -2.60677229937162\""
            ],
            "text/latex": "'The lower bound L1:  -2.60677229937162'",
            "text/markdown": "<span style=white-space:pre-wrap>'The lower bound L1:  -2.60677229937162'</span>",
            "text/html": [
              "<span style=white-space:pre-wrap>'The lower bound L1:  -2.60677229937162'</span>"
            ]
          },
          "metadata": {}
        },
        {
          "output_type": "display_data",
          "data": {
            "text/plain": [
              "[1] \"The upper bound U1:  -1.19322770062837\""
            ],
            "text/latex": "'The upper bound U1:  -1.19322770062837'",
            "text/markdown": "<span style=white-space:pre-wrap>'The upper bound U1:  -1.19322770062837'</span>",
            "text/html": [
              "<span style=white-space:pre-wrap>'The upper bound U1:  -1.19322770062837'</span>"
            ]
          },
          "metadata": {}
        },
        {
          "output_type": "display_data",
          "data": {
            "text/plain": [
              "[1] \"The lower bound L2:  -0.917505126564365\""
            ],
            "text/latex": "'The lower bound L2:  -0.917505126564365'",
            "text/markdown": "<span style=white-space:pre-wrap>'The lower bound L2:  -0.917505126564365'</span>",
            "text/html": [
              "<span style=white-space:pre-wrap>'The lower bound L2:  -0.917505126564365'</span>"
            ]
          },
          "metadata": {}
        },
        {
          "output_type": "display_data",
          "data": {
            "text/plain": [
              "[1] \"The upper bound U2:  1.31750512656436\""
            ],
            "text/latex": "'The upper bound U2:  1.31750512656436'",
            "text/markdown": "<span style=white-space:pre-wrap>'The upper bound U2:  1.31750512656436'</span>",
            "text/html": [
              "<span style=white-space:pre-wrap>'The upper bound U2:  1.31750512656436'</span>"
            ]
          },
          "metadata": {}
        }
      ]
    },
    {
      "cell_type": "markdown",
      "metadata": {
        "id": "-z6gyV-01Q-A"
      },
      "source": [
        "### ex 3.7 The Bonferroni 100(1 -0.05)% simultaneous confidence intervals for the differences in the mean component"
      ]
    },
    {
      "cell_type": "code",
      "metadata": {
        "colab": {
          "base_uri": "https://localhost:8080/",
          "height": 0
        },
        "id": "v7T8YyII1ExZ",
        "outputId": "53007dd9-5fdb-4a4f-d36e-ccef7bd9f693"
      },
      "source": [
        "Xbar1 = matrix(c(8.3,4.1),2,1)\n",
        "Xbar2 = matrix(c(10.2,3.9),2,1)\n",
        "S1 = matrix(c(2,1,1,6),2,2)\n",
        "S2 = matrix(c(2,1,1,4),2,2)\n",
        "n1 = 50\n",
        "n2 = 50\n",
        "Sp = (((n1-1)/(n1+n2-2))*S1)+(((n2-1)/(n1+n2-2))*S2)\n",
        "p=2\n",
        "alpha=0.05\n",
        "D = qt(1-(0.05/(2*p)),n1+n2-2)\n",
        "############################################################\n",
        "L1 = (Xbar1[1]-Xbar2[1])-(D*sqrt(((1/n1)+(1/n2))*Sp[1,1]))\n",
        "paste(\"The lower bound L1: \",L1)\n",
        "U1 = (Xbar1[1]-Xbar2[1])+(D*sqrt(((1/n1)+(1/n2))*Sp[1,1]))\n",
        "paste(\"The upper bound U1: \",U1)\n",
        "############################################################\n",
        "L2 = (Xbar1[2]-Xbar2[2])-(D*sqrt(((1/n1)+(1/n2))*Sp[2,2]))\n",
        "paste(\"The lower bound L2: \",L2)\n",
        "U2 = (Xbar1[2]-Xbar2[2])+(D*sqrt(((1/n1)+(1/n2))*Sp[2,2]))\n",
        "paste(\"The upper bound U2: \",U2)"
      ],
      "execution_count": 268,
      "outputs": [
        {
          "output_type": "display_data",
          "data": {
            "text/plain": [
              "[1] \"The lower bound L1:  -2.54385234819145\""
            ],
            "text/latex": "'The lower bound L1:  -2.54385234819145'",
            "text/markdown": "<span style=white-space:pre-wrap>'The lower bound L1:  -2.54385234819145'</span>",
            "text/html": [
              "<span style=white-space:pre-wrap>'The lower bound L1:  -2.54385234819145'</span>"
            ]
          },
          "metadata": {}
        },
        {
          "output_type": "display_data",
          "data": {
            "text/plain": [
              "[1] \"The upper bound U1:  -1.25614765180855\""
            ],
            "text/latex": "'The upper bound U1:  -1.25614765180855'",
            "text/markdown": "<span style=white-space:pre-wrap>'The upper bound U1:  -1.25614765180855'</span>",
            "text/html": [
              "<span style=white-space:pre-wrap>'The upper bound U1:  -1.25614765180855'</span>"
            ]
          },
          "metadata": {}
        },
        {
          "output_type": "display_data",
          "data": {
            "text/plain": [
              "[1] \"The lower bound L2:  -0.818019948566383\""
            ],
            "text/latex": "'The lower bound L2:  -0.818019948566383'",
            "text/markdown": "<span style=white-space:pre-wrap>'The lower bound L2:  -0.818019948566383'</span>",
            "text/html": [
              "<span style=white-space:pre-wrap>'The lower bound L2:  -0.818019948566383'</span>"
            ]
          },
          "metadata": {}
        },
        {
          "output_type": "display_data",
          "data": {
            "text/plain": [
              "[1] \"The upper bound U2:  1.21801994856638\""
            ],
            "text/latex": "'The upper bound U2:  1.21801994856638'",
            "text/markdown": "<span style=white-space:pre-wrap>'The upper bound U2:  1.21801994856638'</span>",
            "text/html": [
              "<span style=white-space:pre-wrap>'The upper bound U2:  1.21801994856638'</span>"
            ]
          },
          "metadata": {}
        }
      ]
    },
    {
      "cell_type": "markdown",
      "metadata": {
        "id": "Hwd6Krzl2GeX"
      },
      "source": [
        "### The two-sample situation when Σ1≠ Σ2\n",
        "## ex 3.8"
      ]
    },
    {
      "cell_type": "code",
      "metadata": {
        "colab": {
          "base_uri": "https://localhost:8080/",
          "height": 0
        },
        "id": "lO8F48KP12fr",
        "outputId": "107fca1b-8616-490f-b072-130be4cbdc0d"
      },
      "source": [
        "Xbar1 = matrix(c(204.4,556.6),2,1)\n",
        "Xbar2 = matrix(c(130.0,355.0),2,1)\n",
        "S1 = matrix(c(13825.3,23823.4,23823.3,73107.4),2,2)\n",
        "S2 = matrix(c(8632.0,19616.7,19616.7,55964.5),2,2)\n",
        "n1=45\n",
        "n2=55\n",
        "p=2\n",
        "S = (1/n1)*S1+(1/n2)*S2\n",
        "#####################################\n",
        "T2 = t(Xbar1-Xbar2)%*%solve(S)%*%(Xbar1-Xbar2)\n",
        "paste(\"T2:\",T2)\n",
        "#####################################\n",
        "cri_val = qchisq(1-0.05,p)\n",
        "paste(\"Critical value:\",cri_val)\n",
        "#####################################\n",
        "if(T2 < cri_val){\n",
        "      paste(\"We do not reject Ho\",alpha)\n",
        "}else{\n",
        "      paste(\"We reject Ho\",alpha)\n",
        "}"
      ],
      "execution_count": 269,
      "outputs": [
        {
          "output_type": "display_data",
          "data": {
            "text/plain": [
              "[1] \"T2: 15.6585347596425\""
            ],
            "text/latex": "'T2: 15.6585347596425'",
            "text/markdown": "'T2: 15.6585347596425'",
            "text/html": [
              "'T2: 15.6585347596425'"
            ]
          },
          "metadata": {}
        },
        {
          "output_type": "display_data",
          "data": {
            "text/plain": [
              "[1] \"Critical value: 5.99146454710798\""
            ],
            "text/latex": "'Critical value: 5.99146454710798'",
            "text/markdown": "'Critical value: 5.99146454710798'",
            "text/html": [
              "'Critical value: 5.99146454710798'"
            ]
          },
          "metadata": {}
        },
        {
          "output_type": "display_data",
          "data": {
            "text/plain": [
              "[1] \"We reject Ho 0.05\""
            ],
            "text/latex": "'We reject Ho 0.05'",
            "text/markdown": "'We reject Ho 0.05'",
            "text/html": [
              "'We reject Ho 0.05'"
            ]
          },
          "metadata": {}
        }
      ]
    },
    {
      "cell_type": "markdown",
      "metadata": {
        "id": "ZTTGau6L3fXi"
      },
      "source": [
        "### Example 3.9"
      ]
    },
    {
      "cell_type": "code",
      "metadata": {
        "colab": {
          "base_uri": "https://localhost:8080/",
          "height": 0
        },
        "id": "IVDZxjzO3RKx",
        "outputId": "c31fd906-3c5a-4a35-a92b-dcaef517f92b"
      },
      "source": [
        "Xbar1 = matrix(c(204.4,556.6),2,1)\n",
        "Xbar2 = matrix(c(130.0,355.0),2,1)\n",
        "S1 = matrix(c(13825.3,23823.4,23823.3,73107.4),2,2)\n",
        "S2 = matrix(c(8632.0,19616.7,19616.7,55964.5),2,2)\n",
        "n1=45\n",
        "n2=55\n",
        "p=2\n",
        "S = (1/n1)*S1+(1/n2)*S2\n",
        "#######################################\n",
        "L1 = (Xbar1[1]-Xbar2[1])-(sqrt(qchisq(1-0.05,p))*sqrt(S[1,1]))\n",
        "U1 = (Xbar1[1]-Xbar2[1])+(sqrt(qchisq(1-0.05,p))*sqrt(S[1,1]))\n",
        "########################################\n",
        "L2 = (Xbar1[2]-Xbar2[2])-(sqrt(qchisq(1-0.05,p))*sqrt(S[2,2]))\n",
        "U2 = (Xbar1[2]-Xbar2[2])+(sqrt(qchisq(1-0.05,p))*sqrt(S[2,2]))\n",
        "########################################\n",
        "paste(\"The lower bound L1: \",L1, \"/ The upper bound U1: \",U1)\n",
        "paste(\"The lower bound L2: \",L2, \"/ The upper bound U2: \",U2)"
      ],
      "execution_count": 270,
      "outputs": [
        {
          "output_type": "display_data",
          "data": {
            "text/plain": [
              "[1] \"The lower bound L1:  21.664014919943 / The upper bound U1:  127.135985080057\""
            ],
            "text/latex": "'The lower bound L1:  21.664014919943 / The upper bound U1:  127.135985080057'",
            "text/markdown": "<span style=white-space:pre-wrap>'The lower bound L1:  21.664014919943 / The upper bound U1:  127.135985080057'</span>",
            "text/html": [
              "<span style=white-space:pre-wrap>'The lower bound L1:  21.664014919943 / The upper bound U1:  127.135985080057'</span>"
            ]
          },
          "metadata": {}
        },
        {
          "output_type": "display_data",
          "data": {
            "text/plain": [
              "[1] \"The lower bound L2:  75.7814019756431 / The upper bound U2:  327.418598024357\""
            ],
            "text/latex": "'The lower bound L2:  75.7814019756431 / The upper bound U2:  327.418598024357'",
            "text/markdown": "<span style=white-space:pre-wrap>'The lower bound L2:  75.7814019756431 / The upper bound U2:  327.418598024357'</span>",
            "text/html": [
              "<span style=white-space:pre-wrap>'The lower bound L2:  75.7814019756431 / The upper bound U2:  327.418598024357'</span>"
            ]
          },
          "metadata": {}
        }
      ]
    },
    {
      "cell_type": "markdown",
      "metadata": {
        "id": "OCtXetpM65qo"
      },
      "source": [
        "### 3.4 Testing of Equality of Covariance Matrices"
      ]
    },
    {
      "cell_type": "markdown",
      "metadata": {
        "id": "zKJ9CoJo7V0X"
      },
      "source": [
        "#### Example 3.10"
      ]
    },
    {
      "cell_type": "code",
      "metadata": {
        "colab": {
          "base_uri": "https://localhost:8080/",
          "height": 0
        },
        "id": "FeNsWhBZ5PdQ",
        "outputId": "6686307a-6b79-4a0d-e50f-3e7467e32219"
      },
      "source": [
        "Xbar1 = matrix(c(8.3,4.1),2,1)\n",
        "Xbar2 = matrix(c(10.2,3.9),2,1)\n",
        "S1 = matrix(c(2,1,1,6),2,2)\n",
        "S2 = matrix(c(2,1,1,4),2,2)\n",
        "n1 = 50\n",
        "n2 = 50\n",
        "Sp = ((n1-1)*S1+(n2-1)*S2)/(n1+n2-2)\n",
        "p=2\n",
        "g=2\n",
        "alpha=0.05\n",
        "#################################################################\n",
        "lnM = ((1/2)*(((n1-1)*log(det(S1)))+(n2-1)*log(det(S2))))-((1/2)*(n1-1+n2-1)*log(det(Sp)))\n",
        "paste(\"lnM:\",lnM)\n",
        "#################################################################\n",
        "c1 = ((1/(n1-1))+(1/(n2-1))-(1/(n1+n2-2)))*(((2*(p^2))+(3*p)-1)/(6*(p+1)*(g-1)))\n",
        "paste(\"c1:\",c1)\n",
        "##########################################################\n",
        "U = -2*(1-c1)*lnM\n",
        "cri_val = qchisq(1-0.05,3)\n",
        "if( U < cri_val){\n",
        "    paste(\"Since U =\",U, \"< critical value = \",cri_val,\",then do not reject H0\")\n",
        "}else if( U == cri_val){\n",
        "    paste(\"Since U =\",U, \"= critical value = \",cri_val,\",then do not reject H0\")\n",
        "}else{\n",
        "    paste(\"Since U =\",U, \"> critical value = \",cri_val,\",then  reject H0\")\n",
        "}"
      ],
      "execution_count": 271,
      "outputs": [
        {
          "output_type": "display_data",
          "data": {
            "text/plain": [
              "[1] \"lnM: -1.2407714540595\""
            ],
            "text/latex": "'lnM: -1.2407714540595'",
            "text/markdown": "'lnM: -1.2407714540595'",
            "text/html": [
              "'lnM: -1.2407714540595'"
            ]
          },
          "metadata": {}
        },
        {
          "output_type": "display_data",
          "data": {
            "text/plain": [
              "[1] \"c1: 0.022108843537415\""
            ],
            "text/latex": "'c1: 0.022108843537415'",
            "text/markdown": "'c1: 0.022108843537415'",
            "text/html": [
              "'c1: 0.022108843537415'"
            ]
          },
          "metadata": {}
        },
        {
          "output_type": "display_data",
          "data": {
            "text/plain": [
              "[1] \"Since U = 2.42667886423201 < critical value =  7.81472790325118 ,then do not reject H0\""
            ],
            "text/latex": "'Since U = 2.42667886423201 < critical value =  7.81472790325118 ,then do not reject H0'",
            "text/markdown": "<span style=white-space:pre-wrap>'Since U = 2.42667886423201 &lt; critical value =  7.81472790325118 ,then do not reject H0'</span>",
            "text/html": [
              "<span style=white-space:pre-wrap>'Since U = 2.42667886423201 &lt; critical value =  7.81472790325118 ,then do not reject H0'</span>"
            ]
          },
          "metadata": {}
        }
      ]
    },
    {
      "cell_type": "code",
      "metadata": {
        "colab": {
          "base_uri": "https://localhost:8080/",
          "height": 0
        },
        "id": "C2wT2mWk89gZ",
        "outputId": "cefe4037-ba3a-4ada-c233-1c5d3f9a0320"
      },
      "source": [
        "c1 = ((1/(n1-1))+(1/(n2-1))-(1/(n1+n2-2)))*(((2*(p^2))+(3*p)-1)/(6*(p+1)*(g-1)))\n",
        "paste(\"c1:\",c1)\n",
        "c2 = (((1/((n1-1)^2))/((1/(n2-1)^2)))-(1/(((n1-1)+(n2-1))^2)))*(((p-1)*(p+2))/(6*(g-1)))\n",
        "paste(\"c2:\",c2)\n",
        "a1 = (1/2)*(g-1)*p*(p+1)\n",
        "a2 = (a1+2)/abs(c2-(c1^2))\n",
        "b1 = (1-c1-(a1/a2))/a1\n",
        "b2 = (1-c1+(2/a2))/a2\n",
        "if(c2 > c1^2){\n",
        "    F = -2*b1*lnM\n",
        "}else if(c2 < c1^2){\n",
        "    F = (-2*a2*b2*lnM)/(a1*(1+(2*b2*lnM)))\n",
        "}else{\n",
        "    F=NULL\n",
        "}\n",
        "cri_val = qf(1-0.05,a1,a2)\n",
        "if(is.null(F)==0){\n",
        "    if( F < cri_val){\n",
        "           paste(\"Since F =\",F, \"< critical value = \",cri_val,\",then do not reject H0\")\n",
        "     }else if( F == cri_val){\n",
        "           paste(\"Since F =\",F, \"= critical value = \",cri_val,\",then do not reject H0\")\n",
        "     }else{\n",
        "           paste(\"Since F =\",F, \"> critical value = \",cri_val,\",then  reject H0\")\n",
        "      }\n",
        "}else{\n",
        "    print(\"We can't conclude the distribution of F.\")\n",
        "}"
      ],
      "execution_count": 272,
      "outputs": [
        {
          "output_type": "display_data",
          "data": {
            "text/plain": [
              "[1] \"c1: 0.022108843537415\""
            ],
            "text/latex": "'c1: 0.022108843537415'",
            "text/markdown": "'c1: 0.022108843537415'",
            "text/html": [
              "'c1: 0.022108843537415'"
            ]
          },
          "metadata": {}
        },
        {
          "output_type": "display_data",
          "data": {
            "text/plain": [
              "[1] \"c2: 0.666597251145356\""
            ],
            "text/latex": "'c2: 0.666597251145356'",
            "text/markdown": "'c2: 0.666597251145356'",
            "text/html": [
              "'c2: 0.666597251145356'"
            ]
          },
          "metadata": {}
        },
        {
          "output_type": "display_data",
          "data": {
            "text/plain": [
              "[1] \"Since F = 0.478297614626154 < critical value =  4.19267052460948 ,then do not reject H0\""
            ],
            "text/latex": "'Since F = 0.478297614626154 < critical value =  4.19267052460948 ,then do not reject H0'",
            "text/markdown": "<span style=white-space:pre-wrap>'Since F = 0.478297614626154 &lt; critical value =  4.19267052460948 ,then do not reject H0'</span>",
            "text/html": [
              "<span style=white-space:pre-wrap>'Since F = 0.478297614626154 &lt; critical value =  4.19267052460948 ,then do not reject H0'</span>"
            ]
          },
          "metadata": {}
        }
      ]
    },
    {
      "cell_type": "markdown",
      "metadata": {
        "id": "C9UiSDS7-yBP"
      },
      "source": [
        "### 3.5 Paired Comparison"
      ]
    },
    {
      "cell_type": "markdown",
      "metadata": {
        "id": "RR0KPV9D_jQf"
      },
      "source": [
        "### ex 3.11"
      ]
    },
    {
      "cell_type": "code",
      "metadata": {
        "colab": {
          "base_uri": "https://localhost:8080/",
          "height": 68
        },
        "id": "_Q-Iyagu-Svw",
        "outputId": "6caefa46-d5db-4817-bcc7-3f6b054bccd1"
      },
      "source": [
        "n =11\n",
        "p=2\n",
        "X1 = matrix(c(6,6,18,8,11,34,28,71,43,33,20,27,23,64,44,30,75,26,124,54,30,14),11,2)\n",
        "X2 = matrix(c(25,28,36,35,15,44,42,54,34,29,39,15,13,22,29,31,64,30,64,56,20,21),11,2)\n",
        "d = X1-X2\n",
        "dmean = colMeans(d)\n",
        "dbar=matrix(c(dmean[1],dmean[2]),2,1)\n",
        "Sd=cov(d)\n",
        "alpha=0.05\n",
        "##############################################\n",
        "T2= n*t(dbar)%*%solve(Sd)%*%dbar\n",
        "paste(\"T2 value:\",T2)\n",
        "##############################################\n",
        "T2_cri = ((2*(n-1)))/(n-p)*qf(1-0.05,p,n-p)\n",
        "paste(\"T2_cri:\",T2_cri)\n",
        "##############################################\n",
        "if(T2 < T2_cri){\n",
        "      paste(\"We do not reject Ho\",alpha)\n",
        "}else{\n",
        "      paste(\"We reject Ho\",alpha)\n",
        "}"
      ],
      "execution_count": 273,
      "outputs": [
        {
          "output_type": "display_data",
          "data": {
            "text/plain": [
              "[1] \"T2 value: 13.6393121401747\""
            ],
            "text/latex": "'T2 value: 13.6393121401747'",
            "text/markdown": "'T2 value: 13.6393121401747'",
            "text/html": [
              "'T2 value: 13.6393121401747'"
            ]
          },
          "metadata": {}
        },
        {
          "output_type": "display_data",
          "data": {
            "text/plain": [
              "[1] \"T2_cri: 9.45887717576388\""
            ],
            "text/latex": "'T2\\_cri: 9.45887717576388'",
            "text/markdown": "'T2_cri: 9.45887717576388'",
            "text/html": [
              "'T2_cri: 9.45887717576388'"
            ]
          },
          "metadata": {}
        },
        {
          "output_type": "display_data",
          "data": {
            "text/plain": [
              "[1] \"We reject Ho 0.05\""
            ],
            "text/latex": "'We reject Ho 0.05'",
            "text/markdown": "'We reject Ho 0.05'",
            "text/html": [
              "'We reject Ho 0.05'"
            ]
          },
          "metadata": {}
        }
      ]
    },
    {
      "cell_type": "markdown",
      "metadata": {
        "id": "gp5PrKRIAl32"
      },
      "source": [
        "#### the 95% simultaneous confidence intervals for the mean differences µd1 and µd2"
      ]
    },
    {
      "cell_type": "code",
      "metadata": {
        "colab": {
          "base_uri": "https://localhost:8080/",
          "height": 0
        },
        "id": "PJgyOO4TAPhQ",
        "outputId": "cbbc0c82-ab10-401b-a2d4-14e7582d7634"
      },
      "source": [
        "L1 = dbar[1,1]-(sqrt(((n-1)*p/(n-p))*qf(1-0.05,p,n-p))*sqrt(Sd[1,1]/n))\n",
        "U1 = dbar[1,1]+(sqrt(((n-1)*p/(n-p))*qf(1-0.05,p,n-p))*sqrt(Sd[1,1]/n))\n",
        "paste(L1,\"<= mu_d1 <=\",U1)\n",
        "######################################################\n",
        "L2 = dbar[2,1]-(sqrt(((n-1)*p/(n-p))*qf(1-0.05,p,n-p))*sqrt(Sd[2,2]/n))\n",
        "U2 = dbar[2,1]+(sqrt(((n-1)*p/(n-p))*qf(1-0.05,p,n-p))*sqrt(Sd[2,2]/n))\n",
        "paste(L2,\"<= mu_d2 <=\",U2)"
      ],
      "execution_count": 274,
      "outputs": [
        {
          "output_type": "display_data",
          "data": {
            "text/plain": [
              "[1] \"-22.4532723477659 <= mu_d1 <= 3.72599962049317\""
            ],
            "text/latex": "'-22.4532723477659 <= mu\\_d1 <= 3.72599962049317'",
            "text/markdown": "'-22.4532723477659 &lt;= mu_d1 &lt;= 3.72599962049317'",
            "text/html": [
              "'-22.4532723477659 &lt;= mu_d1 &lt;= 3.72599962049317'"
            ]
          },
          "metadata": {}
        },
        {
          "output_type": "display_data",
          "data": {
            "text/plain": [
              "[1] \"-5.70011927020871 <= mu_d2 <= 32.2455738156633\""
            ],
            "text/latex": "'-5.70011927020871 <= mu\\_d2 <= 32.2455738156633'",
            "text/markdown": "'-5.70011927020871 &lt;= mu_d2 &lt;= 32.2455738156633'",
            "text/html": [
              "'-5.70011927020871 &lt;= mu_d2 &lt;= 32.2455738156633'"
            ]
          },
          "metadata": {}
        }
      ]
    },
    {
      "cell_type": "markdown",
      "metadata": {
        "id": "0afY3MN0BAcg"
      },
      "source": [
        "#### The Bonferroni"
      ]
    },
    {
      "cell_type": "code",
      "metadata": {
        "colab": {
          "base_uri": "https://localhost:8080/",
          "height": 51
        },
        "id": "59bS3lFgBA5G",
        "outputId": "b7cf3975-019e-461f-aa33-e390c1443f79"
      },
      "source": [
        "D = qt(1-(0.05/(2*p)),n-1)\n",
        "L1 = dbar[1,1]-(qt(1-(0.05/4),n-1)*sqrt(Sd[1,1]/n)) \n",
        "U1 = dbar[1,1]+(qt(1-(0.05/4),n-1)*sqrt(Sd[1,1]/n))\n",
        "paste(L1,\"<= mu_d1 <=\",U1)\n",
        "########################################\n",
        "L2 = dbar[2,1]-(D*sqrt(Sd[2,2]/n)) \n",
        "U2 = dbar[2,1]+(D*sqrt(Sd[2,2]/n))\n",
        "paste(L2,\"<= mu_d2 <=\",U2)"
      ],
      "execution_count": 275,
      "outputs": [
        {
          "output_type": "display_data",
          "data": {
            "text/plain": [
              "[1] \"-20.5731072688261 <= mu_d1 <= 1.84583454155338\""
            ],
            "text/latex": "'-20.5731072688261 <= mu\\_d1 <= 1.84583454155338'",
            "text/markdown": "'-20.5731072688261 &lt;= mu_d1 &lt;= 1.84583454155338'",
            "text/html": [
              "'-20.5731072688261 &lt;= mu_d1 &lt;= 1.84583454155338'"
            ]
          },
          "metadata": {}
        },
        {
          "output_type": "display_data",
          "data": {
            "text/plain": [
              "[1] \"-2.97490341536277 <= mu_d2 <= 29.5203579608173\""
            ],
            "text/latex": "'-2.97490341536277 <= mu\\_d2 <= 29.5203579608173'",
            "text/markdown": "'-2.97490341536277 &lt;= mu_d2 &lt;= 29.5203579608173'",
            "text/html": [
              "'-2.97490341536277 &lt;= mu_d2 &lt;= 29.5203579608173'"
            ]
          },
          "metadata": {}
        }
      ]
    },
    {
      "cell_type": "code",
      "metadata": {
        "id": "ph-5to9OBeA4",
        "colab": {
          "base_uri": "https://localhost:8080/",
          "height": 303
        },
        "outputId": "96113bbc-d98d-426c-a33b-b7eef198eb46"
      },
      "source": [
        "data = read.csv('sample_data/Data_Facebook_R.csv')\n",
        "head(data)"
      ],
      "execution_count": 276,
      "outputs": [
        {
          "output_type": "display_data",
          "data": {
            "text/plain": [
              "  No GENDER AGE EDUCATION CAREER SALARY INTERNET_PAY PLACE TIME HOUR ⋯\n",
              "1 1  1      23  3         3      20000  590          1     3    3    ⋯\n",
              "2 2  1      22  3         2      16000  500          1     4    4    ⋯\n",
              "3 3  0      25  3         3      18000  590          3     2    3    ⋯\n",
              "4 4  1      21  2         2      14000  500          1     4    4    ⋯\n",
              "5 5  0      18  2         1      10000  650          1     4    4    ⋯\n",
              "6 6  0      24  3         3      17000  590          1     3    3    ⋯\n",
              "  APPLICATIONS TYPE F1 F2 F3 F4 F5 O1 O2 O3\n",
              "1 1            1    4  3  3  3  5  5  4  1 \n",
              "2 1            1    5  4  3  3  5  5  5  2 \n",
              "3 1            1    4  3  1  2  4  5  3  1 \n",
              "4 1            3    5  3  5  4  5  5  5  3 \n",
              "5 1            1    5  3  4  4  5  5  5  3 \n",
              "6 1            1    5  4  4  1  5  5  5  4 "
            ],
            "text/latex": "A data.frame: 6 × 21\n\\begin{tabular}{r|lllllllllllllllllllll}\n  & No & GENDER & AGE & EDUCATION & CAREER & SALARY & INTERNET\\_PAY & PLACE & TIME & HOUR & ⋯ & APPLICATIONS & TYPE & F1 & F2 & F3 & F4 & F5 & O1 & O2 & O3\\\\\n  & <int> & <int> & <int> & <int> & <int> & <int> & <int> & <int> & <int> & <int> & ⋯ & <int> & <int> & <int> & <int> & <int> & <int> & <int> & <int> & <int> & <int>\\\\\n\\hline\n\t1 & 1 & 1 & 23 & 3 & 3 & 20000 & 590 & 1 & 3 & 3 & ⋯ & 1 & 1 & 4 & 3 & 3 & 3 & 5 & 5 & 4 & 1\\\\\n\t2 & 2 & 1 & 22 & 3 & 2 & 16000 & 500 & 1 & 4 & 4 & ⋯ & 1 & 1 & 5 & 4 & 3 & 3 & 5 & 5 & 5 & 2\\\\\n\t3 & 3 & 0 & 25 & 3 & 3 & 18000 & 590 & 3 & 2 & 3 & ⋯ & 1 & 1 & 4 & 3 & 1 & 2 & 4 & 5 & 3 & 1\\\\\n\t4 & 4 & 1 & 21 & 2 & 2 & 14000 & 500 & 1 & 4 & 4 & ⋯ & 1 & 3 & 5 & 3 & 5 & 4 & 5 & 5 & 5 & 3\\\\\n\t5 & 5 & 0 & 18 & 2 & 1 & 10000 & 650 & 1 & 4 & 4 & ⋯ & 1 & 1 & 5 & 3 & 4 & 4 & 5 & 5 & 5 & 3\\\\\n\t6 & 6 & 0 & 24 & 3 & 3 & 17000 & 590 & 1 & 3 & 3 & ⋯ & 1 & 1 & 5 & 4 & 4 & 1 & 5 & 5 & 5 & 4\\\\\n\\end{tabular}\n",
            "text/markdown": "\nA data.frame: 6 × 21\n\n| <!--/--> | No &lt;int&gt; | GENDER &lt;int&gt; | AGE &lt;int&gt; | EDUCATION &lt;int&gt; | CAREER &lt;int&gt; | SALARY &lt;int&gt; | INTERNET_PAY &lt;int&gt; | PLACE &lt;int&gt; | TIME &lt;int&gt; | HOUR &lt;int&gt; | ⋯ ⋯ | APPLICATIONS &lt;int&gt; | TYPE &lt;int&gt; | F1 &lt;int&gt; | F2 &lt;int&gt; | F3 &lt;int&gt; | F4 &lt;int&gt; | F5 &lt;int&gt; | O1 &lt;int&gt; | O2 &lt;int&gt; | O3 &lt;int&gt; |\n|---|---|---|---|---|---|---|---|---|---|---|---|---|---|---|---|---|---|---|---|---|---|\n| 1 | 1 | 1 | 23 | 3 | 3 | 20000 | 590 | 1 | 3 | 3 | ⋯ | 1 | 1 | 4 | 3 | 3 | 3 | 5 | 5 | 4 | 1 |\n| 2 | 2 | 1 | 22 | 3 | 2 | 16000 | 500 | 1 | 4 | 4 | ⋯ | 1 | 1 | 5 | 4 | 3 | 3 | 5 | 5 | 5 | 2 |\n| 3 | 3 | 0 | 25 | 3 | 3 | 18000 | 590 | 3 | 2 | 3 | ⋯ | 1 | 1 | 4 | 3 | 1 | 2 | 4 | 5 | 3 | 1 |\n| 4 | 4 | 1 | 21 | 2 | 2 | 14000 | 500 | 1 | 4 | 4 | ⋯ | 1 | 3 | 5 | 3 | 5 | 4 | 5 | 5 | 5 | 3 |\n| 5 | 5 | 0 | 18 | 2 | 1 | 10000 | 650 | 1 | 4 | 4 | ⋯ | 1 | 1 | 5 | 3 | 4 | 4 | 5 | 5 | 5 | 3 |\n| 6 | 6 | 0 | 24 | 3 | 3 | 17000 | 590 | 1 | 3 | 3 | ⋯ | 1 | 1 | 5 | 4 | 4 | 1 | 5 | 5 | 5 | 4 |\n\n",
            "text/html": [
              "<table class=\"dataframe\">\n",
              "<caption>A data.frame: 6 × 21</caption>\n",
              "<thead>\n",
              "\t<tr><th></th><th scope=col>No</th><th scope=col>GENDER</th><th scope=col>AGE</th><th scope=col>EDUCATION</th><th scope=col>CAREER</th><th scope=col>SALARY</th><th scope=col>INTERNET_PAY</th><th scope=col>PLACE</th><th scope=col>TIME</th><th scope=col>HOUR</th><th scope=col>⋯</th><th scope=col>APPLICATIONS</th><th scope=col>TYPE</th><th scope=col>F1</th><th scope=col>F2</th><th scope=col>F3</th><th scope=col>F4</th><th scope=col>F5</th><th scope=col>O1</th><th scope=col>O2</th><th scope=col>O3</th></tr>\n",
              "\t<tr><th></th><th scope=col>&lt;int&gt;</th><th scope=col>&lt;int&gt;</th><th scope=col>&lt;int&gt;</th><th scope=col>&lt;int&gt;</th><th scope=col>&lt;int&gt;</th><th scope=col>&lt;int&gt;</th><th scope=col>&lt;int&gt;</th><th scope=col>&lt;int&gt;</th><th scope=col>&lt;int&gt;</th><th scope=col>&lt;int&gt;</th><th scope=col>⋯</th><th scope=col>&lt;int&gt;</th><th scope=col>&lt;int&gt;</th><th scope=col>&lt;int&gt;</th><th scope=col>&lt;int&gt;</th><th scope=col>&lt;int&gt;</th><th scope=col>&lt;int&gt;</th><th scope=col>&lt;int&gt;</th><th scope=col>&lt;int&gt;</th><th scope=col>&lt;int&gt;</th><th scope=col>&lt;int&gt;</th></tr>\n",
              "</thead>\n",
              "<tbody>\n",
              "\t<tr><th scope=row>1</th><td>1</td><td>1</td><td>23</td><td>3</td><td>3</td><td>20000</td><td>590</td><td>1</td><td>3</td><td>3</td><td>⋯</td><td>1</td><td>1</td><td>4</td><td>3</td><td>3</td><td>3</td><td>5</td><td>5</td><td>4</td><td>1</td></tr>\n",
              "\t<tr><th scope=row>2</th><td>2</td><td>1</td><td>22</td><td>3</td><td>2</td><td>16000</td><td>500</td><td>1</td><td>4</td><td>4</td><td>⋯</td><td>1</td><td>1</td><td>5</td><td>4</td><td>3</td><td>3</td><td>5</td><td>5</td><td>5</td><td>2</td></tr>\n",
              "\t<tr><th scope=row>3</th><td>3</td><td>0</td><td>25</td><td>3</td><td>3</td><td>18000</td><td>590</td><td>3</td><td>2</td><td>3</td><td>⋯</td><td>1</td><td>1</td><td>4</td><td>3</td><td>1</td><td>2</td><td>4</td><td>5</td><td>3</td><td>1</td></tr>\n",
              "\t<tr><th scope=row>4</th><td>4</td><td>1</td><td>21</td><td>2</td><td>2</td><td>14000</td><td>500</td><td>1</td><td>4</td><td>4</td><td>⋯</td><td>1</td><td>3</td><td>5</td><td>3</td><td>5</td><td>4</td><td>5</td><td>5</td><td>5</td><td>3</td></tr>\n",
              "\t<tr><th scope=row>5</th><td>5</td><td>0</td><td>18</td><td>2</td><td>1</td><td>10000</td><td>650</td><td>1</td><td>4</td><td>4</td><td>⋯</td><td>1</td><td>1</td><td>5</td><td>3</td><td>4</td><td>4</td><td>5</td><td>5</td><td>5</td><td>3</td></tr>\n",
              "\t<tr><th scope=row>6</th><td>6</td><td>0</td><td>24</td><td>3</td><td>3</td><td>17000</td><td>590</td><td>1</td><td>3</td><td>3</td><td>⋯</td><td>1</td><td>1</td><td>5</td><td>4</td><td>4</td><td>1</td><td>5</td><td>5</td><td>5</td><td>4</td></tr>\n",
              "</tbody>\n",
              "</table>\n"
            ]
          },
          "metadata": {}
        }
      ]
    },
    {
      "cell_type": "code",
      "metadata": {
        "id": "TIq90AyHRzMA",
        "colab": {
          "base_uri": "https://localhost:8080/",
          "height": 1000
        },
        "outputId": "33c4d320-1b69-47ac-8b90-0136c5b8067c"
      },
      "source": [
        "data1=data.frame(data[3],data[6],data[7])\n",
        "data1"
      ],
      "execution_count": 277,
      "outputs": [
        {
          "output_type": "display_data",
          "data": {
            "text/plain": [
              "    AGE SALARY INTERNET_PAY\n",
              "1   23  20000  590         \n",
              "2   22  16000  500         \n",
              "3   25  18000  590         \n",
              "4   21  14000  500         \n",
              "5   18  10000  650         \n",
              "6   24  17000  590         \n",
              "7   19  12000  500         \n",
              "8   20  12500  590         \n",
              "9   23  22000  650         \n",
              "10  26  22000  590         \n",
              "11  22  16000  500         \n",
              "12  22  16000  590         \n",
              "13  22  16000  500         \n",
              "14  23  20000  650         \n",
              "15  22  16000  590         \n",
              "16  21  14000  500         \n",
              "17  24  17000  590         \n",
              "18  26  20000  650         \n",
              "19  22  16000  650         \n",
              "20  26  20000  590         \n",
              "21  20  13000  500         \n",
              "22  18  10000  590         \n",
              "23  24  18000  500         \n",
              "24  23  22000  650         \n",
              "25  21  14000  590         \n",
              "26  19  12000  500         \n",
              "27  25  18500  590         \n",
              "28  18  10000  650         \n",
              "29  24  18000  590         \n",
              "30  23  20000  500         \n",
              "⋮   ⋮   ⋮      ⋮           \n",
              "171 29  27000  500         \n",
              "172 22  22000  590         \n",
              "173 19  12000  650         \n",
              "174 19  12000  590         \n",
              "175 24  18000  650         \n",
              "176 23  21000  590         \n",
              "177 26  23000  500         \n",
              "178 19  12000  590         \n",
              "179 25  19000  500         \n",
              "180 32  30000  650         \n",
              "181 28  26000  590         \n",
              "182 25  22000  500         \n",
              "183 26  24000  590         \n",
              "184 20  14000  650         \n",
              "185 19  12000  650         \n",
              "186 23  21000  590         \n",
              "187 24  22000  500         \n",
              "188 29  28000  590         \n",
              "189 25  19000  650         \n",
              "190 19  12000  650         \n",
              "191 19  12300  590         \n",
              "192 23  17000  500         \n",
              "193 25  20000  590         \n",
              "194 24  18000  650         \n",
              "195 26  24000  650         \n",
              "196 25  20000  590         \n",
              "197 24  18000  500         \n",
              "198 17  10000  590         \n",
              "199 25  20000  650         \n",
              "200 25  20000  590         "
            ],
            "text/latex": "A data.frame: 200 × 3\n\\begin{tabular}{lll}\n AGE & SALARY & INTERNET\\_PAY\\\\\n <int> & <int> & <int>\\\\\n\\hline\n\t 23 & 20000 & 590\\\\\n\t 22 & 16000 & 500\\\\\n\t 25 & 18000 & 590\\\\\n\t 21 & 14000 & 500\\\\\n\t 18 & 10000 & 650\\\\\n\t 24 & 17000 & 590\\\\\n\t 19 & 12000 & 500\\\\\n\t 20 & 12500 & 590\\\\\n\t 23 & 22000 & 650\\\\\n\t 26 & 22000 & 590\\\\\n\t 22 & 16000 & 500\\\\\n\t 22 & 16000 & 590\\\\\n\t 22 & 16000 & 500\\\\\n\t 23 & 20000 & 650\\\\\n\t 22 & 16000 & 590\\\\\n\t 21 & 14000 & 500\\\\\n\t 24 & 17000 & 590\\\\\n\t 26 & 20000 & 650\\\\\n\t 22 & 16000 & 650\\\\\n\t 26 & 20000 & 590\\\\\n\t 20 & 13000 & 500\\\\\n\t 18 & 10000 & 590\\\\\n\t 24 & 18000 & 500\\\\\n\t 23 & 22000 & 650\\\\\n\t 21 & 14000 & 590\\\\\n\t 19 & 12000 & 500\\\\\n\t 25 & 18500 & 590\\\\\n\t 18 & 10000 & 650\\\\\n\t 24 & 18000 & 590\\\\\n\t 23 & 20000 & 500\\\\\n\t ⋮ & ⋮ & ⋮\\\\\n\t 29 & 27000 & 500\\\\\n\t 22 & 22000 & 590\\\\\n\t 19 & 12000 & 650\\\\\n\t 19 & 12000 & 590\\\\\n\t 24 & 18000 & 650\\\\\n\t 23 & 21000 & 590\\\\\n\t 26 & 23000 & 500\\\\\n\t 19 & 12000 & 590\\\\\n\t 25 & 19000 & 500\\\\\n\t 32 & 30000 & 650\\\\\n\t 28 & 26000 & 590\\\\\n\t 25 & 22000 & 500\\\\\n\t 26 & 24000 & 590\\\\\n\t 20 & 14000 & 650\\\\\n\t 19 & 12000 & 650\\\\\n\t 23 & 21000 & 590\\\\\n\t 24 & 22000 & 500\\\\\n\t 29 & 28000 & 590\\\\\n\t 25 & 19000 & 650\\\\\n\t 19 & 12000 & 650\\\\\n\t 19 & 12300 & 590\\\\\n\t 23 & 17000 & 500\\\\\n\t 25 & 20000 & 590\\\\\n\t 24 & 18000 & 650\\\\\n\t 26 & 24000 & 650\\\\\n\t 25 & 20000 & 590\\\\\n\t 24 & 18000 & 500\\\\\n\t 17 & 10000 & 590\\\\\n\t 25 & 20000 & 650\\\\\n\t 25 & 20000 & 590\\\\\n\\end{tabular}\n",
            "text/markdown": "\nA data.frame: 200 × 3\n\n| AGE &lt;int&gt; | SALARY &lt;int&gt; | INTERNET_PAY &lt;int&gt; |\n|---|---|---|\n| 23 | 20000 | 590 |\n| 22 | 16000 | 500 |\n| 25 | 18000 | 590 |\n| 21 | 14000 | 500 |\n| 18 | 10000 | 650 |\n| 24 | 17000 | 590 |\n| 19 | 12000 | 500 |\n| 20 | 12500 | 590 |\n| 23 | 22000 | 650 |\n| 26 | 22000 | 590 |\n| 22 | 16000 | 500 |\n| 22 | 16000 | 590 |\n| 22 | 16000 | 500 |\n| 23 | 20000 | 650 |\n| 22 | 16000 | 590 |\n| 21 | 14000 | 500 |\n| 24 | 17000 | 590 |\n| 26 | 20000 | 650 |\n| 22 | 16000 | 650 |\n| 26 | 20000 | 590 |\n| 20 | 13000 | 500 |\n| 18 | 10000 | 590 |\n| 24 | 18000 | 500 |\n| 23 | 22000 | 650 |\n| 21 | 14000 | 590 |\n| 19 | 12000 | 500 |\n| 25 | 18500 | 590 |\n| 18 | 10000 | 650 |\n| 24 | 18000 | 590 |\n| 23 | 20000 | 500 |\n| ⋮ | ⋮ | ⋮ |\n| 29 | 27000 | 500 |\n| 22 | 22000 | 590 |\n| 19 | 12000 | 650 |\n| 19 | 12000 | 590 |\n| 24 | 18000 | 650 |\n| 23 | 21000 | 590 |\n| 26 | 23000 | 500 |\n| 19 | 12000 | 590 |\n| 25 | 19000 | 500 |\n| 32 | 30000 | 650 |\n| 28 | 26000 | 590 |\n| 25 | 22000 | 500 |\n| 26 | 24000 | 590 |\n| 20 | 14000 | 650 |\n| 19 | 12000 | 650 |\n| 23 | 21000 | 590 |\n| 24 | 22000 | 500 |\n| 29 | 28000 | 590 |\n| 25 | 19000 | 650 |\n| 19 | 12000 | 650 |\n| 19 | 12300 | 590 |\n| 23 | 17000 | 500 |\n| 25 | 20000 | 590 |\n| 24 | 18000 | 650 |\n| 26 | 24000 | 650 |\n| 25 | 20000 | 590 |\n| 24 | 18000 | 500 |\n| 17 | 10000 | 590 |\n| 25 | 20000 | 650 |\n| 25 | 20000 | 590 |\n\n",
            "text/html": [
              "<table class=\"dataframe\">\n",
              "<caption>A data.frame: 200 × 3</caption>\n",
              "<thead>\n",
              "\t<tr><th scope=col>AGE</th><th scope=col>SALARY</th><th scope=col>INTERNET_PAY</th></tr>\n",
              "\t<tr><th scope=col>&lt;int&gt;</th><th scope=col>&lt;int&gt;</th><th scope=col>&lt;int&gt;</th></tr>\n",
              "</thead>\n",
              "<tbody>\n",
              "\t<tr><td>23</td><td>20000</td><td>590</td></tr>\n",
              "\t<tr><td>22</td><td>16000</td><td>500</td></tr>\n",
              "\t<tr><td>25</td><td>18000</td><td>590</td></tr>\n",
              "\t<tr><td>21</td><td>14000</td><td>500</td></tr>\n",
              "\t<tr><td>18</td><td>10000</td><td>650</td></tr>\n",
              "\t<tr><td>24</td><td>17000</td><td>590</td></tr>\n",
              "\t<tr><td>19</td><td>12000</td><td>500</td></tr>\n",
              "\t<tr><td>20</td><td>12500</td><td>590</td></tr>\n",
              "\t<tr><td>23</td><td>22000</td><td>650</td></tr>\n",
              "\t<tr><td>26</td><td>22000</td><td>590</td></tr>\n",
              "\t<tr><td>22</td><td>16000</td><td>500</td></tr>\n",
              "\t<tr><td>22</td><td>16000</td><td>590</td></tr>\n",
              "\t<tr><td>22</td><td>16000</td><td>500</td></tr>\n",
              "\t<tr><td>23</td><td>20000</td><td>650</td></tr>\n",
              "\t<tr><td>22</td><td>16000</td><td>590</td></tr>\n",
              "\t<tr><td>21</td><td>14000</td><td>500</td></tr>\n",
              "\t<tr><td>24</td><td>17000</td><td>590</td></tr>\n",
              "\t<tr><td>26</td><td>20000</td><td>650</td></tr>\n",
              "\t<tr><td>22</td><td>16000</td><td>650</td></tr>\n",
              "\t<tr><td>26</td><td>20000</td><td>590</td></tr>\n",
              "\t<tr><td>20</td><td>13000</td><td>500</td></tr>\n",
              "\t<tr><td>18</td><td>10000</td><td>590</td></tr>\n",
              "\t<tr><td>24</td><td>18000</td><td>500</td></tr>\n",
              "\t<tr><td>23</td><td>22000</td><td>650</td></tr>\n",
              "\t<tr><td>21</td><td>14000</td><td>590</td></tr>\n",
              "\t<tr><td>19</td><td>12000</td><td>500</td></tr>\n",
              "\t<tr><td>25</td><td>18500</td><td>590</td></tr>\n",
              "\t<tr><td>18</td><td>10000</td><td>650</td></tr>\n",
              "\t<tr><td>24</td><td>18000</td><td>590</td></tr>\n",
              "\t<tr><td>23</td><td>20000</td><td>500</td></tr>\n",
              "\t<tr><td>⋮</td><td>⋮</td><td>⋮</td></tr>\n",
              "\t<tr><td>29</td><td>27000</td><td>500</td></tr>\n",
              "\t<tr><td>22</td><td>22000</td><td>590</td></tr>\n",
              "\t<tr><td>19</td><td>12000</td><td>650</td></tr>\n",
              "\t<tr><td>19</td><td>12000</td><td>590</td></tr>\n",
              "\t<tr><td>24</td><td>18000</td><td>650</td></tr>\n",
              "\t<tr><td>23</td><td>21000</td><td>590</td></tr>\n",
              "\t<tr><td>26</td><td>23000</td><td>500</td></tr>\n",
              "\t<tr><td>19</td><td>12000</td><td>590</td></tr>\n",
              "\t<tr><td>25</td><td>19000</td><td>500</td></tr>\n",
              "\t<tr><td>32</td><td>30000</td><td>650</td></tr>\n",
              "\t<tr><td>28</td><td>26000</td><td>590</td></tr>\n",
              "\t<tr><td>25</td><td>22000</td><td>500</td></tr>\n",
              "\t<tr><td>26</td><td>24000</td><td>590</td></tr>\n",
              "\t<tr><td>20</td><td>14000</td><td>650</td></tr>\n",
              "\t<tr><td>19</td><td>12000</td><td>650</td></tr>\n",
              "\t<tr><td>23</td><td>21000</td><td>590</td></tr>\n",
              "\t<tr><td>24</td><td>22000</td><td>500</td></tr>\n",
              "\t<tr><td>29</td><td>28000</td><td>590</td></tr>\n",
              "\t<tr><td>25</td><td>19000</td><td>650</td></tr>\n",
              "\t<tr><td>19</td><td>12000</td><td>650</td></tr>\n",
              "\t<tr><td>19</td><td>12300</td><td>590</td></tr>\n",
              "\t<tr><td>23</td><td>17000</td><td>500</td></tr>\n",
              "\t<tr><td>25</td><td>20000</td><td>590</td></tr>\n",
              "\t<tr><td>24</td><td>18000</td><td>650</td></tr>\n",
              "\t<tr><td>26</td><td>24000</td><td>650</td></tr>\n",
              "\t<tr><td>25</td><td>20000</td><td>590</td></tr>\n",
              "\t<tr><td>24</td><td>18000</td><td>500</td></tr>\n",
              "\t<tr><td>17</td><td>10000</td><td>590</td></tr>\n",
              "\t<tr><td>25</td><td>20000</td><td>650</td></tr>\n",
              "\t<tr><td>25</td><td>20000</td><td>590</td></tr>\n",
              "</tbody>\n",
              "</table>\n"
            ]
          },
          "metadata": {}
        }
      ]
    },
    {
      "cell_type": "code",
      "metadata": {
        "id": "MmMVPbRORwlt",
        "colab": {
          "base_uri": "https://localhost:8080/",
          "height": 68
        },
        "outputId": "4db826cb-fccf-4f55-8e68-284278dec0dd"
      },
      "source": [
        "mu=matrix(c(22.75,17888,582),3,1)\n",
        "X=data1\n",
        "Xbar=colMeans(X)\n",
        "Xbar=matrix(Xbar,3,1)\n",
        "S=cov(X)\n",
        "n=200\n",
        "p=3\n",
        "alpha=0.05\n",
        "#####################\n",
        "T2=n*t(Xbar-mu)%*%solve(S)%*%(Xbar-mu)\n",
        "paste(\"Hotelling’s T2:\",T2)\n",
        "#####################\n",
        "Cri_val=((n-1)*p)/(n-p)*qf(1-alpha,p,n-p)\n",
        "paste(\"Critical value: \",Cri_val)\n",
        "####################\n",
        "if(T2 < Cri_val){\n",
        "      paste(\"We do not reject Ho\",alpha)\n",
        "}else{\n",
        "      paste(\"We reject Ho\",alpha)\n",
        "}\n"
      ],
      "execution_count": 278,
      "outputs": [
        {
          "output_type": "display_data",
          "data": {
            "text/plain": [
              "[1] \"Hotelling’s T2: 0.0966324421765132\""
            ],
            "text/latex": "'Hotelling’s T2: 0.0966324421765132'",
            "text/markdown": "'Hotelling’s T2: 0.0966324421765132'",
            "text/html": [
              "'Hotelling’s T2: 0.0966324421765132'"
            ]
          },
          "metadata": {}
        },
        {
          "output_type": "display_data",
          "data": {
            "text/plain": [
              "[1] \"Critical value:  8.03204931959034\""
            ],
            "text/latex": "'Critical value:  8.03204931959034'",
            "text/markdown": "<span style=white-space:pre-wrap>'Critical value:  8.03204931959034'</span>",
            "text/html": [
              "<span style=white-space:pre-wrap>'Critical value:  8.03204931959034'</span>"
            ]
          },
          "metadata": {}
        },
        {
          "output_type": "display_data",
          "data": {
            "text/plain": [
              "[1] \"We do not reject Ho 0.05\""
            ],
            "text/latex": "'We do not reject Ho 0.05'",
            "text/markdown": "'We do not reject Ho 0.05'",
            "text/html": [
              "'We do not reject Ho 0.05'"
            ]
          },
          "metadata": {}
        }
      ]
    },
    {
      "cell_type": "code",
      "metadata": {
        "id": "s5CvBbWWT7Cd",
        "colab": {
          "base_uri": "https://localhost:8080/",
          "height": 136
        },
        "outputId": "b6adaa92-110a-4ef1-9198-0f3d1e2e1794"
      },
      "source": [
        "X=data1\n",
        "Xbar=colMeans(X)\n",
        "Xbar=matrix(Xbar,3,1)\n",
        "S=cov(X)\n",
        "print(S)\n",
        "n=200\n",
        "p=3\n",
        "##############################################\n",
        "L1=Xbar[1,1]-(sqrt(((n-1)*p)/(n-p)*qf(1-0.05,p,n-p))*sqrt(S[1,1]/n))\n",
        "U1=Xbar[1,1]+(sqrt(((n-1)*p)/(n-p)*qf(1-0.05,p,n-p))*sqrt(S[1,1]/n))\n",
        "paste(\"The lower bound L1: \",L1, \"/ The upper bound U1: \",U1)\n",
        "##############################################\n",
        "L2=Xbar[2,1]-(sqrt(((n-1)*p)/(n-p)*qf(1-0.05,p,n-p))*sqrt(S[2,2]/n))\n",
        "U2=Xbar[2,1]+(sqrt(((n-1)*p)/(n-p)*qf(1-0.05,p,n-p))*sqrt(S[2,2]/n))\n",
        "paste(\"The lower bound L2: \",L2, \"/ The upper bound U2: \",U2)\n",
        "##############################################\n",
        "L3=Xbar[3,1]-(sqrt(((n-1)*p)/(n-p)*qf(1-0.05,p,n-p))*sqrt(S[3,3]/n))\n",
        "U3=Xbar[3,1]+(sqrt(((n-1)*p)/(n-p)*qf(1-0.05,p,n-p))*sqrt(S[3,3]/n))\n",
        "paste(\"The lower bound L3: \",L3, \"/ The upper bound U3: \",U3)"
      ],
      "execution_count": 279,
      "outputs": [
        {
          "output_type": "stream",
          "name": "stdout",
          "text": [
            "                      AGE       SALARY INTERNET_PAY\n",
            "AGE             13.114950 1.863734e+04    -3.018844\n",
            "SALARY       18637.336683 2.921759e+07   631.055276\n",
            "INTERNET_PAY    -3.018844 6.310553e+02  3346.711055\n"
          ]
        },
        {
          "output_type": "display_data",
          "data": {
            "text/plain": [
              "[1] \"The lower bound L1:  21.9992592639039 / The upper bound U1:  23.4507407360961\""
            ],
            "text/latex": "'The lower bound L1:  21.9992592639039 / The upper bound U1:  23.4507407360961'",
            "text/markdown": "<span style=white-space:pre-wrap>'The lower bound L1:  21.9992592639039 / The upper bound U1:  23.4507407360961'</span>",
            "text/html": [
              "<span style=white-space:pre-wrap>'The lower bound L1:  21.9992592639039 / The upper bound U1:  23.4507407360961'</span>"
            ]
          },
          "metadata": {}
        },
        {
          "output_type": "display_data",
          "data": {
            "text/plain": [
              "[1] \"The lower bound L2:  16802.7707084353 / The upper bound U2:  18969.2292915647\""
            ],
            "text/latex": "'The lower bound L2:  16802.7707084353 / The upper bound U2:  18969.2292915647'",
            "text/markdown": "<span style=white-space:pre-wrap>'The lower bound L2:  16802.7707084353 / The upper bound U2:  18969.2292915647'</span>",
            "text/html": [
              "<span style=white-space:pre-wrap>'The lower bound L2:  16802.7707084353 / The upper bound U2:  18969.2292915647'</span>"
            ]
          },
          "metadata": {}
        },
        {
          "output_type": "display_data",
          "data": {
            "text/plain": [
              "[1] \"The lower bound L3:  570.75669411807 / The upper bound U3:  593.94330588193\""
            ],
            "text/latex": "'The lower bound L3:  570.75669411807 / The upper bound U3:  593.94330588193'",
            "text/markdown": "<span style=white-space:pre-wrap>'The lower bound L3:  570.75669411807 / The upper bound U3:  593.94330588193'</span>",
            "text/html": [
              "<span style=white-space:pre-wrap>'The lower bound L3:  570.75669411807 / The upper bound U3:  593.94330588193'</span>"
            ]
          },
          "metadata": {}
        }
      ]
    },
    {
      "cell_type": "code",
      "metadata": {
        "id": "jsERw2linI-S",
        "colab": {
          "base_uri": "https://localhost:8080/",
          "height": 660
        },
        "outputId": "7173db48-7d63-4883-ed43-dd56595db314"
      },
      "source": [
        "attach(data)\n",
        "head(data)"
      ],
      "execution_count": 280,
      "outputs": [
        {
          "output_type": "stream",
          "name": "stderr",
          "text": [
            "The following objects are masked from data (pos = 3):\n",
            "\n",
            "    AGE, APPLICATIONS, CAREER, EDUCATION, F1, F2, F3, F4, F5, GENDER,\n",
            "    HOUR, INTERNET_PAY, KNOWN, No, O1, O2, O3, PLACE, SALARY, TIME,\n",
            "    TYPE\n",
            "\n",
            "\n",
            "The following objects are masked from data (pos = 4):\n",
            "\n",
            "    AGE, APPLICATIONS, CAREER, EDUCATION, F1, F2, F3, F4, F5, GENDER,\n",
            "    HOUR, INTERNET_PAY, KNOWN, No, O1, O2, O3, PLACE, SALARY, TIME,\n",
            "    TYPE\n",
            "\n",
            "\n",
            "The following objects are masked from data (pos = 7):\n",
            "\n",
            "    AGE, APPLICATIONS, CAREER, EDUCATION, F1, F2, F3, F4, F5, GENDER,\n",
            "    HOUR, INTERNET_PAY, KNOWN, No, O1, O2, O3, PLACE, SALARY, TIME,\n",
            "    TYPE\n",
            "\n",
            "\n"
          ]
        },
        {
          "output_type": "display_data",
          "data": {
            "text/plain": [
              "  No GENDER AGE EDUCATION CAREER SALARY INTERNET_PAY PLACE TIME HOUR ⋯\n",
              "1 1  1      23  3         3      20000  590          1     3    3    ⋯\n",
              "2 2  1      22  3         2      16000  500          1     4    4    ⋯\n",
              "3 3  0      25  3         3      18000  590          3     2    3    ⋯\n",
              "4 4  1      21  2         2      14000  500          1     4    4    ⋯\n",
              "5 5  0      18  2         1      10000  650          1     4    4    ⋯\n",
              "6 6  0      24  3         3      17000  590          1     3    3    ⋯\n",
              "  APPLICATIONS TYPE F1 F2 F3 F4 F5 O1 O2 O3\n",
              "1 1            1    4  3  3  3  5  5  4  1 \n",
              "2 1            1    5  4  3  3  5  5  5  2 \n",
              "3 1            1    4  3  1  2  4  5  3  1 \n",
              "4 1            3    5  3  5  4  5  5  5  3 \n",
              "5 1            1    5  3  4  4  5  5  5  3 \n",
              "6 1            1    5  4  4  1  5  5  5  4 "
            ],
            "text/latex": "A data.frame: 6 × 21\n\\begin{tabular}{r|lllllllllllllllllllll}\n  & No & GENDER & AGE & EDUCATION & CAREER & SALARY & INTERNET\\_PAY & PLACE & TIME & HOUR & ⋯ & APPLICATIONS & TYPE & F1 & F2 & F3 & F4 & F5 & O1 & O2 & O3\\\\\n  & <int> & <int> & <int> & <int> & <int> & <int> & <int> & <int> & <int> & <int> & ⋯ & <int> & <int> & <int> & <int> & <int> & <int> & <int> & <int> & <int> & <int>\\\\\n\\hline\n\t1 & 1 & 1 & 23 & 3 & 3 & 20000 & 590 & 1 & 3 & 3 & ⋯ & 1 & 1 & 4 & 3 & 3 & 3 & 5 & 5 & 4 & 1\\\\\n\t2 & 2 & 1 & 22 & 3 & 2 & 16000 & 500 & 1 & 4 & 4 & ⋯ & 1 & 1 & 5 & 4 & 3 & 3 & 5 & 5 & 5 & 2\\\\\n\t3 & 3 & 0 & 25 & 3 & 3 & 18000 & 590 & 3 & 2 & 3 & ⋯ & 1 & 1 & 4 & 3 & 1 & 2 & 4 & 5 & 3 & 1\\\\\n\t4 & 4 & 1 & 21 & 2 & 2 & 14000 & 500 & 1 & 4 & 4 & ⋯ & 1 & 3 & 5 & 3 & 5 & 4 & 5 & 5 & 5 & 3\\\\\n\t5 & 5 & 0 & 18 & 2 & 1 & 10000 & 650 & 1 & 4 & 4 & ⋯ & 1 & 1 & 5 & 3 & 4 & 4 & 5 & 5 & 5 & 3\\\\\n\t6 & 6 & 0 & 24 & 3 & 3 & 17000 & 590 & 1 & 3 & 3 & ⋯ & 1 & 1 & 5 & 4 & 4 & 1 & 5 & 5 & 5 & 4\\\\\n\\end{tabular}\n",
            "text/markdown": "\nA data.frame: 6 × 21\n\n| <!--/--> | No &lt;int&gt; | GENDER &lt;int&gt; | AGE &lt;int&gt; | EDUCATION &lt;int&gt; | CAREER &lt;int&gt; | SALARY &lt;int&gt; | INTERNET_PAY &lt;int&gt; | PLACE &lt;int&gt; | TIME &lt;int&gt; | HOUR &lt;int&gt; | ⋯ ⋯ | APPLICATIONS &lt;int&gt; | TYPE &lt;int&gt; | F1 &lt;int&gt; | F2 &lt;int&gt; | F3 &lt;int&gt; | F4 &lt;int&gt; | F5 &lt;int&gt; | O1 &lt;int&gt; | O2 &lt;int&gt; | O3 &lt;int&gt; |\n|---|---|---|---|---|---|---|---|---|---|---|---|---|---|---|---|---|---|---|---|---|---|\n| 1 | 1 | 1 | 23 | 3 | 3 | 20000 | 590 | 1 | 3 | 3 | ⋯ | 1 | 1 | 4 | 3 | 3 | 3 | 5 | 5 | 4 | 1 |\n| 2 | 2 | 1 | 22 | 3 | 2 | 16000 | 500 | 1 | 4 | 4 | ⋯ | 1 | 1 | 5 | 4 | 3 | 3 | 5 | 5 | 5 | 2 |\n| 3 | 3 | 0 | 25 | 3 | 3 | 18000 | 590 | 3 | 2 | 3 | ⋯ | 1 | 1 | 4 | 3 | 1 | 2 | 4 | 5 | 3 | 1 |\n| 4 | 4 | 1 | 21 | 2 | 2 | 14000 | 500 | 1 | 4 | 4 | ⋯ | 1 | 3 | 5 | 3 | 5 | 4 | 5 | 5 | 5 | 3 |\n| 5 | 5 | 0 | 18 | 2 | 1 | 10000 | 650 | 1 | 4 | 4 | ⋯ | 1 | 1 | 5 | 3 | 4 | 4 | 5 | 5 | 5 | 3 |\n| 6 | 6 | 0 | 24 | 3 | 3 | 17000 | 590 | 1 | 3 | 3 | ⋯ | 1 | 1 | 5 | 4 | 4 | 1 | 5 | 5 | 5 | 4 |\n\n",
            "text/html": [
              "<table class=\"dataframe\">\n",
              "<caption>A data.frame: 6 × 21</caption>\n",
              "<thead>\n",
              "\t<tr><th></th><th scope=col>No</th><th scope=col>GENDER</th><th scope=col>AGE</th><th scope=col>EDUCATION</th><th scope=col>CAREER</th><th scope=col>SALARY</th><th scope=col>INTERNET_PAY</th><th scope=col>PLACE</th><th scope=col>TIME</th><th scope=col>HOUR</th><th scope=col>⋯</th><th scope=col>APPLICATIONS</th><th scope=col>TYPE</th><th scope=col>F1</th><th scope=col>F2</th><th scope=col>F3</th><th scope=col>F4</th><th scope=col>F5</th><th scope=col>O1</th><th scope=col>O2</th><th scope=col>O3</th></tr>\n",
              "\t<tr><th></th><th scope=col>&lt;int&gt;</th><th scope=col>&lt;int&gt;</th><th scope=col>&lt;int&gt;</th><th scope=col>&lt;int&gt;</th><th scope=col>&lt;int&gt;</th><th scope=col>&lt;int&gt;</th><th scope=col>&lt;int&gt;</th><th scope=col>&lt;int&gt;</th><th scope=col>&lt;int&gt;</th><th scope=col>&lt;int&gt;</th><th scope=col>⋯</th><th scope=col>&lt;int&gt;</th><th scope=col>&lt;int&gt;</th><th scope=col>&lt;int&gt;</th><th scope=col>&lt;int&gt;</th><th scope=col>&lt;int&gt;</th><th scope=col>&lt;int&gt;</th><th scope=col>&lt;int&gt;</th><th scope=col>&lt;int&gt;</th><th scope=col>&lt;int&gt;</th><th scope=col>&lt;int&gt;</th></tr>\n",
              "</thead>\n",
              "<tbody>\n",
              "\t<tr><th scope=row>1</th><td>1</td><td>1</td><td>23</td><td>3</td><td>3</td><td>20000</td><td>590</td><td>1</td><td>3</td><td>3</td><td>⋯</td><td>1</td><td>1</td><td>4</td><td>3</td><td>3</td><td>3</td><td>5</td><td>5</td><td>4</td><td>1</td></tr>\n",
              "\t<tr><th scope=row>2</th><td>2</td><td>1</td><td>22</td><td>3</td><td>2</td><td>16000</td><td>500</td><td>1</td><td>4</td><td>4</td><td>⋯</td><td>1</td><td>1</td><td>5</td><td>4</td><td>3</td><td>3</td><td>5</td><td>5</td><td>5</td><td>2</td></tr>\n",
              "\t<tr><th scope=row>3</th><td>3</td><td>0</td><td>25</td><td>3</td><td>3</td><td>18000</td><td>590</td><td>3</td><td>2</td><td>3</td><td>⋯</td><td>1</td><td>1</td><td>4</td><td>3</td><td>1</td><td>2</td><td>4</td><td>5</td><td>3</td><td>1</td></tr>\n",
              "\t<tr><th scope=row>4</th><td>4</td><td>1</td><td>21</td><td>2</td><td>2</td><td>14000</td><td>500</td><td>1</td><td>4</td><td>4</td><td>⋯</td><td>1</td><td>3</td><td>5</td><td>3</td><td>5</td><td>4</td><td>5</td><td>5</td><td>5</td><td>3</td></tr>\n",
              "\t<tr><th scope=row>5</th><td>5</td><td>0</td><td>18</td><td>2</td><td>1</td><td>10000</td><td>650</td><td>1</td><td>4</td><td>4</td><td>⋯</td><td>1</td><td>1</td><td>5</td><td>3</td><td>4</td><td>4</td><td>5</td><td>5</td><td>5</td><td>3</td></tr>\n",
              "\t<tr><th scope=row>6</th><td>6</td><td>0</td><td>24</td><td>3</td><td>3</td><td>17000</td><td>590</td><td>1</td><td>3</td><td>3</td><td>⋯</td><td>1</td><td>1</td><td>5</td><td>4</td><td>4</td><td>1</td><td>5</td><td>5</td><td>5</td><td>4</td></tr>\n",
              "</tbody>\n",
              "</table>\n"
            ]
          },
          "metadata": {}
        }
      ]
    },
    {
      "cell_type": "code",
      "metadata": {
        "id": "7T7P8DPgoKT0",
        "colab": {
          "base_uri": "https://localhost:8080/",
          "height": 283
        },
        "outputId": "8b56e8ab-f099-44ee-a691-5f919e00ed87"
      },
      "source": [
        "data2=data.frame(data[2],data[6],data[7])\n",
        "head(data2)"
      ],
      "execution_count": 281,
      "outputs": [
        {
          "output_type": "display_data",
          "data": {
            "text/plain": [
              "  GENDER SALARY INTERNET_PAY\n",
              "1 1      20000  590         \n",
              "2 1      16000  500         \n",
              "3 0      18000  590         \n",
              "4 1      14000  500         \n",
              "5 0      10000  650         \n",
              "6 0      17000  590         "
            ],
            "text/latex": "A data.frame: 6 × 3\n\\begin{tabular}{r|lll}\n  & GENDER & SALARY & INTERNET\\_PAY\\\\\n  & <int> & <int> & <int>\\\\\n\\hline\n\t1 & 1 & 20000 & 590\\\\\n\t2 & 1 & 16000 & 500\\\\\n\t3 & 0 & 18000 & 590\\\\\n\t4 & 1 & 14000 & 500\\\\\n\t5 & 0 & 10000 & 650\\\\\n\t6 & 0 & 17000 & 590\\\\\n\\end{tabular}\n",
            "text/markdown": "\nA data.frame: 6 × 3\n\n| <!--/--> | GENDER &lt;int&gt; | SALARY &lt;int&gt; | INTERNET_PAY &lt;int&gt; |\n|---|---|---|---|\n| 1 | 1 | 20000 | 590 |\n| 2 | 1 | 16000 | 500 |\n| 3 | 0 | 18000 | 590 |\n| 4 | 1 | 14000 | 500 |\n| 5 | 0 | 10000 | 650 |\n| 6 | 0 | 17000 | 590 |\n\n",
            "text/html": [
              "<table class=\"dataframe\">\n",
              "<caption>A data.frame: 6 × 3</caption>\n",
              "<thead>\n",
              "\t<tr><th></th><th scope=col>GENDER</th><th scope=col>SALARY</th><th scope=col>INTERNET_PAY</th></tr>\n",
              "\t<tr><th></th><th scope=col>&lt;int&gt;</th><th scope=col>&lt;int&gt;</th><th scope=col>&lt;int&gt;</th></tr>\n",
              "</thead>\n",
              "<tbody>\n",
              "\t<tr><th scope=row>1</th><td>1</td><td>20000</td><td>590</td></tr>\n",
              "\t<tr><th scope=row>2</th><td>1</td><td>16000</td><td>500</td></tr>\n",
              "\t<tr><th scope=row>3</th><td>0</td><td>18000</td><td>590</td></tr>\n",
              "\t<tr><th scope=row>4</th><td>1</td><td>14000</td><td>500</td></tr>\n",
              "\t<tr><th scope=row>5</th><td>0</td><td>10000</td><td>650</td></tr>\n",
              "\t<tr><th scope=row>6</th><td>0</td><td>17000</td><td>590</td></tr>\n",
              "</tbody>\n",
              "</table>\n"
            ]
          },
          "metadata": {}
        }
      ]
    },
    {
      "cell_type": "code",
      "metadata": {
        "id": "psDifeSkndCS",
        "colab": {
          "base_uri": "https://localhost:8080/",
          "height": 68
        },
        "outputId": "7666c217-d9ce-476f-9b2d-17c7634a2e38"
      },
      "source": [
        "X1= data.frame((SALARY[GENDER==0]),INTERNET_PAY[GENDER==0])\n",
        "Xbar1 = colMeans(X1)\n",
        "Xbar1= matrix(Xbar1,2,1)\n",
        "X2= data.frame((SALARY[GENDER==1]),INTERNET_PAY[GENDER==1])\n",
        "Xbar2 = colMeans(X2)\n",
        "Xbar2= matrix(Xbar2,2,1)\n",
        "S1 = cov(X1)\n",
        "S2 = cov(X2)\n",
        "n1 = 100\n",
        "n2 = 100\n",
        "Sp = (((n1-1)/(n1+n2-2))*S1)+(((n2-1)/(n1+n2-2))*S2)\n",
        "p=2\n",
        "alpha=0.05\n",
        "###################################################\n",
        "T2 = t(Xbar1-Xbar2)%*%solve(((1/n1)+(1/n2))*Sp)%*%(Xbar1-Xbar2)\n",
        "paste(\"The T2 value: \",T2)\n",
        "###################################################\n",
        "cri_val = ((n1+n2-2)*p)/(n1+n2-p-1)*qf(1-0.05,p,n1+n2-p-1)\n",
        "paste(\"The critical value: \",cri_val)\n",
        "###################################################\n",
        "if(T2 < cri_val){\n",
        "      paste(\"We do not reject Ho\",alpha)\n",
        "}else{\n",
        "      paste(\"We reject Ho\",alpha)\n",
        "}"
      ],
      "execution_count": 282,
      "outputs": [
        {
          "output_type": "display_data",
          "data": {
            "text/plain": [
              "[1] \"The T2 value:  5.9809918210374\""
            ],
            "text/latex": "'The T2 value:  5.9809918210374'",
            "text/markdown": "<span style=white-space:pre-wrap>'The T2 value:  5.9809918210374'</span>",
            "text/html": [
              "<span style=white-space:pre-wrap>'The T2 value:  5.9809918210374'</span>"
            ]
          },
          "metadata": {}
        },
        {
          "output_type": "display_data",
          "data": {
            "text/plain": [
              "[1] \"The critical value:  6.11438680139052\""
            ],
            "text/latex": "'The critical value:  6.11438680139052'",
            "text/markdown": "<span style=white-space:pre-wrap>'The critical value:  6.11438680139052'</span>",
            "text/html": [
              "<span style=white-space:pre-wrap>'The critical value:  6.11438680139052'</span>"
            ]
          },
          "metadata": {}
        },
        {
          "output_type": "display_data",
          "data": {
            "text/plain": [
              "[1] \"We do not reject Ho 0.05\""
            ],
            "text/latex": "'We do not reject Ho 0.05'",
            "text/markdown": "'We do not reject Ho 0.05'",
            "text/html": [
              "'We do not reject Ho 0.05'"
            ]
          },
          "metadata": {}
        }
      ]
    },
    {
      "cell_type": "code",
      "metadata": {
        "id": "luYQpMobr2g3",
        "colab": {
          "base_uri": "https://localhost:8080/",
          "height": 85
        },
        "outputId": "3f2bd17d-5aac-462a-bd91-f5c70f4acfbf"
      },
      "source": [
        "X1= data.frame((SALARY[GENDER==0]),INTERNET_PAY[GENDER==0])\n",
        "Xbar1 = colMeans(X1)\n",
        "Xbar1= matrix(Xbar1,2,1)\n",
        "X2= data.frame((SALARY[GENDER==1]),INTERNET_PAY[GENDER==1])\n",
        "Xbar2 = colMeans(X2)\n",
        "Xbar2= matrix(Xbar2,2,1)\n",
        "S1 = cov(X1)\n",
        "S2 = cov(X2)\n",
        "n1 = 100\n",
        "n2 = 100\n",
        "Sp = (((n1-1)/(n1+n1-2))*S1)+(((n2-1)/(n1+n2-2))*S2)\n",
        "p=2\n",
        "alpha=0.05\n",
        "###################################################\n",
        "L1 = (Xbar1[1]-Xbar2[1])-(sqrt(cri_val)*sqrt(((1/n1)+(1/n2))*Sp[1,1])) \n",
        "U1 = (Xbar1[1]-Xbar2[1])+(sqrt(cri_val)*sqrt(((1/n1)+(1/n2))*Sp[1]))\n",
        "paste(\"The lower bound L1: \",L1)\n",
        "paste(\"The upper bound U1: \",U1)\n",
        "###################################################\n",
        "L2 = (Xbar1[2]-Xbar2[2])-(sqrt(cri_val)*sqrt(((1/n1)+(1/n2))*Sp[2,2]))\n",
        "U2 = (Xbar1[2]-Xbar2[2])+(sqrt(cri_val)*sqrt(((1/n1)+(1/n2))*Sp[2,2]))\n",
        "paste(\"The lower bound L2: \",L2)\n",
        "paste(\"The upper bound U2: \",U2)"
      ],
      "execution_count": 283,
      "outputs": [
        {
          "output_type": "display_data",
          "data": {
            "text/plain": [
              "[1] \"The lower bound L1:  -2428.65064856302\""
            ],
            "text/latex": "'The lower bound L1:  -2428.65064856302'",
            "text/markdown": "<span style=white-space:pre-wrap>'The lower bound L1:  -2428.65064856302'</span>",
            "text/html": [
              "<span style=white-space:pre-wrap>'The lower bound L1:  -2428.65064856302'</span>"
            ]
          },
          "metadata": {}
        },
        {
          "output_type": "display_data",
          "data": {
            "text/plain": [
              "[1] \"The upper bound U1:  1356.65064856302\""
            ],
            "text/latex": "'The upper bound U1:  1356.65064856302'",
            "text/markdown": "<span style=white-space:pre-wrap>'The upper bound U1:  1356.65064856302'</span>",
            "text/html": [
              "<span style=white-space:pre-wrap>'The upper bound U1:  1356.65064856302'</span>"
            ]
          },
          "metadata": {}
        },
        {
          "output_type": "display_data",
          "data": {
            "text/plain": [
              "[1] \"The lower bound L2:  -1.10744328544072\""
            ],
            "text/latex": "'The lower bound L2:  -1.10744328544072'",
            "text/markdown": "<span style=white-space:pre-wrap>'The lower bound L2:  -1.10744328544072'</span>",
            "text/html": [
              "<span style=white-space:pre-wrap>'The lower bound L2:  -1.10744328544072'</span>"
            ]
          },
          "metadata": {}
        },
        {
          "output_type": "display_data",
          "data": {
            "text/plain": [
              "[1] \"The upper bound U2:  38.9074432854407\""
            ],
            "text/latex": "'The upper bound U2:  38.9074432854407'",
            "text/markdown": "<span style=white-space:pre-wrap>'The upper bound U2:  38.9074432854407'</span>",
            "text/html": [
              "<span style=white-space:pre-wrap>'The upper bound U2:  38.9074432854407'</span>"
            ]
          },
          "metadata": {}
        }
      ]
    },
    {
      "cell_type": "code",
      "metadata": {
        "colab": {
          "base_uri": "https://localhost:8080/",
          "height": 68
        },
        "id": "hk0bM4oArttN",
        "outputId": "5350144e-972b-44c6-876d-e9e13ca012e5"
      },
      "source": [
        "#### หาว่าความแปรปรวนเท่ากันรีไม่ โดยหาค่า Chi-square\n",
        "X1= data.frame((SALARY[GENDER==0]),INTERNET_PAY[GENDER==0])\n",
        "Xbar1 = colMeans(X1)\n",
        "Xbar1= matrix(Xbar1,2,1)\n",
        "X2= data.frame((SALARY[GENDER==1]),INTERNET_PAY[GENDER==1])\n",
        "Xbar2 = colMeans(X2)\n",
        "Xbar2= matrix(Xbar2,2,1)\n",
        "S1 = cov(X1)\n",
        "S2 = cov(X2)\n",
        "n1 = 100\n",
        "n2 = 100\n",
        "p=2\n",
        "alpha=0.05\n",
        "Sp = ((n1-1)*S1+(n2-1)*S2)/(n1+n2-2)\n",
        "g=2\n",
        "alpha=0.05\n",
        "#################################################################\n",
        "lnM = ((1/2)*(((n1-1)*log(det(S1)))+(n2-1)*log(det(S2))))-((1/2)*(n1-1+n2-1)*log(det(Sp)))\n",
        "paste(\"lnM:\",lnM)\n",
        "#################################################################\n",
        "c1 = ((1/(n1-1))+(1/(n2-1))-(1/(n1+n2-2)))*(((2*(p^2))+(3*p)-1)/(6*(p+1)*(g-1)))\n",
        "paste(\"c1:\",c1)\n",
        "##########################################################\n",
        "U = -2*(1-c1)*lnM\n",
        "cri_val = qchisq(1-0.05,3)\n",
        "if( U < cri_val){\n",
        "    paste(\"Since U =\",U, \"< critical value = \",cri_val,\",then do not reject H0\")\n",
        "}else if( U == cri_val){\n",
        "    paste(\"Since U =\",U, \"= critical value = \",cri_val,\",then do not reject H0\")\n",
        "}else{\n",
        "    paste(\"Since U =\",U, \"> critical value = \",cri_val,\",then  reject H0\")\n",
        "}"
      ],
      "execution_count": 284,
      "outputs": [
        {
          "output_type": "display_data",
          "data": {
            "text/plain": [
              "[1] \"lnM: -1.77031390827824\""
            ],
            "text/latex": "'lnM: -1.77031390827824'",
            "text/markdown": "'lnM: -1.77031390827824'",
            "text/html": [
              "'lnM: -1.77031390827824'"
            ]
          },
          "metadata": {}
        },
        {
          "output_type": "display_data",
          "data": {
            "text/plain": [
              "[1] \"c1: 0.0109427609427609\""
            ],
            "text/latex": "'c1: 0.0109427609427609'",
            "text/markdown": "'c1: 0.0109427609427609'",
            "text/html": [
              "'c1: 0.0109427609427609'"
            ]
          },
          "metadata": {}
        },
        {
          "output_type": "display_data",
          "data": {
            "text/plain": [
              "[1] \"Since U = 3.50188357277261 < critical value =  7.81472790325118 ,then do not reject H0\""
            ],
            "text/latex": "'Since U = 3.50188357277261 < critical value =  7.81472790325118 ,then do not reject H0'",
            "text/markdown": "<span style=white-space:pre-wrap>'Since U = 3.50188357277261 &lt; critical value =  7.81472790325118 ,then do not reject H0'</span>",
            "text/html": [
              "<span style=white-space:pre-wrap>'Since U = 3.50188357277261 &lt; critical value =  7.81472790325118 ,then do not reject H0'</span>"
            ]
          },
          "metadata": {}
        }
      ]
    },
    {
      "cell_type": "code",
      "metadata": {
        "colab": {
          "base_uri": "https://localhost:8080/",
          "height": 68
        },
        "id": "wd-3KHghsRJU",
        "outputId": "227ff1bf-bdfd-40db-fa81-cbf0ffd1a26e"
      },
      "source": [
        "c1 = ((1/(n1-1))+(1/(n2-1))-(1/(n1+n2-2)))*(((2*(p^2))+(3*p)-1)/(6*(p+1)*(g-1)))\n",
        "paste(\"c1:\",c1)\n",
        "c2 = (((1/((n1-1)^2))/((1/(n2-1)^2)))-(1/(((n1-1)+(n2-1))^2)))*(((p-1)*(p+2))/(6*(g-1)))\n",
        "paste(\"c2:\",c2)\n",
        "a1 = (1/2)*(g-1)*p*(p+1)\n",
        "a2 = (a1+2)/abs(c2-(c1^2))\n",
        "b1 = (1-c1-(a1/a2))/a1\n",
        "b2 = (1-c1+(2/a2))/a2\n",
        "if(c2 > c1^2){\n",
        "    F = -2*b1*lnM\n",
        "}else if(c2 < c1^2){\n",
        "    F = (-2*a2*b2*lnM)/(a1*(1+(2*b2*lnM)))\n",
        "}else{\n",
        "    F=NULL\n",
        "}\n",
        "cri_val = qf(1-0.05,a1,a2)\n",
        "if(is.null(F)==0){\n",
        "    if( F < cri_val){\n",
        "           paste(\"Since F =\",F, \"< critical value = \",cri_val,\",then do not reject H0\")\n",
        "     }else if( F == cri_val){\n",
        "           paste(\"Since F =\",F, \"= critical value = \",cri_val,\",then do not reject H0\")\n",
        "     }else{\n",
        "           paste(\"Since F =\",F, \"> critical value = \",cri_val,\",then  reject H0\")\n",
        "      }\n",
        "}else{\n",
        "    print(\"We can't conclude the distribution of F.\")\n",
        "}"
      ],
      "execution_count": 285,
      "outputs": [
        {
          "output_type": "display_data",
          "data": {
            "text/plain": [
              "[1] \"c1: 0.0109427609427609\""
            ],
            "text/latex": "'c1: 0.0109427609427609'",
            "text/markdown": "'c1: 0.0109427609427609'",
            "text/html": [
              "'c1: 0.0109427609427609'"
            ]
          },
          "metadata": {}
        },
        {
          "output_type": "display_data",
          "data": {
            "text/plain": [
              "[1] \"c2: 0.666649661599157\""
            ],
            "text/latex": "'c2: 0.666649661599157'",
            "text/markdown": "'c2: 0.666649661599157'",
            "text/html": [
              "'c2: 0.666649661599157'"
            ]
          },
          "metadata": {}
        },
        {
          "output_type": "display_data",
          "data": {
            "text/plain": [
              "[1] \"Since F = 0.695307650905877 < critical value =  4.19399109658498 ,then do not reject H0\""
            ],
            "text/latex": "'Since F = 0.695307650905877 < critical value =  4.19399109658498 ,then do not reject H0'",
            "text/markdown": "<span style=white-space:pre-wrap>'Since F = 0.695307650905877 &lt; critical value =  4.19399109658498 ,then do not reject H0'</span>",
            "text/html": [
              "<span style=white-space:pre-wrap>'Since F = 0.695307650905877 &lt; critical value =  4.19399109658498 ,then do not reject H0'</span>"
            ]
          },
          "metadata": {}
        }
      ]
    },
    {
      "cell_type": "markdown",
      "metadata": {
        "id": "mgOx87kqvPff"
      },
      "source": [
        "## บทที่ 4 Comparison of Several Multivariate Means"
      ]
    },
    {
      "cell_type": "markdown",
      "metadata": {
        "id": "gX2UYZ3M5c-E"
      },
      "source": [
        "![image.png](data:image/png;base64,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)"
      ]
    },
    {
      "cell_type": "code",
      "metadata": {
        "id": "N45QjysR2r51",
        "colab": {
          "base_uri": "https://localhost:8080/",
          "height": 340
        },
        "outputId": "797bdcd6-d8d7-4c74-8bf0-33274368bad3"
      },
      "source": [
        "x1bar=matrix(c(2.006,0.48,0.082,0.36),4,1)\n",
        "x2bar=matrix(c(2.167,0.596,0.124,0.418),4,1)\n",
        "x3bar=matrix(c(2.273,0.521,0.125,0.383),4,1)\n",
        "S1=matrix(c(0.291,-0.001,0.002,0.01,-0.001,0.011,0.001,0.003,0.002,0.001,0.001,0.001,0.01,0.003,0.001,0.01),4,4)\n",
        "S2=matrix(c(0.561,0.011,0.001,0.037,0.011,0.025,0.004,0.007,0.001,0.004,0.005,0.002,0.037,0.007,0.002,0.019),4,4)\n",
        "S3=matrix(c(0.261,0.03,0.003,0.018,0.03,0.017,-0.001,0.006,0.003,-0.001,0.004,0.001,0.018,0.006,0.001,0.013),4,4)\n",
        "n1=271\n",
        "n2=138\n",
        "n3=107\n",
        "p=4\n",
        "g=3\n",
        "W=(n1-1)*S1+(n2-1)*S2+(n3-1)*S3\n",
        "print(W)\n",
        "##########################################\n",
        "xbar=(n1*x1bar+n2*x2bar+n3*x3bar)/(n1+n2+n3)\n",
        "print(xbar)\n",
        "##########################################\n",
        "B=(n1*(x1bar-xbar)%*%t(x1bar-xbar))+(n2*(x2bar-xbar)%*%t(x2bar-xbar))+(n3*(x3bar-xbar)%*%t(x3bar-xbar))\n",
        "print(B)\n",
        "##########################################\n",
        "lamda=det(W)/det(B+W)\n",
        "paste(\"lamda:\",lamda)\n",
        "comp_val = (((n1+n2+n3)-p-2)/p)*((1-sqrt(lamda))/sqrt(lamda))\n",
        "paste(\"comp_val:\",comp_val)\n",
        "f=qf(1-alpha,2*p,2*(n1+n2+n3)-p-2)\n",
        "paste(\"F_cri:\",f)\n",
        "if (comp_val < f) {\n",
        "    paste(\"since \",comp_val,\"<\",f,\" we not reject Ho\")\n",
        "}else{\n",
        "    paste(\"since \",comp_val,\">\",f,\" we reject Ho\")\n",
        "}"
      ],
      "execution_count": 286,
      "outputs": [
        {
          "output_type": "stream",
          "name": "stdout",
          "text": [
            "        [,1]  [,2]  [,3]  [,4]\n",
            "[1,] 183.093 4.417 0.995 9.677\n",
            "[2,]   4.417 8.197 0.712 2.405\n",
            "[3,]   0.995 0.712 1.379 0.650\n",
            "[4,]   9.677 2.405 0.650 6.681\n",
            "          [,1]\n",
            "[1,] 2.1044244\n",
            "[2,] 0.5195252\n",
            "[3,] 0.1021492\n",
            "[4,] 0.3802810\n",
            "          [,1]      [,2]      [,3]      [,4]\n",
            "[1,] 6.2063401 1.7412510 1.1383043 0.9157195\n",
            "[2,] 1.7412510 1.2306787 0.4500336 0.6157338\n",
            "[3,] 1.1383043 0.4500336 0.2317835 0.2311294\n",
            "[4,] 0.9157195 0.6157338 0.2311294 0.3085943\n"
          ]
        },
        {
          "output_type": "display_data",
          "data": {
            "text/plain": [
              "[1] \"lamda: 0.761378488449767\""
            ],
            "text/latex": "'lamda: 0.761378488449767'",
            "text/markdown": "'lamda: 0.761378488449767'",
            "text/html": [
              "'lamda: 0.761378488449767'"
            ]
          },
          "metadata": {}
        },
        {
          "output_type": "display_data",
          "data": {
            "text/plain": [
              "[1] \"comp_val: 18.6200740392198\""
            ],
            "text/latex": "'comp\\_val: 18.6200740392198'",
            "text/markdown": "'comp_val: 18.6200740392198'",
            "text/html": [
              "'comp_val: 18.6200740392198'"
            ]
          },
          "metadata": {}
        },
        {
          "output_type": "display_data",
          "data": {
            "text/plain": [
              "[1] \"F_cri: 1.947411664822\""
            ],
            "text/latex": "'F\\_cri: 1.947411664822'",
            "text/markdown": "'F_cri: 1.947411664822'",
            "text/html": [
              "'F_cri: 1.947411664822'"
            ]
          },
          "metadata": {}
        },
        {
          "output_type": "display_data",
          "data": {
            "text/plain": [
              "[1] \"since  18.6200740392198 > 1.947411664822  we reject Ho\""
            ],
            "text/latex": "'since  18.6200740392198 > 1.947411664822  we reject Ho'",
            "text/markdown": "<span style=white-space:pre-wrap>'since  18.6200740392198 &gt; 1.947411664822  we reject Ho'</span>",
            "text/html": [
              "<span style=white-space:pre-wrap>'since  18.6200740392198 &gt; 1.947411664822  we reject Ho'</span>"
            ]
          },
          "metadata": {}
        }
      ]
    },
    {
      "cell_type": "markdown",
      "metadata": {
        "id": "ByAqheUe8I11"
      },
      "source": [
        "#### ข้อ 4.2"
      ]
    },
    {
      "cell_type": "code",
      "metadata": {
        "id": "3_FUF2Zn2vGj",
        "colab": {
          "base_uri": "https://localhost:8080/",
          "height": 85
        },
        "outputId": "967ac485-8fe9-4b21-8497-17922d65b126"
      },
      "source": [
        "X1=matrix(c(21,25,20,24,12,8,12,10),4,2)\n",
        "X2=matrix(c(31,23,24,28,9,12,13,10),4,2)\n",
        "X3=matrix(c(34,29,35,32,10,14,11,13),4,2)\n",
        "X4=matrix(c(33,38,34,35,14,12,13,13),4,2)\n",
        "X1mean=colMeans(X1)\n",
        "X2mean=colMeans(X2)\n",
        "X3mean=colMeans(X3)\n",
        "X4mean=colMeans(X4)\n",
        "paste('X1mean[1]=',X1mean[1],'|| X1mean[2]=',X1mean[2])\n",
        "paste('X2mean[1]=',X2mean[1],'|| X2mean[2]=',X2mean[2])\n",
        "paste('X3mean[1]=',X3mean[1],'|| X3mean[2]=',X3mean[2])\n",
        "paste('X4mean[1]=',X4mean[1],'|| X4mean[2]=',X4mean[2])"
      ],
      "execution_count": 287,
      "outputs": [
        {
          "output_type": "display_data",
          "data": {
            "text/plain": [
              "[1] \"X1mean[1]= 22.5 || X1mean[2]= 10.5\""
            ],
            "text/latex": "'X1mean{[}1{]}= 22.5 \\textbar{}\\textbar{} X1mean{[}2{]}= 10.5'",
            "text/markdown": "'X1mean[1]= 22.5 || X1mean[2]= 10.5'",
            "text/html": [
              "'X1mean[1]= 22.5 || X1mean[2]= 10.5'"
            ]
          },
          "metadata": {}
        },
        {
          "output_type": "display_data",
          "data": {
            "text/plain": [
              "[1] \"X2mean[1]= 26.5 || X2mean[2]= 11\""
            ],
            "text/latex": "'X2mean{[}1{]}= 26.5 \\textbar{}\\textbar{} X2mean{[}2{]}= 11'",
            "text/markdown": "'X2mean[1]= 26.5 || X2mean[2]= 11'",
            "text/html": [
              "'X2mean[1]= 26.5 || X2mean[2]= 11'"
            ]
          },
          "metadata": {}
        },
        {
          "output_type": "display_data",
          "data": {
            "text/plain": [
              "[1] \"X3mean[1]= 32.5 || X3mean[2]= 12\""
            ],
            "text/latex": "'X3mean{[}1{]}= 32.5 \\textbar{}\\textbar{} X3mean{[}2{]}= 12'",
            "text/markdown": "'X3mean[1]= 32.5 || X3mean[2]= 12'",
            "text/html": [
              "'X3mean[1]= 32.5 || X3mean[2]= 12'"
            ]
          },
          "metadata": {}
        },
        {
          "output_type": "display_data",
          "data": {
            "text/plain": [
              "[1] \"X4mean[1]= 35 || X4mean[2]= 13\""
            ],
            "text/latex": "'X4mean{[}1{]}= 35 \\textbar{}\\textbar{} X4mean{[}2{]}= 13'",
            "text/markdown": "'X4mean[1]= 35 || X4mean[2]= 13'",
            "text/html": [
              "'X4mean[1]= 35 || X4mean[2]= 13'"
            ]
          },
          "metadata": {}
        }
      ]
    },
    {
      "cell_type": "code",
      "metadata": {
        "id": "mdIgvl4b-JKg",
        "colab": {
          "base_uri": "https://localhost:8080/",
          "height": 204
        },
        "outputId": "2fa64346-cd6b-489a-ce13-9b92e9f4295e"
      },
      "source": [
        "n1=length(X1[,1])\n",
        "n2=length(X2[,1])\n",
        "n3=length(X3[,1])\n",
        "n4=length(X4[,1])\n",
        "p=length(X1[1,])\n",
        "g=4\n",
        "S1=cov(X1)\n",
        "S2=cov(X2)\n",
        "S3=cov(X3)\n",
        "S4=cov(X4)\n",
        "#######################################################\n",
        "W=(n1-1)*S1+(n2-1)*S2+(n3-1)*S3+(n4-1)*S4\n",
        "print(W)\n",
        "#######################################################\n",
        "xbar=(n1*X1mean+n2*X2mean+n3*X3mean+n4*X4mean)/(n1+n2+n3+n4)\n",
        "print(xbar)\n",
        "###########################################################\n",
        "B=(n1*(X1mean-xbar)%*%t(X1mean-xbar))+(n2*(X2mean-xbar)%*%t(X2mean-xbar))+(n3*(X3mean-xbar)%*%t(X3mean-xbar))+(n4*(X4mean-xbar)%*%t(X4mean-xbar))\n",
        "print(B)\n",
        "###################################################\n",
        "lamda=det(W)/det(B+W)\n",
        "paste(\"lamda:\",lamda)\n",
        "##########################################################\n",
        "statistic = (((n1+n2+n3+n4)-g-1)/(g-1))*((1-sqrt(lamda))/sqrt(lamda))\n",
        "paste(\"statistic :\",statistic)\n",
        "#########################################################\n",
        "cri_val=qf(1-alpha,2*(g-1),(2*(n1+n2+n3+n4))-g-1)\n",
        "paste(\"Critical value:\",cri_val)\n",
        "if (comp_val < f) {\n",
        "    paste(\"since \",statistic,\"<\",cri_val,\" we not reject Ho\")\n",
        "}else{\n",
        "    paste(\"since \",statistic,\">\",cri_val,\" we reject Ho\")\n",
        "}"
      ],
      "execution_count": 288,
      "outputs": [
        {
          "output_type": "stream",
          "name": "stdout",
          "text": [
            "     [,1] [,2]\n",
            "[1,]   93  -50\n",
            "[2,]  -50   33\n",
            "[1] 29.125 11.625\n",
            "       [,1]  [,2]\n",
            "[1,] 386.75 73.75\n",
            "[2,]  73.75 14.75\n"
          ]
        },
        {
          "output_type": "display_data",
          "data": {
            "text/plain": [
              "[1] \"lamda: 0.0254654493376298\""
            ],
            "text/latex": "'lamda: 0.0254654493376298'",
            "text/markdown": "'lamda: 0.0254654493376298'",
            "text/html": [
              "'lamda: 0.0254654493376298'"
            ]
          },
          "metadata": {}
        },
        {
          "output_type": "display_data",
          "data": {
            "text/plain": [
              "[1] \"statistic : 19.3104621263056\""
            ],
            "text/latex": "'statistic : 19.3104621263056'",
            "text/markdown": "'statistic : 19.3104621263056'",
            "text/html": [
              "'statistic : 19.3104621263056'"
            ]
          },
          "metadata": {}
        },
        {
          "output_type": "display_data",
          "data": {
            "text/plain": [
              "[1] \"Critical value: 2.45910844257833\""
            ],
            "text/latex": "'Critical value: 2.45910844257833'",
            "text/markdown": "'Critical value: 2.45910844257833'",
            "text/html": [
              "'Critical value: 2.45910844257833'"
            ]
          },
          "metadata": {}
        },
        {
          "output_type": "display_data",
          "data": {
            "text/plain": [
              "[1] \"since  19.3104621263056 > 2.45910844257833  we reject Ho\""
            ],
            "text/latex": "'since  19.3104621263056 > 2.45910844257833  we reject Ho'",
            "text/markdown": "<span style=white-space:pre-wrap>'since  19.3104621263056 &gt; 2.45910844257833  we reject Ho'</span>",
            "text/html": [
              "<span style=white-space:pre-wrap>'since  19.3104621263056 &gt; 2.45910844257833  we reject Ho'</span>"
            ]
          },
          "metadata": {}
        }
      ]
    },
    {
      "cell_type": "code",
      "metadata": {
        "id": "QMGoALHVBWgH",
        "colab": {
          "base_uri": "https://localhost:8080/"
        },
        "outputId": "189d1c49-4229-4647-c2de-b0888f2fab0a"
      },
      "source": [
        "X1= c(21,25,20,24,31,23,24,28,34,29,35,32,33,38,34,35)\n",
        "X2= c(12,8,12,10,9,12,13,10,10,14,11,13,14,12,13,13)\n",
        "g=c(rep(1,4),rep(2,4),rep(3,4),rep(4,4))\n",
        "X_level=cbind(X1,X2,g)\n",
        "print(X_level)"
      ],
      "execution_count": 289,
      "outputs": [
        {
          "output_type": "stream",
          "name": "stdout",
          "text": [
            "      X1 X2 g\n",
            " [1,] 21 12 1\n",
            " [2,] 25  8 1\n",
            " [3,] 20 12 1\n",
            " [4,] 24 10 1\n",
            " [5,] 31  9 2\n",
            " [6,] 23 12 2\n",
            " [7,] 24 13 2\n",
            " [8,] 28 10 2\n",
            " [9,] 34 10 3\n",
            "[10,] 29 14 3\n",
            "[11,] 35 11 3\n",
            "[12,] 32 13 3\n",
            "[13,] 33 14 4\n",
            "[14,] 38 12 4\n",
            "[15,] 34 13 4\n",
            "[16,] 35 13 4\n"
          ]
        }
      ]
    },
    {
      "cell_type": "code",
      "metadata": {
        "id": "ZS_xrmqdFFCe",
        "colab": {
          "base_uri": "https://localhost:8080/"
        },
        "outputId": "8779b911-10fd-4932-c237-61d31881c26d"
      },
      "source": [
        "install.packages('biotools')"
      ],
      "execution_count": 290,
      "outputs": [
        {
          "output_type": "stream",
          "name": "stderr",
          "text": [
            "Installing package into ‘/usr/local/lib/R/site-library’\n",
            "(as ‘lib’ is unspecified)\n",
            "\n"
          ]
        }
      ]
    },
    {
      "cell_type": "code",
      "metadata": {
        "id": "B4c-md1_Fj1C"
      },
      "source": [
        "library(biotools)"
      ],
      "execution_count": 291,
      "outputs": []
    },
    {
      "cell_type": "code",
      "metadata": {
        "id": "HQnWXXOEGV6L",
        "colab": {
          "base_uri": "https://localhost:8080/",
          "height": 102
        },
        "outputId": "3333e2e4-113f-4b9d-8e92-a52755032f6e"
      },
      "source": [
        "X=X_level[,c(1,2)]\n",
        "boxM(X,g)"
      ],
      "execution_count": 292,
      "outputs": [
        {
          "output_type": "display_data",
          "data": {
            "text/plain": [
              "\n",
              "\tBox's M-test for Homogeneity of Covariance Matrices\n",
              "\n",
              "data:  X\n",
              "Chi-Sq (approx.) = 5.6432, df = 9, p-value = 0.775\n"
            ]
          },
          "metadata": {}
        }
      ]
    },
    {
      "cell_type": "code",
      "metadata": {
        "id": "COxf4LNFGgP5",
        "colab": {
          "base_uri": "https://localhost:8080/",
          "height": 286
        },
        "outputId": "3d52e96f-9d4c-4a47-f4da-0670ae40ee4f"
      },
      "source": [
        "X=X_level[,c(1,2)]\n",
        "group =as.factor(X_level[,3])\n",
        "head(X)"
      ],
      "execution_count": 293,
      "outputs": [
        {
          "output_type": "display_data",
          "data": {
            "text/plain": [
              "     X1 X2\n",
              "[1,] 21 12\n",
              "[2,] 25  8\n",
              "[3,] 20 12\n",
              "[4,] 24 10\n",
              "[5,] 31  9\n",
              "[6,] 23 12"
            ],
            "text/latex": "A matrix: 6 × 2 of type dbl\n\\begin{tabular}{ll}\n X1 & X2\\\\\n\\hline\n\t 21 & 12\\\\\n\t 25 &  8\\\\\n\t 20 & 12\\\\\n\t 24 & 10\\\\\n\t 31 &  9\\\\\n\t 23 & 12\\\\\n\\end{tabular}\n",
            "text/markdown": "\nA matrix: 6 × 2 of type dbl\n\n| X1 | X2 |\n|---|---|\n| 21 | 12 |\n| 25 |  8 |\n| 20 | 12 |\n| 24 | 10 |\n| 31 |  9 |\n| 23 | 12 |\n\n",
            "text/html": [
              "<table class=\"dataframe\">\n",
              "<caption>A matrix: 6 × 2 of type dbl</caption>\n",
              "<thead>\n",
              "\t<tr><th scope=col>X1</th><th scope=col>X2</th></tr>\n",
              "</thead>\n",
              "<tbody>\n",
              "\t<tr><td>21</td><td>12</td></tr>\n",
              "\t<tr><td>25</td><td> 8</td></tr>\n",
              "\t<tr><td>20</td><td>12</td></tr>\n",
              "\t<tr><td>24</td><td>10</td></tr>\n",
              "\t<tr><td>31</td><td> 9</td></tr>\n",
              "\t<tr><td>23</td><td>12</td></tr>\n",
              "</tbody>\n",
              "</table>\n"
            ]
          },
          "metadata": {}
        }
      ]
    },
    {
      "cell_type": "code",
      "metadata": {
        "id": "a68dwS_rHVB7",
        "colab": {
          "base_uri": "https://localhost:8080/",
          "height": 51
        },
        "outputId": "ab654c8c-5f3a-491a-ea88-f1f9fac32974"
      },
      "source": [
        "group =as.factor(X_level[,3])\n",
        "group"
      ],
      "execution_count": 294,
      "outputs": [
        {
          "output_type": "display_data",
          "data": {
            "text/plain": [
              " [1] 1 1 1 1 2 2 2 2 3 3 3 3 4 4 4 4\n",
              "Levels: 1 2 3 4"
            ],
            "text/latex": "\\begin{enumerate*}\n\\item 1\n\\item 1\n\\item 1\n\\item 1\n\\item 2\n\\item 2\n\\item 2\n\\item 2\n\\item 3\n\\item 3\n\\item 3\n\\item 3\n\\item 4\n\\item 4\n\\item 4\n\\item 4\n\\end{enumerate*}\n\n\\emph{Levels}: \\begin{enumerate*}\n\\item '1'\n\\item '2'\n\\item '3'\n\\item '4'\n\\end{enumerate*}\n",
            "text/markdown": "1. 1\n2. 1\n3. 1\n4. 1\n5. 2\n6. 2\n7. 2\n8. 2\n9. 3\n10. 3\n11. 3\n12. 3\n13. 4\n14. 4\n15. 4\n16. 4\n\n\n\n**Levels**: 1. '1'\n2. '2'\n3. '3'\n4. '4'\n\n\n",
            "text/html": [
              "<style>\n",
              ".list-inline {list-style: none; margin:0; padding: 0}\n",
              ".list-inline>li {display: inline-block}\n",
              ".list-inline>li:not(:last-child)::after {content: \"\\00b7\"; padding: 0 .5ex}\n",
              "</style>\n",
              "<ol class=list-inline><li>1</li><li>1</li><li>1</li><li>1</li><li>2</li><li>2</li><li>2</li><li>2</li><li>3</li><li>3</li><li>3</li><li>3</li><li>4</li><li>4</li><li>4</li><li>4</li></ol>\n",
              "\n",
              "<details>\n",
              "\t<summary style=display:list-item;cursor:pointer>\n",
              "\t\t<strong>Levels</strong>:\n",
              "\t</summary>\n",
              "\t<style>\n",
              "\t.list-inline {list-style: none; margin:0; padding: 0}\n",
              "\t.list-inline>li {display: inline-block}\n",
              "\t.list-inline>li:not(:last-child)::after {content: \"\\00b7\"; padding: 0 .5ex}\n",
              "\t</style>\n",
              "\t<ol class=list-inline><li>'1'</li><li>'2'</li><li>'3'</li><li>'4'</li></ol>\n",
              "</details>"
            ]
          },
          "metadata": {}
        }
      ]
    },
    {
      "cell_type": "code",
      "metadata": {
        "id": "pnoRbiqkHkAm",
        "colab": {
          "base_uri": "https://localhost:8080/",
          "height": 102
        },
        "outputId": "2ebc11fd-9ee8-47f1-de63-f06eff11d494"
      },
      "source": [
        "fit=manova(X~group)\n",
        "summary(fit,test=\"Wilks\")"
      ],
      "execution_count": 295,
      "outputs": [
        {
          "output_type": "display_data",
          "data": {
            "text/plain": [
              "          Df    Wilks approx F num Df den Df    Pr(>F)    \n",
              "group      3 0.025465   19.311      6     22 9.717e-08 ***\n",
              "Residuals 12                                              \n",
              "---\n",
              "Signif. codes:  0 ‘***’ 0.001 ‘**’ 0.01 ‘*’ 0.05 ‘.’ 0.1 ‘ ’ 1"
            ]
          },
          "metadata": {}
        }
      ]
    },
    {
      "cell_type": "code",
      "metadata": {
        "id": "sdpUOQcHIiuG",
        "outputId": "55633e6b-565f-463a-9c95-62cf25e455af",
        "colab": {
          "base_uri": "https://localhost:8080/"
        }
      },
      "source": [
        "p1=read.csv('sample_data/asdf.csv')\n",
        "print(p1)"
      ],
      "execution_count": 298,
      "outputs": [
        {
          "output_type": "stream",
          "name": "stdout",
          "text": [
            "   G    THERAPY si_pre sf_pre oa_pre si_post sf_post oa_post\n",
            "1  1    Control     48     68     70      72      74      82\n",
            "2  1    Control     52     46     44      55      61      52\n",
            "3  1    Control     55     50     52      56      51      58\n",
            "4  1    Control     50     43     41      48      45      54\n",
            "5  1    Control     49     76     60      54      60      61\n",
            "6  1    Control     44     59     43      46      62      47\n",
            "7  1    Control     52     40     41      52      35      53\n",
            "8  1    Control     41     36     39      43      38      40\n",
            "9  1    Control     60     40     41      58      46      40\n",
            "10 1    Control     61     53     57      56      49      44\n",
            "11 2  Cognitive     52     48     58      66      65      65\n",
            "12 2  Cognitive     53     61     42      68      66      35\n",
            "13 2  Cognitive     56     56     52      60      70      48\n",
            "14 2  Cognitive     47     53     49      40      54      45\n",
            "15 2  Cognitive     34     52     37      53      67      51\n",
            "16 2  Cognitive     59     45     56      73      68      59\n",
            "17 2  Cognitive     42     47     53      43      66      55\n",
            "18 2  Cognitive     53     59     64      72      71      70\n",
            "19 2  Cognitive     53     47     49      49      44      55\n",
            "20 2  Cognitive     50     39     52      76      59      58\n",
            "21 3 Behavioral     57     72     60      61      90      62\n",
            "22 3 Behavioral     57     57     57      73      74      63\n",
            "23 3 Behavioral     55     48     53      54      57      51\n",
            "24 3 Behavioral     47     43     44      57      59      56\n",
            "25 3 Behavioral     42     34     47      57      54      39\n",
            "26 3 Behavioral     55     47     57      73      69      66\n",
            "27 3 Behavioral     42     55     60      52      58      67\n",
            "28 3 Behavioral     56     54     52      74      67      60\n",
            "29 3 Behavioral     30     48     38      48      68      58\n",
            "30 3 Behavioral     49     44     39      62      66      48\n",
            "31 4 Abreaction     63     63     67      66      67      68\n",
            "32 4 Abreaction     48     37     48      56      70      56\n",
            "33 4 Abreaction     52     53     54      67      91      71\n",
            "34 4 Abreaction     65     55     53      58      58      53\n",
            "35 4 Abreaction     43     62     63      52      75      65\n",
            "36 4 Abreaction     41     40     47      57      73      60\n",
            "37 4 Abreaction     55     37     29      65      58      40\n",
            "38 4 Abreaction     48     44     32      46      53      44\n",
            "39 4 Abreaction     53     57     59      67      74      76\n",
            "40 4 Abreaction     46     41     38      58      61      58\n"
          ]
        }
      ]
    },
    {
      "cell_type": "code",
      "metadata": {
        "id": "NIHUborNSeV3"
      },
      "source": [
        "attach(p1)"
      ],
      "execution_count": null,
      "outputs": []
    },
    {
      "cell_type": "code",
      "metadata": {
        "id": "ymc_4xZ3Sktd",
        "outputId": "965ec9c6-fc43-4fd8-b5cd-d343a10a5bec",
        "colab": {
          "base_uri": "https://localhost:8080/",
          "height": 68
        }
      },
      "source": [
        "X1= data.frame(si_pre,sf_pre)\n",
        "X2= data.frame(oa_pre,si_post)\n",
        "d = X1-X2\n",
        "dmean = colMeans(d)\n",
        "dbar=matrix(c(dmean[1],dmean[2]),2,1)\n",
        "Sd=cov(d)\n",
        "n=40\n",
        "alpha=0.05\n",
        "##############################################\n",
        "T2= n*t(dbar)%*%solve(Sd)%*%dbar\n",
        "paste(\"T2 value:\",T2)\n",
        "##############################################\n",
        "T2_cri = ((2*(n-1)))/(n-p)*qf(1-0.05,p,n-p)\n",
        "paste(\"T2_cri:\",T2_cri)\n",
        "##############################################\n",
        "if(T2 < T2_cri){\n",
        "      paste(\"We do not reject Ho\",alpha)\n",
        "}else{\n",
        "      paste(\"We reject Ho\",alpha)\n",
        "}"
      ],
      "execution_count": 305,
      "outputs": [
        {
          "output_type": "display_data",
          "data": {
            "text/plain": [
              "[1] \"T2 value: 19.3459545287782\""
            ],
            "text/latex": "'T2 value: 19.3459545287782'",
            "text/markdown": "'T2 value: 19.3459545287782'",
            "text/html": [
              "'T2 value: 19.3459545287782'"
            ]
          },
          "metadata": {}
        },
        {
          "output_type": "display_data",
          "data": {
            "text/plain": [
              "[1] \"T2_cri: 6.66041663518839\""
            ],
            "text/latex": "'T2\\_cri: 6.66041663518839'",
            "text/markdown": "'T2_cri: 6.66041663518839'",
            "text/html": [
              "'T2_cri: 6.66041663518839'"
            ]
          },
          "metadata": {}
        },
        {
          "output_type": "display_data",
          "data": {
            "text/plain": [
              "[1] \"We reject Ho 0.05\""
            ],
            "text/latex": "'We reject Ho 0.05'",
            "text/markdown": "'We reject Ho 0.05'",
            "text/html": [
              "'We reject Ho 0.05'"
            ]
          },
          "metadata": {}
        }
      ]
    },
    {
      "cell_type": "code",
      "metadata": {
        "id": "ZzxGMIsFUlOi"
      },
      "source": [
        ""
      ],
      "execution_count": null,
      "outputs": []
    }
  ]
}