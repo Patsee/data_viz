{
  "nbformat": 4,
  "nbformat_minor": 0,
  "metadata": {
    "colab": {
      "name": "ทดสอบโค้ด multi",
      "provenance": [],
      "authorship_tag": "ABX9TyMU31m0fxZE2Gxf6feYrtdd",
      "include_colab_link": true
    },
    "kernelspec": {
      "name": "ir",
      "display_name": "R"
    },
    "language_info": {
      "name": "R"
    }
  },
  "cells": [
    {
      "cell_type": "markdown",
      "metadata": {
        "id": "view-in-github",
        "colab_type": "text"
      },
      "source": [
        "<a href=\"https://colab.research.google.com/github/Patsee/data_viz/blob/main/%E0%B8%97%E0%B8%94%E0%B8%AA%E0%B8%AD%E0%B8%9A%E0%B9%82%E0%B8%84%E0%B9%89%E0%B8%94_multi.ipynb\" target=\"_parent\"><img src=\"https://colab.research.google.com/assets/colab-badge.svg\" alt=\"Open In Colab\"/></a>"
      ]
    },
    {
      "cell_type": "markdown",
      "metadata": {
        "id": "uQDV-qEtnJ4B"
      },
      "source": [
        "###  SC614211 แบบฝึกหัดบทที่ 1"
      ]
    },
    {
      "cell_type": "markdown",
      "metadata": {
        "id": "QlofhxJbnldA"
      },
      "source": [
        "### ข้อ 1"
      ]
    },
    {
      "cell_type": "code",
      "metadata": {
        "colab": {
          "base_uri": "https://localhost:8080/"
        },
        "id": "FMgi9XWjnOWy",
        "outputId": "4aafe0af-b2bc-4448-c9a6-3bcc0c8ca017"
      },
      "source": [
        "A1 = matrix(c(1,-1,4,1,1,3,4,3,2),3,3)\n",
        "B1 = matrix(c(3,7,2,-2,1,3,4,0,5),3,3)\n",
        "x1 = matrix(c(1,-1,2),3,1)\n",
        "y1 = matrix(c(3,2,1),3,1)\n",
        "print(A1)\n",
        "print(B1)\n",
        "print(x1)\n",
        "print(y1)"
      ],
      "execution_count": 1,
      "outputs": [
        {
          "output_type": "stream",
          "name": "stdout",
          "text": [
            "     [,1] [,2] [,3]\n",
            "[1,]    1    1    4\n",
            "[2,]   -1    1    3\n",
            "[3,]    4    3    2\n",
            "     [,1] [,2] [,3]\n",
            "[1,]    3   -2    4\n",
            "[2,]    7    1    0\n",
            "[3,]    2    3    5\n",
            "     [,1]\n",
            "[1,]    1\n",
            "[2,]   -1\n",
            "[3,]    2\n",
            "     [,1]\n",
            "[1,]    3\n",
            "[2,]    2\n",
            "[3,]    1\n"
          ]
        }
      ]
    },
    {
      "cell_type": "code",
      "metadata": {
        "colab": {
          "base_uri": "https://localhost:8080/"
        },
        "id": "bvFMvmGsnQmr",
        "outputId": "24e362d6-fa34-49bc-8a92-182acb08a1a0"
      },
      "source": [
        "Ax1 = A1%*%x1\n",
        "print(Ax1)"
      ],
      "execution_count": 2,
      "outputs": [
        {
          "output_type": "stream",
          "name": "stdout",
          "text": [
            "     [,1]\n",
            "[1,]    8\n",
            "[2,]    4\n",
            "[3,]    5\n"
          ]
        }
      ]
    },
    {
      "cell_type": "code",
      "metadata": {
        "colab": {
          "base_uri": "https://localhost:8080/"
        },
        "id": "AnlFi82TnTj5",
        "outputId": "13fb14cd-4d31-4729-cfe5-910a123ae98f"
      },
      "source": [
        "tran_x1 = t(x1)\n",
        "print(tran_x1)"
      ],
      "execution_count": 3,
      "outputs": [
        {
          "output_type": "stream",
          "name": "stdout",
          "text": [
            "     [,1] [,2] [,3]\n",
            "[1,]    1   -1    2\n"
          ]
        }
      ]
    },
    {
      "cell_type": "code",
      "metadata": {
        "colab": {
          "base_uri": "https://localhost:8080/"
        },
        "id": "KYpMJHhSnXAZ",
        "outputId": "630d929c-898b-4a89-b047-7372ebce2d43"
      },
      "source": [
        "x_tran_A1x = print(tran_x1%*%Ax1)\n",
        "x_tran_y = print(tran_x1%*%y1)\n",
        "B_tran = t(B1)\n",
        "print(B_tran)"
      ],
      "execution_count": 4,
      "outputs": [
        {
          "output_type": "stream",
          "name": "stdout",
          "text": [
            "     [,1]\n",
            "[1,]   14\n",
            "     [,1]\n",
            "[1,]    3\n",
            "     [,1] [,2] [,3]\n",
            "[1,]    3    7    2\n",
            "[2,]   -2    1    3\n",
            "[3,]    4    0    5\n"
          ]
        }
      ]
    },
    {
      "cell_type": "markdown",
      "metadata": {
        "id": "zji4Le_1no6K"
      },
      "source": [
        "### ข้อ 2 พิสูจน์"
      ]
    },
    {
      "cell_type": "code",
      "metadata": {
        "colab": {
          "base_uri": "https://localhost:8080/"
        },
        "id": "IRizPYfOnfSQ",
        "outputId": "b157aa70-5579-4ddd-edd0-0576b9a1cd91"
      },
      "source": [
        "A2 = matrix(c(5,2,3,4,-3,7,4,1,2),3,3)\n",
        "B2 = matrix(c(1,0,1,0,1,2,1,0,3),3,3)\n",
        "print(A2)\n",
        "print(B2)"
      ],
      "execution_count": 5,
      "outputs": [
        {
          "output_type": "stream",
          "name": "stdout",
          "text": [
            "     [,1] [,2] [,3]\n",
            "[1,]    5    4    4\n",
            "[2,]    2   -3    1\n",
            "[3,]    3    7    2\n",
            "     [,1] [,2] [,3]\n",
            "[1,]    1    0    1\n",
            "[2,]    0    1    0\n",
            "[3,]    1    2    3\n"
          ]
        }
      ]
    },
    {
      "cell_type": "code",
      "metadata": {
        "colab": {
          "base_uri": "https://localhost:8080/"
        },
        "id": "3ojm4ZzpnuHw",
        "outputId": "5faebe38-c2b9-49d3-fc71-c32d6ae48265"
      },
      "source": [
        "A2_x_B2 = print(A2%*%B2)\n",
        "print(abs(A2_x_B2))"
      ],
      "execution_count": 6,
      "outputs": [
        {
          "output_type": "stream",
          "name": "stdout",
          "text": [
            "     [,1] [,2] [,3]\n",
            "[1,]    9   12   17\n",
            "[2,]    3   -1    5\n",
            "[3,]    5   11    9\n",
            "     [,1] [,2] [,3]\n",
            "[1,]    9   12   17\n",
            "[2,]    3    1    5\n",
            "[3,]    5   11    9\n"
          ]
        }
      ]
    },
    {
      "cell_type": "code",
      "metadata": {
        "colab": {
          "base_uri": "https://localhost:8080/"
        },
        "id": "FKYKUnZonyWB",
        "outputId": "8afd6ce8-004b-4606-dfb1-9bb0e9252f6f"
      },
      "source": [
        "absA2 = abs(A2)\n",
        "absB2 = abs(B2)\n",
        "ABSA2_x_B2 = print(absA2%*%absB2)"
      ],
      "execution_count": 7,
      "outputs": [
        {
          "output_type": "stream",
          "name": "stdout",
          "text": [
            "     [,1] [,2] [,3]\n",
            "[1,]    9   12   17\n",
            "[2,]    3    5    5\n",
            "[3,]    5   11    9\n"
          ]
        }
      ]
    },
    {
      "cell_type": "markdown",
      "metadata": {
        "id": "2zT2pu12n7lw"
      },
      "source": [
        "### ข้อ 2.2"
      ]
    },
    {
      "cell_type": "code",
      "metadata": {
        "colab": {
          "base_uri": "https://localhost:8080/"
        },
        "id": "m1V557Mrn2tR",
        "outputId": "9b73da99-e2d4-4c64-b9a4-26a361f488d2"
      },
      "source": [
        "AB2_tran = t(A2%*%B2)\n",
        "print(AB2_tran)"
      ],
      "execution_count": 8,
      "outputs": [
        {
          "output_type": "stream",
          "name": "stdout",
          "text": [
            "     [,1] [,2] [,3]\n",
            "[1,]    9    3    5\n",
            "[2,]   12   -1   11\n",
            "[3,]   17    5    9\n"
          ]
        }
      ]
    },
    {
      "cell_type": "code",
      "metadata": {
        "colab": {
          "base_uri": "https://localhost:8080/"
        },
        "id": "ss95hf1Kn_H5",
        "outputId": "563bd8ee-6827-480d-f97a-cd28036d690c"
      },
      "source": [
        "A2_tran = print(t(A2))\n",
        "B2_tran = print(t(B2))"
      ],
      "execution_count": 9,
      "outputs": [
        {
          "output_type": "stream",
          "name": "stdout",
          "text": [
            "     [,1] [,2] [,3]\n",
            "[1,]    5    2    3\n",
            "[2,]    4   -3    7\n",
            "[3,]    4    1    2\n",
            "     [,1] [,2] [,3]\n",
            "[1,]    1    0    1\n",
            "[2,]    0    1    2\n",
            "[3,]    1    0    3\n"
          ]
        }
      ]
    },
    {
      "cell_type": "code",
      "metadata": {
        "colab": {
          "base_uri": "https://localhost:8080/"
        },
        "id": "tgIxmn4roBMw",
        "outputId": "d8cd1fc8-5618-4b7c-e9b5-1dbace7a73ee"
      },
      "source": [
        "print(A2_tran%*%B2_tran) # ไม่เท่ากัน"
      ],
      "execution_count": 10,
      "outputs": [
        {
          "output_type": "stream",
          "name": "stdout",
          "text": [
            "     [,1] [,2] [,3]\n",
            "[1,]    8    2   18\n",
            "[2,]   11   -3   19\n",
            "[3,]    6    1   12\n"
          ]
        }
      ]
    },
    {
      "cell_type": "markdown",
      "metadata": {
        "id": "mzMtANF9oFV4"
      },
      "source": [
        "### ข้อ 3"
      ]
    },
    {
      "cell_type": "code",
      "metadata": {
        "colab": {
          "base_uri": "https://localhost:8080/"
        },
        "id": "e5v2YAR4oDJA",
        "outputId": "56ee5a8d-65b1-4886-d24c-3e970982c2e7"
      },
      "source": [
        "S = matrix(c(140.5,49.68,1.94,49.68,72.25,3.68,1.94,3.68,0.25),3,3)\n",
        "print(S)\n",
        "V = matrix(c(1/11.853270,0,0,0,0.117,0,0,0,2),3,3)\n",
        "print(V)"
      ],
      "execution_count": 12,
      "outputs": [
        {
          "output_type": "stream",
          "name": "stdout",
          "text": [
            "       [,1]  [,2] [,3]\n",
            "[1,] 140.50 49.68 1.94\n",
            "[2,]  49.68 72.25 3.68\n",
            "[3,]   1.94  3.68 0.25\n",
            "           [,1]  [,2] [,3]\n",
            "[1,] 0.08436491 0.000    0\n",
            "[2,] 0.00000000 0.117    0\n",
            "[3,] 0.00000000 0.000    2\n"
          ]
        }
      ]
    },
    {
      "cell_type": "code",
      "metadata": {
        "colab": {
          "base_uri": "https://localhost:8080/"
        },
        "id": "hZb1UpIPoJGJ",
        "outputId": "763d7167-0ad1-4772-c1f4-521098697f15"
      },
      "source": [
        "print(V%*%S%*%V)"
      ],
      "execution_count": 13,
      "outputs": [
        {
          "output_type": "stream",
          "name": "stdout",
          "text": [
            "          [,1]      [,2]      [,3]\n",
            "[1,] 0.9999999 0.4903761 0.3273358\n",
            "[2,] 0.4903761 0.9890303 0.8611200\n",
            "[3,] 0.3273358 0.8611200 1.0000000\n"
          ]
        }
      ]
    },
    {
      "cell_type": "markdown",
      "metadata": {
        "id": "4zYan5cUoTQs"
      },
      "source": [
        "### ข้อ 4"
      ]
    },
    {
      "cell_type": "code",
      "metadata": {
        "colab": {
          "base_uri": "https://localhost:8080/"
        },
        "id": "V6sjXUfHoPyh",
        "outputId": "2fd9653e-50d2-4023-ea8f-510ecf006292"
      },
      "source": [
        "V_mean = matrix(c(-2,3,-1,5),4,1)\n",
        "A4 = matrix(c(11,-8,3,9,-8,9,-3,-6,3,-3,2,3,9,-6,3,9),4,4)\n",
        "print(V_mean)\n",
        "print(A4)"
      ],
      "execution_count": 14,
      "outputs": [
        {
          "output_type": "stream",
          "name": "stdout",
          "text": [
            "     [,1]\n",
            "[1,]   -2\n",
            "[2,]    3\n",
            "[3,]   -1\n",
            "[4,]    5\n",
            "     [,1] [,2] [,3] [,4]\n",
            "[1,]   11   -8    3    9\n",
            "[2,]   -8    9   -3   -6\n",
            "[3,]    3   -3    2    3\n",
            "[4,]    9   -6    3    9\n"
          ]
        }
      ]
    },
    {
      "cell_type": "code",
      "metadata": {
        "colab": {
          "base_uri": "https://localhost:8080/"
        },
        "id": "NYd3rDg4oVr5",
        "outputId": "12d08eaa-1514-4d8c-dceb-8f7ec99e0eeb"
      },
      "source": [
        "Z = matrix(c(3,-1,2,1,-3,2,-4,1,4,-1,-2,-5),3,4)\n",
        "print(Z)"
      ],
      "execution_count": 20,
      "outputs": [
        {
          "output_type": "stream",
          "name": "stdout",
          "text": [
            "     [,1] [,2] [,3] [,4]\n",
            "[1,]    3    1   -4   -1\n",
            "[2,]   -1   -3    1   -2\n",
            "[3,]    2    2    4   -5\n"
          ]
        }
      ]
    },
    {
      "cell_type": "code",
      "metadata": {
        "colab": {
          "base_uri": "https://localhost:8080/"
        },
        "id": "zwD7K-JMof_B",
        "outputId": "c0583454-7a20-4a50-bd63-fab7bfcfe02a"
      },
      "source": [
        "Z_tran = t(Z)\n",
        "print(Z_tran)"
      ],
      "execution_count": 23,
      "outputs": [
        {
          "output_type": "stream",
          "name": "stdout",
          "text": [
            "     [,1] [,2] [,3]\n",
            "[1,]    3   -1    2\n",
            "[2,]    1   -3    2\n",
            "[3,]   -4    1    4\n",
            "[4,]   -1   -2   -5\n"
          ]
        }
      ]
    },
    {
      "cell_type": "code",
      "metadata": {
        "colab": {
          "base_uri": "https://localhost:8080/"
        },
        "id": "Xa1vKHxBovzh",
        "outputId": "ac4728d4-97fb-493c-f631-320779ab050a"
      },
      "source": [
        "ΣZ  = print(Z%*%A4%*%Z_tran)"
      ],
      "execution_count": 24,
      "outputs": [
        {
          "output_type": "stream",
          "name": "stdout",
          "text": [
            "     [,1] [,2] [,3]\n",
            "[1,]   35  -18   -6\n",
            "[2,]  -18   46   14\n",
            "[3,]   -6   14   93\n"
          ]
        }
      ]
    },
    {
      "cell_type": "code",
      "metadata": {
        "colab": {
          "base_uri": "https://localhost:8080/"
        },
        "id": "_KVWMe8boxqB",
        "outputId": "77fc70f4-4df1-4cbc-d0c0-9efb70bdefda"
      },
      "source": [
        "μ_vector_z = print(Z%*%V_mean)"
      ],
      "execution_count": 25,
      "outputs": [
        {
          "output_type": "stream",
          "name": "stdout",
          "text": [
            "     [,1]\n",
            "[1,]   -4\n",
            "[2,]  -18\n",
            "[3,]  -27\n"
          ]
        }
      ]
    },
    {
      "cell_type": "code",
      "metadata": {
        "colab": {
          "base_uri": "https://localhost:8080/"
        },
        "id": "Hr_MfWwYpUOB",
        "outputId": "6b05bba1-f430-4a54-f257-1048386870fe"
      },
      "source": [
        "install.packages(\"mvtnorm\")\n",
        "library(\"mvtnorm\")"
      ],
      "execution_count": 26,
      "outputs": [
        {
          "output_type": "stream",
          "name": "stderr",
          "text": [
            "Installing package into ‘/usr/local/lib/R/site-library’\n",
            "(as ‘lib’ is unspecified)\n",
            "\n"
          ]
        }
      ]
    },
    {
      "cell_type": "code",
      "metadata": {
        "colab": {
          "base_uri": "https://localhost:8080/"
        },
        "id": "odEzAAHdpnp5",
        "outputId": "46460c39-1e3f-44c9-d660-8aaa19b59f5c"
      },
      "source": [
        "mu = c(5,10)\n",
        "sigma = matrix(c(3,2,2,6),2,2)\n",
        "print(mu)\n",
        "print(sigma)"
      ],
      "execution_count": 27,
      "outputs": [
        {
          "output_type": "stream",
          "name": "stdout",
          "text": [
            "[1]  5 10\n",
            "     [,1] [,2]\n",
            "[1,]    3    2\n",
            "[2,]    2    6\n"
          ]
        }
      ]
    },
    {
      "cell_type": "code",
      "metadata": {
        "colab": {
          "base_uri": "https://localhost:8080/",
          "height": 237
        },
        "id": "iTYcSkkUpqQ4",
        "outputId": "794c96d9-631e-4bbd-8f27-c7602e1302c8"
      },
      "source": [
        "x = rmvnorm(1000, mean = mu ,sigma = sigma)\n",
        "head(x)"
      ],
      "execution_count": 30,
      "outputs": [
        {
          "output_type": "display_data",
          "data": {
            "text/plain": [
              "     [,1]     [,2]     \n",
              "[1,] 1.747466  8.651116\n",
              "[2,] 6.181607 12.568087\n",
              "[3,] 1.780092  7.508900\n",
              "[4,] 5.563857 12.740413\n",
              "[5,] 9.181357 10.761397\n",
              "[6,] 6.862878  8.301015"
            ],
            "text/latex": "A matrix: 6 × 2 of type dbl\n\\begin{tabular}{ll}\n\t 1.747466 &  8.651116\\\\\n\t 6.181607 & 12.568087\\\\\n\t 1.780092 &  7.508900\\\\\n\t 5.563857 & 12.740413\\\\\n\t 9.181357 & 10.761397\\\\\n\t 6.862878 &  8.301015\\\\\n\\end{tabular}\n",
            "text/markdown": "\nA matrix: 6 × 2 of type dbl\n\n| 1.747466 |  8.651116 |\n| 6.181607 | 12.568087 |\n| 1.780092 |  7.508900 |\n| 5.563857 | 12.740413 |\n| 9.181357 | 10.761397 |\n| 6.862878 |  8.301015 |\n\n",
            "text/html": [
              "<table class=\"dataframe\">\n",
              "<caption>A matrix: 6 × 2 of type dbl</caption>\n",
              "<tbody>\n",
              "\t<tr><td>1.747466</td><td> 8.651116</td></tr>\n",
              "\t<tr><td>6.181607</td><td>12.568087</td></tr>\n",
              "\t<tr><td>1.780092</td><td> 7.508900</td></tr>\n",
              "\t<tr><td>5.563857</td><td>12.740413</td></tr>\n",
              "\t<tr><td>9.181357</td><td>10.761397</td></tr>\n",
              "\t<tr><td>6.862878</td><td> 8.301015</td></tr>\n",
              "</tbody>\n",
              "</table>\n"
            ]
          },
          "metadata": {}
        }
      ]
    },
    {
      "cell_type": "code",
      "metadata": {
        "colab": {
          "base_uri": "https://localhost:8080/",
          "height": 136
        },
        "id": "LM4IyMm5pwoZ",
        "outputId": "510184c4-0f5f-4163-fff1-a47a063100cf"
      },
      "source": [
        "summary(x)"
      ],
      "execution_count": 31,
      "outputs": [
        {
          "output_type": "display_data",
          "data": {
            "text/plain": [
              "       V1                V2        \n",
              " Min.   :-0.4512   Min.   : 1.987  \n",
              " 1st Qu.: 3.8111   1st Qu.: 8.337  \n",
              " Median : 4.9913   Median :10.118  \n",
              " Mean   : 4.9971   Mean   :10.067  \n",
              " 3rd Qu.: 6.1824   3rd Qu.:11.761  \n",
              " Max.   :10.3611   Max.   :17.549  "
            ]
          },
          "metadata": {}
        }
      ]
    },
    {
      "cell_type": "code",
      "metadata": {
        "colab": {
          "base_uri": "https://localhost:8080/",
          "height": 437
        },
        "id": "IhAfJLBOp4aG",
        "outputId": "5a14f84e-5d94-4b0d-8ebf-cf5c3fbbdcd7"
      },
      "source": [
        "plot(x[,1],x[,2])"
      ],
      "execution_count": 32,
      "outputs": [
        {
          "output_type": "display_data",
          "data": {
            "image/png": "[encoded data removed]",
            "text/plain": [
              "plot without title"
            ]
          },
          "metadata": {
            "image/png": {
              "width": 420,
              "height": 420
            }
          }
        }
      ]
    },
    {
      "cell_type": "code",
      "metadata": {
        "colab": {
          "base_uri": "https://localhost:8080/"
        },
        "id": "-sMDZNs4p69T",
        "outputId": "2ad82ab3-d4a5-425f-cbc5-8d2d2b8ccb18"
      },
      "source": [
        "x_maha = mahalanobis(x, colMeans(x),cov(x))\n",
        "print(x_maha)"
      ],
      "execution_count": 34,
      "outputs": [
        {
          "output_type": "stream",
          "name": "stdout",
          "text": [
            "   [1] 3.536401e+00 1.048727e+00 3.343223e+00 1.206006e+00 6.649245e+00\n",
            "   [6] 3.101809e+00 1.673763e-01 6.918150e-01 6.295085e-01 1.773730e+00\n",
            "  [11] 2.645979e+00 4.346462e-01 2.526325e+00 3.618705e+00 1.423250e+00\n",
            "  [16] 3.381865e+00 1.513903e-01 2.297794e+00 2.565370e+00 1.988737e-01\n",
            "  [21] 3.214537e-01 5.726125e-01 3.587254e+00 6.586053e+00 1.438745e+00\n",
            "  [26] 3.220002e-01 1.036671e+00 4.250443e+00 3.270286e-01 3.727178e+00\n",
            "  [31] 3.090848e-01 4.970587e-01 1.511213e+00 3.276168e+00 1.103181e+00\n",
            "  [36] 2.652873e-01 2.112500e+00 1.211428e-01 2.635734e+00 2.847076e+00\n",
            "  [41] 2.457572e+00 4.351070e-01 3.792145e+00 2.923734e+00 5.064993e-01\n",
            "  [46] 4.236584e+00 8.867317e-01 4.920600e-01 1.931987e+00 4.632116e-01\n",
            "  [51] 7.366482e+00 1.040078e+00 4.739739e+00 1.051812e+01 2.535876e+00\n",
            "  [56] 2.541677e-01 1.462702e+00 2.080462e-01 6.515255e-01 3.104173e+00\n",
            "  [61] 6.083960e-01 6.876266e+00 2.209208e+00 9.080916e+00 1.818999e-02\n",
            "  [66] 7.970361e-01 1.263829e+00 5.641251e-02 4.223035e+00 2.074203e-02\n",
            "  [71] 2.063011e+00 1.571720e+00 7.531789e-01 2.845342e+00 1.372764e-01\n",
            "  [76] 3.903280e-01 1.025360e-01 7.207322e+00 2.874858e+00 6.615558e-01\n",
            "  [81] 5.690679e+00 2.465211e+00 1.908820e+00 6.942998e+00 2.394361e+00\n",
            "  [86] 8.809101e-01 5.436750e-01 1.853899e+00 1.283255e+00 7.119396e+00\n",
            "  [91] 2.432633e+00 3.694105e-01 6.466062e+00 2.003940e+00 1.580251e+00\n",
            "  [96] 4.215888e-01 4.002871e+00 8.934697e+00 1.041699e-01 3.123787e+00\n",
            " [101] 3.372523e-01 1.098805e+00 2.061110e+00 3.533438e+00 9.594079e+00\n",
            " [106] 5.184037e+00 2.656974e-01 6.872781e+00 4.556861e+00 1.334032e+00\n",
            " [111] 2.101290e+00 1.302363e+00 1.294936e+00 2.301770e+00 1.994682e+00\n",
            " [116] 2.919097e+00 1.876510e+00 8.337006e-01 3.030783e-01 1.618237e+00\n",
            " [121] 6.121966e+00 1.560213e-01 3.811519e+00 3.547552e+00 4.636844e+00\n",
            " [126] 6.864634e+00 2.337276e+00 4.224455e-02 1.479087e+00 1.702896e-01\n",
            " [131] 7.765181e-01 1.646102e+00 1.097271e+00 7.011613e+00 1.189887e+00\n",
            " [136] 7.351702e+00 4.219632e-01 1.549124e+00 1.414432e+00 2.941016e+00\n",
            " [141] 2.804877e+00 1.678726e+00 5.234114e+00 1.906652e+00 1.403037e+00\n",
            " [146] 1.981599e+00 2.029378e+00 8.424329e-01 3.425711e-01 4.428758e+00\n",
            " [151] 3.328017e+00 3.284491e+00 1.796861e+00 3.068166e+00 6.220010e-01\n",
            " [156] 9.298380e+00 1.175003e+00 5.112760e-01 2.940513e+00 2.297510e-01\n",
            " [161] 5.874893e-01 3.740677e-01 3.327638e+00 2.619768e-01 1.658840e+00\n",
            " [166] 3.118868e+00 1.127781e-01 1.661651e+00 2.247927e+00 8.477779e-01\n",
            " [171] 2.457974e-01 4.498462e-01 4.244244e+00 5.786842e+00 9.928647e+00\n",
            " [176] 3.484084e+00 1.870535e+00 2.926672e+00 2.391066e+00 9.497538e-01\n",
            " [181] 6.722162e+00 4.983573e+00 1.377443e+00 4.717209e+00 4.165328e-01\n",
            " [186] 3.489813e+00 1.947452e+00 1.916560e+00 3.365618e+00 3.510998e+00\n",
            " [191] 4.678500e-01 1.890943e+00 1.252576e+00 7.170148e+00 2.230665e+00\n",
            " [196] 4.967344e-01 2.603892e+00 5.049474e+00 6.413349e-01 1.043109e+00\n",
            " [201] 5.559478e+00 2.487401e+00 7.738424e-01 7.803871e-01 5.803070e-01\n",
            " [206] 2.265211e+00 8.672151e-01 2.728127e+00 9.787778e-01 2.122718e-01\n",
            " [211] 5.610434e+00 1.832914e+00 2.118852e+00 6.954290e-01 8.399165e-01\n",
            " [216] 1.774871e-01 2.497097e+00 7.030455e+00 8.650082e-01 1.291142e+00\n",
            " [221] 1.992061e+00 2.191942e+00 2.147840e-01 1.124038e+00 2.794412e+00\n",
            " [226] 1.038042e+00 1.048386e-01 1.786918e+00 7.558020e-01 1.658589e+00\n",
            " [231] 3.828116e+00 2.688457e+00 5.277433e+00 6.039440e-01 3.147672e+00\n",
            " [236] 2.785811e+00 6.703010e-01 1.030172e+00 2.065608e+00 4.894305e+00\n",
            " [241] 3.329942e-01 2.339385e+00 2.435904e+00 7.401738e-01 3.380814e+00\n",
            " [246] 1.452225e+00 1.998827e+00 6.730261e-01 9.233895e+00 5.505351e-01\n",
            " [251] 3.095505e-01 3.119908e+00 2.920648e+00 1.533126e-02 2.915257e+00\n",
            " [256] 1.369191e+00 7.097342e+00 3.045551e-01 1.045459e+01 6.832380e+00\n",
            " [261] 2.200673e+00 1.082890e+00 5.719553e-01 8.077541e-02 1.699026e+00\n",
            " [266] 2.088905e-02 1.186503e+00 1.416942e+00 2.010817e+00 4.027808e-01\n",
            " [271] 5.971206e+00 6.726084e+00 6.103751e-01 3.535108e+00 1.091149e+00\n",
            " [276] 2.342525e+00 2.530753e+00 2.876709e-01 2.931258e+00 3.327293e+00\n",
            " [281] 8.038899e-01 8.701373e-01 6.726949e-01 9.949795e-01 3.359064e+00\n",
            " [286] 3.364541e+00 1.288237e+00 2.339955e+00 3.765355e+00 1.315017e+00\n",
            " [291] 2.027268e+00 3.273365e+00 9.309697e-01 8.131080e-01 3.901041e+00\n",
            " [296] 5.097730e-01 1.440749e+00 7.094115e-02 6.377546e+00 1.823436e+00\n",
            " [301] 1.872522e+00 1.008994e+00 3.445632e-01 1.398633e-01 7.760637e-01\n",
            " [306] 1.468477e+00 1.552329e+00 3.240979e-02 2.362355e+00 2.340141e+00\n",
            " [311] 2.113282e-01 3.528360e-01 2.399142e+00 3.165234e-01 2.185221e-01\n",
            " [316] 6.101616e-01 1.048759e+00 7.852648e-02 3.288933e-01 9.083473e-01\n",
            " [321] 4.732501e+00 5.853282e-01 9.974505e-01 2.447165e-01 3.631664e-01\n",
            " [326] 2.577295e-01 1.541810e+00 4.470220e-02 4.409435e-01 1.139482e+00\n",
            " [331] 4.709020e+00 3.954960e+00 6.486628e-01 6.962462e-01 1.770528e+00\n",
            " [336] 5.455004e-01 1.006221e-01 5.149971e-01 4.503350e-01 1.085165e+00\n",
            " [341] 8.730575e-01 8.763027e-01 5.276876e-01 1.112233e+00 3.552383e-01\n",
            " [346] 1.809828e+00 9.772706e-04 8.122162e-01 2.531972e+00 5.703244e+00\n",
            " [351] 6.091910e-02 1.345632e+00 9.675379e-01 4.790729e+00 6.873845e-01\n",
            " [356] 9.406205e-01 3.939196e+00 5.971552e-02 2.654483e-01 4.932776e+00\n",
            " [361] 3.887022e+00 4.412257e+00 2.325890e+00 4.592260e+00 8.390975e-01\n",
            " [366] 2.102932e+00 1.189925e-01 3.031783e+00 2.112573e+00 4.522489e+00\n",
            " [371] 6.589849e-01 5.456048e-01 2.243134e+00 5.724038e-01 4.114120e-02\n",
            " [376] 3.018033e+00 4.079611e+00 1.806073e+00 4.706761e-01 5.017702e-01\n",
            " [381] 1.633172e+00 5.154588e+00 4.787625e-01 1.519553e+00 4.888032e+00\n",
            " [386] 8.124796e+00 6.401436e-01 1.824610e+00 2.947595e-01 2.983219e+00\n",
            " [391] 9.328516e-02 9.738757e+00 1.334937e+00 2.397480e-01 1.064755e+00\n",
            " [396] 3.930623e+00 6.165514e+00 1.253861e+00 9.871280e-01 1.804181e-01\n",
            " [401] 1.587214e+00 2.062425e+00 1.801014e+00 9.288071e-01 3.306738e+00\n",
            " [406] 3.158264e+00 2.171381e+00 3.187453e-01 7.076720e+00 1.152172e+00\n",
            " [411] 4.722057e-01 1.794080e-01 2.702466e-01 1.537580e-03 1.936653e+00\n",
            " [416] 2.543731e+00 4.010397e+00 1.278885e+00 4.422474e+00 3.187354e-01\n",
            " [421] 4.583650e-01 3.590079e-01 2.220697e+00 1.786407e+00 1.133503e+00\n",
            " [426] 1.755990e-01 5.079848e-01 4.218865e-02 2.970442e-01 2.065353e+00\n",
            " [431] 5.910762e-01 1.355319e+00 3.570794e+00 5.433926e-01 1.389858e+00\n",
            " [436] 6.584770e+00 7.018113e-01 2.251933e-01 3.106433e+00 1.973594e+00\n",
            " [441] 1.922745e+00 1.850129e+00 1.214325e+00 7.140860e-01 3.035635e+00\n",
            " [446] 1.128759e-01 4.636536e+00 1.959884e-01 4.455893e+00 6.980701e-01\n",
            " [451] 6.100050e-01 6.704528e-01 9.167812e-01 1.186891e-01 9.964975e-03\n",
            " [456] 1.469943e-01 1.153550e-01 1.807749e+00 8.957953e-02 5.389349e+00\n",
            " [461] 2.290602e-01 2.199333e+00 6.752950e-01 1.130305e-01 2.785600e+00\n",
            " [466] 9.667709e-01 2.979568e+00 7.470373e-01 1.595961e-01 6.556889e-01\n",
            " [471] 2.063756e+00 8.572352e-01 1.896672e-01 9.592700e-01 2.934811e+00\n",
            " [476] 3.384321e+00 2.980535e+00 3.204765e-01 1.911093e+00 2.658096e+00\n",
            " [481] 2.142590e+00 9.476187e-02 1.523867e+00 3.063081e-01 2.335330e+00\n",
            " [486] 4.329757e-01 3.324807e+00 1.440458e-01 2.072082e-01 4.075819e+00\n",
            " [491] 2.992315e-01 3.859725e+00 2.157292e+00 3.963129e+00 1.847555e+00\n",
            " [496] 1.516842e+00 2.316657e+00 1.164206e+00 7.038821e-01 1.382592e+00\n",
            " [501] 2.767512e-02 2.367969e+00 1.899875e+00 1.640778e+00 7.900179e-01\n",
            " [506] 4.762391e-01 4.100791e-01 2.275720e+00 1.113074e+00 1.768477e+00\n",
            " [511] 6.820807e+00 3.988408e-01 2.184340e-01 3.856456e+00 8.909956e-01\n",
            " [516] 2.486670e+00 5.887820e+00 2.567850e+00 1.243872e-01 1.624585e+00\n",
            " [521] 1.587939e+00 2.455068e+00 1.392797e+00 5.301998e+00 4.087751e-01\n",
            " [526] 3.237296e-01 3.984935e+00 1.784760e+00 3.639219e-01 1.794917e+00\n",
            " [531] 2.035238e+00 1.927879e+00 2.640822e+00 3.545280e+00 3.791664e+00\n",
            " [536] 5.380835e+00 1.399965e+00 4.015094e-02 6.125604e+00 1.158118e-01\n",
            " [541] 3.627331e+00 1.976592e+00 2.423947e+00 1.190837e+00 6.582871e-01\n",
            " [546] 4.649676e+00 2.197707e+00 4.500313e+00 3.973799e+00 3.570265e+00\n",
            " [551] 6.992916e-01 3.045835e+00 3.121560e-01 3.410738e-01 5.181917e+00\n",
            " [556] 3.748217e-01 3.101159e+00 2.325604e+00 2.138538e-01 5.943886e+00\n",
            " [561] 1.922203e+00 3.263947e+00 2.824263e+00 1.627713e+00 5.509643e-01\n",
            " [566] 1.044339e+00 7.939561e-01 8.380940e-01 1.183298e+00 3.610961e+00\n",
            " [571] 6.958774e-01 1.832243e+00 2.039321e+00 2.102759e+00 2.646467e+00\n",
            " [576] 1.103172e+00 3.097016e-01 1.806584e+00 2.493460e-02 6.884164e-02\n",
            " [581] 1.177397e+00 1.308580e+00 1.986985e+00 2.371929e+00 5.296623e-01\n",
            " [586] 8.213430e-01 8.792900e-02 1.404836e+00 2.736679e+00 1.225268e-01\n",
            " [591] 3.900052e-01 1.080051e+00 8.959709e-01 2.466555e-01 1.672679e+00\n",
            " [596] 1.227128e-01 1.453768e+00 4.386012e+00 1.187261e+00 1.526400e+00\n",
            " [601] 1.484334e+00 1.547236e-01 2.537496e+00 4.534341e+00 5.574980e+00\n",
            " [606] 2.289646e+00 1.234886e+00 2.098333e+00 2.117481e+00 9.195519e-01\n",
            " [611] 2.290218e+00 4.996458e-01 9.047218e-01 6.690203e+00 1.836990e+00\n",
            " [616] 9.751351e-01 2.030755e+00 3.226885e-01 6.555838e+00 2.738619e+00\n",
            " [621] 1.289674e-01 5.196753e+00 2.287206e-01 1.188871e+00 2.525189e+00\n",
            " [626] 2.875232e-01 5.573000e-01 2.505458e-01 1.579276e+00 1.385974e+00\n",
            " [631] 9.870313e-01 1.225798e-01 3.731377e-01 5.991497e-01 2.096274e+00\n",
            " [636] 4.059383e-02 3.850669e+00 3.334471e+00 1.142389e-01 6.529247e-01\n",
            " [641] 3.854214e+00 7.776742e-01 1.671457e+00 1.235646e+00 6.771044e-01\n",
            " [646] 3.795447e+00 3.204096e+00 5.151487e-01 6.145363e-01 1.512389e+00\n",
            " [651] 1.643900e+00 2.200534e+00 2.676797e+00 4.898355e-02 6.688369e-02\n",
            " [656] 1.079543e-01 7.147221e-02 2.027672e+00 3.493648e+00 4.045982e-01\n",
            " [661] 3.567959e-01 2.053444e+00 7.217380e-01 1.130110e+00 1.187567e+00\n",
            " [666] 2.551284e+00 2.939031e+00 7.514795e-01 9.115065e-02 4.138889e+00\n",
            " [671] 2.451408e+00 4.302288e+00 4.538316e+00 4.040445e-01 5.544541e-01\n",
            " [676] 1.665318e+00 5.764856e+00 2.514290e-01 5.537047e-01 1.011749e-01\n",
            " [681] 4.233499e+00 2.246023e+00 2.572616e-01 1.351119e+00 9.399946e-01\n",
            " [686] 1.419601e+00 3.614597e+00 2.168170e+00 4.194099e+00 7.604302e-01\n",
            " [691] 1.182236e+00 3.225226e+00 2.770700e-01 8.912327e-01 2.475174e+00\n",
            " [696] 1.168408e+00 5.612829e+00 1.368718e+00 5.023572e-01 2.619971e+00\n",
            " [701] 5.562928e+00 2.933015e+00 4.956941e+00 2.148453e+00 2.772455e+00\n",
            " [706] 7.927264e-01 4.919014e-01 2.797294e+00 9.661435e-01 4.643405e-01\n",
            " [711] 6.914323e-02 3.622678e+00 9.511538e-01 3.320431e+00 4.833977e+00\n",
            " [716] 1.467566e+00 1.752156e+00 1.065191e+00 1.073570e+00 1.033683e+00\n",
            " [721] 5.172127e+00 2.806667e+00 2.587420e+00 1.151092e-01 1.536001e+00\n",
            " [726] 5.679744e+00 1.276185e+00 2.216949e+00 2.914665e-02 1.287170e+01\n",
            " [731] 4.895707e-01 8.250831e-01 1.820246e+00 2.129303e+00 1.385809e+00\n",
            " [736] 1.741003e+00 2.152703e+00 2.823810e+00 5.308155e-01 1.642415e-01\n",
            " [741] 3.088224e+00 7.233052e+00 6.521722e-01 5.251278e+00 1.395628e-01\n",
            " [746] 1.704009e+00 2.519473e+00 3.488455e+00 1.767843e+00 9.998985e-02\n",
            " [751] 1.836226e+00 4.121134e-01 3.697568e+00 3.896473e-01 8.837224e-01\n",
            " [756] 1.802844e-01 2.132782e+00 1.245345e+00 1.819489e+00 2.041275e+00\n",
            " [761] 6.580851e-01 4.373010e-01 1.194058e+00 2.074038e+00 2.004451e+00\n",
            " [766] 1.176040e+00 9.317783e-01 2.494875e+00 6.490738e+00 3.139119e+00\n",
            " [771] 6.425710e-01 3.405735e-01 2.277461e+00 4.584061e-01 1.726598e+00\n",
            " [776] 2.555966e+00 5.716906e-01 6.532974e-01 7.224899e-01 5.720176e+00\n",
            " [781] 3.974323e+00 5.136194e-01 1.441224e+00 1.835508e-01 8.139684e-01\n",
            " [786] 6.887761e-02 3.868182e+00 8.302811e+00 3.997241e+00 3.872680e+00\n",
            " [791] 1.472467e+00 9.578483e-01 3.469523e+00 1.057621e+00 6.868874e+00\n",
            " [796] 2.053070e-01 1.679395e+00 1.172519e-01 3.315061e+00 3.146984e-01\n",
            " [801] 2.153853e+00 1.524024e+00 2.167359e+00 1.539020e+00 2.087421e+00\n",
            " [806] 3.101331e+00 2.229678e+00 2.387912e-01 2.173531e-01 6.316596e+00\n",
            " [811] 7.216941e-01 6.955894e-02 2.575855e-01 2.406889e-01 1.077797e+00\n",
            " [816] 4.027219e+00 3.535260e+00 4.587345e+00 1.075218e-01 5.428142e-02\n",
            " [821] 8.196153e-01 2.782447e+00 1.007996e+00 1.083986e+00 3.382878e+00\n",
            " [826] 4.578591e+00 2.315092e-01 5.944069e-01 1.011203e+00 3.038433e+00\n",
            " [831] 1.553342e+00 2.227008e+00 5.862246e-01 2.668178e-01 1.286339e+00\n",
            " [836] 1.266875e+00 2.223593e-01 4.904279e-01 1.260192e+00 2.521328e+00\n",
            " [841] 6.272557e-01 6.065225e+00 3.770526e+00 2.073413e+00 1.566714e-01\n",
            " [846] 6.054096e-01 6.568584e-01 6.739280e+00 1.656741e+00 1.971860e-01\n",
            " [851] 4.005892e-01 2.099668e+00 9.862302e-01 1.420650e+00 1.022387e+00\n",
            " [856] 7.734414e-02 1.802708e+00 2.538648e+00 3.597436e-01 3.212183e+00\n",
            " [861] 8.372075e-01 5.219807e-01 1.798767e+00 2.601320e+00 3.511750e+00\n",
            " [866] 3.117239e-01 4.024443e-01 8.468241e-01 5.930329e-01 2.291623e-01\n",
            " [871] 1.022693e+00 1.105120e-01 1.516579e+00 1.766799e+00 3.316239e+00\n",
            " [876] 3.386700e+00 2.951033e+00 4.036125e-01 5.185963e-01 5.673500e+00\n",
            " [881] 2.679340e-04 1.380541e+00 1.769554e+00 5.070288e+00 1.742715e-01\n",
            " [886] 5.123101e-01 1.304475e+00 4.503879e+00 1.720112e+00 1.258659e+00\n",
            " [891] 2.341790e+00 6.200396e-01 8.595091e-01 1.472435e+00 1.484349e+00\n",
            " [896] 1.387692e+00 3.805564e+00 3.022776e-01 2.384192e+00 4.264004e+00\n",
            " [901] 7.763312e-01 2.817143e+00 4.548901e-01 6.671437e+00 3.310539e+00\n",
            " [906] 1.289801e+00 4.043046e+00 1.724882e+00 2.433265e+00 1.230593e-01\n",
            " [911] 9.599846e-01 5.673487e-01 1.855998e-01 3.616192e+00 4.291744e+00\n",
            " [916] 2.249136e+00 7.510000e-01 1.803894e-01 3.055376e+00 5.341452e-02\n",
            " [921] 9.953562e-01 6.484603e+00 1.552402e-01 2.555539e+00 1.939149e+00\n",
            " [926] 1.758070e+00 1.646324e+00 8.195528e-01 4.721751e+00 5.778391e-01\n",
            " [931] 2.743413e+00 3.369363e-01 3.068153e+00 4.183411e+00 2.308998e+00\n",
            " [936] 8.321867e-01 9.640532e-01 3.497209e+00 4.836428e-01 4.599803e-01\n",
            " [941] 4.285855e+00 1.066516e+00 2.891714e+00 4.577121e+00 5.716683e-02\n",
            " [946] 1.783813e-01 6.614441e-01 1.638943e+00 1.859156e+00 1.057973e+00\n",
            " [951] 2.683944e+00 1.106101e+00 1.889091e-01 4.966182e-01 2.512640e+00\n",
            " [956] 8.030120e-01 1.977257e+00 3.872398e+00 1.426082e-02 1.276541e+00\n",
            " [961] 1.587825e+00 2.172834e-01 1.721916e+00 4.815210e+00 4.945156e-02\n",
            " [966] 1.641976e+00 2.747049e-01 2.926438e-01 2.903064e+00 5.280562e-02\n",
            " [971] 1.986745e+00 7.258911e-01 2.506069e+00 7.880003e+00 1.303579e+00\n",
            " [976] 3.136956e+00 6.129591e-02 5.954689e+00 4.334169e+00 1.761404e+00\n",
            " [981] 8.954935e+00 1.639345e-01 6.479463e-02 8.108139e-02 7.365430e-01\n",
            " [986] 7.404325e-01 6.698675e-02 1.271309e+00 2.302459e-01 2.041178e+00\n",
            " [991] 3.919158e+00 3.987560e+00 1.794712e+00 4.561384e+00 1.432135e+00\n",
            " [996] 1.131767e+00 4.929318e+00 4.196833e+00 1.760909e+00 2.707968e+00\n"
          ]
        }
      ]
    },
    {
      "cell_type": "code",
      "metadata": {
        "colab": {
          "base_uri": "https://localhost:8080/"
        },
        "id": "nBwDIG0jqD3w",
        "outputId": "dbc8bc1b-57aa-4bc4-e887-5b81b30055a1"
      },
      "source": [
        "x_pval = pchisq(x_maha, df=2,lower.tail = FALSE)\n",
        "print(x_pval)"
      ],
      "execution_count": 35,
      "outputs": [
        {
          "output_type": "stream",
          "name": "stdout",
          "text": [
            "   [1] 0.170639740 0.591932036 0.187943992 0.547166154 0.035986093 0.212056107\n",
            "   [7] 0.919718033 0.707577930 0.729968224 0.411945164 0.266337895 0.804669929\n",
            "  [13] 0.282758399 0.163760132 0.490846025 0.184347577 0.927098801 0.316986259\n",
            "  [19] 0.277291702 0.905347114 0.851524645 0.751032573 0.166355728 0.037141272\n",
            "  [25] 0.487057851 0.851291980 0.595510979 0.119406487 0.849154356 0.155114886\n",
            "  [31] 0.856807148 0.779946960 0.469725567 0.194352078 0.576032962 0.875777109\n",
            "  [37] 0.347757524 0.941226581 0.267705659 0.240860366 0.292647697 0.804484568\n",
            "  [43] 0.150157237 0.231803038 0.776274047 0.120236800 0.641872324 0.781898777\n",
            "  [49] 0.380604869 0.793258784 0.025141354 0.594497472 0.093492912 0.005200195\n",
            "  [55] 0.281411333 0.880659839 0.481258443 0.901204470 0.721976469 0.211805585\n",
            "  [61] 0.737714779 0.032124601 0.331342105 0.010668519 0.990946237 0.671314169\n",
            "  [67] 0.531573122 0.972187826 0.121054154 0.989682580 0.356469867 0.455727551\n",
            "  [73] 0.686197726 0.241069212 0.933664415 0.822699719 0.950024030 0.027223879\n",
            "  [79] 0.237537694 0.718364711 0.058114540 0.291532024 0.385039171 0.031070418\n",
            "  [85] 0.302044678 0.643743421 0.761978069 0.395759083 0.526434831 0.028447409\n",
            "  [91] 0.296319634 0.831349276 0.039437772 0.367155374 0.453787848 0.809940577\n",
            "  [97] 0.135141156 0.011477710 0.949248240 0.209738576 0.844824674 0.577294712\n",
            " [103] 0.356808829 0.170892791 0.008254149 0.074868762 0.875597581 0.032180640\n",
            " [109] 0.102444886 0.513237812 0.349712094 0.521429356 0.523369154 0.316356598\n",
            " [115] 0.368858982 0.232341105 0.391310049 0.659119568 0.859384220 0.445250446\n",
            " [121] 0.046841626 0.924954555 0.148709619 0.169691065 0.098428778 0.032311992\n",
            " [127] 0.310789959 0.979099236 0.477331691 0.918379286 0.678236638 0.439089865\n",
            " [133] 0.577737679 0.030022552 0.551593705 0.025327840 0.809788976 0.460905635\n",
            " [139] 0.493014868 0.229808752 0.245996334 0.431985674 0.073017450 0.385456817\n",
            " [145] 0.495831804 0.371279644 0.362515171 0.656248047 0.842580950 0.109221342\n",
            " [151] 0.189378340 0.193544949 0.407208294 0.215653405 0.732713522 0.009569349\n",
            " [157] 0.555713969 0.774422252 0.229866539 0.891477107 0.745466811 0.829415666\n",
            " [163] 0.189414257 0.877227947 0.436302176 0.210255000 0.945171323 0.435689506\n",
            " [169] 0.324989138 0.654496576 0.884353256 0.798577642 0.119777216 0.055386410\n",
            " [175] 0.006982673 0.175162385 0.392480820 0.231462774 0.302542706 0.621961605\n",
            " [181] 0.034697739 0.082761961 0.502217829 0.094552067 0.811990687 0.174661319\n",
            " [187] 0.377673242 0.383552027 0.185851166 0.172820984 0.791421173 0.388496448\n",
            " [193] 0.534572339 0.027734610 0.327806210 0.780073445 0.272001977 0.080079366\n",
            " [199] 0.725664533 0.593596978 0.062054695 0.288315295 0.679144600 0.676925840\n",
            " [205] 0.748148723 0.322192740 0.648166592 0.255619918 0.613000883 0.899302428\n",
            " [211] 0.060493652 0.399933560 0.346654705 0.706300491 0.657074236 0.915080209\n",
            " [217] 0.286920978 0.029741041 0.648882205 0.524363078 0.369342682 0.334214998\n",
            " [223] 0.898173515 0.570056833 0.247286962 0.595102936 0.948930883 0.409237711\n",
            " [229] 0.685298341 0.436356922 0.147480693 0.260740777 0.071452913 0.739358758\n",
            " [235] 0.207248679 0.248352685 0.715230452 0.597449261 0.356007370 0.086539660\n",
            " [241] 0.846625272 0.310462459 0.295835437 0.690674321 0.184444423 0.483786034\n",
            " [247] 0.368095247 0.714256568 0.009882918 0.759368941 0.856607675 0.210145733\n",
            " [253] 0.232161042 0.992363674 0.232787677 0.504294175 0.028762840 0.858749883\n",
            " [259] 0.005368025 0.032837309 0.332759119 0.581906900 0.751279411 0.960417007\n",
            " [265] 0.427623063 0.989609831 0.552527702 0.492396493 0.365895060 0.817593193\n",
            " [271] 0.050509030 0.034629747 0.736985157 0.170750136 0.579508707 0.309975391\n",
            " [277] 0.282133065 0.866030244 0.230932645 0.189446946 0.669017564 0.647220232\n",
            " [283] 0.714374847 0.608055128 0.186461192 0.185951281 0.525125322 0.310373912\n",
            " [289] 0.152182107 0.518140656 0.362897797 0.194624665 0.627830641 0.665941129\n",
            " [295] 0.142200029 0.775004451 0.486570077 0.965151134 0.041222418 0.401833203\n",
            " [301] 0.392091095 0.603809128 0.841742108 0.932457556 0.678390721 0.479870718\n",
            " [307] 0.460167680 0.983925696 0.306917121 0.310345046 0.899726829 0.838267513\n",
            " [313] 0.301323403 0.853626379 0.896496359 0.737063830 0.591922592 0.961497573\n",
            " [319] 0.848363001 0.634972450 0.093831905 0.746272787 0.607304327 0.884831331\n",
            " [325] 0.833948874 0.879092854 0.462594235 0.977896833 0.802140284 0.565672020\n",
            " [331] 0.094940039 0.138417614 0.723010594 0.706011975 0.412605158 0.761282951\n",
            " [337] 0.950933585 0.772982742 0.798382487 0.581245275 0.646275913 0.645228126\n",
            " [343] 0.768093523 0.573431793 0.837261218 0.404576677 0.999511484 0.666238155\n",
            " [349] 0.281961161 0.057750577 0.969999669 0.510269606 0.616455612 0.091139452\n",
            " [355] 0.709147127 0.624808379 0.139512946 0.970583579 0.875706638 0.084890914\n",
            " [361] 0.143200283 0.110126189 0.312564277 0.100647573 0.657343373 0.349425186\n",
            " [367] 0.942239057 0.219612338 0.347744818 0.104220686 0.719288708 0.761243201\n",
            " [373] 0.325768850 0.751110942 0.979639532 0.221127317 0.130054003 0.405336947\n",
            " [379] 0.790303653 0.778111785 0.441937800 0.075979321 0.787114735 0.467770962\n",
            " [385] 0.086811502 0.017207705 0.726096896 0.401597513 0.862966186 0.225010158\n",
            " [391] 0.954428467 0.007678134 0.513005671 0.887032205 0.587207246 0.140112224\n",
            " [397] 0.045832733 0.534229235 0.610446891 0.913740134 0.452210822 0.356574331\n",
            " [403] 0.406363624 0.628509859 0.191403964 0.206153965 0.337668614 0.852678569\n",
            " [409] 0.029060946 0.562094231 0.789699452 0.914201728 0.873608172 0.999231506\n",
            " [415] 0.379717914 0.280308275 0.134633574 0.527586519 0.109565009 0.852682783\n",
            " [421] 0.795183405 0.835684660 0.329444122 0.409342234 0.567365659 0.915944490\n",
            " [427] 0.775697716 0.979126603 0.861980951 0.356052657 0.744131066 0.507804243\n",
            " [433] 0.167730499 0.762085677 0.499109865 0.037165107 0.704050194 0.893510983\n",
            " [439] 0.211566328 0.372768776 0.382367708 0.396505879 0.544894809 0.699742419\n",
            " [445] 0.219189696 0.945125126 0.098443922 0.906654182 0.107749493 0.705368396\n",
            " [451] 0.737121524 0.715176135 0.632300449 0.942381996 0.995029904 0.929138795\n",
            " [457] 0.943954305 0.404997464 0.956198486 0.067564371 0.891785089 0.332982125\n",
            " [463] 0.713446725 0.945052094 0.248378901 0.616692081 0.225421330 0.688308143\n",
            " [469] 0.923302794 0.720475087 0.356337068 0.651408967 0.909524271 0.619009294\n",
            " [475] 0.230522818 0.184121272 0.225312427 0.851940802 0.384601913 0.264729230\n",
            " [481] 0.342564568 0.953724023 0.466762958 0.857997516 0.311092561 0.805342336\n",
            " [487] 0.189682569 0.930509565 0.901582161 0.130300806 0.861038754 0.145168148\n",
            " [493] 0.340055606 0.137853384 0.397016458 0.468405479 0.314010611 0.558722190\n",
            " [499] 0.703321589 0.500926365 0.986257739 0.306056796 0.386765174 0.440260437\n",
            " [505] 0.673673999 0.788108453 0.814615089 0.320504210 0.573190555 0.413028606\n",
            " [511] 0.033027877 0.819205415 0.896535857 0.145405639 0.640505338 0.288420697\n",
            " [517] 0.052659437 0.276948191 0.939700946 0.443839295 0.452046744 0.293014298\n",
            " [523] 0.498377027 0.070580661 0.815146417 0.850556212 0.136358532 0.409679647\n",
            " [529] 0.833633891 0.407604324 0.361454583 0.381387408 0.267025595 0.169883927\n",
            " [535] 0.150193313 0.067852619 0.496593991 0.980124700 0.046756496 0.943738730\n",
            " [541] 0.163055383 0.372210475 0.297609329 0.551331693 0.719539737 0.097799275\n",
            " [547] 0.333252983 0.105382751 0.137119883 0.167774854 0.704937746 0.218074756\n",
            " [553] 0.855492478 0.843211991 0.074948152 0.829103040 0.212125021 0.312609055\n",
            " [559] 0.898591364 0.051203731 0.382471425 0.195543284 0.243623449 0.443145753\n",
            " [565] 0.759205981 0.593232261 0.672348795 0.657673297 0.553414045 0.164395441\n",
            " [571] 0.706142147 0.400067663 0.360717320 0.349455302 0.266272910 0.576035508\n",
            " [577] 0.856542974 0.405233483 0.987610094 0.966164838 0.555049288 0.519810908\n",
            " [583] 0.370281247 0.305451429 0.767335507 0.663204755 0.956987930 0.495385945\n",
            " [589] 0.254529304 0.940575467 0.822832528 0.582733528 0.638913994 0.883973901\n",
            " [595] 0.433293596 0.940487973 0.483413067 0.111580832 0.552318516 0.466172219\n",
            " [601] 0.476081066 0.925554917 0.281183444 0.103604940 0.061575561 0.318280290\n",
            " [607] 0.539321619 0.350229625 0.346892442 0.631425089 0.318189179 0.778938736\n",
            " [613] 0.636124540 0.035256630 0.399119317 0.614118388 0.362265674 0.850999061\n",
            " [619] 0.037706646 0.254282437 0.937551412 0.074394263 0.891936522 0.551873955\n",
            " [625] 0.282918985 0.866094181 0.756804734 0.882256098 0.454009170 0.500080117\n",
            " [631] 0.610476399 0.940550514 0.829801424 0.741133245 0.350590373 0.979907683\n",
            " [637] 0.145826992 0.188768158 0.944481259 0.721471552 0.145568741 0.677844695\n",
            " [643] 0.433558567 0.539116833 0.712801587 0.149909465 0.201483477 0.772924142\n",
            " [649] 0.735453378 0.469449512 0.439573640 0.332782268 0.262265382 0.975805714\n",
            " [655] 0.967111153 0.947453764 0.964894889 0.362824583 0.174326711 0.816850554\n",
            " [661] 0.836609448 0.358179116 0.697070292 0.568328847 0.552233897 0.279251582\n",
            " [667] 0.230036893 0.686781037 0.955447630 0.126255894 0.293550948 0.116351003\n",
            " [673] 0.103399227 0.817076765 0.757882419 0.434891413 0.055998639 0.881866571\n",
            " [679] 0.758166444 0.950670779 0.120422406 0.325298623 0.879298522 0.508871753\n",
            " [685] 0.625003958 0.491742355 0.164096877 0.338211128 0.122818261 0.683714314\n",
            " [691] 0.553707918 0.199366015 0.870632780 0.640429417 0.290083402 0.557549531\n",
            " [697] 0.060421252 0.504413334 0.777883421 0.269824004 0.061947738 0.230729892\n",
            " [703] 0.083871396 0.341561906 0.250016659 0.672762320 0.781960791 0.246930864\n",
            " [709] 0.616885562 0.792811130 0.966019158 0.163435144 0.621526403 0.190097975\n",
            " [715] 0.089189807 0.480089313 0.416412836 0.587079117 0.584624669 0.596401306\n",
            " [721] 0.075315943 0.245776315 0.274251413 0.944070324 0.463939898 0.058433132\n",
            " [727] 0.528299235 0.330062152 0.985532351 0.001603043 0.782872565 0.661965692\n",
            " [733] 0.402474803 0.344848056 0.500121304 0.418741424 0.340836764 0.243678665\n",
            " [739] 0.766893173 0.921160714 0.213501361 0.026875887 0.721743060 0.072393496\n",
            " [745] 0.932597669 0.426559109 0.283728786 0.174779987 0.413159529 0.951234252\n",
            " [751] 0.399271702 0.813786947 0.157428522 0.822979795 0.642838855 0.913801243\n",
            " [757] 0.344248602 0.536508673 0.402627062 0.360365050 0.719612387 0.803602543\n",
            " [763] 0.550444671 0.354509934 0.367061605 0.555425873 0.627576841 0.287239902\n",
            " [769] 0.038954190 0.208136814 0.725216183 0.843422940 0.320225290 0.795167059\n",
            " [775] 0.421768315 0.278598641 0.751378856 0.721337111 0.696808300 0.057263735\n",
            " [781] 0.137083989 0.773515405 0.486454423 0.912310024 0.665654697 0.966147462\n",
            " [787] 0.144555581 0.015742278 0.135522080 0.144230894 0.478914374 0.619449459\n",
            " [793] 0.176442296 0.589305661 0.032243564 0.902439599 0.431841050 0.943059448\n",
            " [799] 0.190609078 0.854405636 0.340640849 0.466726340 0.338348232 0.463240045\n",
            " [805] 0.352145596 0.212106748 0.327968135 0.887456645 0.897020521 0.042498018\n",
            " [811] 0.697085618 0.965818384 0.879156161 0.886615010 0.583390633 0.133505930\n",
            " [817] 0.170737165 0.100895236 0.947658652 0.973224291 0.663777900 0.248770794\n",
            " [823] 0.604110490 0.581588114 0.184254196 0.101337807 0.890693764 0.742892872\n",
            " [829] 0.603142617 0.218883301 0.459934496 0.328406174 0.745938369 0.875107208\n",
            " [835] 0.525623776 0.530764074 0.894777981 0.782537111 0.532540710 0.283465734\n",
            " [841] 0.730790944 0.048189573 0.151789136 0.354620697 0.924653956 0.738817164\n",
            " [847] 0.720053915 0.034402020 0.436760388 0.906111436 0.818489592 0.349995926\n",
            " [853] 0.610720983 0.491484448 0.599779420 0.962066149 0.406019607 0.281021524\n",
            " [859] 0.835377290 0.200670375 0.657964877 0.770288350 0.406820319 0.272351920\n",
            " [865] 0.172756018 0.855677316 0.817730742 0.654808751 0.743403384 0.891739555\n",
            " [871] 0.599687668 0.946242889 0.468467084 0.413375207 0.190496892 0.183902441\n",
            " [877] 0.228660595 0.817253275 0.771592925 0.058615871 0.999866042 0.501440411\n",
            " [883] 0.412806117 0.079250294 0.916552675 0.774021938 0.520879032 0.105194978\n",
            " [889] 0.423138449 0.532949032 0.310089317 0.733432450 0.650668778 0.478921912\n",
            " [895] 0.476077600 0.499650608 0.149153084 0.859728340 0.303584347 0.118599617\n",
            " [901] 0.678300012 0.244492247 0.796566202 0.035589007 0.191040524 0.524714866\n",
            " [907] 0.132453604 0.422130423 0.296226057 0.940325060 0.618788150 0.753011839\n",
            " [913] 0.911375853 0.163966020 0.116966023 0.324792686 0.686945728 0.913753260\n",
            " [919] 0.217036923 0.973646227 0.607940595 0.039073867 0.925315882 0.278658187\n",
            " [925] 0.379244285 0.415183311 0.439041108 0.663798675 0.094337586 0.749072468\n",
            " [931] 0.253673700 0.844958156 0.215654800 0.123476374 0.315215345 0.659618687\n",
            " [937] 0.617530648 0.174016617 0.785196418 0.794541436 0.117310906 0.586690291\n",
            " [943] 0.235544157 0.101412335 0.971821224 0.914671155 0.718404814 0.440664479\n",
            " [949] 0.394720162 0.589201700 0.261329803 0.575192469 0.909869068 0.780118778\n",
            " [955] 0.284699750 0.669311310 0.372086603 0.144251222 0.992894953 0.528205139\n",
            " [961] 0.452072495 0.897051791 0.422756884 0.090030660 0.975577400 0.439996809\n",
            " [967] 0.871662945 0.863879578 0.234211234 0.973942695 0.370325594 0.695624298\n",
            " [973] 0.285636702 0.019448188 0.521112298 0.208362029 0.969816931 0.050927881\n",
            " [979] 0.114511011 0.414491767 0.011362150 0.921302124 0.968121858 0.960270088\n",
            " [985] 0.691929302 0.690584972 0.967061316 0.529588856 0.891256556 0.360382614\n",
            " [991] 0.140917735 0.136179723 0.407645970 0.102213426 0.488670213 0.567858161\n",
            " [997] 0.085037821 0.122650514 0.414594345 0.258209530\n"
          ]
        }
      ]
    },
    {
      "cell_type": "code",
      "metadata": {
        "colab": {
          "base_uri": "https://localhost:8080/"
        },
        "id": "Iudl9Ym-qOn6",
        "outputId": "4018df83-70a2-4033-f333-18b5c9fb98f1"
      },
      "source": [
        "df = data.frame(X1 = x[,1],X2 = x[,1])\n",
        "print(df)"
      ],
      "execution_count": 36,
      "outputs": [
        {
          "output_type": "stream",
          "name": "stdout",
          "text": [
            "              X1          X2\n",
            "1     1.74746650  1.74746650\n",
            "2     6.18160675  6.18160675\n",
            "3     1.78009170  1.78009170\n",
            "4     5.56385734  5.56385734\n",
            "5     9.18135681  9.18135681\n",
            "6     6.86287754  6.86287754\n",
            "7     4.90775730  4.90775730\n",
            "8     5.54386102  5.54386102\n",
            "9     6.27832313  6.27832313\n",
            "10    6.13286025  6.13286025\n",
            "11    4.19808461  4.19808461\n",
            "12    3.85568873  3.85568873\n",
            "13    2.44121142  2.44121142\n",
            "14    1.90180894  1.90180894\n",
            "15    5.76854512  5.76854512\n",
            "16    4.64035006  4.64035006\n",
            "17    4.98287474  4.98287474\n",
            "18    3.57913334  3.57913334\n",
            "19    3.68022852  3.68022852\n",
            "20    5.74258091  5.74258091\n",
            "21    5.82623435  5.82623435\n",
            "22    3.94597216  3.94597216\n",
            "23    4.02209351  4.02209351\n",
            "24    2.84987787  2.84987787\n",
            "25    5.71340892  5.71340892\n",
            "26    4.01901442  4.01901442\n",
            "27    4.37379493  4.37379493\n",
            "28    2.53858046  2.53858046\n",
            "29    5.57497188  5.57497188\n",
            "30    4.08570373  4.08570373\n",
            "31    5.34183028  5.34183028\n",
            "32    3.77439671  3.77439671\n",
            "33    2.82862025  2.82862025\n",
            "34    7.07581580  7.07581580\n",
            "35    6.65236276  6.65236276\n",
            "36    4.11759135  4.11759135\n",
            "37    2.65608580  2.65608580\n",
            "38    5.05650096  5.05650096\n",
            "39    7.76626367  7.76626367\n",
            "40    2.94592194  2.94592194\n",
            "41    7.61800694  7.61800694\n",
            "42    3.98743365  3.98743365\n",
            "43    3.50314432  3.50314432\n",
            "44    1.98598525  1.98598525\n",
            "45    4.87080524  4.87080524\n",
            "46    2.40114303  2.40114303\n",
            "47    3.39259685  3.39259685\n",
            "48    4.50032055  4.50032055\n",
            "49    4.14296451  4.14296451\n",
            "50    4.69802364  4.69802364\n",
            "51    0.39953431  0.39953431\n",
            "52    3.58230742  3.58230742\n",
            "53    1.15370472  1.15370472\n",
            "54    2.33137994  2.33137994\n",
            "55    7.71655838  7.71655838\n",
            "56    5.40908944  5.40908944\n",
            "57    6.55963118  6.55963118\n",
            "58    4.25307498  4.25307498\n",
            "59    4.65680338  4.65680338\n",
            "60    2.06047113  2.06047113\n",
            "61    4.02233963  4.02233963\n",
            "62    4.18976186  4.18976186\n",
            "63    4.87873590  4.87873590\n",
            "64    9.85148486  9.85148486\n",
            "65    5.05479593  5.05479593\n",
            "66    3.67372276  3.67372276\n",
            "67    6.34515622  6.34515622\n",
            "68    5.40083749  5.40083749\n",
            "69    3.64555782  3.64555782\n",
            "70    5.10197387  5.10197387\n",
            "71    4.05427721  4.05427721\n",
            "72    2.81903198  2.81903198\n",
            "73    6.23899450  6.23899450\n",
            "74    2.02952889  2.02952889\n",
            "75    5.60396324  5.60396324\n",
            "76    5.92939293  5.92939293\n",
            "77    4.88479557  4.88479557\n",
            "78    9.70508144  9.70508144\n",
            "79    5.75240084  5.75240084\n",
            "80    5.28118244  5.28118244\n",
            "81    8.60859453  8.60859453\n",
            "82    4.88156155  4.88156155\n",
            "83    3.23644927  3.23644927\n",
            "84    9.37892924  9.37892924\n",
            "85    5.79123773  5.79123773\n",
            "86    4.39736753  4.39736753\n",
            "87    5.49434303  5.49434303\n",
            "88    4.90345146  4.90345146\n",
            "89    6.99480719  6.99480719\n",
            "90    3.58148502  3.58148502\n",
            "91    7.32231359  7.32231359\n",
            "92    4.14651210  4.14651210\n",
            "93    3.96783861  3.96783861\n",
            "94    4.82538024  4.82538024\n",
            "95    7.21435153  7.21435153\n",
            "96    4.07537375  4.07537375\n",
            "97    2.15084994  2.15084994\n",
            "98    6.27123606  6.27123606\n",
            "99    5.56658850  5.56658850\n",
            "100   1.94830937  1.94830937\n",
            "101   4.36303430  4.36303430\n",
            "102   5.88460484  5.88460484\n",
            "103   5.60462752  5.60462752\n",
            "104   3.84184752  3.84184752\n",
            "105   8.77305886  8.77305886\n",
            "106   7.43897880  7.43897880\n",
            "107   4.56218502  4.56218502\n",
            "108   9.37228567  9.37228567\n",
            "109   3.07232000  3.07232000\n",
            "110   3.19445613  3.19445613\n",
            "111   3.83080260  3.83080260\n",
            "112   6.49563153  6.49563153\n",
            "113   3.06691284  3.06691284\n",
            "114   5.80308450  5.80308450\n",
            "115   5.95511254  5.95511254\n",
            "116   3.95704529  3.95704529\n",
            "117   2.62163625  2.62163625\n",
            "118   5.02258260  5.02258260\n",
            "119   4.10801719  4.10801719\n",
            "120   5.85235819  5.85235819\n",
            "121   6.82861661  6.82861661\n",
            "122   5.40692516  5.40692516\n",
            "123   6.31047385  6.31047385\n",
            "124   6.24830901  6.24830901\n",
            "125   8.77968882  8.77968882\n",
            "126   5.23351253  5.23351253\n",
            "127   4.69604752  4.69604752\n",
            "128   5.05462253  5.05462253\n",
            "129   3.48903695  3.48903695\n",
            "130   4.85741499  4.85741499\n",
            "131   4.76542652  4.76542652\n",
            "132   3.53747368  3.53747368\n",
            "133   4.02564106  4.02564106\n",
            "134   8.10993232  8.10993232\n",
            "135   4.36911098  4.36911098\n",
            "136   0.21073423  0.21073423\n",
            "137   6.14373215  6.14373215\n",
            "138   3.35275342  3.35275342\n",
            "139   2.90379539  2.90379539\n",
            "140   3.84387593  3.84387593\n",
            "141   4.80904714  4.80904714\n",
            "142   7.23477878  7.23477878\n",
            "143   5.42032084  5.42032084\n",
            "144   3.04787339  3.04787339\n",
            "145   3.58544949  3.58544949\n",
            "146   7.41405634  7.41405634\n",
            "147   4.77007410  4.77007410\n",
            "148   4.07138058  4.07138058\n",
            "149   5.75388806  5.75388806\n",
            "150   5.06894549  5.06894549\n",
            "151   8.18372133  8.18372133\n",
            "152   5.94446042  5.94446042\n",
            "153   5.69302983  5.69302983\n",
            "154   6.53119253  6.53119253\n",
            "155   6.36878321  6.36878321\n",
            "156   5.13433009  5.13433009\n",
            "157   5.37026683  5.37026683\n",
            "158   4.22285238  4.22285238\n",
            "159   5.39008317  5.39008317\n",
            "160   4.16949940  4.16949940\n",
            "161   3.68006717  3.68006717\n",
            "162   5.21548249  5.21548249\n",
            "163   3.25843772  3.25843772\n",
            "164   4.80823700  4.80823700\n",
            "165   6.96652045  6.96652045\n",
            "166   4.63207706  4.63207706\n",
            "167   4.48981026  4.48981026\n",
            "168   7.13156412  7.13156412\n",
            "169   6.54766181  6.54766181\n",
            "170   6.56446575  6.56446575\n",
            "171   5.71819770  5.71819770\n",
            "172   3.82186593  3.82186593\n",
            "173   7.85122191  7.85122191\n",
            "174   4.03872290  4.03872290\n",
            "175  -0.45123197 -0.45123197\n",
            "176   4.20435956  4.20435956\n",
            "177   2.62881875  2.62881875\n",
            "178   1.98068501  1.98068501\n",
            "179   2.29277948  2.29277948\n",
            "180   3.96185611  3.96185611\n",
            "181   1.53662398  1.53662398\n",
            "182   8.30870090  8.30870090\n",
            "183   4.17367615  4.17367615\n",
            "184   7.76684671  7.76684671\n",
            "185   4.55981705  4.55981705\n",
            "186   1.70051953  1.70051953\n",
            "187   6.28361723  6.28361723\n",
            "188   3.11516828  3.11516828\n",
            "189   4.17565219  4.17565219\n",
            "190   6.73625130  6.73625130\n",
            "191   5.57292042  5.57292042\n",
            "192   6.78556253  6.78556253\n",
            "193   6.27510859  6.27510859\n",
            "194   3.70458245  3.70458245\n",
            "195   6.76708093  6.76708093\n",
            "196   3.75978208  3.75978208\n",
            "197   2.23065798  2.23065798\n",
            "198   8.17134825  8.17134825\n",
            "199   5.27942000  5.27942000\n",
            "200   3.19396840  3.19396840\n",
            "201   8.43523535  8.43523535\n",
            "202   7.72853165  7.72853165\n",
            "203   3.52011437  3.52011437\n",
            "204   4.48324309  4.48324309\n",
            "205   4.08602117  4.08602117\n",
            "206   6.85078452  6.85078452\n",
            "207   3.36010205  3.36010205\n",
            "208   6.77037787  6.77037787\n",
            "209   3.73956573  3.73956573\n",
            "210   5.60642456  5.60642456\n",
            "211   4.02632695  4.02632695\n",
            "212   3.53650272  3.53650272\n",
            "213   4.71633896  4.71633896\n",
            "214   6.42927976  6.42927976\n",
            "215   5.31835950  5.31835950\n",
            "216   5.64004789  5.64004789\n",
            "217   2.21086770  2.21086770\n",
            "218   9.45647866  9.45647866\n",
            "219   6.60709328  6.60709328\n",
            "220   3.53392163  3.53392163\n",
            "221   7.27896496  7.27896496\n",
            "222   3.33849159  3.33849159\n",
            "223   5.58722727  5.58722727\n",
            "224   3.14019926  3.14019926\n",
            "225   4.48162776  4.48162776\n",
            "226   3.59182486  3.59182486\n",
            "227   5.06826631  5.06826631\n",
            "228   7.23110030  7.23110030\n",
            "229   3.49405184  3.49405184\n",
            "230   7.13828472  7.13828472\n",
            "231   1.99400421  1.99400421\n",
            "232   7.69272470  7.69272470\n",
            "233   4.78624652  4.78624652\n",
            "234   4.58591504  4.58591504\n",
            "235   2.21364351  2.21364351\n",
            "236   5.15132143  5.15132143\n",
            "237   3.65599872  3.65599872\n",
            "238   4.70555338  4.70555338\n",
            "239   2.70294986  2.70294986\n",
            "240   1.28012070  1.28012070\n",
            "241   4.01049844  4.01049844\n",
            "242   2.30581975  2.30581975\n",
            "243   2.24770932  2.24770932\n",
            "244   6.26859934  6.26859934\n",
            "245   2.68321624  2.68321624\n",
            "246   4.99148709  4.99148709\n",
            "247   7.27244938  7.27244938\n",
            "248   4.22059002  4.22059002\n",
            "249  10.36112848 10.36112848\n",
            "250   5.56737174  5.56737174\n",
            "251   4.18500188  4.18500188\n",
            "252   2.71326531  2.71326531\n",
            "253   7.93121793  7.93121793\n",
            "254   5.16969528  5.16969528\n",
            "255   7.37231771  7.37231771\n",
            "256   4.27258323  4.27258323\n",
            "257   2.57059878  2.57059878\n",
            "258   4.44682743  4.44682743\n",
            "259  10.05298531 10.05298531\n",
            "260   3.77736353  3.77736353\n",
            "261   2.38469291  2.38469291\n",
            "262   3.53787156  3.53787156\n",
            "263   4.85813647  4.85813647\n",
            "264   4.96115507  4.96115507\n",
            "265   4.99303231  4.99303231\n",
            "266   5.14149249  5.14149249\n",
            "267   5.32602149  5.32602149\n",
            "268   7.09859472  7.09859472\n",
            "269   3.85851969  3.85851969\n",
            "270   3.87699912  3.87699912\n",
            "271   6.03064061  6.03064061\n",
            "272   0.58347246  0.58347246\n",
            "273   5.40967827  5.40967827\n",
            "274   2.64926922  2.64926922\n",
            "275   3.25297942  3.25297942\n",
            "276   3.57179647  3.57179647\n",
            "277   2.49088101  2.49088101\n",
            "278   4.06290014  4.06290014\n",
            "279   2.00019573  2.00019573\n",
            "280   6.68081539  6.68081539\n",
            "281   3.84997982  3.84997982\n",
            "282   6.64166946  6.64166946\n",
            "283   4.42367864  4.42367864\n",
            "284   6.10285452  6.10285452\n",
            "285   1.78254213  1.78254213\n",
            "286   7.55242725  7.55242725\n",
            "287   6.44511961  6.44511961\n",
            "288   2.85473554  2.85473554\n",
            "289   6.88252054  6.88252054\n",
            "290   3.64378358  3.64378358\n",
            "291   7.51069653  7.51069653\n",
            "292   1.96723434  1.96723434\n",
            "293   3.37746069  3.37746069\n",
            "294   6.57930667  6.57930667\n",
            "295   7.24149116  7.24149116\n",
            "296   3.74184676  3.74184676\n",
            "297   3.21303443  3.21303443\n",
            "298   5.31414058  5.31414058\n",
            "299   8.28945610  8.28945610\n",
            "300   4.72916554  4.72916554\n",
            "301   3.82313219  3.82313219\n",
            "302   5.02658946  5.02658946\n",
            "303   6.03305918  6.03305918\n",
            "304   5.48702714  5.48702714\n",
            "305   6.55223522  6.55223522\n",
            "306   3.89226179  3.89226179\n",
            "307   6.29569915  6.29569915\n",
            "308   4.75381543  4.75381543\n",
            "309   5.97770970  5.97770970\n",
            "310   3.04412194  3.04412194\n",
            "311   4.92689416  4.92689416\n",
            "312   5.72927976  5.72927976\n",
            "313   7.66309183  7.66309183\n",
            "314   5.85744489  5.85744489\n",
            "315   5.71598771  5.71598771\n",
            "316   5.08648202  5.08648202\n",
            "317   3.19317445  3.19317445\n",
            "318   4.59063591  4.59063591\n",
            "319   5.64978739  5.64978739\n",
            "320   3.40839683  3.40839683\n",
            "321   1.32135843  1.32135843\n",
            "322   5.69873732  5.69873732\n",
            "323   3.56655216  3.56655216\n",
            "324   4.41649823  4.41649823\n",
            "325   6.03899297  6.03899297\n",
            "326   4.62901096  4.62901096\n",
            "327   2.82055429  2.82055429\n",
            "328   5.03951588  5.03951588\n",
            "329   5.15415720  5.15415720\n",
            "330   5.27339303  5.27339303\n",
            "331   1.57741353  1.57741353\n",
            "332   7.37401801  7.37401801\n",
            "333   6.41576985  6.41576985\n",
            "334   6.44960642  6.44960642\n",
            "335   5.61908178  5.61908178\n",
            "336   5.82475260  5.82475260\n",
            "337   5.32921706  5.32921706\n",
            "338   4.42568572  4.42568572\n",
            "339   5.94860286  5.94860286\n",
            "340   3.89595678  3.89595678\n",
            "341   3.35429134  3.35429134\n",
            "342   5.25761940  5.25761940\n",
            "343   4.29935084  4.29935084\n",
            "344   5.38452339  5.38452339\n",
            "345   4.74560660  4.74560660\n",
            "346   5.89099100  5.89099100\n",
            "347   5.05129320  5.05129320\n",
            "348   5.57269293  5.57269293\n",
            "349   4.10036503  4.10036503\n",
            "350   9.08745848  9.08745848\n",
            "351   5.17001206  5.17001206\n",
            "352   6.62140218  6.62140218\n",
            "353   6.70010132  6.70010132\n",
            "354   8.63264310  8.63264310\n",
            "355   3.82029601  3.82029601\n",
            "356   3.81509353  3.81509353\n",
            "357   1.58237072  1.58237072\n",
            "358   5.35077860  5.35077860\n",
            "359   5.38240953  5.38240953\n",
            "360   5.01339007  5.01339007\n",
            "361   6.88767178  6.88767178\n",
            "362   7.82439269  7.82439269\n",
            "363   5.77161785  5.77161785\n",
            "364   8.77069966  8.77069966\n",
            "365   3.48282081  3.48282081\n",
            "366   7.54499123  7.54499123\n",
            "367   4.69567914  4.69567914\n",
            "368   6.05261310  6.05261310\n",
            "369   5.76409910  5.76409910\n",
            "370   3.45260168  3.45260168\n",
            "371   6.02577129  6.02577129\n",
            "372   4.06095444  4.06095444\n",
            "373   7.10245548  7.10245548\n",
            "374   5.71066849  5.71066849\n",
            "375   4.66867276  4.66867276\n",
            "376   3.59433671  3.59433671\n",
            "377   4.87024144  4.87024144\n",
            "378   5.57557123  5.57557123\n",
            "379   3.82796132  3.82796132\n",
            "380   3.74650853  3.74650853\n",
            "381   6.08836438  6.08836438\n",
            "382   3.13743817  3.13743817\n",
            "383   3.78106507  3.78106507\n",
            "384   2.83861773  2.83861773\n",
            "385   7.65714603  7.65714603\n",
            "386  -0.01145955 -0.01145955\n",
            "387   3.73190324  3.73190324\n",
            "388   2.65751155  2.65751155\n",
            "389   5.61645447  5.61645447\n",
            "390   3.11036968  3.11036968\n",
            "391   4.55704270  4.55704270\n",
            "392  -0.13733632 -0.13733632\n",
            "393   4.81904783  4.81904783\n",
            "394   5.79058764  5.79058764\n",
            "395   4.07579576  4.07579576\n",
            "396   8.49374706  8.49374706\n",
            "397   4.42433393  4.42433393\n",
            "398   6.89457103  6.89457103\n",
            "399   4.82600023  4.82600023\n",
            "400   5.21198032  5.21198032\n",
            "401   4.22027294  4.22027294\n",
            "402   4.02585484  4.02585484\n",
            "403   6.84309240  6.84309240\n",
            "404   5.39459919  5.39459919\n",
            "405   7.12662809  7.12662809\n",
            "406   6.37799320  6.37799320\n",
            "407   7.31758038  7.31758038\n",
            "408   5.91243137  5.91243137\n",
            "409   4.21374016  4.21374016\n",
            "410   4.76178411  4.76178411\n",
            "411   5.22521299  5.22521299\n",
            "412   4.25986269  4.25986269\n",
            "413   5.87083691  5.87083691\n",
            "414   5.04676584  5.04676584\n",
            "415   7.12289495  7.12289495\n",
            "416   5.55048517  5.55048517\n",
            "417   1.84202361  1.84202361\n",
            "418   6.79332393  6.79332393\n",
            "419   2.41688405  2.41688405\n",
            "420   5.82593258  5.82593258\n",
            "421   5.30576128  5.30576128\n",
            "422   5.29180806  5.29180806\n",
            "423   2.41666336  2.41666336\n",
            "424   5.53700249  5.53700249\n",
            "425   6.87049312  6.87049312\n",
            "426   4.80033044  4.80033044\n",
            "427   4.32055190  4.32055190\n",
            "428   4.90137970  4.90137970\n",
            "429   5.26915443  5.26915443\n",
            "430   6.37716100  6.37716100\n",
            "431   6.01104780  6.01104780\n",
            "432   7.01601808  7.01601808\n",
            "433   3.04885778  3.04885778\n",
            "434   5.11599847  5.11599847\n",
            "435   5.06150760  5.06150760\n",
            "436   9.35753992  9.35753992\n",
            "437   4.05659590  4.05659590\n",
            "438   5.82254997  5.82254997\n",
            "439   5.75210741  5.75210741\n",
            "440   3.65712443  3.65712443\n",
            "441   5.33679083  5.33679083\n",
            "442   6.44789355  6.44789355\n",
            "443   6.81345858  6.81345858\n",
            "444   3.84115247  3.84115247\n",
            "445   2.90199339  2.90199339\n",
            "446   5.13845409  5.13845409\n",
            "447   8.22512598  8.22512598\n",
            "448   4.36010387  4.36010387\n",
            "449   2.41707182  2.41707182\n",
            "450   3.72035385  3.72035385\n",
            "451   6.37313980  6.37313980\n",
            "452   4.07396249  4.07396249\n",
            "453   6.56178164  6.56178164\n",
            "454   4.39141110  4.39141110\n",
            "455   4.91793860  4.91793860\n",
            "456   4.97652028  4.97652028\n",
            "457   5.31450945  5.31450945\n",
            "458   2.80507656  2.80507656\n",
            "459   5.39779159  5.39779159\n",
            "460   1.06722640  1.06722640\n",
            "461   4.97698167  4.97698167\n",
            "462   5.12300696  5.12300696\n",
            "463   6.44769708  6.44769708\n",
            "464   4.69625726  4.69625726\n",
            "465   4.64509270  4.64509270\n",
            "466   3.54086751  3.54086751\n",
            "467   2.20442920  2.20442920\n",
            "468   3.55368798  3.55368798\n",
            "469   5.68239671  5.68239671\n",
            "470   3.79345553  3.79345553\n",
            "471   2.49160974  2.49160974\n",
            "472   3.44396273  3.44396273\n",
            "473   5.26965519  5.26965519\n",
            "474   6.08759252  6.08759252\n",
            "475   4.53322137  4.53322137\n",
            "476   6.75361341  6.75361341\n",
            "477   7.81458137  7.81458137\n",
            "478   4.02172375  4.02172375\n",
            "479   4.67900448  4.67900448\n",
            "480   7.20638082  7.20638082\n",
            "481   2.49995539  2.49995539\n",
            "482   5.38365499  5.38365499\n",
            "483   5.26492543  5.26492543\n",
            "484   5.86150563  5.86150563\n",
            "485   6.05512705  6.05512705\n",
            "486   3.89337524  3.89337524\n",
            "487   7.92778911  7.92778911\n",
            "488   5.51285862  5.51285862\n",
            "489   4.71161433  4.71161433\n",
            "490   3.66866265  3.66866265\n",
            "491   5.02732703  5.02732703\n",
            "492   4.54258662  4.54258662\n",
            "493   2.46229729  2.46229729\n",
            "494   7.36924300  7.36924300\n",
            "495   7.05764469  7.05764469\n",
            "496   6.34898386  6.34898386\n",
            "497   7.63661555  7.63661555\n",
            "498   6.13288754  6.13288754\n",
            "499   4.44214277  4.44214277\n",
            "500   3.90876176  3.90876176\n",
            "501   4.84669525  4.84669525\n",
            "502   6.59635090  6.59635090\n",
            "503   7.26961209  7.26961209\n",
            "504   5.77043544  5.77043544\n",
            "505   6.41826812  6.41826812\n",
            "506   6.03905296  6.03905296\n",
            "507   5.75040293  5.75040293\n",
            "508   6.25527978  6.25527978\n",
            "509   4.12307530  4.12307530\n",
            "510   6.48903112  6.48903112\n",
            "511   8.45830815  8.45830815\n",
            "512   5.42696122  5.42696122\n",
            "513   5.80930159  5.80930159\n",
            "514   4.11376903  4.11376903\n",
            "515   4.93243209  4.93243209\n",
            "516   4.89709125  4.89709125\n",
            "517   1.35090949  1.35090949\n",
            "518   3.72228734  3.72228734\n",
            "519   4.96337509  4.96337509\n",
            "520   6.37624723  6.37624723\n",
            "521   3.40152322  3.40152322\n",
            "522   2.30054508  2.30054508\n",
            "523   6.49178865  6.49178865\n",
            "524   8.56846791  8.56846791\n",
            "525   5.83553755  5.83553755\n",
            "526   6.00140751  6.00140751\n",
            "527   6.66953309  6.66953309\n",
            "528   4.14097282  4.14097282\n",
            "529   5.86368787  5.86368787\n",
            "530   4.12997621  4.12997621\n",
            "531   7.35758797  7.35758797\n",
            "532   2.56077546  2.56077546\n",
            "533   4.19789529  4.19789529\n",
            "534   3.69549771  3.69549771\n",
            "535   2.17571461  2.17571461\n",
            "536   1.68856576  1.68856576\n",
            "537   7.08496401  7.08496401\n",
            "538   5.35038585  5.35038585\n",
            "539   5.17174964  5.17174964\n",
            "540   5.52030302  5.52030302\n",
            "541   8.35948561  8.35948561\n",
            "542   5.30219254  5.30219254\n",
            "543   5.65721395  5.65721395\n",
            "544   4.46927963  4.46927963\n",
            "545   6.18550066  6.18550066\n",
            "546   8.18799357  8.18799357\n",
            "547   6.79367672  6.79367672\n",
            "548   7.30519625  7.30519625\n",
            "549   6.19486666  6.19486666\n",
            "550   8.21534510  8.21534510\n",
            "551   5.91221180  5.91221180\n",
            "552   6.48796915  6.48796915\n",
            "553   4.68501372  4.68501372\n",
            "554   4.71006115  4.71006115\n",
            "555   7.07492584  7.07492584\n",
            "556   5.47151204  5.47151204\n",
            "557   2.96122951  2.96122951\n",
            "558   2.65233127  2.65233127\n",
            "559   5.50169479  5.50169479\n",
            "560   6.60305570  6.60305570\n",
            "561   6.70003569  6.70003569\n",
            "562   8.12271484  8.12271484\n",
            "563   4.38289728  4.38289728\n",
            "564   6.21147716  6.21147716\n",
            "565   6.30223896  6.30223896\n",
            "566   5.56793333  5.56793333\n",
            "567   6.42640783  6.42640783\n",
            "568   5.04682509  5.04682509\n",
            "569   3.08782925  3.08782925\n",
            "570   3.21306090  3.21306090\n",
            "571   6.10639783  6.10639783\n",
            "572   2.60900364  2.60900364\n",
            "573   6.55166711  6.55166711\n",
            "574   7.45542122  7.45542122\n",
            "575   2.28656043  2.28656043\n",
            "576   4.02113583  4.02113583\n",
            "577   5.82485728  5.82485728\n",
            "578   2.70443282  2.70443282\n",
            "579   4.91148760  4.91148760\n",
            "580   5.45949694  5.45949694\n",
            "581   4.38836004  4.38836004\n",
            "582   4.22202845  4.22202845\n",
            "583   7.21550686  7.21550686\n",
            "584   3.57042867  3.57042867\n",
            "585   6.06374354  6.06374354\n",
            "586   5.30230440  5.30230440\n",
            "587   4.57967937  4.57967937\n",
            "588   5.36679841  5.36679841\n",
            "589   2.31991818  2.31991818\n",
            "590   4.79506812  4.79506812\n",
            "591   4.67952407  4.67952407\n",
            "592   6.76413825  6.76413825\n",
            "593   4.25206022  4.25206022\n",
            "594   4.20835598  4.20835598\n",
            "595   3.04684138  3.04684138\n",
            "596   4.96918896  4.96918896\n",
            "597   7.02336646  7.02336646\n",
            "598   2.79393559  2.79393559\n",
            "599   5.59655489  5.59655489\n",
            "600   3.81267702  3.81267702\n",
            "601   2.86224396  2.86224396\n",
            "602   5.55065339  5.55065339\n",
            "603   2.69178727  2.69178727\n",
            "604   3.33313201  3.33313201\n",
            "605   7.42469622  7.42469622\n",
            "606   7.59228123  7.59228123\n",
            "607   6.77386614  6.77386614\n",
            "608   7.50269659  7.50269659\n",
            "609   2.87826234  2.87826234\n",
            "610   4.59431717  4.59431717\n",
            "611   4.75193345  4.75193345\n",
            "612   3.91171511  3.91171511\n",
            "613   6.40150452  6.40150452\n",
            "614   1.22384838  1.22384838\n",
            "615   6.50708195  6.50708195\n",
            "616   3.62532896  3.62532896\n",
            "617   2.52888540  2.52888540\n",
            "618   5.91359370  5.91359370\n",
            "619   5.90653305  5.90653305\n",
            "620   5.85962608  5.85962608\n",
            "621   5.58563624  5.58563624\n",
            "622   1.94069095  1.94069095\n",
            "623   4.28071668  4.28071668\n",
            "624   6.91931758  6.91931758\n",
            "625   3.21330346  3.21330346\n",
            "626   5.57597746  5.57597746\n",
            "627   3.94405370  3.94405370\n",
            "628   4.49435992  4.49435992\n",
            "629   6.48689947  6.48689947\n",
            "630   6.36522787  6.36522787\n",
            "631   6.63521213  6.63521213\n",
            "632   4.41085711  4.41085711\n",
            "633   5.54305504  5.54305504\n",
            "634   5.21527298  5.21527298\n",
            "635   2.44272883  2.44272883\n",
            "636   5.23764950  5.23764950\n",
            "637   7.03061830  7.03061830\n",
            "638   6.13360893  6.13360893\n",
            "639   4.51281729  4.51281729\n",
            "640   4.57288473  4.57288473\n",
            "641   8.20771662  8.20771662\n",
            "642   3.80641182  3.80641182\n",
            "643   6.78664367  6.78664367\n",
            "644   3.17000275  3.17000275\n",
            "645   4.79503562  4.79503562\n",
            "646   1.98420355  1.98420355\n",
            "647   3.18964642  3.18964642\n",
            "648   6.20922030  6.20922030\n",
            "649   3.63190578  3.63190578\n",
            "650   5.56732487  5.56732487\n",
            "651   2.96398722  2.96398722\n",
            "652   2.38098655  2.38098655\n",
            "653   2.80630542  2.80630542\n",
            "654   4.93969791  4.93969791\n",
            "655   5.42215133  5.42215133\n",
            "656   5.56975626  5.56975626\n",
            "657   5.42470967  5.42470967\n",
            "658   3.35219829  3.35219829\n",
            "659   7.82703221  7.82703221\n",
            "660   5.83057905  5.83057905\n",
            "661   3.94271836  3.94271836\n",
            "662   3.70517312  3.70517312\n",
            "663   4.24076655  4.24076655\n",
            "664   6.25016117  6.25016117\n",
            "665   4.56253072  4.56253072\n",
            "666   7.81647355  7.81647355\n",
            "667   7.35168454  7.35168454\n",
            "668   6.01619256  6.01619256\n",
            "669   5.09068288  5.09068288\n",
            "670   7.02822015  7.02822015\n",
            "671   5.89902060  5.89902060\n",
            "672   1.41910819  1.41910819\n",
            "673   7.71339079  7.71339079\n",
            "674   6.06111707  6.06111707\n",
            "675   6.05861462  6.05861462\n",
            "676   4.87867122  4.87867122\n",
            "677   2.91840304  2.91840304\n",
            "678   5.41886609  5.41886609\n",
            "679   4.73092025  4.73092025\n",
            "680   4.74289489  4.74289489\n",
            "681   1.51271582  1.51271582\n",
            "682   4.74904886  4.74904886\n",
            "683   4.55258123  4.55258123\n",
            "684   6.72833307  6.72833307\n",
            "685   6.18201173  6.18201173\n",
            "686   4.91905801  4.91905801\n",
            "687   8.22577126  8.22577126\n",
            "688   3.09401522  3.09401522\n",
            "689   7.56964840  7.56964840\n",
            "690   6.46086789  6.46086789\n",
            "691   3.08493765  3.08493765\n",
            "692   8.16751219  8.16751219\n",
            "693   5.48271627  5.48271627\n",
            "694   6.60766921  6.60766921\n",
            "695   4.14506739  4.14506739\n",
            "696   3.74990022  3.74990022\n",
            "697   1.83680393  1.83680393\n",
            "698   3.08550226  3.08550226\n",
            "699   4.99818510  4.99818510\n",
            "700   7.48980550  7.48980550\n",
            "701   3.41877924  3.41877924\n",
            "702   7.72330452  7.72330452\n",
            "703   8.24183137  8.24183137\n",
            "704   3.30682499  3.30682499\n",
            "705   3.81669570  3.81669570\n",
            "706   4.06426033  4.06426033\n",
            "707   6.05242445  6.05242445\n",
            "708   2.09630571  2.09630571\n",
            "709   6.71182082  6.71182082\n",
            "710   6.08850403  6.08850403\n",
            "711   5.09484649  5.09484649\n",
            "712   1.64281531  1.64281531\n",
            "713   5.57740373  5.57740373\n",
            "714   4.93214976  4.93214976\n",
            "715   6.89188901  6.89188901\n",
            "716   5.49338403  5.49338403\n",
            "717   3.64845205  3.64845205\n",
            "718   5.51680271  5.51680271\n",
            "719   3.39891501  3.39891501\n",
            "720   4.35774795  4.35774795\n",
            "721   3.77808345  3.77808345\n",
            "722   2.05545973  2.05545973\n",
            "723   6.18374879  6.18374879\n",
            "724   4.39842016  4.39842016\n",
            "725   4.96012310  4.96012310\n",
            "726   1.32503755  1.32503755\n",
            "727   6.98763894  6.98763894\n",
            "728   6.50829276  6.50829276\n",
            "729   5.03272340  5.03272340\n",
            "730   7.60768592  7.60768592\n",
            "731   5.16453851  5.16453851\n",
            "732   4.71257156  4.71257156\n",
            "733   2.76574516  2.76574516\n",
            "734   6.29665488  6.29665488\n",
            "735   3.93995364  3.93995364\n",
            "736   2.66799534  2.66799534\n",
            "737   6.84984958  6.84984958\n",
            "738   3.15664949  3.15664949\n",
            "739   6.27638446  6.27638446\n",
            "740   4.51505904  4.51505904\n",
            "741   1.97586071  1.97586071\n",
            "742   5.06224802  5.06224802\n",
            "743   4.68810252  4.68810252\n",
            "744   7.48368049  7.48368049\n",
            "745   5.56247459  5.56247459\n",
            "746   7.22164588  7.22164588\n",
            "747   3.86888531  3.86888531\n",
            "748   2.38224619  2.38224619\n",
            "749   5.92129162  5.92129162\n",
            "750   4.86557829  4.86557829\n",
            "751   3.10754483  3.10754483\n",
            "752   5.70566892  5.70566892\n",
            "753   8.31975212  8.31975212\n",
            "754   3.92319117  3.92319117\n",
            "755   3.61212552  3.61212552\n",
            "756   4.25126353  4.25126353\n",
            "757   4.13711276  4.13711276\n",
            "758   4.37277496  4.37277496\n",
            "759   5.61974458  5.61974458\n",
            "760   2.48044307  2.48044307\n",
            "761   4.58676398  4.58676398\n",
            "762   5.67517944  5.67517944\n",
            "763   6.26276958  6.26276958\n",
            "764   5.20115390  5.20115390\n",
            "765   7.49368565  7.49368565\n",
            "766   5.55087389  5.55087389\n",
            "767   3.33378388  3.33378388\n",
            "768   4.66620598  4.66620598\n",
            "769   0.70762711  0.70762711\n",
            "770   6.42989484  6.42989484\n",
            "771   6.40907434  6.40907434\n",
            "772   5.77977957  5.77977957\n",
            "773   6.92696566  6.92696566\n",
            "774   4.34570091  4.34570091\n",
            "775   6.28571655  6.28571655\n",
            "776   4.84953701  4.84953701\n",
            "777   4.38706967  4.38706967\n",
            "778   6.37029769  6.37029769\n",
            "779   4.20067239  4.20067239\n",
            "780   9.20418544  9.20418544\n",
            "781   8.29506259  8.29506259\n",
            "782   5.06121657  5.06121657\n",
            "783   4.20165738  4.20165738\n",
            "784   5.71003480  5.71003480\n",
            "785   4.07084624  4.07084624\n",
            "786   4.79378893  4.79378893\n",
            "787   1.77053937  1.77053937\n",
            "788   9.88790543  9.88790543\n",
            "789   8.33417195  8.33417195\n",
            "790   1.78240935  1.78240935\n",
            "791   3.19058149  3.19058149\n",
            "792   4.96889502  4.96889502\n",
            "793   1.79804174  1.79804174\n",
            "794   5.15839332  5.15839332\n",
            "795   0.90527975  0.90527975\n",
            "796   5.78396077  5.78396077\n",
            "797   7.00328501  7.00328501\n",
            "798   5.52145424  5.52145424\n",
            "799   2.26240115  2.26240115\n",
            "800   5.71670968  5.71670968\n",
            "801   5.09466328  5.09466328\n",
            "802   3.66588980  3.66588980\n",
            "803   3.82084962  3.82084962\n",
            "804   7.10129194  7.10129194\n",
            "805   7.25560385  7.25560385\n",
            "806   6.52644700  6.52644700\n",
            "807   7.63223002  7.63223002\n",
            "808   4.42943754  4.42943754\n",
            "809   5.28650225  5.28650225\n",
            "810   2.33086381  2.33086381\n",
            "811   6.14413645  6.14413645\n",
            "812   5.10323050  5.10323050\n",
            "813   4.93931185  4.93931185\n",
            "814   4.67179029  4.67179029\n",
            "815   3.18289935  3.18289935\n",
            "816   2.34038104  2.34038104\n",
            "817   8.31621620  8.31621620\n",
            "818   1.27385720  1.27385720\n",
            "819   4.53072225  4.53072225\n",
            "820   4.58633183  4.58633183\n",
            "821   6.58403192  6.58403192\n",
            "822   7.89548238  7.89548238\n",
            "823   5.88471119  5.88471119\n",
            "824   3.24276232  3.24276232\n",
            "825   2.07388820  2.07388820\n",
            "826   5.40276852  5.40276852\n",
            "827   4.22271236  4.22271236\n",
            "828   3.78565424  3.78565424\n",
            "829   5.84696072  5.84696072\n",
            "830   7.98817911  7.98817911\n",
            "831   7.18130259  7.18130259\n",
            "832   2.37804112  2.37804112\n",
            "833   5.53739082  5.53739082\n",
            "834   5.75408018  5.75408018\n",
            "835   3.03956431  3.03956431\n",
            "836   5.42951529  5.42951529\n",
            "837   5.82027199  5.82027199\n",
            "838   5.37207251  5.37207251\n",
            "839   3.33467427  3.33467427\n",
            "840   7.79944415  7.79944415\n",
            "841   5.11792633  5.11792633\n",
            "842   8.64547517  8.64547517\n",
            "843   6.42821703  6.42821703\n",
            "844   6.30011381  6.30011381\n",
            "845   4.43655928  4.43655928\n",
            "846   6.36682348  6.36682348\n",
            "847   6.25684442  6.25684442\n",
            "848   0.41543620  0.41543620\n",
            "849   7.26391871  7.26391871\n",
            "850   4.34398740  4.34398740\n",
            "851   4.81308369  4.81308369\n",
            "852   2.47927721  2.47927721\n",
            "853   5.95722433  5.95722433\n",
            "854   3.76000861  3.76000861\n",
            "855   6.73355598  6.73355598\n",
            "856   5.36435664  5.36435664\n",
            "857   3.16002906  3.16002906\n",
            "858   6.78121178  6.78121178\n",
            "859   4.67606782  4.67606782\n",
            "860   7.35754157  7.35754157\n",
            "861   5.06935397  5.06935397\n",
            "862   3.84772787  3.84772787\n",
            "863   4.91077382  4.91077382\n",
            "864   3.10481557  3.10481557\n",
            "865   4.99114284  4.99114284\n",
            "866   5.59377246  5.59377246\n",
            "867   3.98191616  3.98191616\n",
            "868   3.59335106  3.59335106\n",
            "869   6.15421370  6.15421370\n",
            "870   4.34406025  4.34406025\n",
            "871   4.07308615  4.07308615\n",
            "872   5.57529980  5.57529980\n",
            "873   7.16411699  7.16411699\n",
            "874   7.21195493  7.21195493\n",
            "875   7.09012264  7.09012264\n",
            "876   1.75680587  1.75680587\n",
            "877   3.31564654  3.31564654\n",
            "878   5.71519275  5.71519275\n",
            "879   6.22891922  6.22891922\n",
            "880   6.35986505  6.35986505\n",
            "881   5.00244054  5.00244054\n",
            "882   3.10641897  3.10641897\n",
            "883   7.15001992  7.15001992\n",
            "884   1.41624850  1.41624850\n",
            "885   5.25083121  5.25083121\n",
            "886   6.07662927  6.07662927\n",
            "887   6.03045620  6.03045620\n",
            "888   3.85871577  3.85871577\n",
            "889   3.26738956  3.26738956\n",
            "890   6.97774612  6.97774612\n",
            "891   4.12738445  4.12738445\n",
            "892   4.16518334  4.16518334\n",
            "893   4.77271643  4.77271643\n",
            "894   6.45085622  6.45085622\n",
            "895   2.85169302  2.85169302\n",
            "896   4.48558198  4.48558198\n",
            "897   8.11307498  8.11307498\n",
            "898   5.34696948  5.34696948\n",
            "899   3.43064393  3.43064393\n",
            "900   5.07781383  5.07781383\n",
            "901   6.49816903  6.49816903\n",
            "902   4.87142257  4.87142257\n",
            "903   4.35848086  4.35848086\n",
            "904   6.44236231  6.44236231\n",
            "905   6.62375679  6.62375679\n",
            "906   5.84236146  5.84236146\n",
            "907   2.87275442  2.87275442\n",
            "908   4.37237940  4.37237940\n",
            "909   2.36144384  2.36144384\n",
            "910   5.29465452  5.29465452\n",
            "911   3.39279347  3.39279347\n",
            "912   4.67676230  4.67676230\n",
            "913   4.36718677  4.36718677\n",
            "914   5.64256657  5.64256657\n",
            "915   8.63441212  8.63441212\n",
            "916   7.64045246  7.64045246\n",
            "917   5.56271563  5.56271563\n",
            "918   5.21119974  5.21119974\n",
            "919   7.95868559  7.95868559\n",
            "920   5.40508862  5.40508862\n",
            "921   3.48693476  3.48693476\n",
            "922   1.73603745  1.73603745\n",
            "923   4.31128880  4.31128880\n",
            "924   4.47134831  4.47134831\n",
            "925   2.53868699  2.53868699\n",
            "926   3.58384126  3.58384126\n",
            "927   4.51817261  4.51817261\n",
            "928   5.57263039  5.57263039\n",
            "929   8.44672210  8.44672210\n",
            "930   5.70178805  5.70178805\n",
            "931   3.11084841  3.11084841\n",
            "932   4.39897712  4.39897712\n",
            "933   5.79069497  5.79069497\n",
            "934   3.01133410  3.01133410\n",
            "935   3.75698528  3.75698528\n",
            "936   3.44742075  3.44742075\n",
            "937   6.72262905  6.72262905\n",
            "938   4.76247340  4.76247340\n",
            "939   5.65342937  5.65342937\n",
            "940   4.98551922  4.98551922\n",
            "941   1.36781337  1.36781337\n",
            "942   6.62172414  6.62172414\n",
            "943   3.63006649  3.63006649\n",
            "944   8.71252608  8.71252608\n",
            "945   4.66906884  4.66906884\n",
            "946   4.39371416  4.39371416\n",
            "947   5.13179043  5.13179043\n",
            "948   3.16137541  3.16137541\n",
            "949   4.06161013  4.06161013\n",
            "950   3.35945944  3.35945944\n",
            "951   3.48639024  3.48639024\n",
            "952   6.05965815  6.05965815\n",
            "953   5.21808885  5.21808885\n",
            "954   4.05103088  4.05103088\n",
            "955   4.50497802  4.50497802\n",
            "956   3.55497323  3.55497323\n",
            "957   7.46436361  7.46436361\n",
            "958   4.04265995  4.04265995\n",
            "959   4.90716010  4.90716010\n",
            "960   3.00598029  3.00598029\n",
            "961   3.38934937  3.38934937\n",
            "962   4.78226547  4.78226547\n",
            "963   5.54516952  5.54516952\n",
            "964   6.27563588  6.27563588\n",
            "965   5.29555731  5.29555731\n",
            "966   3.73285079  3.73285079\n",
            "967   5.87433817  5.87433817\n",
            "968   5.95184061  5.95184061\n",
            "969   3.10825871  3.10825871\n",
            "970   4.72289286  4.72289286\n",
            "971   2.83215194  2.83215194\n",
            "972   6.41973104  6.41973104\n",
            "973   4.49626224  4.49626224\n",
            "974   5.85419570  5.85419570\n",
            "975   6.45193826  6.45193826\n",
            "976   2.19987413  2.19987413\n",
            "977   4.57268036  4.57268036\n",
            "978   9.15644026  9.15644026\n",
            "979   6.33637434  6.33637434\n",
            "980   3.24378600  3.24378600\n",
            "981  10.18795724 10.18795724\n",
            "982   5.69041905  5.69041905\n",
            "983   4.95504086  4.95504086\n",
            "984   4.61635760  4.61635760\n",
            "985   5.74193936  5.74193936\n",
            "986   6.05819981  6.05819981\n",
            "987   4.54830079  4.54830079\n",
            "988   3.91608771  3.91608771\n",
            "989   4.25626824  4.25626824\n",
            "990   6.91480037  6.91480037\n",
            "991   7.79539151  7.79539151\n",
            "992   5.27699707  5.27699707\n",
            "993   7.24236130  7.24236130\n",
            "994   4.23186872  4.23186872\n",
            "995   4.80078561  4.80078561\n",
            "996   5.82109874  5.82109874\n",
            "997   7.62500980  7.62500980\n",
            "998   8.19180987  8.19180987\n",
            "999   5.55981390  5.55981390\n",
            "1000  2.58052138  2.58052138\n"
          ]
        }
      ]
    },
    {
      "cell_type": "code",
      "metadata": {
        "colab": {
          "base_uri": "https://localhost:8080/",
          "height": 1000
        },
        "id": "RC7m_3tjqSFp",
        "outputId": "eb819a62-578f-4e19-91b2-854f1b4b7c09"
      },
      "source": [
        "df = data.frame(Var1= x[,1],Var2 = x[,2])\n",
        "df"
      ],
      "execution_count": 37,
      "outputs": [
        {
          "output_type": "display_data",
          "data": {
            "text/plain": [
              "     Var1      Var2     \n",
              "1    1.747466   8.651116\n",
              "2    6.181607  12.568087\n",
              "3    1.780092   7.508900\n",
              "4    5.563857  12.740413\n",
              "5    9.181357  10.761397\n",
              "6    6.862878   8.301015\n",
              "7    4.907757   9.123616\n",
              "8    5.543861  12.122308\n",
              "9    6.278323  10.258826\n",
              "10   6.132860  13.386509\n",
              "11   4.198085   6.120560\n",
              "12   3.855689   9.556306\n",
              "13   2.441211   6.870866\n",
              "14   1.901809   6.318836\n",
              "15   5.768545  13.012315\n",
              "16   4.640350  13.788921\n",
              "17   4.982875  10.901948\n",
              "18   3.579133   6.292689\n",
              "19   3.680229  12.232155\n",
              "20   5.742581  10.272435\n",
              "21   5.826234   9.952103\n",
              "22   3.945972  10.352734\n",
              "23   4.022094  13.325331\n",
              "24   2.849878  13.485936\n",
              "25   5.713409   8.112522\n",
              "26   4.019014   9.122481\n",
              "27   4.373795   7.561328\n",
              "28   2.538580   5.061842\n",
              "29   5.574972   9.449405\n",
              "30   4.085704  13.474931\n",
              "⋮    ⋮         ⋮        \n",
              "971   2.832152  7.057391\n",
              "972   6.419731 10.452412\n",
              "973   4.496262  6.338064\n",
              "974   5.854196  4.657462\n",
              "975   6.451938  9.359491\n",
              "976   2.199874  9.847179\n",
              "977   4.572680  9.644309\n",
              "978   9.156440 14.330430\n",
              "979   6.336374 15.205245\n",
              "980   3.243786  6.940050\n",
              "981  10.187957 14.873844\n",
              "982   5.690419 10.333766\n",
              "983   4.955041 10.588262\n",
              "984   4.616358 10.206973\n",
              "985   5.741939 12.206208\n",
              "986   6.058200 12.139696\n",
              "987   4.548301  9.861721\n",
              "988   3.916088 11.373720\n",
              "989   4.256268 10.059006\n",
              "990   6.914800 13.411486\n",
              "991   7.795392 14.582212\n",
              "992   5.276997 14.583561\n",
              "993   7.242361 10.709052\n",
              "994   4.231869 14.077854\n",
              "995   4.800786 12.518408\n",
              "996   5.821099 12.714118\n",
              "997   7.625010 15.465606\n",
              "998   8.191810 10.196061\n",
              "999   5.559814  7.659986\n",
              "1000  2.580521 10.375592"
            ],
            "text/latex": "A data.frame: 1000 × 2\n\\begin{tabular}{ll}\n Var1 & Var2\\\\\n <dbl> & <dbl>\\\\\n\\hline\n\t 1.747466 &  8.651116\\\\\n\t 6.181607 & 12.568087\\\\\n\t 1.780092 &  7.508900\\\\\n\t 5.563857 & 12.740413\\\\\n\t 9.181357 & 10.761397\\\\\n\t 6.862878 &  8.301015\\\\\n\t 4.907757 &  9.123616\\\\\n\t 5.543861 & 12.122308\\\\\n\t 6.278323 & 10.258826\\\\\n\t 6.132860 & 13.386509\\\\\n\t 4.198085 &  6.120560\\\\\n\t 3.855689 &  9.556306\\\\\n\t 2.441211 &  6.870866\\\\\n\t 1.901809 &  6.318836\\\\\n\t 5.768545 & 13.012315\\\\\n\t 4.640350 & 13.788921\\\\\n\t 4.982875 & 10.901948\\\\\n\t 3.579133 &  6.292689\\\\\n\t 3.680229 & 12.232155\\\\\n\t 5.742581 & 10.272435\\\\\n\t 5.826234 &  9.952103\\\\\n\t 3.945972 & 10.352734\\\\\n\t 4.022094 & 13.325331\\\\\n\t 2.849878 & 13.485936\\\\\n\t 5.713409 &  8.112522\\\\\n\t 4.019014 &  9.122481\\\\\n\t 4.373795 &  7.561328\\\\\n\t 2.538580 &  5.061842\\\\\n\t 5.574972 &  9.449405\\\\\n\t 4.085704 & 13.474931\\\\\n\t ⋮ & ⋮\\\\\n\t  2.832152 &  7.057391\\\\\n\t  6.419731 & 10.452412\\\\\n\t  4.496262 &  6.338064\\\\\n\t  5.854196 &  4.657462\\\\\n\t  6.451938 &  9.359491\\\\\n\t  2.199874 &  9.847179\\\\\n\t  4.572680 &  9.644309\\\\\n\t  9.156440 & 14.330430\\\\\n\t  6.336374 & 15.205245\\\\\n\t  3.243786 &  6.940050\\\\\n\t 10.187957 & 14.873844\\\\\n\t  5.690419 & 10.333766\\\\\n\t  4.955041 & 10.588262\\\\\n\t  4.616358 & 10.206973\\\\\n\t  5.741939 & 12.206208\\\\\n\t  6.058200 & 12.139696\\\\\n\t  4.548301 &  9.861721\\\\\n\t  3.916088 & 11.373720\\\\\n\t  4.256268 & 10.059006\\\\\n\t  6.914800 & 13.411486\\\\\n\t  7.795392 & 14.582212\\\\\n\t  5.276997 & 14.583561\\\\\n\t  7.242361 & 10.709052\\\\\n\t  4.231869 & 14.077854\\\\\n\t  4.800786 & 12.518408\\\\\n\t  5.821099 & 12.714118\\\\\n\t  7.625010 & 15.465606\\\\\n\t  8.191810 & 10.196061\\\\\n\t  5.559814 &  7.659986\\\\\n\t  2.580521 & 10.375592\\\\\n\\end{tabular}\n",
            "text/markdown": "\nA data.frame: 1000 × 2\n\n| Var1 &lt;dbl&gt; | Var2 &lt;dbl&gt; |\n|---|---|\n| 1.747466 |  8.651116 |\n| 6.181607 | 12.568087 |\n| 1.780092 |  7.508900 |\n| 5.563857 | 12.740413 |\n| 9.181357 | 10.761397 |\n| 6.862878 |  8.301015 |\n| 4.907757 |  9.123616 |\n| 5.543861 | 12.122308 |\n| 6.278323 | 10.258826 |\n| 6.132860 | 13.386509 |\n| 4.198085 |  6.120560 |\n| 3.855689 |  9.556306 |\n| 2.441211 |  6.870866 |\n| 1.901809 |  6.318836 |\n| 5.768545 | 13.012315 |\n| 4.640350 | 13.788921 |\n| 4.982875 | 10.901948 |\n| 3.579133 |  6.292689 |\n| 3.680229 | 12.232155 |\n| 5.742581 | 10.272435 |\n| 5.826234 |  9.952103 |\n| 3.945972 | 10.352734 |\n| 4.022094 | 13.325331 |\n| 2.849878 | 13.485936 |\n| 5.713409 |  8.112522 |\n| 4.019014 |  9.122481 |\n| 4.373795 |  7.561328 |\n| 2.538580 |  5.061842 |\n| 5.574972 |  9.449405 |\n| 4.085704 | 13.474931 |\n| ⋮ | ⋮ |\n|  2.832152 |  7.057391 |\n|  6.419731 | 10.452412 |\n|  4.496262 |  6.338064 |\n|  5.854196 |  4.657462 |\n|  6.451938 |  9.359491 |\n|  2.199874 |  9.847179 |\n|  4.572680 |  9.644309 |\n|  9.156440 | 14.330430 |\n|  6.336374 | 15.205245 |\n|  3.243786 |  6.940050 |\n| 10.187957 | 14.873844 |\n|  5.690419 | 10.333766 |\n|  4.955041 | 10.588262 |\n|  4.616358 | 10.206973 |\n|  5.741939 | 12.206208 |\n|  6.058200 | 12.139696 |\n|  4.548301 |  9.861721 |\n|  3.916088 | 11.373720 |\n|  4.256268 | 10.059006 |\n|  6.914800 | 13.411486 |\n|  7.795392 | 14.582212 |\n|  5.276997 | 14.583561 |\n|  7.242361 | 10.709052 |\n|  4.231869 | 14.077854 |\n|  4.800786 | 12.518408 |\n|  5.821099 | 12.714118 |\n|  7.625010 | 15.465606 |\n|  8.191810 | 10.196061 |\n|  5.559814 |  7.659986 |\n|  2.580521 | 10.375592 |\n\n",
            "text/html": [
              "<table class=\"dataframe\">\n",
              "<caption>A data.frame: 1000 × 2</caption>\n",
              "<thead>\n",
              "\t<tr><th scope=col>Var1</th><th scope=col>Var2</th></tr>\n",
              "\t<tr><th scope=col>&lt;dbl&gt;</th><th scope=col>&lt;dbl&gt;</th></tr>\n",
              "</thead>\n",
              "<tbody>\n",
              "\t<tr><td>1.747466</td><td> 8.651116</td></tr>\n",
              "\t<tr><td>6.181607</td><td>12.568087</td></tr>\n",
              "\t<tr><td>1.780092</td><td> 7.508900</td></tr>\n",
              "\t<tr><td>5.563857</td><td>12.740413</td></tr>\n",
              "\t<tr><td>9.181357</td><td>10.761397</td></tr>\n",
              "\t<tr><td>6.862878</td><td> 8.301015</td></tr>\n",
              "\t<tr><td>4.907757</td><td> 9.123616</td></tr>\n",
              "\t<tr><td>5.543861</td><td>12.122308</td></tr>\n",
              "\t<tr><td>6.278323</td><td>10.258826</td></tr>\n",
              "\t<tr><td>6.132860</td><td>13.386509</td></tr>\n",
              "\t<tr><td>4.198085</td><td> 6.120560</td></tr>\n",
              "\t<tr><td>3.855689</td><td> 9.556306</td></tr>\n",
              "\t<tr><td>2.441211</td><td> 6.870866</td></tr>\n",
              "\t<tr><td>1.901809</td><td> 6.318836</td></tr>\n",
              "\t<tr><td>5.768545</td><td>13.012315</td></tr>\n",
              "\t<tr><td>4.640350</td><td>13.788921</td></tr>\n",
              "\t<tr><td>4.982875</td><td>10.901948</td></tr>\n",
              "\t<tr><td>3.579133</td><td> 6.292689</td></tr>\n",
              "\t<tr><td>3.680229</td><td>12.232155</td></tr>\n",
              "\t<tr><td>5.742581</td><td>10.272435</td></tr>\n",
              "\t<tr><td>5.826234</td><td> 9.952103</td></tr>\n",
              "\t<tr><td>3.945972</td><td>10.352734</td></tr>\n",
              "\t<tr><td>4.022094</td><td>13.325331</td></tr>\n",
              "\t<tr><td>2.849878</td><td>13.485936</td></tr>\n",
              "\t<tr><td>5.713409</td><td> 8.112522</td></tr>\n",
              "\t<tr><td>4.019014</td><td> 9.122481</td></tr>\n",
              "\t<tr><td>4.373795</td><td> 7.561328</td></tr>\n",
              "\t<tr><td>2.538580</td><td> 5.061842</td></tr>\n",
              "\t<tr><td>5.574972</td><td> 9.449405</td></tr>\n",
              "\t<tr><td>4.085704</td><td>13.474931</td></tr>\n",
              "\t<tr><td>⋮</td><td>⋮</td></tr>\n",
              "\t<tr><td> 2.832152</td><td> 7.057391</td></tr>\n",
              "\t<tr><td> 6.419731</td><td>10.452412</td></tr>\n",
              "\t<tr><td> 4.496262</td><td> 6.338064</td></tr>\n",
              "\t<tr><td> 5.854196</td><td> 4.657462</td></tr>\n",
              "\t<tr><td> 6.451938</td><td> 9.359491</td></tr>\n",
              "\t<tr><td> 2.199874</td><td> 9.847179</td></tr>\n",
              "\t<tr><td> 4.572680</td><td> 9.644309</td></tr>\n",
              "\t<tr><td> 9.156440</td><td>14.330430</td></tr>\n",
              "\t<tr><td> 6.336374</td><td>15.205245</td></tr>\n",
              "\t<tr><td> 3.243786</td><td> 6.940050</td></tr>\n",
              "\t<tr><td>10.187957</td><td>14.873844</td></tr>\n",
              "\t<tr><td> 5.690419</td><td>10.333766</td></tr>\n",
              "\t<tr><td> 4.955041</td><td>10.588262</td></tr>\n",
              "\t<tr><td> 4.616358</td><td>10.206973</td></tr>\n",
              "\t<tr><td> 5.741939</td><td>12.206208</td></tr>\n",
              "\t<tr><td> 6.058200</td><td>12.139696</td></tr>\n",
              "\t<tr><td> 4.548301</td><td> 9.861721</td></tr>\n",
              "\t<tr><td> 3.916088</td><td>11.373720</td></tr>\n",
              "\t<tr><td> 4.256268</td><td>10.059006</td></tr>\n",
              "\t<tr><td> 6.914800</td><td>13.411486</td></tr>\n",
              "\t<tr><td> 7.795392</td><td>14.582212</td></tr>\n",
              "\t<tr><td> 5.276997</td><td>14.583561</td></tr>\n",
              "\t<tr><td> 7.242361</td><td>10.709052</td></tr>\n",
              "\t<tr><td> 4.231869</td><td>14.077854</td></tr>\n",
              "\t<tr><td> 4.800786</td><td>12.518408</td></tr>\n",
              "\t<tr><td> 5.821099</td><td>12.714118</td></tr>\n",
              "\t<tr><td> 7.625010</td><td>15.465606</td></tr>\n",
              "\t<tr><td> 8.191810</td><td>10.196061</td></tr>\n",
              "\t<tr><td> 5.559814</td><td> 7.659986</td></tr>\n",
              "\t<tr><td> 2.580521</td><td>10.375592</td></tr>\n",
              "</tbody>\n",
              "</table>\n"
            ]
          },
          "metadata": {}
        }
      ]
    },
    {
      "cell_type": "code",
      "metadata": {
        "colab": {
          "base_uri": "https://localhost:8080/",
          "height": 283
        },
        "id": "Ca5PZXhOqXHx",
        "outputId": "f4efe6b9-50bb-4c34-9cbe-1f63f4bf9a13"
      },
      "source": [
        "df$maha = mahalanobis(df, colMeans(df) , cov(df))\n",
        "head(df)"
      ],
      "execution_count": 38,
      "outputs": [
        {
          "output_type": "display_data",
          "data": {
            "text/plain": [
              "  Var1     Var2      maha    \n",
              "1 1.747466  8.651116 3.536401\n",
              "2 6.181607 12.568087 1.048727\n",
              "3 1.780092  7.508900 3.343223\n",
              "4 5.563857 12.740413 1.206006\n",
              "5 9.181357 10.761397 6.649245\n",
              "6 6.862878  8.301015 3.101809"
            ],
            "text/latex": "A data.frame: 6 × 3\n\\begin{tabular}{r|lll}\n  & Var1 & Var2 & maha\\\\\n  & <dbl> & <dbl> & <dbl>\\\\\n\\hline\n\t1 & 1.747466 &  8.651116 & 3.536401\\\\\n\t2 & 6.181607 & 12.568087 & 1.048727\\\\\n\t3 & 1.780092 &  7.508900 & 3.343223\\\\\n\t4 & 5.563857 & 12.740413 & 1.206006\\\\\n\t5 & 9.181357 & 10.761397 & 6.649245\\\\\n\t6 & 6.862878 &  8.301015 & 3.101809\\\\\n\\end{tabular}\n",
            "text/markdown": "\nA data.frame: 6 × 3\n\n| <!--/--> | Var1 &lt;dbl&gt; | Var2 &lt;dbl&gt; | maha &lt;dbl&gt; |\n|---|---|---|---|\n| 1 | 1.747466 |  8.651116 | 3.536401 |\n| 2 | 6.181607 | 12.568087 | 1.048727 |\n| 3 | 1.780092 |  7.508900 | 3.343223 |\n| 4 | 5.563857 | 12.740413 | 1.206006 |\n| 5 | 9.181357 | 10.761397 | 6.649245 |\n| 6 | 6.862878 |  8.301015 | 3.101809 |\n\n",
            "text/html": [
              "<table class=\"dataframe\">\n",
              "<caption>A data.frame: 6 × 3</caption>\n",
              "<thead>\n",
              "\t<tr><th></th><th scope=col>Var1</th><th scope=col>Var2</th><th scope=col>maha</th></tr>\n",
              "\t<tr><th></th><th scope=col>&lt;dbl&gt;</th><th scope=col>&lt;dbl&gt;</th><th scope=col>&lt;dbl&gt;</th></tr>\n",
              "</thead>\n",
              "<tbody>\n",
              "\t<tr><th scope=row>1</th><td>1.747466</td><td> 8.651116</td><td>3.536401</td></tr>\n",
              "\t<tr><th scope=row>2</th><td>6.181607</td><td>12.568087</td><td>1.048727</td></tr>\n",
              "\t<tr><th scope=row>3</th><td>1.780092</td><td> 7.508900</td><td>3.343223</td></tr>\n",
              "\t<tr><th scope=row>4</th><td>5.563857</td><td>12.740413</td><td>1.206006</td></tr>\n",
              "\t<tr><th scope=row>5</th><td>9.181357</td><td>10.761397</td><td>6.649245</td></tr>\n",
              "\t<tr><th scope=row>6</th><td>6.862878</td><td> 8.301015</td><td>3.101809</td></tr>\n",
              "</tbody>\n",
              "</table>\n"
            ]
          },
          "metadata": {}
        }
      ]
    },
    {
      "cell_type": "code",
      "metadata": {
        "colab": {
          "base_uri": "https://localhost:8080/",
          "height": 283
        },
        "id": "dkWvX-Q-qhHx",
        "outputId": "0eabf75d-9ada-4140-af0c-cd31a203ee7d"
      },
      "source": [
        "df$pval = pchisq(df$maha,df=2,lower.tail = FALSE) #false = พื้นที่ฝั่งขวา\n",
        "head(df)"
      ],
      "execution_count": 39,
      "outputs": [
        {
          "output_type": "display_data",
          "data": {
            "text/plain": [
              "  Var1     Var2      maha     pval      \n",
              "1 1.747466  8.651116 3.536401 0.17063974\n",
              "2 6.181607 12.568087 1.048727 0.59193204\n",
              "3 1.780092  7.508900 3.343223 0.18794399\n",
              "4 5.563857 12.740413 1.206006 0.54716615\n",
              "5 9.181357 10.761397 6.649245 0.03598609\n",
              "6 6.862878  8.301015 3.101809 0.21205611"
            ],
            "text/latex": "A data.frame: 6 × 4\n\\begin{tabular}{r|llll}\n  & Var1 & Var2 & maha & pval\\\\\n  & <dbl> & <dbl> & <dbl> & <dbl>\\\\\n\\hline\n\t1 & 1.747466 &  8.651116 & 3.536401 & 0.17063974\\\\\n\t2 & 6.181607 & 12.568087 & 1.048727 & 0.59193204\\\\\n\t3 & 1.780092 &  7.508900 & 3.343223 & 0.18794399\\\\\n\t4 & 5.563857 & 12.740413 & 1.206006 & 0.54716615\\\\\n\t5 & 9.181357 & 10.761397 & 6.649245 & 0.03598609\\\\\n\t6 & 6.862878 &  8.301015 & 3.101809 & 0.21205611\\\\\n\\end{tabular}\n",
            "text/markdown": "\nA data.frame: 6 × 4\n\n| <!--/--> | Var1 &lt;dbl&gt; | Var2 &lt;dbl&gt; | maha &lt;dbl&gt; | pval &lt;dbl&gt; |\n|---|---|---|---|---|\n| 1 | 1.747466 |  8.651116 | 3.536401 | 0.17063974 |\n| 2 | 6.181607 | 12.568087 | 1.048727 | 0.59193204 |\n| 3 | 1.780092 |  7.508900 | 3.343223 | 0.18794399 |\n| 4 | 5.563857 | 12.740413 | 1.206006 | 0.54716615 |\n| 5 | 9.181357 | 10.761397 | 6.649245 | 0.03598609 |\n| 6 | 6.862878 |  8.301015 | 3.101809 | 0.21205611 |\n\n",
            "text/html": [
              "<table class=\"dataframe\">\n",
              "<caption>A data.frame: 6 × 4</caption>\n",
              "<thead>\n",
              "\t<tr><th></th><th scope=col>Var1</th><th scope=col>Var2</th><th scope=col>maha</th><th scope=col>pval</th></tr>\n",
              "\t<tr><th></th><th scope=col>&lt;dbl&gt;</th><th scope=col>&lt;dbl&gt;</th><th scope=col>&lt;dbl&gt;</th><th scope=col>&lt;dbl&gt;</th></tr>\n",
              "</thead>\n",
              "<tbody>\n",
              "\t<tr><th scope=row>1</th><td>1.747466</td><td> 8.651116</td><td>3.536401</td><td>0.17063974</td></tr>\n",
              "\t<tr><th scope=row>2</th><td>6.181607</td><td>12.568087</td><td>1.048727</td><td>0.59193204</td></tr>\n",
              "\t<tr><th scope=row>3</th><td>1.780092</td><td> 7.508900</td><td>3.343223</td><td>0.18794399</td></tr>\n",
              "\t<tr><th scope=row>4</th><td>5.563857</td><td>12.740413</td><td>1.206006</td><td>0.54716615</td></tr>\n",
              "\t<tr><th scope=row>5</th><td>9.181357</td><td>10.761397</td><td>6.649245</td><td>0.03598609</td></tr>\n",
              "\t<tr><th scope=row>6</th><td>6.862878</td><td> 8.301015</td><td>3.101809</td><td>0.21205611</td></tr>\n",
              "</tbody>\n",
              "</table>\n"
            ]
          },
          "metadata": {}
        }
      ]
    },
    {
      "cell_type": "markdown",
      "metadata": {
        "id": "v8ANRaIeqpP7"
      },
      "source": [
        "##บทที่ 3"
      ]
    },
    {
      "cell_type": "code",
      "metadata": {
        "colab": {
          "base_uri": "https://localhost:8080/",
          "height": 68
        },
        "id": "-sapyv8tqqdB",
        "outputId": "278ae846-269d-42e9-803d-a44194788aee"
      },
      "source": [
        "Xbar=matrix(c(4.64,45.4,9.965),3,1)\n",
        "S=matrix(c(2.879,10.01,-1.81,10.01,199.788,-5.64,-1.81,-5.64,3.628),3,3)\n",
        "mu=matrix(c(4,50,10),3,1)\n",
        "n=20\n",
        "p=3\n",
        "alpha=0.05\n",
        "#####################\n",
        "T2=n*t(Xbar-mu)%*%solve(S)%*%(Xbar-mu)\n",
        "paste(\"Hotelling’s T2 is:\",T2)\n",
        "#####################\n",
        "T2_cri=(((n-1)*p)/(n-p))*qf(0.05,p,n-p,lower.tail = FALSE)\n",
        "paste(\"Critical value: \",T2_cri)\n",
        "#####################\n",
        "if(T2 < T2_cri){\n",
        "      paste(\"We do not reject Ho\",alpha)\n",
        "}else{\n",
        "      paste(\"We do reject Ho\",alpha)\n",
        "}"
      ],
      "execution_count": 42,
      "outputs": [
        {
          "output_type": "display_data",
          "data": {
            "text/plain": [
              "[1] \"Hotelling’s T2 is: 9.74303756432536\""
            ],
            "text/latex": "'Hotelling’s T2 is: 9.74303756432536'",
            "text/markdown": "'Hotelling’s T2 is: 9.74303756432536'",
            "text/html": [
              "'Hotelling’s T2 is: 9.74303756432536'"
            ]
          },
          "metadata": {}
        },
        {
          "output_type": "display_data",
          "data": {
            "text/plain": [
              "[1] \"Critical value:  10.7186047019865\""
            ],
            "text/latex": "'Critical value:  10.7186047019865'",
            "text/markdown": "<span style=white-space:pre-wrap>'Critical value:  10.7186047019865'</span>",
            "text/html": [
              "<span style=white-space:pre-wrap>'Critical value:  10.7186047019865'</span>"
            ]
          },
          "metadata": {}
        },
        {
          "output_type": "display_data",
          "data": {
            "text/plain": [
              "[1] \"We do not reject Ho 0.05\""
            ],
            "text/latex": "'We do not reject Ho 0.05'",
            "text/markdown": "'We do not reject Ho 0.05'",
            "text/html": [
              "'We do not reject Ho 0.05'"
            ]
          },
          "metadata": {}
        }
      ]
    },
    {
      "cell_type": "markdown",
      "metadata": {
        "id": "qeMiHTbasfnA"
      },
      "source": [
        "### ข้อ 3.2"
      ]
    },
    {
      "cell_type": "code",
      "metadata": {
        "colab": {
          "base_uri": "https://localhost:8080/",
          "height": 68
        },
        "id": "woD8mUHjr5C6",
        "outputId": "8d8290d4-bedd-459e-d1ed-9324c1141295"
      },
      "source": [
        "mu=matrix(c(9,5),2,1)\n",
        "X=matrix(c(6,10,8,9,6,3),3,2)\n",
        "Xbar=colMeans(X)\n",
        "Xbar=matrix(Xbar,2,1)\n",
        "S=cov(X)\n",
        "n=3\n",
        "p=2\n",
        "alpha=0.05\n",
        "#####################\n",
        "T2=n*t(Xbar-mu)%*%solve(S)%*%(Xbar-mu)\n",
        "paste(\"Hotelling’s T2:\",T2)\n",
        "#####################\n",
        "Cri_val=((n-1)*p)/(n-p)*qf(1-0.05,p,n-p)\n",
        "paste(\"Critical value: \",Cri_val)\n",
        "####################\n",
        "if(T2 < Cri_val){\n",
        "      paste(\"We do not reject Ho\",alpha)\n",
        "}else{\n",
        "      paste(\"We reject Ho\",alpha)\n",
        "}"
      ],
      "execution_count": 62,
      "outputs": [
        {
          "output_type": "display_data",
          "data": {
            "text/plain": [
              "[1] \"Hotelling’s T2: 0.777777777777778\""
            ],
            "text/latex": "'Hotelling’s T2: 0.777777777777778'",
            "text/markdown": "'Hotelling’s T2: 0.777777777777778'",
            "text/html": [
              "'Hotelling’s T2: 0.777777777777778'"
            ]
          },
          "metadata": {}
        },
        {
          "output_type": "display_data",
          "data": {
            "text/plain": [
              "[1] \"Critical value:  797.999999999999\""
            ],
            "text/latex": "'Critical value:  797.999999999999'",
            "text/markdown": "<span style=white-space:pre-wrap>'Critical value:  797.999999999999'</span>",
            "text/html": [
              "<span style=white-space:pre-wrap>'Critical value:  797.999999999999'</span>"
            ]
          },
          "metadata": {}
        },
        {
          "output_type": "display_data",
          "data": {
            "text/plain": [
              "[1] \"We do not reject Ho 0.05\""
            ],
            "text/latex": "'We do not reject Ho 0.05'",
            "text/markdown": "'We do not reject Ho 0.05'",
            "text/html": [
              "'We do not reject Ho 0.05'"
            ]
          },
          "metadata": {}
        }
      ]
    },
    {
      "cell_type": "markdown",
      "metadata": {
        "id": "yur54LP7tttA"
      },
      "source": [
        "### ex 3.3 Confidence Regions and Simultaneous Comparisons of Component Mean\n"
      ]
    },
    {
      "cell_type": "code",
      "metadata": {
        "colab": {
          "base_uri": "https://localhost:8080/",
          "height": 68
        },
        "id": "wF0c2ApPtQMj",
        "outputId": "77effcf0-44a9-4470-d82c-c55dfc57a711"
      },
      "source": [
        "Xbar = matrix(c(4.64,45.4,9.965),3,1) \n",
        "S = matrix(c(2.879,10.01,-1.81,10.01,199.788,-5.64,-1.81,-5.64,3.628),3,3) \n",
        "n=20\n",
        "p=3\n",
        "##############################################\n",
        "L1=Xbar[1,1]-(sqrt(((n-1)*p)/(n-p)*qf(1-0.05,p,n-p))*sqrt(S[1,1]/n))\n",
        "U1=Xbar[1,1]+(sqrt(((n-1)*p)/(n-p)*qf(1-0.05,p,n-p))*sqrt(S[1,1]/n))\n",
        "paste(\"The lower bound L1: \",L1, \"/ The upper bound U1: \",U1)\n",
        "##############################################\n",
        "L2=Xbar[2,1]-(sqrt(((n-1)*p)/(n-p)*qf(1-0.05,p,n-p))*sqrt(S[2,2]/n))\n",
        "U2=Xbar[2,1]+(sqrt(((n-1)*p)/(n-p)*qf(1-0.05,p,n-p))*sqrt(S[2,2]/n))\n",
        "paste(\"The lower bound L2: \",L2, \"/ The upper bound U2: \",U2)\n",
        "##############################################\n",
        "L3=Xbar[3,1]-(sqrt(((n-1)*p)/(n-p)*qf(1-0.05,p,n-p))*sqrt(S[3,3]/n))\n",
        "U3=Xbar[3,1]+(sqrt(((n-1)*p)/(n-p)*qf(1-0.05,p,n-p))*sqrt(S[3,3]/n))\n",
        "paste(\"The lower bound L3: \",L3, \"/ The upper bound U3: \",U3)"
      ],
      "execution_count": 49,
      "outputs": [
        {
          "output_type": "display_data",
          "data": {
            "text/plain": [
              "[1] \"The lower bound L1:  3.39784737376965 / The upper bound U1:  5.88215262623035\""
            ],
            "text/latex": "'The lower bound L1:  3.39784737376965 / The upper bound U1:  5.88215262623035'",
            "text/markdown": "<span style=white-space:pre-wrap>'The lower bound L1:  3.39784737376965 / The upper bound U1:  5.88215262623035'</span>",
            "text/html": [
              "<span style=white-space:pre-wrap>'The lower bound L1:  3.39784737376965 / The upper bound U1:  5.88215262623035'</span>"
            ]
          },
          "metadata": {}
        },
        {
          "output_type": "display_data",
          "data": {
            "text/plain": [
              "[1] \"The lower bound L2:  35.0524191324724 / The upper bound U2:  55.7475808675276\""
            ],
            "text/latex": "'The lower bound L2:  35.0524191324724 / The upper bound U2:  55.7475808675276'",
            "text/markdown": "<span style=white-space:pre-wrap>'The lower bound L2:  35.0524191324724 / The upper bound U2:  55.7475808675276'</span>",
            "text/html": [
              "<span style=white-space:pre-wrap>'The lower bound L2:  35.0524191324724 / The upper bound U2:  55.7475808675276'</span>"
            ]
          },
          "metadata": {}
        },
        {
          "output_type": "display_data",
          "data": {
            "text/plain": [
              "[1] \"The lower bound L3:  8.57059873316884 / The upper bound U3:  11.3594012668312\""
            ],
            "text/latex": "'The lower bound L3:  8.57059873316884 / The upper bound U3:  11.3594012668312'",
            "text/markdown": "<span style=white-space:pre-wrap>'The lower bound L3:  8.57059873316884 / The upper bound U3:  11.3594012668312'</span>",
            "text/html": [
              "<span style=white-space:pre-wrap>'The lower bound L3:  8.57059873316884 / The upper bound U3:  11.3594012668312'</span>"
            ]
          },
          "metadata": {}
        }
      ]
    },
    {
      "cell_type": "markdown",
      "metadata": {
        "id": "ePmcntOdv4xY"
      },
      "source": [
        "### The Bonferroni method of multiple comparisons"
      ]
    },
    {
      "cell_type": "markdown",
      "metadata": {
        "id": "Lq6u5sA5v6Pf"
      },
      "source": [
        "### ex 3.4"
      ]
    },
    {
      "cell_type": "code",
      "metadata": {
        "colab": {
          "base_uri": "https://localhost:8080/",
          "height": 68
        },
        "id": "wFEtM03aummZ",
        "outputId": "84fa5668-d437-4c6d-a948-b1cfd1530f80"
      },
      "source": [
        "Xbar = matrix(c(4.64,45.4,9.965),3,1) \n",
        "S = matrix(c(2.879,10.01,-1.81,10.01,199.788,-5.64,-1.81,-5.64,3.628),3,3) \n",
        "n=20\n",
        "p=3\n",
        "alpha=0.05\n",
        "###############################################\n",
        "L1=Xbar[1,1]-((qt(1-(alpha/(2*p)),n-1))*sqrt(S[1,1]/n))\n",
        "U1=Xbar[1,1]+((qt(1-(alpha/(2*p)),n-1))*sqrt(S[1,1]/n))\n",
        "paste(\"The lower bound L1: \",L1, \"/ The upper bound U1: \",U1)\n",
        "###############################################\n",
        "L2=Xbar[2,1]-((qt(1-(alpha/(2*p)),n-1))*sqrt(S[2,2]/n))\n",
        "U2=Xbar[2,1]+((qt(1-(alpha/(2*p)),n-1))*sqrt(S[2,2]/n))\n",
        "paste(\"The lower bound L2: \",L2, \"/ The upper bound U2: \",U2)\n",
        "###############################################\n",
        "L3=Xbar[3,1]-((qt(1-(alpha/(2*p)),n-1))*sqrt(S[3,3]/n))\n",
        "U3=Xbar[3,1]+((qt(1-(alpha/(2*p)),n-1))*sqrt(S[3,3]/n))\n",
        "paste(\"The lower bound L3: \",L3, \"/ The upper bound U3: \",U3)"
      ],
      "execution_count": 57,
      "outputs": [
        {
          "output_type": "display_data",
          "data": {
            "text/plain": [
              "[1] \"The lower bound L1:  3.64401530485706 / The upper bound U1:  5.63598469514294\""
            ],
            "text/latex": "'The lower bound L1:  3.64401530485706 / The upper bound U1:  5.63598469514294'",
            "text/markdown": "<span style=white-space:pre-wrap>'The lower bound L1:  3.64401530485706 / The upper bound U1:  5.63598469514294'</span>",
            "text/html": [
              "<span style=white-space:pre-wrap>'The lower bound L1:  3.64401530485706 / The upper bound U1:  5.63598469514294'</span>"
            ]
          },
          "metadata": {}
        },
        {
          "output_type": "display_data",
          "data": {
            "text/plain": [
              "[1] \"The lower bound L2:  37.1030870778836 / The upper bound U2:  53.6969129221164\""
            ],
            "text/latex": "'The lower bound L2:  37.1030870778836 / The upper bound U2:  53.6969129221164'",
            "text/markdown": "<span style=white-space:pre-wrap>'The lower bound L2:  37.1030870778836 / The upper bound U2:  53.6969129221164'</span>",
            "text/html": [
              "<span style=white-space:pre-wrap>'The lower bound L2:  37.1030870778836 / The upper bound U2:  53.6969129221164'</span>"
            ]
          },
          "metadata": {}
        },
        {
          "output_type": "display_data",
          "data": {
            "text/plain": [
              "[1] \"The lower bound L3:  8.84693906986578 / The upper bound U3:  11.0830609301342\""
            ],
            "text/latex": "'The lower bound L3:  8.84693906986578 / The upper bound U3:  11.0830609301342'",
            "text/markdown": "<span style=white-space:pre-wrap>'The lower bound L3:  8.84693906986578 / The upper bound U3:  11.0830609301342'</span>",
            "text/html": [
              "<span style=white-space:pre-wrap>'The lower bound L3:  8.84693906986578 / The upper bound U3:  11.0830609301342'</span>"
            ]
          },
          "metadata": {}
        }
      ]
    },
    {
      "cell_type": "markdown",
      "metadata": {
        "id": "GDEdAoL3yYxQ"
      },
      "source": [
        "### ex 3.5 Comparing Mean Vectors from Two Populations"
      ]
    },
    {
      "cell_type": "code",
      "metadata": {
        "colab": {
          "base_uri": "https://localhost:8080/",
          "height": 68
        },
        "id": "Br80VlQewybw",
        "outputId": "626adbc4-83bf-49de-f10d-06d15434fe64"
      },
      "source": [
        "Xbar1 = matrix(c(8.3,4.1),2,1)\n",
        "Xbar2 = matrix(c(10.2,3.9),2,1)\n",
        "S1 = matrix(c(2,1,1,6),2,2)\n",
        "S2 = matrix(c(2,1,1,4),2,2)\n",
        "n1 = 50\n",
        "n2 = 50\n",
        "Sp = (((n1-1)/(n1+n1-2))*S1)+(((n2-1)/(n1+n2-2))*S2)\n",
        "p=2\n",
        "alpha=0.05\n",
        "###################################################\n",
        "T2 = t(Xbar1-Xbar2)%*%solve(((1/n1)+(1/n2))*Sp)%*%(Xbar1-Xbar2)\n",
        "paste(\"The T2 value: \",T2)\n",
        "###################################################\n",
        "cri_val = ((n1+n2-2)*p)/(n1+n2-p-1)*qf(1-0.05,p,n1+n2-p-1)\n",
        "paste(\"The critical value: \",cri_val)\n",
        "###################################################\n",
        "if(T2 < cri_val){\n",
        "      paste(\"We do not reject Ho\",alpha)\n",
        "}else{\n",
        "      paste(\"We reject Ho\",alpha)\n",
        "}"
      ],
      "execution_count": 63,
      "outputs": [
        {
          "output_type": "display_data",
          "data": {
            "text/plain": [
              "[1] \"The T2 value:  52.4722222222221\""
            ],
            "text/latex": "'The T2 value:  52.4722222222221'",
            "text/markdown": "<span style=white-space:pre-wrap>'The T2 value:  52.4722222222221'</span>",
            "text/html": [
              "<span style=white-space:pre-wrap>'The T2 value:  52.4722222222221'</span>"
            ]
          },
          "metadata": {}
        },
        {
          "output_type": "display_data",
          "data": {
            "text/plain": [
              "[1] \"The critical value:  6.24408853948819\""
            ],
            "text/latex": "'The critical value:  6.24408853948819'",
            "text/markdown": "<span style=white-space:pre-wrap>'The critical value:  6.24408853948819'</span>",
            "text/html": [
              "<span style=white-space:pre-wrap>'The critical value:  6.24408853948819'</span>"
            ]
          },
          "metadata": {}
        },
        {
          "output_type": "display_data",
          "data": {
            "text/plain": [
              "[1] \"We reject Ho 0.05\""
            ],
            "text/latex": "'We reject Ho 0.05'",
            "text/markdown": "'We reject Ho 0.05'",
            "text/html": [
              "'We reject Ho 0.05'"
            ]
          },
          "metadata": {}
        }
      ]
    },
    {
      "cell_type": "markdown",
      "metadata": {
        "id": "0ZRXbQcy0X9w"
      },
      "source": [
        "### ex 3.6 Simultaneous confidence intervals"
      ]
    },
    {
      "cell_type": "code",
      "metadata": {
        "colab": {
          "base_uri": "https://localhost:8080/",
          "height": 85
        },
        "id": "dV1HUz4NztyJ",
        "outputId": "7d26ad76-e4cd-49e8-9747-fe1c85ac8471"
      },
      "source": [
        "Xbar1 = matrix(c(8.3,4.1),2,1)\n",
        "Xbar2 = matrix(c(10.2,3.9),2,1)\n",
        "S1 = matrix(c(2,1,1,6),2,2)\n",
        "S2 = matrix(c(2,1,1,4),2,2)\n",
        "n1 = 50\n",
        "n2 = 50\n",
        "Sp = (((n1-1)/(n1+n1-2))*S1)+(((n2-1)/(n1+n2-2))*S2)\n",
        "p=2\n",
        "alpha=0.05\n",
        "###################################################\n",
        "L1 = (Xbar1[1]-Xbar2[1])-(sqrt(cri_val)*sqrt(((1/n1)+(1/n2))*Sp[1])) \n",
        "paste(\"The lower bound L1: \",L1)\n",
        "U1 = (Xbar1[1]-Xbar2[1])+(sqrt(cri_val)*sqrt(((1/n1)+(1/n2))*Sp[1]))\n",
        "paste(\"The upper bound U1: \",U1)\n",
        "###################################################\n",
        "L2 = (Xbar1[2]-Xbar2[2])-(sqrt(cri_val)*sqrt(((1/n1)+(1/n2))*Sp[4]))\n",
        "paste(\"The lower bound L2: \",L2)\n",
        "U2 = (Xbar1[2]-Xbar2[2])+(sqrt(cri_val)*sqrt(((1/n1)+(1/n2))*Sp[4]))\n",
        "paste(\"The upper bound U2: \",U2)"
      ],
      "execution_count": 64,
      "outputs": [
        {
          "output_type": "display_data",
          "data": {
            "text/plain": [
              "[1] \"The lower bound L1:  -2.60677229937162\""
            ],
            "text/latex": "'The lower bound L1:  -2.60677229937162'",
            "text/markdown": "<span style=white-space:pre-wrap>'The lower bound L1:  -2.60677229937162'</span>",
            "text/html": [
              "<span style=white-space:pre-wrap>'The lower bound L1:  -2.60677229937162'</span>"
            ]
          },
          "metadata": {}
        },
        {
          "output_type": "display_data",
          "data": {
            "text/plain": [
              "[1] \"The upper bound U1:  -1.19322770062837\""
            ],
            "text/latex": "'The upper bound U1:  -1.19322770062837'",
            "text/markdown": "<span style=white-space:pre-wrap>'The upper bound U1:  -1.19322770062837'</span>",
            "text/html": [
              "<span style=white-space:pre-wrap>'The upper bound U1:  -1.19322770062837'</span>"
            ]
          },
          "metadata": {}
        },
        {
          "output_type": "display_data",
          "data": {
            "text/plain": [
              "[1] \"The lower bound L2:  -0.917505126564365\""
            ],
            "text/latex": "'The lower bound L2:  -0.917505126564365'",
            "text/markdown": "<span style=white-space:pre-wrap>'The lower bound L2:  -0.917505126564365'</span>",
            "text/html": [
              "<span style=white-space:pre-wrap>'The lower bound L2:  -0.917505126564365'</span>"
            ]
          },
          "metadata": {}
        },
        {
          "output_type": "display_data",
          "data": {
            "text/plain": [
              "[1] \"The upper bound U2:  1.31750512656436\""
            ],
            "text/latex": "'The upper bound U2:  1.31750512656436'",
            "text/markdown": "<span style=white-space:pre-wrap>'The upper bound U2:  1.31750512656436'</span>",
            "text/html": [
              "<span style=white-space:pre-wrap>'The upper bound U2:  1.31750512656436'</span>"
            ]
          },
          "metadata": {}
        }
      ]
    },
    {
      "cell_type": "markdown",
      "metadata": {
        "id": "-z6gyV-01Q-A"
      },
      "source": [
        "### ex 3.7 The Bonferroni 100 (1 -0.05) % simultaneous confidence intervals for the differences in the mean component"
      ]
    },
    {
      "cell_type": "code",
      "metadata": {
        "colab": {
          "base_uri": "https://localhost:8080/",
          "height": 85
        },
        "id": "v7T8YyII1ExZ",
        "outputId": "c663995a-2d2f-41de-d918-7369fe94a0e5"
      },
      "source": [
        "Xbar1 = matrix(c(8.3,4.1),2,1)\n",
        "Xbar2 = matrix(c(10.2,3.9),2,1)\n",
        "S1 = matrix(c(2,1,1,6),2,2)\n",
        "S2 = matrix(c(2,1,1,4),2,2)\n",
        "n1 = 50\n",
        "n2 = 50\n",
        "Sp = (((n1-1)/(n1+n1-2))*S1)+(((n2-1)/(n1+n2-2))*S2)\n",
        "p=2\n",
        "alpha=0.05\n",
        "D = qt(1-(0.05/(2*p)),n1+n2-2)\n",
        "############################################################\n",
        "L1 = (Xbar1[1]-Xbar2[1])-(D*sqrt(((1/n1)+(1/n2))*Sp[1,1]))\n",
        "paste(\"The lower bound L1: \",L1)\n",
        "U1 = (Xbar1[1]-Xbar2[1])+(D*sqrt(((1/n1)+(1/n2))*Sp[1,1]))\n",
        "paste(\"The upper bound U1: \",U1)\n",
        "############################################################\n",
        "L2 = (Xbar1[2]-Xbar2[2])-(D*sqrt(((1/n1)+(1/n2))*Sp[2,2]))\n",
        "paste(\"The lower bound L2: \",L2)\n",
        "U2 = (Xbar1[2]-Xbar2[2])+(D*sqrt(((1/n1)+(1/n2))*Sp[2,2]))\n",
        "paste(\"The upper bound U2: \",U2)"
      ],
      "execution_count": 65,
      "outputs": [
        {
          "output_type": "display_data",
          "data": {
            "text/plain": [
              "[1] \"The lower bound L1:  -2.54385234819145\""
            ],
            "text/latex": "'The lower bound L1:  -2.54385234819145'",
            "text/markdown": "<span style=white-space:pre-wrap>'The lower bound L1:  -2.54385234819145'</span>",
            "text/html": [
              "<span style=white-space:pre-wrap>'The lower bound L1:  -2.54385234819145'</span>"
            ]
          },
          "metadata": {}
        },
        {
          "output_type": "display_data",
          "data": {
            "text/plain": [
              "[1] \"The upper bound U1:  -1.25614765180855\""
            ],
            "text/latex": "'The upper bound U1:  -1.25614765180855'",
            "text/markdown": "<span style=white-space:pre-wrap>'The upper bound U1:  -1.25614765180855'</span>",
            "text/html": [
              "<span style=white-space:pre-wrap>'The upper bound U1:  -1.25614765180855'</span>"
            ]
          },
          "metadata": {}
        },
        {
          "output_type": "display_data",
          "data": {
            "text/plain": [
              "[1] \"The lower bound L2:  -0.818019948566383\""
            ],
            "text/latex": "'The lower bound L2:  -0.818019948566383'",
            "text/markdown": "<span style=white-space:pre-wrap>'The lower bound L2:  -0.818019948566383'</span>",
            "text/html": [
              "<span style=white-space:pre-wrap>'The lower bound L2:  -0.818019948566383'</span>"
            ]
          },
          "metadata": {}
        },
        {
          "output_type": "display_data",
          "data": {
            "text/plain": [
              "[1] \"The upper bound U2:  1.21801994856638\""
            ],
            "text/latex": "'The upper bound U2:  1.21801994856638'",
            "text/markdown": "<span style=white-space:pre-wrap>'The upper bound U2:  1.21801994856638'</span>",
            "text/html": [
              "<span style=white-space:pre-wrap>'The upper bound U2:  1.21801994856638'</span>"
            ]
          },
          "metadata": {}
        }
      ]
    },
    {
      "cell_type": "markdown",
      "metadata": {
        "id": "Hwd6Krzl2GeX"
      },
      "source": [
        "### The two-sample situation when Σ1!= Σ2\n",
        "## ex 3.8"
      ]
    },
    {
      "cell_type": "code",
      "metadata": {
        "colab": {
          "base_uri": "https://localhost:8080/",
          "height": 68
        },
        "id": "lO8F48KP12fr",
        "outputId": "335a6696-0560-4a96-c09a-007191a915f7"
      },
      "source": [
        "Xbar1 = matrix(c(204.4,556.6),2,1)\n",
        "Xbar2 = matrix(c(130.0,355.0),2,1)\n",
        "S1 = matrix(c(13825.3,23823.4,23823.3,73107.4),2,2)\n",
        "S2 = matrix(c(8632.0,19616.7,19616.7,55964.5),2,2)\n",
        "n1=45\n",
        "n2=55\n",
        "p=2\n",
        "S = (1/n1)*S1+(1/n2)*S2\n",
        "#####################################\n",
        "T2 = t(Xbar1-Xbar2)%*%solve(S)%*%(Xbar1-Xbar2)\n",
        "paste(\"T2:\",T2)\n",
        "#####################################\n",
        "cri_val = qchisq(1-0.05,p)\n",
        "paste(\"Critical value:\",cri_val)\n",
        "#####################################\n",
        "if(T2 < cri_val){\n",
        "      paste(\"We do not reject Ho\",alpha)\n",
        "}else{\n",
        "      paste(\"We reject Ho\",alpha)\n",
        "}"
      ],
      "execution_count": 68,
      "outputs": [
        {
          "output_type": "display_data",
          "data": {
            "text/plain": [
              "[1] \"T2: 15.6585347596425\""
            ],
            "text/latex": "'T2: 15.6585347596425'",
            "text/markdown": "'T2: 15.6585347596425'",
            "text/html": [
              "'T2: 15.6585347596425'"
            ]
          },
          "metadata": {}
        },
        {
          "output_type": "display_data",
          "data": {
            "text/plain": [
              "[1] \"Critical value: 5.99146454710798\""
            ],
            "text/latex": "'Critical value: 5.99146454710798'",
            "text/markdown": "'Critical value: 5.99146454710798'",
            "text/html": [
              "'Critical value: 5.99146454710798'"
            ]
          },
          "metadata": {}
        },
        {
          "output_type": "display_data",
          "data": {
            "text/plain": [
              "[1] \"We reject Ho 0.05\""
            ],
            "text/latex": "'We reject Ho 0.05'",
            "text/markdown": "'We reject Ho 0.05'",
            "text/html": [
              "'We reject Ho 0.05'"
            ]
          },
          "metadata": {}
        }
      ]
    },
    {
      "cell_type": "markdown",
      "metadata": {
        "id": "ZTTGau6L3fXi"
      },
      "source": [
        "### Example 3.9"
      ]
    },
    {
      "cell_type": "code",
      "metadata": {
        "colab": {
          "base_uri": "https://localhost:8080/",
          "height": 51
        },
        "id": "IVDZxjzO3RKx",
        "outputId": "efd8505e-77de-460e-b234-fb5afdeb5130"
      },
      "source": [
        "Xbar1 = matrix(c(204.4,556.6),2,1)\n",
        "Xbar2 = matrix(c(130.0,355.0),2,1)\n",
        "S1 = matrix(c(13825.3,23823.4,23823.3,73107.4),2,2)\n",
        "S2 = matrix(c(8632.0,19616.7,19616.7,55964.5),2,2)\n",
        "n1=45\n",
        "n2=55\n",
        "p=2\n",
        "S = (1/n1)*S1+(1/n2)*S2\n",
        "#######################################\n",
        "L1 = (Xbar1[1]-Xbar2[1])-(sqrt(qchisq(1-0.05,p))*sqrt(S[1,1]))\n",
        "U1 = (Xbar1[1]-Xbar2[1])+(sqrt(qchisq(1-0.05,p))*sqrt(S[1,1]))\n",
        "########################################\n",
        "L2 = (Xbar1[2]-Xbar2[2])-(sqrt(qchisq(1-0.05,p))*sqrt(S[2,2]))\n",
        "U2 = (Xbar1[2]-Xbar2[2])+(sqrt(qchisq(1-0.05,p))*sqrt(S[2,2]))\n",
        "########################################\n",
        "paste(\"The lower bound L1: \",L1, \"/ The upper bound U1: \",U1)\n",
        "paste(\"The lower bound L2: \",L2, \"/ The upper bound U2: \",U2)"
      ],
      "execution_count": 80,
      "outputs": [
        {
          "output_type": "display_data",
          "data": {
            "text/plain": [
              "[1] \"The lower bound L1:  21.664014919943 / The upper bound U1:  127.135985080057\""
            ],
            "text/latex": "'The lower bound L1:  21.664014919943 / The upper bound U1:  127.135985080057'",
            "text/markdown": "<span style=white-space:pre-wrap>'The lower bound L1:  21.664014919943 / The upper bound U1:  127.135985080057'</span>",
            "text/html": [
              "<span style=white-space:pre-wrap>'The lower bound L1:  21.664014919943 / The upper bound U1:  127.135985080057'</span>"
            ]
          },
          "metadata": {}
        },
        {
          "output_type": "display_data",
          "data": {
            "text/plain": [
              "[1] \"The lower bound L2:  75.7814019756431 / The upper bound U2:  327.418598024357\""
            ],
            "text/latex": "'The lower bound L2:  75.7814019756431 / The upper bound U2:  327.418598024357'",
            "text/markdown": "<span style=white-space:pre-wrap>'The lower bound L2:  75.7814019756431 / The upper bound U2:  327.418598024357'</span>",
            "text/html": [
              "<span style=white-space:pre-wrap>'The lower bound L2:  75.7814019756431 / The upper bound U2:  327.418598024357'</span>"
            ]
          },
          "metadata": {}
        }
      ]
    },
    {
      "cell_type": "markdown",
      "metadata": {
        "id": "OCtXetpM65qo"
      },
      "source": [
        "### 3.4 Testing of Equality of Covariance Matrices"
      ]
    },
    {
      "cell_type": "markdown",
      "metadata": {
        "id": "zKJ9CoJo7V0X"
      },
      "source": [
        "#### Example 3.10"
      ]
    },
    {
      "cell_type": "code",
      "metadata": {
        "colab": {
          "base_uri": "https://localhost:8080/",
          "height": 68
        },
        "id": "FeNsWhBZ5PdQ",
        "outputId": "2a07fad5-9181-452b-d8e7-d9dda8c6e58e"
      },
      "source": [
        "Xbar1 = matrix(c(8.3,4.1),2,1)\n",
        "Xbar2 = matrix(c(10.2,3.9),2,1)\n",
        "S1 = matrix(c(2,1,1,6),2,2)\n",
        "S2 = matrix(c(2,1,1,4),2,2)\n",
        "n1 = 50\n",
        "n2 = 50\n",
        "Sp = ((n1-1)*S1+(n2-1)*S2)/(n1+n2-2)\n",
        "p=2\n",
        "g=2\n",
        "alpha=0.05\n",
        "#################################################################\n",
        "lnM = ((1/2)*(((n1-1)*log(det(S1)))+(n2-1)*log(det(S2))))-((1/2)*(n1-1+n2-1)*log(det(Sp)))\n",
        "paste(\"lnM:\",lnM)\n",
        "#################################################################\n",
        "c1 = ((1/(n1-1))+(1/(n2-1))-(1/(n1+n2-2)))*(((2*(p^2))+(3*p)-1)/(6*(p+1)*(g-1)))\n",
        "paste(\"c1:\",c1)\n",
        "##########################################################\n",
        "U = -2*(1-c1)*lnM\n",
        "cri_val = qchisq(1-0.05,3)\n",
        "if( U < cri_val){\n",
        "    paste(\"Since U =\",U, \"< critical value = \",cri_val,\",then do not reject H0\")\n",
        "}else if( U == cri_val){\n",
        "    paste(\"Since U =\",U, \"= critical value = \",cri_val,\",then do not reject H0\")\n",
        "}else{\n",
        "    paste(\"Since U =\",U, \"> critical value = \",cri_val,\",then  reject H0\")\n",
        "}"
      ],
      "execution_count": 83,
      "outputs": [
        {
          "output_type": "display_data",
          "data": {
            "text/plain": [
              "[1] \"lnM: -1.2407714540595\""
            ],
            "text/latex": "'lnM: -1.2407714540595'",
            "text/markdown": "'lnM: -1.2407714540595'",
            "text/html": [
              "'lnM: -1.2407714540595'"
            ]
          },
          "metadata": {}
        },
        {
          "output_type": "display_data",
          "data": {
            "text/plain": [
              "[1] \"c1: 0.022108843537415\""
            ],
            "text/latex": "'c1: 0.022108843537415'",
            "text/markdown": "'c1: 0.022108843537415'",
            "text/html": [
              "'c1: 0.022108843537415'"
            ]
          },
          "metadata": {}
        },
        {
          "output_type": "display_data",
          "data": {
            "text/plain": [
              "[1] \"Since U = 2.42667886423201 < critical value =  7.81472790325118 ,then do not reject H0\""
            ],
            "text/latex": "'Since U = 2.42667886423201 < critical value =  7.81472790325118 ,then do not reject H0'",
            "text/markdown": "<span style=white-space:pre-wrap>'Since U = 2.42667886423201 &lt; critical value =  7.81472790325118 ,then do not reject H0'</span>",
            "text/html": [
              "<span style=white-space:pre-wrap>'Since U = 2.42667886423201 &lt; critical value =  7.81472790325118 ,then do not reject H0'</span>"
            ]
          },
          "metadata": {}
        }
      ]
    },
    {
      "cell_type": "code",
      "metadata": {
        "colab": {
          "base_uri": "https://localhost:8080/",
          "height": 68
        },
        "id": "C2wT2mWk89gZ",
        "outputId": "1c15667c-b6fd-4fe5-ec89-0db77cdde354"
      },
      "source": [
        "c1 = ((1/(n1-1))+(1/(n2-1))-(1/(n1+n2-2)))*(((2*(p^2))+(3*p)-1)/(6*(p+1)*(g-1)))\n",
        "paste(\"c1:\",c1)\n",
        "c2 = (((1/((n1-1)^2))/((1/(n2-1)^2)))-(1/(((n1-1)+(n2-1))^2)))*(((p-1)*(p+2))/(6*(g-1)))\n",
        "paste(\"c2:\",c2)\n",
        "a1 = (1/2)*(g-1)*p*(p+1)\n",
        "a2 = (a1+2)/abs(c2-(c1^2))\n",
        "b1 = (1-c1-(a1/a2))/a1\n",
        "b2 = (1-c1+(2/a2))/a2\n",
        "if(c2 > c1^2){\n",
        "    F = -2*b1*lnM\n",
        "}else if(c2 < c1^2){\n",
        "    F = (-2*a2*b2*lnM)/(a1*(1+(2*b2*lnM)))\n",
        "}else{\n",
        "    F=NULL\n",
        "}\n",
        "cri_val = qf(1-0.05,a1,a2)\n",
        "if(is.null(F)==0){\n",
        "    if( F < cri_val){\n",
        "           paste(\"Since F =\",F, \"< critical value = \",cri_val,\",then do not reject H0\")\n",
        "     }else if( F == cri_val){\n",
        "           paste(\"Since F =\",F, \"= critical value = \",cri_val,\",then do not reject H0\")\n",
        "     }else{\n",
        "           paste(\"Since F =\",F, \"> critical value = \",cri_val,\",then  reject H0\")\n",
        "      }\n",
        "}else{\n",
        "    print(\"We can't conclude the distribution of F.\")\n",
        "}"
      ],
      "execution_count": 84,
      "outputs": [
        {
          "output_type": "display_data",
          "data": {
            "text/plain": [
              "[1] \"c1: 0.022108843537415\""
            ],
            "text/latex": "'c1: 0.022108843537415'",
            "text/markdown": "'c1: 0.022108843537415'",
            "text/html": [
              "'c1: 0.022108843537415'"
            ]
          },
          "metadata": {}
        },
        {
          "output_type": "display_data",
          "data": {
            "text/plain": [
              "[1] \"c2: 0.666597251145356\""
            ],
            "text/latex": "'c2: 0.666597251145356'",
            "text/markdown": "'c2: 0.666597251145356'",
            "text/html": [
              "'c2: 0.666597251145356'"
            ]
          },
          "metadata": {}
        },
        {
          "output_type": "display_data",
          "data": {
            "text/plain": [
              "[1] \"Since F = 0.478297614626154 < critical value =  4.19267052460948 ,then do not reject H0\""
            ],
            "text/latex": "'Since F = 0.478297614626154 < critical value =  4.19267052460948 ,then do not reject H0'",
            "text/markdown": "<span style=white-space:pre-wrap>'Since F = 0.478297614626154 &lt; critical value =  4.19267052460948 ,then do not reject H0'</span>",
            "text/html": [
              "<span style=white-space:pre-wrap>'Since F = 0.478297614626154 &lt; critical value =  4.19267052460948 ,then do not reject H0'</span>"
            ]
          },
          "metadata": {}
        }
      ]
    },
    {
      "cell_type": "code",
      "metadata": {
        "id": "_Q-Iyagu-Svw"
      },
      "source": [
        ""
      ],
      "execution_count": null,
      "outputs": []
    }
  ]
}