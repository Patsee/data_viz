{
  "nbformat": 4,
  "nbformat_minor": 0,
  "metadata": {
    "colab": {
      "name": "ทดสอบโค้ด multi",
      "provenance": [],
      "authorship_tag": "ABX9TyMF+i07GtWSIP6X6sA7Lkhh",
      "include_colab_link": true
    },
    "kernelspec": {
      "name": "ir",
      "display_name": "R"
    },
    "language_info": {
      "name": "R"
    }
  },
  "cells": [
    {
      "cell_type": "markdown",
      "metadata": {
        "id": "view-in-github",
        "colab_type": "text"
      },
      "source": [
        "<a href=\"https://colab.research.google.com/github/Patsee/data_viz/blob/main/%E0%B8%97%E0%B8%94%E0%B8%AA%E0%B8%AD%E0%B8%9A%E0%B9%82%E0%B8%84%E0%B9%89%E0%B8%94_multi.ipynb\" target=\"_parent\"><img src=\"https://colab.research.google.com/assets/colab-badge.svg\" alt=\"Open In Colab\"/></a>"
      ]
    },
    {
      "cell_type": "markdown",
      "metadata": {
        "id": "uQDV-qEtnJ4B"
      },
      "source": [
        "###  SC614211 แบบฝึกหัดบทที่ 1"
      ]
    },
    {
      "cell_type": "markdown",
      "metadata": {
        "id": "QlofhxJbnldA"
      },
      "source": [
        "### ข้อ 1"
      ]
    },
    {
      "cell_type": "code",
      "metadata": {
        "colab": {
          "base_uri": "https://localhost:8080/"
        },
        "id": "FMgi9XWjnOWy",
        "outputId": "711225e4-476a-476f-cf03-b32fcb10bf59"
      },
      "source": [
        "A1 = matrix(c(1,-1,4,1,1,3,4,3,2),3,3)\n",
        "B1 = matrix(c(3,7,2,-2,1,3,4,0,5),3,3)\n",
        "x1 = matrix(c(1,-1,2),3,1)\n",
        "y1 = matrix(c(3,2,1),3,1)\n",
        "print(A1)\n",
        "print(B1)\n",
        "print(x1)\n",
        "print(y1)"
      ],
      "execution_count": 53,
      "outputs": [
        {
          "output_type": "stream",
          "name": "stdout",
          "text": [
            "     [,1] [,2] [,3]\n",
            "[1,]    1    1    4\n",
            "[2,]   -1    1    3\n",
            "[3,]    4    3    2\n",
            "     [,1] [,2] [,3]\n",
            "[1,]    3   -2    4\n",
            "[2,]    7    1    0\n",
            "[3,]    2    3    5\n",
            "     [,1]\n",
            "[1,]    1\n",
            "[2,]   -1\n",
            "[3,]    2\n",
            "     [,1]\n",
            "[1,]    3\n",
            "[2,]    2\n",
            "[3,]    1\n"
          ]
        }
      ]
    },
    {
      "cell_type": "code",
      "metadata": {
        "colab": {
          "base_uri": "https://localhost:8080/"
        },
        "id": "bvFMvmGsnQmr",
        "outputId": "0776d4fa-eee3-4150-e8d8-e41b0d2da435"
      },
      "source": [
        "Ax1 = A1%*%x1\n",
        "print(Ax1)"
      ],
      "execution_count": 54,
      "outputs": [
        {
          "output_type": "stream",
          "name": "stdout",
          "text": [
            "     [,1]\n",
            "[1,]    8\n",
            "[2,]    4\n",
            "[3,]    5\n"
          ]
        }
      ]
    },
    {
      "cell_type": "code",
      "metadata": {
        "colab": {
          "base_uri": "https://localhost:8080/"
        },
        "id": "AnlFi82TnTj5",
        "outputId": "90181c7c-d4be-482b-b0de-a56b47289f5d"
      },
      "source": [
        "tran_x1 = t(x1)\n",
        "print(tran_x1)"
      ],
      "execution_count": 55,
      "outputs": [
        {
          "output_type": "stream",
          "name": "stdout",
          "text": [
            "     [,1] [,2] [,3]\n",
            "[1,]    1   -1    2\n"
          ]
        }
      ]
    },
    {
      "cell_type": "code",
      "metadata": {
        "colab": {
          "base_uri": "https://localhost:8080/"
        },
        "id": "KYpMJHhSnXAZ",
        "outputId": "7b68a540-91bc-4e45-8f7f-d26a264c57db"
      },
      "source": [
        "x_tran_A1x = print(tran_x1%*%Ax1)\n",
        "x_tran_y = print(tran_x1%*%y1)\n",
        "B_tran = t(B1)\n",
        "print(B_tran)"
      ],
      "execution_count": 56,
      "outputs": [
        {
          "output_type": "stream",
          "name": "stdout",
          "text": [
            "     [,1]\n",
            "[1,]   14\n",
            "     [,1]\n",
            "[1,]    3\n",
            "     [,1] [,2] [,3]\n",
            "[1,]    3    7    2\n",
            "[2,]   -2    1    3\n",
            "[3,]    4    0    5\n"
          ]
        }
      ]
    },
    {
      "cell_type": "markdown",
      "metadata": {
        "id": "zji4Le_1no6K"
      },
      "source": [
        "### ข้อ 2 พิสูจน์"
      ]
    },
    {
      "cell_type": "code",
      "metadata": {
        "colab": {
          "base_uri": "https://localhost:8080/"
        },
        "id": "IRizPYfOnfSQ",
        "outputId": "22ba7ce9-ddc4-4db4-a53e-c87927a4a2aa"
      },
      "source": [
        "A2 = matrix(c(5,2,3,4,-3,7,4,1,2),3,3)\n",
        "B2 = matrix(c(1,0,1,0,1,2,1,0,3),3,3)\n",
        "print(A2)\n",
        "print(B2)"
      ],
      "execution_count": 57,
      "outputs": [
        {
          "output_type": "stream",
          "name": "stdout",
          "text": [
            "     [,1] [,2] [,3]\n",
            "[1,]    5    4    4\n",
            "[2,]    2   -3    1\n",
            "[3,]    3    7    2\n",
            "     [,1] [,2] [,3]\n",
            "[1,]    1    0    1\n",
            "[2,]    0    1    0\n",
            "[3,]    1    2    3\n"
          ]
        }
      ]
    },
    {
      "cell_type": "code",
      "metadata": {
        "colab": {
          "base_uri": "https://localhost:8080/"
        },
        "id": "3ojm4ZzpnuHw",
        "outputId": "99c09ab8-5756-48c4-cd81-7d97bac8dffe"
      },
      "source": [
        "A2_x_B2 = print(A2%*%B2)\n",
        "print(abs(A2_x_B2))"
      ],
      "execution_count": 58,
      "outputs": [
        {
          "output_type": "stream",
          "name": "stdout",
          "text": [
            "     [,1] [,2] [,3]\n",
            "[1,]    9   12   17\n",
            "[2,]    3   -1    5\n",
            "[3,]    5   11    9\n",
            "     [,1] [,2] [,3]\n",
            "[1,]    9   12   17\n",
            "[2,]    3    1    5\n",
            "[3,]    5   11    9\n"
          ]
        }
      ]
    },
    {
      "cell_type": "code",
      "metadata": {
        "colab": {
          "base_uri": "https://localhost:8080/"
        },
        "id": "FKYKUnZonyWB",
        "outputId": "235dad56-cded-4e09-810c-0b8be6b8887d"
      },
      "source": [
        "absA2 = abs(A2)\n",
        "absB2 = abs(B2)\n",
        "ABSA2_x_B2 = print(absA2%*%absB2)"
      ],
      "execution_count": 59,
      "outputs": [
        {
          "output_type": "stream",
          "name": "stdout",
          "text": [
            "     [,1] [,2] [,3]\n",
            "[1,]    9   12   17\n",
            "[2,]    3    5    5\n",
            "[3,]    5   11    9\n"
          ]
        }
      ]
    },
    {
      "cell_type": "markdown",
      "metadata": {
        "id": "2zT2pu12n7lw"
      },
      "source": [
        "### ข้อ 2.2"
      ]
    },
    {
      "cell_type": "code",
      "metadata": {
        "colab": {
          "base_uri": "https://localhost:8080/"
        },
        "id": "m1V557Mrn2tR",
        "outputId": "80d53ee7-c447-44b8-bae2-5f332624c192"
      },
      "source": [
        "AB2_tran = t(A2%*%B2)\n",
        "print(AB2_tran)"
      ],
      "execution_count": 60,
      "outputs": [
        {
          "output_type": "stream",
          "name": "stdout",
          "text": [
            "     [,1] [,2] [,3]\n",
            "[1,]    9    3    5\n",
            "[2,]   12   -1   11\n",
            "[3,]   17    5    9\n"
          ]
        }
      ]
    },
    {
      "cell_type": "code",
      "metadata": {
        "colab": {
          "base_uri": "https://localhost:8080/"
        },
        "id": "ss95hf1Kn_H5",
        "outputId": "dafd4a04-5585-4a4a-9c82-18cb85900576"
      },
      "source": [
        "A2_tran = print(t(A2))\n",
        "B2_tran = print(t(B2))"
      ],
      "execution_count": 61,
      "outputs": [
        {
          "output_type": "stream",
          "name": "stdout",
          "text": [
            "     [,1] [,2] [,3]\n",
            "[1,]    5    2    3\n",
            "[2,]    4   -3    7\n",
            "[3,]    4    1    2\n",
            "     [,1] [,2] [,3]\n",
            "[1,]    1    0    1\n",
            "[2,]    0    1    2\n",
            "[3,]    1    0    3\n"
          ]
        }
      ]
    },
    {
      "cell_type": "code",
      "metadata": {
        "colab": {
          "base_uri": "https://localhost:8080/"
        },
        "id": "tgIxmn4roBMw",
        "outputId": "701f2d2c-3f64-43b7-a99b-22bb22fb44f1"
      },
      "source": [
        "print(A2_tran%*%B2_tran) # ไม่เท่ากัน"
      ],
      "execution_count": 62,
      "outputs": [
        {
          "output_type": "stream",
          "name": "stdout",
          "text": [
            "     [,1] [,2] [,3]\n",
            "[1,]    8    2   18\n",
            "[2,]   11   -3   19\n",
            "[3,]    6    1   12\n"
          ]
        }
      ]
    },
    {
      "cell_type": "markdown",
      "metadata": {
        "id": "mzMtANF9oFV4"
      },
      "source": [
        "### ข้อ 3"
      ]
    },
    {
      "cell_type": "code",
      "metadata": {
        "colab": {
          "base_uri": "https://localhost:8080/"
        },
        "id": "e5v2YAR4oDJA",
        "outputId": "becd42a5-4186-4df0-e7fd-19537be350b4"
      },
      "source": [
        "S = matrix(c(140.5,49.68,1.94,49.68,72.25,3.68,1.94,3.68,0.25),3,3)\n",
        "print(S)\n",
        "V = matrix(c(1/11.853270,0,0,0,0.117,0,0,0,2),3,3)\n",
        "print(V)"
      ],
      "execution_count": 63,
      "outputs": [
        {
          "output_type": "stream",
          "name": "stdout",
          "text": [
            "       [,1]  [,2] [,3]\n",
            "[1,] 140.50 49.68 1.94\n",
            "[2,]  49.68 72.25 3.68\n",
            "[3,]   1.94  3.68 0.25\n",
            "           [,1]  [,2] [,3]\n",
            "[1,] 0.08436491 0.000    0\n",
            "[2,] 0.00000000 0.117    0\n",
            "[3,] 0.00000000 0.000    2\n"
          ]
        }
      ]
    },
    {
      "cell_type": "code",
      "metadata": {
        "colab": {
          "base_uri": "https://localhost:8080/"
        },
        "id": "hZb1UpIPoJGJ",
        "outputId": "bde0722f-48b3-45f7-c1b7-0fa833021c4d"
      },
      "source": [
        "print(V%*%S%*%V)"
      ],
      "execution_count": 64,
      "outputs": [
        {
          "output_type": "stream",
          "name": "stdout",
          "text": [
            "          [,1]      [,2]      [,3]\n",
            "[1,] 0.9999999 0.4903761 0.3273358\n",
            "[2,] 0.4903761 0.9890303 0.8611200\n",
            "[3,] 0.3273358 0.8611200 1.0000000\n"
          ]
        }
      ]
    },
    {
      "cell_type": "markdown",
      "metadata": {
        "id": "4zYan5cUoTQs"
      },
      "source": [
        "### ข้อ 4"
      ]
    },
    {
      "cell_type": "code",
      "metadata": {
        "colab": {
          "base_uri": "https://localhost:8080/"
        },
        "id": "V6sjXUfHoPyh",
        "outputId": "56f6d81c-953d-40c1-b322-557cb138b152"
      },
      "source": [
        "V_mean = matrix(c(-2,3,-1,5),4,1)\n",
        "A4 = matrix(c(11,-8,3,9,-8,9,-3,-6,3,-3,2,3,9,-6,3,9),4,4)\n",
        "print(V_mean)\n",
        "print(A4)"
      ],
      "execution_count": 65,
      "outputs": [
        {
          "output_type": "stream",
          "name": "stdout",
          "text": [
            "     [,1]\n",
            "[1,]   -2\n",
            "[2,]    3\n",
            "[3,]   -1\n",
            "[4,]    5\n",
            "     [,1] [,2] [,3] [,4]\n",
            "[1,]   11   -8    3    9\n",
            "[2,]   -8    9   -3   -6\n",
            "[3,]    3   -3    2    3\n",
            "[4,]    9   -6    3    9\n"
          ]
        }
      ]
    },
    {
      "cell_type": "code",
      "metadata": {
        "colab": {
          "base_uri": "https://localhost:8080/"
        },
        "id": "NYd3rDg4oVr5",
        "outputId": "a867596b-9bf6-48fb-e33b-fbd399ce5e21"
      },
      "source": [
        "Z = matrix(c(3,-1,2,1,-3,2,-4,1,4,-1,-2,-5),3,4)\n",
        "print(Z)"
      ],
      "execution_count": 66,
      "outputs": [
        {
          "output_type": "stream",
          "name": "stdout",
          "text": [
            "     [,1] [,2] [,3] [,4]\n",
            "[1,]    3    1   -4   -1\n",
            "[2,]   -1   -3    1   -2\n",
            "[3,]    2    2    4   -5\n"
          ]
        }
      ]
    },
    {
      "cell_type": "code",
      "metadata": {
        "colab": {
          "base_uri": "https://localhost:8080/"
        },
        "id": "zwD7K-JMof_B",
        "outputId": "03b77223-7001-4abb-d067-b644678835b1"
      },
      "source": [
        "Z_tran = t(Z)\n",
        "print(Z_tran)"
      ],
      "execution_count": 67,
      "outputs": [
        {
          "output_type": "stream",
          "name": "stdout",
          "text": [
            "     [,1] [,2] [,3]\n",
            "[1,]    3   -1    2\n",
            "[2,]    1   -3    2\n",
            "[3,]   -4    1    4\n",
            "[4,]   -1   -2   -5\n"
          ]
        }
      ]
    },
    {
      "cell_type": "code",
      "metadata": {
        "colab": {
          "base_uri": "https://localhost:8080/"
        },
        "id": "Xa1vKHxBovzh",
        "outputId": "1c84fd4b-24a5-4b5a-bc2c-2fe42eff45a5"
      },
      "source": [
        "ΣZ  = print(Z%*%A4%*%Z_tran)"
      ],
      "execution_count": 68,
      "outputs": [
        {
          "output_type": "stream",
          "name": "stdout",
          "text": [
            "     [,1] [,2] [,3]\n",
            "[1,]   35  -18   -6\n",
            "[2,]  -18   46   14\n",
            "[3,]   -6   14   93\n"
          ]
        }
      ]
    },
    {
      "cell_type": "code",
      "metadata": {
        "colab": {
          "base_uri": "https://localhost:8080/"
        },
        "id": "_KVWMe8boxqB",
        "outputId": "e5bc138d-dd2a-4a61-bd18-8a2cfdbf602c"
      },
      "source": [
        "μ_vector_z = print(Z%*%V_mean)"
      ],
      "execution_count": 69,
      "outputs": [
        {
          "output_type": "stream",
          "name": "stdout",
          "text": [
            "     [,1]\n",
            "[1,]   -4\n",
            "[2,]  -18\n",
            "[3,]  -27\n"
          ]
        }
      ]
    },
    {
      "cell_type": "code",
      "metadata": {
        "colab": {
          "base_uri": "https://localhost:8080/"
        },
        "id": "Hr_MfWwYpUOB",
        "outputId": "202272ff-a442-46aa-eb65-5ccf7e3dfb09"
      },
      "source": [
        "install.packages(\"mvtnorm\")\n",
        "library(\"mvtnorm\")"
      ],
      "execution_count": 70,
      "outputs": [
        {
          "output_type": "stream",
          "name": "stderr",
          "text": [
            "Installing package into ‘/usr/local/lib/R/site-library’\n",
            "(as ‘lib’ is unspecified)\n",
            "\n"
          ]
        }
      ]
    },
    {
      "cell_type": "code",
      "metadata": {
        "colab": {
          "base_uri": "https://localhost:8080/"
        },
        "id": "odEzAAHdpnp5",
        "outputId": "413f5d78-54d3-43c7-9264-dbe5e66374b2"
      },
      "source": [
        "mu = c(5,10)\n",
        "sigma = matrix(c(3,2,2,6),2,2)\n",
        "print(mu)\n",
        "print(sigma)"
      ],
      "execution_count": 71,
      "outputs": [
        {
          "output_type": "stream",
          "name": "stdout",
          "text": [
            "[1]  5 10\n",
            "     [,1] [,2]\n",
            "[1,]    3    2\n",
            "[2,]    2    6\n"
          ]
        }
      ]
    },
    {
      "cell_type": "code",
      "metadata": {
        "colab": {
          "base_uri": "https://localhost:8080/",
          "height": 237
        },
        "id": "iTYcSkkUpqQ4",
        "outputId": "e14f6298-e585-4d11-8c39-ee41f00e353a"
      },
      "source": [
        "x = rmvnorm(1000, mean = mu ,sigma = sigma)\n",
        "head(x)"
      ],
      "execution_count": 72,
      "outputs": [
        {
          "output_type": "display_data",
          "data": {
            "text/plain": [
              "     [,1]     [,2]     \n",
              "[1,] 4.902167 11.062144\n",
              "[2,] 5.043077  9.569041\n",
              "[3,] 3.852582  9.701505\n",
              "[4,] 7.480695 12.387136\n",
              "[5,] 4.303844  9.749854\n",
              "[6,] 6.800429 12.639200"
            ],
            "text/latex": "A matrix: 6 × 2 of type dbl\n\\begin{tabular}{ll}\n\t 4.902167 & 11.062144\\\\\n\t 5.043077 &  9.569041\\\\\n\t 3.852582 &  9.701505\\\\\n\t 7.480695 & 12.387136\\\\\n\t 4.303844 &  9.749854\\\\\n\t 6.800429 & 12.639200\\\\\n\\end{tabular}\n",
            "text/markdown": "\nA matrix: 6 × 2 of type dbl\n\n| 4.902167 | 11.062144 |\n| 5.043077 |  9.569041 |\n| 3.852582 |  9.701505 |\n| 7.480695 | 12.387136 |\n| 4.303844 |  9.749854 |\n| 6.800429 | 12.639200 |\n\n",
            "text/html": [
              "<table class=\"dataframe\">\n",
              "<caption>A matrix: 6 × 2 of type dbl</caption>\n",
              "<tbody>\n",
              "\t<tr><td>4.902167</td><td>11.062144</td></tr>\n",
              "\t<tr><td>5.043077</td><td> 9.569041</td></tr>\n",
              "\t<tr><td>3.852582</td><td> 9.701505</td></tr>\n",
              "\t<tr><td>7.480695</td><td>12.387136</td></tr>\n",
              "\t<tr><td>4.303844</td><td> 9.749854</td></tr>\n",
              "\t<tr><td>6.800429</td><td>12.639200</td></tr>\n",
              "</tbody>\n",
              "</table>\n"
            ]
          },
          "metadata": {}
        }
      ]
    },
    {
      "cell_type": "code",
      "metadata": {
        "colab": {
          "base_uri": "https://localhost:8080/",
          "height": 136
        },
        "id": "LM4IyMm5pwoZ",
        "outputId": "39b09d12-a053-47af-9b38-63101d54b5c6"
      },
      "source": [
        "summary(x)"
      ],
      "execution_count": 73,
      "outputs": [
        {
          "output_type": "display_data",
          "data": {
            "text/plain": [
              "       V1                V2        \n",
              " Min.   :-0.8159   Min.   : 2.776  \n",
              " 1st Qu.: 3.8435   1st Qu.: 8.353  \n",
              " Median : 5.0100   Median : 9.890  \n",
              " Mean   : 5.0115   Mean   : 9.933  \n",
              " 3rd Qu.: 6.1481   3rd Qu.:11.683  \n",
              " Max.   :11.6025   Max.   :17.623  "
            ]
          },
          "metadata": {}
        }
      ]
    },
    {
      "cell_type": "code",
      "metadata": {
        "colab": {
          "base_uri": "https://localhost:8080/",
          "height": 437
        },
        "id": "IhAfJLBOp4aG",
        "outputId": "67a10702-52a4-4cb0-9d77-4ebd9acab343"
      },
      "source": [
        "plot(x[,1],x[,2])"
      ],
      "execution_count": 74,
      "outputs": [
        {
          "output_type": "display_data",
          "data": {
            "image/png": "[encoded data removed]",
            "text/plain": [
              "plot without title"
            ]
          },
          "metadata": {
            "image/png": {
              "width": 420,
              "height": 420
            }
          }
        }
      ]
    },
    {
      "cell_type": "code",
      "metadata": {
        "colab": {
          "base_uri": "https://localhost:8080/"
        },
        "id": "-sMDZNs4p69T",
        "outputId": "b77312f4-ccd0-421e-cc28-702a42bf4fb8"
      },
      "source": [
        "x_maha = mahalanobis(x, colMeans(x),cov(x))\n",
        "print(x_maha)"
      ],
      "execution_count": 75,
      "outputs": [
        {
          "output_type": "stream",
          "name": "stdout",
          "text": [
            "   [1]  0.310965127  0.031746236  0.511991924  2.144480597  0.185211999\n",
            "   [6]  1.525732635  0.096546687  1.009050477  9.839060863  3.473535897\n",
            "  [11]  3.219611616  1.197978199  0.553308093  1.569736830  1.618644476\n",
            "  [16]  1.652727239  0.559985777  0.406858566  0.924621108  2.848245200\n",
            "  [21]  0.423188693  0.095392034  0.107962828  6.273806587  0.150177088\n",
            "  [26]  2.783920402  1.248480071  1.747799920  0.236048251  0.987573742\n",
            "  [31]  3.679720865  8.631196284  7.552533944  0.288090573  0.390004114\n",
            "  [36]  3.535787845  0.708945324  1.065132380  6.576472102  0.386376172\n",
            "  [41]  1.251260413  3.499316716  2.223885712  4.574949816  2.031345533\n",
            "  [46]  1.611599518  2.106849815  0.166655884  0.553100682  3.790609745\n",
            "  [51]  0.437778850  0.045281824  1.598453349  1.664561398  0.684213513\n",
            "  [56]  2.600281668  3.186016132  0.385351550  0.581262131  2.225849274\n",
            "  [61]  2.614831186  1.528998018  0.409654399  0.713117094  0.443669470\n",
            "  [66]  3.523460810  2.993401215  0.734746986  1.796109169  1.135498171\n",
            "  [71]  1.984897593  1.205616582  2.540331084  3.258791486  2.541361341\n",
            "  [76]  4.357459153  1.343589416  0.948699667  0.154041857  0.186768097\n",
            "  [81]  3.644696438  0.169512766  1.071905549  1.312686369  4.883764316\n",
            "  [86]  0.745431130  1.340641604  1.343051951  2.936307147  1.264883980\n",
            "  [91]  4.542922592  0.083249013  0.125087877  2.733451876  0.335911755\n",
            "  [96]  4.145497407  2.526682094  3.648873329  7.290368358  0.748119586\n",
            " [101]  0.796574582  2.477187311  1.732028431  3.422099248  1.774445451\n",
            " [106]  2.145174127  1.739071000  1.771708897  0.632629649  0.254621172\n",
            " [111]  0.489166290  2.053933097  0.319206813  5.338137381  4.531152174\n",
            " [116]  3.049041928  1.389813639  2.249382805  1.022424846  0.836167907\n",
            " [121]  1.312388428  0.071153985  1.878633792  0.327144016  9.880301626\n",
            " [126]  1.973310257  4.683247455  0.474056350  2.354306565  4.174061437\n",
            " [131]  3.755236707  1.105247519  0.057498932  0.245512203  3.920762433\n",
            " [136]  0.615920471  3.645375576  1.184024365  3.412988849  2.253839381\n",
            " [141]  0.018018819  2.089422119  0.478178016  0.002496885  1.263346585\n",
            " [146]  2.541463818  0.507280074  0.182976926  5.162180106  1.420191354\n",
            " [151]  0.886214301  7.207501510  0.326246108  0.625669138  0.736093652\n",
            " [156]  0.741442217  0.996931057  1.164335705  2.453172301  0.154601807\n",
            " [161]  1.965749293  0.708558856  2.434082196  1.072474700  2.278176103\n",
            " [166]  5.140209793  2.994442459  0.533791454  0.960478157  0.290510863\n",
            " [171]  3.322254624  6.173013213  2.940949380  7.709073143  1.044695049\n",
            " [176]  0.119299840  2.462836445  2.503179268  0.648580756  2.091969957\n",
            " [181]  0.666177046  1.615806730  7.318383371  1.558374760  6.496014227\n",
            " [186]  2.168945321  1.704642433  1.184863542  7.099157551  4.787759410\n",
            " [191]  2.945492023  0.691067278  0.928986257  4.221812292  5.035305101\n",
            " [196]  1.036687797  1.486840413  5.462825489  2.791027160  0.300404819\n",
            " [201]  3.101458903  2.191320015  2.157294161  4.834754596  1.766354141\n",
            " [206]  4.856073666  6.597895779  0.975554077  0.186415130  0.789540035\n",
            " [211]  0.035756364  0.944016888  1.809582491  1.868274168  0.831046549\n",
            " [216]  2.373749195  2.300952587  0.332311188  1.244243183  5.974677481\n",
            " [221]  2.631830612  5.603336358  1.306087073  3.835093099  0.227406577\n",
            " [226]  0.064657550  3.167812866  0.317871397  0.411006733  2.055410874\n",
            " [231]  2.540598741  1.202460224  0.797505834  1.498640453  2.405182361\n",
            " [236]  4.529864028  2.357349457  0.779652274  3.504200853  0.540461803\n",
            " [241]  0.338051008  3.759727557  1.229013562  0.329237979  1.935845870\n",
            " [246]  1.643202174  4.659207225  5.581724172  5.155349791  0.333135503\n",
            " [251]  6.873930065  3.851276766  0.256147379  3.127637427  0.383781388\n",
            " [256]  5.300477128  0.443538257  2.476117015  3.198562460  0.153649724\n",
            " [261]  1.998537601  1.731166627  0.146292013  4.072186922  0.401573695\n",
            " [266]  3.399728272  1.639570627  0.342261439  4.348447694  3.903955993\n",
            " [271]  1.084780092  0.401146823  1.291165421  0.274573447  2.611935989\n",
            " [276]  3.222859973  0.471497394  1.210153136  0.369046886  0.480436180\n",
            " [281]  1.245033699  0.716332276  1.964688160  1.572710014  0.804036883\n",
            " [286]  1.878666450  4.228111580  3.242842065  1.860418726  0.476838695\n",
            " [291]  0.164799226  0.354463738  5.577134402  1.100255310  1.315335745\n",
            " [296]  2.452771924  0.558616090  0.200949725  0.247017889  1.030156274\n",
            " [301]  0.709956865  0.656642335  1.352779030  1.647912543  0.447126485\n",
            " [306]  0.562960414  1.053451917  0.029003196  0.342378482  4.406635966\n",
            " [311]  0.038875826  3.754872174  1.638264927  2.268036492  2.169668691\n",
            " [316]  0.071638490  0.173568965  3.436225364  8.310469716  0.946074715\n",
            " [321]  0.945055515  2.578388057  1.639787235  2.750491316  3.344192352\n",
            " [326]  4.114814441  0.099000017  0.073124779  0.356945230  0.797913283\n",
            " [331]  0.169285990  1.758323952  2.533847860  1.823096208  0.564755192\n",
            " [336]  5.478277889  2.398391955  2.026705808  0.612380894  6.786371093\n",
            " [341]  5.673191703  1.964645993  0.335074360  0.566941153  0.578328269\n",
            " [346]  2.835630553  2.768999375  0.744826878  3.042824351  0.299470089\n",
            " [351]  3.983450727  0.542502597  0.640163278  0.510247644  1.328532966\n",
            " [356]  0.694764346  8.513200469  2.579578975  3.823579180  4.886854104\n",
            " [361]  0.575414148  1.107948463  0.057036274  7.707012331  1.364295273\n",
            " [366]  0.560025256  2.219869717  0.678908586  1.576022584  2.244895901\n",
            " [371]  2.719347961  0.534691852  1.143092514  2.819942834  0.185323467\n",
            " [376]  4.718580037  0.383195587  3.413537132  1.338366470  8.336276024\n",
            " [381]  0.262822509  0.440691498  0.080097747  3.293329951  0.368383570\n",
            " [386]  0.383669896  1.334836568  3.140718717  0.071323485  4.002600365\n",
            " [391]  0.850929364  1.219016416  2.954663891  0.137931157  1.248581150\n",
            " [396]  0.927310958  1.503333372  4.080071680  0.361590145  0.452941001\n",
            " [401]  1.975553504  3.257139326  0.438785705  9.067450368  0.212301915\n",
            " [406]  0.307207605  1.529075510  0.009795268  0.503336639  0.012168631\n",
            " [411]  0.297889017  1.246037889  1.185727816  0.469526786  4.486138369\n",
            " [416]  3.124991491  1.698284235  0.029675385  0.159745320  0.969292856\n",
            " [421]  2.253210157  6.481573093  2.896048530  0.429833025  2.780218200\n",
            " [426]  1.460575070  2.533947101  3.283706655  3.675632955  0.073535721\n",
            " [431]  0.054862828  0.232887057  7.955570294  0.403927197  3.071268531\n",
            " [436]  2.767803869  0.643052922  1.050357520  4.269726103  0.192452759\n",
            " [441]  5.247189779  0.363933969  0.741280203  0.131977532  0.019265782\n",
            " [446]  0.038003920  2.858253611 14.613035655  1.127742296  2.562985203\n",
            " [451]  2.422892478  0.633162639  1.546962135  0.714531361  2.855479868\n",
            " [456]  4.116211648  1.540072533  2.722944414  2.052984460  0.778447221\n",
            " [461]  0.891518974  2.645097482  0.330914914  0.690482348  0.398855359\n",
            " [466]  4.562958847  0.718232024  5.110090679  9.926743533  0.350415676\n",
            " [471]  2.218547356  0.045154025  1.765556626  0.972796618  1.008594739\n",
            " [476]  1.450197660  0.877111583  0.064600740  4.754713471  1.580833529\n",
            " [481]  0.727271280  0.430730287  0.096400195  1.181737905  3.660205102\n",
            " [486]  2.988782740  3.862572204  7.371739341  0.876998297  2.560889579\n",
            " [491]  0.649296876  3.069400020  3.629275831  0.108067987  0.426054630\n",
            " [496]  0.967968578  4.921530194  1.475219894  0.005315423  1.696313429\n",
            " [501]  0.139576496  3.184203914  0.161229472  0.924148928  0.834205974\n",
            " [506]  1.475631592  0.218719145  2.738646541  2.935971199  0.417433050\n",
            " [511]  1.219282966  4.701353648  1.148327656  2.129585912  7.707679405\n",
            " [516]  0.408141107  1.665136396  0.699616585  2.522268114  0.124473597\n",
            " [521]  0.961796734  3.464260921  1.409723247  4.610740696  0.407897697\n",
            " [526]  0.436290662  0.332231068  1.083636672  0.503528357  6.186610412\n",
            " [531]  0.813655180  4.243757775  1.618987388  1.262328554  0.167719341\n",
            " [536]  2.218655806  4.306511886  0.295560746  1.912595433  0.276817559\n",
            " [541]  0.439293300  0.053839762  0.878535423  0.048261469  1.998977031\n",
            " [546]  3.741957411  0.427895129  0.329802857  2.078052033  0.745652397\n",
            " [551]  3.415039141  1.306814268  2.308101698  0.923833042  2.837629960\n",
            " [556]  2.180727941  1.557978547  0.089697336  0.297985550  0.181242295\n",
            " [561]  1.847948931  2.368715938  1.462830253  2.033541740  3.735540326\n",
            " [566]  1.250139038  0.447238897  1.544445579  0.369585480  2.493324755\n",
            " [571]  0.259825794  0.152748323  7.786302770  0.551262197  4.379758845\n",
            " [576]  5.826460152  0.606958324  4.988758306  0.161969839  1.085196292\n",
            " [581]  0.394500014  0.263208907  1.144619000  0.099643976  1.708133408\n",
            " [586]  3.040504222  0.852994652  0.973314519  3.004136916  5.077911953\n",
            " [591]  1.800287134  1.133739239  6.043586165  0.393284125  4.083055531\n",
            " [596]  3.791211052  0.070605425  1.882535512  0.488038950  0.103409598\n",
            " [601]  1.130436431  0.465478627  0.100827154  3.578239844  1.243044059\n",
            " [606]  0.884011734  2.053852998  1.005462913  2.510542874  2.796939437\n",
            " [611]  0.206302632  3.133046810  0.838395466  0.478639067  0.391029740\n",
            " [616]  0.657927738  5.982184332  0.877459574  1.699263293  0.960874823\n",
            " [621]  1.173960772  0.682913620  5.151611529  0.804146746  1.665792862\n",
            " [626]  1.866840909  0.057815461  0.708764005  1.683317592  1.176825125\n",
            " [631]  1.837165934  0.434925116  0.498821581  0.305479432  0.554500705\n",
            " [636]  1.394091859  1.775043597  1.564120857  0.490002421  1.666698766\n",
            " [641]  0.796135628  4.497500584  0.143870320  1.274133681  0.378061224\n",
            " [646]  5.304125113  3.767113510  6.769607304  0.569047644  4.294621954\n",
            " [651]  0.229688275  0.226428624  3.201716093  0.018175918  6.788873183\n",
            " [656]  2.816026059  2.724067311  1.207126416  2.524512171  3.582891925\n",
            " [661]  4.478067283  1.477096237  0.022884641  2.119959159  0.210665640\n",
            " [666]  0.058855802  0.933594813  2.303771491  2.949100567  1.034993764\n",
            " [671]  0.112976893  2.501600541  0.972830345  0.621159938  0.920356136\n",
            " [676]  0.073002541  0.827846303  1.385464387  2.586602805  1.839585825\n",
            " [681] 11.446754306  1.170652890  2.079094585  1.593045287  5.247839767\n",
            " [686]  0.073993513  0.231546419  1.418732047  0.987844302  0.248758462\n",
            " [691]  0.758713264  2.282365064  0.411520509  2.209614550  0.641020128\n",
            " [696]  0.484383899  0.858576537  2.315341198  1.967923714  0.228128890\n",
            " [701]  2.773815769  0.873922027  0.667968269  6.133017669  3.145187487\n",
            " [706]  0.243092835  2.120382999  0.820095106  0.962829627  2.139643118\n",
            " [711]  1.119943957  1.965536563  1.373202578  1.212080255  1.615740817\n",
            " [716]  1.595029865  1.601072276  3.029639946  0.100638452  0.170653510\n",
            " [721]  5.688022513  1.874396867  0.647072329  1.322816947  1.352946604\n",
            " [726]  6.215866692  4.636793638  4.232055986  0.327368385  0.066899921\n",
            " [731]  0.035508519  2.591246416  2.510222498  2.671822452  5.584781570\n",
            " [736]  3.808727669  1.396847478  2.633479576  1.433405489  0.434839654\n",
            " [741]  0.828228666  3.301119086  3.227505369  0.268874564  4.200935762\n",
            " [746]  0.814815884  0.497115036  0.732567232  1.348386317  1.905978458\n",
            " [751]  0.827907431  2.925072056  0.052523878  4.453239751  2.888259498\n",
            " [756]  0.267541188  1.377094613  5.849085373  4.506501013  1.483557367\n",
            " [761]  3.424065035  4.728287706  1.454447628  2.348503194  3.758498520\n",
            " [766]  6.341200809  0.788011950  0.003596221  0.467727390  3.046228223\n",
            " [771]  3.532033609  0.449503588  3.311808828  2.573029602  3.376889681\n",
            " [776]  1.604618269  4.250657748  0.553027218  0.801058299  2.680662670\n",
            " [781]  1.191746849  8.852293633  1.680728713  7.050801185  0.777403350\n",
            " [786]  4.535053371  5.439228669  3.479392327  0.350749832  1.173219800\n",
            " [791]  2.348823472  0.218541365  0.654868680  1.383266123  1.414199680\n",
            " [796]  1.211151432  1.744148437  0.974164064  1.769310545  0.434983149\n",
            " [801]  2.545721910  0.202884195  2.446419068  0.996155430  2.235346472\n",
            " [806]  1.909932187  3.043416326  3.304860689  0.626644094  0.552359464\n",
            " [811]  2.417486509  1.406352759  1.292692763  0.916945317  0.583036671\n",
            " [816]  0.934719024  1.042496087  0.431663358  3.864102077  5.058100480\n",
            " [821]  5.456776024  2.308754782  0.852433077  0.652920632  2.734639781\n",
            " [826]  3.857415301  1.337153385  6.860851712  0.171837030  2.246830408\n",
            " [831]  1.191446072  1.540139185  1.652868475  0.019605423  4.311654977\n",
            " [836]  3.684554484  0.006986480  3.354930179  3.061878911  0.948471615\n",
            " [841]  3.196798333  1.101229297  5.168947486  2.558705205  0.341445302\n",
            " [846]  1.824656066  1.901272569  0.081898196  0.328166731  3.111080150\n",
            " [851]  0.449003548  2.202128658  0.739799763  0.732000422  0.511317248\n",
            " [856]  0.911023712  2.519255960  1.472672474  9.239926863  0.338998159\n",
            " [861]  6.806908920  2.203427855  7.636078377  4.392664011  0.297440787\n",
            " [866]  2.628557579  3.059818228  4.936508139  0.158049662  0.670445410\n",
            " [871]  1.233331154  1.949617556  0.095902682  0.794016031  0.582973854\n",
            " [876]  1.427497732  6.335685474  4.581491065  4.922678864  1.498999199\n",
            " [881]  9.943208330  1.879460108  2.533535692  4.708839610  1.871200771\n",
            " [886]  1.009163142  0.794356955  0.589775285  1.415143637  0.728634914\n",
            " [891]  0.528505943  0.130050803  8.037278107  0.925177108  2.000437788\n",
            " [896]  1.165692525  4.196653437  5.800941849  3.481393964  1.602999399\n",
            " [901]  5.040016398  0.089295387  0.726447492  0.996252232  1.309961024\n",
            " [906]  0.551327601  0.139325753  0.283773270  0.977583698  2.484116476\n",
            " [911]  0.535271351  0.705550364  0.492359944  2.775224534  0.541255688\n",
            " [916]  3.307706912  2.142955174  3.801251064  1.240801869  0.916391329\n",
            " [921]  4.980844200  4.349670363  1.496731530  2.301592398  3.862766615\n",
            " [926]  2.137775680  5.459888179  0.518985856  1.203008402  3.644693519\n",
            " [931]  1.314115437  1.789444674  0.797060279  3.958895402  2.800234994\n",
            " [936]  1.708284261  4.493485246  6.668917418  1.432834057  3.939852746\n",
            " [941]  0.893985978  1.874786103  3.557450072  0.599918542  1.654091031\n",
            " [946]  4.624102281  0.782389550  1.109212996  2.126097548  0.822584966\n",
            " [951]  1.353783862  5.404942210  0.357551951  6.363612555  3.495159098\n",
            " [956]  1.053752256  3.116865444  0.063263572  0.055963915  0.541514684\n",
            " [961]  0.188501828  0.325877130  2.724251606  0.427239177  1.746655415\n",
            " [966]  6.341207081  2.393612177  2.133624793  0.230847239  0.120757200\n",
            " [971]  3.499445872  0.681194037  1.048682557  1.029050255  0.427280665\n",
            " [976]  0.363601191  0.542255807  1.107160058  1.958717757  1.155233745\n",
            " [981]  1.311970520  0.497599754  1.522794968  0.233192545  0.003359125\n",
            " [986]  1.233261691  3.897201497  3.303900176  0.710669115  0.400850779\n",
            " [991]  0.201398478  0.286028929  1.021614302  0.983166818  0.620787834\n",
            " [996]  5.125111538  1.209764222  1.056925675  3.105558208  0.280367759\n"
          ]
        }
      ]
    },
    {
      "cell_type": "code",
      "metadata": {
        "colab": {
          "base_uri": "https://localhost:8080/"
        },
        "id": "nBwDIG0jqD3w",
        "outputId": "42213d22-39ea-4b6b-e529-14521a998dc1"
      },
      "source": [
        "x_pval = pchisq(x_maha, df=2,lower.tail = FALSE)\n",
        "print(x_pval)"
      ],
      "execution_count": 76,
      "outputs": [
        {
          "output_type": "stream",
          "name": "stdout",
          "text": [
            "   [1] 0.856002002 0.984252196 0.774145095 0.342240936 0.911552582 0.466327866\n",
            "   [7] 0.952873290 0.603792165 0.007302559 0.176088609 0.199926434 0.549366711\n",
            "  [13] 0.758316794 0.456179724 0.445159676 0.437637814 0.755789116 0.815927902\n",
            "  [19] 0.629826714 0.240719578 0.809292924 0.953423568 0.947449716 0.043417040\n",
            "  [25] 0.927661344 0.248587545 0.535668363 0.417320837 0.888674612 0.610310844\n",
            "  [31] 0.158839593 0.013358557 0.022908048 0.865848536 0.822832966 0.170692101\n",
            "  [37] 0.701543296 0.587096434 0.037319621 0.824326915 0.534924209 0.173833322\n",
            "  [43] 0.328919297 0.101522492 0.362158700 0.446730507 0.348741295 0.920049375\n",
            "  [49] 0.758395440 0.150272514 0.803410550 0.977613470 0.449676576 0.435055922\n",
            "  [55] 0.710272374 0.272493414 0.203313112 0.824749335 0.747791513 0.328596529\n",
            "  [61] 0.270518283 0.465567118 0.814788100 0.700081483 0.801047739 0.171747414\n",
            "  [67] 0.223867570 0.692550934 0.407361377 0.566799822 0.370667889 0.547272575\n",
            "  [73] 0.280785136 0.196048002 0.280640533 0.113185233 0.510791034 0.622289517\n",
            "  [79] 0.925870476 0.910843625 0.161645725 0.918736077 0.585111545 0.518744825\n",
            "  [85] 0.086996955 0.688861141 0.511544447 0.510928319 0.230350418 0.531292804\n",
            "  [91] 0.103161321 0.959229897 0.939371787 0.254940285 0.845391135 0.125839411\n",
            "  [97] 0.282707906 0.161308489 0.026116599 0.687935777 0.671469093 0.289791478\n",
            " [103] 0.420624732 0.180676051 0.411797842 0.342122279 0.419146198 0.412361681\n",
            " [109] 0.728829961 0.880460172 0.783030881 0.358091568 0.852481811 0.069316751\n",
            " [115] 0.103770237 0.217725330 0.499120954 0.324752670 0.599767965 0.658306959\n",
            " [121] 0.518822108 0.965048430 0.390894766 0.849105354 0.007153519 0.372821648\n",
            " [127] 0.096171355 0.788969059 0.308154721 0.124054944 0.152953955 0.575438017\n",
            " [133] 0.971659868 0.884479360 0.140804734 0.734944542 0.161590845 0.553212998\n",
            " [139] 0.181500944 0.324029833 0.991031054 0.351793452 0.787344799 0.998752337\n",
            " [145] 0.531701364 0.280626154 0.775971073 0.912571845 0.075691451 0.491597161\n",
            " [151] 0.642038409 0.027221430 0.849486649 0.731370894 0.692084773 0.690236416\n",
            " [157] 0.607462078 0.558685904 0.293292126 0.925611292 0.374233761 0.701678871\n",
            " [163] 0.296105018 0.584945060 0.320110813 0.076527518 0.223751050 0.765752915\n",
            " [169] 0.618635472 0.864801368 0.189924755 0.045661189 0.229816368 0.021183418\n",
            " [175] 0.593126533 0.942094284 0.291878336 0.286049721 0.723040257 0.351345581\n",
            " [181] 0.716706746 0.445791750 0.025753321 0.458778673 0.038851557 0.338080022\n",
            " [187] 0.426423960 0.552980925 0.028736742 0.091274876 0.229294973 0.707842520\n",
            " [193] 0.628453570 0.121128157 0.080648703 0.595505950 0.475484875 0.065127217\n",
            " [199] 0.247705787 0.860533779 0.212093206 0.334318881 0.340055282 0.089155138\n",
            " [205] 0.413467208 0.088209833 0.036921993 0.613989754 0.911004388 0.673834992\n",
            " [211] 0.982280685 0.623748246 0.404626344 0.392924780 0.659994832 0.305173565\n",
            " [217] 0.316485993 0.846914449 0.536804349 0.050421443 0.268228699 0.060708705\n",
            " [223] 0.520459327 0.146967097 0.892522738 0.968188214 0.205172040 0.853051210\n",
            " [229] 0.814237353 0.357827076 0.280747562 0.548136951 0.671156512 0.472687764\n",
            " [235] 0.300414774 0.103837094 0.307686236 0.677174600 0.173409327 0.763203249\n",
            " [241] 0.844487365 0.152610893 0.540907615 0.848216822 0.379871237 0.439727049\n",
            " [247] 0.097334322 0.061368286 0.075950391 0.846565459 0.032162148 0.145782662\n",
            " [253] 0.879788545 0.209335152 0.825397084 0.070634360 0.801100294 0.289946601\n",
            " [259] 0.202041687 0.926052026 0.368148533 0.420806019 0.929465112 0.130537667\n",
            " [265] 0.818086790 0.182708346 0.440526219 0.842711407 0.113696365 0.141992932\n",
            " [271] 0.581357120 0.818261418 0.524356905 0.871720248 0.270910169 0.199601982\n",
            " [277] 0.789979173 0.546032616 0.831500447 0.786456324 0.536592215 0.698956942\n",
            " [283] 0.374432370 0.455502075 0.668968409 0.390888383 0.120747246 0.197617678\n",
            " [289] 0.394471114 0.787872230 0.920903880 0.837585552 0.061509281 0.576876164\n",
            " [295] 0.518058104 0.293350845 0.756306891 0.904407847 0.883813736 0.597453909\n",
            " [301] 0.701188566 0.720131700 0.508449431 0.438692630 0.799664318 0.754665853\n",
            " [307] 0.590535245 0.985603044 0.842662092 0.110436125 0.980749785 0.152981835\n",
            " [313] 0.440813911 0.321737834 0.337957765 0.964814673 0.916874677 0.179404422\n",
            " [319] 0.015682108 0.623106793 0.623424409 0.275492733 0.440478511 0.252777491\n",
            " [325] 0.187852880 0.127784859 0.951705150 0.964097942 0.836546966 0.671019795\n",
            " [331] 0.918840256 0.415130655 0.281696810 0.401901557 0.753988928 0.064625969\n",
            " [337] 0.301436476 0.362999833 0.736246390 0.033601467 0.058624895 0.374440264\n",
            " [343] 0.845745172 0.753165282 0.748889277 0.242242672 0.250449071 0.689069295\n",
            " [349] 0.218403245 0.860936056 0.136459780 0.762424876 0.726089757 0.774820552\n",
            " [355] 0.514650895 0.706535258 0.014170397 0.275328737 0.147815620 0.086862658\n",
            " [361] 0.749981249 0.574661429 0.971884667 0.021205257 0.505530131 0.755774198\n",
            " [367] 0.329580430 0.712158847 0.454748258 0.325482055 0.256744467 0.765408251\n",
            " [373] 0.564651667 0.244150262 0.911501779 0.094487284 0.825638879 0.181451194\n",
            " [379] 0.512126694 0.015481059 0.876857089 0.802241376 0.960742483 0.192691469\n",
            " [385] 0.831776266 0.825443098 0.513031371 0.207970433 0.964966646 0.135159437\n",
            " [391] 0.653466061 0.543618150 0.228245849 0.933358807 0.535641291 0.628980214\n",
            " [397] 0.471579922 0.130024051 0.834606375 0.797342863 0.372403717 0.196210020\n",
            " [403] 0.803006193 0.010740591 0.899288883 0.857611737 0.465549079 0.995114340\n",
            " [409] 0.777502578 0.993934157 0.861616926 0.536322862 0.552742014 0.790757926\n",
            " [415] 0.106132264 0.209612279 0.427781761 0.985271843 0.923233903 0.615914929\n",
            " [421] 0.324131793 0.039133103 0.235034195 0.806608779 0.249048132 0.481770444\n",
            " [427] 0.281682832 0.193620867 0.159164586 0.963899869 0.972941411 0.890080360\n",
            " [433] 0.018727071 0.817124672 0.215319078 0.250598823 0.725041445 0.591449627\n",
            " [439] 0.118260785 0.908258382 0.072541614 0.833628863 0.690292332 0.936141381\n",
            " [445] 0.990413357 0.981177439 0.239517977 0.000671150 0.569002103 0.277622611\n",
            " [451] 0.297766327 0.728635757 0.461404091 0.699586607 0.239850388 0.127695619\n",
            " [457] 0.462996277 0.256283197 0.358261458 0.677582739 0.640337763 0.266455310\n",
            " [463] 0.847505918 0.708049570 0.819199464 0.102132997 0.698293336 0.077688710\n",
            " [469] 0.006989322 0.839282568 0.329798414 0.977675941 0.413632114 0.614836864\n",
            " [475] 0.603929766 0.484276705 0.644967216 0.968215716 0.092795537 0.453655688\n",
            " [481] 0.695144431 0.806246990 0.952943086 0.553845810 0.160397118 0.224385131\n",
            " [487] 0.144961643 0.025075358 0.645003750 0.277913660 0.722781411 0.215520335\n",
            " [493] 0.162896880 0.947399901 0.808134063 0.616322885 0.085369610 0.478255607\n",
            " [499] 0.997345817 0.428203506 0.932591277 0.203497419 0.922549048 0.629975428\n",
            " [505] 0.658953053 0.478157169 0.896408036 0.254278979 0.230389114 0.811625278\n",
            " [511] 0.543545704 0.095304636 0.563175584 0.344799236 0.021198185 0.815404840\n",
            " [517] 0.434930862 0.704823197 0.283332529 0.939660350 0.618227747 0.176907115\n",
            " [523] 0.494176952 0.099721862 0.815504084 0.804008586 0.846948377 0.581689583\n",
            " [529] 0.777428051 0.045351809 0.665758964 0.119806314 0.445083357 0.531972078\n",
            " [535] 0.919560288 0.329780531 0.116105509 0.862620549 0.384313091 0.870742677\n",
            " [541] 0.802802418 0.973439229 0.644508214 0.976158084 0.368067654 0.153972894\n",
            " [547] 0.807390720 0.847977286 0.353799109 0.688784934 0.181314974 0.520270124\n",
            " [553] 0.315356716 0.630074936 0.242000623 0.336094143 0.458869569 0.956142166\n",
            " [559] 0.861575340 0.913363676 0.396938284 0.305942541 0.481227510 0.361761230\n",
            " [565] 0.154467716 0.535224219 0.799619373 0.461985031 0.831276557 0.287462639\n",
            " [571] 0.878171919 0.926469493 0.020381016 0.759092910 0.111930244 0.054300053\n",
            " [577] 0.738245273 0.082547685 0.922207599 0.581236152 0.820985356 0.876687697\n",
            " [583] 0.564220865 0.951398770 0.425680291 0.218656754 0.652791611 0.614677672\n",
            " [589] 0.222669102 0.078948781 0.406511294 0.567298522 0.048713792 0.821484621\n",
            " [595] 0.129830209 0.150227341 0.965313160 0.390132928 0.783472376 0.949609151\n",
            " [601] 0.568236135 0.792360104 0.950836099 0.167107172 0.537126293 0.642745864\n",
            " [607] 0.358105910 0.604876208 0.284998479 0.246974616 0.901990478 0.208769730\n",
            " [613] 0.657574158 0.787163317 0.822411114 0.719669019 0.050232544 0.644855004\n",
            " [619] 0.427572401 0.618512788 0.556003669 0.710734163 0.076092485 0.668931662\n",
            " [625] 0.434788127 0.393206463 0.971506101 0.701606901 0.430994997 0.555207943\n",
            " [631] 0.399084156 0.804557729 0.779259795 0.858353108 0.757864740 0.498054421\n",
            " [637] 0.411674702 0.457462471 0.782703591 0.434591234 0.671616481 0.105531025\n",
            " [643] 0.930591233 0.528841327 0.827761167 0.070505641 0.152048344 0.033884295\n",
            " [649] 0.752372432 0.116797808 0.891505085 0.892959268 0.201723356 0.990953212\n",
            " [655] 0.033559457 0.244628871 0.256139348 0.546859586 0.283014800 0.166718926\n",
            " [661] 0.106561431 0.477807131 0.988622894 0.346462885 0.900024926 0.971000883\n",
            " [667] 0.627007105 0.316040236 0.228881636 0.596010567 0.945077403 0.286275607\n",
            " [673] 0.614826495 0.733021703 0.631171244 0.964156869 0.661051750 0.500207537\n",
            " [679] 0.274363502 0.398601578 0.003268653 0.556924027 0.353614730 0.450894161\n",
            " [685] 0.072518043 0.963679261 0.890677197 0.491955987 0.610228287 0.883044899\n",
            " [691] 0.684301525 0.319441049 0.814028212 0.331274721 0.725778749 0.784905501\n",
            " [697] 0.650972247 0.314217267 0.373827112 0.892200456 0.249846666 0.645996616\n",
            " [703] 0.716065143 0.046583502 0.207506266 0.885549948 0.346389470 0.663618692\n",
            " [709] 0.617908548 0.343069730 0.571225070 0.374273569 0.503283681 0.545506735\n",
            " [715] 0.445806442 0.450446966 0.449088126 0.219847760 0.950925816 0.918212205\n",
            " [721] 0.058191775 0.391723740 0.723585789 0.516123875 0.508406832 0.044693225\n",
            " [727] 0.098431262 0.120509343 0.849010103 0.967103303 0.982402419 0.273727222\n",
            " [733] 0.285044136 0.262918488 0.061274544 0.148917349 0.497368669 0.268007641\n",
            " [739] 0.488359851 0.804592109 0.660925381 0.191942479 0.199138905 0.874207706\n",
            " [745] 0.122399147 0.665372701 0.779925000 0.693306141 0.509567395 0.385586692\n",
            " [751] 0.661031546 0.231648063 0.974079906 0.107892505 0.235951324 0.874790724\n",
            " [757] 0.502305235 0.053689239 0.105057180 0.476266035 0.180498553 0.094029769\n",
            " [763] 0.483248718 0.309050187 0.152704704 0.041978386 0.674350027 0.998203505\n",
            " [769] 0.791469690 0.218031853 0.171012811 0.798714440 0.190919308 0.276231830\n",
            " [775] 0.184806705 0.448292600 0.119393696 0.758423298 0.669965440 0.261758924\n",
            " [781] 0.551081028 0.011960487 0.431553255 0.029440012 0.677936485 0.103568020\n",
            " [787] 0.065900165 0.175573738 0.839142354 0.556209699 0.309000700 0.896487721\n",
            " [793] 0.720770616 0.500757633 0.493072114 0.545760133 0.418083453 0.614416629\n",
            " [799] 0.412856472 0.804534384 0.280029323 0.903533495 0.294284135 0.607697706\n",
            " [805] 0.327039855 0.384825192 0.218338610 0.191583728 0.731014454 0.758676560\n",
            " [811] 0.298572273 0.495010463 0.523956621 0.632248568 0.747128314 0.626654760\n",
            " [817] 0.593779023 0.805870935 0.144850799 0.079734713 0.065324507 0.315253756\n",
            " [823] 0.652974933 0.721473006 0.254788907 0.145335902 0.512437415 0.032373152\n",
            " [829] 0.917669004 0.325167383 0.551163910 0.462980847 0.437606910 0.990245179\n",
            " [835] 0.115807322 0.158456172 0.996512854 0.186847017 0.216332337 0.622360478\n",
            " [841] 0.202219979 0.576595298 0.075435768 0.278217359 0.843055362 0.401588224\n",
            " [847] 0.386495024 0.959877988 0.848671269 0.211075355 0.798914160 0.332516988\n",
            " [853] 0.690803489 0.693502655 0.774406288 0.634123305 0.283759571 0.478865154\n",
            " [859] 0.009853156 0.844087532 0.033258182 0.332301055 0.021970839 0.111210330\n",
            " [865] 0.861810049 0.268668020 0.216555348 0.084732667 0.924016980 0.715178795\n",
            " [871] 0.539741166 0.377264488 0.953180167 0.672328637 0.747151781 0.489804540\n",
            " [877] 0.042094309 0.101190993 0.085320593 0.472602984 0.006932019 0.390733298\n",
            " [883] 0.281740781 0.094948579 0.392350233 0.603758152 0.672214040 0.744615246\n",
            " [889] 0.492839449 0.694670632 0.767779289 0.937043661 0.017977415 0.629651647\n",
            " [895] 0.367798923 0.558307015 0.122661504 0.054997314 0.175398109 0.448655611\n",
            " [901] 0.080458947 0.956334346 0.695430816 0.607668293 0.519452186 0.759068086\n",
            " [907] 0.932708205 0.867719620 0.613366987 0.288789209 0.765186507 0.702735163\n",
            " [913] 0.781781513 0.249670740 0.762900361 0.191311277 0.342502067 0.149475089\n",
            " [919] 0.537728800 0.632423721 0.082874978 0.113626880 0.473139142 0.316384764\n",
            " [925] 0.144947553 0.343390210 0.065222936 0.771442664 0.547986734 0.161645961\n",
            " [931] 0.518374296 0.408721070 0.671306048 0.138145514 0.246567991 0.425648185\n",
            " [937] 0.105743109 0.035633869 0.488499403 0.139467124 0.639548392 0.391647510\n",
            " [943] 0.168853292 0.740848394 0.437339492 0.099057861 0.676248427 0.574298204\n",
            " [949] 0.345401153 0.662793048 0.508194042 0.067039646 0.836293229 0.041510608\n",
            " [955] 0.174195064 0.590446571 0.210465671 0.968863265 0.972405911 0.762801574\n",
            " [961] 0.910054388 0.849643385 0.256115746 0.807655568 0.417559718 0.041978255\n",
            " [967] 0.302157737 0.344103637 0.890988624 0.941408049 0.173822097 0.711345509\n",
            " [973] 0.591945163 0.597784399 0.807638814 0.833767581 0.762518961 0.574888006\n",
            " [979] 0.375551796 0.561234267 0.518930529 0.779736001 0.467013327 0.889944416\n",
            " [985] 0.998321847 0.539759912 0.142473288 0.191675759 0.700938900 0.818382548\n",
            " [991] 0.904204942 0.866741532 0.600011084 0.611657124 0.733158096 0.077107420\n",
            " [997] 0.546138807 0.589510447 0.211658934 0.869198393\n"
          ]
        }
      ]
    },
    {
      "cell_type": "code",
      "metadata": {
        "colab": {
          "base_uri": "https://localhost:8080/"
        },
        "id": "Iudl9Ym-qOn6",
        "outputId": "2baa9e8d-0abd-4efe-b4ce-a49f9f6c47ef"
      },
      "source": [
        "df = data.frame(X1 = x[,1],X2 = x[,1])\n",
        "print(df)"
      ],
      "execution_count": 77,
      "outputs": [
        {
          "output_type": "stream",
          "name": "stdout",
          "text": [
            "              X1          X2\n",
            "1     4.90216696  4.90216696\n",
            "2     5.04307737  5.04307737\n",
            "3     3.85258169  3.85258169\n",
            "4     7.48069530  7.48069530\n",
            "5     4.30384389  4.30384389\n",
            "6     6.80042885  6.80042885\n",
            "7     5.52207752  5.52207752\n",
            "8     6.72672235  6.72672235\n",
            "9    -0.42977310 -0.42977310\n",
            "10    2.11458106  2.11458106\n",
            "11    2.19017732  2.19017732\n",
            "12    3.32968775  3.32968775\n",
            "13    3.85157759  3.85157759\n",
            "14    2.92836974  2.92836974\n",
            "15    5.15461885  5.15461885\n",
            "16    5.68869024  5.68869024\n",
            "17    5.72685414  5.72685414\n",
            "18    4.10006834  4.10006834\n",
            "19    4.42007418  4.42007418\n",
            "20    5.73357309  5.73357309\n",
            "21    4.76164459  4.76164459\n",
            "22    4.48428616  4.48428616\n",
            "23    4.44083115  4.44083115\n",
            "24    2.59518531  2.59518531\n",
            "25    4.71814535  4.71814535\n",
            "26    6.87997026  6.87997026\n",
            "27    6.91322434  6.91322434\n",
            "28    3.36195591  3.36195591\n",
            "29    5.52472926  5.52472926\n",
            "30    5.26100052  5.26100052\n",
            "31    7.97970754  7.97970754\n",
            "32    5.89688677  5.89688677\n",
            "33    8.95387077  8.95387077\n",
            "34    5.01133116  5.01133116\n",
            "35    5.72889545  5.72889545\n",
            "36    7.74582365  7.74582365\n",
            "37    6.14414989  6.14414989\n",
            "38    3.55084128  3.55084128\n",
            "39    6.24482563  6.24482563\n",
            "40    5.19951232  5.19951232\n",
            "41    5.01912539  5.01912539\n",
            "42    8.25784239  8.25784239\n",
            "43    7.04606095  7.04606095\n",
            "44    4.89993873  4.89993873\n",
            "45    3.03413803  3.03413803\n",
            "46    2.98865414  2.98865414\n",
            "47    7.14725449  7.14725449\n",
            "48    4.38544149  4.38544149\n",
            "49    6.28605601  6.28605601\n",
            "50    7.62024902  7.62024902\n",
            "51    3.94141328  3.94141328\n",
            "52    5.08360404  5.08360404\n",
            "53    7.20652415  7.20652415\n",
            "54    2.81561385  2.81561385\n",
            "55    6.11630336  6.11630336\n",
            "56    3.01400923  3.01400923\n",
            "57    2.05878942  2.05878942\n",
            "58    3.97728388  3.97728388\n",
            "59    6.22439525  6.22439525\n",
            "60    6.79284987  6.79284987\n",
            "61    7.81997695  7.81997695\n",
            "62    5.33827620  5.33827620\n",
            "63    3.90788333  3.90788333\n",
            "64    3.69953890  3.69953890\n",
            "65    5.26032472  5.26032472\n",
            "66    6.53513749  6.53513749\n",
            "67    2.38986377  2.38986377\n",
            "68    4.20023443  4.20023443\n",
            "69    5.46139956  5.46139956\n",
            "70    3.38478958  3.38478958\n",
            "71    2.61576934  2.61576934\n",
            "72    3.30445382  3.30445382\n",
            "73    3.24941752  3.24941752\n",
            "74    4.46000458  4.46000458\n",
            "75    2.47401747  2.47401747\n",
            "76    6.84018730  6.84018730\n",
            "77    4.16026521  4.16026521\n",
            "78    3.38183716  3.38183716\n",
            "79    5.18588893  5.18588893\n",
            "80    4.54418725  4.54418725\n",
            "81    6.66923600  6.66923600\n",
            "82    5.31018681  5.31018681\n",
            "83    4.60091755  4.60091755\n",
            "84    3.11884142  3.11884142\n",
            "85    1.34122424  1.34122424\n",
            "86    6.15607046  6.15607046\n",
            "87    6.45981495  6.45981495\n",
            "88    4.67349228  4.67349228\n",
            "89    4.30598138  4.30598138\n",
            "90    3.22690633  3.22690633\n",
            "91    3.36606513  3.36606513\n",
            "92    4.55566173  4.55566173\n",
            "93    5.05261696  5.05261696\n",
            "94    2.96642099  2.96642099\n",
            "95    5.80763867  5.80763867\n",
            "96    3.52370642  3.52370642\n",
            "97    4.32206462  4.32206462\n",
            "98    3.75345615  3.75345615\n",
            "99    3.43686576  3.43686576\n",
            "100   4.37871358  4.37871358\n",
            "101   4.54039470  4.54039470\n",
            "102   2.71075179  2.71075179\n",
            "103   4.37890157  4.37890157\n",
            "104   6.35216464  6.35216464\n",
            "105   3.36834556  3.36834556\n",
            "106   6.92294625  6.92294625\n",
            "107   4.31736449  4.31736449\n",
            "108   6.55171118  6.55171118\n",
            "109   3.77796375  3.77796375\n",
            "110   4.96713715  4.96713715\n",
            "111   3.93946413  3.93946413\n",
            "112   5.39454190  5.39454190\n",
            "113   4.08369382  4.08369382\n",
            "114   3.82380863  3.82380863\n",
            "115   7.99177836  7.99177836\n",
            "116   2.43108759  2.43108759\n",
            "117   2.99995291  2.99995291\n",
            "118   7.60477079  7.60477079\n",
            "119   4.61144133  4.61144133\n",
            "120   5.59010675  5.59010675\n",
            "121   4.78060400  4.78060400\n",
            "122   4.80238217  4.80238217\n",
            "123   3.27023165  3.27023165\n",
            "124   4.06579280  4.06579280\n",
            "125   6.84750388  6.84750388\n",
            "126   5.11894659  5.11894659\n",
            "127   4.43010838  4.43010838\n",
            "128   5.29041027  5.29041027\n",
            "129   7.62654686  7.62654686\n",
            "130   2.63787637  2.63787637\n",
            "131   4.55388565  4.55388565\n",
            "132   5.99457726  5.99457726\n",
            "133   4.59831145  4.59831145\n",
            "134   5.87216107  5.87216107\n",
            "135   8.30061722  8.30061722\n",
            "136   5.02456866  5.02456866\n",
            "137   5.71317222  5.71317222\n",
            "138   6.18374737  6.18374737\n",
            "139   3.38271528  3.38271528\n",
            "140   7.61642560  7.61642560\n",
            "141   5.22841699  5.22841699\n",
            "142   7.51544421  7.51544421\n",
            "143   5.16815578  5.16815578\n",
            "144   4.99217816  4.99217816\n",
            "145   4.30654567  4.30654567\n",
            "146   6.24736094  6.24736094\n",
            "147   6.14726988  6.14726988\n",
            "148   4.75125716  4.75125716\n",
            "149   6.50512257  6.50512257\n",
            "150   4.20632409  4.20632409\n",
            "151   3.39384518  3.39384518\n",
            "152   8.83592619  8.83592619\n",
            "153   4.02122198  4.02122198\n",
            "154   6.15057216  6.15057216\n",
            "155   4.20648680  4.20648680\n",
            "156   5.25756066  5.25756066\n",
            "157   3.40120805  3.40120805\n",
            "158   6.56508307  6.56508307\n",
            "159   5.77054030  5.77054030\n",
            "160   5.68443706  5.68443706\n",
            "161   7.13254695  7.13254695\n",
            "162   3.81621820  3.81621820\n",
            "163   2.30454903  2.30454903\n",
            "164   3.21617844  3.21617844\n",
            "165   4.72673982  4.72673982\n",
            "166   6.39724779  6.39724779\n",
            "167   3.54740531  3.54740531\n",
            "168   5.07743730  5.07743730\n",
            "169   5.61983362  5.61983362\n",
            "170   5.89918234  5.89918234\n",
            "171   7.42096908  7.42096908\n",
            "172   2.73546036  2.73546036\n",
            "173   7.98869329  7.98869329\n",
            "174   8.77644526  8.77644526\n",
            "175   3.32797865  3.32797865\n",
            "176   5.56053057  5.56053057\n",
            "177   2.30483431  2.30483431\n",
            "178   4.05112340  4.05112340\n",
            "179   5.97190323  5.97190323\n",
            "180   5.07375028  5.07375028\n",
            "181   5.68025490  5.68025490\n",
            "182   3.63751033  3.63751033\n",
            "183   8.84274077  8.84274077\n",
            "184   3.62332189  3.62332189\n",
            "185   2.91212546  2.91212546\n",
            "186   6.22692577  6.22692577\n",
            "187   7.26960244  7.26960244\n",
            "188   3.23711314  3.23711314\n",
            "189   1.04996804  1.04996804\n",
            "190   2.67369805  2.67369805\n",
            "191   7.94917536  7.94917536\n",
            "192   3.65683848  3.65683848\n",
            "193   3.52259336  3.52259336\n",
            "194   2.98706540  2.98706540\n",
            "195   8.88402370  8.88402370\n",
            "196   6.22581727  6.22581727\n",
            "197   6.32743259  6.32743259\n",
            "198   6.67337396  6.67337396\n",
            "199   3.79557011  3.79557011\n",
            "200   4.46586973  4.46586973\n",
            "201   6.55817008  6.55817008\n",
            "202   2.58978943  2.58978943\n",
            "203   4.86452615  4.86452615\n",
            "204   8.59139913  8.59139913\n",
            "205   3.73779006  3.73779006\n",
            "206   1.46406823  1.46406823\n",
            "207   1.43253602  1.43253602\n",
            "208   5.09837314  5.09837314\n",
            "209   5.71873094  5.71873094\n",
            "210   5.91293561  5.91293561\n",
            "211   4.97124916  4.97124916\n",
            "212   5.52003975  5.52003975\n",
            "213   2.72210634  2.72210634\n",
            "214   3.59188649  3.59188649\n",
            "215   5.88779855  5.88779855\n",
            "216   7.63700114  7.63700114\n",
            "217   2.63826334  2.63826334\n",
            "218   5.97336819  5.97336819\n",
            "219   4.06993060  4.06993060\n",
            "220   0.76570336  0.76570336\n",
            "221   7.46594690  7.46594690\n",
            "222   6.37533944  6.37533944\n",
            "223   5.42183832  5.42183832\n",
            "224   7.73427788  7.73427788\n",
            "225   5.05226303  5.05226303\n",
            "226   4.57004628  4.57004628\n",
            "227   6.55337885  6.55337885\n",
            "228   5.98548416  5.98548416\n",
            "229   5.89964854  5.89964854\n",
            "230   3.19270527  3.19270527\n",
            "231   6.39097228  6.39097228\n",
            "232   4.82707141  4.82707141\n",
            "233   4.46191654  4.46191654\n",
            "234   6.63346899  6.63346899\n",
            "235   7.68284565  7.68284565\n",
            "236   5.35749592  5.35749592\n",
            "237   2.36307160  2.36307160\n",
            "238   4.47933526  4.47933526\n",
            "239   5.72913728  5.72913728\n",
            "240   5.94124448  5.94124448\n",
            "241   5.97762050  5.97762050\n",
            "242   5.53086768  5.53086768\n",
            "243   4.29365905  4.29365905\n",
            "244   5.99046750  5.99046750\n",
            "245   5.38351714  5.38351714\n",
            "246   3.67649551  3.67649551\n",
            "247   5.08004601  5.08004601\n",
            "248   8.29721076  8.29721076\n",
            "249   2.80729018  2.80729018\n",
            "250   4.89323098  4.89323098\n",
            "251   1.04202024  1.04202024\n",
            "252   7.40849773  7.40849773\n",
            "253   5.67576925  5.67576925\n",
            "254   1.99241561  1.99241561\n",
            "255   4.99081478  4.99081478\n",
            "256   2.41008367  2.41008367\n",
            "257   5.15076945  5.15076945\n",
            "258   5.27016297  5.27016297\n",
            "259   8.11761342  8.11761342\n",
            "260   4.41839884  4.41839884\n",
            "261   2.94163268  2.94163268\n",
            "262   2.84786627  2.84786627\n",
            "263   4.43027237  4.43027237\n",
            "264   1.86480982  1.86480982\n",
            "265   6.03709859  6.03709859\n",
            "266   3.08173320  3.08173320\n",
            "267   7.06797990  7.06797990\n",
            "268   5.22950670  5.22950670\n",
            "269   6.25447308  6.25447308\n",
            "270   8.43814094  8.43814094\n",
            "271   3.59600855  3.59600855\n",
            "272   5.93091602  5.93091602\n",
            "273   4.63189804  4.63189804\n",
            "274   4.30664948  4.30664948\n",
            "275   3.60299351  3.60299351\n",
            "276   4.50042664  4.50042664\n",
            "277   6.06589555  6.06589555\n",
            "278   3.16790931  3.16790931\n",
            "279   4.30341098  4.30341098\n",
            "280   5.60501528  5.60501528\n",
            "281   6.32368929  6.32368929\n",
            "282   3.54199612  3.54199612\n",
            "283   6.84529158  6.84529158\n",
            "284   7.14097782  7.14097782\n",
            "285   4.28726172  4.28726172\n",
            "286   5.37497468  5.37497468\n",
            "287   8.28118527  8.28118527\n",
            "288   7.19909430  7.19909430\n",
            "289   6.44182016  6.44182016\n",
            "290   5.18085694  5.18085694\n",
            "291   4.58271501  4.58271501\n",
            "292   4.47529814  4.47529814\n",
            "293   0.95689127  0.95689127\n",
            "294   6.72968243  6.72968243\n",
            "295   4.67256579  4.67256579\n",
            "296   7.55721255  7.55721255\n",
            "297   6.30882135  6.30882135\n",
            "298   5.78222845  5.78222845\n",
            "299   4.80531072  4.80531072\n",
            "300   6.65452833  6.65452833\n",
            "301   4.12510865  4.12510865\n",
            "302   6.33838275  6.33838275\n",
            "303   5.96482052  5.96482052\n",
            "304   5.62476412  5.62476412\n",
            "305   6.02293933  6.02293933\n",
            "306   5.78541884  5.78541884\n",
            "307   4.04782637  4.04782637\n",
            "308   4.72080173  4.72080173\n",
            "309   5.13251047  5.13251047\n",
            "310   4.05124419  4.05124419\n",
            "311   5.32201485  5.32201485\n",
            "312   4.03936937  4.03936937\n",
            "313   3.34984582  3.34984582\n",
            "314   3.22314619  3.22314619\n",
            "315   7.42331541  7.42331541\n",
            "316   4.70540163  4.70540163\n",
            "317   4.78381220  4.78381220\n",
            "318   2.79690889  2.79690889\n",
            "319   0.04197666  0.04197666\n",
            "320   5.31065915  5.31065915\n",
            "321   6.28461353  6.28461353\n",
            "322   2.70652541  2.70652541\n",
            "323   2.83461602  2.83461602\n",
            "324   7.51064398  7.51064398\n",
            "325   7.11033928  7.11033928\n",
            "326   7.37625629  7.37625629\n",
            "327   5.41175289  5.41175289\n",
            "328   4.83456172  4.83456172\n",
            "329   3.98739226  3.98739226\n",
            "330   4.82338128  4.82338128\n",
            "331   4.62655288  4.62655288\n",
            "332   4.57022430  4.57022430\n",
            "333   3.82402623  3.82402623\n",
            "334   2.66945874  2.66945874\n",
            "335   6.01855182  6.01855182\n",
            "336   2.30931143  2.30931143\n",
            "337   2.85205548  2.85205548\n",
            "338   7.15606439  7.15606439\n",
            "339   4.94905299  4.94905299\n",
            "340   9.48965505  9.48965505\n",
            "341   8.02888314  8.02888314\n",
            "342   3.47891359  3.47891359\n",
            "343   4.14518797  4.14518797\n",
            "344   6.31396850  6.31396850\n",
            "345   4.05361237  4.05361237\n",
            "346   5.64934650  5.64934650\n",
            "347   5.26108669  5.26108669\n",
            "348   3.60349465  3.60349465\n",
            "349   2.21039557  2.21039557\n",
            "350   4.47505388  4.47505388\n",
            "351   6.70763768  6.70763768\n",
            "352   4.80629331  4.80629331\n",
            "353   5.33227814  5.33227814\n",
            "354   5.92289384  5.92289384\n",
            "355   3.73202495  3.73202495\n",
            "356   4.46030362  4.46030362\n",
            "357   8.94191777  8.94191777\n",
            "358   2.39472475  2.39472475\n",
            "359   5.90092360  5.90092360\n",
            "360   8.78854541  8.78854541\n",
            "361   5.97636057  5.97636057\n",
            "362   6.69727804  6.69727804\n",
            "363   5.03424023  5.03424023\n",
            "364   6.44663404  6.44663404\n",
            "365   5.48341546  5.48341546\n",
            "366   6.23439371  6.23439371\n",
            "367   3.86765277  3.86765277\n",
            "368   3.77231034  3.77231034\n",
            "369   6.42154876  6.42154876\n",
            "370   6.96512614  6.96512614\n",
            "371   7.03183185  7.03183185\n",
            "372   6.11782530  6.11782530\n",
            "373   3.64149656  3.64149656\n",
            "374   3.01953098  3.01953098\n",
            "375   5.25263810  5.25263810\n",
            "376   4.24058958  4.24058958\n",
            "377   4.37691254  4.37691254\n",
            "378   6.85811949  6.85811949\n",
            "379   6.85148472  6.85148472\n",
            "380   0.82236151  0.82236151\n",
            "381   4.14485893  4.14485893\n",
            "382   4.84478494  4.84478494\n",
            "383   5.01570096  5.01570096\n",
            "384   8.02398300  8.02398300\n",
            "385   4.01024636  4.01024636\n",
            "386   5.87998681  5.87998681\n",
            "387   6.59206223  6.59206223\n",
            "388   7.98608819  7.98608819\n",
            "389   5.46593629  5.46593629\n",
            "390   1.98107304  1.98107304\n",
            "391   5.23473218  5.23473218\n",
            "392   6.55527719  6.55527719\n",
            "393   5.65148379  5.65148379\n",
            "394   4.97048499  4.97048499\n",
            "395   4.53920548  4.53920548\n",
            "396   3.35538164  3.35538164\n",
            "397   7.11213083  7.11213083\n",
            "398   1.59925241  1.59925241\n",
            "399   5.68121832  5.68121832\n",
            "400   5.83857624  5.83857624\n",
            "401   7.03200899  7.03200899\n",
            "402   5.24396079  5.24396079\n",
            "403   4.17659777  4.17659777\n",
            "404  -0.21007984 -0.21007984\n",
            "405   4.57225656  4.57225656\n",
            "406   5.95633848  5.95633848\n",
            "407   4.44694836  4.44694836\n",
            "408   4.85566578  4.85566578\n",
            "409   3.78018444  3.78018444\n",
            "410   5.14971788  5.14971788\n",
            "411   4.83998419  4.83998419\n",
            "412   3.27873228  3.27873228\n",
            "413   3.41077377  3.41077377\n",
            "414   6.04417763  6.04417763\n",
            "415   8.67788319  8.67788319\n",
            "416   2.40038916  2.40038916\n",
            "417   5.20696310  5.20696310\n",
            "418   5.04561294  5.04561294\n",
            "419   4.43786862  4.43786862\n",
            "420   5.40245619  5.40245619\n",
            "421   2.94050747  2.94050747\n",
            "422   8.79736837  8.79736837\n",
            "423   2.94685762  2.94685762\n",
            "424   4.55806424  4.55806424\n",
            "425   4.60923347  4.60923347\n",
            "426   3.77840580  3.77840580\n",
            "427   2.38251616  2.38251616\n",
            "428   3.78977792  3.78977792\n",
            "429   2.99043125  2.99043125\n",
            "430   5.43521971  5.43521971\n",
            "431   4.61107055  4.61107055\n",
            "432   5.71864489  5.71864489\n",
            "433   8.26110549  8.26110549\n",
            "434   5.61149603  5.61149603\n",
            "435   6.74016548  6.74016548\n",
            "436   4.32832689  4.32832689\n",
            "437   3.62953907  3.62953907\n",
            "438   5.76303427  5.76303427\n",
            "439   7.61275690  7.61275690\n",
            "440   4.25240222  4.25240222\n",
            "441   8.75185457  8.75185457\n",
            "442   3.98996150  3.98996150\n",
            "443   5.93403734  5.93403734\n",
            "444   5.61770738  5.61770738\n",
            "445   5.19618474  5.19618474\n",
            "446   5.26933517  5.26933517\n",
            "447   2.14511615  2.14511615\n",
            "448  11.60250772 11.60250772\n",
            "449   3.16849373  3.16849373\n",
            "450   3.69921215  3.69921215\n",
            "451   7.70085112  7.70085112\n",
            "452   4.14404893  4.14404893\n",
            "453   3.67222622  3.67222622\n",
            "454   5.59021907  5.59021907\n",
            "455   4.89491578  4.89491578\n",
            "456   8.21413273  8.21413273\n",
            "457   6.62955558  6.62955558\n",
            "458   5.68855326  5.68855326\n",
            "459   5.87306835  5.87306835\n",
            "460   4.98549296  4.98549296\n",
            "461   4.45149350  4.45149350\n",
            "462   3.99519518  3.99519518\n",
            "463   4.02476176  4.02476176\n",
            "464   6.40411192  6.40411192\n",
            "465   6.07211873  6.07211873\n",
            "466   2.58512489  2.58512489\n",
            "467   6.46440655  6.46440655\n",
            "468   8.92944750  8.92944750\n",
            "469   9.48299347  9.48299347\n",
            "470   4.73979034  4.73979034\n",
            "471   6.73235980  6.73235980\n",
            "472   5.34379331  5.34379331\n",
            "473   5.89449678  5.89449678\n",
            "474   6.47344333  6.47344333\n",
            "475   3.70366832  3.70366832\n",
            "476   6.59364612  6.59364612\n",
            "477   5.12928159  5.12928159\n",
            "478   4.69784820  4.69784820\n",
            "479   7.08399728  7.08399728\n",
            "480   4.14151176  4.14151176\n",
            "481   3.53855853  3.53855853\n",
            "482   3.87191612  3.87191612\n",
            "483   5.09251128  5.09251128\n",
            "484   6.65193441  6.65193441\n",
            "485   4.50678785  4.50678785\n",
            "486   8.01443340  8.01443340\n",
            "487   3.18862408  3.18862408\n",
            "488   8.44407442  8.44407442\n",
            "489   4.35780238  4.35780238\n",
            "490   6.93819736  6.93819736\n",
            "491   4.11230098  4.11230098\n",
            "492   7.90477277  7.90477277\n",
            "493   5.81359696  5.81359696\n",
            "494   4.68478134  4.68478134\n",
            "495   5.10314310  5.10314310\n",
            "496   5.10314771  5.10314771\n",
            "497   3.84570080  3.84570080\n",
            "498   6.69136825  6.69136825\n",
            "499   4.89177731  4.89177731\n",
            "500   5.69576546  5.69576546\n",
            "501   5.56717119  5.56717119\n",
            "502   1.92082998  1.92082998\n",
            "503   4.68278111  4.68278111\n",
            "504   3.64562914  3.64562914\n",
            "505   4.12334639  4.12334639\n",
            "506   4.24786907  4.24786907\n",
            "507   4.61663378  4.61663378\n",
            "508   2.43140956  2.43140956\n",
            "509   2.05945764  2.05945764\n",
            "510   4.20934050  4.20934050\n",
            "511   3.28436083  3.28436083\n",
            "512   2.28384841  2.28384841\n",
            "513   3.73924452  3.73924452\n",
            "514   7.17418258  7.17418258\n",
            "515   5.35232434  5.35232434\n",
            "516   4.12103425  4.12103425\n",
            "517   5.27635977  5.27635977\n",
            "518   5.80907093  5.80907093\n",
            "519   7.65500850  7.65500850\n",
            "520   5.57742676  5.57742676\n",
            "521   3.52683499  3.52683499\n",
            "522   5.51973348  5.51973348\n",
            "523   4.20999086  4.20999086\n",
            "524   6.32803458  6.32803458\n",
            "525   5.80669081  5.80669081\n",
            "526   4.74074356  4.74074356\n",
            "527   4.26315909  4.26315909\n",
            "528   6.72792252  6.72792252\n",
            "529   3.83592950  3.83592950\n",
            "530   1.77969838  1.77969838\n",
            "531   3.52865545  3.52865545\n",
            "532   3.83333530  3.83333530\n",
            "533   4.01190287  4.01190287\n",
            "534   6.32128498  6.32128498\n",
            "535   5.53652602  5.53652602\n",
            "536   3.75941120  3.75941120\n",
            "537   3.95085090  3.95085090\n",
            "538   5.65584765  5.65584765\n",
            "539   4.55349950  4.55349950\n",
            "540   5.33526063  5.33526063\n",
            "541   4.02461120  4.02461120\n",
            "542   4.88487465  4.88487465\n",
            "543   3.86947664  3.86947664\n",
            "544   5.31908029  5.31908029\n",
            "545   7.20898765  7.20898765\n",
            "546   8.15463522  8.15463522\n",
            "547   6.01764702  6.01764702\n",
            "548   4.97313448  4.97313448\n",
            "549   6.44122078  6.44122078\n",
            "550   3.83070661  3.83070661\n",
            "551   3.52205547  3.52205547\n",
            "552   5.47741264  5.47741264\n",
            "553   5.08749068  5.08749068\n",
            "554   5.73722430  5.73722430\n",
            "555   3.09389165  3.09389165\n",
            "556   6.57443330  6.57443330\n",
            "557   2.97651713  2.97651713\n",
            "558   5.49677435  5.49677435\n",
            "559   4.47131034  4.47131034\n",
            "560   4.38999897  4.38999897\n",
            "561   7.22833523  7.22833523\n",
            "562   3.57176218  3.57176218\n",
            "563   2.95119050  2.95119050\n",
            "564   6.69388472  6.69388472\n",
            "565   2.78059214  2.78059214\n",
            "566   3.78918047  3.78918047\n",
            "567   4.41404705  4.41404705\n",
            "568   3.87339348  3.87339348\n",
            "569   6.00350797  6.00350797\n",
            "570   5.63271692  5.63271692\n",
            "571   4.61496652  4.61496652\n",
            "572   4.42304642  4.42304642\n",
            "573   3.05119710  3.05119710\n",
            "574   6.26430420  6.26430420\n",
            "575   3.33196771  3.33196771\n",
            "576   3.08269897  3.08269897\n",
            "577   6.34228432  6.34228432\n",
            "578   8.13651340  8.13651340\n",
            "579   5.03800128  5.03800128\n",
            "580   3.20805361  3.20805361\n",
            "581   5.70805417  5.70805417\n",
            "582   5.84960792  5.84960792\n",
            "583   3.26372108  3.26372108\n",
            "584   4.46801489  4.46801489\n",
            "585   2.76495391  2.76495391\n",
            "586   7.47363425  7.47363425\n",
            "587   5.15817420  5.15817420\n",
            "588   3.86054094  3.86054094\n",
            "589   7.16665872  7.16665872\n",
            "590   1.96181908  1.96181908\n",
            "591   4.56824773  4.56824773\n",
            "592   4.00583794  4.00583794\n",
            "593   8.77221910  8.77221910\n",
            "594   4.29600941  4.29600941\n",
            "595   7.72449390  7.72449390\n",
            "596   6.94738764  6.94738764\n",
            "597   5.41623218  5.41623218\n",
            "598   3.25362518  3.25362518\n",
            "599   4.48762619  4.48762619\n",
            "600   5.41326527  5.41326527\n",
            "601   4.65013189  4.65013189\n",
            "602   6.09695888  6.09695888\n",
            "603   5.30223231  5.30223231\n",
            "604   1.73485323  1.73485323\n",
            "605   6.89106612  6.89106612\n",
            "606   4.10778818  4.10778818\n",
            "607   5.78167177  5.78167177\n",
            "608   4.92722899  4.92722899\n",
            "609   7.69625751  7.69625751\n",
            "610   3.35045717  3.35045717\n",
            "611   5.47834245  5.47834245\n",
            "612   8.04409480  8.04409480\n",
            "613   6.56961146  6.56961146\n",
            "614   5.58349385  5.58349385\n",
            "615   4.94119023  4.94119023\n",
            "616   5.97753572  5.97753572\n",
            "617   6.95886450  6.95886450\n",
            "618   6.61648889  6.61648889\n",
            "619   5.53555855  5.53555855\n",
            "620   5.40674831  5.40674831\n",
            "621   6.05425170  6.05425170\n",
            "622   4.63188019  4.63188019\n",
            "623   5.29205289  5.29205289\n",
            "624   5.84015622  5.84015622\n",
            "625   3.95410039  3.95410039\n",
            "626   4.31527862  4.31527862\n",
            "627   5.27887703  5.27887703\n",
            "628   3.95780615  3.95780615\n",
            "629   7.18152466  7.18152466\n",
            "630   6.77018181  6.77018181\n",
            "631   3.60743231  3.60743231\n",
            "632   4.01028142  4.01028142\n",
            "633   4.26634037  4.26634037\n",
            "634   5.60340180  5.60340180\n",
            "635   3.76956516  3.76956516\n",
            "636   3.02261769  3.02261769\n",
            "637   6.99024220  6.99024220\n",
            "638   6.48412858  6.48412858\n",
            "639   6.21651448  6.21651448\n",
            "640   3.75098040  3.75098040\n",
            "641   5.14760242  5.14760242\n",
            "642   8.48102873  8.48102873\n",
            "643   5.57453671  5.57453671\n",
            "644   6.94177346  6.94177346\n",
            "645   4.47064126  4.47064126\n",
            "646   5.68260954  5.68260954\n",
            "647   2.05941727  2.05941727\n",
            "648   2.14959761  2.14959761\n",
            "649   5.12221914  5.12221914\n",
            "650   1.74093667  1.74093667\n",
            "651   5.84335074  5.84335074\n",
            "652   4.22676221  4.22676221\n",
            "653   8.11753931  8.11753931\n",
            "654   5.13504108  5.13504108\n",
            "655   9.50102512  9.50102512\n",
            "656   6.90575528  6.90575528\n",
            "657   2.45274437  2.45274437\n",
            "658   4.04575211  4.04575211\n",
            "659   6.80814017  6.80814017\n",
            "660   3.70523507  3.70523507\n",
            "661   1.40348434  1.40348434\n",
            "662   3.54898833  3.54898833\n",
            "663   5.08768452  5.08768452\n",
            "664   2.76349656  2.76349656\n",
            "665   5.45758702  5.45758702\n",
            "666   4.59602083  4.59602083\n",
            "667   6.47831879  6.47831879\n",
            "668   2.63610087  2.63610087\n",
            "669   5.03850288  5.03850288\n",
            "670   5.13515204  5.13515204\n",
            "671   5.35403083  5.35403083\n",
            "672   3.96200724  3.96200724\n",
            "673   5.30232659  5.30232659\n",
            "674   3.92552416  3.92552416\n",
            "675   4.66829927  4.66829927\n",
            "676   5.24106035  5.24106035\n",
            "677   5.22683020  5.22683020\n",
            "678   3.00173787  3.00173787\n",
            "679   2.28652511  2.28652511\n",
            "680   5.24797737  5.24797737\n",
            "681  -0.81586705 -0.81586705\n",
            "682   5.18557667  5.18557667\n",
            "683   3.96405238  3.96405238\n",
            "684   6.10427981  6.10427981\n",
            "685   3.38841144  3.38841144\n",
            "686   5.08133507  5.08133507\n",
            "687   4.58320534  4.58320534\n",
            "688   3.19729679  3.19729679\n",
            "689   3.68792900  3.68792900\n",
            "690   4.14752655  4.14752655\n",
            "691   6.33996329  6.33996329\n",
            "692   7.36543693  7.36543693\n",
            "693   4.61672752  4.61672752\n",
            "694   5.35779611  5.35779611\n",
            "695   4.55916698  4.55916698\n",
            "696   5.64463430  5.64463430\n",
            "697   6.61304279  6.61304279\n",
            "698   5.01387792  5.01387792\n",
            "699   7.44659765  7.44659765\n",
            "700   5.76259557  5.76259557\n",
            "701   7.89804447  7.89804447\n",
            "702   6.63361790  6.63361790\n",
            "703   4.60567524  4.60567524\n",
            "704   2.08159557  2.08159557\n",
            "705   5.21794765  5.21794765\n",
            "706   4.26156511  4.26156511\n",
            "707   2.48229241  2.48229241\n",
            "708   4.76333143  4.76333143\n",
            "709   5.63789111  5.63789111\n",
            "710   3.68433340  3.68433340\n",
            "711   3.19415864  3.19415864\n",
            "712   4.68282352  4.68282352\n",
            "713   6.54249663  6.54249663\n",
            "714   3.82657651  3.82657651\n",
            "715   6.63430478  6.63430478\n",
            "716   2.84712789  2.84712789\n",
            "717   7.12622903  7.12622903\n",
            "718   3.70466657  3.70466657\n",
            "719   5.51910400  5.51910400\n",
            "720   5.69390726  5.69390726\n",
            "721   2.66383610  2.66383610\n",
            "722   7.04061480  7.04061480\n",
            "723   4.49854637  4.49854637\n",
            "724   3.02498067  3.02498067\n",
            "725   4.21996219  4.21996219\n",
            "726   0.88812419  0.88812419\n",
            "727   8.70483696  8.70483696\n",
            "728   8.09520160  8.09520160\n",
            "729   4.02434443  4.02434443\n",
            "730   5.41747075  5.41747075\n",
            "731   4.94009679  4.94009679\n",
            "732   6.26887236  6.26887236\n",
            "733   7.36387632  7.36387632\n",
            "734   2.77940333  2.77940333\n",
            "735   2.56923174  2.56923174\n",
            "736   4.97567403  4.97567403\n",
            "737   6.17200247  6.17200247\n",
            "738   2.88527654  2.88527654\n",
            "739   6.76352066  6.76352066\n",
            "740   4.66510899  4.66510899\n",
            "741   4.36647479  4.36647479\n",
            "742   7.45090221  7.45090221\n",
            "743   4.64302151  4.64302151\n",
            "744   4.13990186  4.13990186\n",
            "745   5.55616497  5.55616497\n",
            "746   3.59705437  3.59705437\n",
            "747   4.38558224  4.38558224\n",
            "748   5.47351922  5.47351922\n",
            "749   3.05545587  3.05545587\n",
            "750   4.88268112  4.88268112\n",
            "751   5.32858113  5.32858113\n",
            "752   4.46039725  4.46039725\n",
            "753   4.78301631  4.78301631\n",
            "754   1.99615827  1.99615827\n",
            "755   2.25766712  2.25766712\n",
            "756   4.87375574  4.87375574\n",
            "757   3.90464726  3.90464726\n",
            "758   0.81595212  0.81595212\n",
            "759   7.60050829  7.60050829\n",
            "760   7.10159215  7.10159215\n",
            "761   8.21925640  8.21925640\n",
            "762   4.98299659  4.98299659\n",
            "763   6.40014694  6.40014694\n",
            "764   7.58885347  7.58885347\n",
            "765   8.16897958  8.16897958\n",
            "766   4.35134175  4.35134175\n",
            "767   6.10126454  6.10126454\n",
            "768   5.00763835  5.00763835\n",
            "769   4.87604505  4.87604505\n",
            "770   1.98695587  1.98695587\n",
            "771   3.91156189  3.91156189\n",
            "772   4.23014654  4.23014654\n",
            "773   2.59956544  2.59956544\n",
            "774   2.27229035  2.27229035\n",
            "775   5.57982943  5.57982943\n",
            "776   6.78247537  6.78247537\n",
            "777   8.39314217  8.39314217\n",
            "778   6.27310149  6.27310149\n",
            "779   3.64940340  3.64940340\n",
            "780   6.24155274  6.24155274\n",
            "781   3.70929705  3.70929705\n",
            "782  -0.09602042 -0.09602042\n",
            "783   3.41184496  3.41184496\n",
            "784   7.32318701  7.32318701\n",
            "785   6.37729065  6.37729065\n",
            "786   5.76446862  5.76446862\n",
            "787   7.47718653  7.47718653\n",
            "788   2.38105478  2.38105478\n",
            "789   5.35978022  5.35978022\n",
            "790   6.25535356  6.25535356\n",
            "791   7.65333927  7.65333927\n",
            "792   4.49619106  4.49619106\n",
            "793   5.99585192  5.99585192\n",
            "794   4.89977044  4.89977044\n",
            "795   6.69249845  6.69249845\n",
            "796   6.49259475  6.49259475\n",
            "797   4.38858746  4.38858746\n",
            "798   6.48822444  6.48822444\n",
            "799   2.71332299  2.71332299\n",
            "800   4.03273533  4.03273533\n",
            "801   3.62471704  3.62471704\n",
            "802   5.17880203  5.17880203\n",
            "803   7.60386332  7.60386332\n",
            "804   3.78211594  3.78211594\n",
            "805   3.18260139  3.18260139\n",
            "806   2.77968021  2.77968021\n",
            "807   7.61865111  7.61865111\n",
            "808   2.33898980  2.33898980\n",
            "809   6.25083774  6.25083774\n",
            "810   6.30082561  6.30082561\n",
            "811   2.31379205  2.31379205\n",
            "812   4.94735271  4.94735271\n",
            "813   6.58748042  6.58748042\n",
            "814   6.08586229  6.08586229\n",
            "815   5.86422558  5.86422558\n",
            "816   5.35747508  5.35747508\n",
            "817   6.19297505  6.19297505\n",
            "818   5.93093773  5.93093773\n",
            "819   4.18583190  4.18583190\n",
            "820   8.35817704  8.35817704\n",
            "821   9.05850827  9.05850827\n",
            "822   7.21503029  7.21503029\n",
            "823   4.31134313  4.31134313\n",
            "824   5.62258248  5.62258248\n",
            "825   7.25415272  7.25415272\n",
            "826   2.69994354  2.69994354\n",
            "827   3.14032020  3.14032020\n",
            "828   9.41287053  9.41287053\n",
            "829   5.66639858  5.66639858\n",
            "830   7.53631878  7.53631878\n",
            "831   4.22851534  4.22851534\n",
            "832   7.00944786  7.00944786\n",
            "833   5.45711344  5.45711344\n",
            "834   4.88301496  4.88301496\n",
            "835   1.63939100  1.63939100\n",
            "836   4.38276757  4.38276757\n",
            "837   5.14958139  5.14958139\n",
            "838   5.73778574  5.73778574\n",
            "839   2.49492504  2.49492504\n",
            "840   3.59967103  3.59967103\n",
            "841   2.28847712  2.28847712\n",
            "842   6.76919203  6.76919203\n",
            "843   5.85155048  5.85155048\n",
            "844   5.83729925  5.83729925\n",
            "845   5.81371779  5.81371779\n",
            "846   3.47399126  3.47399126\n",
            "847   5.97317503  5.97317503\n",
            "848   5.49000692  5.49000692\n",
            "849   5.40334328  5.40334328\n",
            "850   2.78515652  2.78515652\n",
            "851   3.95384824  3.95384824\n",
            "852   5.41861196  5.41861196\n",
            "853   4.52320458  4.52320458\n",
            "854   6.46339620  6.46339620\n",
            "855   4.49748822  4.49748822\n",
            "856   6.27044990  6.27044990\n",
            "857   3.08915033  3.08915033\n",
            "858   5.90693581  5.90693581\n",
            "859   5.00860910  5.00860910\n",
            "860   5.34607950  5.34607950\n",
            "861   2.62227389  2.62227389\n",
            "862   2.85024404  2.85024404\n",
            "863   9.81015714  9.81015714\n",
            "864   4.54520707  4.54520707\n",
            "865   4.10952388  4.10952388\n",
            "866   6.08748168  6.08748168\n",
            "867   2.00790145  2.00790145\n",
            "868   5.46479538  5.46479538\n",
            "869   4.32465831  4.32465831\n",
            "870   3.77446533  3.77446533\n",
            "871   4.03014105  4.03014105\n",
            "872   2.58821404  2.58821404\n",
            "873   5.46207534  5.46207534\n",
            "874   3.47128928  3.47128928\n",
            "875   5.32234166  5.32234166\n",
            "876   6.99009541  6.99009541\n",
            "877   8.44896682  8.44896682\n",
            "878   8.71851800  8.71851800\n",
            "879   6.58806099  6.58806099\n",
            "880   5.59135101  5.59135101\n",
            "881   4.52945126  4.52945126\n",
            "882   4.89730500  4.89730500\n",
            "883   4.15237747  4.15237747\n",
            "884   2.10568674  2.10568674\n",
            "885   7.31917511  7.31917511\n",
            "886   5.07080941  5.07080941\n",
            "887   6.26594766  6.26594766\n",
            "888   5.27485295  5.27485295\n",
            "889   3.67100596  3.67100596\n",
            "890   3.68355554  3.68355554\n",
            "891   6.26144467  6.26144467\n",
            "892   5.61637146  5.61637146\n",
            "893   9.54490717  9.54490717\n",
            "894   6.68192352  6.68192352\n",
            "895   5.71751115  5.71751115\n",
            "896   3.13616188  3.13616188\n",
            "897   1.89763316  1.89763316\n",
            "898   9.04189752  9.04189752\n",
            "899   1.99332023  1.99332023\n",
            "900   4.41848313  4.41848313\n",
            "901   2.45336259  2.45336259\n",
            "902   4.50345073  4.50345073\n",
            "903   5.47474904  5.47474904\n",
            "904   4.73101143  4.73101143\n",
            "905   6.45389312  6.45389312\n",
            "906   3.83681338  3.83681338\n",
            "907   4.36695031  4.36695031\n",
            "908   5.93374698  5.93374698\n",
            "909   3.31288865  3.31288865\n",
            "910   3.70757010  3.70757010\n",
            "911   3.94444787  3.94444787\n",
            "912   4.97190136  4.97190136\n",
            "913   6.05148740  6.05148740\n",
            "914   7.71328053  7.71328053\n",
            "915   5.53774678  5.53774678\n",
            "916   5.05663821  5.05663821\n",
            "917   3.87895780  3.87895780\n",
            "918   1.78476312  1.78476312\n",
            "919   6.81592593  6.81592593\n",
            "920   5.26548606  5.26548606\n",
            "921   6.89538331  6.89538331\n",
            "922   8.62927469  8.62927469\n",
            "923   4.39819321  4.39819321\n",
            "924   6.47128473  6.47128473\n",
            "925   5.98343352  5.98343352\n",
            "926   2.99520120  2.99520120\n",
            "927   1.22950049  1.22950049\n",
            "928   3.85423434  3.85423434\n",
            "929   5.80920756  5.80920756\n",
            "930   8.12484488  8.12484488\n",
            "931   4.48064745  4.48064745\n",
            "932   4.25034426  4.25034426\n",
            "933   6.21636377  6.21636377\n",
            "934   1.55697843  1.55697843\n",
            "935   5.52375120  5.52375120\n",
            "936   2.74145160  2.74145160\n",
            "937   2.32150353  2.32150353\n",
            "938   0.52645609  0.52645609\n",
            "939   4.84878359  4.84878359\n",
            "940   4.73165664  4.73165664\n",
            "941   6.24446392  6.24446392\n",
            "942   4.02176218  4.02176218\n",
            "943   7.34765623  7.34765623\n",
            "944   5.75367970  5.75367970\n",
            "945   6.91394867  6.91394867\n",
            "946   1.27728974  1.27728974\n",
            "947   6.48588084  6.48588084\n",
            "948   5.27989205  5.27989205\n",
            "949   7.53855090  7.53855090\n",
            "950   5.66783174  5.66783174\n",
            "951   7.03195990  7.03195990\n",
            "952   4.07561135  4.07561135\n",
            "953   4.16359543  4.16359543\n",
            "954   0.64776019  0.64776019\n",
            "955   6.15769806  6.15769806\n",
            "956   6.79453335  6.79453335\n",
            "957   2.76911436  2.76911436\n",
            "958   4.66572050  4.66572050\n",
            "959   4.72896184  4.72896184\n",
            "960   6.18168160  6.18168160\n",
            "961   4.82363217  4.82363217\n",
            "962   5.66518960  5.66518960\n",
            "963   5.82405295  5.82405295\n",
            "964   3.94421627  3.94421627\n",
            "965   3.77533029  3.77533029\n",
            "966   8.46987163  8.46987163\n",
            "967   3.05965466  3.05965466\n",
            "968   6.57101216  6.57101216\n",
            "969   5.10587782  5.10587782\n",
            "970   4.80147796  4.80147796\n",
            "971   3.21245137  3.21245137\n",
            "972   6.09380300  6.09380300\n",
            "973   4.96531871  4.96531871\n",
            "974   3.26688158  3.26688158\n",
            "975   6.13818269  6.13818269\n",
            "976   6.03827866  6.03827866\n",
            "977   4.84718909  4.84718909\n",
            "978   6.00936167  6.00936167\n",
            "979   6.77361149  6.77361149\n",
            "980   3.14701710  3.14701710\n",
            "981   6.92582408  6.92582408\n",
            "982   6.02698811  6.02698811\n",
            "983   7.10395066  7.10395066\n",
            "984   4.81451652  4.81451652\n",
            "985   4.93231935  4.93231935\n",
            "986   5.59980157  5.59980157\n",
            "987   2.55129453  2.55129453\n",
            "988   5.17485905  5.17485905\n",
            "989   3.97780796  3.97780796\n",
            "990   4.31276893  4.31276893\n",
            "991   4.57697350  4.57697350\n",
            "992   4.25162920  4.25162920\n",
            "993   3.84778016  3.84778016\n",
            "994   3.39268045  3.39268045\n",
            "995   3.66965481  3.66965481\n",
            "996   3.97578233  3.97578233\n",
            "997   3.25709477  3.25709477\n",
            "998   5.17792327  5.17792327\n",
            "999   5.92140030  5.92140030\n",
            "1000  4.74046607  4.74046607\n"
          ]
        }
      ]
    },
    {
      "cell_type": "code",
      "metadata": {
        "colab": {
          "base_uri": "https://localhost:8080/",
          "height": 1000
        },
        "id": "RC7m_3tjqSFp",
        "outputId": "cdaad134-4a29-46a1-ce8d-35a3cb842f84"
      },
      "source": [
        "df = data.frame(Var1= x[,1],Var2 = x[,2])\n",
        "df"
      ],
      "execution_count": 78,
      "outputs": [
        {
          "output_type": "display_data",
          "data": {
            "text/plain": [
              "     Var1       Var2     \n",
              "1     4.9021670 11.062144\n",
              "2     5.0430774  9.569041\n",
              "3     3.8525817  9.701505\n",
              "4     7.4806953 12.387136\n",
              "5     4.3038439  9.749854\n",
              "6     6.8004289 12.639200\n",
              "7     5.5220775 10.501010\n",
              "8     6.7267224 10.705930\n",
              "9    -0.4297731  5.857043\n",
              "10    2.1145811  6.141863\n",
              "11    2.1901773  6.344437\n",
              "12    3.3296878  9.891075\n",
              "13    3.8515776  9.851131\n",
              "14    2.9283697  7.718803\n",
              "15    5.1546188  7.271158\n",
              "16    5.6886902  7.733483\n",
              "17    5.7268541  9.064233\n",
              "18    4.1000683 10.097199\n",
              "19    4.4200742 11.482493\n",
              "20    5.7335731  6.871688\n",
              "21    4.7616446  8.382741\n",
              "22    4.4842862  9.696160\n",
              "23    4.4408312  9.553906\n",
              "24    2.5951853 12.806325\n",
              "25    4.7181454 10.490010\n",
              "26    6.8799703 13.983662\n",
              "27    6.9132243 11.719344\n",
              "28    3.3619559  6.804627\n",
              "29    5.5247293  9.445648\n",
              "30    5.2610005  7.966146\n",
              "⋮    ⋮          ⋮        \n",
              "971  3.212451   12.087335\n",
              "972  6.093803    9.496960\n",
              "973  4.965319   12.126105\n",
              "974  3.266882    8.429199\n",
              "975  6.138183   10.527839\n",
              "976  6.038279   10.894164\n",
              "977  4.847189    8.232952\n",
              "978  6.009362    8.699522\n",
              "979  6.773611   13.234233\n",
              "980  3.147017    8.777291\n",
              "981  6.925824   10.564536\n",
              "982  6.026988    9.769691\n",
              "983  7.103951   11.946528\n",
              "984  4.814517   10.818099\n",
              "985  4.932319    9.956290\n",
              "986  5.599802   12.634034\n",
              "987  2.551295    5.259946\n",
              "988  5.174859   13.989890\n",
              "989  3.977808    7.927428\n",
              "990  4.312769   10.517140\n",
              "991  4.576973    8.825470\n",
              "992  4.251629   10.081357\n",
              "993  3.847780    7.491289\n",
              "994  3.392680    9.560660\n",
              "995  3.669655    8.677403\n",
              "996  3.975782   13.970658\n",
              "997  3.257095    7.785479\n",
              "998  5.177923    7.821778\n",
              "999  5.921400   14.212547\n",
              "1000 4.740466   10.846949"
            ],
            "text/latex": "A data.frame: 1000 × 2\n\\begin{tabular}{ll}\n Var1 & Var2\\\\\n <dbl> & <dbl>\\\\\n\\hline\n\t  4.9021670 & 11.062144\\\\\n\t  5.0430774 &  9.569041\\\\\n\t  3.8525817 &  9.701505\\\\\n\t  7.4806953 & 12.387136\\\\\n\t  4.3038439 &  9.749854\\\\\n\t  6.8004289 & 12.639200\\\\\n\t  5.5220775 & 10.501010\\\\\n\t  6.7267224 & 10.705930\\\\\n\t -0.4297731 &  5.857043\\\\\n\t  2.1145811 &  6.141863\\\\\n\t  2.1901773 &  6.344437\\\\\n\t  3.3296878 &  9.891075\\\\\n\t  3.8515776 &  9.851131\\\\\n\t  2.9283697 &  7.718803\\\\\n\t  5.1546188 &  7.271158\\\\\n\t  5.6886902 &  7.733483\\\\\n\t  5.7268541 &  9.064233\\\\\n\t  4.1000683 & 10.097199\\\\\n\t  4.4200742 & 11.482493\\\\\n\t  5.7335731 &  6.871688\\\\\n\t  4.7616446 &  8.382741\\\\\n\t  4.4842862 &  9.696160\\\\\n\t  4.4408312 &  9.553906\\\\\n\t  2.5951853 & 12.806325\\\\\n\t  4.7181454 & 10.490010\\\\\n\t  6.8799703 & 13.983662\\\\\n\t  6.9132243 & 11.719344\\\\\n\t  3.3619559 &  6.804627\\\\\n\t  5.5247293 &  9.445648\\\\\n\t  5.2610005 &  7.966146\\\\\n\t ⋮ & ⋮\\\\\n\t 3.212451 & 12.087335\\\\\n\t 6.093803 &  9.496960\\\\\n\t 4.965319 & 12.126105\\\\\n\t 3.266882 &  8.429199\\\\\n\t 6.138183 & 10.527839\\\\\n\t 6.038279 & 10.894164\\\\\n\t 4.847189 &  8.232952\\\\\n\t 6.009362 &  8.699522\\\\\n\t 6.773611 & 13.234233\\\\\n\t 3.147017 &  8.777291\\\\\n\t 6.925824 & 10.564536\\\\\n\t 6.026988 &  9.769691\\\\\n\t 7.103951 & 11.946528\\\\\n\t 4.814517 & 10.818099\\\\\n\t 4.932319 &  9.956290\\\\\n\t 5.599802 & 12.634034\\\\\n\t 2.551295 &  5.259946\\\\\n\t 5.174859 & 13.989890\\\\\n\t 3.977808 &  7.927428\\\\\n\t 4.312769 & 10.517140\\\\\n\t 4.576973 &  8.825470\\\\\n\t 4.251629 & 10.081357\\\\\n\t 3.847780 &  7.491289\\\\\n\t 3.392680 &  9.560660\\\\\n\t 3.669655 &  8.677403\\\\\n\t 3.975782 & 13.970658\\\\\n\t 3.257095 &  7.785479\\\\\n\t 5.177923 &  7.821778\\\\\n\t 5.921400 & 14.212547\\\\\n\t 4.740466 & 10.846949\\\\\n\\end{tabular}\n",
            "text/markdown": "\nA data.frame: 1000 × 2\n\n| Var1 &lt;dbl&gt; | Var2 &lt;dbl&gt; |\n|---|---|\n|  4.9021670 | 11.062144 |\n|  5.0430774 |  9.569041 |\n|  3.8525817 |  9.701505 |\n|  7.4806953 | 12.387136 |\n|  4.3038439 |  9.749854 |\n|  6.8004289 | 12.639200 |\n|  5.5220775 | 10.501010 |\n|  6.7267224 | 10.705930 |\n| -0.4297731 |  5.857043 |\n|  2.1145811 |  6.141863 |\n|  2.1901773 |  6.344437 |\n|  3.3296878 |  9.891075 |\n|  3.8515776 |  9.851131 |\n|  2.9283697 |  7.718803 |\n|  5.1546188 |  7.271158 |\n|  5.6886902 |  7.733483 |\n|  5.7268541 |  9.064233 |\n|  4.1000683 | 10.097199 |\n|  4.4200742 | 11.482493 |\n|  5.7335731 |  6.871688 |\n|  4.7616446 |  8.382741 |\n|  4.4842862 |  9.696160 |\n|  4.4408312 |  9.553906 |\n|  2.5951853 | 12.806325 |\n|  4.7181454 | 10.490010 |\n|  6.8799703 | 13.983662 |\n|  6.9132243 | 11.719344 |\n|  3.3619559 |  6.804627 |\n|  5.5247293 |  9.445648 |\n|  5.2610005 |  7.966146 |\n| ⋮ | ⋮ |\n| 3.212451 | 12.087335 |\n| 6.093803 |  9.496960 |\n| 4.965319 | 12.126105 |\n| 3.266882 |  8.429199 |\n| 6.138183 | 10.527839 |\n| 6.038279 | 10.894164 |\n| 4.847189 |  8.232952 |\n| 6.009362 |  8.699522 |\n| 6.773611 | 13.234233 |\n| 3.147017 |  8.777291 |\n| 6.925824 | 10.564536 |\n| 6.026988 |  9.769691 |\n| 7.103951 | 11.946528 |\n| 4.814517 | 10.818099 |\n| 4.932319 |  9.956290 |\n| 5.599802 | 12.634034 |\n| 2.551295 |  5.259946 |\n| 5.174859 | 13.989890 |\n| 3.977808 |  7.927428 |\n| 4.312769 | 10.517140 |\n| 4.576973 |  8.825470 |\n| 4.251629 | 10.081357 |\n| 3.847780 |  7.491289 |\n| 3.392680 |  9.560660 |\n| 3.669655 |  8.677403 |\n| 3.975782 | 13.970658 |\n| 3.257095 |  7.785479 |\n| 5.177923 |  7.821778 |\n| 5.921400 | 14.212547 |\n| 4.740466 | 10.846949 |\n\n",
            "text/html": [
              "<table class=\"dataframe\">\n",
              "<caption>A data.frame: 1000 × 2</caption>\n",
              "<thead>\n",
              "\t<tr><th scope=col>Var1</th><th scope=col>Var2</th></tr>\n",
              "\t<tr><th scope=col>&lt;dbl&gt;</th><th scope=col>&lt;dbl&gt;</th></tr>\n",
              "</thead>\n",
              "<tbody>\n",
              "\t<tr><td> 4.9021670</td><td>11.062144</td></tr>\n",
              "\t<tr><td> 5.0430774</td><td> 9.569041</td></tr>\n",
              "\t<tr><td> 3.8525817</td><td> 9.701505</td></tr>\n",
              "\t<tr><td> 7.4806953</td><td>12.387136</td></tr>\n",
              "\t<tr><td> 4.3038439</td><td> 9.749854</td></tr>\n",
              "\t<tr><td> 6.8004289</td><td>12.639200</td></tr>\n",
              "\t<tr><td> 5.5220775</td><td>10.501010</td></tr>\n",
              "\t<tr><td> 6.7267224</td><td>10.705930</td></tr>\n",
              "\t<tr><td>-0.4297731</td><td> 5.857043</td></tr>\n",
              "\t<tr><td> 2.1145811</td><td> 6.141863</td></tr>\n",
              "\t<tr><td> 2.1901773</td><td> 6.344437</td></tr>\n",
              "\t<tr><td> 3.3296878</td><td> 9.891075</td></tr>\n",
              "\t<tr><td> 3.8515776</td><td> 9.851131</td></tr>\n",
              "\t<tr><td> 2.9283697</td><td> 7.718803</td></tr>\n",
              "\t<tr><td> 5.1546188</td><td> 7.271158</td></tr>\n",
              "\t<tr><td> 5.6886902</td><td> 7.733483</td></tr>\n",
              "\t<tr><td> 5.7268541</td><td> 9.064233</td></tr>\n",
              "\t<tr><td> 4.1000683</td><td>10.097199</td></tr>\n",
              "\t<tr><td> 4.4200742</td><td>11.482493</td></tr>\n",
              "\t<tr><td> 5.7335731</td><td> 6.871688</td></tr>\n",
              "\t<tr><td> 4.7616446</td><td> 8.382741</td></tr>\n",
              "\t<tr><td> 4.4842862</td><td> 9.696160</td></tr>\n",
              "\t<tr><td> 4.4408312</td><td> 9.553906</td></tr>\n",
              "\t<tr><td> 2.5951853</td><td>12.806325</td></tr>\n",
              "\t<tr><td> 4.7181454</td><td>10.490010</td></tr>\n",
              "\t<tr><td> 6.8799703</td><td>13.983662</td></tr>\n",
              "\t<tr><td> 6.9132243</td><td>11.719344</td></tr>\n",
              "\t<tr><td> 3.3619559</td><td> 6.804627</td></tr>\n",
              "\t<tr><td> 5.5247293</td><td> 9.445648</td></tr>\n",
              "\t<tr><td> 5.2610005</td><td> 7.966146</td></tr>\n",
              "\t<tr><td>⋮</td><td>⋮</td></tr>\n",
              "\t<tr><td>3.212451</td><td>12.087335</td></tr>\n",
              "\t<tr><td>6.093803</td><td> 9.496960</td></tr>\n",
              "\t<tr><td>4.965319</td><td>12.126105</td></tr>\n",
              "\t<tr><td>3.266882</td><td> 8.429199</td></tr>\n",
              "\t<tr><td>6.138183</td><td>10.527839</td></tr>\n",
              "\t<tr><td>6.038279</td><td>10.894164</td></tr>\n",
              "\t<tr><td>4.847189</td><td> 8.232952</td></tr>\n",
              "\t<tr><td>6.009362</td><td> 8.699522</td></tr>\n",
              "\t<tr><td>6.773611</td><td>13.234233</td></tr>\n",
              "\t<tr><td>3.147017</td><td> 8.777291</td></tr>\n",
              "\t<tr><td>6.925824</td><td>10.564536</td></tr>\n",
              "\t<tr><td>6.026988</td><td> 9.769691</td></tr>\n",
              "\t<tr><td>7.103951</td><td>11.946528</td></tr>\n",
              "\t<tr><td>4.814517</td><td>10.818099</td></tr>\n",
              "\t<tr><td>4.932319</td><td> 9.956290</td></tr>\n",
              "\t<tr><td>5.599802</td><td>12.634034</td></tr>\n",
              "\t<tr><td>2.551295</td><td> 5.259946</td></tr>\n",
              "\t<tr><td>5.174859</td><td>13.989890</td></tr>\n",
              "\t<tr><td>3.977808</td><td> 7.927428</td></tr>\n",
              "\t<tr><td>4.312769</td><td>10.517140</td></tr>\n",
              "\t<tr><td>4.576973</td><td> 8.825470</td></tr>\n",
              "\t<tr><td>4.251629</td><td>10.081357</td></tr>\n",
              "\t<tr><td>3.847780</td><td> 7.491289</td></tr>\n",
              "\t<tr><td>3.392680</td><td> 9.560660</td></tr>\n",
              "\t<tr><td>3.669655</td><td> 8.677403</td></tr>\n",
              "\t<tr><td>3.975782</td><td>13.970658</td></tr>\n",
              "\t<tr><td>3.257095</td><td> 7.785479</td></tr>\n",
              "\t<tr><td>5.177923</td><td> 7.821778</td></tr>\n",
              "\t<tr><td>5.921400</td><td>14.212547</td></tr>\n",
              "\t<tr><td>4.740466</td><td>10.846949</td></tr>\n",
              "</tbody>\n",
              "</table>\n"
            ]
          },
          "metadata": {}
        }
      ]
    },
    {
      "cell_type": "code",
      "metadata": {
        "colab": {
          "base_uri": "https://localhost:8080/",
          "height": 283
        },
        "id": "Ca5PZXhOqXHx",
        "outputId": "321aecc5-31d0-4253-c519-bb47b3d12ad5"
      },
      "source": [
        "df$maha = mahalanobis(df, colMeans(df) , cov(df))\n",
        "head(df)"
      ],
      "execution_count": 79,
      "outputs": [
        {
          "output_type": "display_data",
          "data": {
            "text/plain": [
              "  Var1     Var2      maha      \n",
              "1 4.902167 11.062144 0.31096513\n",
              "2 5.043077  9.569041 0.03174624\n",
              "3 3.852582  9.701505 0.51199192\n",
              "4 7.480695 12.387136 2.14448060\n",
              "5 4.303844  9.749854 0.18521200\n",
              "6 6.800429 12.639200 1.52573263"
            ],
            "text/latex": "A data.frame: 6 × 3\n\\begin{tabular}{r|lll}\n  & Var1 & Var2 & maha\\\\\n  & <dbl> & <dbl> & <dbl>\\\\\n\\hline\n\t1 & 4.902167 & 11.062144 & 0.31096513\\\\\n\t2 & 5.043077 &  9.569041 & 0.03174624\\\\\n\t3 & 3.852582 &  9.701505 & 0.51199192\\\\\n\t4 & 7.480695 & 12.387136 & 2.14448060\\\\\n\t5 & 4.303844 &  9.749854 & 0.18521200\\\\\n\t6 & 6.800429 & 12.639200 & 1.52573263\\\\\n\\end{tabular}\n",
            "text/markdown": "\nA data.frame: 6 × 3\n\n| <!--/--> | Var1 &lt;dbl&gt; | Var2 &lt;dbl&gt; | maha &lt;dbl&gt; |\n|---|---|---|---|\n| 1 | 4.902167 | 11.062144 | 0.31096513 |\n| 2 | 5.043077 |  9.569041 | 0.03174624 |\n| 3 | 3.852582 |  9.701505 | 0.51199192 |\n| 4 | 7.480695 | 12.387136 | 2.14448060 |\n| 5 | 4.303844 |  9.749854 | 0.18521200 |\n| 6 | 6.800429 | 12.639200 | 1.52573263 |\n\n",
            "text/html": [
              "<table class=\"dataframe\">\n",
              "<caption>A data.frame: 6 × 3</caption>\n",
              "<thead>\n",
              "\t<tr><th></th><th scope=col>Var1</th><th scope=col>Var2</th><th scope=col>maha</th></tr>\n",
              "\t<tr><th></th><th scope=col>&lt;dbl&gt;</th><th scope=col>&lt;dbl&gt;</th><th scope=col>&lt;dbl&gt;</th></tr>\n",
              "</thead>\n",
              "<tbody>\n",
              "\t<tr><th scope=row>1</th><td>4.902167</td><td>11.062144</td><td>0.31096513</td></tr>\n",
              "\t<tr><th scope=row>2</th><td>5.043077</td><td> 9.569041</td><td>0.03174624</td></tr>\n",
              "\t<tr><th scope=row>3</th><td>3.852582</td><td> 9.701505</td><td>0.51199192</td></tr>\n",
              "\t<tr><th scope=row>4</th><td>7.480695</td><td>12.387136</td><td>2.14448060</td></tr>\n",
              "\t<tr><th scope=row>5</th><td>4.303844</td><td> 9.749854</td><td>0.18521200</td></tr>\n",
              "\t<tr><th scope=row>6</th><td>6.800429</td><td>12.639200</td><td>1.52573263</td></tr>\n",
              "</tbody>\n",
              "</table>\n"
            ]
          },
          "metadata": {}
        }
      ]
    },
    {
      "cell_type": "code",
      "metadata": {
        "colab": {
          "base_uri": "https://localhost:8080/",
          "height": 283
        },
        "id": "dkWvX-Q-qhHx",
        "outputId": "fe6fb0f6-bd8b-4a12-d7e9-f4afe5578a44"
      },
      "source": [
        "df$pval = pchisq(df$maha,df=2,lower.tail = FALSE) #false = พื้นที่ฝั่งขวา\n",
        "head(df)"
      ],
      "execution_count": 80,
      "outputs": [
        {
          "output_type": "display_data",
          "data": {
            "text/plain": [
              "  Var1     Var2      maha       pval     \n",
              "1 4.902167 11.062144 0.31096513 0.8560020\n",
              "2 5.043077  9.569041 0.03174624 0.9842522\n",
              "3 3.852582  9.701505 0.51199192 0.7741451\n",
              "4 7.480695 12.387136 2.14448060 0.3422409\n",
              "5 4.303844  9.749854 0.18521200 0.9115526\n",
              "6 6.800429 12.639200 1.52573263 0.4663279"
            ],
            "text/latex": "A data.frame: 6 × 4\n\\begin{tabular}{r|llll}\n  & Var1 & Var2 & maha & pval\\\\\n  & <dbl> & <dbl> & <dbl> & <dbl>\\\\\n\\hline\n\t1 & 4.902167 & 11.062144 & 0.31096513 & 0.8560020\\\\\n\t2 & 5.043077 &  9.569041 & 0.03174624 & 0.9842522\\\\\n\t3 & 3.852582 &  9.701505 & 0.51199192 & 0.7741451\\\\\n\t4 & 7.480695 & 12.387136 & 2.14448060 & 0.3422409\\\\\n\t5 & 4.303844 &  9.749854 & 0.18521200 & 0.9115526\\\\\n\t6 & 6.800429 & 12.639200 & 1.52573263 & 0.4663279\\\\\n\\end{tabular}\n",
            "text/markdown": "\nA data.frame: 6 × 4\n\n| <!--/--> | Var1 &lt;dbl&gt; | Var2 &lt;dbl&gt; | maha &lt;dbl&gt; | pval &lt;dbl&gt; |\n|---|---|---|---|---|\n| 1 | 4.902167 | 11.062144 | 0.31096513 | 0.8560020 |\n| 2 | 5.043077 |  9.569041 | 0.03174624 | 0.9842522 |\n| 3 | 3.852582 |  9.701505 | 0.51199192 | 0.7741451 |\n| 4 | 7.480695 | 12.387136 | 2.14448060 | 0.3422409 |\n| 5 | 4.303844 |  9.749854 | 0.18521200 | 0.9115526 |\n| 6 | 6.800429 | 12.639200 | 1.52573263 | 0.4663279 |\n\n",
            "text/html": [
              "<table class=\"dataframe\">\n",
              "<caption>A data.frame: 6 × 4</caption>\n",
              "<thead>\n",
              "\t<tr><th></th><th scope=col>Var1</th><th scope=col>Var2</th><th scope=col>maha</th><th scope=col>pval</th></tr>\n",
              "\t<tr><th></th><th scope=col>&lt;dbl&gt;</th><th scope=col>&lt;dbl&gt;</th><th scope=col>&lt;dbl&gt;</th><th scope=col>&lt;dbl&gt;</th></tr>\n",
              "</thead>\n",
              "<tbody>\n",
              "\t<tr><th scope=row>1</th><td>4.902167</td><td>11.062144</td><td>0.31096513</td><td>0.8560020</td></tr>\n",
              "\t<tr><th scope=row>2</th><td>5.043077</td><td> 9.569041</td><td>0.03174624</td><td>0.9842522</td></tr>\n",
              "\t<tr><th scope=row>3</th><td>3.852582</td><td> 9.701505</td><td>0.51199192</td><td>0.7741451</td></tr>\n",
              "\t<tr><th scope=row>4</th><td>7.480695</td><td>12.387136</td><td>2.14448060</td><td>0.3422409</td></tr>\n",
              "\t<tr><th scope=row>5</th><td>4.303844</td><td> 9.749854</td><td>0.18521200</td><td>0.9115526</td></tr>\n",
              "\t<tr><th scope=row>6</th><td>6.800429</td><td>12.639200</td><td>1.52573263</td><td>0.4663279</td></tr>\n",
              "</tbody>\n",
              "</table>\n"
            ]
          },
          "metadata": {}
        }
      ]
    },
    {
      "cell_type": "markdown",
      "metadata": {
        "id": "v8ANRaIeqpP7"
      },
      "source": [
        "##บทที่ 3"
      ]
    },
    {
      "cell_type": "code",
      "metadata": {
        "colab": {
          "base_uri": "https://localhost:8080/",
          "height": 68
        },
        "id": "-sapyv8tqqdB",
        "outputId": "f87b5938-b683-4e0d-cc4e-2138fc170ef7"
      },
      "source": [
        "Xbar=matrix(c(4.64,45.4,9.965),3,1)\n",
        "S=matrix(c(2.879,10.01,-1.81,10.01,199.788,-5.64,-1.81,-5.64,3.628),3,3)\n",
        "mu=matrix(c(4,50,10),3,1)\n",
        "n=20\n",
        "p=3\n",
        "alpha=0.05\n",
        "#####################\n",
        "T2=n*t(Xbar-mu)%*%solve(S)%*%(Xbar-mu)\n",
        "paste(\"Hotelling’s T2 is:\",T2)\n",
        "#####################\n",
        "T2_cri=(((n-1)*p)/(n-p))*qf(alpha,p,n-p,lower.tail = FALSE)\n",
        "paste(\"Critical value: \",T2_cri)\n",
        "#####################\n",
        "if(T2 < T2_cri){\n",
        "      paste(\"We  not reject Ho\",alpha)\n",
        "}else{\n",
        "      paste(\"We  reject Ho\",alpha)\n",
        "}"
      ],
      "execution_count": 81,
      "outputs": [
        {
          "output_type": "display_data",
          "data": {
            "text/plain": [
              "[1] \"Hotelling’s T2 is: 9.74303756432536\""
            ],
            "text/latex": "'Hotelling’s T2 is: 9.74303756432536'",
            "text/markdown": "'Hotelling’s T2 is: 9.74303756432536'",
            "text/html": [
              "'Hotelling’s T2 is: 9.74303756432536'"
            ]
          },
          "metadata": {}
        },
        {
          "output_type": "display_data",
          "data": {
            "text/plain": [
              "[1] \"Critical value:  10.7186047019865\""
            ],
            "text/latex": "'Critical value:  10.7186047019865'",
            "text/markdown": "<span style=white-space:pre-wrap>'Critical value:  10.7186047019865'</span>",
            "text/html": [
              "<span style=white-space:pre-wrap>'Critical value:  10.7186047019865'</span>"
            ]
          },
          "metadata": {}
        },
        {
          "output_type": "display_data",
          "data": {
            "text/plain": [
              "[1] \"We  not reject Ho 0.05\""
            ],
            "text/latex": "'We  not reject Ho 0.05'",
            "text/markdown": "<span style=white-space:pre-wrap>'We  not reject Ho 0.05'</span>",
            "text/html": [
              "<span style=white-space:pre-wrap>'We  not reject Ho 0.05'</span>"
            ]
          },
          "metadata": {}
        }
      ]
    },
    {
      "cell_type": "markdown",
      "metadata": {
        "id": "qeMiHTbasfnA"
      },
      "source": [
        "### ข้อ 3.2"
      ]
    },
    {
      "cell_type": "code",
      "metadata": {
        "colab": {
          "base_uri": "https://localhost:8080/",
          "height": 68
        },
        "id": "woD8mUHjr5C6",
        "outputId": "e3d4d899-bed4-417f-b155-31ce17163609"
      },
      "source": [
        "mu=matrix(c(9,5),2,1)\n",
        "X=matrix(c(6,10,8,9,6,3),3,2)\n",
        "Xbar=colMeans(X)\n",
        "Xbar=matrix(Xbar,2,1)\n",
        "S=cov(X)\n",
        "n=3\n",
        "p=2\n",
        "alpha=0.05\n",
        "#####################\n",
        "T2=n*t(Xbar-mu)%*%solve(S)%*%(Xbar-mu)\n",
        "paste(\"Hotelling’s T2:\",T2)\n",
        "#####################\n",
        "Cri_val=((n-1)*p)/(n-p)*qf(1-alpha,p,n-p)\n",
        "paste(\"Critical value: \",Cri_val)\n",
        "####################\n",
        "if(T2 < Cri_val){\n",
        "      paste(\"We do not reject Ho\",alpha)\n",
        "}else{\n",
        "      paste(\"We reject Ho\",alpha)\n",
        "}"
      ],
      "execution_count": 82,
      "outputs": [
        {
          "output_type": "display_data",
          "data": {
            "text/plain": [
              "[1] \"Hotelling’s T2: 0.777777777777778\""
            ],
            "text/latex": "'Hotelling’s T2: 0.777777777777778'",
            "text/markdown": "'Hotelling’s T2: 0.777777777777778'",
            "text/html": [
              "'Hotelling’s T2: 0.777777777777778'"
            ]
          },
          "metadata": {}
        },
        {
          "output_type": "display_data",
          "data": {
            "text/plain": [
              "[1] \"Critical value:  797.999999999999\""
            ],
            "text/latex": "'Critical value:  797.999999999999'",
            "text/markdown": "<span style=white-space:pre-wrap>'Critical value:  797.999999999999'</span>",
            "text/html": [
              "<span style=white-space:pre-wrap>'Critical value:  797.999999999999'</span>"
            ]
          },
          "metadata": {}
        },
        {
          "output_type": "display_data",
          "data": {
            "text/plain": [
              "[1] \"We do not reject Ho 0.05\""
            ],
            "text/latex": "'We do not reject Ho 0.05'",
            "text/markdown": "'We do not reject Ho 0.05'",
            "text/html": [
              "'We do not reject Ho 0.05'"
            ]
          },
          "metadata": {}
        }
      ]
    },
    {
      "cell_type": "markdown",
      "metadata": {
        "id": "yur54LP7tttA"
      },
      "source": [
        "### ex 3.3 Confidence Regions and Simultaneous Comparisons of Component Mean\n"
      ]
    },
    {
      "cell_type": "code",
      "metadata": {
        "colab": {
          "base_uri": "https://localhost:8080/",
          "height": 68
        },
        "id": "wF0c2ApPtQMj",
        "outputId": "20e4be3d-64cc-483f-f068-82628c26a898"
      },
      "source": [
        "Xbar = matrix(c(4.64,45.4,9.965),3,1) \n",
        "S = matrix(c(2.879,10.01,-1.81,10.01,199.788,-5.64,-1.81,-5.64,3.628),3,3) \n",
        "n=20\n",
        "p=3\n",
        "##############################################\n",
        "L1=Xbar[1,1]-(sqrt(((n-1)*p)/(n-p)*qf(1-0.05,p,n-p))*sqrt(S[1,1]/n))\n",
        "U1=Xbar[1,1]+(sqrt(((n-1)*p)/(n-p)*qf(1-0.05,p,n-p))*sqrt(S[1,1]/n))\n",
        "paste(\"The lower bound L1: \",L1, \"/ The upper bound U1: \",U1)\n",
        "##############################################\n",
        "L2=Xbar[2,1]-(sqrt(((n-1)*p)/(n-p)*qf(1-0.05,p,n-p))*sqrt(S[2,2]/n))\n",
        "U2=Xbar[2,1]+(sqrt(((n-1)*p)/(n-p)*qf(1-0.05,p,n-p))*sqrt(S[2,2]/n))\n",
        "paste(\"The lower bound L2: \",L2, \"/ The upper bound U2: \",U2)\n",
        "##############################################\n",
        "L3=Xbar[3,1]-(sqrt(((n-1)*p)/(n-p)*qf(1-0.05,p,n-p))*sqrt(S[3,3]/n))\n",
        "U3=Xbar[3,1]+(sqrt(((n-1)*p)/(n-p)*qf(1-0.05,p,n-p))*sqrt(S[3,3]/n))\n",
        "paste(\"The lower bound L3: \",L3, \"/ The upper bound U3: \",U3)"
      ],
      "execution_count": 83,
      "outputs": [
        {
          "output_type": "display_data",
          "data": {
            "text/plain": [
              "[1] \"The lower bound L1:  3.39784737376965 / The upper bound U1:  5.88215262623035\""
            ],
            "text/latex": "'The lower bound L1:  3.39784737376965 / The upper bound U1:  5.88215262623035'",
            "text/markdown": "<span style=white-space:pre-wrap>'The lower bound L1:  3.39784737376965 / The upper bound U1:  5.88215262623035'</span>",
            "text/html": [
              "<span style=white-space:pre-wrap>'The lower bound L1:  3.39784737376965 / The upper bound U1:  5.88215262623035'</span>"
            ]
          },
          "metadata": {}
        },
        {
          "output_type": "display_data",
          "data": {
            "text/plain": [
              "[1] \"The lower bound L2:  35.0524191324724 / The upper bound U2:  55.7475808675276\""
            ],
            "text/latex": "'The lower bound L2:  35.0524191324724 / The upper bound U2:  55.7475808675276'",
            "text/markdown": "<span style=white-space:pre-wrap>'The lower bound L2:  35.0524191324724 / The upper bound U2:  55.7475808675276'</span>",
            "text/html": [
              "<span style=white-space:pre-wrap>'The lower bound L2:  35.0524191324724 / The upper bound U2:  55.7475808675276'</span>"
            ]
          },
          "metadata": {}
        },
        {
          "output_type": "display_data",
          "data": {
            "text/plain": [
              "[1] \"The lower bound L3:  8.57059873316884 / The upper bound U3:  11.3594012668312\""
            ],
            "text/latex": "'The lower bound L3:  8.57059873316884 / The upper bound U3:  11.3594012668312'",
            "text/markdown": "<span style=white-space:pre-wrap>'The lower bound L3:  8.57059873316884 / The upper bound U3:  11.3594012668312'</span>",
            "text/html": [
              "<span style=white-space:pre-wrap>'The lower bound L3:  8.57059873316884 / The upper bound U3:  11.3594012668312'</span>"
            ]
          },
          "metadata": {}
        }
      ]
    },
    {
      "cell_type": "markdown",
      "metadata": {
        "id": "ePmcntOdv4xY"
      },
      "source": [
        "### The Bonferroni method of multiple comparisons"
      ]
    },
    {
      "cell_type": "markdown",
      "metadata": {
        "id": "Lq6u5sA5v6Pf"
      },
      "source": [
        "### ex 3.4"
      ]
    },
    {
      "cell_type": "code",
      "metadata": {
        "colab": {
          "base_uri": "https://localhost:8080/",
          "height": 68
        },
        "id": "wFEtM03aummZ",
        "outputId": "55294382-beb3-4bb4-800b-b09595c56613"
      },
      "source": [
        "Xbar = matrix(c(4.64,45.4,9.965),3,1) \n",
        "S = matrix(c(2.879,10.01,-1.81,10.01,199.788,-5.64,-1.81,-5.64,3.628),3,3) \n",
        "n=20\n",
        "p=3\n",
        "alpha=0.05\n",
        "###############################################\n",
        "L1=Xbar[1,1]-((qt(1-(alpha/(2*p)),n-1))*sqrt(S[1,1]/n))\n",
        "U1=Xbar[1,1]+((qt(1-(alpha/(2*p)),n-1))*sqrt(S[1,1]/n))\n",
        "paste(\"The lower bound L1: \",L1, \"/ The upper bound U1: \",U1)\n",
        "###############################################\n",
        "L2=Xbar[2,1]-((qt(1-(alpha/(2*p)),n-1))*sqrt(S[2,2]/n))\n",
        "U2=Xbar[2,1]+((qt(1-(alpha/(2*p)),n-1))*sqrt(S[2,2]/n))\n",
        "paste(\"The lower bound L2: \",L2, \"/ The upper bound U2: \",U2)\n",
        "###############################################\n",
        "L3=Xbar[3,1]-((qt(1-(alpha/(2*p)),n-1))*sqrt(S[3,3]/n))\n",
        "U3=Xbar[3,1]+((qt(1-(alpha/(2*p)),n-1))*sqrt(S[3,3]/n))\n",
        "paste(\"The lower bound L3: \",L3, \"/ The upper bound U3: \",U3)"
      ],
      "execution_count": 84,
      "outputs": [
        {
          "output_type": "display_data",
          "data": {
            "text/plain": [
              "[1] \"The lower bound L1:  3.64401530485706 / The upper bound U1:  5.63598469514294\""
            ],
            "text/latex": "'The lower bound L1:  3.64401530485706 / The upper bound U1:  5.63598469514294'",
            "text/markdown": "<span style=white-space:pre-wrap>'The lower bound L1:  3.64401530485706 / The upper bound U1:  5.63598469514294'</span>",
            "text/html": [
              "<span style=white-space:pre-wrap>'The lower bound L1:  3.64401530485706 / The upper bound U1:  5.63598469514294'</span>"
            ]
          },
          "metadata": {}
        },
        {
          "output_type": "display_data",
          "data": {
            "text/plain": [
              "[1] \"The lower bound L2:  37.1030870778836 / The upper bound U2:  53.6969129221164\""
            ],
            "text/latex": "'The lower bound L2:  37.1030870778836 / The upper bound U2:  53.6969129221164'",
            "text/markdown": "<span style=white-space:pre-wrap>'The lower bound L2:  37.1030870778836 / The upper bound U2:  53.6969129221164'</span>",
            "text/html": [
              "<span style=white-space:pre-wrap>'The lower bound L2:  37.1030870778836 / The upper bound U2:  53.6969129221164'</span>"
            ]
          },
          "metadata": {}
        },
        {
          "output_type": "display_data",
          "data": {
            "text/plain": [
              "[1] \"The lower bound L3:  8.84693906986578 / The upper bound U3:  11.0830609301342\""
            ],
            "text/latex": "'The lower bound L3:  8.84693906986578 / The upper bound U3:  11.0830609301342'",
            "text/markdown": "<span style=white-space:pre-wrap>'The lower bound L3:  8.84693906986578 / The upper bound U3:  11.0830609301342'</span>",
            "text/html": [
              "<span style=white-space:pre-wrap>'The lower bound L3:  8.84693906986578 / The upper bound U3:  11.0830609301342'</span>"
            ]
          },
          "metadata": {}
        }
      ]
    },
    {
      "cell_type": "markdown",
      "metadata": {
        "id": "GDEdAoL3yYxQ"
      },
      "source": [
        "### ex 3.5 Comparing Mean Vectors from Two Populations\n",
        "#### The two-sample situation when Σ1= Σ2\n",
        "\n",
        "\n"
      ]
    },
    {
      "cell_type": "code",
      "metadata": {
        "colab": {
          "base_uri": "https://localhost:8080/",
          "height": 68
        },
        "id": "Br80VlQewybw",
        "outputId": "643bb64c-4585-42b8-cef0-cdfdd63de351"
      },
      "source": [
        "Xbar1 = matrix(c(8.3,4.1),2,1)\n",
        "Xbar2 = matrix(c(10.2,3.9),2,1)\n",
        "S1 = matrix(c(2,1,1,6),2,2)\n",
        "S2 = matrix(c(2,1,1,4),2,2)\n",
        "n1 = 50\n",
        "n2 = 50\n",
        "Sp = (((n1-1)/(n1+n1-2))*S1)+(((n2-1)/(n1+n2-2))*S2)\n",
        "p=2\n",
        "alpha=0.05\n",
        "###################################################\n",
        "T2 = t(Xbar1-Xbar2)%*%solve(((1/n1)+(1/n2))*Sp)%*%(Xbar1-Xbar2)\n",
        "paste(\"The T2 value: \",T2)\n",
        "###################################################\n",
        "cri_val = ((n1+n2-2)*p)/(n1+n2-p-1)*qf(1-0.05,p,n1+n2-p-1)\n",
        "paste(\"The critical value: \",cri_val)\n",
        "###################################################\n",
        "if(T2 < cri_val){\n",
        "      paste(\"We do not reject Ho\",alpha)\n",
        "}else{\n",
        "      paste(\"We reject Ho\",alpha)\n",
        "}"
      ],
      "execution_count": 85,
      "outputs": [
        {
          "output_type": "display_data",
          "data": {
            "text/plain": [
              "[1] \"The T2 value:  52.4722222222221\""
            ],
            "text/latex": "'The T2 value:  52.4722222222221'",
            "text/markdown": "<span style=white-space:pre-wrap>'The T2 value:  52.4722222222221'</span>",
            "text/html": [
              "<span style=white-space:pre-wrap>'The T2 value:  52.4722222222221'</span>"
            ]
          },
          "metadata": {}
        },
        {
          "output_type": "display_data",
          "data": {
            "text/plain": [
              "[1] \"The critical value:  6.24408853948819\""
            ],
            "text/latex": "'The critical value:  6.24408853948819'",
            "text/markdown": "<span style=white-space:pre-wrap>'The critical value:  6.24408853948819'</span>",
            "text/html": [
              "<span style=white-space:pre-wrap>'The critical value:  6.24408853948819'</span>"
            ]
          },
          "metadata": {}
        },
        {
          "output_type": "display_data",
          "data": {
            "text/plain": [
              "[1] \"We reject Ho 0.05\""
            ],
            "text/latex": "'We reject Ho 0.05'",
            "text/markdown": "'We reject Ho 0.05'",
            "text/html": [
              "'We reject Ho 0.05'"
            ]
          },
          "metadata": {}
        }
      ]
    },
    {
      "cell_type": "markdown",
      "metadata": {
        "id": "0ZRXbQcy0X9w"
      },
      "source": [
        "### ex 3.6 Simultaneous confidence intervals"
      ]
    },
    {
      "cell_type": "code",
      "metadata": {
        "colab": {
          "base_uri": "https://localhost:8080/",
          "height": 85
        },
        "id": "dV1HUz4NztyJ",
        "outputId": "881ef15f-c6e9-4750-aec2-a6b80f802526"
      },
      "source": [
        "Xbar1 = matrix(c(8.3,4.1),2,1)\n",
        "Xbar2 = matrix(c(10.2,3.9),2,1)\n",
        "S1 = matrix(c(2,1,1,6),2,2)\n",
        "S2 = matrix(c(2,1,1,4),2,2)\n",
        "n1 = 50\n",
        "n2 = 50\n",
        "Sp = (((n1-1)/(n1+n1-2))*S1)+(((n2-1)/(n1+n2-2))*S2)\n",
        "p=2\n",
        "alpha=0.05\n",
        "###################################################\n",
        "L1 = (Xbar1[1]-Xbar2[1])-(sqrt(cri_val)*sqrt(((1/n1)+(1/n2))*Sp[1])) \n",
        "paste(\"The lower bound L1: \",L1)\n",
        "U1 = (Xbar1[1]-Xbar2[1])+(sqrt(cri_val)*sqrt(((1/n1)+(1/n2))*Sp[1]))\n",
        "paste(\"The upper bound U1: \",U1)\n",
        "###################################################\n",
        "L2 = (Xbar1[2]-Xbar2[2])-(sqrt(cri_val)*sqrt(((1/n1)+(1/n2))*Sp[4]))\n",
        "paste(\"The lower bound L2: \",L2)\n",
        "U2 = (Xbar1[2]-Xbar2[2])+(sqrt(cri_val)*sqrt(((1/n1)+(1/n2))*Sp[4]))\n",
        "paste(\"The upper bound U2: \",U2)"
      ],
      "execution_count": 86,
      "outputs": [
        {
          "output_type": "display_data",
          "data": {
            "text/plain": [
              "[1] \"The lower bound L1:  -2.60677229937162\""
            ],
            "text/latex": "'The lower bound L1:  -2.60677229937162'",
            "text/markdown": "<span style=white-space:pre-wrap>'The lower bound L1:  -2.60677229937162'</span>",
            "text/html": [
              "<span style=white-space:pre-wrap>'The lower bound L1:  -2.60677229937162'</span>"
            ]
          },
          "metadata": {}
        },
        {
          "output_type": "display_data",
          "data": {
            "text/plain": [
              "[1] \"The upper bound U1:  -1.19322770062837\""
            ],
            "text/latex": "'The upper bound U1:  -1.19322770062837'",
            "text/markdown": "<span style=white-space:pre-wrap>'The upper bound U1:  -1.19322770062837'</span>",
            "text/html": [
              "<span style=white-space:pre-wrap>'The upper bound U1:  -1.19322770062837'</span>"
            ]
          },
          "metadata": {}
        },
        {
          "output_type": "display_data",
          "data": {
            "text/plain": [
              "[1] \"The lower bound L2:  -0.917505126564365\""
            ],
            "text/latex": "'The lower bound L2:  -0.917505126564365'",
            "text/markdown": "<span style=white-space:pre-wrap>'The lower bound L2:  -0.917505126564365'</span>",
            "text/html": [
              "<span style=white-space:pre-wrap>'The lower bound L2:  -0.917505126564365'</span>"
            ]
          },
          "metadata": {}
        },
        {
          "output_type": "display_data",
          "data": {
            "text/plain": [
              "[1] \"The upper bound U2:  1.31750512656436\""
            ],
            "text/latex": "'The upper bound U2:  1.31750512656436'",
            "text/markdown": "<span style=white-space:pre-wrap>'The upper bound U2:  1.31750512656436'</span>",
            "text/html": [
              "<span style=white-space:pre-wrap>'The upper bound U2:  1.31750512656436'</span>"
            ]
          },
          "metadata": {}
        }
      ]
    },
    {
      "cell_type": "markdown",
      "metadata": {
        "id": "-z6gyV-01Q-A"
      },
      "source": [
        "### ex 3.7 The Bonferroni 100(1 -0.05)% simultaneous confidence intervals for the differences in the mean component"
      ]
    },
    {
      "cell_type": "code",
      "metadata": {
        "colab": {
          "base_uri": "https://localhost:8080/",
          "height": 85
        },
        "id": "v7T8YyII1ExZ",
        "outputId": "f6a101b3-b9a0-4390-9d9a-1336720371f2"
      },
      "source": [
        "Xbar1 = matrix(c(8.3,4.1),2,1)\n",
        "Xbar2 = matrix(c(10.2,3.9),2,1)\n",
        "S1 = matrix(c(2,1,1,6),2,2)\n",
        "S2 = matrix(c(2,1,1,4),2,2)\n",
        "n1 = 50\n",
        "n2 = 50\n",
        "Sp = (((n1-1)/(n1+n2-2))*S1)+(((n2-1)/(n1+n2-2))*S2)\n",
        "p=2\n",
        "alpha=0.05\n",
        "D = qt(1-(0.05/(2*p)),n1+n2-2)\n",
        "############################################################\n",
        "L1 = (Xbar1[1]-Xbar2[1])-(D*sqrt(((1/n1)+(1/n2))*Sp[1,1]))\n",
        "paste(\"The lower bound L1: \",L1)\n",
        "U1 = (Xbar1[1]-Xbar2[1])+(D*sqrt(((1/n1)+(1/n2))*Sp[1,1]))\n",
        "paste(\"The upper bound U1: \",U1)\n",
        "############################################################\n",
        "L2 = (Xbar1[2]-Xbar2[2])-(D*sqrt(((1/n1)+(1/n2))*Sp[2,2]))\n",
        "paste(\"The lower bound L2: \",L2)\n",
        "U2 = (Xbar1[2]-Xbar2[2])+(D*sqrt(((1/n1)+(1/n2))*Sp[2,2]))\n",
        "paste(\"The upper bound U2: \",U2)"
      ],
      "execution_count": 87,
      "outputs": [
        {
          "output_type": "display_data",
          "data": {
            "text/plain": [
              "[1] \"The lower bound L1:  -2.54385234819145\""
            ],
            "text/latex": "'The lower bound L1:  -2.54385234819145'",
            "text/markdown": "<span style=white-space:pre-wrap>'The lower bound L1:  -2.54385234819145'</span>",
            "text/html": [
              "<span style=white-space:pre-wrap>'The lower bound L1:  -2.54385234819145'</span>"
            ]
          },
          "metadata": {}
        },
        {
          "output_type": "display_data",
          "data": {
            "text/plain": [
              "[1] \"The upper bound U1:  -1.25614765180855\""
            ],
            "text/latex": "'The upper bound U1:  -1.25614765180855'",
            "text/markdown": "<span style=white-space:pre-wrap>'The upper bound U1:  -1.25614765180855'</span>",
            "text/html": [
              "<span style=white-space:pre-wrap>'The upper bound U1:  -1.25614765180855'</span>"
            ]
          },
          "metadata": {}
        },
        {
          "output_type": "display_data",
          "data": {
            "text/plain": [
              "[1] \"The lower bound L2:  -0.818019948566383\""
            ],
            "text/latex": "'The lower bound L2:  -0.818019948566383'",
            "text/markdown": "<span style=white-space:pre-wrap>'The lower bound L2:  -0.818019948566383'</span>",
            "text/html": [
              "<span style=white-space:pre-wrap>'The lower bound L2:  -0.818019948566383'</span>"
            ]
          },
          "metadata": {}
        },
        {
          "output_type": "display_data",
          "data": {
            "text/plain": [
              "[1] \"The upper bound U2:  1.21801994856638\""
            ],
            "text/latex": "'The upper bound U2:  1.21801994856638'",
            "text/markdown": "<span style=white-space:pre-wrap>'The upper bound U2:  1.21801994856638'</span>",
            "text/html": [
              "<span style=white-space:pre-wrap>'The upper bound U2:  1.21801994856638'</span>"
            ]
          },
          "metadata": {}
        }
      ]
    },
    {
      "cell_type": "markdown",
      "metadata": {
        "id": "Hwd6Krzl2GeX"
      },
      "source": [
        "### The two-sample situation when Σ1≠ Σ2\n",
        "## ex 3.8"
      ]
    },
    {
      "cell_type": "code",
      "metadata": {
        "colab": {
          "base_uri": "https://localhost:8080/",
          "height": 68
        },
        "id": "lO8F48KP12fr",
        "outputId": "80f55866-6895-431a-d6df-d5087af8b866"
      },
      "source": [
        "Xbar1 = matrix(c(204.4,556.6),2,1)\n",
        "Xbar2 = matrix(c(130.0,355.0),2,1)\n",
        "S1 = matrix(c(13825.3,23823.4,23823.3,73107.4),2,2)\n",
        "S2 = matrix(c(8632.0,19616.7,19616.7,55964.5),2,2)\n",
        "n1=45\n",
        "n2=55\n",
        "p=2\n",
        "S = (1/n1)*S1+(1/n2)*S2\n",
        "#####################################\n",
        "T2 = t(Xbar1-Xbar2)%*%solve(S)%*%(Xbar1-Xbar2)\n",
        "paste(\"T2:\",T2)\n",
        "#####################################\n",
        "cri_val = qchisq(1-0.05,p)\n",
        "paste(\"Critical value:\",cri_val)\n",
        "#####################################\n",
        "if(T2 < cri_val){\n",
        "      paste(\"We do not reject Ho\",alpha)\n",
        "}else{\n",
        "      paste(\"We reject Ho\",alpha)\n",
        "}"
      ],
      "execution_count": 88,
      "outputs": [
        {
          "output_type": "display_data",
          "data": {
            "text/plain": [
              "[1] \"T2: 15.6585347596425\""
            ],
            "text/latex": "'T2: 15.6585347596425'",
            "text/markdown": "'T2: 15.6585347596425'",
            "text/html": [
              "'T2: 15.6585347596425'"
            ]
          },
          "metadata": {}
        },
        {
          "output_type": "display_data",
          "data": {
            "text/plain": [
              "[1] \"Critical value: 5.99146454710798\""
            ],
            "text/latex": "'Critical value: 5.99146454710798'",
            "text/markdown": "'Critical value: 5.99146454710798'",
            "text/html": [
              "'Critical value: 5.99146454710798'"
            ]
          },
          "metadata": {}
        },
        {
          "output_type": "display_data",
          "data": {
            "text/plain": [
              "[1] \"We reject Ho 0.05\""
            ],
            "text/latex": "'We reject Ho 0.05'",
            "text/markdown": "'We reject Ho 0.05'",
            "text/html": [
              "'We reject Ho 0.05'"
            ]
          },
          "metadata": {}
        }
      ]
    },
    {
      "cell_type": "markdown",
      "metadata": {
        "id": "ZTTGau6L3fXi"
      },
      "source": [
        "### Example 3.9"
      ]
    },
    {
      "cell_type": "code",
      "metadata": {
        "colab": {
          "base_uri": "https://localhost:8080/",
          "height": 51
        },
        "id": "IVDZxjzO3RKx",
        "outputId": "2b674609-8467-4895-f7ff-6b889e955504"
      },
      "source": [
        "Xbar1 = matrix(c(204.4,556.6),2,1)\n",
        "Xbar2 = matrix(c(130.0,355.0),2,1)\n",
        "S1 = matrix(c(13825.3,23823.4,23823.3,73107.4),2,2)\n",
        "S2 = matrix(c(8632.0,19616.7,19616.7,55964.5),2,2)\n",
        "n1=45\n",
        "n2=55\n",
        "p=2\n",
        "S = (1/n1)*S1+(1/n2)*S2\n",
        "#######################################\n",
        "L1 = (Xbar1[1]-Xbar2[1])-(sqrt(qchisq(1-0.05,p))*sqrt(S[1,1]))\n",
        "U1 = (Xbar1[1]-Xbar2[1])+(sqrt(qchisq(1-0.05,p))*sqrt(S[1,1]))\n",
        "########################################\n",
        "L2 = (Xbar1[2]-Xbar2[2])-(sqrt(qchisq(1-0.05,p))*sqrt(S[2,2]))\n",
        "U2 = (Xbar1[2]-Xbar2[2])+(sqrt(qchisq(1-0.05,p))*sqrt(S[2,2]))\n",
        "########################################\n",
        "paste(\"The lower bound L1: \",L1, \"/ The upper bound U1: \",U1)\n",
        "paste(\"The lower bound L2: \",L2, \"/ The upper bound U2: \",U2)"
      ],
      "execution_count": 89,
      "outputs": [
        {
          "output_type": "display_data",
          "data": {
            "text/plain": [
              "[1] \"The lower bound L1:  21.664014919943 / The upper bound U1:  127.135985080057\""
            ],
            "text/latex": "'The lower bound L1:  21.664014919943 / The upper bound U1:  127.135985080057'",
            "text/markdown": "<span style=white-space:pre-wrap>'The lower bound L1:  21.664014919943 / The upper bound U1:  127.135985080057'</span>",
            "text/html": [
              "<span style=white-space:pre-wrap>'The lower bound L1:  21.664014919943 / The upper bound U1:  127.135985080057'</span>"
            ]
          },
          "metadata": {}
        },
        {
          "output_type": "display_data",
          "data": {
            "text/plain": [
              "[1] \"The lower bound L2:  75.7814019756431 / The upper bound U2:  327.418598024357\""
            ],
            "text/latex": "'The lower bound L2:  75.7814019756431 / The upper bound U2:  327.418598024357'",
            "text/markdown": "<span style=white-space:pre-wrap>'The lower bound L2:  75.7814019756431 / The upper bound U2:  327.418598024357'</span>",
            "text/html": [
              "<span style=white-space:pre-wrap>'The lower bound L2:  75.7814019756431 / The upper bound U2:  327.418598024357'</span>"
            ]
          },
          "metadata": {}
        }
      ]
    },
    {
      "cell_type": "markdown",
      "metadata": {
        "id": "OCtXetpM65qo"
      },
      "source": [
        "### 3.4 Testing of Equality of Covariance Matrices"
      ]
    },
    {
      "cell_type": "markdown",
      "metadata": {
        "id": "zKJ9CoJo7V0X"
      },
      "source": [
        "#### Example 3.10"
      ]
    },
    {
      "cell_type": "code",
      "metadata": {
        "colab": {
          "base_uri": "https://localhost:8080/",
          "height": 68
        },
        "id": "FeNsWhBZ5PdQ",
        "outputId": "a793fd9a-5c9b-4576-9de9-6e2c779c5806"
      },
      "source": [
        "Xbar1 = matrix(c(8.3,4.1),2,1)\n",
        "Xbar2 = matrix(c(10.2,3.9),2,1)\n",
        "S1 = matrix(c(2,1,1,6),2,2)\n",
        "S2 = matrix(c(2,1,1,4),2,2)\n",
        "n1 = 50\n",
        "n2 = 50\n",
        "Sp = ((n1-1)*S1+(n2-1)*S2)/(n1+n2-2)\n",
        "p=2\n",
        "g=2\n",
        "alpha=0.05\n",
        "#################################################################\n",
        "lnM = ((1/2)*(((n1-1)*log(det(S1)))+(n2-1)*log(det(S2))))-((1/2)*(n1-1+n2-1)*log(det(Sp)))\n",
        "paste(\"lnM:\",lnM)\n",
        "#################################################################\n",
        "c1 = ((1/(n1-1))+(1/(n2-1))-(1/(n1+n2-2)))*(((2*(p^2))+(3*p)-1)/(6*(p+1)*(g-1)))\n",
        "paste(\"c1:\",c1)\n",
        "##########################################################\n",
        "U = -2*(1-c1)*lnM\n",
        "cri_val = qchisq(1-0.05,3)\n",
        "if( U < cri_val){\n",
        "    paste(\"Since U =\",U, \"< critical value = \",cri_val,\",then do not reject H0\")\n",
        "}else if( U == cri_val){\n",
        "    paste(\"Since U =\",U, \"= critical value = \",cri_val,\",then do not reject H0\")\n",
        "}else{\n",
        "    paste(\"Since U =\",U, \"> critical value = \",cri_val,\",then  reject H0\")\n",
        "}"
      ],
      "execution_count": 90,
      "outputs": [
        {
          "output_type": "display_data",
          "data": {
            "text/plain": [
              "[1] \"lnM: -1.2407714540595\""
            ],
            "text/latex": "'lnM: -1.2407714540595'",
            "text/markdown": "'lnM: -1.2407714540595'",
            "text/html": [
              "'lnM: -1.2407714540595'"
            ]
          },
          "metadata": {}
        },
        {
          "output_type": "display_data",
          "data": {
            "text/plain": [
              "[1] \"c1: 0.022108843537415\""
            ],
            "text/latex": "'c1: 0.022108843537415'",
            "text/markdown": "'c1: 0.022108843537415'",
            "text/html": [
              "'c1: 0.022108843537415'"
            ]
          },
          "metadata": {}
        },
        {
          "output_type": "display_data",
          "data": {
            "text/plain": [
              "[1] \"Since U = 2.42667886423201 < critical value =  7.81472790325118 ,then do not reject H0\""
            ],
            "text/latex": "'Since U = 2.42667886423201 < critical value =  7.81472790325118 ,then do not reject H0'",
            "text/markdown": "<span style=white-space:pre-wrap>'Since U = 2.42667886423201 &lt; critical value =  7.81472790325118 ,then do not reject H0'</span>",
            "text/html": [
              "<span style=white-space:pre-wrap>'Since U = 2.42667886423201 &lt; critical value =  7.81472790325118 ,then do not reject H0'</span>"
            ]
          },
          "metadata": {}
        }
      ]
    },
    {
      "cell_type": "code",
      "metadata": {
        "colab": {
          "base_uri": "https://localhost:8080/",
          "height": 68
        },
        "id": "C2wT2mWk89gZ",
        "outputId": "47b51871-e1c6-419e-efd1-10fc00595844"
      },
      "source": [
        "c1 = ((1/(n1-1))+(1/(n2-1))-(1/(n1+n2-2)))*(((2*(p^2))+(3*p)-1)/(6*(p+1)*(g-1)))\n",
        "paste(\"c1:\",c1)\n",
        "c2 = (((1/((n1-1)^2))/((1/(n2-1)^2)))-(1/(((n1-1)+(n2-1))^2)))*(((p-1)*(p+2))/(6*(g-1)))\n",
        "paste(\"c2:\",c2)\n",
        "a1 = (1/2)*(g-1)*p*(p+1)\n",
        "a2 = (a1+2)/abs(c2-(c1^2))\n",
        "b1 = (1-c1-(a1/a2))/a1\n",
        "b2 = (1-c1+(2/a2))/a2\n",
        "if(c2 > c1^2){\n",
        "    F = -2*b1*lnM\n",
        "}else if(c2 < c1^2){\n",
        "    F = (-2*a2*b2*lnM)/(a1*(1+(2*b2*lnM)))\n",
        "}else{\n",
        "    F=NULL\n",
        "}\n",
        "cri_val = qf(1-0.05,a1,a2)\n",
        "if(is.null(F)==0){\n",
        "    if( F < cri_val){\n",
        "           paste(\"Since F =\",F, \"< critical value = \",cri_val,\",then do not reject H0\")\n",
        "     }else if( F == cri_val){\n",
        "           paste(\"Since F =\",F, \"= critical value = \",cri_val,\",then do not reject H0\")\n",
        "     }else{\n",
        "           paste(\"Since F =\",F, \"> critical value = \",cri_val,\",then  reject H0\")\n",
        "      }\n",
        "}else{\n",
        "    print(\"We can't conclude the distribution of F.\")\n",
        "}"
      ],
      "execution_count": 91,
      "outputs": [
        {
          "output_type": "display_data",
          "data": {
            "text/plain": [
              "[1] \"c1: 0.022108843537415\""
            ],
            "text/latex": "'c1: 0.022108843537415'",
            "text/markdown": "'c1: 0.022108843537415'",
            "text/html": [
              "'c1: 0.022108843537415'"
            ]
          },
          "metadata": {}
        },
        {
          "output_type": "display_data",
          "data": {
            "text/plain": [
              "[1] \"c2: 0.666597251145356\""
            ],
            "text/latex": "'c2: 0.666597251145356'",
            "text/markdown": "'c2: 0.666597251145356'",
            "text/html": [
              "'c2: 0.666597251145356'"
            ]
          },
          "metadata": {}
        },
        {
          "output_type": "display_data",
          "data": {
            "text/plain": [
              "[1] \"Since F = 0.478297614626154 < critical value =  4.19267052460948 ,then do not reject H0\""
            ],
            "text/latex": "'Since F = 0.478297614626154 < critical value =  4.19267052460948 ,then do not reject H0'",
            "text/markdown": "<span style=white-space:pre-wrap>'Since F = 0.478297614626154 &lt; critical value =  4.19267052460948 ,then do not reject H0'</span>",
            "text/html": [
              "<span style=white-space:pre-wrap>'Since F = 0.478297614626154 &lt; critical value =  4.19267052460948 ,then do not reject H0'</span>"
            ]
          },
          "metadata": {}
        }
      ]
    },
    {
      "cell_type": "markdown",
      "metadata": {
        "id": "C9UiSDS7-yBP"
      },
      "source": [
        "### 3.5 Paired Comparison"
      ]
    },
    {
      "cell_type": "markdown",
      "metadata": {
        "id": "RR0KPV9D_jQf"
      },
      "source": [
        "### ex 3.11"
      ]
    },
    {
      "cell_type": "code",
      "metadata": {
        "colab": {
          "base_uri": "https://localhost:8080/",
          "height": 68
        },
        "id": "_Q-Iyagu-Svw",
        "outputId": "c10b53d3-44d7-413e-e6d5-bab0bcf98501"
      },
      "source": [
        "n =11\n",
        "p=2\n",
        "X1 = matrix(c(6,6,18,8,11,34,28,71,43,33,20,27,23,64,44,30,75,26,124,54,30,14),11,2)\n",
        "X2 = matrix(c(25,28,36,35,15,44,42,54,34,29,39,15,13,22,29,31,64,30,64,56,20,21),11,2)\n",
        "d = X1-X2\n",
        "dmean = colMeans(d)\n",
        "dbar=matrix(c(dmean[1],dmean[2]),2,1)\n",
        "Sd=cov(d)\n",
        "alpha=0.05\n",
        "##############################################\n",
        "T2= n*t(dbar)%*%solve(Sd)%*%dbar\n",
        "paste(\"T2 value:\",T2)\n",
        "##############################################\n",
        "T2_cri = ((2*(n-1)))/(n-p)*qf(1-0.05,p,n-p)\n",
        "paste(\"T2_cri:\",T2_cri)\n",
        "##############################################\n",
        "if(T2 < T2_cri){\n",
        "      paste(\"We do not reject Ho\",alpha)\n",
        "}else{\n",
        "      paste(\"We reject Ho\",alpha)\n",
        "}"
      ],
      "execution_count": 92,
      "outputs": [
        {
          "output_type": "display_data",
          "data": {
            "text/plain": [
              "[1] \"T2 value: 13.6393121401747\""
            ],
            "text/latex": "'T2 value: 13.6393121401747'",
            "text/markdown": "'T2 value: 13.6393121401747'",
            "text/html": [
              "'T2 value: 13.6393121401747'"
            ]
          },
          "metadata": {}
        },
        {
          "output_type": "display_data",
          "data": {
            "text/plain": [
              "[1] \"T2_cri: 9.45887717576388\""
            ],
            "text/latex": "'T2\\_cri: 9.45887717576388'",
            "text/markdown": "'T2_cri: 9.45887717576388'",
            "text/html": [
              "'T2_cri: 9.45887717576388'"
            ]
          },
          "metadata": {}
        },
        {
          "output_type": "display_data",
          "data": {
            "text/plain": [
              "[1] \"We reject Ho 0.05\""
            ],
            "text/latex": "'We reject Ho 0.05'",
            "text/markdown": "'We reject Ho 0.05'",
            "text/html": [
              "'We reject Ho 0.05'"
            ]
          },
          "metadata": {}
        }
      ]
    },
    {
      "cell_type": "markdown",
      "metadata": {
        "id": "gp5PrKRIAl32"
      },
      "source": [
        "#### the 95% simultaneous confidence intervals for the mean differences µd1 and µd2"
      ]
    },
    {
      "cell_type": "code",
      "metadata": {
        "colab": {
          "base_uri": "https://localhost:8080/",
          "height": 51
        },
        "id": "PJgyOO4TAPhQ",
        "outputId": "321430d2-0917-4920-a90e-2646c646c1e1"
      },
      "source": [
        "L1 = dbar[1,1]-(sqrt(((n-1)*p/(n-p))*qf(1-0.05,p,n-p))*sqrt(Sd[1,1]/n))\n",
        "U1 = dbar[1,1]+(sqrt(((n-1)*p/(n-p))*qf(1-0.05,p,n-p))*sqrt(Sd[1,1]/n))\n",
        "paste(L1,\"<= mu_d1 <=\",U1)\n",
        "######################################################\n",
        "L2 = dbar[2,1]-(sqrt(((n-1)*p/(n-p))*qf(1-0.05,p,n-p))*sqrt(Sd[2,2]/n))\n",
        "U2 = dbar[2,1]+(sqrt(((n-1)*p/(n-p))*qf(1-0.05,p,n-p))*sqrt(Sd[2,2]/n))\n",
        "paste(L2,\"<= mu_d2 <=\",U2)"
      ],
      "execution_count": 93,
      "outputs": [
        {
          "output_type": "display_data",
          "data": {
            "text/plain": [
              "[1] \"-22.4532723477659 <= mu_d1 <= 3.72599962049317\""
            ],
            "text/latex": "'-22.4532723477659 <= mu\\_d1 <= 3.72599962049317'",
            "text/markdown": "'-22.4532723477659 &lt;= mu_d1 &lt;= 3.72599962049317'",
            "text/html": [
              "'-22.4532723477659 &lt;= mu_d1 &lt;= 3.72599962049317'"
            ]
          },
          "metadata": {}
        },
        {
          "output_type": "display_data",
          "data": {
            "text/plain": [
              "[1] \"-5.70011927020871 <= mu_d2 <= 32.2455738156633\""
            ],
            "text/latex": "'-5.70011927020871 <= mu\\_d2 <= 32.2455738156633'",
            "text/markdown": "'-5.70011927020871 &lt;= mu_d2 &lt;= 32.2455738156633'",
            "text/html": [
              "'-5.70011927020871 &lt;= mu_d2 &lt;= 32.2455738156633'"
            ]
          },
          "metadata": {}
        }
      ]
    },
    {
      "cell_type": "markdown",
      "metadata": {
        "id": "0afY3MN0BAcg"
      },
      "source": [
        "#### The Bonferroni"
      ]
    },
    {
      "cell_type": "code",
      "metadata": {
        "colab": {
          "base_uri": "https://localhost:8080/",
          "height": 51
        },
        "id": "59bS3lFgBA5G",
        "outputId": "cdff94fb-5c25-4747-9e3a-bd3c2729ce8b"
      },
      "source": [
        "D = qt(1-(0.05/(2*p)),n-1)\n",
        "L1 = dbar[1,1]-(qt(1-(0.05/4),n-1)*sqrt(Sd[1,1]/n)) \n",
        "U1 = dbar[1,1]+(qt(1-(0.05/4),n-1)*sqrt(Sd[1,1]/n))\n",
        "paste(L1,\"<= mu_d1 <=\",U1)\n",
        "########################################\n",
        "L2 = dbar[2,1]-(D*sqrt(Sd[2,2]/n)) \n",
        "U2 = dbar[2,1]+(D*sqrt(Sd[2,2]/n))\n",
        "paste(L2,\"<= mu_d2 <=\",U2)"
      ],
      "execution_count": 94,
      "outputs": [
        {
          "output_type": "display_data",
          "data": {
            "text/plain": [
              "[1] \"-20.5731072688261 <= mu_d1 <= 1.84583454155338\""
            ],
            "text/latex": "'-20.5731072688261 <= mu\\_d1 <= 1.84583454155338'",
            "text/markdown": "'-20.5731072688261 &lt;= mu_d1 &lt;= 1.84583454155338'",
            "text/html": [
              "'-20.5731072688261 &lt;= mu_d1 &lt;= 1.84583454155338'"
            ]
          },
          "metadata": {}
        },
        {
          "output_type": "display_data",
          "data": {
            "text/plain": [
              "[1] \"-2.97490341536277 <= mu_d2 <= 29.5203579608173\""
            ],
            "text/latex": "'-2.97490341536277 <= mu\\_d2 <= 29.5203579608173'",
            "text/markdown": "'-2.97490341536277 &lt;= mu_d2 &lt;= 29.5203579608173'",
            "text/html": [
              "'-2.97490341536277 &lt;= mu_d2 &lt;= 29.5203579608173'"
            ]
          },
          "metadata": {}
        }
      ]
    },
    {
      "cell_type": "code",
      "metadata": {
        "id": "ph-5to9OBeA4"
      },
      "source": [
        ""
      ],
      "execution_count": 95,
      "outputs": []
    }
  ]
}