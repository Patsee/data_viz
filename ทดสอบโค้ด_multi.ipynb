{
  "nbformat": 4,
  "nbformat_minor": 0,
  "metadata": {
    "colab": {
      "name": "ทดสอบโค้ด multi",
      "provenance": [],
      "authorship_tag": "ABX9TyOd5uSpVVkZLKQhSHBmClva",
      "include_colab_link": true
    },
    "kernelspec": {
      "name": "ir",
      "display_name": "R"
    },
    "language_info": {
      "name": "R"
    }
  },
  "cells": [
    {
      "cell_type": "markdown",
      "metadata": {
        "id": "view-in-github",
        "colab_type": "text"
      },
      "source": [
        "<a href=\"https://colab.research.google.com/github/Patsee/data_viz/blob/main/%E0%B8%97%E0%B8%94%E0%B8%AA%E0%B8%AD%E0%B8%9A%E0%B9%82%E0%B8%84%E0%B9%89%E0%B8%94_multi.ipynb\" target=\"_parent\"><img src=\"https://colab.research.google.com/assets/colab-badge.svg\" alt=\"Open In Colab\"/></a>"
      ]
    },
    {
      "cell_type": "markdown",
      "metadata": {
        "id": "uQDV-qEtnJ4B"
      },
      "source": [
        "###  SC614211 แบบฝึกหัดบทที่ 1"
      ]
    },
    {
      "cell_type": "markdown",
      "metadata": {
        "id": "QlofhxJbnldA"
      },
      "source": [
        "### ข้อ 1"
      ]
    },
    {
      "cell_type": "code",
      "metadata": {
        "colab": {
          "base_uri": "https://localhost:8080/"
        },
        "id": "FMgi9XWjnOWy",
        "outputId": "5e5adb98-1b24-4f8c-d12a-78dd5a012d19"
      },
      "source": [
        "A1 = matrix(c(1,-1,4,1,1,3,4,3,2),3,3)\n",
        "B1 = matrix(c(3,7,2,-2,1,3,4,0,5),3,3)\n",
        "x1 = matrix(c(1,-1,2),3,1)\n",
        "y1 = matrix(c(3,2,1),3,1)\n",
        "print(A1)\n",
        "print(B1)\n",
        "print(x1)\n",
        "print(y1)"
      ],
      "execution_count": 353,
      "outputs": [
        {
          "output_type": "stream",
          "name": "stdout",
          "text": [
            "     [,1] [,2] [,3]\n",
            "[1,]    1    1    4\n",
            "[2,]   -1    1    3\n",
            "[3,]    4    3    2\n",
            "     [,1] [,2] [,3]\n",
            "[1,]    3   -2    4\n",
            "[2,]    7    1    0\n",
            "[3,]    2    3    5\n",
            "     [,1]\n",
            "[1,]    1\n",
            "[2,]   -1\n",
            "[3,]    2\n",
            "     [,1]\n",
            "[1,]    3\n",
            "[2,]    2\n",
            "[3,]    1\n"
          ]
        }
      ]
    },
    {
      "cell_type": "code",
      "metadata": {
        "colab": {
          "base_uri": "https://localhost:8080/"
        },
        "id": "bvFMvmGsnQmr",
        "outputId": "fe562495-af0d-4a86-b1a3-78d126d952b3"
      },
      "source": [
        "Ax1 = A1%*%x1\n",
        "print(Ax1)"
      ],
      "execution_count": 354,
      "outputs": [
        {
          "output_type": "stream",
          "name": "stdout",
          "text": [
            "     [,1]\n",
            "[1,]    8\n",
            "[2,]    4\n",
            "[3,]    5\n"
          ]
        }
      ]
    },
    {
      "cell_type": "code",
      "metadata": {
        "colab": {
          "base_uri": "https://localhost:8080/"
        },
        "id": "AnlFi82TnTj5",
        "outputId": "efd7f81e-67b9-453e-bdf4-d131b9a7d192"
      },
      "source": [
        "tran_x1 = t(x1)\n",
        "print(tran_x1)"
      ],
      "execution_count": 355,
      "outputs": [
        {
          "output_type": "stream",
          "name": "stdout",
          "text": [
            "     [,1] [,2] [,3]\n",
            "[1,]    1   -1    2\n"
          ]
        }
      ]
    },
    {
      "cell_type": "code",
      "metadata": {
        "colab": {
          "base_uri": "https://localhost:8080/"
        },
        "id": "KYpMJHhSnXAZ",
        "outputId": "0be232ca-812f-45cf-8811-aeecaaf451bc"
      },
      "source": [
        "x_tran_A1x = print(tran_x1%*%Ax1)\n",
        "x_tran_y = print(tran_x1%*%y1)\n",
        "B_tran = t(B1)\n",
        "print(B_tran)"
      ],
      "execution_count": 356,
      "outputs": [
        {
          "output_type": "stream",
          "name": "stdout",
          "text": [
            "     [,1]\n",
            "[1,]   14\n",
            "     [,1]\n",
            "[1,]    3\n",
            "     [,1] [,2] [,3]\n",
            "[1,]    3    7    2\n",
            "[2,]   -2    1    3\n",
            "[3,]    4    0    5\n"
          ]
        }
      ]
    },
    {
      "cell_type": "markdown",
      "metadata": {
        "id": "zji4Le_1no6K"
      },
      "source": [
        "### ข้อ 2 พิสูจน์"
      ]
    },
    {
      "cell_type": "code",
      "metadata": {
        "colab": {
          "base_uri": "https://localhost:8080/"
        },
        "id": "IRizPYfOnfSQ",
        "outputId": "9b607419-915c-43e2-bccf-aa53527b0933"
      },
      "source": [
        "A2 = matrix(c(5,2,3,4,-3,7,4,1,2),3,3)\n",
        "B2 = matrix(c(1,0,1,0,1,2,1,0,3),3,3)\n",
        "print(A2)\n",
        "print(B2)"
      ],
      "execution_count": 357,
      "outputs": [
        {
          "output_type": "stream",
          "name": "stdout",
          "text": [
            "     [,1] [,2] [,3]\n",
            "[1,]    5    4    4\n",
            "[2,]    2   -3    1\n",
            "[3,]    3    7    2\n",
            "     [,1] [,2] [,3]\n",
            "[1,]    1    0    1\n",
            "[2,]    0    1    0\n",
            "[3,]    1    2    3\n"
          ]
        }
      ]
    },
    {
      "cell_type": "code",
      "metadata": {
        "colab": {
          "base_uri": "https://localhost:8080/"
        },
        "id": "3ojm4ZzpnuHw",
        "outputId": "d782efd7-7a02-4c7a-b639-c3ef0205d353"
      },
      "source": [
        "A2_x_B2 = print(A2%*%B2)\n",
        "print(abs(A2_x_B2))"
      ],
      "execution_count": 358,
      "outputs": [
        {
          "output_type": "stream",
          "name": "stdout",
          "text": [
            "     [,1] [,2] [,3]\n",
            "[1,]    9   12   17\n",
            "[2,]    3   -1    5\n",
            "[3,]    5   11    9\n",
            "     [,1] [,2] [,3]\n",
            "[1,]    9   12   17\n",
            "[2,]    3    1    5\n",
            "[3,]    5   11    9\n"
          ]
        }
      ]
    },
    {
      "cell_type": "code",
      "metadata": {
        "colab": {
          "base_uri": "https://localhost:8080/"
        },
        "id": "FKYKUnZonyWB",
        "outputId": "8ebbd913-73eb-40e5-c2a9-2955b5202bef"
      },
      "source": [
        "absA2 = abs(A2)\n",
        "absB2 = abs(B2)\n",
        "ABSA2_x_B2 = print(absA2%*%absB2)"
      ],
      "execution_count": 359,
      "outputs": [
        {
          "output_type": "stream",
          "name": "stdout",
          "text": [
            "     [,1] [,2] [,3]\n",
            "[1,]    9   12   17\n",
            "[2,]    3    5    5\n",
            "[3,]    5   11    9\n"
          ]
        }
      ]
    },
    {
      "cell_type": "markdown",
      "metadata": {
        "id": "2zT2pu12n7lw"
      },
      "source": [
        "### ข้อ 2.2"
      ]
    },
    {
      "cell_type": "code",
      "metadata": {
        "colab": {
          "base_uri": "https://localhost:8080/"
        },
        "id": "m1V557Mrn2tR",
        "outputId": "034c36ff-27ce-45c0-a20b-25e726d742fc"
      },
      "source": [
        "AB2_tran = t(A2%*%B2)\n",
        "print(AB2_tran)"
      ],
      "execution_count": 360,
      "outputs": [
        {
          "output_type": "stream",
          "name": "stdout",
          "text": [
            "     [,1] [,2] [,3]\n",
            "[1,]    9    3    5\n",
            "[2,]   12   -1   11\n",
            "[3,]   17    5    9\n"
          ]
        }
      ]
    },
    {
      "cell_type": "code",
      "metadata": {
        "colab": {
          "base_uri": "https://localhost:8080/"
        },
        "id": "ss95hf1Kn_H5",
        "outputId": "31547d5e-ab30-4474-8e64-01b36ae9ac3d"
      },
      "source": [
        "A2_tran = print(t(A2))\n",
        "B2_tran = print(t(B2))"
      ],
      "execution_count": 361,
      "outputs": [
        {
          "output_type": "stream",
          "name": "stdout",
          "text": [
            "     [,1] [,2] [,3]\n",
            "[1,]    5    2    3\n",
            "[2,]    4   -3    7\n",
            "[3,]    4    1    2\n",
            "     [,1] [,2] [,3]\n",
            "[1,]    1    0    1\n",
            "[2,]    0    1    2\n",
            "[3,]    1    0    3\n"
          ]
        }
      ]
    },
    {
      "cell_type": "code",
      "metadata": {
        "colab": {
          "base_uri": "https://localhost:8080/"
        },
        "id": "tgIxmn4roBMw",
        "outputId": "c8a534f9-331b-4a5e-faf2-ac46cb649f39"
      },
      "source": [
        "print(A2_tran%*%B2_tran) # ไม่เท่ากัน"
      ],
      "execution_count": 362,
      "outputs": [
        {
          "output_type": "stream",
          "name": "stdout",
          "text": [
            "     [,1] [,2] [,3]\n",
            "[1,]    8    2   18\n",
            "[2,]   11   -3   19\n",
            "[3,]    6    1   12\n"
          ]
        }
      ]
    },
    {
      "cell_type": "markdown",
      "metadata": {
        "id": "mzMtANF9oFV4"
      },
      "source": [
        "### ข้อ 3"
      ]
    },
    {
      "cell_type": "code",
      "metadata": {
        "colab": {
          "base_uri": "https://localhost:8080/"
        },
        "id": "e5v2YAR4oDJA",
        "outputId": "efe465af-0fa0-4607-c452-9fecf7492de0"
      },
      "source": [
        "S = matrix(c(140.5,49.68,1.94,49.68,72.25,3.68,1.94,3.68,0.25),3,3)\n",
        "print(S)\n",
        "V = matrix(c(1/11.853270,0,0,0,0.117,0,0,0,2),3,3)\n",
        "print(V)"
      ],
      "execution_count": 363,
      "outputs": [
        {
          "output_type": "stream",
          "name": "stdout",
          "text": [
            "       [,1]  [,2] [,3]\n",
            "[1,] 140.50 49.68 1.94\n",
            "[2,]  49.68 72.25 3.68\n",
            "[3,]   1.94  3.68 0.25\n",
            "           [,1]  [,2] [,3]\n",
            "[1,] 0.08436491 0.000    0\n",
            "[2,] 0.00000000 0.117    0\n",
            "[3,] 0.00000000 0.000    2\n"
          ]
        }
      ]
    },
    {
      "cell_type": "code",
      "metadata": {
        "colab": {
          "base_uri": "https://localhost:8080/"
        },
        "id": "hZb1UpIPoJGJ",
        "outputId": "04fcabd0-e146-4ea8-c009-b5505ac9d533"
      },
      "source": [
        "print(V%*%S%*%V)"
      ],
      "execution_count": 364,
      "outputs": [
        {
          "output_type": "stream",
          "name": "stdout",
          "text": [
            "          [,1]      [,2]      [,3]\n",
            "[1,] 0.9999999 0.4903761 0.3273358\n",
            "[2,] 0.4903761 0.9890303 0.8611200\n",
            "[3,] 0.3273358 0.8611200 1.0000000\n"
          ]
        }
      ]
    },
    {
      "cell_type": "markdown",
      "metadata": {
        "id": "4zYan5cUoTQs"
      },
      "source": [
        "### ข้อ 4"
      ]
    },
    {
      "cell_type": "code",
      "metadata": {
        "colab": {
          "base_uri": "https://localhost:8080/"
        },
        "id": "V6sjXUfHoPyh",
        "outputId": "6a11d3fb-2413-4f3b-bcf3-9187bb17c627"
      },
      "source": [
        "V_mean = matrix(c(-2,3,-1,5),4,1)\n",
        "A4 = matrix(c(11,-8,3,9,-8,9,-3,-6,3,-3,2,3,9,-6,3,9),4,4)\n",
        "print(V_mean)\n",
        "print(A4)"
      ],
      "execution_count": 365,
      "outputs": [
        {
          "output_type": "stream",
          "name": "stdout",
          "text": [
            "     [,1]\n",
            "[1,]   -2\n",
            "[2,]    3\n",
            "[3,]   -1\n",
            "[4,]    5\n",
            "     [,1] [,2] [,3] [,4]\n",
            "[1,]   11   -8    3    9\n",
            "[2,]   -8    9   -3   -6\n",
            "[3,]    3   -3    2    3\n",
            "[4,]    9   -6    3    9\n"
          ]
        }
      ]
    },
    {
      "cell_type": "code",
      "metadata": {
        "colab": {
          "base_uri": "https://localhost:8080/"
        },
        "id": "NYd3rDg4oVr5",
        "outputId": "708b7a71-3753-41b8-bba1-65925e3d324c"
      },
      "source": [
        "Z = matrix(c(3,-1,2,1,-3,2,-4,1,4,-1,-2,-5),3,4)\n",
        "print(Z)"
      ],
      "execution_count": 366,
      "outputs": [
        {
          "output_type": "stream",
          "name": "stdout",
          "text": [
            "     [,1] [,2] [,3] [,4]\n",
            "[1,]    3    1   -4   -1\n",
            "[2,]   -1   -3    1   -2\n",
            "[3,]    2    2    4   -5\n"
          ]
        }
      ]
    },
    {
      "cell_type": "code",
      "metadata": {
        "colab": {
          "base_uri": "https://localhost:8080/"
        },
        "id": "zwD7K-JMof_B",
        "outputId": "77604cb1-367e-47ca-dd26-b85f53670cb4"
      },
      "source": [
        "Z_tran = t(Z)\n",
        "print(Z_tran)"
      ],
      "execution_count": 367,
      "outputs": [
        {
          "output_type": "stream",
          "name": "stdout",
          "text": [
            "     [,1] [,2] [,3]\n",
            "[1,]    3   -1    2\n",
            "[2,]    1   -3    2\n",
            "[3,]   -4    1    4\n",
            "[4,]   -1   -2   -5\n"
          ]
        }
      ]
    },
    {
      "cell_type": "code",
      "metadata": {
        "colab": {
          "base_uri": "https://localhost:8080/"
        },
        "id": "Xa1vKHxBovzh",
        "outputId": "6a18e4aa-5103-4028-83f4-99d4ce255a1c"
      },
      "source": [
        "ΣZ  = print(Z%*%A4%*%Z_tran)"
      ],
      "execution_count": 368,
      "outputs": [
        {
          "output_type": "stream",
          "name": "stdout",
          "text": [
            "     [,1] [,2] [,3]\n",
            "[1,]   35  -18   -6\n",
            "[2,]  -18   46   14\n",
            "[3,]   -6   14   93\n"
          ]
        }
      ]
    },
    {
      "cell_type": "code",
      "metadata": {
        "colab": {
          "base_uri": "https://localhost:8080/"
        },
        "id": "_KVWMe8boxqB",
        "outputId": "3a4f00e9-0d7c-49b6-d11d-4a6b6c174a0a"
      },
      "source": [
        "μ_vector_z = print(Z%*%V_mean)"
      ],
      "execution_count": 369,
      "outputs": [
        {
          "output_type": "stream",
          "name": "stdout",
          "text": [
            "     [,1]\n",
            "[1,]   -4\n",
            "[2,]  -18\n",
            "[3,]  -27\n"
          ]
        }
      ]
    },
    {
      "cell_type": "code",
      "metadata": {
        "colab": {
          "base_uri": "https://localhost:8080/"
        },
        "id": "Hr_MfWwYpUOB",
        "outputId": "3a6515a9-2468-4310-89ee-1b7c27ad1884"
      },
      "source": [
        "install.packages(\"mvtnorm\")\n",
        "library(\"mvtnorm\")"
      ],
      "execution_count": 370,
      "outputs": [
        {
          "output_type": "stream",
          "name": "stderr",
          "text": [
            "Installing package into ‘/usr/local/lib/R/site-library’\n",
            "(as ‘lib’ is unspecified)\n",
            "\n"
          ]
        }
      ]
    },
    {
      "cell_type": "code",
      "metadata": {
        "colab": {
          "base_uri": "https://localhost:8080/"
        },
        "id": "odEzAAHdpnp5",
        "outputId": "023ec9ce-cc92-4890-e4b6-7b10c6e4b428"
      },
      "source": [
        "mu = c(5,10)\n",
        "sigma = matrix(c(3,2,2,6),2,2)\n",
        "print(mu)\n",
        "print(sigma)"
      ],
      "execution_count": 371,
      "outputs": [
        {
          "output_type": "stream",
          "name": "stdout",
          "text": [
            "[1]  5 10\n",
            "     [,1] [,2]\n",
            "[1,]    3    2\n",
            "[2,]    2    6\n"
          ]
        }
      ]
    },
    {
      "cell_type": "code",
      "metadata": {
        "colab": {
          "base_uri": "https://localhost:8080/",
          "height": 0
        },
        "id": "iTYcSkkUpqQ4",
        "outputId": "1429288b-42b1-4d67-8163-9b7e746a5054"
      },
      "source": [
        "x = rmvnorm(1000, mean = mu ,sigma = sigma)\n",
        "head(x)"
      ],
      "execution_count": 372,
      "outputs": [
        {
          "output_type": "display_data",
          "data": {
            "text/plain": [
              "     [,1]     [,2]     \n",
              "[1,] 4.993819 12.081669\n",
              "[2,] 4.503110 17.107018\n",
              "[3,] 5.156608 11.988953\n",
              "[4,] 5.872194 11.047375\n",
              "[5,] 4.133902 10.588573\n",
              "[6,] 3.457724  8.286134"
            ],
            "text/latex": "A matrix: 6 × 2 of type dbl\n\\begin{tabular}{ll}\n\t 4.993819 & 12.081669\\\\\n\t 4.503110 & 17.107018\\\\\n\t 5.156608 & 11.988953\\\\\n\t 5.872194 & 11.047375\\\\\n\t 4.133902 & 10.588573\\\\\n\t 3.457724 &  8.286134\\\\\n\\end{tabular}\n",
            "text/markdown": "\nA matrix: 6 × 2 of type dbl\n\n| 4.993819 | 12.081669 |\n| 4.503110 | 17.107018 |\n| 5.156608 | 11.988953 |\n| 5.872194 | 11.047375 |\n| 4.133902 | 10.588573 |\n| 3.457724 |  8.286134 |\n\n",
            "text/html": [
              "<table class=\"dataframe\">\n",
              "<caption>A matrix: 6 × 2 of type dbl</caption>\n",
              "<tbody>\n",
              "\t<tr><td>4.993819</td><td>12.081669</td></tr>\n",
              "\t<tr><td>4.503110</td><td>17.107018</td></tr>\n",
              "\t<tr><td>5.156608</td><td>11.988953</td></tr>\n",
              "\t<tr><td>5.872194</td><td>11.047375</td></tr>\n",
              "\t<tr><td>4.133902</td><td>10.588573</td></tr>\n",
              "\t<tr><td>3.457724</td><td> 8.286134</td></tr>\n",
              "</tbody>\n",
              "</table>\n"
            ]
          },
          "metadata": {}
        }
      ]
    },
    {
      "cell_type": "code",
      "metadata": {
        "colab": {
          "base_uri": "https://localhost:8080/",
          "height": 0
        },
        "id": "LM4IyMm5pwoZ",
        "outputId": "4696b673-f570-4ae4-bf8f-bd19dc10fc91"
      },
      "source": [
        "summary(x)"
      ],
      "execution_count": 373,
      "outputs": [
        {
          "output_type": "display_data",
          "data": {
            "text/plain": [
              "       V1                V2        \n",
              " Min.   :-0.1294   Min.   : 2.021  \n",
              " 1st Qu.: 3.8527   1st Qu.: 8.342  \n",
              " Median : 5.0652   Median :10.107  \n",
              " Mean   : 5.0764   Mean   :10.014  \n",
              " 3rd Qu.: 6.2136   3rd Qu.:11.703  \n",
              " Max.   :10.8133   Max.   :17.633  "
            ]
          },
          "metadata": {}
        }
      ]
    },
    {
      "cell_type": "code",
      "metadata": {
        "colab": {
          "base_uri": "https://localhost:8080/",
          "height": 0
        },
        "id": "IhAfJLBOp4aG",
        "outputId": "7632c5d7-3343-4ade-eaaf-32083350f77d"
      },
      "source": [
        "plot(x[,1],x[,2])"
      ],
      "execution_count": 374,
      "outputs": [
        {
          "output_type": "display_data",
          "data": {
            "image/png": "[encoded data removed]",
            "text/plain": [
              "plot without title"
            ]
          },
          "metadata": {
            "image/png": {
              "width": 420,
              "height": 420
            }
          }
        }
      ]
    },
    {
      "cell_type": "code",
      "metadata": {
        "colab": {
          "base_uri": "https://localhost:8080/"
        },
        "id": "-sMDZNs4p69T",
        "outputId": "0a4b0446-1e2c-4795-b4c7-05591029466f"
      },
      "source": [
        "x_maha = mahalanobis(x, colMeans(x),cov(x))\n",
        "print(x_maha)"
      ],
      "execution_count": 375,
      "outputs": [
        {
          "output_type": "stream",
          "name": "stdout",
          "text": [
            "   [1]  0.923897983 11.548974094  0.756299120  0.275678121  0.615900078\n",
            "   [6]  1.014571995  0.965406413  1.366192449  6.080363895  1.805300357\n",
            "  [11]  0.972453470  5.025953170  1.041399405  0.050490127  1.673068558\n",
            "  [16]  3.438291727  0.119396851  3.499166386  7.087936040  2.269985599\n",
            "  [21]  0.241072933  2.264788159  0.327195828  1.918087354  1.164468512\n",
            "  [26]  1.438256737  0.662712369  3.177167946  0.967858163  2.210173653\n",
            "  [31]  3.099119222  2.462040949  6.303926294  0.263443209  0.569290755\n",
            "  [36]  1.574737015  1.651221752  0.531454281  1.233740778  4.618874040\n",
            "  [41]  3.152392016  5.522958734  3.480949517  1.170259768  1.930314379\n",
            "  [46]  2.671822308  3.089521052  1.587684873  1.112490431  1.320749184\n",
            "  [51]  0.530227389  6.476466498  0.764513586  0.144805839  0.604349986\n",
            "  [56]  2.263550326  2.256379054  3.355029158  0.811925949  0.636166649\n",
            "  [61]  3.568054295  1.881334943  1.165387603  2.183560823  1.016209653\n",
            "  [66]  1.242269050  0.248153630  5.937988877  2.604591816  1.036848160\n",
            "  [71]  2.259360741  1.943581470  0.087261270  3.820182753  6.282006178\n",
            "  [76]  1.987700139  2.738879391  1.113108126  2.018803724 10.821039025\n",
            "  [81]  1.981632048  2.963914102  0.202520785  0.582754980  3.167274273\n",
            "  [86]  1.029293775  2.924009491  1.887137677  2.879072746  0.491602604\n",
            "  [91]  0.415843531  3.926712451  5.262902769  4.911422505  1.419958489\n",
            "  [96]  4.184978534  1.314440139  0.045227594  0.011258154  3.388628912\n",
            " [101]  1.032990556  3.797638441  1.289735651  2.623501616  2.472132255\n",
            " [106]  5.996713913  1.244174795  1.566356326  2.892755265  3.531266268\n",
            " [111]  3.235465077  8.348191815  0.004694019  0.227655183  0.514545924\n",
            " [116]  2.627101826  1.666949255  0.895862296  0.260679314  2.366242457\n",
            " [121]  0.910304169  0.555039014  1.042055630  0.942363909  0.879463816\n",
            " [126]  1.732941634  6.778887276  0.557141996  1.580842914  2.474567431\n",
            " [131]  0.020141611  2.888115604  1.056669156  1.943519084  1.623041075\n",
            " [136]  0.233268264  0.436727570  2.064800723  1.980986396  0.319209120\n",
            " [141]  0.136865015  1.576787553  1.264808557  0.643771246  1.303473772\n",
            " [146]  1.320719123  0.423784573  0.454345674  0.483067485  1.163972505\n",
            " [151]  2.096859585  1.915938052  2.705277799  1.463702931  0.031440339\n",
            " [156]  0.398085678  0.330981809  0.806027696  3.459611398  2.401102595\n",
            " [161]  3.589894866  3.562535302 12.450272296  0.496534389  0.178020599\n",
            " [166]  6.934510047  0.103041389  0.527892839  0.728453011  4.068226116\n",
            " [171]  1.433158302  0.568820030  3.193908661  4.445158379  3.288908276\n",
            " [176]  3.868382789  2.704163177  0.440596533  1.696894671  1.521745608\n",
            " [181]  3.284091555  1.302632734  0.078621941  3.233952705  1.612926504\n",
            " [186]  1.447721570  0.305014224  0.557414417  2.813716781  2.504348772\n",
            " [191]  1.431757020  8.139708906  2.250466052 10.732712865  3.580706043\n",
            " [196]  0.399068308  0.076421858  2.009341524  5.677134385  6.229281836\n",
            " [201]  0.287380306  3.258518028  2.218143364  0.293499802  1.716229878\n",
            " [206]  1.599847213  0.403839856  4.202538683  3.337587662  0.640353579\n",
            " [211]  1.031220206  5.719673669  5.793382279  4.521962365  1.353412492\n",
            " [216]  1.646927365  0.735653945  3.846985076  2.773777229  0.390847632\n",
            " [221]  0.243688804  0.723781668  3.670352682  0.331338063  0.712526463\n",
            " [226]  2.453266435  3.277472833  7.550741638  3.576428491  0.864204042\n",
            " [231]  0.493291267  0.570812736  3.306401584  4.987510584  0.550514696\n",
            " [236]  0.095969247  0.056503087  1.835281948  1.611381207  0.658807069\n",
            " [241]  7.564260841  0.064737852  0.852506437  3.529430199  0.734653597\n",
            " [246]  0.899747226  0.119906598  0.512677610  0.307175693  6.479364998\n",
            " [251]  0.339759910  0.218210303  4.013165597  3.748093772  0.052291551\n",
            " [256]  0.326145050  0.963159913  0.487036442  1.035895728  1.602165723\n",
            " [261]  0.132076003  1.512901424  1.814571529  1.717774830  4.741598191\n",
            " [266]  1.330995190  8.905116189  0.853130798  0.401544018  1.784011775\n",
            " [271]  1.910527325  0.480409699  0.628858179  0.212100848  0.342391146\n",
            " [276]  1.036778866  1.663154527  6.178873027  2.019704296  1.475181598\n",
            " [281]  1.699776588  0.282664577  0.367387300  4.198349419  1.928717358\n",
            " [286]  3.538512901  1.952466705  1.233594682  0.879908493  0.600206796\n",
            " [291]  0.984460097  0.417616743  0.969543885  2.210433527  0.228394257\n",
            " [296]  0.137967170  2.649570578  0.060492994  2.264395124  6.147473247\n",
            " [301]  2.478349283  2.261901659  0.425145224  2.322948545  1.655809350\n",
            " [306]  0.547920521  1.300976398  3.578865403  0.302807402  2.053183997\n",
            " [311]  0.293859052  7.729594096  2.942397101  2.550110235  0.946222547\n",
            " [316]  0.733849400  1.126009442  0.057047792  4.468142521  1.416956790\n",
            " [321]  0.705246069  0.611333075  1.272144011  4.729895806  4.737301218\n",
            " [326]  0.047299557  1.750362256  2.209770226  0.927377461  6.270463940\n",
            " [331]  9.955089755  3.921062326  1.376860258  3.643045131  2.238420703\n",
            " [336]  0.431684460  0.746351629  0.862007998  0.163688732  0.417999601\n",
            " [341]  4.581094595  0.479887285  5.058258464  0.158999281  0.445895138\n",
            " [346]  1.849072916  0.680011762  0.373611197  0.055822056  0.080259683\n",
            " [351]  2.008522010  2.367640303  0.380342565  5.762247855  0.040497374\n",
            " [356]  1.245625517  1.080355683  0.116882022  0.686725314  1.899806122\n",
            " [361]  0.936875908  0.078809347  1.908070969  5.845476555  1.489233618\n",
            " [366]  1.596001129  5.888677324  1.237667848  1.561268353  2.112321445\n",
            " [371]  2.693288235  0.821501295  0.954072543  1.909713321  1.229129506\n",
            " [376]  2.375423339  0.285233855  1.432677339  1.471572975  2.047699547\n",
            " [381]  0.950532574  0.793554883  2.150086435  0.665891123  1.080023061\n",
            " [386]  1.087595026  0.913361463  0.196602328  5.861236215  1.240470568\n",
            " [391]  0.769315011  0.149455036  1.660186256  1.504929610  2.299059614\n",
            " [396]  0.105187081  0.745820511  2.487517341  0.034088573  2.748835586\n",
            " [401]  2.545994691  0.466313981  1.111372792  0.102120112  1.672943811\n",
            " [406]  0.511174549  0.349283692  1.511431698  0.380515110  4.174390341\n",
            " [411]  3.512056632  2.169214698  1.981737637  4.002799968  3.174484713\n",
            " [416]  1.491540150  5.538027785  1.729927004  1.804595859  6.279966112\n",
            " [421]  0.473150235  1.353923246  2.729704628  1.440984542  1.506248379\n",
            " [426]  3.363364229  0.975460494  0.597953016  6.566635740  2.346398074\n",
            " [431]  0.154444966  1.225981450  9.132346809  2.859149901  0.627047045\n",
            " [436]  0.771539406  0.539154410  3.518847981  2.927098103  2.793853256\n",
            " [441]  7.237163032  4.203360445  1.586498034  0.142916131  1.802415686\n",
            " [446]  1.958446668  2.980509005  3.598485186  1.355499366  2.119774081\n",
            " [451]  1.686095185  1.149270125  1.705382359  0.920647768  4.527644928\n",
            " [456]  1.147629530  3.658003209  5.693203826  3.041731769  0.401357186\n",
            " [461]  3.940043266  1.322704750  5.433349969  2.475330524  0.099938347\n",
            " [466]  1.287762901  0.379055478  0.040050506  7.000191514  4.050199712\n",
            " [471]  1.078469849  0.238008865  0.848291866  0.398524019  0.983244563\n",
            " [476]  0.222207248  1.205519644  0.207663689  7.462675128  2.070298042\n",
            " [481]  2.343233993  1.786274296  1.522612029  6.264973524  0.263200054\n",
            " [486]  1.551431372  0.043640973  0.226831935  0.077295015  1.374527831\n",
            " [491]  2.730940471  0.668797060  3.168386263  0.768585507  3.444800818\n",
            " [496]  0.428867077  0.092809186  1.711812989  1.153184129  3.329657990\n",
            " [501]  0.955012670  1.856951782  3.912277934  0.795722838  2.106807200\n",
            " [506]  1.581815946  2.161475924  1.162494328  1.169309816  0.736210575\n",
            " [511]  0.222899289  0.642665385  0.886413114  2.101076721  1.435941798\n",
            " [516]  3.628097288  1.165646959  7.862093858  0.942573091  0.731515612\n",
            " [521]  0.130978633  3.267346681  1.825415020  1.867184845  1.774245582\n",
            " [526]  1.415379389  1.601296928  0.485196870  3.575819956  0.362475163\n",
            " [531]  1.396414300  0.724324651  2.976882824  0.020495656  0.971162499\n",
            " [536]  0.916794593  1.205798036  0.919464105  5.640184228  2.738095500\n",
            " [541]  2.138737434  1.805550750  0.001475727  0.067610290  0.150984349\n",
            " [546]  9.087242897  1.093142267  0.027829568  0.069930495  1.580133406\n",
            " [551]  5.241931134  2.092564296  3.427693770  2.868271268  0.043321614\n",
            " [556]  1.375219564  0.408215850  3.003550659  0.003392869  0.826871585\n",
            " [561]  0.846194805  0.746568726  1.024905535  1.542556197  0.218956595\n",
            " [566]  3.452940382  0.228796509  2.458219111  1.340004706  0.154120051\n",
            " [571]  0.243376986  0.584530103  0.368471807  2.622969955  3.203436059\n",
            " [576]  5.114533965  0.331130861  0.175720597  2.670852053  0.037672112\n",
            " [581]  1.085881369  7.212378450  3.122359458  0.869223969  0.775530698\n",
            " [586] 10.420183023  0.971257804  1.504196808  0.386844933  2.729413961\n",
            " [591]  1.291626140  2.508431663  4.199050936  1.924413454  1.159944785\n",
            " [596]  2.420384370  2.758936442  3.632635981  4.261422785  0.304969225\n",
            " [601]  1.683093967  0.528036956  1.118012760  3.509891149  2.847636437\n",
            " [606]  2.547446195  5.647372645  1.935265224  0.371089039  0.881371608\n",
            " [611]  0.550488570  0.790077990  3.486995583  2.127440724  1.317505095\n",
            " [616]  0.653717064  0.301039698  0.451151372  0.275908059  3.999827160\n",
            " [621]  2.073839389  3.448531324  1.029767080  8.898302839  2.046068952\n",
            " [626]  0.954750426  2.686478334  6.082380680  1.611453130  0.611894752\n",
            " [631]  8.109343544  1.794288411  0.579810235  3.586308403  3.419488973\n",
            " [636]  0.154777542  3.266411370  0.161606585  9.467725319  7.867860230\n",
            " [641]  3.672359488  1.122008440  1.221964405  0.848926625  1.621119512\n",
            " [646]  5.987478783  0.512697407  5.055558833  0.104036850  2.679530563\n",
            " [651]  1.284836120  0.915747792  0.618911536  1.348717425  0.099391880\n",
            " [656]  0.488065199  1.825425913  3.523408732  1.288059263  2.151777143\n",
            " [661]  0.471052837  2.230691326  6.809735331  1.704913356  2.486944902\n",
            " [666]  0.944599335  0.309073185  8.551814481  1.627649502  2.859663676\n",
            " [671]  0.047879292  0.222163591  3.975900830  1.674236051  1.857765500\n",
            " [676]  1.079171054  0.287847050  0.779208598  2.591538594  2.525753915\n",
            " [681]  0.870311360  0.569798218  1.230325730  0.396640965  0.888459616\n",
            " [686]  0.536362541  0.336539364  1.442090416  2.273014424  0.452736545\n",
            " [691]  2.280013228  0.532016332  0.496294767  4.913318965  2.320357619\n",
            " [696]  4.021713982  2.543528462  3.667027795  1.291816667  3.678330351\n",
            " [701]  0.247156131  1.249994576  2.655749388  3.658902484  1.930663747\n",
            " [706]  0.662910971  0.172514748  0.920450732  2.220803470  0.795444347\n",
            " [711]  4.169796352  1.644633368  1.001122547  0.721025455  6.086559649\n",
            " [716]  0.293071367  0.903743135  0.261434320  0.851703755  0.361988596\n",
            " [721]  1.367685651 10.167049623  0.457158159  1.425573213  1.352611307\n",
            " [726]  3.027102103  1.331431477  1.629086646  1.147228299  0.027551244\n",
            " [731]  0.025287896  1.201236698  2.290531300  0.032833334  0.299818482\n",
            " [736]  1.825209188  0.655573161  2.938745941  3.637185427  2.027754703\n",
            " [741]  3.768556310  1.978582434  2.194176931  2.816455565  0.339214326\n",
            " [746]  1.323478358  1.296803232  3.582060850  1.199882511  6.118243248\n",
            " [751]  2.864499417  3.360633554  0.222951421  0.002697511  1.824403935\n",
            " [756]  0.083119858  1.066654433  0.402922559  3.526148256  0.594517606\n",
            " [761]  1.000585989  0.048569869  2.886424643  0.935263119  0.720349593\n",
            " [766]  0.479762516  0.753165447  0.850092209  1.056656880  0.425181177\n",
            " [771]  1.846996816  1.525645053  0.195427200  5.349088759  1.241698056\n",
            " [776]  0.557081992  1.419575587  0.201609594  8.993792693  5.310183147\n",
            " [781]  0.584756256  4.673361967  0.126069946  9.060010838  1.468410437\n",
            " [786]  1.665394731  3.841489855  3.371576389  0.564912567  4.383684668\n",
            " [791]  0.866220778  4.332477194  0.723951049  0.428043572  2.096846808\n",
            " [796]  4.032506304  5.471870465  0.551031400  0.754721749  0.291293931\n",
            " [801]  0.547779164  0.250206237  4.147163954  0.036236381  4.308991674\n",
            " [806]  1.102479292  0.014239138  1.201628191  1.829915119  3.958707062\n",
            " [811]  1.112026537  1.027740641  1.842663678  1.408829049  4.421020883\n",
            " [816]  0.980526044  1.412752425  4.334465768  1.581064926  2.803385873\n",
            " [821]  1.309374572  6.525918084  0.467885187  1.240912731  0.599025768\n",
            " [826]  0.913927397  2.357197668  0.077877538  0.433695070  8.156677426\n",
            " [831]  0.126382830  0.198733142  0.162185169  0.279285123  1.535467095\n",
            " [836]  0.400645741  2.421192401  0.706214161  1.040978333  1.394938321\n",
            " [841]  0.319596435  4.953532834  3.442558009  8.326243963  0.352236667\n",
            " [846]  2.405290945  0.037948287  0.461640387  0.795446670  0.880425957\n",
            " [851]  3.448871788  9.101443582  0.889853671  4.672339625  1.095641067\n",
            " [856]  7.724343830  2.773024364  0.958824493  0.885689051  2.227486557\n",
            " [861]  0.898504351  0.830438455  0.512433708  5.174928688  1.010839336\n",
            " [866]  0.081433495  1.812828069  0.750634250  1.988977413  2.889664392\n",
            " [871]  1.359604082  1.240687104  0.791092678  1.342857536  2.589672637\n",
            " [876]  1.445237564  8.123113918  1.539490270  1.217093131  0.753011272\n",
            " [881]  0.314532972 11.711627984  1.815448308  0.396701538  2.528455003\n",
            " [886]  3.637402611  0.038076536  0.151241089  5.091946892  0.534274772\n",
            " [891]  1.647289856 11.310934255  0.317243462  0.095581675  1.084012312\n",
            " [896]  4.046005567  5.452903490  1.327115819  0.639057342  3.952150048\n",
            " [901]  4.561812556  1.104299292  3.009564831  0.047155711  1.381746275\n",
            " [906]  1.454128310  0.948212097  0.662659317  0.800741158  0.457467857\n",
            " [911]  0.945163809  1.905289921  0.212750291  2.661756983  0.993195037\n",
            " [916]  2.747733907  6.924832607  4.010347193  3.185673332  0.198126105\n",
            " [921]  0.981114294  0.476837104  4.509192880  2.542510512  3.744665652\n",
            " [926]  1.405354056  1.116679653  0.573612256  1.190537866  7.021281604\n",
            " [931]  0.080391429  1.514328149  5.297834070  3.193444831  2.792980448\n",
            " [936]  0.212964991  2.818306242  0.971134744  0.861344111  1.786895287\n",
            " [941]  0.899216589  0.232685245  0.255884397  2.135282109  3.051098390\n",
            " [946]  0.913723297  2.453441326  0.882876591  0.335769406  1.404486377\n",
            " [951]  2.589288733  0.333227518  0.419295570  0.535557857  2.442810493\n",
            " [956]  0.470697845  2.702458510  1.623382479  1.803791470  0.095730577\n",
            " [961]  0.401278917  0.090837266  0.128120575  0.661371980  1.824798464\n",
            " [966]  1.527049008  2.924592043  0.515520369  1.031102221  1.218656646\n",
            " [971]  2.568683744  0.248313455  3.887019831  1.455445685  0.582100696\n",
            " [976]  0.316587539  1.446480052  0.555260462  1.059030737  0.156248473\n",
            " [981]  3.285197561  0.372889943  1.708483099  1.394226490  0.678945684\n",
            " [986]  0.887334463  4.095294421  0.014361519  2.345248155  3.646531064\n",
            " [991]  0.908538823  0.596564084  1.244939507  0.349055645  0.834408117\n",
            " [996]  1.162021096  5.034712167  0.631616776  1.038831025  0.485123900\n"
          ]
        }
      ]
    },
    {
      "cell_type": "code",
      "metadata": {
        "colab": {
          "base_uri": "https://localhost:8080/"
        },
        "id": "nBwDIG0jqD3w",
        "outputId": "55fff13a-cb2c-4f43-d03f-11a2d6b6b9ff"
      },
      "source": [
        "x_pval = pchisq(x_maha, df=2,lower.tail = FALSE)\n",
        "print(x_pval)"
      ],
      "execution_count": 376,
      "outputs": [
        {
          "output_type": "stream",
          "name": "stdout",
          "text": [
            "   [1] 0.630054477 0.003105790 0.685128025 0.871238897 0.734952036 0.602127539\n",
            "   [7] 0.617112951 0.505050818 0.047826187 0.405493604 0.614942363 0.081026697\n",
            "  [13] 0.594104706 0.975070929 0.433209307 0.179219160 0.942048589 0.173846389\n",
            "  [19] 0.028898430 0.321424436 0.886444761 0.322260814 0.849083358 0.383259230\n",
            "  [25] 0.558648807 0.487176710 0.717949401 0.204214580 0.616356911 0.331182126\n",
            "  [31] 0.212341466 0.291994453 0.042768084 0.876584999 0.752280983 0.455040657\n",
            "  [37] 0.437967367 0.766648286 0.539630632 0.099317149 0.206760118 0.063198206\n",
            "  [43] 0.175437091 0.557033507 0.380923318 0.262918507 0.213362960 0.452104272\n",
            "  [49] 0.573357862 0.516657762 0.767118728 0.039233149 0.682319816 0.930156042\n",
            "  [55] 0.739208697 0.322460328 0.323618629 0.186837770 0.666334838 0.727542164\n",
            "  [61] 0.167960382 0.390367189 0.558392141 0.335618423 0.601634701 0.537334472\n",
            "  [67] 0.883311987 0.051354925 0.271906803 0.595458203 0.323136524 0.378404808\n",
            "  [73] 0.957307488 0.148066856 0.043239403 0.370148845 0.254249377 0.573180810\n",
            "  [79] 0.364436898 0.004469318 0.371273599 0.227192625 0.903697686 0.747233551\n",
            "  [85] 0.205227299 0.597711617 0.231771166 0.389236232 0.237037630 0.782077607\n",
            "  [91] 0.812270582 0.140386461 0.071973925 0.085802147 0.491654402 0.123379628\n",
            "  [97] 0.518290144 0.977639978 0.994386736 0.183725138 0.596607833 0.149745331\n",
            " [103] 0.524731894 0.269348067 0.290524861 0.049868938 0.536822705 0.456951435\n",
            " [109] 0.235421529 0.171078437 0.198347936 0.015389099 0.997655743 0.892411802\n",
            " [115] 0.773157143 0.268863648 0.434536807 0.638948675 0.877797230 0.306321147\n",
            " [121] 0.634351485 0.757660785 0.593909805 0.624263980 0.644209105 0.420432718\n",
            " [127] 0.033727436 0.756864530 0.453653560 0.290171336 0.989979735 0.235968301\n",
            " [133] 0.589586062 0.378416612 0.444182157 0.889910724 0.803832966 0.356151042\n",
            " [139] 0.371393475 0.852480827 0.933856486 0.454574357 0.531312840 0.724781084\n",
            " [145] 0.521139830 0.516665528 0.809051839 0.796783057 0.785422301 0.558787371\n",
            " [151] 0.350487656 0.383671322 0.258557054 0.481017578 0.984402747 0.819514786\n",
            " [157] 0.847477571 0.668302845 0.177318860 0.301028210 0.166136185 0.168424508\n",
            " [163] 0.001979054 0.780151463 0.914836151 0.031202564 0.949783995 0.768014689\n",
            " [169] 0.694733816 0.130796440 0.488420213 0.752458062 0.202512365 0.108329346\n",
            " [175] 0.193117950 0.144541098 0.258701190 0.802279469 0.428079079 0.467258424\n",
            " [181] 0.193583608 0.521359025 0.961451680 0.198497981 0.446434203 0.484876633\n",
            " [187] 0.858552788 0.756761444 0.244911492 0.285882502 0.488762540 0.017079874\n",
            " [193] 0.324576824 0.004671120 0.166901240 0.819112244 0.962509898 0.366165171\n",
            " [199] 0.058509439 0.044394446 0.866156082 0.196074809 0.329865039 0.863509914\n",
            " [205] 0.423960521 0.449363291 0.817160357 0.122301088 0.188474260 0.726020673\n",
            " [211] 0.597136169 0.057278105 0.055205586 0.104248148 0.508288415 0.438908778\n",
            " [217] 0.692236947 0.146095825 0.249851481 0.822486002 0.885286107 0.696358382\n",
            " [223] 0.159585358 0.847326626 0.700288258 0.293278322 0.194225307 0.022928587\n",
            " [229] 0.167258586 0.649143147 0.781417553 0.751708722 0.191436180 0.082599199\n",
            " [235] 0.759376674 0.953148443 0.972143800 0.399460268 0.446779273 0.719352674\n",
            " [241] 0.022774121 0.968149341 0.652950982 0.171235565 0.692583273 0.637708745\n",
            " [247] 0.941808516 0.773879730 0.857625421 0.039176332 0.843766100 0.896636130\n",
            " [253] 0.134447324 0.153501201 0.974193066 0.849529574 0.617806513 0.783865193\n",
            " [259] 0.595741838 0.448842666 0.936095291 0.469329259 0.403618254 0.423633148\n",
            " [265] 0.093406056 0.514017691 0.011648730 0.652747175 0.818098930 0.409832849\n",
            " [271] 0.384710697 0.786466737 0.730205637 0.899379297 0.842656756 0.595478835\n",
            " [277] 0.435362064 0.045527601 0.364272834 0.478264765 0.427462679 0.868200771\n",
            " [283] 0.832190706 0.122557532 0.381227611 0.170459687 0.376727429 0.539670052\n",
            " [289] 0.644065889 0.740741626 0.611261730 0.811550737 0.615837627 0.331139096\n",
            " [295] 0.892082084 0.933342001 0.265860036 0.970206351 0.322324150 0.046248020\n",
            " [301] 0.289623162 0.322726253 0.808501607 0.313024357 0.436963909 0.760362291\n",
            " [307] 0.521790977 0.167054913 0.859500647 0.358225716 0.863354819 0.020967177\n",
            " [313] 0.229650073 0.279415567 0.623060737 0.692861816 0.569495316 0.971879070\n",
            " [319] 0.107091544 0.492392855 0.702842091 0.736632218 0.529367699 0.093954195\n",
            " [325] 0.093606953 0.976627686 0.416786521 0.331248936 0.628959300 0.043489664\n",
            " [331] 0.006890960 0.140783622 0.502364097 0.161779244 0.326537543 0.805862433\n",
            " [337] 0.688544166 0.649856312 0.921415351 0.811395397 0.101211054 0.786672195\n",
            " [343] 0.079728415 0.923578352 0.800156801 0.396715271 0.711766137 0.829604997\n",
            " [349] 0.972474886 0.960664697 0.366315240 0.306107127 0.826817503 0.056071707\n",
            " [355] 0.979954941 0.536433456 0.582644625 0.943233879 0.709380903 0.386778516\n",
            " [361] 0.625979313 0.961361593 0.385183481 0.053786204 0.474916249 0.450228267\n",
            " [367] 0.052636859 0.538572088 0.458115393 0.347788507 0.260111702 0.663152270\n",
            " [373] 0.620620018 0.384867307 0.540876259 0.304918220 0.867086162 0.488537683\n",
            " [379] 0.479128482 0.359209400 0.621719479 0.672483676 0.341283006 0.716809215\n",
            " [385] 0.582741533 0.580539455 0.633382527 0.906375895 0.053364043 0.537817883\n",
            " [391] 0.680683727 0.927996314 0.436008680 0.471203695 0.316785685 0.948765569\n",
            " [397] 0.688727039 0.288298560 0.983100146 0.252986844 0.279991133 0.792029223\n",
            " [403] 0.573678355 0.950221602 0.433236329 0.774461543 0.839757729 0.469674279\n",
            " [409] 0.826746174 0.124034544 0.172729530 0.338034489 0.371253998 0.135145949\n",
            " [415] 0.204488742 0.474368860 0.062723827 0.421066920 0.405636464 0.043283531\n",
            " [421] 0.789326588 0.508158627 0.255418395 0.486512701 0.470893093 0.186060737\n",
            " [427] 0.614018484 0.741576830 0.037503618 0.309375652 0.925683882 0.541728284\n",
            " [433] 0.010397671 0.239410662 0.730867187 0.679927093 0.763702316 0.172143992\n",
            " [439] 0.231413517 0.247356014 0.026820694 0.122250847 0.452372639 0.931035319\n",
            " [445] 0.406078884 0.375602703 0.225315305 0.165424134 0.507758325 0.346494948\n",
            " [451] 0.430396848 0.562910258 0.426266228 0.631079216 0.103952370 0.563372202\n",
            " [457] 0.160573804 0.058041215 0.218522590 0.818175357 0.139453839 0.516152830\n",
            " [463] 0.066094154 0.290060644 0.951258748 0.525249731 0.827349767 0.980173920\n",
            " [469] 0.030194492 0.131980663 0.583194269 0.887803865 0.654328387 0.819335192\n",
            " [475] 0.611633348 0.894846016 0.547299102 0.901376856 0.023960765 0.355173449\n",
            " [481] 0.309865485 0.409369484 0.467056047 0.043609217 0.876691578 0.460374180\n",
            " [487] 0.978415858 0.892779216 0.962089779 0.502950303 0.255260615 0.715768470\n",
            " [493] 0.205113226 0.680932053 0.178636831 0.806998444 0.954655637 0.424897849\n",
            " [499] 0.561809719 0.189223013 0.620328356 0.395155512 0.141403331 0.671755114\n",
            " [505] 0.348748726 0.453432904 0.339345010 0.559200517 0.557298148 0.692044314\n",
            " [511] 0.894536435 0.725181948 0.641974589 0.349749407 0.487740928 0.162992899\n",
            " [517] 0.558319735 0.019623118 0.624198691 0.693670784 0.936609053 0.195211178\n",
            " [523] 0.401435860 0.393138850 0.411838997 0.492781359 0.449037685 0.784586513\n",
            " [529] 0.167309485 0.834237136 0.497476405 0.696169353 0.225724193 0.989804502\n",
            " [535] 0.615339427 0.632296217 0.547222925 0.631452819 0.059600452 0.254349048\n",
            " [541] 0.343225121 0.405442841 0.999262409 0.966759864 0.927286987 0.010634823\n",
            " [547] 0.578931490 0.986181579 0.965638974 0.453814523 0.072732601 0.351241187\n",
            " [553] 0.180171359 0.238321272 0.978572104 0.502776379 0.815374367 0.222734382\n",
            " [559] 0.998305004 0.661373998 0.655014830 0.688469430 0.599024508 0.462421670\n",
            " [565] 0.896301616 0.177911296 0.891902681 0.292552964 0.511707374 0.925834278\n",
            " [571] 0.885424142 0.746570630 0.831739570 0.269419677 0.201549952 0.077516305\n",
            " [577] 0.847414415 0.915888819 0.263046087 0.981340234 0.581037091 0.027155132\n",
            " [583] 0.209888314 0.647515865 0.678571552 0.005461174 0.615310105 0.471376376\n",
            " [589] 0.824133732 0.255455518 0.524236128 0.285299483 0.122514552 0.382048878\n",
            " [595] 0.559913824 0.298139976 0.251712373 0.162623431 0.118752784 0.858572105\n",
            " [601] 0.431043191 0.767959349 0.571776911 0.172916653 0.240792860 0.279788002\n",
            " [607] 0.059386620 0.379981538 0.830651855 0.643594890 0.759386594 0.673653770\n",
            " [613] 0.174907539 0.345169264 0.517496484 0.721185761 0.860260655 0.798056656\n",
            " [619] 0.871138738 0.135346979 0.354545109 0.178303939 0.597570184 0.011688481\n",
            " [625] 0.359502382 0.620409700 0.260998879 0.047777984 0.446763206 0.736425372\n",
            " [631] 0.017341171 0.407732399 0.748334568 0.166434373 0.180912012 0.925529965\n",
            " [637] 0.195302491 0.922375112 0.008792443 0.019566622 0.159425310 0.570635732\n",
            " [643] 0.542817450 0.654120749 0.444609124 0.050099743 0.773872070 0.079836106\n",
            " [649] 0.949311376 0.261907136 0.526018940 0.632627248 0.733846230 0.509483041\n",
            " [655] 0.951518699 0.783462094 0.401433673 0.171751886 0.525171905 0.340994623\n",
            " [661] 0.790154788 0.327801950 0.033211215 0.426366200 0.288381088 0.623566622\n",
            " [667] 0.856812139 0.013899433 0.443159845 0.239349168 0.976344634 0.894865550\n",
            " [673] 0.136975882 0.432956497 0.394994772 0.582989836 0.865953970 0.677324840\n",
            " [679] 0.273687237 0.282839139 0.647163909 0.752090130 0.540552851 0.820106981\n",
            " [685] 0.641318024 0.764769139 0.845125889 0.486243764 0.320938035 0.797424378\n",
            " [691] 0.319816906 0.766432869 0.780244940 0.085720825 0.313430132 0.133873897\n",
            " [697] 0.280336607 0.159850880 0.524186190 0.158950066 0.883752648 0.535262880\n",
            " [703] 0.265039954 0.160501620 0.380856782 0.717878111 0.917358097 0.631141392\n",
            " [709] 0.329426592 0.671848659 0.124319778 0.439412494 0.606190326 0.697318700\n",
            " [715] 0.047678256 0.863694912 0.636435903 0.877465922 0.653213091 0.834440117\n",
            " [721] 0.504673887 0.006198024 0.795663374 0.490276086 0.508492072 0.220126906\n",
            " [727] 0.513905574 0.442841517 0.563485234 0.986318828 0.987435651 0.548472384\n",
            " [733] 0.318139393 0.983717352 0.860786097 0.401477176 0.720516776 0.230069700\n",
            " [739] 0.162253928 0.362809509 0.151938696 0.371840152 0.333841662 0.244576342\n",
            " [745] 0.843996305 0.515953219 0.522880873 0.166788218 0.548843877 0.046928898\n",
            " [751] 0.238771152 0.186314946 0.894513118 0.998652153 0.401638854 0.959291844\n",
            " [757] 0.586649808 0.817535232 0.171516788 0.742851735 0.606352975 0.976007572\n",
            " [763] 0.236167892 0.626484303 0.697554385 0.786721273 0.686202350 0.653739644\n",
            " [769] 0.589589681 0.808487073 0.397127295 0.466348287 0.906908605 0.068938231\n",
            " [775] 0.537487901 0.756887238 0.491748539 0.904109500 0.011143529 0.070292401\n",
            " [781] 0.746486215 0.096647882 0.938910637 0.010780618 0.479886713 0.434874687\n",
            " [787] 0.146497791 0.185298323 0.753929601 0.111710750 0.648488902 0.114607894\n",
            " [793] 0.696299410 0.807330796 0.350489895 0.133153437 0.064833344 0.759180513\n",
            " [799] 0.685668589 0.864462834 0.760416034 0.882405906 0.125734596 0.982044957\n",
            " [805] 0.115961639 0.576235040 0.992905715 0.548365033 0.400533625 0.138158524\n",
            " [811] 0.573490867 0.598175960 0.397988631 0.494397947 0.109644667 0.612465281\n",
            " [817] 0.493429044 0.114493997 0.453603204 0.246179844 0.519604525 0.038274973\n",
            " [823] 0.791407247 0.537698994 0.741179173 0.633203326 0.307709589 0.961809600\n",
            " [829] 0.805052702 0.016935577 0.938763763 0.905410750 0.922108314 0.869669033\n",
            " [835] 0.464063655 0.818466452 0.298019547 0.702501965 0.594229800 0.497843673\n",
            " [841] 0.852315754 0.084014455 0.178837268 0.015558907 0.838518753 0.300398464\n",
            " [847] 0.981204732 0.793882199 0.671847879 0.643899270 0.178273589 0.010559580\n",
            " [853] 0.640871163 0.096697299 0.578208624 0.021022291 0.249945551 0.619147191\n",
            " [859] 0.642207046 0.328327636 0.638105164 0.660195532 0.773974111 0.075210506\n",
            " [865] 0.603252357 0.960101042 0.403970253 0.687071357 0.369912530 0.235785639\n",
            " [871] 0.506717292 0.537759658 0.673312082 0.510977987 0.273942700 0.485479226\n",
            " [877] 0.017222184 0.463131089 0.544141168 0.686255250 0.854476323 0.002863204\n",
            " [883] 0.403441350 0.820082143 0.282457410 0.162236310 0.981141815 0.927167959\n",
            " [889] 0.078396700 0.765567886 0.438829235 0.003498339 0.853319082 0.953333168\n",
            " [895] 0.581580340 0.132257727 0.065451115 0.515015692 0.726491373 0.138612221\n",
            " [901] 0.102191551 0.575710905 0.222065607 0.976697930 0.501138315 0.483325879\n",
            " [907] 0.622441240 0.717968446 0.670071686 0.795540176 0.623390654 0.385719460\n",
            " [913] 0.899087296 0.264245022 0.608597884 0.253126237 0.031353910 0.134636921\n",
            " [919] 0.203347963 0.905685600 0.612285166 0.787872856 0.104915875 0.280479327\n",
            " [925] 0.153764537 0.495257709 0.572158158 0.750657246 0.551414252 0.029877763\n",
            " [931] 0.960601417 0.468994577 0.070727767 0.202559336 0.247463985 0.898990785\n",
            " [937] 0.244350131 0.615347966 0.650072063 0.409242396 0.637877963 0.890170179\n",
            " [943] 0.879904238 0.343818611 0.217501573 0.633267948 0.293252677 0.643110772\n",
            " [949] 0.845451307 0.495472618 0.273995289 0.846526512 0.810869796 0.765076899\n",
            " [955] 0.294815587 0.790295050 0.258921784 0.444106341 0.405799641 0.953262194\n",
            " [961] 0.818207376 0.955597353 0.937948451 0.718430728 0.401559633 0.466021036\n",
            " [967] 0.231703667 0.772780535 0.597171396 0.543715948 0.276832715 0.883241402\n",
            " [973] 0.143200445 0.483007623 0.747478043 0.853598984 0.485177718 0.757576898\n",
            " [979] 0.588890295 0.924849519 0.193476585 0.829904229 0.425605870 0.498020895\n",
            " [985] 0.712145637 0.641678916 0.129038146 0.992844961 0.309553582 0.161497514\n",
            " [991] 0.634911658 0.742092009 0.536617487 0.839853487 0.658886455 0.559332848\n",
            " [997] 0.080672617 0.729199160 0.594868139 0.784615139\n"
          ]
        }
      ]
    },
    {
      "cell_type": "code",
      "metadata": {
        "colab": {
          "base_uri": "https://localhost:8080/"
        },
        "id": "Iudl9Ym-qOn6",
        "outputId": "c94da3ca-9c5f-48ab-8531-5601026bafbb"
      },
      "source": [
        "df = data.frame(X1 = x[,1],X2 = x[,1])\n",
        "print(df)"
      ],
      "execution_count": 377,
      "outputs": [
        {
          "output_type": "stream",
          "name": "stdout",
          "text": [
            "              X1          X2\n",
            "1     4.99381902  4.99381902\n",
            "2     4.50311003  4.50311003\n",
            "3     5.15660825  5.15660825\n",
            "4     5.87219411  5.87219411\n",
            "5     4.13390228  4.13390228\n",
            "6     3.45772387  3.45772387\n",
            "7     3.71684605  3.71684605\n",
            "8     3.19009888  3.19009888\n",
            "9     9.19238790  9.19238790\n",
            "10    2.93194704  2.93194704\n",
            "11    4.74526935  4.74526935\n",
            "12    1.87395163  1.87395163\n",
            "13    6.78703729  6.78703729\n",
            "14    4.87131310  4.87131310\n",
            "15    5.45814200  5.45814200\n",
            "16    3.68335354  3.68335354\n",
            "17    5.61856096  5.61856096\n",
            "18    3.18869270  3.18869270\n",
            "19    0.63329053  0.63329053\n",
            "20    6.96773305  6.96773305\n",
            "21    4.78458810  4.78458810\n",
            "22    2.66380694  2.66380694\n",
            "23    4.11908795  4.11908795\n",
            "24    7.39803323  7.39803323\n",
            "25    5.63987831  5.63987831\n",
            "26    6.94412992  6.94412992\n",
            "27    4.38228283  4.38228283\n",
            "28    7.91966899  7.91966899\n",
            "29    3.52716348  3.52716348\n",
            "30    6.61689476  6.61689476\n",
            "31    5.46161866  5.46161866\n",
            "32    3.10044751  3.10044751\n",
            "33    7.18178092  7.18178092\n",
            "34    5.12718611  5.12718611\n",
            "35    5.11583575  5.11583575\n",
            "36    6.66109159  6.66109159\n",
            "37    7.13557133  7.13557133\n",
            "38    5.98138708  5.98138708\n",
            "39    6.59358433  6.59358433\n",
            "40    3.33633737  3.33633737\n",
            "41    2.19867478  2.19867478\n",
            "42    7.82136253  7.82136253\n",
            "43    3.70397421  3.70397421\n",
            "44    4.96183591  4.96183591\n",
            "45    2.74958606  2.74958606\n",
            "46    3.45316048  3.45316048\n",
            "47    2.24310091  2.24310091\n",
            "48    3.63531012  3.63531012\n",
            "49    3.50247184  3.50247184\n",
            "50    5.42657592  5.42657592\n",
            "51    4.56845949  4.56845949\n",
            "52    8.26921216  8.26921216\n",
            "53    3.80972730  3.80972730\n",
            "54    4.64088597  4.64088597\n",
            "55    6.21399612  6.21399612\n",
            "56    2.90324972  2.90324972\n",
            "57    2.95340112  2.95340112\n",
            "58    5.28647961  5.28647961\n",
            "59    6.01873267  6.01873267\n",
            "60    6.38557120  6.38557120\n",
            "61    2.08485061  2.08485061\n",
            "62    4.42132933  4.42132933\n",
            "63    4.15841825  4.15841825\n",
            "64    6.62363812  6.62363812\n",
            "65    4.73010276  4.73010276\n",
            "66    6.93562253  6.93562253\n",
            "67    4.62058050  4.62058050\n",
            "68    9.16075388  9.16075388\n",
            "69    6.46312391  6.46312391\n",
            "70    6.16526050  6.16526050\n",
            "71    2.60902206  2.60902206\n",
            "72    3.78276850  3.78276850\n",
            "73    4.78314214  4.78314214\n",
            "74    5.90626571  5.90626571\n",
            "75    2.81490904  2.81490904\n",
            "76    4.82737664  4.82737664\n",
            "77    2.32014737  2.32014737\n",
            "78    4.15865049  4.15865049\n",
            "79    7.08692189  7.08692189\n",
            "80    5.38038166  5.38038166\n",
            "81    3.77890520  3.77890520\n",
            "82    5.04551160  5.04551160\n",
            "83    4.86480661  4.86480661\n",
            "84    4.62117394  4.62117394\n",
            "85    6.88614644  6.88614644\n",
            "86    5.09663640  5.09663640\n",
            "87    7.65609133  7.65609133\n",
            "88    3.21185866  3.21185866\n",
            "89    7.83479884  7.83479884\n",
            "90    3.99406160  3.99406160\n",
            "91    6.12353038  6.12353038\n",
            "92    8.39106524  8.39106524\n",
            "93    8.53706357  8.53706357\n",
            "94    2.90289233  2.90289233\n",
            "95    3.28012443  3.28012443\n",
            "96    1.90110651  1.90110651\n",
            "97    3.25310722  3.25310722\n",
            "98    4.73410439  4.73410439\n",
            "99    5.00629548  5.00629548\n",
            "100   7.56690533  7.56690533\n",
            "101   6.69084442  6.69084442\n",
            "102   3.57195150  3.57195150\n",
            "103   6.42880438  6.42880438\n",
            "104   6.46631547  6.46631547\n",
            "105   2.46383411  2.46383411\n",
            "106   9.12207712  9.12207712\n",
            "107   6.26102883  6.26102883\n",
            "108   6.08999805  6.08999805\n",
            "109   3.65986168  3.65986168\n",
            "110   8.17351911  8.17351911\n",
            "111   4.17568114  4.17568114\n",
            "112   6.22211924  6.22211924\n",
            "113   5.07875999  5.07875999\n",
            "114   4.29835808  4.29835808\n",
            "115   3.99800298  3.99800298\n",
            "116   6.19853876  6.19853876\n",
            "117   5.25940916  5.25940916\n",
            "118   3.49004584  3.49004584\n",
            "119   4.22348712  4.22348712\n",
            "120   7.64459639  7.64459639\n",
            "121   4.60076465  4.60076465\n",
            "122   4.32251783  4.32251783\n",
            "123   6.51198733  6.51198733\n",
            "124   5.27140440  5.27140440\n",
            "125   6.64162857  6.64162857\n",
            "126   7.26798430  7.26798430\n",
            "127   4.58150942  4.58150942\n",
            "128   6.09964693  6.09964693\n",
            "129   5.24919636  5.24919636\n",
            "130   5.38076793  5.38076793\n",
            "131   5.08213445  5.08213445\n",
            "132   3.82178577  3.82178577\n",
            "133   5.30461272  5.30461272\n",
            "134   4.96777412  4.96777412\n",
            "135   4.66344262  4.66344262\n",
            "136   4.65507151  4.65507151\n",
            "137   5.09565374  5.09565374\n",
            "138   6.12772752  6.12772752\n",
            "139   6.32067491  6.32067491\n",
            "140   4.89764697  4.89764697\n",
            "141   4.64456701  4.64456701\n",
            "142   3.12196097  3.12196097\n",
            "143   6.88206047  6.88206047\n",
            "144   4.05040629  4.05040629\n",
            "145   3.22123701  3.22123701\n",
            "146   5.39236015  5.39236015\n",
            "147   5.06183548  5.06183548\n",
            "148   5.37610643  5.37610643\n",
            "149   5.13672721  5.13672721\n",
            "150   6.82093963  6.82093963\n",
            "151   3.85328349  3.85328349\n",
            "152   3.38598344  3.38598344\n",
            "153   4.84878500  4.84878500\n",
            "154   6.43903524  6.43903524\n",
            "155   4.78137515  4.78137515\n",
            "156   6.09290469  6.09290469\n",
            "157   6.02662017  6.02662017\n",
            "158   3.80997930  3.80997930\n",
            "159   6.32453154  6.32453154\n",
            "160   7.33114132  7.33114132\n",
            "161   2.81141685  2.81141685\n",
            "162   7.79129780  7.79129780\n",
            "163   0.45411526  0.45411526\n",
            "164   3.93469557  3.93469557\n",
            "165   5.32942277  5.32942277\n",
            "166   0.67290773  0.67290773\n",
            "167   5.61343712  5.61343712\n",
            "168   5.63017888  5.63017888\n",
            "169   6.41674098  6.41674098\n",
            "170   6.77920905  6.77920905\n",
            "171   6.80330789  6.80330789\n",
            "172   4.72206358  4.72206358\n",
            "173   8.00236398  8.00236398\n",
            "174   3.76079534  3.76079534\n",
            "175   6.38315511  6.38315511\n",
            "176   7.47028407  7.47028407\n",
            "177   2.83098087  2.83098087\n",
            "178   4.74804951  4.74804951\n",
            "179   2.89433784  2.89433784\n",
            "180   3.21818584  3.21818584\n",
            "181   7.04803286  7.04803286\n",
            "182   4.10481430  4.10481430\n",
            "183   4.70068201  4.70068201\n",
            "184   3.94214526  3.94214526\n",
            "185   4.71280471  4.71280471\n",
            "186   3.12897424  3.12897424\n",
            "187   5.93659366  5.93659366\n",
            "188   5.62158140  5.62158140\n",
            "189   3.39639092  3.39639092\n",
            "190   2.49476316  2.49476316\n",
            "191   3.18407209  3.18407209\n",
            "192   1.12900623  1.12900623\n",
            "193   2.59417099  2.59417099\n",
            "194   7.98563025  7.98563025\n",
            "195   8.22133812  8.22133812\n",
            "196   4.59292731  4.59292731\n",
            "197   5.40103512  5.40103512\n",
            "198   5.61215258  5.61215258\n",
            "199   3.14901243  3.14901243\n",
            "200   2.40886903  2.40886903\n",
            "201   4.18423864  4.18423864\n",
            "202   2.77997447  2.77997447\n",
            "203   6.69814889  6.69814889\n",
            "204   4.64995978  4.64995978\n",
            "205   3.51117613  3.51117613\n",
            "206   4.14977699  4.14977699\n",
            "207   5.95992546  5.95992546\n",
            "208   2.06647372  2.06647372\n",
            "209   4.39663562  4.39663562\n",
            "210   5.28519369  5.28519369\n",
            "211   4.63921650  4.63921650\n",
            "212   8.65102402  8.65102402\n",
            "213   7.47151403  7.47151403\n",
            "214   2.24469972  2.24469972\n",
            "215   4.12938539  4.12938539\n",
            "216   7.03420001  7.03420001\n",
            "217   3.66011506  3.66011506\n",
            "218   4.50221961  4.50221961\n",
            "219   7.82299983  7.82299983\n",
            "220   5.07757523  5.07757523\n",
            "221   5.25777095  5.25777095\n",
            "222   6.04149462  6.04149462\n",
            "223   2.01144764  2.01144764\n",
            "224   4.11799728  4.11799728\n",
            "225   5.25347427  5.25347427\n",
            "226   6.67789311  6.67789311\n",
            "227   2.18939852  2.18939852\n",
            "228   1.24519498  1.24519498\n",
            "229   2.59006952  2.59006952\n",
            "230   4.09029592  4.09029592\n",
            "231   4.03784895  4.03784895\n",
            "232   4.46138787  4.46138787\n",
            "233   3.71233532  3.71233532\n",
            "234   8.43619312  8.43619312\n",
            "235   4.92936871  4.92936871\n",
            "236   5.29217236  5.29217236\n",
            "237   4.69045674  4.69045674\n",
            "238   2.85826143  2.85826143\n",
            "239   6.29557792  6.29557792\n",
            "240   3.81238740  3.81238740\n",
            "241   7.44445100  7.44445100\n",
            "242   5.44249841  5.44249841\n",
            "243   3.52932999  3.52932999\n",
            "244   5.33115817  5.33115817\n",
            "245   3.66821713  3.66821713\n",
            "246   3.93464833  3.93464833\n",
            "247   5.37463128  5.37463128\n",
            "248   6.16816971  6.16816971\n",
            "249   4.18327897  4.18327897\n",
            "250   8.37381571  8.37381571\n",
            "251   4.57723418  4.57723418\n",
            "252   4.65487269  4.65487269\n",
            "253   5.91469361  5.91469361\n",
            "254   5.75799439  5.75799439\n",
            "255   4.76508539  4.76508539\n",
            "256   5.47346142  5.47346142\n",
            "257   3.43301004  3.43301004\n",
            "258   3.93704569  3.93704569\n",
            "259   5.23457743  5.23457743\n",
            "260   5.01183929  5.01183929\n",
            "261   5.36089403  5.36089403\n",
            "262   6.11084394  6.11084394\n",
            "263   5.58607047  5.58607047\n",
            "264   2.87929784  2.87929784\n",
            "265   8.58806025  8.58806025\n",
            "266   3.75698298  3.75698298\n",
            "267   1.36835788  1.36835788\n",
            "268   3.95149241  3.95149241\n",
            "269   6.11853969  6.11853969\n",
            "270   3.23925430  3.23925430\n",
            "271   6.87238722  6.87238722\n",
            "272   4.61627009  4.61627009\n",
            "273   4.32546113  4.32546113\n",
            "274   4.94108398  4.94108398\n",
            "275   4.45398769  4.45398769\n",
            "276   3.85487436  3.85487436\n",
            "277   6.87451195  6.87451195\n",
            "278   1.66283175  1.66283175\n",
            "279   4.85959889  4.85959889\n",
            "280   5.76385824  5.76385824\n",
            "281   5.88971943  5.88971943\n",
            "282   5.95794016  5.95794016\n",
            "283   5.12188415  5.12188415\n",
            "284   6.35810114  6.35810114\n",
            "285   4.89311192  4.89311192\n",
            "286   3.67144913  3.67144913\n",
            "287   4.67599123  4.67599123\n",
            "288   4.90875887  4.90875887\n",
            "289   4.97346950  4.97346950\n",
            "290   5.24656600  5.24656600\n",
            "291   3.41631548  3.41631548\n",
            "292   4.26499281  4.26499281\n",
            "293   5.31931534  5.31931534\n",
            "294   2.61316885  2.61316885\n",
            "295   5.44840823  5.44840823\n",
            "296   5.03353468  5.03353468\n",
            "297   7.74101328  7.74101328\n",
            "298   5.35429600  5.35429600\n",
            "299   3.64324517  3.64324517\n",
            "300   3.05866971  3.05866971\n",
            "301   5.59521476  5.59521476\n",
            "302   2.89105480  2.89105480\n",
            "303   6.16784267  6.16784267\n",
            "304   7.62910004  7.62910004\n",
            "305   6.04050980  6.04050980\n",
            "306   3.84073612  3.84073612\n",
            "307   6.16695504  6.16695504\n",
            "308   7.95138427  7.95138427\n",
            "309   5.98469254  5.98469254\n",
            "310   5.16761182  5.16761182\n",
            "311   4.17108264  4.17108264\n",
            "312   2.74737646  2.74737646\n",
            "313   7.49002577  7.49002577\n",
            "314   4.15461592  4.15461592\n",
            "315   5.36581649  5.36581649\n",
            "316   3.67455017  3.67455017\n",
            "317   6.73229282  6.73229282\n",
            "318   4.89773702  4.89773702\n",
            "319   8.04749275  8.04749275\n",
            "320   5.93906150  5.93906150\n",
            "321   4.58159243  4.58159243\n",
            "322   5.16222134  5.16222134\n",
            "323   3.91689948  3.91689948\n",
            "324   2.75309612  2.75309612\n",
            "325   8.69154583  8.69154583\n",
            "326   5.22820318  5.22820318\n",
            "327   4.35893659  4.35893659\n",
            "328   5.26091285  5.26091285\n",
            "329   6.17758523  6.17758523\n",
            "330   8.86076911  8.86076911\n",
            "331   3.34283412  3.34283412\n",
            "332   7.52742614  7.52742614\n",
            "333   5.70965221  5.70965221\n",
            "334   7.80007928  7.80007928\n",
            "335   6.98862997  6.98862997\n",
            "336   4.94477934  4.94477934\n",
            "337   4.87190881  4.87190881\n",
            "338   5.64690752  5.64690752\n",
            "339   4.86823793  4.86823793\n",
            "340   6.08602037  6.08602037\n",
            "341   3.38684918  3.38684918\n",
            "342   3.95074733  3.95074733\n",
            "343   7.52909468  7.52909468\n",
            "344   4.74740181  4.74740181\n",
            "345   6.18792163  6.18792163\n",
            "346   7.22180251  7.22180251\n",
            "347   4.09270898  4.09270898\n",
            "348   6.09835660  6.09835660\n",
            "349   4.83585875  4.83585875\n",
            "350   4.62788516  4.62788516\n",
            "351   7.41425692  7.41425692\n",
            "352   3.94256996  3.94256996\n",
            "353   6.11020054  6.11020054\n",
            "354   8.95867944  8.95867944\n",
            "355   4.80261304  4.80261304\n",
            "356   3.21299809  3.21299809\n",
            "357   6.78041366  6.78041366\n",
            "358   4.60968812  4.60968812\n",
            "359   3.77440530  3.77440530\n",
            "360   6.39481852  6.39481852\n",
            "361   3.93742537  3.93742537\n",
            "362   5.40762750  5.40762750\n",
            "363   5.10631838  5.10631838\n",
            "364   1.32760820  1.32760820\n",
            "365   3.03682165  3.03682165\n",
            "366   5.66632122  5.66632122\n",
            "367   9.06479469  9.06479469\n",
            "368   6.93143266  6.93143266\n",
            "369   3.16137260  3.16137260\n",
            "370   7.46238006  7.46238006\n",
            "371   3.32280516  3.32280516\n",
            "372   6.53425076  6.53425076\n",
            "373   5.27799828  5.27799828\n",
            "374   6.00876980  6.00876980\n",
            "375   3.53817149  3.53817149\n",
            "376   3.00866652  3.00866652\n",
            "377   5.83320459  5.83320459\n",
            "378   3.19170073  3.19170073\n",
            "379   4.49802737  4.49802737\n",
            "380   3.27947791  3.27947791\n",
            "381   5.03952698  5.03952698\n",
            "382   6.38521161  6.38521161\n",
            "383   4.28538231  4.28538231\n",
            "384   6.05736910  6.05736910\n",
            "385   5.54063561  5.54063561\n",
            "386   6.68863847  6.68863847\n",
            "387   4.50602370  4.50602370\n",
            "388   5.71756799  5.71756799\n",
            "389   8.47938491  8.47938491\n",
            "390   3.81635291  3.81635291\n",
            "391   3.99074142  3.99074142\n",
            "392   5.12091220  5.12091220\n",
            "393   2.98239187  2.98239187\n",
            "394   4.89170528  4.89170528\n",
            "395   4.37403917  4.37403917\n",
            "396   5.58642443  5.58642443\n",
            "397   5.35894790  5.35894790\n",
            "398   5.52601658  5.52601658\n",
            "399   4.99557295  4.99557295\n",
            "400   2.75821532  2.75821532\n",
            "401   4.65552201  4.65552201\n",
            "402   5.03051097  5.03051097\n",
            "403   6.63320357  6.63320357\n",
            "404   4.74935219  4.74935219\n",
            "405   3.54883838  3.54883838\n",
            "406   6.21921386  6.21921386\n",
            "407   5.90508373  5.90508373\n",
            "408   6.75558287  6.75558287\n",
            "409   4.78266461  4.78266461\n",
            "410   4.76437052  4.76437052\n",
            "411   3.64913912  3.64913912\n",
            "412   6.30552359  6.30552359\n",
            "413   4.74392392  4.74392392\n",
            "414   3.36923821  3.36923821\n",
            "415   2.67670069  2.67670069\n",
            "416   3.65088754  3.65088754\n",
            "417   6.38302599  6.38302599\n",
            "418   7.19258840  7.19258840\n",
            "419   7.32715270  7.32715270\n",
            "420   1.02701822  1.02701822\n",
            "421   5.71667257  5.71667257\n",
            "422   3.35025307  3.35025307\n",
            "423   6.70859518  6.70859518\n",
            "424   6.13448541  6.13448541\n",
            "425   3.57449384  3.57449384\n",
            "426   7.67058160  7.67058160\n",
            "427   4.94726329  4.94726329\n",
            "428   5.80251903  5.80251903\n",
            "429   5.88241640  5.88241640\n",
            "430   2.88196491  2.88196491\n",
            "431   4.50695136  4.50695136\n",
            "432   6.12044210  6.12044210\n",
            "433   0.11067582  0.11067582\n",
            "434   4.98033190  4.98033190\n",
            "435   4.30723770  4.30723770\n",
            "436   5.47372319  5.47372319\n",
            "437   5.28783804  5.28783804\n",
            "438   3.18572038  3.18572038\n",
            "439   7.90193502  7.90193502\n",
            "440   7.69119861  7.69119861\n",
            "441   4.04655323  4.04655323\n",
            "442   2.44792934  2.44792934\n",
            "443   6.80690224  6.80690224\n",
            "444   5.58597674  5.58597674\n",
            "445   2.89285375  2.89285375\n",
            "446   2.77986921  2.77986921\n",
            "447   2.18840117  2.18840117\n",
            "448   2.75319290  2.75319290\n",
            "449   6.81897556  6.81897556\n",
            "450   3.35041145  3.35041145\n",
            "451   7.25136385  7.25136385\n",
            "452   3.67736285  3.67736285\n",
            "453   7.17666901  7.17666901\n",
            "454   3.65780754  3.65780754\n",
            "455   1.59482501  1.59482501\n",
            "456   3.62372968  3.62372968\n",
            "457   2.70137897  2.70137897\n",
            "458   7.68770724  7.68770724\n",
            "459   6.34731907  6.34731907\n",
            "460   5.74294211  5.74294211\n",
            "461   7.80604791  7.80604791\n",
            "462   6.32566451  6.32566451\n",
            "463   8.85913948  8.85913948\n",
            "464   7.71304801  7.71304801\n",
            "465   5.52434991  5.52434991\n",
            "466   3.33794990  3.33794990\n",
            "467   5.96805327  5.96805327\n",
            "468   5.34635832  5.34635832\n",
            "469   9.30687812  9.30687812\n",
            "470   3.53262268  3.53262268\n",
            "471   5.01713232  5.01713232\n",
            "472   4.65130663  4.65130663\n",
            "473   6.61648375  6.61648375\n",
            "474   4.64461211  4.64461211\n",
            "475   4.90283760  4.90283760\n",
            "476   5.64567216  5.64567216\n",
            "477   3.48210532  3.48210532\n",
            "478   5.08192719  5.08192719\n",
            "479   2.63968801  2.63968801\n",
            "480   4.89225614  4.89225614\n",
            "481   4.00731750  4.00731750\n",
            "482   4.05823650  4.05823650\n",
            "483   6.99264196  6.99264196\n",
            "484   8.80668717  8.80668717\n",
            "485   5.55904748  5.55904748\n",
            "486   3.25390203  3.25390203\n",
            "487   5.06853214  5.06853214\n",
            "488   5.11042898  5.11042898\n",
            "489   5.48824118  5.48824118\n",
            "490   5.24122186  5.24122186\n",
            "491   6.00148740  6.00148740\n",
            "492   5.97135461  5.97135461\n",
            "493   8.04609100  8.04609100\n",
            "494   5.15603701  5.15603701\n",
            "495   3.11051543  3.11051543\n",
            "496   4.42502593  4.42502593\n",
            "497   4.69820838  4.69820838\n",
            "498   3.67603364  3.67603364\n",
            "499   6.47598869  6.47598869\n",
            "500   7.51865351  7.51865351\n",
            "501   4.48361519  4.48361519\n",
            "502   3.91764443  3.91764443\n",
            "503   3.68824596  3.68824596\n",
            "504   6.53977394  6.53977394\n",
            "505   2.77910224  2.77910224\n",
            "506   6.40677505  6.40677505\n",
            "507   7.13628845  7.13628845\n",
            "508   3.39823133  3.39823133\n",
            "509   4.16414623  4.16414623\n",
            "510   3.82245719  3.82245719\n",
            "511   5.86398544  5.86398544\n",
            "512   3.73479692  3.73479692\n",
            "513   6.62962633  6.62962633\n",
            "514   6.56785899  6.56785899\n",
            "515   3.49120324  3.49120324\n",
            "516   7.53148475  7.53148475\n",
            "517   5.37498564  5.37498564\n",
            "518   5.12650884  5.12650884\n",
            "519   4.70289440  4.70289440\n",
            "520   5.96230818  5.96230818\n",
            "521   4.48685074  4.48685074\n",
            "522   2.18501340  2.18501340\n",
            "523   5.82162323  5.82162323\n",
            "524   4.98087516  4.98087516\n",
            "525   7.27011515  7.27011515\n",
            "526   3.30243882  3.30243882\n",
            "527   3.11948230  3.11948230\n",
            "528   4.17280029  4.17280029\n",
            "529   4.05145863  4.05145863\n",
            "530   6.01168648  6.01168648\n",
            "531   5.97634441  5.97634441\n",
            "532   6.31942877  6.31942877\n",
            "533   7.80359877  7.80359877\n",
            "534   5.30581485  5.30581485\n",
            "535   4.14761439  4.14761439\n",
            "536   4.12234545  4.12234545\n",
            "537   6.06032674  6.06032674\n",
            "538   3.57382374  3.57382374\n",
            "539   1.90324637  1.90324637\n",
            "540   7.77456888  7.77456888\n",
            "541   3.06760937  3.06760937\n",
            "542   6.95465093  6.95465093\n",
            "543   5.01655206  5.01655206\n",
            "544   4.65220374  4.65220374\n",
            "545   4.43914436  4.43914436\n",
            "546   5.07814799  5.07814799\n",
            "547   4.96173092  4.96173092\n",
            "548   5.34262279  5.34262279\n",
            "549   4.65978520  4.65978520\n",
            "550   3.41075365  3.41075365\n",
            "551   3.63353350  3.63353350\n",
            "552   2.65148373  2.65148373\n",
            "553   8.15669791  8.15669791\n",
            "554   4.72029367  4.72029367\n",
            "555   5.24871743  5.24871743\n",
            "556   4.96749017  4.96749017\n",
            "557   5.87700932  5.87700932\n",
            "558   6.73399396  6.73399396\n",
            "559   5.03393958  5.03393958\n",
            "560   3.85397139  3.85397139\n",
            "561   5.88942849  5.88942849\n",
            "562   4.27080698  4.27080698\n",
            "563   3.89780546  3.89780546\n",
            "564   3.03301686  3.03301686\n",
            "565   5.56639318  5.56639318\n",
            "566   1.96246443  1.96246443\n",
            "567   4.35494023  4.35494023\n",
            "568   7.65897728  7.65897728\n",
            "569   3.16014236  3.16014236\n",
            "570   5.61423675  5.61423675\n",
            "571   4.87104819  4.87104819\n",
            "572   6.34442175  6.34442175\n",
            "573   4.37499830  4.37499830\n",
            "574   7.77347932  7.77347932\n",
            "575   2.30091123  2.30091123\n",
            "576   1.93017374  1.93017374\n",
            "577   4.81513666  4.81513666\n",
            "578   4.46946643  4.46946643\n",
            "579   5.73741746  5.73741746\n",
            "580   5.03251450  5.03251450\n",
            "581   6.78710297  6.78710297\n",
            "582   7.85558607  7.85558607\n",
            "583   2.33204217  2.33204217\n",
            "584   5.87988504  5.87988504\n",
            "585   5.83031725  5.83031725\n",
            "586   8.92602911  8.92602911\n",
            "587   4.79642407  4.79642407\n",
            "588   3.87913684  3.87913684\n",
            "589   5.69035764  5.69035764\n",
            "590   2.89886524  2.89886524\n",
            "591   4.69940844  4.69940844\n",
            "592   4.05956167  4.05956167\n",
            "593   8.19064752  8.19064752\n",
            "594   5.28386580  5.28386580\n",
            "595   3.48609700  3.48609700\n",
            "596   6.28824509  6.28824509\n",
            "597   7.82063364  7.82063364\n",
            "598   4.93146902  4.93146902\n",
            "599   7.29830879  7.29830879\n",
            "600   4.40756815  4.40756815\n",
            "601   3.07424542  3.07424542\n",
            "602   6.25185989  6.25185989\n",
            "603   4.87838304  4.87838304\n",
            "604   5.12321750  5.12321750\n",
            "605   7.16855932  7.16855932\n",
            "606   6.88375374  6.88375374\n",
            "607   6.42519515  6.42519515\n",
            "608   5.65009052  5.65009052\n",
            "609   4.25968766  4.25968766\n",
            "610   4.12609274  4.12609274\n",
            "611   5.49896807  5.49896807\n",
            "612   5.69441851  5.69441851\n",
            "613   8.14895148  8.14895148\n",
            "614   5.75001105  5.75001105\n",
            "615   4.44578271  4.44578271\n",
            "616   6.43173370  6.43173370\n",
            "617   4.28219520  4.28219520\n",
            "618   5.61946449  5.61946449\n",
            "619   5.05951257  5.05951257\n",
            "620   2.99937340  2.99937340\n",
            "621   3.46284604  3.46284604\n",
            "622   8.09231674  8.09231674\n",
            "623   3.89681487  3.89681487\n",
            "624   0.78942050  0.78942050\n",
            "625   6.41420364  6.41420364\n",
            "626   3.48371627  3.48371627\n",
            "627   3.28977579  3.28977579\n",
            "628   6.46385922  6.46385922\n",
            "629   3.07956883  3.07956883\n",
            "630   5.77957117  5.77957117\n",
            "631   2.38466526  2.38466526\n",
            "632   7.32105269  7.32105269\n",
            "633   5.72595719  5.72595719\n",
            "634   3.62505689  3.62505689\n",
            "635   7.21762650  7.21762650\n",
            "636   5.57350594  5.57350594\n",
            "637   8.10352643  8.10352643\n",
            "638   5.74729866  5.74729866\n",
            "639   6.29364933  6.29364933\n",
            "640   2.37376270  2.37376270\n",
            "641   5.79525178  5.79525178\n",
            "642   5.69535270  5.69535270\n",
            "643   5.12772951  5.12772951\n",
            "644   6.30120952  6.30120952\n",
            "645   4.80144045  4.80144045\n",
            "646   1.63478274  1.63478274\n",
            "647   5.71613463  5.71613463\n",
            "648   3.36939556  3.36939556\n",
            "649   4.76863625  4.76863625\n",
            "650   2.65580352  2.65580352\n",
            "651   6.97616223  6.97616223\n",
            "652   3.69867193  3.69867193\n",
            "653   5.80429044  5.80429044\n",
            "654   4.94714195  4.94714195\n",
            "655   5.59278962  5.59278962\n",
            "656   6.22896997  6.22896997\n",
            "657   7.33020354  7.33020354\n",
            "658   7.40707074  7.40707074\n",
            "659   6.62747636  6.62747636\n",
            "660   5.08395695  5.08395695\n",
            "661   4.04834906  4.04834906\n",
            "662   7.35413312  7.35413312\n",
            "663   1.74698691  1.74698691\n",
            "664   7.24506089  7.24506089\n",
            "665   4.79978332  4.79978332\n",
            "666   3.52659080  3.52659080\n",
            "667   4.82574168  4.82574168\n",
            "668   5.32533153  5.32533153\n",
            "669   7.01254420  7.01254420\n",
            "670   7.71411132  7.71411132\n",
            "671   5.22427301  5.22427301\n",
            "672   5.43678226  5.43678226\n",
            "673   2.12318734  2.12318734\n",
            "674   3.54152656  3.54152656\n",
            "675   6.42954268  6.42954268\n",
            "676   3.58351296  3.58351296\n",
            "677   5.29799138  5.29799138\n",
            "678   3.66317797  3.66317797\n",
            "679   2.59718960  2.59718960\n",
            "680   7.73437694  7.73437694\n",
            "681   5.85872875  5.85872875\n",
            "682   5.18299966  5.18299966\n",
            "683   6.81952546  6.81952546\n",
            "684   4.48899501  4.48899501\n",
            "685   4.21932995  4.21932995\n",
            "686   4.82494334  4.82494334\n",
            "687   5.84080373  5.84080373\n",
            "688   5.88840238  5.88840238\n",
            "689   2.99209188  2.99209188\n",
            "690   4.25779487  4.25779487\n",
            "691   4.27759215  4.27759215\n",
            "692   6.05201993  6.05201993\n",
            "693   4.61853780  4.61853780\n",
            "694   3.65646928  3.65646928\n",
            "695   3.77113149  3.77113149\n",
            "696   8.41656481  8.41656481\n",
            "697   5.85060627  5.85060627\n",
            "698   8.27074455  8.27074455\n",
            "699   6.87443864  6.87443864\n",
            "700   7.89182411  7.89182411\n",
            "701   5.41769024  5.41769024\n",
            "702   6.88863693  6.88863693\n",
            "703   7.79205832  7.79205832\n",
            "704   6.67170944  6.67170944\n",
            "705   2.85124192  2.85124192\n",
            "706   6.21043619  6.21043619\n",
            "707   5.42973089  5.42973089\n",
            "708   5.27907938  5.27907938\n",
            "709   2.57908811  2.57908811\n",
            "710   3.58141713  3.58141713\n",
            "711   3.37929828  3.37929828\n",
            "712   6.98650545  6.98650545\n",
            "713   6.16581260  6.16581260\n",
            "714   5.71066013  5.71066013\n",
            "715   4.78211544  4.78211544\n",
            "716   4.34345937  4.34345937\n",
            "717   4.16026593  4.16026593\n",
            "718   4.22081520  4.22081520\n",
            "719   6.60547813  6.60547813\n",
            "720   5.08072153  5.08072153\n",
            "721   6.76171072  6.76171072\n",
            "722  -0.12944675 -0.12944675\n",
            "723   4.06519475  4.06519475\n",
            "724   3.50458508  3.50458508\n",
            "725   6.95755977  6.95755977\n",
            "726   7.68031677  7.68031677\n",
            "727   5.40505019  5.40505019\n",
            "728   3.77052056  3.77052056\n",
            "729   4.76503903  4.76503903\n",
            "730   5.15864462  5.15864462\n",
            "731   5.22808526  5.22808526\n",
            "732   6.31765632  6.31765632\n",
            "733   7.60664901  7.60664901\n",
            "734   5.19656133  5.19656133\n",
            "735   5.48945140  5.48945140\n",
            "736   7.16620900  7.16620900\n",
            "737   6.25126258  6.25126258\n",
            "738   2.25607455  2.25607455\n",
            "739   2.70640723  2.70640723\n",
            "740   6.33878009  6.33878009\n",
            "741   1.87164203  1.87164203\n",
            "742   6.50470202  6.50470202\n",
            "743   3.73540836  3.73540836\n",
            "744   4.83010823  4.83010823\n",
            "745   4.87388649  4.87388649\n",
            "746   6.65590565  6.65590565\n",
            "747   5.19909958  5.19909958\n",
            "748   4.77832601  4.77832601\n",
            "749   3.41223725  3.41223725\n",
            "750   5.67697306  5.67697306\n",
            "751   2.37063572  2.37063572\n",
            "752   4.56107498  4.56107498\n",
            "753   5.76711192  5.76711192\n",
            "754   5.05735439  5.05735439\n",
            "755   7.32631009  7.32631009\n",
            "756   5.13089719  5.13089719\n",
            "757   3.44570377  3.44570377\n",
            "758   5.89594019  5.89594019\n",
            "759   3.48451355  3.48451355\n",
            "760   6.36875719  6.36875719\n",
            "761   5.93090538  5.93090538\n",
            "762   4.99302356  4.99302356\n",
            "763   4.87855379  4.87855379\n",
            "764   5.71786702  5.71786702\n",
            "765   4.39521051  4.39521051\n",
            "766   3.91547769  3.91547769\n",
            "767   3.66408113  3.66408113\n",
            "768   3.58788295  3.58788295\n",
            "769   5.45024198  5.45024198\n",
            "770   6.10606027  6.10606027\n",
            "771   5.20607280  5.20607280\n",
            "772   6.46644371  6.46644371\n",
            "773   4.39713223  4.39713223\n",
            "774   1.27789693  1.27789693\n",
            "775   4.71257565  4.71257565\n",
            "776   4.82256686  4.82256686\n",
            "777   7.06341180  7.06341180\n",
            "778   4.70159327  4.70159327\n",
            "779   0.04938961  0.04938961\n",
            "780   5.27548559  5.27548559\n",
            "781   5.03877813  5.03877813\n",
            "782   3.18578324  3.18578324\n",
            "783   5.64348843  5.64348843\n",
            "784   7.82618982  7.82618982\n",
            "785   5.07557074  5.07557074\n",
            "786   3.66506175  3.66506175\n",
            "787   3.01731799  3.01731799\n",
            "788   2.07806695  2.07806695\n",
            "789   5.68710728  5.68710728\n",
            "790   1.90257418  1.90257418\n",
            "791   5.44556402  5.44556402\n",
            "792   2.80888765  2.80888765\n",
            "793   4.60458822  4.60458822\n",
            "794   6.13821358  6.13821358\n",
            "795   4.43620253  4.43620253\n",
            "796   2.56799864  2.56799864\n",
            "797   3.75708110  3.75708110\n",
            "798   4.95075625  4.95075625\n",
            "799   5.02030859  5.02030859\n",
            "800   4.42170176  4.42170176\n",
            "801   5.15712692  5.15712692\n",
            "802   5.77651096  5.77651096\n",
            "803   5.13019911  5.13019911\n",
            "804   5.33259504  5.33259504\n",
            "805   8.16089428  8.16089428\n",
            "806   6.21346286  6.21346286\n",
            "807   4.91028546  4.91028546\n",
            "808   5.22204172  5.22204172\n",
            "809   5.24440255  5.24440255\n",
            "810   8.05304468  8.05304468\n",
            "811   6.76427330  6.76427330\n",
            "812   6.14980214  6.14980214\n",
            "813   6.92799675  6.92799675\n",
            "814   3.44059353  3.44059353\n",
            "815   4.20317506  4.20317506\n",
            "816   6.22006264  6.22006264\n",
            "817   6.91202757  6.91202757\n",
            "818   5.45712607  5.45712607\n",
            "819   6.70321233  6.70321233\n",
            "820   2.83239326  2.83239326\n",
            "821   3.18967719  3.18967719\n",
            "822   0.85340682  0.85340682\n",
            "823   6.22150353  6.22150353\n",
            "824   3.24956018  3.24956018\n",
            "825   3.79916028  3.79916028\n",
            "826   6.60837320  6.60837320\n",
            "827   7.20746230  7.20746230\n",
            "828   5.10773572  5.10773572\n",
            "829   5.39523909  5.39523909\n",
            "830   9.53763073  9.53763073\n",
            "831   4.64287693  4.64287693\n",
            "832   5.49875965  5.49875965\n",
            "833   5.65448618  5.65448618\n",
            "834   5.91309519  5.91309519\n",
            "835   4.45494297  4.45494297\n",
            "836   4.19688854  4.19688854\n",
            "837   5.11022695  5.11022695\n",
            "838   6.48367792  6.48367792\n",
            "839   3.92187343  3.92187343\n",
            "840   6.94635183  6.94635183\n",
            "841   4.76437919  4.76437919\n",
            "842   8.80731186  8.80731186\n",
            "843   5.23439733  5.23439733\n",
            "844   2.13115021  2.13115021\n",
            "845   5.56537921  5.56537921\n",
            "846   2.48510080  2.48510080\n",
            "847   4.82833852  4.82833852\n",
            "848   6.19734358  6.19734358\n",
            "849   4.22912420  4.22912420\n",
            "850   5.77031062  5.77031062\n",
            "851   7.84493908  7.84493908\n",
            "852   9.95945039  9.95945039\n",
            "853   4.00609398  4.00609398\n",
            "854   3.64226367  3.64226367\n",
            "855   6.81809179  6.81809179\n",
            "856   8.84056280  8.84056280\n",
            "857   7.11374289  7.11374289\n",
            "858   6.27345513  6.27345513\n",
            "859   6.65387972  6.65387972\n",
            "860   2.81937084  2.81937084\n",
            "861   6.29083488  6.29083488\n",
            "862   6.21821682  6.21821682\n",
            "863   6.26781671  6.26781671\n",
            "864   1.49745219  1.49745219\n",
            "865   3.83275784  3.83275784\n",
            "866   5.09285599  5.09285599\n",
            "867   3.84799106  3.84799106\n",
            "868   3.74596002  3.74596002\n",
            "869   6.20846591  6.20846591\n",
            "870   7.04570251  7.04570251\n",
            "871   6.49643712  6.49643712\n",
            "872   6.90449405  6.90449405\n",
            "873   4.22665172  4.22665172\n",
            "874   3.24741022  3.24741022\n",
            "875   2.69079110  2.69079110\n",
            "876   6.48184145  6.48184145\n",
            "877   7.24563812  7.24563812\n",
            "878   3.64697898  3.64697898\n",
            "879   3.43810300  3.43810300\n",
            "880   6.34329253  6.34329253\n",
            "881   5.85538015  5.85538015\n",
            "882  10.81330543 10.81330543\n",
            "883   3.06677921  3.06677921\n",
            "884   4.08477881  4.08477881\n",
            "885   2.76762472  2.76762472\n",
            "886   3.85294059  3.85294059\n",
            "887   4.78817641  4.78817641\n",
            "888   5.39731015  5.39731015\n",
            "889   1.87544626  1.87544626\n",
            "890   4.60216917  4.60216917\n",
            "891   7.22795909  7.22795909\n",
            "892   5.05549973  5.05549973\n",
            "893   4.97590997  4.97590997\n",
            "894   4.88821116  4.88821116\n",
            "895   4.30709566  4.30709566\n",
            "896   8.44573778  8.44573778\n",
            "897   1.76137099  1.76137099\n",
            "898   3.85849298  3.85849298\n",
            "899   4.35036144  4.35036144\n",
            "900   3.03608715  3.03608715\n",
            "901   5.12076590  5.12076590\n",
            "902   6.66734304  6.66734304\n",
            "903   7.97520122  7.97520122\n",
            "904   4.74342331  4.74342331\n",
            "905   6.80375900  6.80375900\n",
            "906   6.19487888  6.19487888\n",
            "907   5.65943599  5.65943599\n",
            "908   4.76512095  4.76512095\n",
            "909   5.17994289  5.17994289\n",
            "910   6.19824076  6.19824076\n",
            "911   3.46510806  3.46510806\n",
            "912   6.18939034  6.18939034\n",
            "913   5.32885599  5.32885599\n",
            "914   4.91684312  4.91684312\n",
            "915   3.41792301  3.41792301\n",
            "916   5.68536011  5.68536011\n",
            "917   6.69582881  6.69582881\n",
            "918   3.07202727  3.07202727\n",
            "919   6.40931427  6.40931427\n",
            "920   5.67737520  5.67737520\n",
            "921   6.35074693  6.35074693\n",
            "922   6.22717058  6.22717058\n",
            "923   2.34807049  2.34807049\n",
            "924   7.27697102  7.27697102\n",
            "925   1.86591945  1.86591945\n",
            "926   7.05538392  7.05538392\n",
            "927   5.46309725  5.46309725\n",
            "928   4.15926176  4.15926176\n",
            "929   6.67872891  6.67872891\n",
            "930   2.43157634  2.43157634\n",
            "931   4.98194281  4.98194281\n",
            "932   3.39288150  3.39288150\n",
            "933   7.60285777  7.60285777\n",
            "934   4.35756293  4.35756293\n",
            "935   7.83185354  7.83185354\n",
            "936   4.47991642  4.47991642\n",
            "937   2.53585570  2.53585570\n",
            "938   5.80976899  5.80976899\n",
            "939   6.62928206  6.62928206\n",
            "940   5.17246864  5.17246864\n",
            "941   5.15683164  5.15683164\n",
            "942   4.83320714  4.83320714\n",
            "943   4.53448430  4.53448430\n",
            "944   2.72361676  2.72361676\n",
            "945   7.38806857  7.38806857\n",
            "946   6.67087549  6.67087549\n",
            "947   3.91851923  3.91851923\n",
            "948   4.86533238  4.86533238\n",
            "949   5.24570571  5.24570571\n",
            "950   3.44852923  3.44852923\n",
            "951   4.99264407  4.99264407\n",
            "952   5.14570114  5.14570114\n",
            "953   6.15936771  6.15936771\n",
            "954   4.83214886  4.83214886\n",
            "955   7.31529003  7.31529003\n",
            "956   4.00631601  4.00631601\n",
            "957   2.34587849  2.34587849\n",
            "958   3.06462249  3.06462249\n",
            "959   7.24924355  7.24924355\n",
            "960   4.99033611  4.99033611\n",
            "961   5.90478136  5.90478136\n",
            "962   4.75149939  4.75149939\n",
            "963   5.31101642  5.31101642\n",
            "964   6.34943703  6.34943703\n",
            "965   7.32563716  7.32563716\n",
            "966   3.85180167  3.85180167\n",
            "967   2.22894262  2.22894262\n",
            "968   5.26645683  5.26645683\n",
            "969   6.21271201  6.21271201\n",
            "970   3.78402193  3.78402193\n",
            "971   5.86298847  5.86298847\n",
            "972   4.95915521  4.95915521\n",
            "973   7.80755035  7.80755035\n",
            "974   3.42224799  3.42224799\n",
            "975   3.92724272  3.92724272\n",
            "976   5.02916679  5.02916679\n",
            "977   3.07686152  3.07686152\n",
            "978   5.91276924  5.91276924\n",
            "979   3.50592606  3.50592606\n",
            "980   5.21196105  5.21196105\n",
            "981   5.73875206  5.73875206\n",
            "982   4.68460962  4.68460962\n",
            "983   2.88791792  2.88791792\n",
            "984   4.03085898  4.03085898\n",
            "985   5.13025139  5.13025139\n",
            "986   6.60476199  6.60476199\n",
            "987   7.13049942  7.13049942\n",
            "988   4.92078885  4.92078885\n",
            "989   6.84213969  6.84213969\n",
            "990   7.89507911  7.89507911\n",
            "991   5.44578770  5.44578770\n",
            "992   5.98317036  5.98317036\n",
            "993   3.44806257  3.44806257\n",
            "994   4.50286200  4.50286200\n",
            "995   4.30289099  4.30289099\n",
            "996   3.28597474  3.28597474\n",
            "997   8.44555612  8.44555612\n",
            "998   3.81670071  3.81670071\n",
            "999   5.63151190  5.63151190\n",
            "1000  5.77193644  5.77193644\n"
          ]
        }
      ]
    },
    {
      "cell_type": "code",
      "metadata": {
        "colab": {
          "base_uri": "https://localhost:8080/",
          "height": 0
        },
        "id": "RC7m_3tjqSFp",
        "outputId": "284c1516-8af0-4fad-f525-eca08da6f508"
      },
      "source": [
        "df = data.frame(Var1= x[,1],Var2 = x[,2])\n",
        "df"
      ],
      "execution_count": 378,
      "outputs": [
        {
          "output_type": "display_data",
          "data": {
            "text/plain": [
              "     Var1      Var2     \n",
              "1    4.9938190 12.081669\n",
              "2    4.5031100 17.107018\n",
              "3    5.1566082 11.988953\n",
              "4    5.8721941 11.047375\n",
              "5    4.1339023 10.588573\n",
              "6    3.4577239  8.286134\n",
              "7    3.7168461  7.868332\n",
              "8    3.1900989  8.039985\n",
              "9    9.1923879 12.289376\n",
              "10   2.9319470  9.474698\n",
              "11   4.7452693  7.652501\n",
              "12   1.8739516 10.446748\n",
              "13   6.7870373 11.147329\n",
              "14   4.8713131  9.458159\n",
              "15   5.4581420 13.088465\n",
              "16   3.6833535  5.405503\n",
              "17   5.6185610 10.110629\n",
              "18   3.1886927  5.434145\n",
              "19   0.6332905  7.569078\n",
              "20   6.9677331  9.081695\n",
              "21   4.7845881 10.832311\n",
              "22   2.6638069  7.411021\n",
              "23   4.1190880  9.440047\n",
              "24   7.3980332 11.602061\n",
              "25   5.6398783  8.125502\n",
              "26   6.9441299 10.293171\n",
              "27   4.3822828  7.994197\n",
              "28   7.9196690 10.721036\n",
              "29   3.5271635  8.221127\n",
              "30   6.6168948  8.468438\n",
              "⋮    ⋮         ⋮        \n",
              "971  5.862988  13.935365\n",
              "972  4.959155  11.026039\n",
              "973  7.807550   9.401627\n",
              "974  3.422248  10.432238\n",
              "975  3.927243   8.496566\n",
              "976  5.029167   8.738463\n",
              "977  3.076862   9.004382\n",
              "978  5.912769  11.802998\n",
              "979  3.505926   8.010834\n",
              "980  5.211961   9.249155\n",
              "981  5.738752  14.374564\n",
              "982  4.684610  10.997219\n",
              "983  2.887918   8.392599\n",
              "984  4.030859   7.089366\n",
              "985  5.130251   8.228397\n",
              "986  6.604762  10.521666\n",
              "987  7.130499  14.964039\n",
              "988  4.920789  10.076258\n",
              "989  6.842140   8.746611\n",
              "990  7.895079  13.919795\n",
              "991  5.445788  12.314808\n",
              "992  5.983170  11.845804\n",
              "993  3.448063  10.128690\n",
              "994  4.502862   8.560675\n",
              "995  4.302891   7.747108\n",
              "996  3.285975   8.481500\n",
              "997  8.445556  10.081503\n",
              "998  3.816701   8.590498\n",
              "999  5.631512  12.521172\n",
              "1000 5.771936  11.721081"
            ],
            "text/latex": "A data.frame: 1000 × 2\n\\begin{tabular}{ll}\n Var1 & Var2\\\\\n <dbl> & <dbl>\\\\\n\\hline\n\t 4.9938190 & 12.081669\\\\\n\t 4.5031100 & 17.107018\\\\\n\t 5.1566082 & 11.988953\\\\\n\t 5.8721941 & 11.047375\\\\\n\t 4.1339023 & 10.588573\\\\\n\t 3.4577239 &  8.286134\\\\\n\t 3.7168461 &  7.868332\\\\\n\t 3.1900989 &  8.039985\\\\\n\t 9.1923879 & 12.289376\\\\\n\t 2.9319470 &  9.474698\\\\\n\t 4.7452693 &  7.652501\\\\\n\t 1.8739516 & 10.446748\\\\\n\t 6.7870373 & 11.147329\\\\\n\t 4.8713131 &  9.458159\\\\\n\t 5.4581420 & 13.088465\\\\\n\t 3.6833535 &  5.405503\\\\\n\t 5.6185610 & 10.110629\\\\\n\t 3.1886927 &  5.434145\\\\\n\t 0.6332905 &  7.569078\\\\\n\t 6.9677331 &  9.081695\\\\\n\t 4.7845881 & 10.832311\\\\\n\t 2.6638069 &  7.411021\\\\\n\t 4.1190880 &  9.440047\\\\\n\t 7.3980332 & 11.602061\\\\\n\t 5.6398783 &  8.125502\\\\\n\t 6.9441299 & 10.293171\\\\\n\t 4.3822828 &  7.994197\\\\\n\t 7.9196690 & 10.721036\\\\\n\t 3.5271635 &  8.221127\\\\\n\t 6.6168948 &  8.468438\\\\\n\t ⋮ & ⋮\\\\\n\t 5.862988 & 13.935365\\\\\n\t 4.959155 & 11.026039\\\\\n\t 7.807550 &  9.401627\\\\\n\t 3.422248 & 10.432238\\\\\n\t 3.927243 &  8.496566\\\\\n\t 5.029167 &  8.738463\\\\\n\t 3.076862 &  9.004382\\\\\n\t 5.912769 & 11.802998\\\\\n\t 3.505926 &  8.010834\\\\\n\t 5.211961 &  9.249155\\\\\n\t 5.738752 & 14.374564\\\\\n\t 4.684610 & 10.997219\\\\\n\t 2.887918 &  8.392599\\\\\n\t 4.030859 &  7.089366\\\\\n\t 5.130251 &  8.228397\\\\\n\t 6.604762 & 10.521666\\\\\n\t 7.130499 & 14.964039\\\\\n\t 4.920789 & 10.076258\\\\\n\t 6.842140 &  8.746611\\\\\n\t 7.895079 & 13.919795\\\\\n\t 5.445788 & 12.314808\\\\\n\t 5.983170 & 11.845804\\\\\n\t 3.448063 & 10.128690\\\\\n\t 4.502862 &  8.560675\\\\\n\t 4.302891 &  7.747108\\\\\n\t 3.285975 &  8.481500\\\\\n\t 8.445556 & 10.081503\\\\\n\t 3.816701 &  8.590498\\\\\n\t 5.631512 & 12.521172\\\\\n\t 5.771936 & 11.721081\\\\\n\\end{tabular}\n",
            "text/markdown": "\nA data.frame: 1000 × 2\n\n| Var1 &lt;dbl&gt; | Var2 &lt;dbl&gt; |\n|---|---|\n| 4.9938190 | 12.081669 |\n| 4.5031100 | 17.107018 |\n| 5.1566082 | 11.988953 |\n| 5.8721941 | 11.047375 |\n| 4.1339023 | 10.588573 |\n| 3.4577239 |  8.286134 |\n| 3.7168461 |  7.868332 |\n| 3.1900989 |  8.039985 |\n| 9.1923879 | 12.289376 |\n| 2.9319470 |  9.474698 |\n| 4.7452693 |  7.652501 |\n| 1.8739516 | 10.446748 |\n| 6.7870373 | 11.147329 |\n| 4.8713131 |  9.458159 |\n| 5.4581420 | 13.088465 |\n| 3.6833535 |  5.405503 |\n| 5.6185610 | 10.110629 |\n| 3.1886927 |  5.434145 |\n| 0.6332905 |  7.569078 |\n| 6.9677331 |  9.081695 |\n| 4.7845881 | 10.832311 |\n| 2.6638069 |  7.411021 |\n| 4.1190880 |  9.440047 |\n| 7.3980332 | 11.602061 |\n| 5.6398783 |  8.125502 |\n| 6.9441299 | 10.293171 |\n| 4.3822828 |  7.994197 |\n| 7.9196690 | 10.721036 |\n| 3.5271635 |  8.221127 |\n| 6.6168948 |  8.468438 |\n| ⋮ | ⋮ |\n| 5.862988 | 13.935365 |\n| 4.959155 | 11.026039 |\n| 7.807550 |  9.401627 |\n| 3.422248 | 10.432238 |\n| 3.927243 |  8.496566 |\n| 5.029167 |  8.738463 |\n| 3.076862 |  9.004382 |\n| 5.912769 | 11.802998 |\n| 3.505926 |  8.010834 |\n| 5.211961 |  9.249155 |\n| 5.738752 | 14.374564 |\n| 4.684610 | 10.997219 |\n| 2.887918 |  8.392599 |\n| 4.030859 |  7.089366 |\n| 5.130251 |  8.228397 |\n| 6.604762 | 10.521666 |\n| 7.130499 | 14.964039 |\n| 4.920789 | 10.076258 |\n| 6.842140 |  8.746611 |\n| 7.895079 | 13.919795 |\n| 5.445788 | 12.314808 |\n| 5.983170 | 11.845804 |\n| 3.448063 | 10.128690 |\n| 4.502862 |  8.560675 |\n| 4.302891 |  7.747108 |\n| 3.285975 |  8.481500 |\n| 8.445556 | 10.081503 |\n| 3.816701 |  8.590498 |\n| 5.631512 | 12.521172 |\n| 5.771936 | 11.721081 |\n\n",
            "text/html": [
              "<table class=\"dataframe\">\n",
              "<caption>A data.frame: 1000 × 2</caption>\n",
              "<thead>\n",
              "\t<tr><th scope=col>Var1</th><th scope=col>Var2</th></tr>\n",
              "\t<tr><th scope=col>&lt;dbl&gt;</th><th scope=col>&lt;dbl&gt;</th></tr>\n",
              "</thead>\n",
              "<tbody>\n",
              "\t<tr><td>4.9938190</td><td>12.081669</td></tr>\n",
              "\t<tr><td>4.5031100</td><td>17.107018</td></tr>\n",
              "\t<tr><td>5.1566082</td><td>11.988953</td></tr>\n",
              "\t<tr><td>5.8721941</td><td>11.047375</td></tr>\n",
              "\t<tr><td>4.1339023</td><td>10.588573</td></tr>\n",
              "\t<tr><td>3.4577239</td><td> 8.286134</td></tr>\n",
              "\t<tr><td>3.7168461</td><td> 7.868332</td></tr>\n",
              "\t<tr><td>3.1900989</td><td> 8.039985</td></tr>\n",
              "\t<tr><td>9.1923879</td><td>12.289376</td></tr>\n",
              "\t<tr><td>2.9319470</td><td> 9.474698</td></tr>\n",
              "\t<tr><td>4.7452693</td><td> 7.652501</td></tr>\n",
              "\t<tr><td>1.8739516</td><td>10.446748</td></tr>\n",
              "\t<tr><td>6.7870373</td><td>11.147329</td></tr>\n",
              "\t<tr><td>4.8713131</td><td> 9.458159</td></tr>\n",
              "\t<tr><td>5.4581420</td><td>13.088465</td></tr>\n",
              "\t<tr><td>3.6833535</td><td> 5.405503</td></tr>\n",
              "\t<tr><td>5.6185610</td><td>10.110629</td></tr>\n",
              "\t<tr><td>3.1886927</td><td> 5.434145</td></tr>\n",
              "\t<tr><td>0.6332905</td><td> 7.569078</td></tr>\n",
              "\t<tr><td>6.9677331</td><td> 9.081695</td></tr>\n",
              "\t<tr><td>4.7845881</td><td>10.832311</td></tr>\n",
              "\t<tr><td>2.6638069</td><td> 7.411021</td></tr>\n",
              "\t<tr><td>4.1190880</td><td> 9.440047</td></tr>\n",
              "\t<tr><td>7.3980332</td><td>11.602061</td></tr>\n",
              "\t<tr><td>5.6398783</td><td> 8.125502</td></tr>\n",
              "\t<tr><td>6.9441299</td><td>10.293171</td></tr>\n",
              "\t<tr><td>4.3822828</td><td> 7.994197</td></tr>\n",
              "\t<tr><td>7.9196690</td><td>10.721036</td></tr>\n",
              "\t<tr><td>3.5271635</td><td> 8.221127</td></tr>\n",
              "\t<tr><td>6.6168948</td><td> 8.468438</td></tr>\n",
              "\t<tr><td>⋮</td><td>⋮</td></tr>\n",
              "\t<tr><td>5.862988</td><td>13.935365</td></tr>\n",
              "\t<tr><td>4.959155</td><td>11.026039</td></tr>\n",
              "\t<tr><td>7.807550</td><td> 9.401627</td></tr>\n",
              "\t<tr><td>3.422248</td><td>10.432238</td></tr>\n",
              "\t<tr><td>3.927243</td><td> 8.496566</td></tr>\n",
              "\t<tr><td>5.029167</td><td> 8.738463</td></tr>\n",
              "\t<tr><td>3.076862</td><td> 9.004382</td></tr>\n",
              "\t<tr><td>5.912769</td><td>11.802998</td></tr>\n",
              "\t<tr><td>3.505926</td><td> 8.010834</td></tr>\n",
              "\t<tr><td>5.211961</td><td> 9.249155</td></tr>\n",
              "\t<tr><td>5.738752</td><td>14.374564</td></tr>\n",
              "\t<tr><td>4.684610</td><td>10.997219</td></tr>\n",
              "\t<tr><td>2.887918</td><td> 8.392599</td></tr>\n",
              "\t<tr><td>4.030859</td><td> 7.089366</td></tr>\n",
              "\t<tr><td>5.130251</td><td> 8.228397</td></tr>\n",
              "\t<tr><td>6.604762</td><td>10.521666</td></tr>\n",
              "\t<tr><td>7.130499</td><td>14.964039</td></tr>\n",
              "\t<tr><td>4.920789</td><td>10.076258</td></tr>\n",
              "\t<tr><td>6.842140</td><td> 8.746611</td></tr>\n",
              "\t<tr><td>7.895079</td><td>13.919795</td></tr>\n",
              "\t<tr><td>5.445788</td><td>12.314808</td></tr>\n",
              "\t<tr><td>5.983170</td><td>11.845804</td></tr>\n",
              "\t<tr><td>3.448063</td><td>10.128690</td></tr>\n",
              "\t<tr><td>4.502862</td><td> 8.560675</td></tr>\n",
              "\t<tr><td>4.302891</td><td> 7.747108</td></tr>\n",
              "\t<tr><td>3.285975</td><td> 8.481500</td></tr>\n",
              "\t<tr><td>8.445556</td><td>10.081503</td></tr>\n",
              "\t<tr><td>3.816701</td><td> 8.590498</td></tr>\n",
              "\t<tr><td>5.631512</td><td>12.521172</td></tr>\n",
              "\t<tr><td>5.771936</td><td>11.721081</td></tr>\n",
              "</tbody>\n",
              "</table>\n"
            ]
          },
          "metadata": {}
        }
      ]
    },
    {
      "cell_type": "code",
      "metadata": {
        "colab": {
          "base_uri": "https://localhost:8080/",
          "height": 0
        },
        "id": "Ca5PZXhOqXHx",
        "outputId": "b9030021-2136-4176-ed00-2f02be87c6f8"
      },
      "source": [
        "df$maha = mahalanobis(df, colMeans(df) , cov(df))\n",
        "head(df)"
      ],
      "execution_count": 379,
      "outputs": [
        {
          "output_type": "display_data",
          "data": {
            "text/plain": [
              "  Var1     Var2      maha      \n",
              "1 4.993819 12.081669  0.9238980\n",
              "2 4.503110 17.107018 11.5489741\n",
              "3 5.156608 11.988953  0.7562991\n",
              "4 5.872194 11.047375  0.2756781\n",
              "5 4.133902 10.588573  0.6159001\n",
              "6 3.457724  8.286134  1.0145720"
            ],
            "text/latex": "A data.frame: 6 × 3\n\\begin{tabular}{r|lll}\n  & Var1 & Var2 & maha\\\\\n  & <dbl> & <dbl> & <dbl>\\\\\n\\hline\n\t1 & 4.993819 & 12.081669 &  0.9238980\\\\\n\t2 & 4.503110 & 17.107018 & 11.5489741\\\\\n\t3 & 5.156608 & 11.988953 &  0.7562991\\\\\n\t4 & 5.872194 & 11.047375 &  0.2756781\\\\\n\t5 & 4.133902 & 10.588573 &  0.6159001\\\\\n\t6 & 3.457724 &  8.286134 &  1.0145720\\\\\n\\end{tabular}\n",
            "text/markdown": "\nA data.frame: 6 × 3\n\n| <!--/--> | Var1 &lt;dbl&gt; | Var2 &lt;dbl&gt; | maha &lt;dbl&gt; |\n|---|---|---|---|\n| 1 | 4.993819 | 12.081669 |  0.9238980 |\n| 2 | 4.503110 | 17.107018 | 11.5489741 |\n| 3 | 5.156608 | 11.988953 |  0.7562991 |\n| 4 | 5.872194 | 11.047375 |  0.2756781 |\n| 5 | 4.133902 | 10.588573 |  0.6159001 |\n| 6 | 3.457724 |  8.286134 |  1.0145720 |\n\n",
            "text/html": [
              "<table class=\"dataframe\">\n",
              "<caption>A data.frame: 6 × 3</caption>\n",
              "<thead>\n",
              "\t<tr><th></th><th scope=col>Var1</th><th scope=col>Var2</th><th scope=col>maha</th></tr>\n",
              "\t<tr><th></th><th scope=col>&lt;dbl&gt;</th><th scope=col>&lt;dbl&gt;</th><th scope=col>&lt;dbl&gt;</th></tr>\n",
              "</thead>\n",
              "<tbody>\n",
              "\t<tr><th scope=row>1</th><td>4.993819</td><td>12.081669</td><td> 0.9238980</td></tr>\n",
              "\t<tr><th scope=row>2</th><td>4.503110</td><td>17.107018</td><td>11.5489741</td></tr>\n",
              "\t<tr><th scope=row>3</th><td>5.156608</td><td>11.988953</td><td> 0.7562991</td></tr>\n",
              "\t<tr><th scope=row>4</th><td>5.872194</td><td>11.047375</td><td> 0.2756781</td></tr>\n",
              "\t<tr><th scope=row>5</th><td>4.133902</td><td>10.588573</td><td> 0.6159001</td></tr>\n",
              "\t<tr><th scope=row>6</th><td>3.457724</td><td> 8.286134</td><td> 1.0145720</td></tr>\n",
              "</tbody>\n",
              "</table>\n"
            ]
          },
          "metadata": {}
        }
      ]
    },
    {
      "cell_type": "code",
      "metadata": {
        "colab": {
          "base_uri": "https://localhost:8080/",
          "height": 0
        },
        "id": "dkWvX-Q-qhHx",
        "outputId": "13d855c9-b2e2-4b34-feda-dc9560cc4e47"
      },
      "source": [
        "df$pval = pchisq(df$maha,df=2,lower.tail = FALSE) #false = พื้นที่ฝั่งขวา\n",
        "head(df)"
      ],
      "execution_count": 380,
      "outputs": [
        {
          "output_type": "display_data",
          "data": {
            "text/plain": [
              "  Var1     Var2      maha       pval      \n",
              "1 4.993819 12.081669  0.9238980 0.63005448\n",
              "2 4.503110 17.107018 11.5489741 0.00310579\n",
              "3 5.156608 11.988953  0.7562991 0.68512803\n",
              "4 5.872194 11.047375  0.2756781 0.87123890\n",
              "5 4.133902 10.588573  0.6159001 0.73495204\n",
              "6 3.457724  8.286134  1.0145720 0.60212754"
            ],
            "text/latex": "A data.frame: 6 × 4\n\\begin{tabular}{r|llll}\n  & Var1 & Var2 & maha & pval\\\\\n  & <dbl> & <dbl> & <dbl> & <dbl>\\\\\n\\hline\n\t1 & 4.993819 & 12.081669 &  0.9238980 & 0.63005448\\\\\n\t2 & 4.503110 & 17.107018 & 11.5489741 & 0.00310579\\\\\n\t3 & 5.156608 & 11.988953 &  0.7562991 & 0.68512803\\\\\n\t4 & 5.872194 & 11.047375 &  0.2756781 & 0.87123890\\\\\n\t5 & 4.133902 & 10.588573 &  0.6159001 & 0.73495204\\\\\n\t6 & 3.457724 &  8.286134 &  1.0145720 & 0.60212754\\\\\n\\end{tabular}\n",
            "text/markdown": "\nA data.frame: 6 × 4\n\n| <!--/--> | Var1 &lt;dbl&gt; | Var2 &lt;dbl&gt; | maha &lt;dbl&gt; | pval &lt;dbl&gt; |\n|---|---|---|---|---|\n| 1 | 4.993819 | 12.081669 |  0.9238980 | 0.63005448 |\n| 2 | 4.503110 | 17.107018 | 11.5489741 | 0.00310579 |\n| 3 | 5.156608 | 11.988953 |  0.7562991 | 0.68512803 |\n| 4 | 5.872194 | 11.047375 |  0.2756781 | 0.87123890 |\n| 5 | 4.133902 | 10.588573 |  0.6159001 | 0.73495204 |\n| 6 | 3.457724 |  8.286134 |  1.0145720 | 0.60212754 |\n\n",
            "text/html": [
              "<table class=\"dataframe\">\n",
              "<caption>A data.frame: 6 × 4</caption>\n",
              "<thead>\n",
              "\t<tr><th></th><th scope=col>Var1</th><th scope=col>Var2</th><th scope=col>maha</th><th scope=col>pval</th></tr>\n",
              "\t<tr><th></th><th scope=col>&lt;dbl&gt;</th><th scope=col>&lt;dbl&gt;</th><th scope=col>&lt;dbl&gt;</th><th scope=col>&lt;dbl&gt;</th></tr>\n",
              "</thead>\n",
              "<tbody>\n",
              "\t<tr><th scope=row>1</th><td>4.993819</td><td>12.081669</td><td> 0.9238980</td><td>0.63005448</td></tr>\n",
              "\t<tr><th scope=row>2</th><td>4.503110</td><td>17.107018</td><td>11.5489741</td><td>0.00310579</td></tr>\n",
              "\t<tr><th scope=row>3</th><td>5.156608</td><td>11.988953</td><td> 0.7562991</td><td>0.68512803</td></tr>\n",
              "\t<tr><th scope=row>4</th><td>5.872194</td><td>11.047375</td><td> 0.2756781</td><td>0.87123890</td></tr>\n",
              "\t<tr><th scope=row>5</th><td>4.133902</td><td>10.588573</td><td> 0.6159001</td><td>0.73495204</td></tr>\n",
              "\t<tr><th scope=row>6</th><td>3.457724</td><td> 8.286134</td><td> 1.0145720</td><td>0.60212754</td></tr>\n",
              "</tbody>\n",
              "</table>\n"
            ]
          },
          "metadata": {}
        }
      ]
    },
    {
      "cell_type": "markdown",
      "metadata": {
        "id": "v8ANRaIeqpP7"
      },
      "source": [
        "##บทที่ 3"
      ]
    },
    {
      "cell_type": "code",
      "metadata": {
        "colab": {
          "base_uri": "https://localhost:8080/",
          "height": 68
        },
        "id": "-sapyv8tqqdB",
        "outputId": "ba4a4734-9473-4df8-b758-b5b7862bd7b5"
      },
      "source": [
        "Xbar=matrix(c(4.64,45.4,9.965),3,1)\n",
        "S=matrix(c(2.879,10.01,-1.81,10.01,199.788,-5.64,-1.81,-5.64,3.628),3,3)\n",
        "mu=matrix(c(4,50,10),3,1)\n",
        "n=20\n",
        "p=3\n",
        "alpha=0.05\n",
        "#####################\n",
        "T2=n*t(Xbar-mu)%*%solve(S)%*%(Xbar-mu)\n",
        "paste(\"Hotelling’s T2 is:\",T2)\n",
        "#####################\n",
        "T2_cri=(((n-1)*p)/(n-p))*qf(alpha,p,n-p,lower.tail = FALSE)\n",
        "paste(\"Critical value: \",T2_cri)\n",
        "#####################\n",
        "if(T2 < T2_cri){\n",
        "      paste(\"We  not reject Ho\",alpha)\n",
        "}else{\n",
        "      paste(\"We  reject Ho\",alpha)\n",
        "}"
      ],
      "execution_count": 381,
      "outputs": [
        {
          "output_type": "display_data",
          "data": {
            "text/plain": [
              "[1] \"Hotelling’s T2 is: 9.74303756432536\""
            ],
            "text/latex": "'Hotelling’s T2 is: 9.74303756432536'",
            "text/markdown": "'Hotelling’s T2 is: 9.74303756432536'",
            "text/html": [
              "'Hotelling’s T2 is: 9.74303756432536'"
            ]
          },
          "metadata": {}
        },
        {
          "output_type": "display_data",
          "data": {
            "text/plain": [
              "[1] \"Critical value:  10.7186047019865\""
            ],
            "text/latex": "'Critical value:  10.7186047019865'",
            "text/markdown": "<span style=white-space:pre-wrap>'Critical value:  10.7186047019865'</span>",
            "text/html": [
              "<span style=white-space:pre-wrap>'Critical value:  10.7186047019865'</span>"
            ]
          },
          "metadata": {}
        },
        {
          "output_type": "display_data",
          "data": {
            "text/plain": [
              "[1] \"We  not reject Ho 0.05\""
            ],
            "text/latex": "'We  not reject Ho 0.05'",
            "text/markdown": "<span style=white-space:pre-wrap>'We  not reject Ho 0.05'</span>",
            "text/html": [
              "<span style=white-space:pre-wrap>'We  not reject Ho 0.05'</span>"
            ]
          },
          "metadata": {}
        }
      ]
    },
    {
      "cell_type": "markdown",
      "metadata": {
        "id": "qeMiHTbasfnA"
      },
      "source": [
        "### ข้อ 3.2"
      ]
    },
    {
      "cell_type": "code",
      "metadata": {
        "colab": {
          "base_uri": "https://localhost:8080/",
          "height": 68
        },
        "id": "woD8mUHjr5C6",
        "outputId": "60f1d94c-495f-441d-a89c-81368c41f7ce"
      },
      "source": [
        "mu=matrix(c(9,5),2,1)\n",
        "X=matrix(c(6,10,8,9,6,3),3,2)\n",
        "Xbar=colMeans(X)\n",
        "Xbar=matrix(Xbar,2,1)\n",
        "S=cov(X)\n",
        "n=3\n",
        "p=2\n",
        "alpha=0.05\n",
        "#####################\n",
        "T2=n*t(Xbar-mu)%*%solve(S)%*%(Xbar-mu)\n",
        "paste(\"Hotelling’s T2:\",T2)\n",
        "#####################\n",
        "Cri_val=((n-1)*p)/(n-p)*qf(1-alpha,p,n-p)\n",
        "paste(\"Critical value: \",Cri_val)\n",
        "####################\n",
        "if(T2 < Cri_val){\n",
        "      paste(\"We do not reject Ho\",alpha)\n",
        "}else{\n",
        "      paste(\"We reject Ho\",alpha)\n",
        "}"
      ],
      "execution_count": 382,
      "outputs": [
        {
          "output_type": "display_data",
          "data": {
            "text/plain": [
              "[1] \"Hotelling’s T2: 0.777777777777778\""
            ],
            "text/latex": "'Hotelling’s T2: 0.777777777777778'",
            "text/markdown": "'Hotelling’s T2: 0.777777777777778'",
            "text/html": [
              "'Hotelling’s T2: 0.777777777777778'"
            ]
          },
          "metadata": {}
        },
        {
          "output_type": "display_data",
          "data": {
            "text/plain": [
              "[1] \"Critical value:  797.999999999999\""
            ],
            "text/latex": "'Critical value:  797.999999999999'",
            "text/markdown": "<span style=white-space:pre-wrap>'Critical value:  797.999999999999'</span>",
            "text/html": [
              "<span style=white-space:pre-wrap>'Critical value:  797.999999999999'</span>"
            ]
          },
          "metadata": {}
        },
        {
          "output_type": "display_data",
          "data": {
            "text/plain": [
              "[1] \"We do not reject Ho 0.05\""
            ],
            "text/latex": "'We do not reject Ho 0.05'",
            "text/markdown": "'We do not reject Ho 0.05'",
            "text/html": [
              "'We do not reject Ho 0.05'"
            ]
          },
          "metadata": {}
        }
      ]
    },
    {
      "cell_type": "markdown",
      "metadata": {
        "id": "yur54LP7tttA"
      },
      "source": [
        "### ex 3.3 Confidence Regions and Simultaneous Comparisons of Component Mean\n"
      ]
    },
    {
      "cell_type": "code",
      "metadata": {
        "colab": {
          "base_uri": "https://localhost:8080/",
          "height": 68
        },
        "id": "wF0c2ApPtQMj",
        "outputId": "a5a2e2c2-add1-47e4-b4e4-69cd85bdc43e"
      },
      "source": [
        "Xbar = matrix(c(4.64,45.4,9.965),3,1) \n",
        "S = matrix(c(2.879,10.01,-1.81,10.01,199.788,-5.64,-1.81,-5.64,3.628),3,3) \n",
        "n=20\n",
        "p=3\n",
        "##############################################\n",
        "L1=Xbar[1,1]-(sqrt(((n-1)*p)/(n-p)*qf(1-0.05,p,n-p))*sqrt(S[1,1]/n))\n",
        "U1=Xbar[1,1]+(sqrt(((n-1)*p)/(n-p)*qf(1-0.05,p,n-p))*sqrt(S[1,1]/n))\n",
        "paste(\"The lower bound L1: \",L1, \"/ The upper bound U1: \",U1)\n",
        "##############################################\n",
        "L2=Xbar[2,1]-(sqrt(((n-1)*p)/(n-p)*qf(1-0.05,p,n-p))*sqrt(S[2,2]/n))\n",
        "U2=Xbar[2,1]+(sqrt(((n-1)*p)/(n-p)*qf(1-0.05,p,n-p))*sqrt(S[2,2]/n))\n",
        "paste(\"The lower bound L2: \",L2, \"/ The upper bound U2: \",U2)\n",
        "##############################################\n",
        "L3=Xbar[3,1]-(sqrt(((n-1)*p)/(n-p)*qf(1-0.05,p,n-p))*sqrt(S[3,3]/n))\n",
        "U3=Xbar[3,1]+(sqrt(((n-1)*p)/(n-p)*qf(1-0.05,p,n-p))*sqrt(S[3,3]/n))\n",
        "paste(\"The lower bound L3: \",L3, \"/ The upper bound U3: \",U3)"
      ],
      "execution_count": 383,
      "outputs": [
        {
          "output_type": "display_data",
          "data": {
            "text/plain": [
              "[1] \"The lower bound L1:  3.39784737376965 / The upper bound U1:  5.88215262623035\""
            ],
            "text/latex": "'The lower bound L1:  3.39784737376965 / The upper bound U1:  5.88215262623035'",
            "text/markdown": "<span style=white-space:pre-wrap>'The lower bound L1:  3.39784737376965 / The upper bound U1:  5.88215262623035'</span>",
            "text/html": [
              "<span style=white-space:pre-wrap>'The lower bound L1:  3.39784737376965 / The upper bound U1:  5.88215262623035'</span>"
            ]
          },
          "metadata": {}
        },
        {
          "output_type": "display_data",
          "data": {
            "text/plain": [
              "[1] \"The lower bound L2:  35.0524191324724 / The upper bound U2:  55.7475808675276\""
            ],
            "text/latex": "'The lower bound L2:  35.0524191324724 / The upper bound U2:  55.7475808675276'",
            "text/markdown": "<span style=white-space:pre-wrap>'The lower bound L2:  35.0524191324724 / The upper bound U2:  55.7475808675276'</span>",
            "text/html": [
              "<span style=white-space:pre-wrap>'The lower bound L2:  35.0524191324724 / The upper bound U2:  55.7475808675276'</span>"
            ]
          },
          "metadata": {}
        },
        {
          "output_type": "display_data",
          "data": {
            "text/plain": [
              "[1] \"The lower bound L3:  8.57059873316884 / The upper bound U3:  11.3594012668312\""
            ],
            "text/latex": "'The lower bound L3:  8.57059873316884 / The upper bound U3:  11.3594012668312'",
            "text/markdown": "<span style=white-space:pre-wrap>'The lower bound L3:  8.57059873316884 / The upper bound U3:  11.3594012668312'</span>",
            "text/html": [
              "<span style=white-space:pre-wrap>'The lower bound L3:  8.57059873316884 / The upper bound U3:  11.3594012668312'</span>"
            ]
          },
          "metadata": {}
        }
      ]
    },
    {
      "cell_type": "markdown",
      "metadata": {
        "id": "ePmcntOdv4xY"
      },
      "source": [
        "### The Bonferroni method of multiple comparisons"
      ]
    },
    {
      "cell_type": "markdown",
      "metadata": {
        "id": "Lq6u5sA5v6Pf"
      },
      "source": [
        "### ex 3.4"
      ]
    },
    {
      "cell_type": "code",
      "metadata": {
        "colab": {
          "base_uri": "https://localhost:8080/",
          "height": 68
        },
        "id": "wFEtM03aummZ",
        "outputId": "ce038486-58df-4a19-b91a-764ec8e8e440"
      },
      "source": [
        "Xbar = matrix(c(4.64,45.4,9.965),3,1) \n",
        "S = matrix(c(2.879,10.01,-1.81,10.01,199.788,-5.64,-1.81,-5.64,3.628),3,3) \n",
        "n=20\n",
        "p=3\n",
        "alpha=0.05\n",
        "###############################################\n",
        "L1=Xbar[1,1]-((qt(1-(alpha/(2*p)),n-1))*sqrt(S[1,1]/n))\n",
        "U1=Xbar[1,1]+((qt(1-(alpha/(2*p)),n-1))*sqrt(S[1,1]/n))\n",
        "paste(\"The lower bound L1: \",L1, \"/ The upper bound U1: \",U1)\n",
        "###############################################\n",
        "L2=Xbar[2,1]-((qt(1-(alpha/(2*p)),n-1))*sqrt(S[2,2]/n))\n",
        "U2=Xbar[2,1]+((qt(1-(alpha/(2*p)),n-1))*sqrt(S[2,2]/n))\n",
        "paste(\"The lower bound L2: \",L2, \"/ The upper bound U2: \",U2)\n",
        "###############################################\n",
        "L3=Xbar[3,1]-((qt(1-(alpha/(2*p)),n-1))*sqrt(S[3,3]/n))\n",
        "U3=Xbar[3,1]+((qt(1-(alpha/(2*p)),n-1))*sqrt(S[3,3]/n))\n",
        "paste(\"The lower bound L3: \",L3, \"/ The upper bound U3: \",U3)"
      ],
      "execution_count": 384,
      "outputs": [
        {
          "output_type": "display_data",
          "data": {
            "text/plain": [
              "[1] \"The lower bound L1:  3.64401530485706 / The upper bound U1:  5.63598469514294\""
            ],
            "text/latex": "'The lower bound L1:  3.64401530485706 / The upper bound U1:  5.63598469514294'",
            "text/markdown": "<span style=white-space:pre-wrap>'The lower bound L1:  3.64401530485706 / The upper bound U1:  5.63598469514294'</span>",
            "text/html": [
              "<span style=white-space:pre-wrap>'The lower bound L1:  3.64401530485706 / The upper bound U1:  5.63598469514294'</span>"
            ]
          },
          "metadata": {}
        },
        {
          "output_type": "display_data",
          "data": {
            "text/plain": [
              "[1] \"The lower bound L2:  37.1030870778836 / The upper bound U2:  53.6969129221164\""
            ],
            "text/latex": "'The lower bound L2:  37.1030870778836 / The upper bound U2:  53.6969129221164'",
            "text/markdown": "<span style=white-space:pre-wrap>'The lower bound L2:  37.1030870778836 / The upper bound U2:  53.6969129221164'</span>",
            "text/html": [
              "<span style=white-space:pre-wrap>'The lower bound L2:  37.1030870778836 / The upper bound U2:  53.6969129221164'</span>"
            ]
          },
          "metadata": {}
        },
        {
          "output_type": "display_data",
          "data": {
            "text/plain": [
              "[1] \"The lower bound L3:  8.84693906986578 / The upper bound U3:  11.0830609301342\""
            ],
            "text/latex": "'The lower bound L3:  8.84693906986578 / The upper bound U3:  11.0830609301342'",
            "text/markdown": "<span style=white-space:pre-wrap>'The lower bound L3:  8.84693906986578 / The upper bound U3:  11.0830609301342'</span>",
            "text/html": [
              "<span style=white-space:pre-wrap>'The lower bound L3:  8.84693906986578 / The upper bound U3:  11.0830609301342'</span>"
            ]
          },
          "metadata": {}
        }
      ]
    },
    {
      "cell_type": "markdown",
      "metadata": {
        "id": "GDEdAoL3yYxQ"
      },
      "source": [
        "### ex 3.5 Comparing Mean Vectors from Two Populations\n",
        "#### The two-sample situation when Σ1= Σ2\n",
        "\n",
        "\n"
      ]
    },
    {
      "cell_type": "code",
      "metadata": {
        "colab": {
          "base_uri": "https://localhost:8080/",
          "height": 68
        },
        "id": "Br80VlQewybw",
        "outputId": "be0034a9-a81b-4476-9551-f57e88ce296e"
      },
      "source": [
        "Xbar1 = matrix(c(8.3,4.1),2,1)\n",
        "Xbar2 = matrix(c(10.2,3.9),2,1)\n",
        "S1 = matrix(c(2,1,1,6),2,2)\n",
        "S2 = matrix(c(2,1,1,4),2,2)\n",
        "n1 = 50\n",
        "n2 = 50\n",
        "Sp = (((n1-1)/(n1+n1-2))*S1)+(((n2-1)/(n1+n2-2))*S2)\n",
        "p=2\n",
        "alpha=0.05\n",
        "###################################################\n",
        "T2 = t(Xbar1-Xbar2)%*%solve(((1/n1)+(1/n2))*Sp)%*%(Xbar1-Xbar2)\n",
        "paste(\"The T2 value: \",T2)\n",
        "###################################################\n",
        "cri_val = ((n1+n2-2)*p)/(n1+n2-p-1)*qf(1-0.05,p,n1+n2-p-1)\n",
        "paste(\"The critical value: \",cri_val)\n",
        "###################################################\n",
        "if(T2 < cri_val){\n",
        "      paste(\"We do not reject Ho\",alpha)\n",
        "}else{\n",
        "      paste(\"We reject Ho\",alpha)\n",
        "}"
      ],
      "execution_count": 385,
      "outputs": [
        {
          "output_type": "display_data",
          "data": {
            "text/plain": [
              "[1] \"The T2 value:  52.4722222222221\""
            ],
            "text/latex": "'The T2 value:  52.4722222222221'",
            "text/markdown": "<span style=white-space:pre-wrap>'The T2 value:  52.4722222222221'</span>",
            "text/html": [
              "<span style=white-space:pre-wrap>'The T2 value:  52.4722222222221'</span>"
            ]
          },
          "metadata": {}
        },
        {
          "output_type": "display_data",
          "data": {
            "text/plain": [
              "[1] \"The critical value:  6.24408853948819\""
            ],
            "text/latex": "'The critical value:  6.24408853948819'",
            "text/markdown": "<span style=white-space:pre-wrap>'The critical value:  6.24408853948819'</span>",
            "text/html": [
              "<span style=white-space:pre-wrap>'The critical value:  6.24408853948819'</span>"
            ]
          },
          "metadata": {}
        },
        {
          "output_type": "display_data",
          "data": {
            "text/plain": [
              "[1] \"We reject Ho 0.05\""
            ],
            "text/latex": "'We reject Ho 0.05'",
            "text/markdown": "'We reject Ho 0.05'",
            "text/html": [
              "'We reject Ho 0.05'"
            ]
          },
          "metadata": {}
        }
      ]
    },
    {
      "cell_type": "markdown",
      "metadata": {
        "id": "0ZRXbQcy0X9w"
      },
      "source": [
        "### ex 3.6 Simultaneous confidence intervals"
      ]
    },
    {
      "cell_type": "code",
      "metadata": {
        "colab": {
          "base_uri": "https://localhost:8080/",
          "height": 85
        },
        "id": "dV1HUz4NztyJ",
        "outputId": "e00b263d-2573-49cb-e32f-63de3dc9eb3a"
      },
      "source": [
        "Xbar1 = matrix(c(8.3,4.1),2,1)\n",
        "Xbar2 = matrix(c(10.2,3.9),2,1)\n",
        "S1 = matrix(c(2,1,1,6),2,2)\n",
        "S2 = matrix(c(2,1,1,4),2,2)\n",
        "n1 = 50\n",
        "n2 = 50\n",
        "Sp = (((n1-1)/(n1+n2-2))*S1)+(((n2-1)/(n1+n2-2))*S2)\n",
        "p=2\n",
        "alpha=0.05\n",
        "###################################################\n",
        "L1 = (Xbar1[1]-Xbar2[1])-(sqrt(cri_val)*sqrt(((1/n1)+(1/n2))*Sp[1])) \n",
        "paste(\"The lower bound L1: \",L1)\n",
        "U1 = (Xbar1[1]-Xbar2[1])+(sqrt(cri_val)*sqrt(((1/n1)+(1/n2))*Sp[1]))\n",
        "paste(\"The upper bound U1: \",U1)\n",
        "###################################################\n",
        "L2 = (Xbar1[2]-Xbar2[2])-(sqrt(cri_val)*sqrt(((1/n1)+(1/n2))*Sp[4]))\n",
        "paste(\"The lower bound L2: \",L2)\n",
        "U2 = (Xbar1[2]-Xbar2[2])+(sqrt(cri_val)*sqrt(((1/n1)+(1/n2))*Sp[4]))\n",
        "paste(\"The upper bound U2: \",U2)"
      ],
      "execution_count": 386,
      "outputs": [
        {
          "output_type": "display_data",
          "data": {
            "text/plain": [
              "[1] \"The lower bound L1:  -2.60677229937162\""
            ],
            "text/latex": "'The lower bound L1:  -2.60677229937162'",
            "text/markdown": "<span style=white-space:pre-wrap>'The lower bound L1:  -2.60677229937162'</span>",
            "text/html": [
              "<span style=white-space:pre-wrap>'The lower bound L1:  -2.60677229937162'</span>"
            ]
          },
          "metadata": {}
        },
        {
          "output_type": "display_data",
          "data": {
            "text/plain": [
              "[1] \"The upper bound U1:  -1.19322770062837\""
            ],
            "text/latex": "'The upper bound U1:  -1.19322770062837'",
            "text/markdown": "<span style=white-space:pre-wrap>'The upper bound U1:  -1.19322770062837'</span>",
            "text/html": [
              "<span style=white-space:pre-wrap>'The upper bound U1:  -1.19322770062837'</span>"
            ]
          },
          "metadata": {}
        },
        {
          "output_type": "display_data",
          "data": {
            "text/plain": [
              "[1] \"The lower bound L2:  -0.917505126564365\""
            ],
            "text/latex": "'The lower bound L2:  -0.917505126564365'",
            "text/markdown": "<span style=white-space:pre-wrap>'The lower bound L2:  -0.917505126564365'</span>",
            "text/html": [
              "<span style=white-space:pre-wrap>'The lower bound L2:  -0.917505126564365'</span>"
            ]
          },
          "metadata": {}
        },
        {
          "output_type": "display_data",
          "data": {
            "text/plain": [
              "[1] \"The upper bound U2:  1.31750512656436\""
            ],
            "text/latex": "'The upper bound U2:  1.31750512656436'",
            "text/markdown": "<span style=white-space:pre-wrap>'The upper bound U2:  1.31750512656436'</span>",
            "text/html": [
              "<span style=white-space:pre-wrap>'The upper bound U2:  1.31750512656436'</span>"
            ]
          },
          "metadata": {}
        }
      ]
    },
    {
      "cell_type": "markdown",
      "metadata": {
        "id": "-z6gyV-01Q-A"
      },
      "source": [
        "### ex 3.7 The Bonferroni 100(1 -0.05)% simultaneous confidence intervals for the differences in the mean component"
      ]
    },
    {
      "cell_type": "code",
      "metadata": {
        "colab": {
          "base_uri": "https://localhost:8080/",
          "height": 85
        },
        "id": "v7T8YyII1ExZ",
        "outputId": "f5ed9b19-9150-4f81-e42a-fae26bc94f7b"
      },
      "source": [
        "Xbar1 = matrix(c(8.3,4.1),2,1)\n",
        "Xbar2 = matrix(c(10.2,3.9),2,1)\n",
        "S1 = matrix(c(2,1,1,6),2,2)\n",
        "S2 = matrix(c(2,1,1,4),2,2)\n",
        "n1 = 50\n",
        "n2 = 50\n",
        "Sp = (((n1-1)/(n1+n2-2))*S1)+(((n2-1)/(n1+n2-2))*S2)\n",
        "p=2\n",
        "alpha=0.05\n",
        "D = qt(1-(0.05/(2*p)),n1+n2-2)\n",
        "############################################################\n",
        "L1 = (Xbar1[1]-Xbar2[1])-(D*sqrt(((1/n1)+(1/n2))*Sp[1,1]))\n",
        "paste(\"The lower bound L1: \",L1)\n",
        "U1 = (Xbar1[1]-Xbar2[1])+(D*sqrt(((1/n1)+(1/n2))*Sp[1,1]))\n",
        "paste(\"The upper bound U1: \",U1)\n",
        "############################################################\n",
        "L2 = (Xbar1[2]-Xbar2[2])-(D*sqrt(((1/n1)+(1/n2))*Sp[2,2]))\n",
        "paste(\"The lower bound L2: \",L2)\n",
        "U2 = (Xbar1[2]-Xbar2[2])+(D*sqrt(((1/n1)+(1/n2))*Sp[2,2]))\n",
        "paste(\"The upper bound U2: \",U2)"
      ],
      "execution_count": 387,
      "outputs": [
        {
          "output_type": "display_data",
          "data": {
            "text/plain": [
              "[1] \"The lower bound L1:  -2.54385234819145\""
            ],
            "text/latex": "'The lower bound L1:  -2.54385234819145'",
            "text/markdown": "<span style=white-space:pre-wrap>'The lower bound L1:  -2.54385234819145'</span>",
            "text/html": [
              "<span style=white-space:pre-wrap>'The lower bound L1:  -2.54385234819145'</span>"
            ]
          },
          "metadata": {}
        },
        {
          "output_type": "display_data",
          "data": {
            "text/plain": [
              "[1] \"The upper bound U1:  -1.25614765180855\""
            ],
            "text/latex": "'The upper bound U1:  -1.25614765180855'",
            "text/markdown": "<span style=white-space:pre-wrap>'The upper bound U1:  -1.25614765180855'</span>",
            "text/html": [
              "<span style=white-space:pre-wrap>'The upper bound U1:  -1.25614765180855'</span>"
            ]
          },
          "metadata": {}
        },
        {
          "output_type": "display_data",
          "data": {
            "text/plain": [
              "[1] \"The lower bound L2:  -0.818019948566383\""
            ],
            "text/latex": "'The lower bound L2:  -0.818019948566383'",
            "text/markdown": "<span style=white-space:pre-wrap>'The lower bound L2:  -0.818019948566383'</span>",
            "text/html": [
              "<span style=white-space:pre-wrap>'The lower bound L2:  -0.818019948566383'</span>"
            ]
          },
          "metadata": {}
        },
        {
          "output_type": "display_data",
          "data": {
            "text/plain": [
              "[1] \"The upper bound U2:  1.21801994856638\""
            ],
            "text/latex": "'The upper bound U2:  1.21801994856638'",
            "text/markdown": "<span style=white-space:pre-wrap>'The upper bound U2:  1.21801994856638'</span>",
            "text/html": [
              "<span style=white-space:pre-wrap>'The upper bound U2:  1.21801994856638'</span>"
            ]
          },
          "metadata": {}
        }
      ]
    },
    {
      "cell_type": "markdown",
      "metadata": {
        "id": "Hwd6Krzl2GeX"
      },
      "source": [
        "### The two-sample situation when Σ1≠ Σ2\n",
        "## ex 3.8"
      ]
    },
    {
      "cell_type": "code",
      "metadata": {
        "colab": {
          "base_uri": "https://localhost:8080/",
          "height": 68
        },
        "id": "lO8F48KP12fr",
        "outputId": "3def4382-d834-4e2b-abc6-504528f38a48"
      },
      "source": [
        "Xbar1 = matrix(c(204.4,556.6),2,1)\n",
        "Xbar2 = matrix(c(130.0,355.0),2,1)\n",
        "S1 = matrix(c(13825.3,23823.4,23823.3,73107.4),2,2)\n",
        "S2 = matrix(c(8632.0,19616.7,19616.7,55964.5),2,2)\n",
        "n1=45\n",
        "n2=55\n",
        "p=2\n",
        "S = (1/n1)*S1+(1/n2)*S2\n",
        "#####################################\n",
        "T2 = t(Xbar1-Xbar2)%*%solve(S)%*%(Xbar1-Xbar2)\n",
        "paste(\"T2:\",T2)\n",
        "#####################################\n",
        "cri_val = qchisq(1-0.05,p)\n",
        "paste(\"Critical value:\",cri_val)\n",
        "#####################################\n",
        "if(T2 < cri_val){\n",
        "      paste(\"We do not reject Ho\",alpha)\n",
        "}else{\n",
        "      paste(\"We reject Ho\",alpha)\n",
        "}"
      ],
      "execution_count": 388,
      "outputs": [
        {
          "output_type": "display_data",
          "data": {
            "text/plain": [
              "[1] \"T2: 15.6585347596425\""
            ],
            "text/latex": "'T2: 15.6585347596425'",
            "text/markdown": "'T2: 15.6585347596425'",
            "text/html": [
              "'T2: 15.6585347596425'"
            ]
          },
          "metadata": {}
        },
        {
          "output_type": "display_data",
          "data": {
            "text/plain": [
              "[1] \"Critical value: 5.99146454710798\""
            ],
            "text/latex": "'Critical value: 5.99146454710798'",
            "text/markdown": "'Critical value: 5.99146454710798'",
            "text/html": [
              "'Critical value: 5.99146454710798'"
            ]
          },
          "metadata": {}
        },
        {
          "output_type": "display_data",
          "data": {
            "text/plain": [
              "[1] \"We reject Ho 0.05\""
            ],
            "text/latex": "'We reject Ho 0.05'",
            "text/markdown": "'We reject Ho 0.05'",
            "text/html": [
              "'We reject Ho 0.05'"
            ]
          },
          "metadata": {}
        }
      ]
    },
    {
      "cell_type": "markdown",
      "metadata": {
        "id": "ZTTGau6L3fXi"
      },
      "source": [
        "### Example 3.9"
      ]
    },
    {
      "cell_type": "code",
      "metadata": {
        "colab": {
          "base_uri": "https://localhost:8080/",
          "height": 51
        },
        "id": "IVDZxjzO3RKx",
        "outputId": "532de9fc-0f41-4a62-e34c-3a55815fe684"
      },
      "source": [
        "Xbar1 = matrix(c(204.4,556.6),2,1)\n",
        "Xbar2 = matrix(c(130.0,355.0),2,1)\n",
        "S1 = matrix(c(13825.3,23823.4,23823.3,73107.4),2,2)\n",
        "S2 = matrix(c(8632.0,19616.7,19616.7,55964.5),2,2)\n",
        "n1=45\n",
        "n2=55\n",
        "p=2\n",
        "S = (1/n1)*S1+(1/n2)*S2\n",
        "#######################################\n",
        "L1 = (Xbar1[1]-Xbar2[1])-(sqrt(qchisq(1-0.05,p))*sqrt(S[1,1]))\n",
        "U1 = (Xbar1[1]-Xbar2[1])+(sqrt(qchisq(1-0.05,p))*sqrt(S[1,1]))\n",
        "########################################\n",
        "L2 = (Xbar1[2]-Xbar2[2])-(sqrt(qchisq(1-0.05,p))*sqrt(S[2,2]))\n",
        "U2 = (Xbar1[2]-Xbar2[2])+(sqrt(qchisq(1-0.05,p))*sqrt(S[2,2]))\n",
        "########################################\n",
        "paste(\"The lower bound L1: \",L1, \"/ The upper bound U1: \",U1)\n",
        "paste(\"The lower bound L2: \",L2, \"/ The upper bound U2: \",U2)"
      ],
      "execution_count": 389,
      "outputs": [
        {
          "output_type": "display_data",
          "data": {
            "text/plain": [
              "[1] \"The lower bound L1:  21.664014919943 / The upper bound U1:  127.135985080057\""
            ],
            "text/latex": "'The lower bound L1:  21.664014919943 / The upper bound U1:  127.135985080057'",
            "text/markdown": "<span style=white-space:pre-wrap>'The lower bound L1:  21.664014919943 / The upper bound U1:  127.135985080057'</span>",
            "text/html": [
              "<span style=white-space:pre-wrap>'The lower bound L1:  21.664014919943 / The upper bound U1:  127.135985080057'</span>"
            ]
          },
          "metadata": {}
        },
        {
          "output_type": "display_data",
          "data": {
            "text/plain": [
              "[1] \"The lower bound L2:  75.7814019756431 / The upper bound U2:  327.418598024357\""
            ],
            "text/latex": "'The lower bound L2:  75.7814019756431 / The upper bound U2:  327.418598024357'",
            "text/markdown": "<span style=white-space:pre-wrap>'The lower bound L2:  75.7814019756431 / The upper bound U2:  327.418598024357'</span>",
            "text/html": [
              "<span style=white-space:pre-wrap>'The lower bound L2:  75.7814019756431 / The upper bound U2:  327.418598024357'</span>"
            ]
          },
          "metadata": {}
        }
      ]
    },
    {
      "cell_type": "markdown",
      "metadata": {
        "id": "OCtXetpM65qo"
      },
      "source": [
        "### 3.4 Testing of Equality of Covariance Matrices"
      ]
    },
    {
      "cell_type": "markdown",
      "metadata": {
        "id": "zKJ9CoJo7V0X"
      },
      "source": [
        "#### Example 3.10"
      ]
    },
    {
      "cell_type": "code",
      "metadata": {
        "colab": {
          "base_uri": "https://localhost:8080/",
          "height": 68
        },
        "id": "FeNsWhBZ5PdQ",
        "outputId": "28a6646d-8d11-44cd-d842-459689647ecf"
      },
      "source": [
        "Xbar1 = matrix(c(8.3,4.1),2,1)\n",
        "Xbar2 = matrix(c(10.2,3.9),2,1)\n",
        "S1 = matrix(c(2,1,1,6),2,2)\n",
        "S2 = matrix(c(2,1,1,4),2,2)\n",
        "n1 = 50\n",
        "n2 = 50\n",
        "Sp = ((n1-1)*S1+(n2-1)*S2)/(n1+n2-2)\n",
        "p=2\n",
        "g=2\n",
        "alpha=0.05\n",
        "#################################################################\n",
        "lnM = ((1/2)*(((n1-1)*log(det(S1)))+(n2-1)*log(det(S2))))-((1/2)*(n1-1+n2-1)*log(det(Sp)))\n",
        "paste(\"lnM:\",lnM)\n",
        "#################################################################\n",
        "c1 = ((1/(n1-1))+(1/(n2-1))-(1/(n1+n2-2)))*(((2*(p^2))+(3*p)-1)/(6*(p+1)*(g-1)))\n",
        "paste(\"c1:\",c1)\n",
        "##########################################################\n",
        "U = -2*(1-c1)*lnM\n",
        "cri_val = qchisq(1-0.05,3)\n",
        "if( U < cri_val){\n",
        "    paste(\"Since U =\",U, \"< critical value = \",cri_val,\",then do not reject H0\")\n",
        "}else if( U == cri_val){\n",
        "    paste(\"Since U =\",U, \"= critical value = \",cri_val,\",then do not reject H0\")\n",
        "}else{\n",
        "    paste(\"Since U =\",U, \"> critical value = \",cri_val,\",then  reject H0\")\n",
        "}"
      ],
      "execution_count": 390,
      "outputs": [
        {
          "output_type": "display_data",
          "data": {
            "text/plain": [
              "[1] \"lnM: -1.2407714540595\""
            ],
            "text/latex": "'lnM: -1.2407714540595'",
            "text/markdown": "'lnM: -1.2407714540595'",
            "text/html": [
              "'lnM: -1.2407714540595'"
            ]
          },
          "metadata": {}
        },
        {
          "output_type": "display_data",
          "data": {
            "text/plain": [
              "[1] \"c1: 0.022108843537415\""
            ],
            "text/latex": "'c1: 0.022108843537415'",
            "text/markdown": "'c1: 0.022108843537415'",
            "text/html": [
              "'c1: 0.022108843537415'"
            ]
          },
          "metadata": {}
        },
        {
          "output_type": "display_data",
          "data": {
            "text/plain": [
              "[1] \"Since U = 2.42667886423201 < critical value =  7.81472790325118 ,then do not reject H0\""
            ],
            "text/latex": "'Since U = 2.42667886423201 < critical value =  7.81472790325118 ,then do not reject H0'",
            "text/markdown": "<span style=white-space:pre-wrap>'Since U = 2.42667886423201 &lt; critical value =  7.81472790325118 ,then do not reject H0'</span>",
            "text/html": [
              "<span style=white-space:pre-wrap>'Since U = 2.42667886423201 &lt; critical value =  7.81472790325118 ,then do not reject H0'</span>"
            ]
          },
          "metadata": {}
        }
      ]
    },
    {
      "cell_type": "code",
      "metadata": {
        "colab": {
          "base_uri": "https://localhost:8080/",
          "height": 68
        },
        "id": "C2wT2mWk89gZ",
        "outputId": "72fb4c82-fe88-4268-a7bf-807f1196b12c"
      },
      "source": [
        "c1 = ((1/(n1-1))+(1/(n2-1))-(1/(n1+n2-2)))*(((2*(p^2))+(3*p)-1)/(6*(p+1)*(g-1)))\n",
        "paste(\"c1:\",c1)\n",
        "c2 = (((1/((n1-1)^2))/((1/(n2-1)^2)))-(1/(((n1-1)+(n2-1))^2)))*(((p-1)*(p+2))/(6*(g-1)))\n",
        "paste(\"c2:\",c2)\n",
        "a1 = (1/2)*(g-1)*p*(p+1)\n",
        "a2 = (a1+2)/abs(c2-(c1^2))\n",
        "b1 = (1-c1-(a1/a2))/a1\n",
        "b2 = (1-c1+(2/a2))/a2\n",
        "if(c2 > c1^2){\n",
        "    F = -2*b1*lnM\n",
        "}else if(c2 < c1^2){\n",
        "    F = (-2*a2*b2*lnM)/(a1*(1+(2*b2*lnM)))\n",
        "}else{\n",
        "    F=NULL\n",
        "}\n",
        "cri_val = qf(1-0.05,a1,a2)\n",
        "if(is.null(F)==0){\n",
        "    if( F < cri_val){\n",
        "           paste(\"Since F =\",F, \"< critical value = \",cri_val,\",then do not reject H0\")\n",
        "     }else if( F == cri_val){\n",
        "           paste(\"Since F =\",F, \"= critical value = \",cri_val,\",then do not reject H0\")\n",
        "     }else{\n",
        "           paste(\"Since F =\",F, \"> critical value = \",cri_val,\",then  reject H0\")\n",
        "      }\n",
        "}else{\n",
        "    print(\"We can't conclude the distribution of F.\")\n",
        "}"
      ],
      "execution_count": 391,
      "outputs": [
        {
          "output_type": "display_data",
          "data": {
            "text/plain": [
              "[1] \"c1: 0.022108843537415\""
            ],
            "text/latex": "'c1: 0.022108843537415'",
            "text/markdown": "'c1: 0.022108843537415'",
            "text/html": [
              "'c1: 0.022108843537415'"
            ]
          },
          "metadata": {}
        },
        {
          "output_type": "display_data",
          "data": {
            "text/plain": [
              "[1] \"c2: 0.666597251145356\""
            ],
            "text/latex": "'c2: 0.666597251145356'",
            "text/markdown": "'c2: 0.666597251145356'",
            "text/html": [
              "'c2: 0.666597251145356'"
            ]
          },
          "metadata": {}
        },
        {
          "output_type": "display_data",
          "data": {
            "text/plain": [
              "[1] \"Since F = 0.478297614626154 < critical value =  4.19267052460948 ,then do not reject H0\""
            ],
            "text/latex": "'Since F = 0.478297614626154 < critical value =  4.19267052460948 ,then do not reject H0'",
            "text/markdown": "<span style=white-space:pre-wrap>'Since F = 0.478297614626154 &lt; critical value =  4.19267052460948 ,then do not reject H0'</span>",
            "text/html": [
              "<span style=white-space:pre-wrap>'Since F = 0.478297614626154 &lt; critical value =  4.19267052460948 ,then do not reject H0'</span>"
            ]
          },
          "metadata": {}
        }
      ]
    },
    {
      "cell_type": "markdown",
      "metadata": {
        "id": "C9UiSDS7-yBP"
      },
      "source": [
        "### 3.5 Paired Comparison"
      ]
    },
    {
      "cell_type": "markdown",
      "metadata": {
        "id": "RR0KPV9D_jQf"
      },
      "source": [
        "### ex 3.11"
      ]
    },
    {
      "cell_type": "code",
      "metadata": {
        "colab": {
          "base_uri": "https://localhost:8080/",
          "height": 68
        },
        "id": "_Q-Iyagu-Svw",
        "outputId": "87258976-4b50-4840-f9f9-5aa19faa018c"
      },
      "source": [
        "n =11\n",
        "p=2\n",
        "X1 = matrix(c(6,6,18,8,11,34,28,71,43,33,20,27,23,64,44,30,75,26,124,54,30,14),11,2)\n",
        "X2 = matrix(c(25,28,36,35,15,44,42,54,34,29,39,15,13,22,29,31,64,30,64,56,20,21),11,2)\n",
        "d = X1-X2\n",
        "dmean = colMeans(d)\n",
        "dbar=matrix(c(dmean[1],dmean[2]),2,1)\n",
        "Sd=cov(d)\n",
        "alpha=0.05\n",
        "##############################################\n",
        "T2= n*t(dbar)%*%solve(Sd)%*%dbar\n",
        "paste(\"T2 value:\",T2)\n",
        "##############################################\n",
        "T2_cri = ((2*(n-1)))/(n-p)*qf(1-0.05,p,n-p)\n",
        "paste(\"T2_cri:\",T2_cri)\n",
        "##############################################\n",
        "if(T2 < T2_cri){\n",
        "      paste(\"We do not reject Ho\",alpha)\n",
        "}else{\n",
        "      paste(\"We reject Ho\",alpha)\n",
        "}"
      ],
      "execution_count": 392,
      "outputs": [
        {
          "output_type": "display_data",
          "data": {
            "text/plain": [
              "[1] \"T2 value: 13.6393121401747\""
            ],
            "text/latex": "'T2 value: 13.6393121401747'",
            "text/markdown": "'T2 value: 13.6393121401747'",
            "text/html": [
              "'T2 value: 13.6393121401747'"
            ]
          },
          "metadata": {}
        },
        {
          "output_type": "display_data",
          "data": {
            "text/plain": [
              "[1] \"T2_cri: 9.45887717576388\""
            ],
            "text/latex": "'T2\\_cri: 9.45887717576388'",
            "text/markdown": "'T2_cri: 9.45887717576388'",
            "text/html": [
              "'T2_cri: 9.45887717576388'"
            ]
          },
          "metadata": {}
        },
        {
          "output_type": "display_data",
          "data": {
            "text/plain": [
              "[1] \"We reject Ho 0.05\""
            ],
            "text/latex": "'We reject Ho 0.05'",
            "text/markdown": "'We reject Ho 0.05'",
            "text/html": [
              "'We reject Ho 0.05'"
            ]
          },
          "metadata": {}
        }
      ]
    },
    {
      "cell_type": "markdown",
      "metadata": {
        "id": "gp5PrKRIAl32"
      },
      "source": [
        "#### the 95% simultaneous confidence intervals for the mean differences µd1 and µd2"
      ]
    },
    {
      "cell_type": "code",
      "metadata": {
        "colab": {
          "base_uri": "https://localhost:8080/",
          "height": 0
        },
        "id": "PJgyOO4TAPhQ",
        "outputId": "08fba6ad-b28e-41ee-ef62-dd7b0a5e4221"
      },
      "source": [
        "L1 = dbar[1,1]-(sqrt(((n-1)*p/(n-p))*qf(1-0.05,p,n-p))*sqrt(Sd[1,1]/n))\n",
        "U1 = dbar[1,1]+(sqrt(((n-1)*p/(n-p))*qf(1-0.05,p,n-p))*sqrt(Sd[1,1]/n))\n",
        "paste(L1,\"<= mu_d1 <=\",U1)\n",
        "######################################################\n",
        "L2 = dbar[2,1]-(sqrt(((n-1)*p/(n-p))*qf(1-0.05,p,n-p))*sqrt(Sd[2,2]/n))\n",
        "U2 = dbar[2,1]+(sqrt(((n-1)*p/(n-p))*qf(1-0.05,p,n-p))*sqrt(Sd[2,2]/n))\n",
        "paste(L2,\"<= mu_d2 <=\",U2)"
      ],
      "execution_count": 393,
      "outputs": [
        {
          "output_type": "display_data",
          "data": {
            "text/plain": [
              "[1] \"-22.4532723477659 <= mu_d1 <= 3.72599962049317\""
            ],
            "text/latex": "'-22.4532723477659 <= mu\\_d1 <= 3.72599962049317'",
            "text/markdown": "'-22.4532723477659 &lt;= mu_d1 &lt;= 3.72599962049317'",
            "text/html": [
              "'-22.4532723477659 &lt;= mu_d1 &lt;= 3.72599962049317'"
            ]
          },
          "metadata": {}
        },
        {
          "output_type": "display_data",
          "data": {
            "text/plain": [
              "[1] \"-5.70011927020871 <= mu_d2 <= 32.2455738156633\""
            ],
            "text/latex": "'-5.70011927020871 <= mu\\_d2 <= 32.2455738156633'",
            "text/markdown": "'-5.70011927020871 &lt;= mu_d2 &lt;= 32.2455738156633'",
            "text/html": [
              "'-5.70011927020871 &lt;= mu_d2 &lt;= 32.2455738156633'"
            ]
          },
          "metadata": {}
        }
      ]
    },
    {
      "cell_type": "markdown",
      "metadata": {
        "id": "0afY3MN0BAcg"
      },
      "source": [
        "#### The Bonferroni"
      ]
    },
    {
      "cell_type": "code",
      "metadata": {
        "colab": {
          "base_uri": "https://localhost:8080/",
          "height": 51
        },
        "id": "59bS3lFgBA5G",
        "outputId": "fe51f244-60aa-4dd8-e7ce-778cbef91987"
      },
      "source": [
        "D = qt(1-(0.05/(2*p)),n-1)\n",
        "L1 = dbar[1,1]-(qt(1-(0.05/4),n-1)*sqrt(Sd[1,1]/n)) \n",
        "U1 = dbar[1,1]+(qt(1-(0.05/4),n-1)*sqrt(Sd[1,1]/n))\n",
        "paste(L1,\"<= mu_d1 <=\",U1)\n",
        "########################################\n",
        "L2 = dbar[2,1]-(D*sqrt(Sd[2,2]/n)) \n",
        "U2 = dbar[2,1]+(D*sqrt(Sd[2,2]/n))\n",
        "paste(L2,\"<= mu_d2 <=\",U2)"
      ],
      "execution_count": 394,
      "outputs": [
        {
          "output_type": "display_data",
          "data": {
            "text/plain": [
              "[1] \"-20.5731072688261 <= mu_d1 <= 1.84583454155338\""
            ],
            "text/latex": "'-20.5731072688261 <= mu\\_d1 <= 1.84583454155338'",
            "text/markdown": "'-20.5731072688261 &lt;= mu_d1 &lt;= 1.84583454155338'",
            "text/html": [
              "'-20.5731072688261 &lt;= mu_d1 &lt;= 1.84583454155338'"
            ]
          },
          "metadata": {}
        },
        {
          "output_type": "display_data",
          "data": {
            "text/plain": [
              "[1] \"-2.97490341536277 <= mu_d2 <= 29.5203579608173\""
            ],
            "text/latex": "'-2.97490341536277 <= mu\\_d2 <= 29.5203579608173'",
            "text/markdown": "'-2.97490341536277 &lt;= mu_d2 &lt;= 29.5203579608173'",
            "text/html": [
              "'-2.97490341536277 &lt;= mu_d2 &lt;= 29.5203579608173'"
            ]
          },
          "metadata": {}
        }
      ]
    },
    {
      "cell_type": "code",
      "metadata": {
        "id": "ph-5to9OBeA4",
        "outputId": "d75a98f7-dd39-4c88-f434-7106eb69f052",
        "colab": {
          "base_uri": "https://localhost:8080/",
          "height": 303
        }
      },
      "source": [
        "data = read.csv('sample_data/Data_Facebook_R.csv')\n",
        "head(data)"
      ],
      "execution_count": 395,
      "outputs": [
        {
          "output_type": "display_data",
          "data": {
            "text/plain": [
              "  No GENDER AGE EDUCATION CAREER SALARY INTERNET_PAY PLACE TIME HOUR ⋯\n",
              "1 1  1      23  3         3      20000  590          1     3    3    ⋯\n",
              "2 2  1      22  3         2      16000  500          1     4    4    ⋯\n",
              "3 3  0      25  3         3      18000  590          3     2    3    ⋯\n",
              "4 4  1      21  2         2      14000  500          1     4    4    ⋯\n",
              "5 5  0      18  2         1      10000  650          1     4    4    ⋯\n",
              "6 6  0      24  3         3      17000  590          1     3    3    ⋯\n",
              "  APPLICATIONS TYPE F1 F2 F3 F4 F5 O1 O2 O3\n",
              "1 1            1    4  3  3  3  5  5  4  1 \n",
              "2 1            1    5  4  3  3  5  5  5  2 \n",
              "3 1            1    4  3  1  2  4  5  3  1 \n",
              "4 1            3    5  3  5  4  5  5  5  3 \n",
              "5 1            1    5  3  4  4  5  5  5  3 \n",
              "6 1            1    5  4  4  1  5  5  5  4 "
            ],
            "text/latex": "A data.frame: 6 × 21\n\\begin{tabular}{r|lllllllllllllllllllll}\n  & No & GENDER & AGE & EDUCATION & CAREER & SALARY & INTERNET\\_PAY & PLACE & TIME & HOUR & ⋯ & APPLICATIONS & TYPE & F1 & F2 & F3 & F4 & F5 & O1 & O2 & O3\\\\\n  & <int> & <int> & <int> & <int> & <int> & <int> & <int> & <int> & <int> & <int> & ⋯ & <int> & <int> & <int> & <int> & <int> & <int> & <int> & <int> & <int> & <int>\\\\\n\\hline\n\t1 & 1 & 1 & 23 & 3 & 3 & 20000 & 590 & 1 & 3 & 3 & ⋯ & 1 & 1 & 4 & 3 & 3 & 3 & 5 & 5 & 4 & 1\\\\\n\t2 & 2 & 1 & 22 & 3 & 2 & 16000 & 500 & 1 & 4 & 4 & ⋯ & 1 & 1 & 5 & 4 & 3 & 3 & 5 & 5 & 5 & 2\\\\\n\t3 & 3 & 0 & 25 & 3 & 3 & 18000 & 590 & 3 & 2 & 3 & ⋯ & 1 & 1 & 4 & 3 & 1 & 2 & 4 & 5 & 3 & 1\\\\\n\t4 & 4 & 1 & 21 & 2 & 2 & 14000 & 500 & 1 & 4 & 4 & ⋯ & 1 & 3 & 5 & 3 & 5 & 4 & 5 & 5 & 5 & 3\\\\\n\t5 & 5 & 0 & 18 & 2 & 1 & 10000 & 650 & 1 & 4 & 4 & ⋯ & 1 & 1 & 5 & 3 & 4 & 4 & 5 & 5 & 5 & 3\\\\\n\t6 & 6 & 0 & 24 & 3 & 3 & 17000 & 590 & 1 & 3 & 3 & ⋯ & 1 & 1 & 5 & 4 & 4 & 1 & 5 & 5 & 5 & 4\\\\\n\\end{tabular}\n",
            "text/markdown": "\nA data.frame: 6 × 21\n\n| <!--/--> | No &lt;int&gt; | GENDER &lt;int&gt; | AGE &lt;int&gt; | EDUCATION &lt;int&gt; | CAREER &lt;int&gt; | SALARY &lt;int&gt; | INTERNET_PAY &lt;int&gt; | PLACE &lt;int&gt; | TIME &lt;int&gt; | HOUR &lt;int&gt; | ⋯ ⋯ | APPLICATIONS &lt;int&gt; | TYPE &lt;int&gt; | F1 &lt;int&gt; | F2 &lt;int&gt; | F3 &lt;int&gt; | F4 &lt;int&gt; | F5 &lt;int&gt; | O1 &lt;int&gt; | O2 &lt;int&gt; | O3 &lt;int&gt; |\n|---|---|---|---|---|---|---|---|---|---|---|---|---|---|---|---|---|---|---|---|---|---|\n| 1 | 1 | 1 | 23 | 3 | 3 | 20000 | 590 | 1 | 3 | 3 | ⋯ | 1 | 1 | 4 | 3 | 3 | 3 | 5 | 5 | 4 | 1 |\n| 2 | 2 | 1 | 22 | 3 | 2 | 16000 | 500 | 1 | 4 | 4 | ⋯ | 1 | 1 | 5 | 4 | 3 | 3 | 5 | 5 | 5 | 2 |\n| 3 | 3 | 0 | 25 | 3 | 3 | 18000 | 590 | 3 | 2 | 3 | ⋯ | 1 | 1 | 4 | 3 | 1 | 2 | 4 | 5 | 3 | 1 |\n| 4 | 4 | 1 | 21 | 2 | 2 | 14000 | 500 | 1 | 4 | 4 | ⋯ | 1 | 3 | 5 | 3 | 5 | 4 | 5 | 5 | 5 | 3 |\n| 5 | 5 | 0 | 18 | 2 | 1 | 10000 | 650 | 1 | 4 | 4 | ⋯ | 1 | 1 | 5 | 3 | 4 | 4 | 5 | 5 | 5 | 3 |\n| 6 | 6 | 0 | 24 | 3 | 3 | 17000 | 590 | 1 | 3 | 3 | ⋯ | 1 | 1 | 5 | 4 | 4 | 1 | 5 | 5 | 5 | 4 |\n\n",
            "text/html": [
              "<table class=\"dataframe\">\n",
              "<caption>A data.frame: 6 × 21</caption>\n",
              "<thead>\n",
              "\t<tr><th></th><th scope=col>No</th><th scope=col>GENDER</th><th scope=col>AGE</th><th scope=col>EDUCATION</th><th scope=col>CAREER</th><th scope=col>SALARY</th><th scope=col>INTERNET_PAY</th><th scope=col>PLACE</th><th scope=col>TIME</th><th scope=col>HOUR</th><th scope=col>⋯</th><th scope=col>APPLICATIONS</th><th scope=col>TYPE</th><th scope=col>F1</th><th scope=col>F2</th><th scope=col>F3</th><th scope=col>F4</th><th scope=col>F5</th><th scope=col>O1</th><th scope=col>O2</th><th scope=col>O3</th></tr>\n",
              "\t<tr><th></th><th scope=col>&lt;int&gt;</th><th scope=col>&lt;int&gt;</th><th scope=col>&lt;int&gt;</th><th scope=col>&lt;int&gt;</th><th scope=col>&lt;int&gt;</th><th scope=col>&lt;int&gt;</th><th scope=col>&lt;int&gt;</th><th scope=col>&lt;int&gt;</th><th scope=col>&lt;int&gt;</th><th scope=col>&lt;int&gt;</th><th scope=col>⋯</th><th scope=col>&lt;int&gt;</th><th scope=col>&lt;int&gt;</th><th scope=col>&lt;int&gt;</th><th scope=col>&lt;int&gt;</th><th scope=col>&lt;int&gt;</th><th scope=col>&lt;int&gt;</th><th scope=col>&lt;int&gt;</th><th scope=col>&lt;int&gt;</th><th scope=col>&lt;int&gt;</th><th scope=col>&lt;int&gt;</th></tr>\n",
              "</thead>\n",
              "<tbody>\n",
              "\t<tr><th scope=row>1</th><td>1</td><td>1</td><td>23</td><td>3</td><td>3</td><td>20000</td><td>590</td><td>1</td><td>3</td><td>3</td><td>⋯</td><td>1</td><td>1</td><td>4</td><td>3</td><td>3</td><td>3</td><td>5</td><td>5</td><td>4</td><td>1</td></tr>\n",
              "\t<tr><th scope=row>2</th><td>2</td><td>1</td><td>22</td><td>3</td><td>2</td><td>16000</td><td>500</td><td>1</td><td>4</td><td>4</td><td>⋯</td><td>1</td><td>1</td><td>5</td><td>4</td><td>3</td><td>3</td><td>5</td><td>5</td><td>5</td><td>2</td></tr>\n",
              "\t<tr><th scope=row>3</th><td>3</td><td>0</td><td>25</td><td>3</td><td>3</td><td>18000</td><td>590</td><td>3</td><td>2</td><td>3</td><td>⋯</td><td>1</td><td>1</td><td>4</td><td>3</td><td>1</td><td>2</td><td>4</td><td>5</td><td>3</td><td>1</td></tr>\n",
              "\t<tr><th scope=row>4</th><td>4</td><td>1</td><td>21</td><td>2</td><td>2</td><td>14000</td><td>500</td><td>1</td><td>4</td><td>4</td><td>⋯</td><td>1</td><td>3</td><td>5</td><td>3</td><td>5</td><td>4</td><td>5</td><td>5</td><td>5</td><td>3</td></tr>\n",
              "\t<tr><th scope=row>5</th><td>5</td><td>0</td><td>18</td><td>2</td><td>1</td><td>10000</td><td>650</td><td>1</td><td>4</td><td>4</td><td>⋯</td><td>1</td><td>1</td><td>5</td><td>3</td><td>4</td><td>4</td><td>5</td><td>5</td><td>5</td><td>3</td></tr>\n",
              "\t<tr><th scope=row>6</th><td>6</td><td>0</td><td>24</td><td>3</td><td>3</td><td>17000</td><td>590</td><td>1</td><td>3</td><td>3</td><td>⋯</td><td>1</td><td>1</td><td>5</td><td>4</td><td>4</td><td>1</td><td>5</td><td>5</td><td>5</td><td>4</td></tr>\n",
              "</tbody>\n",
              "</table>\n"
            ]
          },
          "metadata": {}
        }
      ]
    },
    {
      "cell_type": "code",
      "metadata": {
        "id": "TIq90AyHRzMA",
        "outputId": "76e28675-9cdd-4e1b-a986-f2ab12b953c1",
        "colab": {
          "base_uri": "https://localhost:8080/",
          "height": 1000
        }
      },
      "source": [
        "data1=data.frame(data[3],data[6],data[7])\n",
        "data1"
      ],
      "execution_count": 396,
      "outputs": [
        {
          "output_type": "display_data",
          "data": {
            "text/plain": [
              "    AGE SALARY INTERNET_PAY\n",
              "1   23  20000  590         \n",
              "2   22  16000  500         \n",
              "3   25  18000  590         \n",
              "4   21  14000  500         \n",
              "5   18  10000  650         \n",
              "6   24  17000  590         \n",
              "7   19  12000  500         \n",
              "8   20  12500  590         \n",
              "9   23  22000  650         \n",
              "10  26  22000  590         \n",
              "11  22  16000  500         \n",
              "12  22  16000  590         \n",
              "13  22  16000  500         \n",
              "14  23  20000  650         \n",
              "15  22  16000  590         \n",
              "16  21  14000  500         \n",
              "17  24  17000  590         \n",
              "18  26  20000  650         \n",
              "19  22  16000  650         \n",
              "20  26  20000  590         \n",
              "21  20  13000  500         \n",
              "22  18  10000  590         \n",
              "23  24  18000  500         \n",
              "24  23  22000  650         \n",
              "25  21  14000  590         \n",
              "26  19  12000  500         \n",
              "27  25  18500  590         \n",
              "28  18  10000  650         \n",
              "29  24  18000  590         \n",
              "30  23  20000  500         \n",
              "⋮   ⋮   ⋮      ⋮           \n",
              "171 29  27000  500         \n",
              "172 22  22000  590         \n",
              "173 19  12000  650         \n",
              "174 19  12000  590         \n",
              "175 24  18000  650         \n",
              "176 23  21000  590         \n",
              "177 26  23000  500         \n",
              "178 19  12000  590         \n",
              "179 25  19000  500         \n",
              "180 32  30000  650         \n",
              "181 28  26000  590         \n",
              "182 25  22000  500         \n",
              "183 26  24000  590         \n",
              "184 20  14000  650         \n",
              "185 19  12000  650         \n",
              "186 23  21000  590         \n",
              "187 24  22000  500         \n",
              "188 29  28000  590         \n",
              "189 25  19000  650         \n",
              "190 19  12000  650         \n",
              "191 19  12300  590         \n",
              "192 23  17000  500         \n",
              "193 25  20000  590         \n",
              "194 24  18000  650         \n",
              "195 26  24000  650         \n",
              "196 25  20000  590         \n",
              "197 24  18000  500         \n",
              "198 17  10000  590         \n",
              "199 25  20000  650         \n",
              "200 25  20000  590         "
            ],
            "text/latex": "A data.frame: 200 × 3\n\\begin{tabular}{lll}\n AGE & SALARY & INTERNET\\_PAY\\\\\n <int> & <int> & <int>\\\\\n\\hline\n\t 23 & 20000 & 590\\\\\n\t 22 & 16000 & 500\\\\\n\t 25 & 18000 & 590\\\\\n\t 21 & 14000 & 500\\\\\n\t 18 & 10000 & 650\\\\\n\t 24 & 17000 & 590\\\\\n\t 19 & 12000 & 500\\\\\n\t 20 & 12500 & 590\\\\\n\t 23 & 22000 & 650\\\\\n\t 26 & 22000 & 590\\\\\n\t 22 & 16000 & 500\\\\\n\t 22 & 16000 & 590\\\\\n\t 22 & 16000 & 500\\\\\n\t 23 & 20000 & 650\\\\\n\t 22 & 16000 & 590\\\\\n\t 21 & 14000 & 500\\\\\n\t 24 & 17000 & 590\\\\\n\t 26 & 20000 & 650\\\\\n\t 22 & 16000 & 650\\\\\n\t 26 & 20000 & 590\\\\\n\t 20 & 13000 & 500\\\\\n\t 18 & 10000 & 590\\\\\n\t 24 & 18000 & 500\\\\\n\t 23 & 22000 & 650\\\\\n\t 21 & 14000 & 590\\\\\n\t 19 & 12000 & 500\\\\\n\t 25 & 18500 & 590\\\\\n\t 18 & 10000 & 650\\\\\n\t 24 & 18000 & 590\\\\\n\t 23 & 20000 & 500\\\\\n\t ⋮ & ⋮ & ⋮\\\\\n\t 29 & 27000 & 500\\\\\n\t 22 & 22000 & 590\\\\\n\t 19 & 12000 & 650\\\\\n\t 19 & 12000 & 590\\\\\n\t 24 & 18000 & 650\\\\\n\t 23 & 21000 & 590\\\\\n\t 26 & 23000 & 500\\\\\n\t 19 & 12000 & 590\\\\\n\t 25 & 19000 & 500\\\\\n\t 32 & 30000 & 650\\\\\n\t 28 & 26000 & 590\\\\\n\t 25 & 22000 & 500\\\\\n\t 26 & 24000 & 590\\\\\n\t 20 & 14000 & 650\\\\\n\t 19 & 12000 & 650\\\\\n\t 23 & 21000 & 590\\\\\n\t 24 & 22000 & 500\\\\\n\t 29 & 28000 & 590\\\\\n\t 25 & 19000 & 650\\\\\n\t 19 & 12000 & 650\\\\\n\t 19 & 12300 & 590\\\\\n\t 23 & 17000 & 500\\\\\n\t 25 & 20000 & 590\\\\\n\t 24 & 18000 & 650\\\\\n\t 26 & 24000 & 650\\\\\n\t 25 & 20000 & 590\\\\\n\t 24 & 18000 & 500\\\\\n\t 17 & 10000 & 590\\\\\n\t 25 & 20000 & 650\\\\\n\t 25 & 20000 & 590\\\\\n\\end{tabular}\n",
            "text/markdown": "\nA data.frame: 200 × 3\n\n| AGE &lt;int&gt; | SALARY &lt;int&gt; | INTERNET_PAY &lt;int&gt; |\n|---|---|---|\n| 23 | 20000 | 590 |\n| 22 | 16000 | 500 |\n| 25 | 18000 | 590 |\n| 21 | 14000 | 500 |\n| 18 | 10000 | 650 |\n| 24 | 17000 | 590 |\n| 19 | 12000 | 500 |\n| 20 | 12500 | 590 |\n| 23 | 22000 | 650 |\n| 26 | 22000 | 590 |\n| 22 | 16000 | 500 |\n| 22 | 16000 | 590 |\n| 22 | 16000 | 500 |\n| 23 | 20000 | 650 |\n| 22 | 16000 | 590 |\n| 21 | 14000 | 500 |\n| 24 | 17000 | 590 |\n| 26 | 20000 | 650 |\n| 22 | 16000 | 650 |\n| 26 | 20000 | 590 |\n| 20 | 13000 | 500 |\n| 18 | 10000 | 590 |\n| 24 | 18000 | 500 |\n| 23 | 22000 | 650 |\n| 21 | 14000 | 590 |\n| 19 | 12000 | 500 |\n| 25 | 18500 | 590 |\n| 18 | 10000 | 650 |\n| 24 | 18000 | 590 |\n| 23 | 20000 | 500 |\n| ⋮ | ⋮ | ⋮ |\n| 29 | 27000 | 500 |\n| 22 | 22000 | 590 |\n| 19 | 12000 | 650 |\n| 19 | 12000 | 590 |\n| 24 | 18000 | 650 |\n| 23 | 21000 | 590 |\n| 26 | 23000 | 500 |\n| 19 | 12000 | 590 |\n| 25 | 19000 | 500 |\n| 32 | 30000 | 650 |\n| 28 | 26000 | 590 |\n| 25 | 22000 | 500 |\n| 26 | 24000 | 590 |\n| 20 | 14000 | 650 |\n| 19 | 12000 | 650 |\n| 23 | 21000 | 590 |\n| 24 | 22000 | 500 |\n| 29 | 28000 | 590 |\n| 25 | 19000 | 650 |\n| 19 | 12000 | 650 |\n| 19 | 12300 | 590 |\n| 23 | 17000 | 500 |\n| 25 | 20000 | 590 |\n| 24 | 18000 | 650 |\n| 26 | 24000 | 650 |\n| 25 | 20000 | 590 |\n| 24 | 18000 | 500 |\n| 17 | 10000 | 590 |\n| 25 | 20000 | 650 |\n| 25 | 20000 | 590 |\n\n",
            "text/html": [
              "<table class=\"dataframe\">\n",
              "<caption>A data.frame: 200 × 3</caption>\n",
              "<thead>\n",
              "\t<tr><th scope=col>AGE</th><th scope=col>SALARY</th><th scope=col>INTERNET_PAY</th></tr>\n",
              "\t<tr><th scope=col>&lt;int&gt;</th><th scope=col>&lt;int&gt;</th><th scope=col>&lt;int&gt;</th></tr>\n",
              "</thead>\n",
              "<tbody>\n",
              "\t<tr><td>23</td><td>20000</td><td>590</td></tr>\n",
              "\t<tr><td>22</td><td>16000</td><td>500</td></tr>\n",
              "\t<tr><td>25</td><td>18000</td><td>590</td></tr>\n",
              "\t<tr><td>21</td><td>14000</td><td>500</td></tr>\n",
              "\t<tr><td>18</td><td>10000</td><td>650</td></tr>\n",
              "\t<tr><td>24</td><td>17000</td><td>590</td></tr>\n",
              "\t<tr><td>19</td><td>12000</td><td>500</td></tr>\n",
              "\t<tr><td>20</td><td>12500</td><td>590</td></tr>\n",
              "\t<tr><td>23</td><td>22000</td><td>650</td></tr>\n",
              "\t<tr><td>26</td><td>22000</td><td>590</td></tr>\n",
              "\t<tr><td>22</td><td>16000</td><td>500</td></tr>\n",
              "\t<tr><td>22</td><td>16000</td><td>590</td></tr>\n",
              "\t<tr><td>22</td><td>16000</td><td>500</td></tr>\n",
              "\t<tr><td>23</td><td>20000</td><td>650</td></tr>\n",
              "\t<tr><td>22</td><td>16000</td><td>590</td></tr>\n",
              "\t<tr><td>21</td><td>14000</td><td>500</td></tr>\n",
              "\t<tr><td>24</td><td>17000</td><td>590</td></tr>\n",
              "\t<tr><td>26</td><td>20000</td><td>650</td></tr>\n",
              "\t<tr><td>22</td><td>16000</td><td>650</td></tr>\n",
              "\t<tr><td>26</td><td>20000</td><td>590</td></tr>\n",
              "\t<tr><td>20</td><td>13000</td><td>500</td></tr>\n",
              "\t<tr><td>18</td><td>10000</td><td>590</td></tr>\n",
              "\t<tr><td>24</td><td>18000</td><td>500</td></tr>\n",
              "\t<tr><td>23</td><td>22000</td><td>650</td></tr>\n",
              "\t<tr><td>21</td><td>14000</td><td>590</td></tr>\n",
              "\t<tr><td>19</td><td>12000</td><td>500</td></tr>\n",
              "\t<tr><td>25</td><td>18500</td><td>590</td></tr>\n",
              "\t<tr><td>18</td><td>10000</td><td>650</td></tr>\n",
              "\t<tr><td>24</td><td>18000</td><td>590</td></tr>\n",
              "\t<tr><td>23</td><td>20000</td><td>500</td></tr>\n",
              "\t<tr><td>⋮</td><td>⋮</td><td>⋮</td></tr>\n",
              "\t<tr><td>29</td><td>27000</td><td>500</td></tr>\n",
              "\t<tr><td>22</td><td>22000</td><td>590</td></tr>\n",
              "\t<tr><td>19</td><td>12000</td><td>650</td></tr>\n",
              "\t<tr><td>19</td><td>12000</td><td>590</td></tr>\n",
              "\t<tr><td>24</td><td>18000</td><td>650</td></tr>\n",
              "\t<tr><td>23</td><td>21000</td><td>590</td></tr>\n",
              "\t<tr><td>26</td><td>23000</td><td>500</td></tr>\n",
              "\t<tr><td>19</td><td>12000</td><td>590</td></tr>\n",
              "\t<tr><td>25</td><td>19000</td><td>500</td></tr>\n",
              "\t<tr><td>32</td><td>30000</td><td>650</td></tr>\n",
              "\t<tr><td>28</td><td>26000</td><td>590</td></tr>\n",
              "\t<tr><td>25</td><td>22000</td><td>500</td></tr>\n",
              "\t<tr><td>26</td><td>24000</td><td>590</td></tr>\n",
              "\t<tr><td>20</td><td>14000</td><td>650</td></tr>\n",
              "\t<tr><td>19</td><td>12000</td><td>650</td></tr>\n",
              "\t<tr><td>23</td><td>21000</td><td>590</td></tr>\n",
              "\t<tr><td>24</td><td>22000</td><td>500</td></tr>\n",
              "\t<tr><td>29</td><td>28000</td><td>590</td></tr>\n",
              "\t<tr><td>25</td><td>19000</td><td>650</td></tr>\n",
              "\t<tr><td>19</td><td>12000</td><td>650</td></tr>\n",
              "\t<tr><td>19</td><td>12300</td><td>590</td></tr>\n",
              "\t<tr><td>23</td><td>17000</td><td>500</td></tr>\n",
              "\t<tr><td>25</td><td>20000</td><td>590</td></tr>\n",
              "\t<tr><td>24</td><td>18000</td><td>650</td></tr>\n",
              "\t<tr><td>26</td><td>24000</td><td>650</td></tr>\n",
              "\t<tr><td>25</td><td>20000</td><td>590</td></tr>\n",
              "\t<tr><td>24</td><td>18000</td><td>500</td></tr>\n",
              "\t<tr><td>17</td><td>10000</td><td>590</td></tr>\n",
              "\t<tr><td>25</td><td>20000</td><td>650</td></tr>\n",
              "\t<tr><td>25</td><td>20000</td><td>590</td></tr>\n",
              "</tbody>\n",
              "</table>\n"
            ]
          },
          "metadata": {}
        }
      ]
    },
    {
      "cell_type": "code",
      "metadata": {
        "id": "MmMVPbRORwlt",
        "outputId": "f11869e1-1444-4bbd-be42-aaf9d65a50dc",
        "colab": {
          "base_uri": "https://localhost:8080/",
          "height": 68
        }
      },
      "source": [
        "mu=matrix(c(22.75,17888,582),3,1)\n",
        "X=data1\n",
        "Xbar=colMeans(X)\n",
        "Xbar=matrix(Xbar,3,1)\n",
        "S=cov(X)\n",
        "n=200\n",
        "p=3\n",
        "alpha=0.05\n",
        "#####################\n",
        "T2=n*t(Xbar-mu)%*%solve(S)%*%(Xbar-mu)\n",
        "paste(\"Hotelling’s T2:\",T2)\n",
        "#####################\n",
        "Cri_val=((n-1)*p)/(n-p)*qf(1-alpha,p,n-p)\n",
        "paste(\"Critical value: \",Cri_val)\n",
        "####################\n",
        "if(T2 < Cri_val){\n",
        "      paste(\"We do not reject Ho\",alpha)\n",
        "}else{\n",
        "      paste(\"We reject Ho\",alpha)\n",
        "}\n"
      ],
      "execution_count": 405,
      "outputs": [
        {
          "output_type": "display_data",
          "data": {
            "text/plain": [
              "[1] \"Hotelling’s T2: 0.0966324421765132\""
            ],
            "text/latex": "'Hotelling’s T2: 0.0966324421765132'",
            "text/markdown": "'Hotelling’s T2: 0.0966324421765132'",
            "text/html": [
              "'Hotelling’s T2: 0.0966324421765132'"
            ]
          },
          "metadata": {}
        },
        {
          "output_type": "display_data",
          "data": {
            "text/plain": [
              "[1] \"Critical value:  8.03204931959034\""
            ],
            "text/latex": "'Critical value:  8.03204931959034'",
            "text/markdown": "<span style=white-space:pre-wrap>'Critical value:  8.03204931959034'</span>",
            "text/html": [
              "<span style=white-space:pre-wrap>'Critical value:  8.03204931959034'</span>"
            ]
          },
          "metadata": {}
        },
        {
          "output_type": "display_data",
          "data": {
            "text/plain": [
              "[1] \"We do not reject Ho 0.05\""
            ],
            "text/latex": "'We do not reject Ho 0.05'",
            "text/markdown": "'We do not reject Ho 0.05'",
            "text/html": [
              "'We do not reject Ho 0.05'"
            ]
          },
          "metadata": {}
        }
      ]
    },
    {
      "cell_type": "code",
      "metadata": {
        "id": "s5CvBbWWT7Cd",
        "outputId": "98840873-3ad3-4c5f-b040-2f27f9be4704",
        "colab": {
          "base_uri": "https://localhost:8080/",
          "height": 136
        }
      },
      "source": [
        "X=data1\n",
        "Xbar=colMeans(X)\n",
        "Xbar=matrix(Xbar,3,1)\n",
        "S=cov(X)\n",
        "print(S)\n",
        "n=200\n",
        "p=3\n",
        "##############################################\n",
        "L1=Xbar[1,1]-(sqrt(((n-1)*p)/(n-p)*qf(1-0.05,p,n-p))*sqrt(S[1,1]/n))\n",
        "U1=Xbar[1,1]+(sqrt(((n-1)*p)/(n-p)*qf(1-0.05,p,n-p))*sqrt(S[1,1]/n))\n",
        "paste(\"The lower bound L1: \",L1, \"/ The upper bound U1: \",U1)\n",
        "##############################################\n",
        "L2=Xbar[2,1]-(sqrt(((n-1)*p)/(n-p)*qf(1-0.05,p,n-p))*sqrt(S[2,2]/n))\n",
        "U2=Xbar[2,1]+(sqrt(((n-1)*p)/(n-p)*qf(1-0.05,p,n-p))*sqrt(S[2,2]/n))\n",
        "paste(\"The lower bound L2: \",L2, \"/ The upper bound U2: \",U2)\n",
        "##############################################\n",
        "L3=Xbar[3,1]-(sqrt(((n-1)*p)/(n-p)*qf(1-0.05,p,n-p))*sqrt(S[3,3]/n))\n",
        "U3=Xbar[3,1]+(sqrt(((n-1)*p)/(n-p)*qf(1-0.05,p,n-p))*sqrt(S[3,3]/n))\n",
        "paste(\"The lower bound L3: \",L3, \"/ The upper bound U3: \",U3)"
      ],
      "execution_count": 398,
      "outputs": [
        {
          "output_type": "stream",
          "name": "stdout",
          "text": [
            "                      AGE       SALARY INTERNET_PAY\n",
            "AGE             13.114950 1.863734e+04    -3.018844\n",
            "SALARY       18637.336683 2.921759e+07   631.055276\n",
            "INTERNET_PAY    -3.018844 6.310553e+02  3346.711055\n"
          ]
        },
        {
          "output_type": "display_data",
          "data": {
            "text/plain": [
              "[1] \"The lower bound L1:  21.9992592639039 / The upper bound U1:  23.4507407360961\""
            ],
            "text/latex": "'The lower bound L1:  21.9992592639039 / The upper bound U1:  23.4507407360961'",
            "text/markdown": "<span style=white-space:pre-wrap>'The lower bound L1:  21.9992592639039 / The upper bound U1:  23.4507407360961'</span>",
            "text/html": [
              "<span style=white-space:pre-wrap>'The lower bound L1:  21.9992592639039 / The upper bound U1:  23.4507407360961'</span>"
            ]
          },
          "metadata": {}
        },
        {
          "output_type": "display_data",
          "data": {
            "text/plain": [
              "[1] \"The lower bound L2:  16802.7707084353 / The upper bound U2:  18969.2292915647\""
            ],
            "text/latex": "'The lower bound L2:  16802.7707084353 / The upper bound U2:  18969.2292915647'",
            "text/markdown": "<span style=white-space:pre-wrap>'The lower bound L2:  16802.7707084353 / The upper bound U2:  18969.2292915647'</span>",
            "text/html": [
              "<span style=white-space:pre-wrap>'The lower bound L2:  16802.7707084353 / The upper bound U2:  18969.2292915647'</span>"
            ]
          },
          "metadata": {}
        },
        {
          "output_type": "display_data",
          "data": {
            "text/plain": [
              "[1] \"The lower bound L3:  570.75669411807 / The upper bound U3:  593.94330588193\""
            ],
            "text/latex": "'The lower bound L3:  570.75669411807 / The upper bound U3:  593.94330588193'",
            "text/markdown": "<span style=white-space:pre-wrap>'The lower bound L3:  570.75669411807 / The upper bound U3:  593.94330588193'</span>",
            "text/html": [
              "<span style=white-space:pre-wrap>'The lower bound L3:  570.75669411807 / The upper bound U3:  593.94330588193'</span>"
            ]
          },
          "metadata": {}
        }
      ]
    },
    {
      "cell_type": "code",
      "metadata": {
        "id": "jsERw2linI-S",
        "outputId": "a16c57b8-356f-4ba4-f5e8-713961a60d7c",
        "colab": {
          "base_uri": "https://localhost:8080/",
          "height": 660
        }
      },
      "source": [
        "attach(data)\n",
        "head(data)"
      ],
      "execution_count": 399,
      "outputs": [
        {
          "output_type": "stream",
          "name": "stderr",
          "text": [
            "The following objects are masked from data (pos = 3):\n",
            "\n",
            "    AGE, APPLICATIONS, CAREER, EDUCATION, F1, F2, F3, F4, F5, GENDER,\n",
            "    HOUR, INTERNET_PAY, KNOWN, No, O1, O2, O3, PLACE, SALARY, TIME,\n",
            "    TYPE\n",
            "\n",
            "\n",
            "The following objects are masked from data (pos = 4):\n",
            "\n",
            "    AGE, APPLICATIONS, CAREER, EDUCATION, F1, F2, F3, F4, F5, GENDER,\n",
            "    HOUR, INTERNET_PAY, KNOWN, No, O1, O2, O3, PLACE, SALARY, TIME,\n",
            "    TYPE\n",
            "\n",
            "\n",
            "The following objects are masked from data (pos = 5):\n",
            "\n",
            "    AGE, APPLICATIONS, CAREER, EDUCATION, F1, F2, F3, F4, F5, GENDER,\n",
            "    HOUR, INTERNET_PAY, KNOWN, No, O1, O2, O3, PLACE, SALARY, TIME,\n",
            "    TYPE\n",
            "\n",
            "\n"
          ]
        },
        {
          "output_type": "display_data",
          "data": {
            "text/plain": [
              "  No GENDER AGE EDUCATION CAREER SALARY INTERNET_PAY PLACE TIME HOUR ⋯\n",
              "1 1  1      23  3         3      20000  590          1     3    3    ⋯\n",
              "2 2  1      22  3         2      16000  500          1     4    4    ⋯\n",
              "3 3  0      25  3         3      18000  590          3     2    3    ⋯\n",
              "4 4  1      21  2         2      14000  500          1     4    4    ⋯\n",
              "5 5  0      18  2         1      10000  650          1     4    4    ⋯\n",
              "6 6  0      24  3         3      17000  590          1     3    3    ⋯\n",
              "  APPLICATIONS TYPE F1 F2 F3 F4 F5 O1 O2 O3\n",
              "1 1            1    4  3  3  3  5  5  4  1 \n",
              "2 1            1    5  4  3  3  5  5  5  2 \n",
              "3 1            1    4  3  1  2  4  5  3  1 \n",
              "4 1            3    5  3  5  4  5  5  5  3 \n",
              "5 1            1    5  3  4  4  5  5  5  3 \n",
              "6 1            1    5  4  4  1  5  5  5  4 "
            ],
            "text/latex": "A data.frame: 6 × 21\n\\begin{tabular}{r|lllllllllllllllllllll}\n  & No & GENDER & AGE & EDUCATION & CAREER & SALARY & INTERNET\\_PAY & PLACE & TIME & HOUR & ⋯ & APPLICATIONS & TYPE & F1 & F2 & F3 & F4 & F5 & O1 & O2 & O3\\\\\n  & <int> & <int> & <int> & <int> & <int> & <int> & <int> & <int> & <int> & <int> & ⋯ & <int> & <int> & <int> & <int> & <int> & <int> & <int> & <int> & <int> & <int>\\\\\n\\hline\n\t1 & 1 & 1 & 23 & 3 & 3 & 20000 & 590 & 1 & 3 & 3 & ⋯ & 1 & 1 & 4 & 3 & 3 & 3 & 5 & 5 & 4 & 1\\\\\n\t2 & 2 & 1 & 22 & 3 & 2 & 16000 & 500 & 1 & 4 & 4 & ⋯ & 1 & 1 & 5 & 4 & 3 & 3 & 5 & 5 & 5 & 2\\\\\n\t3 & 3 & 0 & 25 & 3 & 3 & 18000 & 590 & 3 & 2 & 3 & ⋯ & 1 & 1 & 4 & 3 & 1 & 2 & 4 & 5 & 3 & 1\\\\\n\t4 & 4 & 1 & 21 & 2 & 2 & 14000 & 500 & 1 & 4 & 4 & ⋯ & 1 & 3 & 5 & 3 & 5 & 4 & 5 & 5 & 5 & 3\\\\\n\t5 & 5 & 0 & 18 & 2 & 1 & 10000 & 650 & 1 & 4 & 4 & ⋯ & 1 & 1 & 5 & 3 & 4 & 4 & 5 & 5 & 5 & 3\\\\\n\t6 & 6 & 0 & 24 & 3 & 3 & 17000 & 590 & 1 & 3 & 3 & ⋯ & 1 & 1 & 5 & 4 & 4 & 1 & 5 & 5 & 5 & 4\\\\\n\\end{tabular}\n",
            "text/markdown": "\nA data.frame: 6 × 21\n\n| <!--/--> | No &lt;int&gt; | GENDER &lt;int&gt; | AGE &lt;int&gt; | EDUCATION &lt;int&gt; | CAREER &lt;int&gt; | SALARY &lt;int&gt; | INTERNET_PAY &lt;int&gt; | PLACE &lt;int&gt; | TIME &lt;int&gt; | HOUR &lt;int&gt; | ⋯ ⋯ | APPLICATIONS &lt;int&gt; | TYPE &lt;int&gt; | F1 &lt;int&gt; | F2 &lt;int&gt; | F3 &lt;int&gt; | F4 &lt;int&gt; | F5 &lt;int&gt; | O1 &lt;int&gt; | O2 &lt;int&gt; | O3 &lt;int&gt; |\n|---|---|---|---|---|---|---|---|---|---|---|---|---|---|---|---|---|---|---|---|---|---|\n| 1 | 1 | 1 | 23 | 3 | 3 | 20000 | 590 | 1 | 3 | 3 | ⋯ | 1 | 1 | 4 | 3 | 3 | 3 | 5 | 5 | 4 | 1 |\n| 2 | 2 | 1 | 22 | 3 | 2 | 16000 | 500 | 1 | 4 | 4 | ⋯ | 1 | 1 | 5 | 4 | 3 | 3 | 5 | 5 | 5 | 2 |\n| 3 | 3 | 0 | 25 | 3 | 3 | 18000 | 590 | 3 | 2 | 3 | ⋯ | 1 | 1 | 4 | 3 | 1 | 2 | 4 | 5 | 3 | 1 |\n| 4 | 4 | 1 | 21 | 2 | 2 | 14000 | 500 | 1 | 4 | 4 | ⋯ | 1 | 3 | 5 | 3 | 5 | 4 | 5 | 5 | 5 | 3 |\n| 5 | 5 | 0 | 18 | 2 | 1 | 10000 | 650 | 1 | 4 | 4 | ⋯ | 1 | 1 | 5 | 3 | 4 | 4 | 5 | 5 | 5 | 3 |\n| 6 | 6 | 0 | 24 | 3 | 3 | 17000 | 590 | 1 | 3 | 3 | ⋯ | 1 | 1 | 5 | 4 | 4 | 1 | 5 | 5 | 5 | 4 |\n\n",
            "text/html": [
              "<table class=\"dataframe\">\n",
              "<caption>A data.frame: 6 × 21</caption>\n",
              "<thead>\n",
              "\t<tr><th></th><th scope=col>No</th><th scope=col>GENDER</th><th scope=col>AGE</th><th scope=col>EDUCATION</th><th scope=col>CAREER</th><th scope=col>SALARY</th><th scope=col>INTERNET_PAY</th><th scope=col>PLACE</th><th scope=col>TIME</th><th scope=col>HOUR</th><th scope=col>⋯</th><th scope=col>APPLICATIONS</th><th scope=col>TYPE</th><th scope=col>F1</th><th scope=col>F2</th><th scope=col>F3</th><th scope=col>F4</th><th scope=col>F5</th><th scope=col>O1</th><th scope=col>O2</th><th scope=col>O3</th></tr>\n",
              "\t<tr><th></th><th scope=col>&lt;int&gt;</th><th scope=col>&lt;int&gt;</th><th scope=col>&lt;int&gt;</th><th scope=col>&lt;int&gt;</th><th scope=col>&lt;int&gt;</th><th scope=col>&lt;int&gt;</th><th scope=col>&lt;int&gt;</th><th scope=col>&lt;int&gt;</th><th scope=col>&lt;int&gt;</th><th scope=col>&lt;int&gt;</th><th scope=col>⋯</th><th scope=col>&lt;int&gt;</th><th scope=col>&lt;int&gt;</th><th scope=col>&lt;int&gt;</th><th scope=col>&lt;int&gt;</th><th scope=col>&lt;int&gt;</th><th scope=col>&lt;int&gt;</th><th scope=col>&lt;int&gt;</th><th scope=col>&lt;int&gt;</th><th scope=col>&lt;int&gt;</th><th scope=col>&lt;int&gt;</th></tr>\n",
              "</thead>\n",
              "<tbody>\n",
              "\t<tr><th scope=row>1</th><td>1</td><td>1</td><td>23</td><td>3</td><td>3</td><td>20000</td><td>590</td><td>1</td><td>3</td><td>3</td><td>⋯</td><td>1</td><td>1</td><td>4</td><td>3</td><td>3</td><td>3</td><td>5</td><td>5</td><td>4</td><td>1</td></tr>\n",
              "\t<tr><th scope=row>2</th><td>2</td><td>1</td><td>22</td><td>3</td><td>2</td><td>16000</td><td>500</td><td>1</td><td>4</td><td>4</td><td>⋯</td><td>1</td><td>1</td><td>5</td><td>4</td><td>3</td><td>3</td><td>5</td><td>5</td><td>5</td><td>2</td></tr>\n",
              "\t<tr><th scope=row>3</th><td>3</td><td>0</td><td>25</td><td>3</td><td>3</td><td>18000</td><td>590</td><td>3</td><td>2</td><td>3</td><td>⋯</td><td>1</td><td>1</td><td>4</td><td>3</td><td>1</td><td>2</td><td>4</td><td>5</td><td>3</td><td>1</td></tr>\n",
              "\t<tr><th scope=row>4</th><td>4</td><td>1</td><td>21</td><td>2</td><td>2</td><td>14000</td><td>500</td><td>1</td><td>4</td><td>4</td><td>⋯</td><td>1</td><td>3</td><td>5</td><td>3</td><td>5</td><td>4</td><td>5</td><td>5</td><td>5</td><td>3</td></tr>\n",
              "\t<tr><th scope=row>5</th><td>5</td><td>0</td><td>18</td><td>2</td><td>1</td><td>10000</td><td>650</td><td>1</td><td>4</td><td>4</td><td>⋯</td><td>1</td><td>1</td><td>5</td><td>3</td><td>4</td><td>4</td><td>5</td><td>5</td><td>5</td><td>3</td></tr>\n",
              "\t<tr><th scope=row>6</th><td>6</td><td>0</td><td>24</td><td>3</td><td>3</td><td>17000</td><td>590</td><td>1</td><td>3</td><td>3</td><td>⋯</td><td>1</td><td>1</td><td>5</td><td>4</td><td>4</td><td>1</td><td>5</td><td>5</td><td>5</td><td>4</td></tr>\n",
              "</tbody>\n",
              "</table>\n"
            ]
          },
          "metadata": {}
        }
      ]
    },
    {
      "cell_type": "code",
      "metadata": {
        "id": "7T7P8DPgoKT0",
        "outputId": "fa175867-9b8c-4673-ccfd-8db0e778c85e",
        "colab": {
          "base_uri": "https://localhost:8080/",
          "height": 283
        }
      },
      "source": [
        "data2=data.frame(data[2],data[6],data[7])\n",
        "head(data2)"
      ],
      "execution_count": 400,
      "outputs": [
        {
          "output_type": "display_data",
          "data": {
            "text/plain": [
              "  GENDER SALARY INTERNET_PAY\n",
              "1 1      20000  590         \n",
              "2 1      16000  500         \n",
              "3 0      18000  590         \n",
              "4 1      14000  500         \n",
              "5 0      10000  650         \n",
              "6 0      17000  590         "
            ],
            "text/latex": "A data.frame: 6 × 3\n\\begin{tabular}{r|lll}\n  & GENDER & SALARY & INTERNET\\_PAY\\\\\n  & <int> & <int> & <int>\\\\\n\\hline\n\t1 & 1 & 20000 & 590\\\\\n\t2 & 1 & 16000 & 500\\\\\n\t3 & 0 & 18000 & 590\\\\\n\t4 & 1 & 14000 & 500\\\\\n\t5 & 0 & 10000 & 650\\\\\n\t6 & 0 & 17000 & 590\\\\\n\\end{tabular}\n",
            "text/markdown": "\nA data.frame: 6 × 3\n\n| <!--/--> | GENDER &lt;int&gt; | SALARY &lt;int&gt; | INTERNET_PAY &lt;int&gt; |\n|---|---|---|---|\n| 1 | 1 | 20000 | 590 |\n| 2 | 1 | 16000 | 500 |\n| 3 | 0 | 18000 | 590 |\n| 4 | 1 | 14000 | 500 |\n| 5 | 0 | 10000 | 650 |\n| 6 | 0 | 17000 | 590 |\n\n",
            "text/html": [
              "<table class=\"dataframe\">\n",
              "<caption>A data.frame: 6 × 3</caption>\n",
              "<thead>\n",
              "\t<tr><th></th><th scope=col>GENDER</th><th scope=col>SALARY</th><th scope=col>INTERNET_PAY</th></tr>\n",
              "\t<tr><th></th><th scope=col>&lt;int&gt;</th><th scope=col>&lt;int&gt;</th><th scope=col>&lt;int&gt;</th></tr>\n",
              "</thead>\n",
              "<tbody>\n",
              "\t<tr><th scope=row>1</th><td>1</td><td>20000</td><td>590</td></tr>\n",
              "\t<tr><th scope=row>2</th><td>1</td><td>16000</td><td>500</td></tr>\n",
              "\t<tr><th scope=row>3</th><td>0</td><td>18000</td><td>590</td></tr>\n",
              "\t<tr><th scope=row>4</th><td>1</td><td>14000</td><td>500</td></tr>\n",
              "\t<tr><th scope=row>5</th><td>0</td><td>10000</td><td>650</td></tr>\n",
              "\t<tr><th scope=row>6</th><td>0</td><td>17000</td><td>590</td></tr>\n",
              "</tbody>\n",
              "</table>\n"
            ]
          },
          "metadata": {}
        }
      ]
    },
    {
      "cell_type": "code",
      "metadata": {
        "id": "psDifeSkndCS",
        "outputId": "3d59b39d-e4a0-44b4-ba7d-f7228449cbc2",
        "colab": {
          "base_uri": "https://localhost:8080/",
          "height": 68
        }
      },
      "source": [
        "X1= data.frame((SALARY[GENDER==0]),INTERNET_PAY[GENDER==0])\n",
        "Xbar1 = colMeans(X1)\n",
        "Xbar1= matrix(Xbar1,2,1)\n",
        "X2= data.frame((SALARY[GENDER==1]),INTERNET_PAY[GENDER==1])\n",
        "Xbar2 = colMeans(X2)\n",
        "Xbar2= matrix(Xbar2,2,1)\n",
        "S1 = cov(X1)\n",
        "S2 = cov(X2)\n",
        "n1 = 100\n",
        "n2 = 100\n",
        "Sp = (((n1-1)/(n1+n2-2))*S1)+(((n2-1)/(n1+n2-2))*S2)\n",
        "p=2\n",
        "alpha=0.05\n",
        "###################################################\n",
        "T2 = t(Xbar1-Xbar2)%*%solve(((1/n1)+(1/n2))*Sp)%*%(Xbar1-Xbar2)\n",
        "paste(\"The T2 value: \",T2)\n",
        "###################################################\n",
        "cri_val = ((n1+n2-2)*p)/(n1+n2-p-1)*qf(1-0.05,p,n1+n2-p-1)\n",
        "paste(\"The critical value: \",cri_val)\n",
        "###################################################\n",
        "if(T2 < cri_val){\n",
        "      paste(\"We do not reject Ho\",alpha)\n",
        "}else{\n",
        "      paste(\"We reject Ho\",alpha)\n",
        "}"
      ],
      "execution_count": 401,
      "outputs": [
        {
          "output_type": "display_data",
          "data": {
            "text/plain": [
              "[1] \"The T2 value:  5.9809918210374\""
            ],
            "text/latex": "'The T2 value:  5.9809918210374'",
            "text/markdown": "<span style=white-space:pre-wrap>'The T2 value:  5.9809918210374'</span>",
            "text/html": [
              "<span style=white-space:pre-wrap>'The T2 value:  5.9809918210374'</span>"
            ]
          },
          "metadata": {}
        },
        {
          "output_type": "display_data",
          "data": {
            "text/plain": [
              "[1] \"The critical value:  6.11438680139052\""
            ],
            "text/latex": "'The critical value:  6.11438680139052'",
            "text/markdown": "<span style=white-space:pre-wrap>'The critical value:  6.11438680139052'</span>",
            "text/html": [
              "<span style=white-space:pre-wrap>'The critical value:  6.11438680139052'</span>"
            ]
          },
          "metadata": {}
        },
        {
          "output_type": "display_data",
          "data": {
            "text/plain": [
              "[1] \"We do not reject Ho 0.05\""
            ],
            "text/latex": "'We do not reject Ho 0.05'",
            "text/markdown": "'We do not reject Ho 0.05'",
            "text/html": [
              "'We do not reject Ho 0.05'"
            ]
          },
          "metadata": {}
        }
      ]
    },
    {
      "cell_type": "code",
      "metadata": {
        "id": "luYQpMobr2g3",
        "outputId": "c7e5360b-b434-4554-bdd6-11caf57d4275",
        "colab": {
          "base_uri": "https://localhost:8080/",
          "height": 85
        }
      },
      "source": [
        "X1= data.frame((SALARY[GENDER==0]),INTERNET_PAY[GENDER==0])\n",
        "Xbar1 = colMeans(X1)\n",
        "Xbar1= matrix(Xbar1,2,1)\n",
        "X2= data.frame((SALARY[GENDER==1]),INTERNET_PAY[GENDER==1])\n",
        "Xbar2 = colMeans(X2)\n",
        "Xbar2= matrix(Xbar2,2,1)\n",
        "S1 = cov(X1)\n",
        "S2 = cov(X2)\n",
        "n1 = 100\n",
        "n2 = 100\n",
        "Sp = (((n1-1)/(n1+n1-2))*S1)+(((n2-1)/(n1+n2-2))*S2)\n",
        "p=2\n",
        "alpha=0.05\n",
        "###################################################\n",
        "L1 = (Xbar1[1]-Xbar2[1])-(sqrt(cri_val)*sqrt(((1/n1)+(1/n2))*Sp[1,1])) \n",
        "U1 = (Xbar1[1]-Xbar2[1])+(sqrt(cri_val)*sqrt(((1/n1)+(1/n2))*Sp[1]))\n",
        "paste(\"The lower bound L1: \",L1)\n",
        "paste(\"The upper bound U1: \",U1)\n",
        "###################################################\n",
        "L2 = (Xbar1[2]-Xbar2[2])-(sqrt(cri_val)*sqrt(((1/n1)+(1/n2))*Sp[2,2]))\n",
        "U2 = (Xbar1[2]-Xbar2[2])+(sqrt(cri_val)*sqrt(((1/n1)+(1/n2))*Sp[2,2]))\n",
        "paste(\"The lower bound L2: \",L2)\n",
        "paste(\"The upper bound U2: \",U2)"
      ],
      "execution_count": 402,
      "outputs": [
        {
          "output_type": "display_data",
          "data": {
            "text/plain": [
              "[1] \"The lower bound L1:  -2428.65064856302\""
            ],
            "text/latex": "'The lower bound L1:  -2428.65064856302'",
            "text/markdown": "<span style=white-space:pre-wrap>'The lower bound L1:  -2428.65064856302'</span>",
            "text/html": [
              "<span style=white-space:pre-wrap>'The lower bound L1:  -2428.65064856302'</span>"
            ]
          },
          "metadata": {}
        },
        {
          "output_type": "display_data",
          "data": {
            "text/plain": [
              "[1] \"The upper bound U1:  1356.65064856302\""
            ],
            "text/latex": "'The upper bound U1:  1356.65064856302'",
            "text/markdown": "<span style=white-space:pre-wrap>'The upper bound U1:  1356.65064856302'</span>",
            "text/html": [
              "<span style=white-space:pre-wrap>'The upper bound U1:  1356.65064856302'</span>"
            ]
          },
          "metadata": {}
        },
        {
          "output_type": "display_data",
          "data": {
            "text/plain": [
              "[1] \"The lower bound L2:  -1.10744328544072\""
            ],
            "text/latex": "'The lower bound L2:  -1.10744328544072'",
            "text/markdown": "<span style=white-space:pre-wrap>'The lower bound L2:  -1.10744328544072'</span>",
            "text/html": [
              "<span style=white-space:pre-wrap>'The lower bound L2:  -1.10744328544072'</span>"
            ]
          },
          "metadata": {}
        },
        {
          "output_type": "display_data",
          "data": {
            "text/plain": [
              "[1] \"The upper bound U2:  38.9074432854407\""
            ],
            "text/latex": "'The upper bound U2:  38.9074432854407'",
            "text/markdown": "<span style=white-space:pre-wrap>'The upper bound U2:  38.9074432854407'</span>",
            "text/html": [
              "<span style=white-space:pre-wrap>'The upper bound U2:  38.9074432854407'</span>"
            ]
          },
          "metadata": {}
        }
      ]
    }
  ]
}