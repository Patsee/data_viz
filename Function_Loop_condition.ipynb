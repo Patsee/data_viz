{
  "nbformat": 4,
  "nbformat_minor": 0,
  "metadata": {
    "colab": {
      "name": "Function_Loop_condition.ipynb",
      "provenance": [],
      "authorship_tag": "ABX9TyP2hAHBQrHKLvD3hjuMtC3+",
      "include_colab_link": true
    },
    "kernelspec": {
      "name": "python3",
      "display_name": "Python 3"
    }
  },
  "cells": [
    {
      "cell_type": "markdown",
      "metadata": {
        "id": "view-in-github",
        "colab_type": "text"
      },
      "source": [
        "<a href=\"https://colab.research.google.com/github/Patsee/data_viz/blob/main/Function_Loop_condition.ipynb\" target=\"_parent\"><img src=\"https://colab.research.google.com/assets/colab-badge.svg\" alt=\"Open In Colab\"/></a>"
      ]
    },
    {
      "cell_type": "markdown",
      "metadata": {
        "id": "86XhIkonfgnp"
      },
      "source": [
        "### Function"
      ]
    },
    {
      "cell_type": "code",
      "metadata": {
        "colab": {
          "base_uri": "https://localhost:8080/"
        },
        "id": "dfwwwuivffE0",
        "outputId": "a28c1fad-742d-4dd2-e014-103f76ae3ccb"
      },
      "source": [
        "name = 'พัสกร'\r\n",
        "surname = 'ปัดสี'\r\n",
        "ID = '613020194-6'\r\n",
        "\r\n",
        "b = f' ชื่อ { name } นามสกุล { surname }  รหัส { ID } '\r\n",
        "print(b)"
      ],
      "execution_count": null,
      "outputs": [
        {
          "output_type": "stream",
          "text": [
            " ชื่อ พัสกร นามสกุล ปัดสี  รหัส 613020194-6 \n"
          ],
          "name": "stdout"
        }
      ]
    },
    {
      "cell_type": "markdown",
      "metadata": {
        "id": "1rUcmPjFgyNK"
      },
      "source": [
        "Function  template \\\r\n",
        "ทำหน้าที่รับ input มาประมวณผลออกมาเป็น output \\\r\n",
        "f(x) = y"
      ]
    },
    {
      "cell_type": "markdown",
      "metadata": {
        "id": "1ZDg31qnhMII"
      },
      "source": [
        "# def คือ การกำหนดฟังก์ชัน"
      ]
    },
    {
      "cell_type": "markdown",
      "metadata": {
        "id": "BEZuSFLMjPC-"
      },
      "source": [
        "def function_name(_Input) : \\\r\n",
        "  do_something with _Input_to get _Output \\\r\n",
        "  return _output_ \\\r\n",
        "  back tick ( ) ==> กดค้าง ~ alt+96 \\\r\n",
        "  tilde (~)\r\n",
        "  curly blacket ({ }) \\\r\n",
        "  square blacket ([ ])\r\n"
      ]
    },
    {
      "cell_type": "markdown",
      "metadata": {
        "id": "NDMzdaXZkMFF"
      },
      "source": [
        "## ตัวอย่างการเขียน normal function"
      ]
    },
    {
      "cell_type": "code",
      "metadata": {
        "colab": {
          "base_uri": "https://localhost:8080/",
          "height": 128
        },
        "id": "ihiQtrZuhqmo",
        "outputId": "5ff32273-03a0-4e8e-d6ec-6dab5dd74563"
      },
      "source": [
        "def print_name(name,surname,id ) :\r\n",
        "st = f' ชื่อ {name} นามสกุล {surname} รหัส {id} '\r\n",
        "return st\r\n"
      ],
      "execution_count": null,
      "outputs": [
        {
          "output_type": "error",
          "ename": "IndentationError",
          "evalue": "ignored",
          "traceback": [
            "\u001b[0;36m  File \u001b[0;32m\"<ipython-input-59-8b1e29a33ebc>\"\u001b[0;36m, line \u001b[0;32m2\u001b[0m\n\u001b[0;31m    st = f' ชื่อ {name} นามสกุล {surname} รหัส {id} '\u001b[0m\n\u001b[0m     ^\u001b[0m\n\u001b[0;31mIndentationError\u001b[0m\u001b[0;31m:\u001b[0m expected an indented block\n"
          ]
        }
      ]
    },
    {
      "cell_type": "code",
      "metadata": {
        "colab": {
          "base_uri": "https://localhost:8080/",
          "height": 162
        },
        "id": "En3qmj-Vkyec",
        "outputId": "fa98e764-f117-4b5c-d6ca-2e1bb90d6eb1"
      },
      "source": [
        "print_name('ปัดสี' , '613020194-6' , 'พัสกร')"
      ],
      "execution_count": null,
      "outputs": [
        {
          "output_type": "error",
          "ename": "NameError",
          "evalue": "ignored",
          "traceback": [
            "\u001b[0;31m---------------------------------------------------------------------------\u001b[0m",
            "\u001b[0;31mNameError\u001b[0m                                 Traceback (most recent call last)",
            "\u001b[0;32m<ipython-input-53-a6deba4509e0>\u001b[0m in \u001b[0;36m<module>\u001b[0;34m()\u001b[0m\n\u001b[0;32m----> 1\u001b[0;31m \u001b[0mprint_name\u001b[0m\u001b[0;34m(\u001b[0m\u001b[0;34m'ปัดสี'\u001b[0m \u001b[0;34m,\u001b[0m \u001b[0;34m'613020194-6'\u001b[0m \u001b[0;34m,\u001b[0m \u001b[0;34m'พัสกร'\u001b[0m\u001b[0;34m)\u001b[0m\u001b[0;34m\u001b[0m\u001b[0;34m\u001b[0m\u001b[0m\n\u001b[0m",
            "\u001b[0;31mNameError\u001b[0m: name 'print_name' is not defined"
          ]
        }
      ]
    },
    {
      "cell_type": "code",
      "metadata": {
        "colab": {
          "base_uri": "https://localhost:8080/",
          "height": 128
        },
        "id": "bIAfKVGFlRHK",
        "outputId": "10e6c605-49b7-41c4-a9c0-607aca6e0c0d"
      },
      "source": [
        "def print_name2(surname,ID,name ) :\r\n",
        "          st = f' ชื่อ  {name}  นามสกุล  {surname}  รหัส  {ID}'\r\n",
        "       print(st) \r\n",
        "           "
      ],
      "execution_count": null,
      "outputs": [
        {
          "output_type": "error",
          "ename": "IndentationError",
          "evalue": "ignored",
          "traceback": [
            "\u001b[0;36m  File \u001b[0;32m\"<ipython-input-56-f3b76d132912>\"\u001b[0;36m, line \u001b[0;32m3\u001b[0m\n\u001b[0;31m    print(st)\u001b[0m\n\u001b[0m              ^\u001b[0m\n\u001b[0;31mIndentationError\u001b[0m\u001b[0;31m:\u001b[0m unindent does not match any outer indentation level\n"
          ]
        }
      ]
    },
    {
      "cell_type": "code",
      "metadata": {
        "colab": {
          "base_uri": "https://localhost:8080/",
          "height": 162
        },
        "id": "l2gabyqopvPb",
        "outputId": "6bc256a3-c081-48eb-90de-c1e42829cbc0"
      },
      "source": [
        "print_name2(name='พัสกร', surname='ปัดสี', ID='613020194-6')"
      ],
      "execution_count": null,
      "outputs": [
        {
          "output_type": "error",
          "ename": "NameError",
          "evalue": "ignored",
          "traceback": [
            "\u001b[0;31m---------------------------------------------------------------------------\u001b[0m",
            "\u001b[0;31mNameError\u001b[0m                                 Traceback (most recent call last)",
            "\u001b[0;32m<ipython-input-36-8cc3534a01c0>\u001b[0m in \u001b[0;36m<module>\u001b[0;34m()\u001b[0m\n\u001b[0;32m----> 1\u001b[0;31m \u001b[0mprint_name2\u001b[0m\u001b[0;34m(\u001b[0m\u001b[0mname\u001b[0m\u001b[0;34m=\u001b[0m\u001b[0;34m'พัสกร'\u001b[0m\u001b[0;34m,\u001b[0m\u001b[0msurname\u001b[0m\u001b[0;34m=\u001b[0m\u001b[0;34m'ปัดสี'\u001b[0m\u001b[0;34m,\u001b[0m\u001b[0mID\u001b[0m\u001b[0;34m=\u001b[0m\u001b[0;34m'613020194-6'\u001b[0m\u001b[0;34m)\u001b[0m\u001b[0;34m\u001b[0m\u001b[0;34m\u001b[0m\u001b[0m\n\u001b[0m",
            "\u001b[0;31mNameError\u001b[0m: name 'print_name2' is not defined"
          ]
        }
      ]
    },
    {
      "cell_type": "markdown",
      "metadata": {
        "id": "1nCklqonqT93"
      },
      "source": [
        "ฟังก์ชัน ไม่จำเป็นต้องมี input\r\n"
      ]
    },
    {
      "cell_type": "code",
      "metadata": {
        "id": "AS9RRZVpqCJt"
      },
      "source": [
        "def Pi() :\r\n",
        "    return 3.1415"
      ],
      "execution_count": null,
      "outputs": []
    },
    {
      "cell_type": "code",
      "metadata": {
        "colab": {
          "base_uri": "https://localhost:8080/"
        },
        "id": "3wt0nArbquN5",
        "outputId": "568ad519-54b8-4976-d816-27f13815976d"
      },
      "source": [
        "Pi()*(2**2) #หาพื้นที่วงกลมที่มีรัศมีเท่ากับ pi*r^2\r\n",
        "\r\n"
      ],
      "execution_count": null,
      "outputs": [
        {
          "output_type": "execute_result",
          "data": {
            "text/plain": [
              "12.566"
            ]
          },
          "metadata": {
            "tags": []
          },
          "execution_count": 42
        }
      ]
    },
    {
      "cell_type": "markdown",
      "metadata": {
        "id": "Af5rTPhsrcdL"
      },
      "source": [
        "## เราสามารถกำหนดค่า default ให้กับฟังก์ชันได้"
      ]
    },
    {
      "cell_type": "code",
      "metadata": {
        "id": "3LmlB2PjruH-"
      },
      "source": [
        "def  print_2line_default(name,surname,ID,grade='F') :\r\n",
        "  st = f' ชื่อ {name} นามสกุล {surname} รหัส {ID} '\r\n",
        "  print(st)\r\n",
        "  st2=f'เกรดวิชา Data >>> {grade}'\r\n",
        "  print(st2)"
      ],
      "execution_count": null,
      "outputs": []
    },
    {
      "cell_type": "code",
      "metadata": {
        "colab": {
          "base_uri": "https://localhost:8080/"
        },
        "id": "zH8EyzlgruFm",
        "outputId": "f9db1b25-f328-406d-fa79-fb705255d578"
      },
      "source": [
        "print_2line_default('พัสกร' , 'ปัดสี', '613020194-6')"
      ],
      "execution_count": null,
      "outputs": [
        {
          "output_type": "stream",
          "text": [
            " ชื่อ  พัสกร  นามสกุล  ปัดสี  รหัส  613020194-6 \n",
            "เกรดวิชา Data >>> F\n"
          ],
          "name": "stdout"
        }
      ]
    },
    {
      "cell_type": "code",
      "metadata": {
        "colab": {
          "base_uri": "https://localhost:8080/"
        },
        "id": "XsIBkKisruCm",
        "outputId": "a2b34dc9-e6f7-466a-a022-1cab2bbb1f59"
      },
      "source": [
        "print_2line_default('พัสกร' , 'ปัดสี', '613020194-6','A')"
      ],
      "execution_count": null,
      "outputs": [
        {
          "output_type": "stream",
          "text": [
            " ชื่อ  พัสกร  นามสกุล  ปัดสี  รหัส  613020194-6 \n",
            "เกรดวิชา Data >>> A\n"
          ],
          "name": "stdout"
        }
      ]
    },
    {
      "cell_type": "markdown",
      "metadata": {
        "id": "J8lXwQp5tvTy"
      },
      "source": [
        ""
      ]
    },
    {
      "cell_type": "markdown",
      "metadata": {
        "id": "DPmAzLMO0ZA1"
      },
      "source": [
        "### LOOP การวนซ้ำ \r\n",
        " for เป็นคำที่ใช้บอก python ว่าเรากำลังเขียน loop "
      ]
    },
    {
      "cell_type": "markdown",
      "metadata": {
        "id": "6aSaAI740gY-"
      },
      "source": [
        "for  each_member in list A :\r\n",
        "do something"
      ]
    },
    {
      "cell_type": "code",
      "metadata": {
        "colab": {
          "base_uri": "https://localhost:8080/"
        },
        "id": "UodYKXun0f7y",
        "outputId": "35016b70-1af5-4da5-9dc3-554d480d15b8"
      },
      "source": [
        "for i in [1,2,3] :\r\n",
        "  o = i**2\r\n",
        "  print  (f'this member = {i} after process =  {o}')"
      ],
      "execution_count": null,
      "outputs": [
        {
          "output_type": "stream",
          "text": [
            "this member = 1 after process =  1\n",
            "this member = 2 after process =  4\n",
            "this member = 3 after process =  9\n"
          ],
          "name": "stdout"
        }
      ]
    },
    {
      "cell_type": "markdown",
      "metadata": {
        "id": "4yIfbD90-NWN"
      },
      "source": [
        "## HW 3\r\n",
        "## ให้สร้าง list ของเวลา แล้ววนลูปเรียกฟังก์ชันคำนวณเวลาเป็นวินาที"
      ]
    },
    {
      "cell_type": "code",
      "metadata": {
        "id": "IxczCEy-tu7E",
        "colab": {
          "base_uri": "https://localhost:8080/"
        },
        "outputId": "2e229f3b-8d00-4fbc-bc97-f28b74f79531"
      },
      "source": [
        "for time in ['12:30:15','13:41:07','12:53:15','00:59:25','11:11:11','16:06:09'] :\r\n",
        "  DT = time.split(':')\r\n",
        "  hour = int(DT[0])*3600\r\n",
        "  min = int(DT[1])*60\r\n",
        "  sec = int(DT[2])\r\n",
        "  tt = hour + min + sec\r\n",
        "  print  (f'ในเวลา  {time} มีเวลาเป็นวินาทีเท่ากับ  {tt} วินาที ')"
      ],
      "execution_count": null,
      "outputs": [
        {
          "output_type": "stream",
          "text": [
            "ในเวลา  12:30:15 มีเวลาเป็นวินาทีเท่ากับ  45015 วินาที \n",
            "ในเวลา  13:41:07 มีเวลาเป็นวินาทีเท่ากับ  49267 วินาที \n",
            "ในเวลา  12:53:15 มีเวลาเป็นวินาทีเท่ากับ  46395 วินาที \n",
            "ในเวลา  00:59:25 มีเวลาเป็นวินาทีเท่ากับ  3565 วินาที \n",
            "ในเวลา  11:11:11 มีเวลาเป็นวินาทีเท่ากับ  40271 วินาที \n",
            "ในเวลา  16:06:09 มีเวลาเป็นวินาทีเท่ากับ  57969 วินาที \n"
          ],
          "name": "stdout"
        }
      ]
    },
    {
      "cell_type": "markdown",
      "metadata": {
        "id": "Ijch8M86WzrU"
      },
      "source": [
        "12 / 1 /2564"
      ]
    },
    {
      "cell_type": "code",
      "metadata": {
        "id": "raW7rQCzqywx",
        "outputId": "dd1a336e-96eb-468d-b473-25c26e9ec02d",
        "colab": {
          "base_uri": "https://localhost:8080/"
        }
      },
      "source": [
        "for i in 'patsakorn' :\r\n",
        " print  (f'  {i} -> / ',end = ',') #สั่งให้ print แบบไม่เว้นบรรทัด"
      ],
      "execution_count": 17,
      "outputs": [
        {
          "output_type": "stream",
          "text": [
            "  p -> / ,  a -> / ,  t -> / ,  s -> / ,  a -> / ,  k -> / ,  o -> / ,  r -> / ,  n -> / ,"
          ],
          "name": "stdout"
        }
      ]
    },
    {
      "cell_type": "markdown",
      "metadata": {
        "id": "WFMi4uPdXhHr"
      },
      "source": [
        "## สร้าง list ตัวเลขแบบอัตโนมัติ range()"
      ]
    },
    {
      "cell_type": "code",
      "metadata": {
        "id": "YStttGYeVfDk",
        "outputId": "02f8fc9a-c39e-4171-8033-f640ff44b2f6",
        "colab": {
          "base_uri": "https://localhost:8080/"
        }
      },
      "source": [
        "range5_output = range(5)\r\n",
        "print(list(range5_output))"
      ],
      "execution_count": 19,
      "outputs": [
        {
          "output_type": "stream",
          "text": [
            "[0, 1, 2, 3, 4]\n"
          ],
          "name": "stdout"
        }
      ]
    },
    {
      "cell_type": "code",
      "metadata": {
        "id": "RNsggLC4X1G2",
        "outputId": "c6ac6028-4186-485e-cbde-9432093fa1e5",
        "colab": {
          "base_uri": "https://localhost:8080/"
        }
      },
      "source": [
        "for i in range(100) :\r\n",
        "  print('งง',end= ',')"
      ],
      "execution_count": 20,
      "outputs": [
        {
          "output_type": "stream",
          "text": [
            "งง,งง,งง,งง,งง,งง,งง,งง,งง,งง,งง,งง,งง,งง,งง,งง,งง,งง,งง,งง,งง,งง,งง,งง,งง,งง,งง,งง,งง,งง,งง,งง,งง,งง,งง,งง,งง,งง,งง,งง,งง,งง,งง,งง,งง,งง,งง,งง,งง,งง,งง,งง,งง,งง,งง,งง,งง,งง,งง,งง,งง,งง,งง,งง,งง,งง,งง,งง,งง,งง,งง,งง,งง,งง,งง,งง,งง,งง,งง,งง,งง,งง,งง,งง,งง,งง,งง,งง,งง,งง,งง,งง,งง,งง,งง,งง,งง,งง,งง,งง,"
          ],
          "name": "stdout"
        }
      ]
    },
    {
      "cell_type": "code",
      "metadata": {
        "id": "jHH6O_jTYvXj",
        "outputId": "6bc8a183-eb79-40f7-9a76-fffacc9352ad",
        "colab": {
          "base_uri": "https://localhost:8080/"
        }
      },
      "source": [
        "list(range(1,11)) #เริ่มต้นเป็นวงทีบ จบเป็นวงกลมโปร่ง เหมือน list slicing"
      ],
      "execution_count": 22,
      "outputs": [
        {
          "output_type": "execute_result",
          "data": {
            "text/plain": [
              "[1, 2, 3, 4, 5, 6, 7, 8, 9, 10]"
            ]
          },
          "metadata": {
            "tags": []
          },
          "execution_count": 22
        }
      ]
    },
    {
      "cell_type": "code",
      "metadata": {
        "id": "7RXazdmXY50T",
        "outputId": "703031b3-5b08-4ae6-951b-a5eb248647a1",
        "colab": {
          "base_uri": "https://localhost:8080/"
        }
      },
      "source": [
        "list(range(-3,20,4))"
      ],
      "execution_count": 23,
      "outputs": [
        {
          "output_type": "execute_result",
          "data": {
            "text/plain": [
              "[-3, 1, 5, 9, 13, 17]"
            ]
          },
          "metadata": {
            "tags": []
          },
          "execution_count": 23
        }
      ]
    },
    {
      "cell_type": "markdown",
      "metadata": {
        "id": "vuBTspUDcXfm"
      },
      "source": [
        "## loop ซ้อน loop"
      ]
    },
    {
      "cell_type": "code",
      "metadata": {
        "id": "9I9foydpdEUy",
        "outputId": "6f52a449-7ad9-48ea-f3ef-6e464c149dac",
        "colab": {
          "base_uri": "https://localhost:8080/"
        }
      },
      "source": [
        "for name1 in range(2,5) : #(2,3,4)\r\n",
        "  print(f' now name1 = {name1}')\r\n",
        "  for name2 in range(1,13) : \r\n",
        "    print(name1,' x ',name2,' = ',name1*name2)\r\n"
      ],
      "execution_count": 32,
      "outputs": [
        {
          "output_type": "stream",
          "text": [
            " now name1 = 2\n",
            "2  x  1  =  2\n",
            "2  x  2  =  4\n",
            "2  x  3  =  6\n",
            "2  x  4  =  8\n",
            "2  x  5  =  10\n",
            "2  x  6  =  12\n",
            "2  x  7  =  14\n",
            "2  x  8  =  16\n",
            "2  x  9  =  18\n",
            "2  x  10  =  20\n",
            "2  x  11  =  22\n",
            "2  x  12  =  24\n",
            " now name1 = 3\n",
            "3  x  1  =  3\n",
            "3  x  2  =  6\n",
            "3  x  3  =  9\n",
            "3  x  4  =  12\n",
            "3  x  5  =  15\n",
            "3  x  6  =  18\n",
            "3  x  7  =  21\n",
            "3  x  8  =  24\n",
            "3  x  9  =  27\n",
            "3  x  10  =  30\n",
            "3  x  11  =  33\n",
            "3  x  12  =  36\n",
            " now name1 = 4\n",
            "4  x  1  =  4\n",
            "4  x  2  =  8\n",
            "4  x  3  =  12\n",
            "4  x  4  =  16\n",
            "4  x  5  =  20\n",
            "4  x  6  =  24\n",
            "4  x  7  =  28\n",
            "4  x  8  =  32\n",
            "4  x  9  =  36\n",
            "4  x  10  =  40\n",
            "4  x  11  =  44\n",
            "4  x  12  =  48\n"
          ],
          "name": "stdout"
        }
      ]
    },
    {
      "cell_type": "code",
      "metadata": {
        "id": "haLI3zLtdBCq"
      },
      "source": [
        "\r\n",
        "def print_feeling(I,friends,feeling = 'รัก') :\r\n",
        "  for friend in friends :\r\n",
        "    print(f'{I} {feeling} {friend}')"
      ],
      "execution_count": 44,
      "outputs": []
    },
    {
      "cell_type": "code",
      "metadata": {
        "id": "Q4d8pMMyfkj2",
        "outputId": "533f29c4-a6c6-4ec9-d27f-927a6fceb469",
        "colab": {
          "base_uri": "https://localhost:8080/"
        }
      },
      "source": [
        "list_friends = ['สุนัข','แมว','ช้าง','เขา']\r\n",
        "print_feeling('เธอ',list_friends)"
      ],
      "execution_count": 47,
      "outputs": [
        {
          "output_type": "stream",
          "text": [
            "เธอ รัก สุนัข\n",
            "เธอ รัก แมว\n",
            "เธอ รัก ช้าง\n",
            "เธอ รัก เขา\n"
          ],
          "name": "stdout"
        }
      ]
    },
    {
      "cell_type": "code",
      "metadata": {
        "id": "-vJJiGmqhKCR",
        "outputId": "d2dff41d-371e-4054-8c33-07839a61f3d1",
        "colab": {
          "base_uri": "https://localhost:8080/"
        }
      },
      "source": [
        "print_feeling('เธอ',list_friends, feeling = 'คิดถึง')"
      ],
      "execution_count": 48,
      "outputs": [
        {
          "output_type": "stream",
          "text": [
            "เธอ คิดถึง สุนัข\n",
            "เธอ คิดถึง แมว\n",
            "เธอ คิดถึง ช้าง\n",
            "เธอ คิดถึง เขา\n"
          ],
          "name": "stdout"
        }
      ]
    },
    {
      "cell_type": "markdown",
      "metadata": {
        "id": "KFpzJEdIkCr-"
      },
      "source": [
        "# conditional คือ เงื่อนไข / ประโยคเงื่อนไข"
      ]
    },
    {
      "cell_type": "markdown",
      "metadata": {
        "id": "-oz7OSYtkRdc"
      },
      "source": [
        ""
      ]
    },
    {
      "cell_type": "code",
      "metadata": {
        "id": "vpaZIj7vlaFQ",
        "outputId": "ad5b1e82-80ae-481d-c815-f87a24850d69",
        "colab": {
          "base_uri": "https://localhost:8080/"
        }
      },
      "source": [
        "print(list_friends)"
      ],
      "execution_count": 51,
      "outputs": [
        {
          "output_type": "stream",
          "text": [
            "['สุนัข', 'แมว', 'ช้าง', 'เขา']\n"
          ],
          "name": "stdout"
        }
      ]
    },
    {
      "cell_type": "code",
      "metadata": {
        "id": "GfSychaZkMb5",
        "outputId": "1c9e9c40-dbe7-472b-b3fc-a7dd7f6020bf",
        "colab": {
          "base_uri": "https://localhost:8080/"
        }
      },
      "source": [
        "for name1 in list_friends :\r\n",
        "  for name2 in list_friends : \r\n",
        "    if name1 != name2 : #ไม่ปริ้นชื่อเดียวกัน\r\n",
        "       print(name1, 'รัก' ,name2)"
      ],
      "execution_count": 55,
      "outputs": [
        {
          "output_type": "stream",
          "text": [
            "สุนัข รัก แมว\n",
            "สุนัข รัก ช้าง\n",
            "สุนัข รัก เขา\n",
            "แมว รัก สุนัข\n",
            "แมว รัก ช้าง\n",
            "แมว รัก เขา\n",
            "ช้าง รัก สุนัข\n",
            "ช้าง รัก แมว\n",
            "ช้าง รัก เขา\n",
            "เขา รัก สุนัข\n",
            "เขา รัก แมว\n",
            "เขา รัก ช้าง\n"
          ],
          "name": "stdout"
        }
      ]
    },
    {
      "cell_type": "code",
      "metadata": {
        "id": "pq2hERBflRZO",
        "outputId": "640ba993-225e-4ebe-eacb-3457867720ac",
        "colab": {
          "base_uri": "https://localhost:8080/"
        }
      },
      "source": [
        "for name1 in list_friends :\r\n",
        "  for name2 in list_friends : \r\n",
        "    if name1 == name2 : \r\n",
        "      \r\n",
        "       print(name1, 'รัก' ,name2)"
      ],
      "execution_count": 58,
      "outputs": [
        {
          "output_type": "stream",
          "text": [
            "สุนัข รัก สุนัข\n",
            "แมว รัก แมว\n",
            "ช้าง รัก ช้าง\n",
            "เขา รัก เขา\n"
          ],
          "name": "stdout"
        }
      ]
    },
    {
      "cell_type": "code",
      "metadata": {
        "id": "dw034BAQmNtg",
        "outputId": "bdc329c8-ce87-469b-a4e8-7007a0fadab4",
        "colab": {
          "base_uri": "https://localhost:8080/"
        }
      },
      "source": [
        "for name1 in list_friends :\r\n",
        "  for name2 in list_friends : \r\n",
        "    if name1 == name2 : \r\n",
        "       'รึเปล่า' \r\n",
        "    else :\r\n",
        "       print(name1, 'รัก' ,name2)"
      ],
      "execution_count": 59,
      "outputs": [
        {
          "output_type": "stream",
          "text": [
            "สุนัข รัก แมว\n",
            "สุนัข รัก ช้าง\n",
            "สุนัข รัก เขา\n",
            "แมว รัก สุนัข\n",
            "แมว รัก ช้าง\n",
            "แมว รัก เขา\n",
            "ช้าง รัก สุนัข\n",
            "ช้าง รัก แมว\n",
            "ช้าง รัก เขา\n",
            "เขา รัก สุนัข\n",
            "เขา รัก แมว\n",
            "เขา รัก ช้าง\n"
          ],
          "name": "stdout"
        }
      ]
    },
    {
      "cell_type": "code",
      "metadata": {
        "id": "d46bPT0ZncJk",
        "outputId": "d2d2e08b-ceb6-4c59-c48b-516a696ef0ca",
        "colab": {
          "base_uri": "https://localhost:8080/"
        }
      },
      "source": [
        "if True :\r\n",
        "  print('Yes')"
      ],
      "execution_count": 67,
      "outputs": [
        {
          "output_type": "stream",
          "text": [
            "Yes\n"
          ],
          "name": "stdout"
        }
      ]
    }
  ]
}