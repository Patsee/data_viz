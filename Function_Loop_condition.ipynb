{
  "nbformat": 4,
  "nbformat_minor": 0,
  "metadata": {
    "colab": {
      "name": "Function_Loop_condition.ipynb",
      "provenance": [],
      "authorship_tag": "ABX9TyNKGuVTPtdFWI7p+dAzGGOM",
      "include_colab_link": true
    },
    "kernelspec": {
      "name": "python3",
      "display_name": "Python 3"
    }
  },
  "cells": [
    {
      "cell_type": "markdown",
      "metadata": {
        "id": "view-in-github",
        "colab_type": "text"
      },
      "source": [
        "<a href=\"https://colab.research.google.com/github/Patsee/data_viz/blob/main/Function_Loop_condition.ipynb\" target=\"_parent\"><img src=\"https://colab.research.google.com/assets/colab-badge.svg\" alt=\"Open In Colab\"/></a>"
      ]
    },
    {
      "cell_type": "markdown",
      "metadata": {
        "id": "86XhIkonfgnp"
      },
      "source": [
        "### Function"
      ]
    },
    {
      "cell_type": "code",
      "metadata": {
        "colab": {
          "base_uri": "https://localhost:8080/"
        },
        "id": "dfwwwuivffE0",
        "outputId": "a28c1fad-742d-4dd2-e014-103f76ae3ccb"
      },
      "source": [
        "name = 'พัสกร'\r\n",
        "surname = 'ปัดสี'\r\n",
        "ID = '613020194-6'\r\n",
        "\r\n",
        "b = f' ชื่อ { name } นามสกุล { surname }  รหัส { ID } '\r\n",
        "print(b)"
      ],
      "execution_count": null,
      "outputs": [
        {
          "output_type": "stream",
          "text": [
            " ชื่อ พัสกร นามสกุล ปัดสี  รหัส 613020194-6 \n"
          ],
          "name": "stdout"
        }
      ]
    },
    {
      "cell_type": "markdown",
      "metadata": {
        "id": "1rUcmPjFgyNK"
      },
      "source": [
        "Function  template \\\r\n",
        "ทำหน้าที่รับ input มาประมวณผลออกมาเป็น output \\\r\n",
        "f(x) = y"
      ]
    },
    {
      "cell_type": "markdown",
      "metadata": {
        "id": "1ZDg31qnhMII"
      },
      "source": [
        "# def คือ การกำหนดฟังก์ชัน"
      ]
    },
    {
      "cell_type": "markdown",
      "metadata": {
        "id": "BEZuSFLMjPC-"
      },
      "source": [
        "def function_name(_Input) : \\\r\n",
        "  do_something with _Input_to get _Output \\\r\n",
        "  return _output_ \\\r\n",
        "  back tick ( ) ==> กดค้าง ~ alt+96 \\\r\n",
        "  tilde (~)\r\n",
        "  curly blacket ({ }) \\\r\n",
        "  square blacket ([ ])\r\n"
      ]
    },
    {
      "cell_type": "markdown",
      "metadata": {
        "id": "NDMzdaXZkMFF"
      },
      "source": [
        "## ตัวอย่างการเขียน normal function"
      ]
    },
    {
      "cell_type": "code",
      "metadata": {
        "colab": {
          "base_uri": "https://localhost:8080/",
          "height": 128
        },
        "id": "ihiQtrZuhqmo",
        "outputId": "5ff32273-03a0-4e8e-d6ec-6dab5dd74563"
      },
      "source": [
        "def print_name(name,surname,id ) :\r\n",
        "st = f' ชื่อ {name} นามสกุล {surname} รหัส {id} '\r\n",
        "return st\r\n"
      ],
      "execution_count": null,
      "outputs": [
        {
          "output_type": "error",
          "ename": "IndentationError",
          "evalue": "ignored",
          "traceback": [
            "\u001b[0;36m  File \u001b[0;32m\"<ipython-input-59-8b1e29a33ebc>\"\u001b[0;36m, line \u001b[0;32m2\u001b[0m\n\u001b[0;31m    st = f' ชื่อ {name} นามสกุล {surname} รหัส {id} '\u001b[0m\n\u001b[0m     ^\u001b[0m\n\u001b[0;31mIndentationError\u001b[0m\u001b[0;31m:\u001b[0m expected an indented block\n"
          ]
        }
      ]
    },
    {
      "cell_type": "code",
      "metadata": {
        "colab": {
          "base_uri": "https://localhost:8080/",
          "height": 162
        },
        "id": "En3qmj-Vkyec",
        "outputId": "fa98e764-f117-4b5c-d6ca-2e1bb90d6eb1"
      },
      "source": [
        "print_name('ปัดสี' , '613020194-6' , 'พัสกร')"
      ],
      "execution_count": null,
      "outputs": [
        {
          "output_type": "error",
          "ename": "NameError",
          "evalue": "ignored",
          "traceback": [
            "\u001b[0;31m---------------------------------------------------------------------------\u001b[0m",
            "\u001b[0;31mNameError\u001b[0m                                 Traceback (most recent call last)",
            "\u001b[0;32m<ipython-input-53-a6deba4509e0>\u001b[0m in \u001b[0;36m<module>\u001b[0;34m()\u001b[0m\n\u001b[0;32m----> 1\u001b[0;31m \u001b[0mprint_name\u001b[0m\u001b[0;34m(\u001b[0m\u001b[0;34m'ปัดสี'\u001b[0m \u001b[0;34m,\u001b[0m \u001b[0;34m'613020194-6'\u001b[0m \u001b[0;34m,\u001b[0m \u001b[0;34m'พัสกร'\u001b[0m\u001b[0;34m)\u001b[0m\u001b[0;34m\u001b[0m\u001b[0;34m\u001b[0m\u001b[0m\n\u001b[0m",
            "\u001b[0;31mNameError\u001b[0m: name 'print_name' is not defined"
          ]
        }
      ]
    },
    {
      "cell_type": "code",
      "metadata": {
        "colab": {
          "base_uri": "https://localhost:8080/",
          "height": 128
        },
        "id": "bIAfKVGFlRHK",
        "outputId": "10e6c605-49b7-41c4-a9c0-607aca6e0c0d"
      },
      "source": [
        "def print_name2(surname,ID,name ) :\r\n",
        "          st = f' ชื่อ  {name}  นามสกุล  {surname}  รหัส  {ID}'\r\n",
        "       print(st) \r\n",
        "           "
      ],
      "execution_count": null,
      "outputs": [
        {
          "output_type": "error",
          "ename": "IndentationError",
          "evalue": "ignored",
          "traceback": [
            "\u001b[0;36m  File \u001b[0;32m\"<ipython-input-56-f3b76d132912>\"\u001b[0;36m, line \u001b[0;32m3\u001b[0m\n\u001b[0;31m    print(st)\u001b[0m\n\u001b[0m              ^\u001b[0m\n\u001b[0;31mIndentationError\u001b[0m\u001b[0;31m:\u001b[0m unindent does not match any outer indentation level\n"
          ]
        }
      ]
    },
    {
      "cell_type": "code",
      "metadata": {
        "colab": {
          "base_uri": "https://localhost:8080/",
          "height": 162
        },
        "id": "l2gabyqopvPb",
        "outputId": "6bc256a3-c081-48eb-90de-c1e42829cbc0"
      },
      "source": [
        "print_name2(name='พัสกร', surname='ปัดสี', ID='613020194-6')"
      ],
      "execution_count": null,
      "outputs": [
        {
          "output_type": "error",
          "ename": "NameError",
          "evalue": "ignored",
          "traceback": [
            "\u001b[0;31m---------------------------------------------------------------------------\u001b[0m",
            "\u001b[0;31mNameError\u001b[0m                                 Traceback (most recent call last)",
            "\u001b[0;32m<ipython-input-36-8cc3534a01c0>\u001b[0m in \u001b[0;36m<module>\u001b[0;34m()\u001b[0m\n\u001b[0;32m----> 1\u001b[0;31m \u001b[0mprint_name2\u001b[0m\u001b[0;34m(\u001b[0m\u001b[0mname\u001b[0m\u001b[0;34m=\u001b[0m\u001b[0;34m'พัสกร'\u001b[0m\u001b[0;34m,\u001b[0m\u001b[0msurname\u001b[0m\u001b[0;34m=\u001b[0m\u001b[0;34m'ปัดสี'\u001b[0m\u001b[0;34m,\u001b[0m\u001b[0mID\u001b[0m\u001b[0;34m=\u001b[0m\u001b[0;34m'613020194-6'\u001b[0m\u001b[0;34m)\u001b[0m\u001b[0;34m\u001b[0m\u001b[0;34m\u001b[0m\u001b[0m\n\u001b[0m",
            "\u001b[0;31mNameError\u001b[0m: name 'print_name2' is not defined"
          ]
        }
      ]
    },
    {
      "cell_type": "markdown",
      "metadata": {
        "id": "1nCklqonqT93"
      },
      "source": [
        "ฟังก์ชัน ไม่จำเป็นต้องมี input\r\n"
      ]
    },
    {
      "cell_type": "code",
      "metadata": {
        "id": "AS9RRZVpqCJt"
      },
      "source": [
        "def Pi() :\r\n",
        "    return 3.1415"
      ],
      "execution_count": null,
      "outputs": []
    },
    {
      "cell_type": "code",
      "metadata": {
        "colab": {
          "base_uri": "https://localhost:8080/"
        },
        "id": "3wt0nArbquN5",
        "outputId": "568ad519-54b8-4976-d816-27f13815976d"
      },
      "source": [
        "Pi()*(2**2) #หาพื้นที่วงกลมที่มีรัศมีเท่ากับ pi*r^2\r\n",
        "\r\n"
      ],
      "execution_count": null,
      "outputs": [
        {
          "output_type": "execute_result",
          "data": {
            "text/plain": [
              "12.566"
            ]
          },
          "metadata": {
            "tags": []
          },
          "execution_count": 42
        }
      ]
    },
    {
      "cell_type": "markdown",
      "metadata": {
        "id": "Af5rTPhsrcdL"
      },
      "source": [
        "## เราสามารถกำหนดค่า default ให้กับฟังก์ชันได้"
      ]
    },
    {
      "cell_type": "code",
      "metadata": {
        "id": "3LmlB2PjruH-"
      },
      "source": [
        "def  print_2line_default(name,surname,ID,grade='F') :\r\n",
        "  st = f' ชื่อ {name} นามสกุล {surname} รหัส {ID} '\r\n",
        "  print(st)\r\n",
        "  st2=f'เกรดวิชา Data >>> {grade}'\r\n",
        "  print(st2)"
      ],
      "execution_count": null,
      "outputs": []
    },
    {
      "cell_type": "code",
      "metadata": {
        "colab": {
          "base_uri": "https://localhost:8080/"
        },
        "id": "zH8EyzlgruFm",
        "outputId": "f9db1b25-f328-406d-fa79-fb705255d578"
      },
      "source": [
        "print_2line_default('พัสกร' , 'ปัดสี', '613020194-6')"
      ],
      "execution_count": null,
      "outputs": [
        {
          "output_type": "stream",
          "text": [
            " ชื่อ  พัสกร  นามสกุล  ปัดสี  รหัส  613020194-6 \n",
            "เกรดวิชา Data >>> F\n"
          ],
          "name": "stdout"
        }
      ]
    },
    {
      "cell_type": "code",
      "metadata": {
        "colab": {
          "base_uri": "https://localhost:8080/"
        },
        "id": "XsIBkKisruCm",
        "outputId": "a2b34dc9-e6f7-466a-a022-1cab2bbb1f59"
      },
      "source": [
        "print_2line_default('พัสกร' , 'ปัดสี', '613020194-6','A')"
      ],
      "execution_count": null,
      "outputs": [
        {
          "output_type": "stream",
          "text": [
            " ชื่อ  พัสกร  นามสกุล  ปัดสี  รหัส  613020194-6 \n",
            "เกรดวิชา Data >>> A\n"
          ],
          "name": "stdout"
        }
      ]
    },
    {
      "cell_type": "markdown",
      "metadata": {
        "id": "J8lXwQp5tvTy"
      },
      "source": [
        ""
      ]
    },
    {
      "cell_type": "markdown",
      "metadata": {
        "id": "DPmAzLMO0ZA1"
      },
      "source": [
        "### LOOP การวนซ้ำ \r\n",
        " for เป็นคำที่ใช้บอก python ว่าเรากำลังเขียน loop "
      ]
    },
    {
      "cell_type": "markdown",
      "metadata": {
        "id": "6aSaAI740gY-"
      },
      "source": [
        "for  each_member in list A :\r\n",
        "do something"
      ]
    },
    {
      "cell_type": "code",
      "metadata": {
        "colab": {
          "base_uri": "https://localhost:8080/"
        },
        "id": "UodYKXun0f7y",
        "outputId": "35016b70-1af5-4da5-9dc3-554d480d15b8"
      },
      "source": [
        "for i in [1,2,3] :\r\n",
        "  o = i**2\r\n",
        "  print  (f'this member = {i} after process =  {o}')"
      ],
      "execution_count": null,
      "outputs": [
        {
          "output_type": "stream",
          "text": [
            "this member = 1 after process =  1\n",
            "this member = 2 after process =  4\n",
            "this member = 3 after process =  9\n"
          ],
          "name": "stdout"
        }
      ]
    },
    {
      "cell_type": "markdown",
      "metadata": {
        "id": "4yIfbD90-NWN"
      },
      "source": [
        "## HW 3\r\n",
        "## ให้สร้าง list ของเวลา แล้ววนลูปเรียกฟังก์ชันคำนวณเวลาเป็นวินาที"
      ]
    },
    {
      "cell_type": "code",
      "metadata": {
        "id": "IxczCEy-tu7E",
        "colab": {
          "base_uri": "https://localhost:8080/"
        },
        "outputId": "2e229f3b-8d00-4fbc-bc97-f28b74f79531"
      },
      "source": [
        "for time in ['12:30:15','13:41:07','12:53:15','00:59:25','11:11:11','16:06:09'] :\r\n",
        "  DT = time.split(':')\r\n",
        "  hour = int(DT[0])*3600\r\n",
        "  min = int(DT[1])*60\r\n",
        "  sec = int(DT[2])\r\n",
        "  tt = hour + min + sec\r\n",
        "  print  (f'ในเวลา  {time} มีเวลาเป็นวินาทีเท่ากับ  {tt} วินาที ')"
      ],
      "execution_count": 18,
      "outputs": [
        {
          "output_type": "stream",
          "text": [
            "ในเวลา  12:30:15 มีเวลาเป็นวินาทีเท่ากับ  45015 วินาที \n",
            "ในเวลา  13:41:07 มีเวลาเป็นวินาทีเท่ากับ  49267 วินาที \n",
            "ในเวลา  12:53:15 มีเวลาเป็นวินาทีเท่ากับ  46395 วินาที \n",
            "ในเวลา  00:59:25 มีเวลาเป็นวินาทีเท่ากับ  3565 วินาที \n",
            "ในเวลา  11:11:11 มีเวลาเป็นวินาทีเท่ากับ  40271 วินาที \n",
            "ในเวลา  16:06:09 มีเวลาเป็นวินาทีเท่ากับ  57969 วินาที \n"
          ],
          "name": "stdout"
        }
      ]
    },
    {
      "cell_type": "code",
      "metadata": {
        "id": "raW7rQCzqywx"
      },
      "source": [
        ""
      ],
      "execution_count": null,
      "outputs": []
    }
  ]
}