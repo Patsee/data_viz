{
  "nbformat": 4,
  "nbformat_minor": 0,
  "metadata": {
    "colab": {
      "name": "More advanced data structure.ipynb",
      "provenance": [],
      "authorship_tag": "ABX9TyP7hMPT/WGkTxmAoOkuewnJ",
      "include_colab_link": true
    },
    "kernelspec": {
      "name": "python3",
      "display_name": "Python 3"
    }
  },
  "cells": [
    {
      "cell_type": "markdown",
      "metadata": {
        "id": "view-in-github",
        "colab_type": "text"
      },
      "source": [
        "<a href=\"https://colab.research.google.com/github/Patsee/data_viz/blob/main/More_advanced_data_structure.ipynb\" target=\"_parent\"><img src=\"https://colab.research.google.com/assets/colab-badge.svg\" alt=\"Open In Colab\"/></a>"
      ]
    },
    {
      "cell_type": "markdown",
      "metadata": {
        "id": "wylJx9rfnX5p"
      },
      "source": [
        "# Dictionary\r\n",
        "สามารถ index ด้วยอะไรก็ได้ แต่ลำดับจะหายไป"
      ]
    },
    {
      "cell_type": "code",
      "metadata": {
        "id": "CZIGhgWplqEJ"
      },
      "source": [
        "ex_dict = {'a' : 1 ,'1' :1, 'stat' :5} #curly bracket ในการบอกว่าเป็น dict"
      ],
      "execution_count": null,
      "outputs": []
    },
    {
      "cell_type": "code",
      "metadata": {
        "colab": {
          "base_uri": "https://localhost:8080/"
        },
        "id": "3Iob3TrEpL0l",
        "outputId": "74f4c73a-b53f-4624-9a04-f223b3096ce3"
      },
      "source": [
        "ex_dict['stat']"
      ],
      "execution_count": null,
      "outputs": [
        {
          "output_type": "execute_result",
          "data": {
            "text/plain": [
              "5"
            ]
          },
          "metadata": {
            "tags": []
          },
          "execution_count": 4
        }
      ]
    },
    {
      "cell_type": "code",
      "metadata": {
        "id": "gu0IuJL6pZiD"
      },
      "source": [
        "ex2_dict = {1:'one', 2:'two', 3 : 'three' }"
      ],
      "execution_count": null,
      "outputs": []
    },
    {
      "cell_type": "code",
      "metadata": {
        "colab": {
          "base_uri": "https://localhost:8080/",
          "height": 34
        },
        "id": "Ni4yg90Op8KG",
        "outputId": "4087c679-e54b-4915-f5ea-5c409f050356"
      },
      "source": [
        "ex2_dict[2]"
      ],
      "execution_count": null,
      "outputs": [
        {
          "output_type": "execute_result",
          "data": {
            "application/vnd.google.colaboratory.intrinsic+json": {
              "type": "string"
            },
            "text/plain": [
              "'two'"
            ]
          },
          "metadata": {
            "tags": []
          },
          "execution_count": 9
        }
      ]
    },
    {
      "cell_type": "markdown",
      "metadata": {
        "id": "zUUulldsqUZG"
      },
      "source": [
        "#### การเพิ่มสมาชิก"
      ]
    },
    {
      "cell_type": "code",
      "metadata": {
        "id": "iIT9oD5tp9wM"
      },
      "source": [
        "ex2_dict[0] = 'zero'"
      ],
      "execution_count": null,
      "outputs": []
    },
    {
      "cell_type": "code",
      "metadata": {
        "colab": {
          "base_uri": "https://localhost:8080/"
        },
        "id": "0IhU43SDqtz7",
        "outputId": "28b000c7-cea5-4e07-9920-c9dee1eed582"
      },
      "source": [
        "ex2_dict"
      ],
      "execution_count": null,
      "outputs": [
        {
          "output_type": "execute_result",
          "data": {
            "text/plain": [
              "{0: 'zero', 1: 'one', 2: 'two', 3: 'three'}"
            ]
          },
          "metadata": {
            "tags": []
          },
          "execution_count": 12
        }
      ]
    },
    {
      "cell_type": "markdown",
      "metadata": {
        "id": "qDTyzfPxq2BR"
      },
      "source": [
        "คำสั่ง"
      ]
    },
    {
      "cell_type": "code",
      "metadata": {
        "colab": {
          "base_uri": "https://localhost:8080/"
        },
        "id": "t1N_cfX7q07Q",
        "outputId": "0408e0c5-d7e5-455b-87c9-7ce5a0e717c5"
      },
      "source": [
        "ex2_dict.keys()"
      ],
      "execution_count": null,
      "outputs": [
        {
          "output_type": "execute_result",
          "data": {
            "text/plain": [
              "dict_keys([1, 2, 3, 0])"
            ]
          },
          "metadata": {
            "tags": []
          },
          "execution_count": 13
        }
      ]
    },
    {
      "cell_type": "code",
      "metadata": {
        "colab": {
          "base_uri": "https://localhost:8080/"
        },
        "id": "69k74xeqrAaI",
        "outputId": "6293683e-3c6b-48ae-8486-355626234b5c"
      },
      "source": [
        "for  index in ex2_dict.keys() :\r\n",
        "   print(index)"
      ],
      "execution_count": null,
      "outputs": [
        {
          "output_type": "stream",
          "text": [
            "1\n",
            "2\n",
            "3\n",
            "0\n"
          ],
          "name": "stdout"
        }
      ]
    },
    {
      "cell_type": "code",
      "metadata": {
        "colab": {
          "base_uri": "https://localhost:8080/"
        },
        "id": "wAv4lmGsrOJq",
        "outputId": "cb5849c5-2159-439a-9fc3-54763447f733"
      },
      "source": [
        "ex2_dict.values()"
      ],
      "execution_count": null,
      "outputs": [
        {
          "output_type": "execute_result",
          "data": {
            "text/plain": [
              "dict_values(['one', 'two', 'three', 'zero'])"
            ]
          },
          "metadata": {
            "tags": []
          },
          "execution_count": 21
        }
      ]
    },
    {
      "cell_type": "code",
      "metadata": {
        "colab": {
          "base_uri": "https://localhost:8080/"
        },
        "id": "8MEBbt2yrxqg",
        "outputId": "08850421-e336-4d81-a3f3-53f69a1286c4"
      },
      "source": [
        "index"
      ],
      "execution_count": null,
      "outputs": [
        {
          "output_type": "execute_result",
          "data": {
            "text/plain": [
              "0"
            ]
          },
          "metadata": {
            "tags": []
          },
          "execution_count": 22
        }
      ]
    },
    {
      "cell_type": "markdown",
      "metadata": {
        "id": "mxyEgblzt2cc"
      },
      "source": [
        "numpy"
      ]
    },
    {
      "cell_type": "markdown",
      "metadata": {
        "id": "XNHV5OkSt9vV"
      },
      "source": [
        "numpy คือ package ที่ทำงานเกี่ยวกับ array ของตัวเลข(ที่มีคนเขียนขึ้นมาและนิยมใช้) \\\r\n",
        "numpy -> number python"
      ]
    },
    {
      "cell_type": "code",
      "metadata": {
        "id": "UEqHDlNcs3V0"
      },
      "source": [
        "import numpy #วิธีเรียกใช้งาน package"
      ],
      "execution_count": null,
      "outputs": []
    },
    {
      "cell_type": "code",
      "metadata": {
        "colab": {
          "base_uri": "https://localhost:8080/"
        },
        "id": "fSyz8nL2uoNo",
        "outputId": "fa66a59d-f9ca-450c-aa0c-55958e212ed3"
      },
      "source": [
        "ex_2d_array = numpy.array([[5.2,3.0,4.5],[9.1,0.1,0.3]])\r\n",
        "print(ex_2d_array)"
      ],
      "execution_count": null,
      "outputs": [
        {
          "output_type": "stream",
          "text": [
            "[[5.2 3.  4.5]\n",
            " [9.1 0.1 0.3]]\n"
          ],
          "name": "stdout"
        }
      ]
    },
    {
      "cell_type": "code",
      "metadata": {
        "colab": {
          "base_uri": "https://localhost:8080/"
        },
        "id": "glZmOxOFvB1B",
        "outputId": "30c83c30-f25e-4fb7-bed9-f6a290eb1cdd"
      },
      "source": [
        "ex_2d_array[1,2]"
      ],
      "execution_count": null,
      "outputs": [
        {
          "output_type": "execute_result",
          "data": {
            "text/plain": [
              "0.3"
            ]
          },
          "metadata": {
            "tags": []
          },
          "execution_count": 30
        }
      ]
    },
    {
      "cell_type": "code",
      "metadata": {
        "colab": {
          "base_uri": "https://localhost:8080/"
        },
        "id": "vABF9wzwwB8O",
        "outputId": "4d00c019-7e23-404a-e589-6f8bf4747b11"
      },
      "source": [
        "list_x = [[5.2,3.0,4.5],[9.1,0.1,0.3]] #การชี้ list\r\n",
        "print(len(list_x))\r\n",
        "print(list_x[1])\r\n",
        "print(list_x[1][2])"
      ],
      "execution_count": null,
      "outputs": [
        {
          "output_type": "stream",
          "text": [
            "2\n",
            "[9.1, 0.1, 0.3]\n",
            "0.3\n"
          ],
          "name": "stdout"
        }
      ]
    },
    {
      "cell_type": "markdown",
      "metadata": {
        "id": "L82SQi6ex7Xr"
      },
      "source": [
        "### operatios"
      ]
    },
    {
      "cell_type": "code",
      "metadata": {
        "colab": {
          "base_uri": "https://localhost:8080/"
        },
        "id": "KdCSrbqNwZOm",
        "outputId": "d86f19be-634e-4653-a506-82a027a4c593"
      },
      "source": [
        "ex2_2d_array = numpy.array([[1,0,0],[0,0,1]])\r\n",
        "print(ex2_2d_array)\r\n",
        "print(ex_2d_array)"
      ],
      "execution_count": null,
      "outputs": [
        {
          "output_type": "stream",
          "text": [
            "[[1 0 0]\n",
            " [0 0 1]]\n",
            "[[5.2 3.  4.5]\n",
            " [9.1 0.1 0.3]]\n"
          ],
          "name": "stdout"
        }
      ]
    },
    {
      "cell_type": "code",
      "metadata": {
        "colab": {
          "base_uri": "https://localhost:8080/"
        },
        "id": "4nSWqm7lyQiK",
        "outputId": "17f3c762-80a3-4686-ad91-1e72a4a32f85"
      },
      "source": [
        "ex_2d_array.shape #ตรวจสอบขนาดของ matrix"
      ],
      "execution_count": null,
      "outputs": [
        {
          "output_type": "execute_result",
          "data": {
            "text/plain": [
              "(2, 3)"
            ]
          },
          "metadata": {
            "tags": []
          },
          "execution_count": 38
        }
      ]
    },
    {
      "cell_type": "code",
      "metadata": {
        "colab": {
          "base_uri": "https://localhost:8080/"
        },
        "id": "tA9KScuXykXm",
        "outputId": "e842bfc3-d1da-4e2b-ded3-daf3be9e7df6"
      },
      "source": [
        "ex_2d_array + ex2_2d_array"
      ],
      "execution_count": null,
      "outputs": [
        {
          "output_type": "execute_result",
          "data": {
            "text/plain": [
              "array([[6.2, 3. , 4.5],\n",
              "       [9.1, 0.1, 1.3]])"
            ]
          },
          "metadata": {
            "tags": []
          },
          "execution_count": 39
        }
      ]
    },
    {
      "cell_type": "code",
      "metadata": {
        "colab": {
          "base_uri": "https://localhost:8080/"
        },
        "id": "EtC2_THQy1rk",
        "outputId": "66197408-172b-4df9-8b31-46571befb6c0"
      },
      "source": [
        "list_x = [[5.2,3.0,4.5],[9.1,0.1,0.3]] \r\n",
        "list_x2 = [[1,0,1],[0,1,1]] \r\n",
        "list_x + list_x2"
      ],
      "execution_count": null,
      "outputs": [
        {
          "output_type": "execute_result",
          "data": {
            "text/plain": [
              "[[5.2, 3.0, 4.5], [9.1, 0.1, 0.3], [1, 0, 1], [0, 1, 1]]"
            ]
          },
          "metadata": {
            "tags": []
          },
          "execution_count": 55
        }
      ]
    },
    {
      "cell_type": "code",
      "metadata": {
        "colab": {
          "base_uri": "https://localhost:8080/"
        },
        "id": "JhHFRI9lzYpM",
        "outputId": "e98f6c52-41c6-4898-e75d-770c2fbc62ac"
      },
      "source": [
        "ex_2d_array * ex2_2d_array"
      ],
      "execution_count": null,
      "outputs": [
        {
          "output_type": "execute_result",
          "data": {
            "text/plain": [
              "array([[5.2, 0. , 0. ],\n",
              "       [0. , 0. , 0.3]])"
            ]
          },
          "metadata": {
            "tags": []
          },
          "execution_count": 56
        }
      ]
    },
    {
      "cell_type": "markdown",
      "metadata": {
        "id": "cm1CI3Nq1Qae"
      },
      "source": [
        ""
      ]
    },
    {
      "cell_type": "code",
      "metadata": {
        "colab": {
          "base_uri": "https://localhost:8080/"
        },
        "id": "toKQTa1s15h3",
        "outputId": "bedf55af-056e-45a0-9350-fce548830c76"
      },
      "source": [
        "print(ex_2d_array)\r\n",
        "print(ex_2d_array.T)"
      ],
      "execution_count": null,
      "outputs": [
        {
          "output_type": "stream",
          "text": [
            "[[5.2 3.  4.5]\n",
            " [9.1 0.1 0.3]]\n",
            "[[5.2 9.1]\n",
            " [3.  0.1]\n",
            " [4.5 0.3]]\n"
          ],
          "name": "stdout"
        }
      ]
    },
    {
      "cell_type": "code",
      "metadata": {
        "colab": {
          "base_uri": "https://localhost:8080/"
        },
        "id": "B4Xw_SUr2DF3",
        "outputId": "9f9aa5c1-df22-48f8-abe6-50722dbb5398"
      },
      "source": [
        "dot_mat = numpy.dot(ex_2d_array.T,ex2_2d_array)\r\n",
        "print(dot_mat)"
      ],
      "execution_count": null,
      "outputs": [
        {
          "output_type": "stream",
          "text": [
            "[[5.2 0.  9.1]\n",
            " [3.  0.  0.1]\n",
            " [4.5 0.  0.3]]\n"
          ],
          "name": "stdout"
        }
      ]
    },
    {
      "cell_type": "markdown",
      "metadata": {
        "id": "yLEduLWo3vyp"
      },
      "source": [
        "search google -> web stackoverflow"
      ]
    },
    {
      "cell_type": "code",
      "metadata": {
        "colab": {
          "base_uri": "https://localhost:8080/"
        },
        "id": "1Y9slSYv2GWd",
        "outputId": "bb123ced-b37b-4412-d99d-54cf5de9f1a8"
      },
      "source": [
        "numpy.linalg.det(dot_mat)\r\n"
      ],
      "execution_count": null,
      "outputs": [
        {
          "output_type": "execute_result",
          "data": {
            "text/plain": [
              "0.0"
            ]
          },
          "metadata": {
            "tags": []
          },
          "execution_count": 59
        }
      ]
    },
    {
      "cell_type": "code",
      "metadata": {
        "id": "lOTYHRIg5W7A"
      },
      "source": [
        ""
      ],
      "execution_count": null,
      "outputs": []
    },
    {
      "cell_type": "markdown",
      "metadata": {
        "id": "whquOGr45WCW"
      },
      "source": [
        "## matrix slicing"
      ]
    },
    {
      "cell_type": "code",
      "metadata": {
        "colab": {
          "base_uri": "https://localhost:8080/"
        },
        "id": "6YuuIk-23Lfp",
        "outputId": "1cef2b24-df5c-4b0b-cf9e-ca3f599737db"
      },
      "source": [
        "print(ex_2d_array)"
      ],
      "execution_count": null,
      "outputs": [
        {
          "output_type": "stream",
          "text": [
            "[[5.2 3.  4.5]\n",
            " [9.1 0.1 0.3]]\n"
          ],
          "name": "stdout"
        }
      ]
    },
    {
      "cell_type": "code",
      "metadata": {
        "colab": {
          "base_uri": "https://localhost:8080/"
        },
        "id": "e9lDJD-F5rv5",
        "outputId": "fd49799e-ede3-452e-f7c1-b6b95f91b0f6"
      },
      "source": [
        "ex_2d_array[1,1:]"
      ],
      "execution_count": null,
      "outputs": [
        {
          "output_type": "execute_result",
          "data": {
            "text/plain": [
              "array([0.1, 0.3])"
            ]
          },
          "metadata": {
            "tags": []
          },
          "execution_count": 62
        }
      ]
    },
    {
      "cell_type": "code",
      "metadata": {
        "colab": {
          "base_uri": "https://localhost:8080/"
        },
        "id": "FbhLeYgP54_c",
        "outputId": "9cb0cbe5-61c4-434f-d7fe-2f9ebfbd67d9"
      },
      "source": [
        "ex_2d_array[:,:2]"
      ],
      "execution_count": null,
      "outputs": [
        {
          "output_type": "execute_result",
          "data": {
            "text/plain": [
              "array([[5.2, 3. ],\n",
              "       [9.1, 0.1]])"
            ]
          },
          "metadata": {
            "tags": []
          },
          "execution_count": 63
        }
      ]
    },
    {
      "cell_type": "markdown",
      "metadata": {
        "id": "fz2wwd4s4bqK"
      },
      "source": [
        "### HW 5\r\n"
      ]
    },
    {
      "cell_type": "markdown",
      "metadata": {
        "id": "dwEDXqDx4ezw"
      },
      "source": [
        "เขียน function คูณ matrix \\\r\n",
        "แล้ว test กับ matrix \\\r\n",
        "(2,3)*(3,2)  \\\r\n",
        "(4,4)*(4,1)  \\\r\n",
        "(2,2)*(2,2)  \\"
      ]
    },
    {
      "cell_type": "code",
      "metadata": {
        "id": "PiU0wzuSQzvU"
      },
      "source": [
        "import numpy as nup"
      ],
      "execution_count": null,
      "outputs": []
    },
    {
      "cell_type": "code",
      "metadata": {
        "colab": {
          "base_uri": "https://localhost:8080/"
        },
        "id": "jx8xZ5NYn8r2",
        "outputId": "8ee418f2-46e5-4c39-f681-ce051efad04b"
      },
      "source": [
        "M_1 = nup.array([[3,5,6],[5,6,2]])\r\n",
        "M_1 #matrix 2*3"
      ],
      "execution_count": null,
      "outputs": [
        {
          "output_type": "execute_result",
          "data": {
            "text/plain": [
              "array([[3, 5, 6],\n",
              "       [5, 6, 2]])"
            ]
          },
          "metadata": {
            "tags": []
          },
          "execution_count": 64
        }
      ]
    },
    {
      "cell_type": "code",
      "metadata": {
        "colab": {
          "base_uri": "https://localhost:8080/"
        },
        "id": "J7SN3CMuoDVd",
        "outputId": "e32c694b-609d-4b14-c581-45d1fea004bd"
      },
      "source": [
        "M_2 = nup.array([[23,12],[61,18],[12,9]])\r\n",
        "M_2  #matrix 3*2"
      ],
      "execution_count": null,
      "outputs": [
        {
          "output_type": "execute_result",
          "data": {
            "text/plain": [
              "array([[23, 12],\n",
              "       [61, 18],\n",
              "       [12,  9]])"
            ]
          },
          "metadata": {
            "tags": []
          },
          "execution_count": 65
        }
      ]
    },
    {
      "cell_type": "code",
      "metadata": {
        "colab": {
          "base_uri": "https://localhost:8080/"
        },
        "id": "i1ew5nAroPkh",
        "outputId": "e691e861-71a7-42ba-bcc8-bf476fbf1f61"
      },
      "source": [
        "M_3 = nup.array([[4,10,12,5],[6,3,4,9,],[15,20,32,11],[10,21,8,7]])\r\n",
        "M_3 #matrix 4*4"
      ],
      "execution_count": null,
      "outputs": [
        {
          "output_type": "execute_result",
          "data": {
            "text/plain": [
              "array([[ 4, 10, 12,  5],\n",
              "       [ 6,  3,  4,  9],\n",
              "       [15, 20, 32, 11],\n",
              "       [10, 21,  8,  7]])"
            ]
          },
          "metadata": {
            "tags": []
          },
          "execution_count": 66
        }
      ]
    },
    {
      "cell_type": "code",
      "metadata": {
        "colab": {
          "base_uri": "https://localhost:8080/"
        },
        "id": "RqM3VfJsoT1L",
        "outputId": "72bc65c2-3b91-465a-aa06-75acb1b80acf"
      },
      "source": [
        "M_4 = nup.array([[23],[23],[12],[17]])\r\n",
        "M_4 #matrix 4*1"
      ],
      "execution_count": null,
      "outputs": [
        {
          "output_type": "execute_result",
          "data": {
            "text/plain": [
              "array([[23],\n",
              "       [23],\n",
              "       [12],\n",
              "       [17]])"
            ]
          },
          "metadata": {
            "tags": []
          },
          "execution_count": 67
        }
      ]
    },
    {
      "cell_type": "code",
      "metadata": {
        "colab": {
          "base_uri": "https://localhost:8080/"
        },
        "id": "sPvt33TEomvi",
        "outputId": "654acfe6-4e9a-4aaa-c8d8-6997fd50f0c3"
      },
      "source": [
        "M_5 = nup.array([[3,7],[8,3]])\r\n",
        "M_5 #matrix 2*2"
      ],
      "execution_count": null,
      "outputs": [
        {
          "output_type": "execute_result",
          "data": {
            "text/plain": [
              "array([[3, 7],\n",
              "       [8, 3]])"
            ]
          },
          "metadata": {
            "tags": []
          },
          "execution_count": 68
        }
      ]
    },
    {
      "cell_type": "code",
      "metadata": {
        "colab": {
          "base_uri": "https://localhost:8080/"
        },
        "id": "Le7hl9Lio5J_",
        "outputId": "5c39387d-72a7-43e4-aed7-b45762d44f75"
      },
      "source": [
        "M_6= nup.array([[11,4],[5,5]])\r\n",
        "M_6 #matrix 2*2"
      ],
      "execution_count": null,
      "outputs": [
        {
          "output_type": "execute_result",
          "data": {
            "text/plain": [
              "array([[11,  4],\n",
              "       [ 5,  5]])"
            ]
          },
          "metadata": {
            "tags": []
          },
          "execution_count": 69
        }
      ]
    },
    {
      "cell_type": "code",
      "metadata": {
        "id": "9v1lwz1Xqnh-"
      },
      "source": [
        "def mul_matrix(X, Y):\r\n",
        "    M = [[0 for row in range(len(Y[0]))] for col in range(len(X))]\r\n",
        "    for i in range(len(X)):\r\n",
        "        for j in range(len(Y[0])):\r\n",
        "            for k in range(len(Y)):\r\n",
        "                M[i][j] += X[i][k]* Y[k][j]\r\n",
        "    m = nup.matrix(M)\r\n",
        "    return m      "
      ],
      "execution_count": null,
      "outputs": []
    },
    {
      "cell_type": "code",
      "metadata": {
        "colab": {
          "base_uri": "https://localhost:8080/"
        },
        "id": "6kwAM7g4rSDy",
        "outputId": "c218eeea-d50c-4690-f76f-71d317f000a7"
      },
      "source": [
        "mul_matrix(M_1,M_2)"
      ],
      "execution_count": null,
      "outputs": [
        {
          "output_type": "execute_result",
          "data": {
            "text/plain": [
              "matrix([[446, 180],\n",
              "        [505, 186]])"
            ]
          },
          "metadata": {
            "tags": []
          },
          "execution_count": 71
        }
      ]
    },
    {
      "cell_type": "code",
      "metadata": {
        "colab": {
          "base_uri": "https://localhost:8080/"
        },
        "id": "ZoOAPN7Wul-8",
        "outputId": "0e83fcca-cfa8-46fd-922f-c89f2d8e3689"
      },
      "source": [
        "mul_matrix(M_3,M_4)"
      ],
      "execution_count": null,
      "outputs": [
        {
          "output_type": "execute_result",
          "data": {
            "text/plain": [
              "matrix([[ 551],\n",
              "        [ 408],\n",
              "        [1376],\n",
              "        [ 928]])"
            ]
          },
          "metadata": {
            "tags": []
          },
          "execution_count": 72
        }
      ]
    },
    {
      "cell_type": "code",
      "metadata": {
        "colab": {
          "base_uri": "https://localhost:8080/"
        },
        "id": "dlDf_uNoul4f",
        "outputId": "ed9fc170-1623-453e-fdf1-c52995b67ba6"
      },
      "source": [
        "mul_matrix(M_5,M_6)"
      ],
      "execution_count": null,
      "outputs": [
        {
          "output_type": "execute_result",
          "data": {
            "text/plain": [
              "matrix([[ 68,  47],\n",
              "        [103,  47]])"
            ]
          },
          "metadata": {
            "tags": []
          },
          "execution_count": 73
        }
      ]
    },
    {
      "cell_type": "code",
      "metadata": {
        "id": "xdkpBU6HuqRn"
      },
      "source": [
        ""
      ],
      "execution_count": null,
      "outputs": []
    },
    {
      "cell_type": "markdown",
      "metadata": {
        "id": "U-v6nZZSS-t9"
      },
      "source": [
        "## zeros,ones,randon"
      ]
    },
    {
      "cell_type": "code",
      "metadata": {
        "id": "6VABtq70TGLC"
      },
      "source": [
        "import numpy as np #import numpy แล้วตั้งชื่อ np"
      ],
      "execution_count": 2,
      "outputs": []
    },
    {
      "cell_type": "code",
      "metadata": {
        "id": "dDj4MwczWHJ6",
        "outputId": "3e97a4a5-145d-4e27-c104-74f2d4386cb9",
        "colab": {
          "base_uri": "https://localhost:8080/"
        }
      },
      "source": [
        "np.zeros(2)\r\n"
      ],
      "execution_count": 3,
      "outputs": [
        {
          "output_type": "execute_result",
          "data": {
            "text/plain": [
              "array([0., 0.])"
            ]
          },
          "metadata": {
            "tags": []
          },
          "execution_count": 3
        }
      ]
    },
    {
      "cell_type": "code",
      "metadata": {
        "id": "U-vFE_WeWXhw",
        "outputId": "821c5d38-59bc-409e-8084-b3b058d05c51",
        "colab": {
          "base_uri": "https://localhost:8080/"
        }
      },
      "source": [
        "np.zeros((2,3))"
      ],
      "execution_count": 4,
      "outputs": [
        {
          "output_type": "execute_result",
          "data": {
            "text/plain": [
              "array([[0., 0., 0.],\n",
              "       [0., 0., 0.]])"
            ]
          },
          "metadata": {
            "tags": []
          },
          "execution_count": 4
        }
      ]
    },
    {
      "cell_type": "markdown",
      "metadata": {
        "id": "ePvzZ3LHXWPO"
      },
      "source": [
        "## ones"
      ]
    },
    {
      "cell_type": "code",
      "metadata": {
        "id": "-oL8CUg6WgAY",
        "outputId": "c7ad883f-12a3-49c8-c2e0-9ddd594d6c5b",
        "colab": {
          "base_uri": "https://localhost:8080/"
        }
      },
      "source": [
        "np.ones(2)"
      ],
      "execution_count": 5,
      "outputs": [
        {
          "output_type": "execute_result",
          "data": {
            "text/plain": [
              "array([1., 1.])"
            ]
          },
          "metadata": {
            "tags": []
          },
          "execution_count": 5
        }
      ]
    },
    {
      "cell_type": "code",
      "metadata": {
        "id": "KZTN7TbWXz4x",
        "outputId": "61d5521a-ca6b-4458-9539-ffbc6765d9ea",
        "colab": {
          "base_uri": "https://localhost:8080/"
        }
      },
      "source": [
        "np.ones((2,3))"
      ],
      "execution_count": 7,
      "outputs": [
        {
          "output_type": "execute_result",
          "data": {
            "text/plain": [
              "array([[1., 1., 1.],\n",
              "       [1., 1., 1.]])"
            ]
          },
          "metadata": {
            "tags": []
          },
          "execution_count": 7
        }
      ]
    },
    {
      "cell_type": "markdown",
      "metadata": {
        "id": "yUbRNhBZX7if"
      },
      "source": [
        "# Metrix Operation (scalar multiplication)"
      ]
    },
    {
      "cell_type": "code",
      "metadata": {
        "id": "9Mnih8fMX3HF"
      },
      "source": [
        "M_one = np.ones((2,3))"
      ],
      "execution_count": 8,
      "outputs": []
    },
    {
      "cell_type": "code",
      "metadata": {
        "id": "1wQVBuLYY2_6",
        "outputId": "9e5ca702-b26e-4405-d9ea-8c96e77add80",
        "colab": {
          "base_uri": "https://localhost:8080/"
        }
      },
      "source": [
        "2*M_one"
      ],
      "execution_count": 9,
      "outputs": [
        {
          "output_type": "execute_result",
          "data": {
            "text/plain": [
              "array([[2., 2., 2.],\n",
              "       [2., 2., 2.]])"
            ]
          },
          "metadata": {
            "tags": []
          },
          "execution_count": 9
        }
      ]
    },
    {
      "cell_type": "markdown",
      "metadata": {
        "id": "YGh3suwjZKH-"
      },
      "source": [
        "## random numpy"
      ]
    },
    {
      "cell_type": "code",
      "metadata": {
        "id": "fVQ1W6JNZ3Lb"
      },
      "source": [
        "import numpy as np"
      ],
      "execution_count": 11,
      "outputs": []
    },
    {
      "cell_type": "code",
      "metadata": {
        "id": "pulIq3JGY57a",
        "outputId": "1b63a015-efe5-431a-f2f2-4b945e5d63c6",
        "colab": {
          "base_uri": "https://localhost:8080/"
        }
      },
      "source": [
        "np.random.rand(3,2) #uniforn random [0,1)"
      ],
      "execution_count": 22,
      "outputs": [
        {
          "output_type": "execute_result",
          "data": {
            "text/plain": [
              "array([[0.70180615, 0.8793031 ],\n",
              "       [0.9545839 , 0.04417176],\n",
              "       [0.64739099, 0.39903737]])"
            ]
          },
          "metadata": {
            "tags": []
          },
          "execution_count": 22
        }
      ]
    },
    {
      "cell_type": "code",
      "metadata": {
        "id": "vXtCNrzXZzf4",
        "outputId": "42eecf7e-183d-4e28-eafa-647f7b0e5f4b",
        "colab": {
          "base_uri": "https://localhost:8080/"
        }
      },
      "source": [
        "np.random.rand(3,2,3)"
      ],
      "execution_count": 17,
      "outputs": [
        {
          "output_type": "execute_result",
          "data": {
            "text/plain": [
              "array([[[0.78689097, 0.4344601 , 0.50485377],\n",
              "        [0.03477925, 0.78531803, 0.98571263]],\n",
              "\n",
              "       [[0.88512995, 0.36485883, 0.20198271],\n",
              "        [0.19274327, 0.25421964, 0.87477429]],\n",
              "\n",
              "       [[0.04995257, 0.19884299, 0.06575976],\n",
              "        [0.36064537, 0.95500549, 0.44565841]]])"
            ]
          },
          "metadata": {
            "tags": []
          },
          "execution_count": 17
        }
      ]
    },
    {
      "cell_type": "code",
      "metadata": {
        "id": "WiY1X_YXaX8Q",
        "outputId": "34d9fa4a-f249-4790-e8f8-b2cadf1e7d0c",
        "colab": {
          "base_uri": "https://localhost:8080/"
        }
      },
      "source": [
        "np.random.randn(3,2) #random normal mean=0 var=1"
      ],
      "execution_count": 23,
      "outputs": [
        {
          "output_type": "execute_result",
          "data": {
            "text/plain": [
              "array([[ 0.36350269, -1.87653118],\n",
              "       [-0.15016655, -0.60711154],\n",
              "       [-1.44289512, -0.21968979]])"
            ]
          },
          "metadata": {
            "tags": []
          },
          "execution_count": 23
        }
      ]
    },
    {
      "cell_type": "code",
      "metadata": {
        "id": "RgROHMc6bvZD",
        "outputId": "b36c3ff4-63d6-4b06-cdb3-3954d1abc71b",
        "colab": {
          "base_uri": "https://localhost:8080/"
        }
      },
      "source": [
        " np.random.choice(5, 3)"
      ],
      "execution_count": 26,
      "outputs": [
        {
          "output_type": "execute_result",
          "data": {
            "text/plain": [
              "array([0, 0, 4])"
            ]
          },
          "metadata": {
            "tags": []
          },
          "execution_count": 26
        }
      ]
    },
    {
      "cell_type": "code",
      "metadata": {
        "id": "IQrkdnjUdPoX",
        "outputId": "9f5e2dc8-163c-4e24-eb24-a69493b99603",
        "colab": {
          "base_uri": "https://localhost:8080/",
          "height": 34
        }
      },
      "source": [
        " np.random.choice([1,2,3,'a','b'])"
      ],
      "execution_count": 28,
      "outputs": [
        {
          "output_type": "execute_result",
          "data": {
            "application/vnd.google.colaboratory.intrinsic+json": {
              "type": "string"
            },
            "text/plain": [
              "'b'"
            ]
          },
          "metadata": {
            "tags": []
          },
          "execution_count": 28
        }
      ]
    },
    {
      "cell_type": "code",
      "metadata": {
        "id": "JTv6eW6mdXNA",
        "outputId": "0f99a66a-4be3-4535-ae49-73119db5f912",
        "colab": {
          "base_uri": "https://localhost:8080/"
        }
      },
      "source": [
        " np.random.choice([1,2,3,4,5,6,7,8,9,0], size = (2,3) , replace=False)"
      ],
      "execution_count": 36,
      "outputs": [
        {
          "output_type": "execute_result",
          "data": {
            "text/plain": [
              "array([[8, 1, 2],\n",
              "       [3, 4, 7]])"
            ]
          },
          "metadata": {
            "tags": []
          },
          "execution_count": 36
        }
      ]
    },
    {
      "cell_type": "code",
      "metadata": {
        "id": "aHvoeWGfdsuF",
        "outputId": "c125ad29-aa10-427d-a629-ff9dad94d064",
        "colab": {
          "base_uri": "https://localhost:8080/"
        }
      },
      "source": [
        " np.random.choice(['A' , 'B' , 'C' , 'D' , 'F'], size=35, p = [0.1,0.2,0.4 ,0.29,0.01] )"
      ],
      "execution_count": 41,
      "outputs": [
        {
          "output_type": "execute_result",
          "data": {
            "text/plain": [
              "array(['A', 'B', 'C', 'D', 'D', 'C', 'C', 'D', 'C', 'C', 'C', 'C', 'A',\n",
              "       'C', 'D', 'C', 'C', 'C', 'A', 'C', 'B', 'C', 'D', 'C', 'C', 'D',\n",
              "       'C', 'C', 'C', 'B', 'C', 'D', 'B', 'D', 'C'], dtype='<U1')"
            ]
          },
          "metadata": {
            "tags": []
          },
          "execution_count": 41
        }
      ]
    },
    {
      "cell_type": "markdown",
      "metadata": {
        "id": "ewTL_n-cg1gy"
      },
      "source": [
        "## เฉลย HW Matrix Multiplication"
      ]
    },
    {
      "cell_type": "code",
      "metadata": {
        "id": "Nw37m1W_f6tz"
      },
      "source": [
        "def mat_mul(A,B) :\r\n",
        "  C = np.zeros((A.shape[0],B.shape[1]))#เตรียมขนาดของ matrix ผลลัพธ์\r\n",
        "  for r_a in range(A.shape[0]) :\r\n",
        "    for c_b in range(B.shape[1]) :\r\n",
        "      for every_element in range(A.shape[1]) :\r\n",
        "        C[r_a,c_b] = C[r_a,c_b] + (A[r_a,every_element] * B[every_element,c_b])\r\n",
        "  return C"
      ],
      "execution_count": 61,
      "outputs": []
    },
    {
      "cell_type": "code",
      "metadata": {
        "id": "mRNbl1ENiNHy"
      },
      "source": [
        "mat1= np.array([[1,2,3],[4,5,6]])\r\n",
        "mat2= np.array([[7,8],[9,10],[11,12]])"
      ],
      "execution_count": 59,
      "outputs": []
    },
    {
      "cell_type": "code",
      "metadata": {
        "id": "7FmLh3k_ixl-",
        "outputId": "07d4befa-79ab-4c47-8bec-c4908234fb88",
        "colab": {
          "base_uri": "https://localhost:8080/"
        }
      },
      "source": [
        "mat_mul(mat1,mat2)"
      ],
      "execution_count": 62,
      "outputs": [
        {
          "output_type": "execute_result",
          "data": {
            "text/plain": [
              "array([[ 58.,  64.],\n",
              "       [139., 154.]])"
            ]
          },
          "metadata": {
            "tags": []
          },
          "execution_count": 62
        }
      ]
    },
    {
      "cell_type": "markdown",
      "metadata": {
        "id": "Xl_NDG4mixXB"
      },
      "source": [
        ""
      ]
    }
  ]
}