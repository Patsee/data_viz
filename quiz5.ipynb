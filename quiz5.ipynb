{
  "nbformat": 4,
  "nbformat_minor": 0,
  "metadata": {
    "colab": {
      "name": "quiz5.ipynb",
      "provenance": [],
      "authorship_tag": "ABX9TyPe/ztMzYq2fSVimLl/hLuE",
      "include_colab_link": true
    },
    "kernelspec": {
      "name": "python3",
      "display_name": "Python 3"
    },
    "language_info": {
      "name": "python"
    }
  },
  "cells": [
    {
      "cell_type": "markdown",
      "metadata": {
        "id": "view-in-github",
        "colab_type": "text"
      },
      "source": [
        "<a href=\"https://colab.research.google.com/github/Patsee/data_viz/blob/main/quiz5.ipynb\" target=\"_parent\"><img src=\"https://colab.research.google.com/assets/colab-badge.svg\" alt=\"Open In Colab\"/></a>"
      ]
    },
    {
      "cell_type": "markdown",
      "metadata": {
        "id": "3Eb3KLX2zqmY"
      },
      "source": [
        "เปรียบเทียบผลรวม alpha \n",
        "\n"
      ]
    },
    {
      "cell_type": "code",
      "metadata": {
        "id": "N5VpS3BwunW5"
      },
      "source": [
        "import pandas as pd\n",
        "import os\n",
        "from datetime import datetime as dt\n",
        "from datetime import time"
      ],
      "execution_count": 13,
      "outputs": []
    },
    {
      "cell_type": "code",
      "metadata": {
        "colab": {
          "base_uri": "https://localhost:8080/"
        },
        "id": "LRIqdu2eu0fg",
        "outputId": "ffc80ad6-d84a-4337-d06f-967dbe4c81b2"
      },
      "source": [
        "from google.colab import  drive\n",
        "drive.mount('/content/drive')"
      ],
      "execution_count": 4,
      "outputs": [
        {
          "output_type": "stream",
          "text": [
            "Drive already mounted at /content/drive; to attempt to forcibly remount, call drive.mount(\"/content/drive\", force_remount=True).\n"
          ],
          "name": "stdout"
        }
      ]
    },
    {
      "cell_type": "code",
      "metadata": {
        "id": "JlyyEgXUu2Vn"
      },
      "source": [
        "import os \n",
        "path = '/content/drive/My Drive/dataviz_2021'"
      ],
      "execution_count": 5,
      "outputs": []
    },
    {
      "cell_type": "code",
      "metadata": {
        "id": "b3t2IX6m_Paf"
      },
      "source": [
        ""
      ],
      "execution_count": 5,
      "outputs": []
    },
    {
      "cell_type": "markdown",
      "metadata": {
        "id": "FQvktV_XGZpg"
      },
      "source": [
        "## Quiz5(2)"
      ]
    },
    {
      "cell_type": "code",
      "metadata": {
        "colab": {
          "base_uri": "https://localhost:8080/"
        },
        "id": "cMuS1hObGZYh",
        "outputId": "1851a7fb-e6b2-4e3d-c41b-917bb9945b4c"
      },
      "source": [
        "data_file_path1 = os.path.join(path,'search_request.csv')\n",
        "print(data_file_path1)"
      ],
      "execution_count": 6,
      "outputs": [
        {
          "output_type": "stream",
          "text": [
            "/content/drive/My Drive/dataviz_2021/search_request.csv\n"
          ],
          "name": "stdout"
        }
      ]
    },
    {
      "cell_type": "code",
      "metadata": {
        "id": "84ypppwkG74F",
        "colab": {
          "base_uri": "https://localhost:8080/",
          "height": 340
        },
        "outputId": "cc791d8a-d067-4c69-85e7-c7c4a1e0dd86"
      },
      "source": [
        "data = pd.read_csv(data_file_path1)\n",
        "data.head()"
      ],
      "execution_count": 7,
      "outputs": [
        {
          "output_type": "stream",
          "text": [
            "/usr/local/lib/python3.7/dist-packages/IPython/core/interactiveshell.py:2718: DtypeWarning: Columns (7,8,9) have mixed types.Specify dtype option on import or set low_memory=False.\n",
            "  interactivity=interactivity, compiler=compiler, result=result)\n"
          ],
          "name": "stderr"
        },
        {
          "output_type": "execute_result",
          "data": {
            "text/html": [
              "<div>\n",
              "<style scoped>\n",
              "    .dataframe tbody tr th:only-of-type {\n",
              "        vertical-align: middle;\n",
              "    }\n",
              "\n",
              "    .dataframe tbody tr th {\n",
              "        vertical-align: top;\n",
              "    }\n",
              "\n",
              "    .dataframe thead th {\n",
              "        text-align: right;\n",
              "    }\n",
              "</style>\n",
              "<table border=\"1\" class=\"dataframe\">\n",
              "  <thead>\n",
              "    <tr style=\"text-align: right;\">\n",
              "      <th></th>\n",
              "      <th>Unnamed: 0</th>\n",
              "      <th>search_id</th>\n",
              "      <th>search_timestamp</th>\n",
              "      <th>user_agent</th>\n",
              "      <th>q</th>\n",
              "      <th>user_id</th>\n",
              "      <th>session_id</th>\n",
              "      <th>number_of_result</th>\n",
              "      <th>lat</th>\n",
              "      <th>long</th>\n",
              "    </tr>\n",
              "  </thead>\n",
              "  <tbody>\n",
              "    <tr>\n",
              "      <th>0</th>\n",
              "      <td>0</td>\n",
              "      <td>683de889-f923-494e-9d46-44a3d67b7259</td>\n",
              "      <td>2018-06-14 12:34:35.449</td>\n",
              "      <td>Wongnai/8.17.3 rv:8.17.3.3921 (iPhone5,4; iOS;...</td>\n",
              "      <td>NaN</td>\n",
              "      <td>NaN</td>\n",
              "      <td>5lqjjikta19d296mo7g2h1k86p</td>\n",
              "      <td>18</td>\n",
              "      <td>12.6347</td>\n",
              "      <td>101.463</td>\n",
              "    </tr>\n",
              "    <tr>\n",
              "      <th>1</th>\n",
              "      <td>1</td>\n",
              "      <td>4a811230-ffa4-4631-a4c8-5d0394137d02</td>\n",
              "      <td>2018-06-14 17:11:19.469</td>\n",
              "      <td>Mozilla/5.0 (iPhone; CPU iPhone OS 11_4 like M...</td>\n",
              "      <td>NaN</td>\n",
              "      <td>NaN</td>\n",
              "      <td>1r3iotmp0o9slom91stdt9vivc</td>\n",
              "      <td>10</td>\n",
              "      <td>14.8009</td>\n",
              "      <td>102.534</td>\n",
              "    </tr>\n",
              "    <tr>\n",
              "      <th>2</th>\n",
              "      <td>2</td>\n",
              "      <td>7ad6ee8e-438e-4bea-9183-74dcef9e358e</td>\n",
              "      <td>2018-06-14 13:22:31.736</td>\n",
              "      <td>Mozilla/5.0 (Linux; Android 7.0; SAMSUNG SM-J7...</td>\n",
              "      <td>NaN</td>\n",
              "      <td>NaN</td>\n",
              "      <td>5ci1eo4v5u9dha4ppgu94ue7p6</td>\n",
              "      <td>8</td>\n",
              "      <td>13.7383</td>\n",
              "      <td>100.371</td>\n",
              "    </tr>\n",
              "    <tr>\n",
              "      <th>3</th>\n",
              "      <td>3</td>\n",
              "      <td>0c17a5f5-fa89-40f4-ae94-a8659268f827</td>\n",
              "      <td>2018-06-02 12:37:27.331</td>\n",
              "      <td>Mozilla/5.0 (Linux; Android 7.1.1; SM-N950F Bu...</td>\n",
              "      <td>NaN</td>\n",
              "      <td>NaN</td>\n",
              "      <td>39n535qgje9kpojp0grhfj8umk</td>\n",
              "      <td>12</td>\n",
              "      <td>12.6669</td>\n",
              "      <td>101.861</td>\n",
              "    </tr>\n",
              "    <tr>\n",
              "      <th>4</th>\n",
              "      <td>4</td>\n",
              "      <td>6870dc3a-5602-44fc-80ed-df0a7783df9d</td>\n",
              "      <td>2018-06-02 11:19:22.404</td>\n",
              "      <td>Mozilla/5.0 (iPhone; CPU iPhone OS 11_3_1 like...</td>\n",
              "      <td>NaN</td>\n",
              "      <td>NaN</td>\n",
              "      <td>5pa03h6lj691to60erver1l8o4</td>\n",
              "      <td>14</td>\n",
              "      <td>12.2372</td>\n",
              "      <td>99.88</td>\n",
              "    </tr>\n",
              "  </tbody>\n",
              "</table>\n",
              "</div>"
            ],
            "text/plain": [
              "   Unnamed: 0                             search_id  ...      lat     long\n",
              "0           0  683de889-f923-494e-9d46-44a3d67b7259  ...  12.6347  101.463\n",
              "1           1  4a811230-ffa4-4631-a4c8-5d0394137d02  ...  14.8009  102.534\n",
              "2           2  7ad6ee8e-438e-4bea-9183-74dcef9e358e  ...  13.7383  100.371\n",
              "3           3  0c17a5f5-fa89-40f4-ae94-a8659268f827  ...  12.6669  101.861\n",
              "4           4  6870dc3a-5602-44fc-80ed-df0a7783df9d  ...  12.2372    99.88\n",
              "\n",
              "[5 rows x 10 columns]"
            ]
          },
          "metadata": {
            "tags": []
          },
          "execution_count": 7
        }
      ]
    },
    {
      "cell_type": "code",
      "metadata": {
        "id": "zFKnuZMFHF-E",
        "colab": {
          "base_uri": "https://localhost:8080/"
        },
        "outputId": "b40860d0-4851-46a5-c16f-f239b5b93981"
      },
      "source": [
        "data.isnull().any()"
      ],
      "execution_count": 8,
      "outputs": [
        {
          "output_type": "execute_result",
          "data": {
            "text/plain": [
              "Unnamed: 0          False\n",
              "search_id           False\n",
              "search_timestamp    False\n",
              "user_agent          False\n",
              "q                    True\n",
              "user_id              True\n",
              "session_id          False\n",
              "number_of_result    False\n",
              "lat                  True\n",
              "long                 True\n",
              "dtype: bool"
            ]
          },
          "metadata": {
            "tags": []
          },
          "execution_count": 8
        }
      ]
    },
    {
      "cell_type": "code",
      "metadata": {
        "id": "DxjFckszIVt9"
      },
      "source": [
        "data['search_timestamp']  = pd.to_datetime(data['search_timestamp'],format='%Y-%m-%d %H:%M:%S',errors='coerce')"
      ],
      "execution_count": 9,
      "outputs": []
    },
    {
      "cell_type": "code",
      "metadata": {
        "id": "VL3zRoXw0ue1",
        "outputId": "147ebed9-b829-4835-d9cc-c7a98cd9ffbd",
        "colab": {
          "base_uri": "https://localhost:8080/",
          "height": 776
        }
      },
      "source": [
        "data[data['search_timestamp'].dt.dayofweek == 3]\n"
      ],
      "execution_count": 10,
      "outputs": [
        {
          "output_type": "execute_result",
          "data": {
            "text/html": [
              "<div>\n",
              "<style scoped>\n",
              "    .dataframe tbody tr th:only-of-type {\n",
              "        vertical-align: middle;\n",
              "    }\n",
              "\n",
              "    .dataframe tbody tr th {\n",
              "        vertical-align: top;\n",
              "    }\n",
              "\n",
              "    .dataframe thead th {\n",
              "        text-align: right;\n",
              "    }\n",
              "</style>\n",
              "<table border=\"1\" class=\"dataframe\">\n",
              "  <thead>\n",
              "    <tr style=\"text-align: right;\">\n",
              "      <th></th>\n",
              "      <th>Unnamed: 0</th>\n",
              "      <th>search_id</th>\n",
              "      <th>search_timestamp</th>\n",
              "      <th>user_agent</th>\n",
              "      <th>q</th>\n",
              "      <th>user_id</th>\n",
              "      <th>session_id</th>\n",
              "      <th>number_of_result</th>\n",
              "      <th>lat</th>\n",
              "      <th>long</th>\n",
              "    </tr>\n",
              "  </thead>\n",
              "  <tbody>\n",
              "    <tr>\n",
              "      <th>0</th>\n",
              "      <td>0</td>\n",
              "      <td>683de889-f923-494e-9d46-44a3d67b7259</td>\n",
              "      <td>2018-06-14 12:34:35.449</td>\n",
              "      <td>Wongnai/8.17.3 rv:8.17.3.3921 (iPhone5,4; iOS;...</td>\n",
              "      <td>NaN</td>\n",
              "      <td>NaN</td>\n",
              "      <td>5lqjjikta19d296mo7g2h1k86p</td>\n",
              "      <td>18</td>\n",
              "      <td>12.6347</td>\n",
              "      <td>101.463</td>\n",
              "    </tr>\n",
              "    <tr>\n",
              "      <th>1</th>\n",
              "      <td>1</td>\n",
              "      <td>4a811230-ffa4-4631-a4c8-5d0394137d02</td>\n",
              "      <td>2018-06-14 17:11:19.469</td>\n",
              "      <td>Mozilla/5.0 (iPhone; CPU iPhone OS 11_4 like M...</td>\n",
              "      <td>NaN</td>\n",
              "      <td>NaN</td>\n",
              "      <td>1r3iotmp0o9slom91stdt9vivc</td>\n",
              "      <td>10</td>\n",
              "      <td>14.8009</td>\n",
              "      <td>102.534</td>\n",
              "    </tr>\n",
              "    <tr>\n",
              "      <th>2</th>\n",
              "      <td>2</td>\n",
              "      <td>7ad6ee8e-438e-4bea-9183-74dcef9e358e</td>\n",
              "      <td>2018-06-14 13:22:31.736</td>\n",
              "      <td>Mozilla/5.0 (Linux; Android 7.0; SAMSUNG SM-J7...</td>\n",
              "      <td>NaN</td>\n",
              "      <td>NaN</td>\n",
              "      <td>5ci1eo4v5u9dha4ppgu94ue7p6</td>\n",
              "      <td>8</td>\n",
              "      <td>13.7383</td>\n",
              "      <td>100.371</td>\n",
              "    </tr>\n",
              "    <tr>\n",
              "      <th>253</th>\n",
              "      <td>253</td>\n",
              "      <td>5e8ef1b0-6df6-4140-a867-91c8aa1d9c7c</td>\n",
              "      <td>2018-06-07 14:44:39.540</td>\n",
              "      <td>Wongnai/8.17.3 rv:8.17.3.3921 (iPhone10,5; iOS...</td>\n",
              "      <td>NaN</td>\n",
              "      <td>NaN</td>\n",
              "      <td>427c2l8oeg8n4buet1ft9cv8s2</td>\n",
              "      <td>16</td>\n",
              "      <td>12.6087</td>\n",
              "      <td>102.118</td>\n",
              "    </tr>\n",
              "    <tr>\n",
              "      <th>254</th>\n",
              "      <td>254</td>\n",
              "      <td>9acce958-a6e5-4ba0-8a2b-92d453abe495</td>\n",
              "      <td>2018-06-07 13:00:09.445</td>\n",
              "      <td>Wongnai/8.17.3 rv:8.17.3.3921 (iPhone10,6; iOS...</td>\n",
              "      <td>ครัวป้าแดง</td>\n",
              "      <td>55426.0</td>\n",
              "      <td>3ulb1j4uqb9ot8vv48p4ii7393</td>\n",
              "      <td>8</td>\n",
              "      <td>13.7594</td>\n",
              "      <td>100.503</td>\n",
              "    </tr>\n",
              "    <tr>\n",
              "      <th>...</th>\n",
              "      <td>...</td>\n",
              "      <td>...</td>\n",
              "      <td>...</td>\n",
              "      <td>...</td>\n",
              "      <td>...</td>\n",
              "      <td>...</td>\n",
              "      <td>...</td>\n",
              "      <td>...</td>\n",
              "      <td>...</td>\n",
              "      <td>...</td>\n",
              "    </tr>\n",
              "    <tr>\n",
              "      <th>10004269</th>\n",
              "      <td>10005142</td>\n",
              "      <td>9b2250fd-a462-4820-b604-b2d585b9a537</td>\n",
              "      <td>2018-06-28 15:08:56.119</td>\n",
              "      <td>okhttp/3.9.0;WongnaiAndroid 8.16.7.1;HUAWEI;FL...</td>\n",
              "      <td>NaN</td>\n",
              "      <td>85448.0</td>\n",
              "      <td>263hboachf90k8eln2pgp3072o</td>\n",
              "      <td>22</td>\n",
              "      <td>NaN</td>\n",
              "      <td>NaN</td>\n",
              "    </tr>\n",
              "    <tr>\n",
              "      <th>10004270</th>\n",
              "      <td>10005143</td>\n",
              "      <td>6fff09ba-f16a-4510-bd26-97183f9f7bde</td>\n",
              "      <td>2018-06-28 18:31:31.485</td>\n",
              "      <td>okhttp/3.9.0;WongnaiAndroid 8.16.7.1;HUAWEI;FL...</td>\n",
              "      <td>NaN</td>\n",
              "      <td>147494.0</td>\n",
              "      <td>3u2rt9lg1l8okrm78hveqfvq5n</td>\n",
              "      <td>22</td>\n",
              "      <td>NaN</td>\n",
              "      <td>NaN</td>\n",
              "    </tr>\n",
              "    <tr>\n",
              "      <th>10004271</th>\n",
              "      <td>10005144</td>\n",
              "      <td>5cb2fbb7-2a48-400e-8324-04cc7c302a30</td>\n",
              "      <td>2018-06-28 13:57:54.451</td>\n",
              "      <td>okhttp/3.9.0;WongnaiAndroid 8.16.7.1;HUAWEI;FL...</td>\n",
              "      <td>NaN</td>\n",
              "      <td>NaN</td>\n",
              "      <td>6t65kapc958idqqfi7h3csikp7</td>\n",
              "      <td>22</td>\n",
              "      <td>NaN</td>\n",
              "      <td>NaN</td>\n",
              "    </tr>\n",
              "    <tr>\n",
              "      <th>10004284</th>\n",
              "      <td>10005157</td>\n",
              "      <td>94c27eb4-6909-4511-a560-cfd1425a6cbb</td>\n",
              "      <td>2018-06-21 13:18:45.515</td>\n",
              "      <td>okhttp/3.9.0;WongnaiAndroid 8.16.6;HUAWEI;BLL-L22</td>\n",
              "      <td>NaN</td>\n",
              "      <td>126976.0</td>\n",
              "      <td>52c74tssq8u693i4lsq03djno</td>\n",
              "      <td>22</td>\n",
              "      <td>NaN</td>\n",
              "      <td>NaN</td>\n",
              "    </tr>\n",
              "    <tr>\n",
              "      <th>10004285</th>\n",
              "      <td>10005158</td>\n",
              "      <td>26130c30-c529-48bf-8430-a26e28afbcfd</td>\n",
              "      <td>2018-06-21 13:18:14.611</td>\n",
              "      <td>okhttp/3.9.0;WongnaiAndroid 8.16.6;HUAWEI;BLL-L22</td>\n",
              "      <td>NaN</td>\n",
              "      <td>126976.0</td>\n",
              "      <td>52c74tssq8u693i4lsq03djno</td>\n",
              "      <td>22</td>\n",
              "      <td>NaN</td>\n",
              "      <td>NaN</td>\n",
              "    </tr>\n",
              "  </tbody>\n",
              "</table>\n",
              "<p>1087060 rows × 10 columns</p>\n",
              "</div>"
            ],
            "text/plain": [
              "          Unnamed: 0                             search_id  ...      lat     long\n",
              "0                  0  683de889-f923-494e-9d46-44a3d67b7259  ...  12.6347  101.463\n",
              "1                  1  4a811230-ffa4-4631-a4c8-5d0394137d02  ...  14.8009  102.534\n",
              "2                  2  7ad6ee8e-438e-4bea-9183-74dcef9e358e  ...  13.7383  100.371\n",
              "253              253  5e8ef1b0-6df6-4140-a867-91c8aa1d9c7c  ...  12.6087  102.118\n",
              "254              254  9acce958-a6e5-4ba0-8a2b-92d453abe495  ...  13.7594  100.503\n",
              "...              ...                                   ...  ...      ...      ...\n",
              "10004269    10005142  9b2250fd-a462-4820-b604-b2d585b9a537  ...      NaN      NaN\n",
              "10004270    10005143  6fff09ba-f16a-4510-bd26-97183f9f7bde  ...      NaN      NaN\n",
              "10004271    10005144  5cb2fbb7-2a48-400e-8324-04cc7c302a30  ...      NaN      NaN\n",
              "10004284    10005157  94c27eb4-6909-4511-a560-cfd1425a6cbb  ...      NaN      NaN\n",
              "10004285    10005158  26130c30-c529-48bf-8430-a26e28afbcfd  ...      NaN      NaN\n",
              "\n",
              "[1087060 rows x 10 columns]"
            ]
          },
          "metadata": {
            "tags": []
          },
          "execution_count": 10
        }
      ]
    },
    {
      "cell_type": "code",
      "metadata": {
        "id": "y3BbvM1N1pIA",
        "outputId": "edcc2bf9-532b-4d79-cb55-e58c5947ecdb",
        "colab": {
          "base_uri": "https://localhost:8080/"
        }
      },
      "source": [
        "A = data[data['search_timestamp'].dt.time < time(hour=12)]\n",
        "A = A[A['search_timestamp'].dt.time >= time(hour=11)]\n",
        "A = A.iloc[:,2].count()\n",
        "A"
      ],
      "execution_count": 14,
      "outputs": [
        {
          "output_type": "execute_result",
          "data": {
            "text/plain": [
              "738397"
            ]
          },
          "metadata": {
            "tags": []
          },
          "execution_count": 14
        }
      ]
    },
    {
      "cell_type": "code",
      "metadata": {
        "id": "BHSyNhyF1pFo",
        "outputId": "2d1f0139-66ea-4b4c-e9ac-07d4cfa53c3a",
        "colab": {
          "base_uri": "https://localhost:8080/"
        }
      },
      "source": [
        "B = data[data['search_timestamp'].dt.time >= time(hour=23)]\n",
        "B = B.iloc[:,2].count()\n",
        "B"
      ],
      "execution_count": 15,
      "outputs": [
        {
          "output_type": "execute_result",
          "data": {
            "text/plain": [
              "278510"
            ]
          },
          "metadata": {
            "tags": []
          },
          "execution_count": 15
        }
      ]
    },
    {
      "cell_type": "code",
      "metadata": {
        "id": "zwlt5K4i1pDM"
      },
      "source": [
        "if A > B:\n",
        "   word = 'มากกว่า'\n",
        "elif A < B:\n",
        "    word = 'น้อยกว่า'\n",
        "else:\n",
        "   word = 'เท่ากับ'"
      ],
      "execution_count": 16,
      "outputs": []
    },
    {
      "cell_type": "code",
      "metadata": {
        "id": "BDC6wvGQ1pAF",
        "outputId": "ba67bf24-3d38-44d8-bcd0-56118a4715e7",
        "colab": {
          "base_uri": "https://localhost:8080/"
        }
      },
      "source": [
        "print(f'ช่วงเวลา 11.00 ถึง 12.00น. จะมีจำนวนการค้นหาร้านอาหารเท่ากับ {A} ซึ่ง{word} ช่วงเวลา 23.00 ถึง 0.00น. ที่มีจำนวนการค้นหาร้านอาหารเท่ากับ {B}  ซึ่งต่างกันเท่ากับ {A-B} ครั้ง')"
      ],
      "execution_count": 17,
      "outputs": [
        {
          "output_type": "stream",
          "text": [
            "ช่วงเวลา 11.00 ถึง 12.00น. จะมีจำนวนการค้นหาร้านอาหารเท่ากับ 738397 ซึ่งมากกว่า ช่วงเวลา 23.00 ถึง 0.00น. ที่มีจำนวนการค้นหาร้านอาหารเท่ากับ 278510  ซึ่งต่างกันเท่ากับ 459887 ครั้ง\n"
          ],
          "name": "stdout"
        }
      ]
    },
    {
      "cell_type": "code",
      "metadata": {
        "id": "aevJ72tL_NN5",
        "outputId": "329e0723-412c-4ece-cec2-2c1b53c10bbb",
        "colab": {
          "base_uri": "https://localhost:8080/"
        }
      },
      "source": [
        "print(f'ช่วงเวลา 11.00 ถึง 12.00น. จะมีจำนวนการค้นหาร้านอาหารเท่ากับ {A} ซึ่ง{\"มากกว่า\" if A > B  else \"น้อยกว่า\"} ช่วงเวลา 23.00 ถึง 0.00น. ที่มีจำนวนการค้นหาร้านอาหารเท่ากับ {B}  ซึ่งต่างกันเท่ากับ {A-B} ครั้ง')"
      ],
      "execution_count": 18,
      "outputs": [
        {
          "output_type": "stream",
          "text": [
            "ช่วงเวลา 11.00 ถึง 12.00น. จะมีจำนวนการค้นหาร้านอาหารเท่ากับ 738397 ซึ่งมากกว่า ช่วงเวลา 23.00 ถึง 0.00น. ที่มีจำนวนการค้นหาร้านอาหารเท่ากับ 278510  ซึ่งต่างกันเท่ากับ 459887 ครั้ง\n"
          ],
          "name": "stdout"
        }
      ]
    },
    {
      "cell_type": "code",
      "metadata": {
        "id": "4WJeZpUD_NLN",
        "outputId": "d2a627bb-b5eb-41ee-8e7e-1d4b69e79745",
        "colab": {
          "base_uri": "https://localhost:8080/"
        }
      },
      "source": [
        "#วันจันทร์-พฤหัส\n",
        "day_work = data[data['search_timestamp'].dt.dayofweek <= 3] \n",
        "day_work = day_work.iloc[:,2].count()\n",
        "day_work"
      ],
      "execution_count": 19,
      "outputs": [
        {
          "output_type": "execute_result",
          "data": {
            "text/plain": [
              "4220697"
            ]
          },
          "metadata": {
            "tags": []
          },
          "execution_count": 19
        }
      ]
    },
    {
      "cell_type": "code",
      "metadata": {
        "id": "QIAoa3qY_NIv",
        "outputId": "764db3da-2832-4ab6-8985-f3bbe2650e80",
        "colab": {
          "base_uri": "https://localhost:8080/"
        }
      },
      "source": [
        "#ศุกร์-อาทิตย์\n",
        "day_holiday = data[data['search_timestamp'].dt.dayofweek >= 4] \n",
        "day_holiday = day_holiday.iloc[:,2].count()\n",
        "day_holiday"
      ],
      "execution_count": 20,
      "outputs": [
        {
          "output_type": "execute_result",
          "data": {
            "text/plain": [
              "5783659"
            ]
          },
          "metadata": {
            "tags": []
          },
          "execution_count": 20
        }
      ]
    },
    {
      "cell_type": "code",
      "metadata": {
        "id": "0Qxl_384_NF_",
        "outputId": "b45ebb42-f537-4ab0-8bac-fcc88a76a301",
        "colab": {
          "base_uri": "https://localhost:8080/"
        }
      },
      "source": [
        "print(f'วันจันทร์-พฤหัสบดี มีจำนวนการค้นหาร้านอาหาร {day_work} ซึ่ง{\"มากกว่า\" if day_work > day_holiday  else \"น้อยกว่า\"}วันศุกร์-อาทิตย์ที่มีจำนวนการค้นหาร้านอาหารเท่ากับ {day_holiday}  ซึ่งแตกต่างกัน{day_holiday-day_work} ครั้ง')"
      ],
      "execution_count": 21,
      "outputs": [
        {
          "output_type": "stream",
          "text": [
            "วันจันทร์-พฤหัสบดี มีจำนวนการค้นหาร้านอาหาร 4220697 ซึ่งน้อยกว่าวันศุกร์-อาทิตย์ที่มีจำนวนการค้นหาร้านอาหารเท่ากับ 5783659  ซึ่งแตกต่างกัน1562962 ครั้ง\n"
          ],
          "name": "stdout"
        }
      ]
    },
    {
      "cell_type": "code",
      "metadata": {
        "id": "nK4b1XeK_NDS"
      },
      "source": [
        ""
      ],
      "execution_count": null,
      "outputs": []
    }
  ]
}