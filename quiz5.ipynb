{
  "nbformat": 4,
  "nbformat_minor": 0,
  "metadata": {
    "colab": {
      "name": "quiz5.ipynb",
      "provenance": [],
      "authorship_tag": "ABX9TyNh3IVKKoC6I04/FbR3QSEq",
      "include_colab_link": true
    },
    "kernelspec": {
      "name": "python3",
      "display_name": "Python 3"
    },
    "language_info": {
      "name": "python"
    }
  },
  "cells": [
    {
      "cell_type": "markdown",
      "metadata": {
        "id": "view-in-github",
        "colab_type": "text"
      },
      "source": [
        "<a href=\"https://colab.research.google.com/github/Patsee/data_viz/blob/main/quiz5.ipynb\" target=\"_parent\"><img src=\"https://colab.research.google.com/assets/colab-badge.svg\" alt=\"Open In Colab\"/></a>"
      ]
    },
    {
      "cell_type": "markdown",
      "metadata": {
        "id": "3Eb3KLX2zqmY"
      },
      "source": [
        "เปรียบเทียบผลรวม alpha \n",
        "\n"
      ]
    },
    {
      "cell_type": "code",
      "metadata": {
        "id": "N5VpS3BwunW5"
      },
      "source": [
        "import pandas as pd"
      ],
      "execution_count": 1,
      "outputs": []
    },
    {
      "cell_type": "code",
      "metadata": {
        "colab": {
          "base_uri": "https://localhost:8080/"
        },
        "id": "LRIqdu2eu0fg",
        "outputId": "bd294335-0c44-47a8-e1e6-513671890017"
      },
      "source": [
        "from google.colab import  drive\n",
        "drive.mount('/content/drive')"
      ],
      "execution_count": 2,
      "outputs": [
        {
          "output_type": "stream",
          "text": [
            "Mounted at /content/drive\n"
          ],
          "name": "stdout"
        }
      ]
    },
    {
      "cell_type": "code",
      "metadata": {
        "id": "JlyyEgXUu2Vn"
      },
      "source": [
        "import os \n",
        "path = '/content/drive/My Drive/dataviz_2021'"
      ],
      "execution_count": 3,
      "outputs": []
    },
    {
      "cell_type": "code",
      "metadata": {
        "colab": {
          "base_uri": "https://localhost:8080/"
        },
        "id": "e3hLi-ENvVUQ",
        "outputId": "75d3fdd0-5891-4798-b66c-cf59d17ede8d"
      },
      "source": [
        "data_file_path = os.path.join(path,'example_timestamp.csv')\n",
        "print(data_file_path)"
      ],
      "execution_count": 16,
      "outputs": [
        {
          "output_type": "stream",
          "text": [
            "/content/drive/My Drive/dataviz_2021/example_timestamp.csv\n"
          ],
          "name": "stdout"
        }
      ]
    },
    {
      "cell_type": "code",
      "metadata": {
        "colab": {
          "base_uri": "https://localhost:8080/",
          "height": 266
        },
        "id": "QDLrE1CzvA1W",
        "outputId": "ccd63ed3-ee51-4541-b9e8-db751f523318"
      },
      "source": [
        "data = pd.read_csv(data_file_path)\n",
        "data"
      ],
      "execution_count": 20,
      "outputs": [
        {
          "output_type": "execute_result",
          "data": {
            "text/html": [
              "<div>\n",
              "<style scoped>\n",
              "    .dataframe tbody tr th:only-of-type {\n",
              "        vertical-align: middle;\n",
              "    }\n",
              "\n",
              "    .dataframe tbody tr th {\n",
              "        vertical-align: top;\n",
              "    }\n",
              "\n",
              "    .dataframe thead th {\n",
              "        text-align: right;\n",
              "    }\n",
              "</style>\n",
              "<table border=\"1\" class=\"dataframe\">\n",
              "  <thead>\n",
              "    <tr style=\"text-align: right;\">\n",
              "      <th></th>\n",
              "      <th>Unnamed: 0</th>\n",
              "      <th>alpha</th>\n",
              "      <th>beta</th>\n",
              "    </tr>\n",
              "  </thead>\n",
              "  <tbody>\n",
              "    <tr>\n",
              "      <th>0</th>\n",
              "      <td>2020-05-29</td>\n",
              "      <td>8.78</td>\n",
              "      <td>24</td>\n",
              "    </tr>\n",
              "    <tr>\n",
              "      <th>1</th>\n",
              "      <td>2020-05-30</td>\n",
              "      <td>13.00</td>\n",
              "      <td>25</td>\n",
              "    </tr>\n",
              "    <tr>\n",
              "      <th>2</th>\n",
              "      <td>2020-05-31</td>\n",
              "      <td>0.44</td>\n",
              "      <td>25</td>\n",
              "    </tr>\n",
              "    <tr>\n",
              "      <th>3</th>\n",
              "      <td>2020-06-01</td>\n",
              "      <td>1.94</td>\n",
              "      <td>28</td>\n",
              "    </tr>\n",
              "    <tr>\n",
              "      <th>4</th>\n",
              "      <td>2020-06-02</td>\n",
              "      <td>5.40</td>\n",
              "      <td>20</td>\n",
              "    </tr>\n",
              "    <tr>\n",
              "      <th>5</th>\n",
              "      <td>2020-06-03</td>\n",
              "      <td>5.68</td>\n",
              "      <td>21</td>\n",
              "    </tr>\n",
              "    <tr>\n",
              "      <th>6</th>\n",
              "      <td>2020-06-04</td>\n",
              "      <td>2.64</td>\n",
              "      <td>16</td>\n",
              "    </tr>\n",
              "  </tbody>\n",
              "</table>\n",
              "</div>"
            ],
            "text/plain": [
              "   Unnamed: 0  alpha  beta\n",
              "0  2020-05-29   8.78    24\n",
              "1  2020-05-30  13.00    25\n",
              "2  2020-05-31   0.44    25\n",
              "3  2020-06-01   1.94    28\n",
              "4  2020-06-02   5.40    20\n",
              "5  2020-06-03   5.68    21\n",
              "6  2020-06-04   2.64    16"
            ]
          },
          "metadata": {
            "tags": []
          },
          "execution_count": 20
        }
      ]
    },
    {
      "cell_type": "code",
      "metadata": {
        "colab": {
          "base_uri": "https://localhost:8080/"
        },
        "id": "LiV2udDh-Bo-",
        "outputId": "4422e178-69fb-439e-854a-34fab28cd23f"
      },
      "source": [
        "data_a = data['beta']\n",
        "a = 24 ,25,25,28\n",
        "a1 = 20,21,16\n",
        "data_a"
      ],
      "execution_count": 36,
      "outputs": [
        {
          "output_type": "execute_result",
          "data": {
            "text/plain": [
              "0    24\n",
              "1    25\n",
              "2    25\n",
              "3    28\n",
              "4    20\n",
              "5    21\n",
              "6    16\n",
              "Name: beta, dtype: int64"
            ]
          },
          "metadata": {
            "tags": []
          },
          "execution_count": 36
        }
      ]
    },
    {
      "cell_type": "code",
      "metadata": {
        "colab": {
          "base_uri": "https://localhost:8080/"
        },
        "id": "Xzrb5Hxe9Rn5",
        "outputId": "d9ba670c-b3b2-4eb3-c540-ed6395064579"
      },
      "source": [
        "data_b = data['alpha']\n",
        "data_b"
      ],
      "execution_count": 31,
      "outputs": [
        {
          "output_type": "execute_result",
          "data": {
            "text/plain": [
              "0     8.78\n",
              "1    13.00\n",
              "2     0.44\n",
              "3     1.94\n",
              "4     5.40\n",
              "5     5.68\n",
              "6     2.64\n",
              "Name: alpha, dtype: float64"
            ]
          },
          "metadata": {
            "tags": []
          },
          "execution_count": 31
        }
      ]
    },
    {
      "cell_type": "code",
      "metadata": {
        "colab": {
          "base_uri": "https://localhost:8080/"
        },
        "id": "bfoUtalo8p-M",
        "outputId": "9c079fa9-1619-4c73-9472-e5076c693348"
      },
      "source": [
        "alpha_b1 = sum(a)\n",
        "print(f' ค่าเฉลี่ยก่อน {alpha_b1}') "
      ],
      "execution_count": 41,
      "outputs": [
        {
          "output_type": "stream",
          "text": [
            " ค่าเฉลี่ยก่อน 102\n"
          ],
          "name": "stdout"
        }
      ]
    },
    {
      "cell_type": "code",
      "metadata": {
        "colab": {
          "base_uri": "https://localhost:8080/"
        },
        "id": "aTx5ywnH-wIB",
        "outputId": "e3924a90-3a15-4482-9df1-76c15941ca2a"
      },
      "source": [
        "alpha_b2 = sum(a1)\n",
        "print(f' ค่าเฉลี่ยหลัง {alpha_b2}') "
      ],
      "execution_count": 43,
      "outputs": [
        {
          "output_type": "stream",
          "text": [
            " ค่าเฉลี่ยหลัง 57\n"
          ],
          "name": "stdout"
        }
      ]
    },
    {
      "cell_type": "code",
      "metadata": {
        "id": "b3t2IX6m_Paf"
      },
      "source": [
        ""
      ],
      "execution_count": null,
      "outputs": []
    }
  ]
}